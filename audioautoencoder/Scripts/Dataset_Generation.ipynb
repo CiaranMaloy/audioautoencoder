{
  "cells": [
    {
      "cell_type": "markdown",
      "metadata": {
        "id": "hhjeAiJRqaTA"
      },
      "source": [
        "# Dataset Generation"
      ]
    },
    {
      "cell_type": "markdown",
      "source": [
        "## Notes:\n",
        "1. Right now the data generation makes and saves all the features, this is not necessary all the time... and will probably take more time overall\n",
        "2. So what I should do is have a dictionary where I choose the features to generate, so that when I need them they exist"
      ],
      "metadata": {
        "id": "u9ebzoWd5jyX"
      }
    },
    {
      "cell_type": "code",
      "execution_count": 1,
      "metadata": {
        "colab": {
          "base_uri": "https://localhost:8080/"
        },
        "id": "j2uW1R-NqaTB",
        "outputId": "65d0b825-1a15-447e-8423-2b1b08125bf5"
      },
      "outputs": [
        {
          "output_type": "stream",
          "name": "stdout",
          "text": [
            "Drive already mounted at /content/drive; to attempt to forcibly remount, call drive.mount(\"/content/drive\", force_remount=True).\n"
          ]
        }
      ],
      "source": [
        "import sys\n",
        "import os\n",
        "\n",
        "# Detect Google Colab\n",
        "if \"google.colab\" in sys.modules:\n",
        "  from google.colab import drive\n",
        "  drive.mount('/content/drive')"
      ]
    },
    {
      "cell_type": "code",
      "execution_count": 2,
      "metadata": {
        "colab": {
          "base_uri": "https://localhost:8080/"
        },
        "id": "K9ohND2-qaTC",
        "outputId": "82cfc26a-c93a-4123-ef4a-c05faccdb412"
      },
      "outputs": [
        {
          "output_type": "stream",
          "name": "stdout",
          "text": [
            "Running in Google Colab...\n"
          ]
        }
      ],
      "source": [
        "# Detect Google Colab\n",
        "if \"google.colab\" in sys.modules:\n",
        "    print(\"Running in Google Colab...\")\n",
        "    os.system(\"git clone https://github.com/CiaranMaloy/audioautoencoder\")\n",
        "    os.chdir(\"/content/audioautoencoder/\")\n",
        "    os.system(\"git pull\")\n",
        "    os.system(\"git checkout dataset-generation-fix\")\n",
        "    os.system(\"git pull origin dataset-generation-fix\")\n",
        "    #os.system(\"pip install --upgrade torchmetrics\")\n",
        "else:\n",
        "    print(\"Running locally...\")\n",
        "    os.system(\"git pull origin dataset-generation-fix\")\n",
        "    #os.system(\"pip install --upgrade torchmetrics\")\n"
      ]
    },
    {
      "cell_type": "code",
      "execution_count": 3,
      "metadata": {
        "id": "7TDd5eSmqaTC"
      },
      "outputs": [],
      "source": [
        "import sys\n",
        "sys.path.append('/content/audioautoencoder')\n",
        "sys.path.append('/content/audioautoencoder/audioautoencoder')"
      ]
    },
    {
      "cell_type": "markdown",
      "metadata": {
        "id": "ELoCObPCqaTC"
      },
      "source": [
        "## Data Generation"
      ]
    },
    {
      "cell_type": "code",
      "execution_count": 4,
      "metadata": {
        "id": "RiN3baczqaTC"
      },
      "outputs": [],
      "source": [
        "from audioautoencoder.data_management import *\n",
        "GENERATE=False"
      ]
    },
    {
      "cell_type": "code",
      "source": [
        "def get_folder_size_gb(folder_path):\n",
        "    total_size = 0\n",
        "    for dirpath, dirnames, filenames in os.walk(folder_path):\n",
        "        for filename in filenames:\n",
        "            file_path = os.path.join(dirpath, filename)\n",
        "            if os.path.exists(file_path):  # Ensure file exists before getting size\n",
        "                total_size += (os.path.getsize(file_path) / (1024 ** 3))\n",
        "    return total_size  # Convert bytes to gigabytes"
      ],
      "metadata": {
        "id": "J3IQdtJxugE_"
      },
      "execution_count": 5,
      "outputs": []
    },
    {
      "cell_type": "code",
      "execution_count": 6,
      "metadata": {
        "id": "7vK7KvwVqaTD"
      },
      "outputs": [],
      "source": [
        "# Example Usage\n",
        "dataset_dirs = [\"/content/drive/MyDrive/Datasets/Noise/All_Noise\"]\n",
        "output_dir = \"/content/drive/MyDrive/Datasets/Noise/splits_v2\"\n",
        "\n",
        "if GENERATE:\n",
        "  splits = create_datasets(dataset_dirs, output_dir)\n",
        "  save_splits_to_directories(splits, output_dir, max_workers=8)\n",
        "  print(\"Training Set:\", len(splits[\"train\"]))\n",
        "  print(\"Validation Set:\", len(splits[\"val\"]))\n",
        "  print(\"Testing Set:\", len(splits[\"test\"]))\n"
      ]
    },
    {
      "cell_type": "code",
      "source": [
        "from audioautoencoder.data import *"
      ],
      "metadata": {
        "id": "RdWz0iJQsN6c"
      },
      "execution_count": 7,
      "outputs": []
    },
    {
      "cell_type": "code",
      "source": [
        "noise_test = output_dir + \"/test\"\n",
        "noise_train = output_dir + \"/train\"\n",
        "\n",
        "size_gb = get_folder_size_gb(noise_test)\n",
        "print(f\"Test Folder total size: {size_gb:.2f} GB\")\n",
        "\n",
        "size_gb = get_folder_size_gb(noise_train)\n",
        "print(f\"Train Folder total size: {size_gb:.2f} GB\")"
      ],
      "metadata": {
        "colab": {
          "base_uri": "https://localhost:8080/"
        },
        "id": "sagjBBw5ur1M",
        "outputId": "45ade232-c9d4-47d6-c12e-ef312faf834c"
      },
      "execution_count": 8,
      "outputs": [
        {
          "output_type": "stream",
          "name": "stdout",
          "text": [
            "Test Folder total size: 0.98 GB\n",
            "Train Folder total size: 2.95 GB\n"
          ]
        }
      ]
    },
    {
      "cell_type": "code",
      "execution_count": 9,
      "metadata": {
        "id": "Vj0IY5diqaTD"
      },
      "outputs": [],
      "source": [
        "# generate audio files for noise and music (2s)\n",
        "noise_test_output = noise_test + \"-2s-44100\"\n",
        "noise_train_output = noise_train + \"-2s-44100\"\n",
        "\n",
        "if GENERATE:\n",
        "  for input_path, output_path in [(noise_test, noise_test_output), (noise_train, noise_train_output)]:\n",
        "    print(input_path, output_path)\n",
        "    generate_audio_files(input_path, output_path, t=2, min_size=0.005)"
      ]
    },
    {
      "cell_type": "code",
      "source": [
        "size_gb = get_folder_size_gb(noise_test_output)\n",
        "print(f\"Noise Test Folder size: {size_gb:.2f} GB\")\n",
        "\n",
        "size_gb = get_folder_size_gb(noise_train_output)\n",
        "print(f\"Noise Train Folder size: {size_gb:.2f} GB\")"
      ],
      "metadata": {
        "colab": {
          "base_uri": "https://localhost:8080/"
        },
        "id": "bKO-ayVguDae",
        "outputId": "e1da98cd-4521-48f7-e271-e78e398cd8b2"
      },
      "execution_count": 10,
      "outputs": [
        {
          "output_type": "stream",
          "name": "stdout",
          "text": [
            "Noise Test Folder size: 0.49 GB\n",
            "Noise Train Folder size: 1.24 GB\n"
          ]
        }
      ]
    },
    {
      "cell_type": "markdown",
      "source": [
        "## Generic Music Dataset"
      ],
      "metadata": {
        "id": "ayk5c8XZosHP"
      }
    },
    {
      "cell_type": "code",
      "source": [
        "# Example Usage\n",
        "GENERATE=False\n",
        "dataset_dirs = [\"/content/drive/Othercomputers/My Mac/PersonalMusic\"]\n",
        "output_dir = \"/content/drive/MyDrive/Datasets/Music/Additional_Music/splits_v2\"\n",
        "\n",
        "if GENERATE:\n",
        "  splits = create_datasets(dataset_dirs, output_dir, WAV=False, MP3=True)\n",
        "  print(\"Training Set:\", len(splits[\"train\"]))\n",
        "  print(\"Validation Set:\", len(splits[\"val\"]))\n",
        "  print(\"Testing Set:\", len(splits[\"test\"]))\n"
      ],
      "metadata": {
        "id": "ZEj2Nkw-opv4"
      },
      "execution_count": 11,
      "outputs": []
    },
    {
      "cell_type": "code",
      "source": [
        "if GENERATE:\n",
        "  save_splits_to_directories(splits, output_dir, max_workers=8)"
      ],
      "metadata": {
        "id": "DkeOWiO6q5N6"
      },
      "execution_count": 12,
      "outputs": []
    },
    {
      "cell_type": "code",
      "source": [
        "music_test = output_dir + \"/test\"\n",
        "music_train = output_dir + \"/train\"\n",
        "\n",
        "# generate audio files for noise and music (2s)\n",
        "music_test_output = music_test + \"-2s-44100\"\n",
        "music_train_output = music_train + \"-2s-44100\"\n",
        "\n",
        "if GENERATE:\n",
        "  for input_path, output_path in [(music_test, music_test_output), (music_train, music_train_output)]:\n",
        "    print(input_path, output_path)\n",
        "    generate_audio_files(input_path, output_path, t=2, min_size=0.005)"
      ],
      "metadata": {
        "id": "roZDNQxZrhyB"
      },
      "execution_count": 13,
      "outputs": []
    },
    {
      "cell_type": "markdown",
      "source": [
        "## Stuff for MUSDB18\n"
      ],
      "metadata": {
        "id": "EPhQ_bfGok6k"
      }
    },
    {
      "cell_type": "code",
      "source": [
        "music_test = \"/content/drive/MyDrive/Datasets/Music/MUSDB18/test\"\n",
        "music_train = \"/content/drive/MyDrive/Datasets/Music/MUSDB18/train\"\n",
        "\n",
        "music_test_output = music_test + \"-2s-44100\"\n",
        "music_train_output = music_train + \"-2s-44100\""
      ],
      "metadata": {
        "id": "EJ8CuwGfyeGR"
      },
      "execution_count": 14,
      "outputs": []
    },
    {
      "cell_type": "code",
      "source": [
        "if False:\n",
        "  size_gb = get_folder_size_gb(music_test_output)\n",
        "  print(f\"Music Test Folder size: {size_gb:.2f} GB\")\n",
        "\n",
        "  size_gb = get_folder_size_gb(music_train_output)\n",
        "  print(f\"Music Train Folder size: {size_gb:.2f} GB\")"
      ],
      "metadata": {
        "id": "us2VLKRRybcC"
      },
      "execution_count": 15,
      "outputs": []
    },
    {
      "cell_type": "code",
      "execution_count": 16,
      "metadata": {
        "id": "duIyKdowqaTD"
      },
      "outputs": [],
      "source": [
        "# generate audio files for noise and music (2s)\n",
        "if False:\n",
        "  for input_path, output_path in [(music_test, music_test_output), (music_train, music_train_output)]:\n",
        "    print(input_path, output_path)\n",
        "    generate_audio_files(input_path, output_path, t=2)"
      ]
    },
    {
      "cell_type": "markdown",
      "metadata": {
        "id": "Rok94pBMqaTD"
      },
      "source": [
        "## Process files to H5"
      ]
    },
    {
      "cell_type": "code",
      "source": [
        "from audioautoencoder.generate_dataset import *"
      ],
      "metadata": {
        "id": "MLVSNiJoLmS7"
      },
      "execution_count": 17,
      "outputs": []
    },
    {
      "cell_type": "code",
      "execution_count": null,
      "metadata": {
        "id": "6UtrrWsBqaTE",
        "colab": {
          "base_uri": "https://localhost:8080/"
        },
        "outputId": "75dded44-5f82-42b6-c6cb-25d92be8d57e"
      },
      "outputs": [
        {
          "output_type": "stream",
          "name": "stdout",
          "text": [
            "Output Dir: /content/drive/MyDrive/Datasets/Music-Noise/SNRdB_remapped-signal-level\n",
            "Train Checkpoint File: /content/drive/MyDrive/Datasets/Music-Noise/SNRdB_remapped-signal-level/SNRdB_-10-10/train-SNRdB_-10-10-checkpoint.txt\n",
            "Train Output File: /content/drive/MyDrive/Datasets/Music-Noise/SNRdB_remapped-signal-level/SNRdB_-10-10/train/train-SNRdB_-10-10.h5\n",
            "Test Checkpoint File: /content/drive/MyDrive/Datasets/Music-Noise/SNRdB_remapped-signal-level/SNRdB_-10-10/test-SNRdB_-10-10-checkpoint.txt\n",
            "Test Output File: /content/drive/MyDrive/Datasets/Music-Noise/SNRdB_remapped-signal-level/SNRdB_-10-10/test/test-SNRdB_-10-10.h5\n",
            "Directory already exists: /content/drive/MyDrive/Datasets/Music-Noise/SNRdB_remapped-signal-level/SNRdB_-10-10/train\n",
            "Directory already exists: /content/drive/MyDrive/Datasets/Music-Noise/SNRdB_remapped-signal-level/SNRdB_-10-10/test\n",
            "Processing training dataset....\n",
            "Gathering wav files....\n",
            "Files processed:  46733\n",
            "Gathering noise files....\n",
            "Files processed:  7550\n",
            "Checkpoint file path: /content/drive/MyDrive/Datasets/Music-Noise/SNRdB_remapped-signal-level/SNRdB_-10-10/train-SNRdB_-10-10-checkpoint.txt\n",
            "Checkpoint value: 47400\n",
            "Resuming from batch index: 47400\n"
          ]
        },
        {
          "output_type": "stream",
          "name": "stderr",
          "text": [
            "\rProcessing batches:   0%|          | 0/106 [00:00<?, ?batch/s]"
          ]
        }
      ],
      "source": [
        "GENERATE_H5_FILES = True\n",
        "checkpoint_file_size=100000\n",
        "if GENERATE_H5_FILES:\n",
        "  processor = DatasetProcessor(\n",
        "          train_music_dir='/content/drive/MyDrive/Datasets/Music/MUSDB18/train-2s-44100',\n",
        "          train_noise_dir='/content/drive/MyDrive/Datasets/Noise/splits_v2/train-2s-44100',\n",
        "          test_music_dir='/content/drive/MyDrive/Datasets/Music/MUSDB18/test-2s-44100',\n",
        "          test_noise_dir='/content/drive/MyDrive/Datasets/Noise/splits_v2/test-2s-44100',\n",
        "          output_dir='/content/drive/MyDrive/Datasets/Music-Noise/SNRdB_remapped-signal-level',\n",
        "          SNRdB=[-10, 10],\n",
        "          process_train=True,\n",
        "          process_test=True,\n",
        "          checkpoint_file_size=checkpoint_file_size,\n",
        "          batch_size=500,\n",
        "      )\n",
        "  processor.process()\n",
        "\n",
        "  processor = DatasetProcessor(\n",
        "        train_music_dir='/content/drive/MyDrive/Datasets/Music/MUSDB18/train-2s-44100',\n",
        "        train_noise_dir='/content/drive/MyDrive/Datasets/Noise/splits_v2/train-2s-44100',\n",
        "        test_music_dir='/content/drive/MyDrive/Datasets/Music/MUSDB18/test-2s-44100',\n",
        "        test_noise_dir='/content/drive/MyDrive/Datasets/Noise/splits_v2/test-2s-44100',\n",
        "        output_dir='/content/drive/MyDrive/Datasets/Music-Noise/SNRdB_remapped-signal-level_mix-only',\n",
        "        SNRdB=[-10, 10],\n",
        "        process_train=True,\n",
        "        process_test=True,\n",
        "        mix_only=True,\n",
        "        checkpoint_file_size=checkpoint_file_size//4,\n",
        "        batch_size=500,\n",
        "    )\n",
        "  processor.process()\n",
        "\n",
        "if False:\n",
        "  processor = DatasetProcessor(\n",
        "          train_music_dir='/content/drive/MyDrive/Datasets/Music/MUSDB18/train-2s-44100',\n",
        "          train_noise_dir='/content/drive/MyDrive/Datasets/Noise/splits_v2/train-2s-44100',\n",
        "          test_music_dir='/content/drive/MyDrive/Datasets/Music/MUSDB18/test-2s-44100',\n",
        "          test_noise_dir='/content/drive/MyDrive/Datasets/Noise/splits_v2/test-2s-44100',\n",
        "          output_dir='/content/drive/MyDrive/Datasets/Music-Noise/SNRdB_remapped-signal-level',\n",
        "          SNRdB=[0, 20],\n",
        "          process_train=True,\n",
        "          process_test=True,\n",
        "          checkpoint_file_size=checkpoint_file_size,\n",
        "          batch_size=100\n",
        "      )\n",
        "  processor.process()\n",
        "\n",
        "  processor = DatasetProcessor(\n",
        "          train_music_dir='/content/drive/MyDrive/Datasets/Music/MUSDB18/train-2s-44100',\n",
        "          train_noise_dir='/content/drive/MyDrive/Datasets/Noise/splits_v2/train-2s-44100',\n",
        "          test_music_dir='/content/drive/MyDrive/Datasets/Music/MUSDB18/test-2s-44100',\n",
        "          test_noise_dir='/content/drive/MyDrive/Datasets/Noise/splits_v2/test-2s-44100',\n",
        "          output_dir='/content/drive/MyDrive/Datasets/Music-Noise/SNRdB_all-noise_features',\n",
        "          SNRdB=[10, 30],\n",
        "          process_train=True,\n",
        "          process_test=True,\n",
        "          checkpoint_file_size=checkpoint_file_size,\n",
        "      )\n",
        "  processor.process()"
      ]
    },
    {
      "cell_type": "code",
      "source": [
        "processor = DatasetProcessor(\n",
        "        train_music_dir='/content/drive/MyDrive/Datasets/Music/Additional_Music/splits_v2/train-2s-44100',\n",
        "        train_noise_dir='/content/drive/MyDrive/Datasets/Noise/splits_v2/train-2s-44100',\n",
        "        test_music_dir='/content/drive/MyDrive/Datasets/Music/Additional_Music/splits_v2/test-2s-44100',\n",
        "        test_noise_dir='/content/drive/MyDrive/Datasets/Noise/splits_v2/test-2s-44100',\n",
        "        output_dir='/content/drive/MyDrive/Datasets/Music-Noise/SNRdB_all-noise_features_2',\n",
        "        SNRdB=[-10, 20],\n",
        "        process_train=True,\n",
        "        process_test=True,\n",
        "        checkpoint_file_size=100000,\n",
        "        batch_size=200\n",
        "    )\n",
        "processor.process()"
      ],
      "metadata": {
        "id": "tlIpJhjIm2wT"
      },
      "execution_count": null,
      "outputs": []
    },
    {
      "cell_type": "markdown",
      "metadata": {
        "id": "94FmdzEmqaTE"
      },
      "source": [
        "---"
      ]
    },
    {
      "cell_type": "markdown",
      "metadata": {
        "id": "0nQ8wGyTqaTE"
      },
      "source": []
    }
  ],
  "metadata": {
    "kernelspec": {
      "display_name": "Python 3",
      "name": "python3"
    },
    "language_info": {
      "codemirror_mode": {
        "name": "ipython",
        "version": 3
      },
      "file_extension": ".py",
      "mimetype": "text/x-python",
      "name": "python",
      "nbconvert_exporter": "python",
      "pygments_lexer": "ipython3",
      "version": "3.11.3"
    },
    "colab": {
      "provenance": []
    }
  },
  "nbformat": 4,
  "nbformat_minor": 0
}