{
 "cells": [
  {
   "cell_type": "markdown",
   "metadata": {},
   "source": [
    "# Dataset Generation"
   ]
  },
  {
   "cell_type": "code",
   "execution_count": null,
   "metadata": {},
   "outputs": [],
   "source": [
    "import sys\n",
    "import os\n",
    "\n",
    "# Detect Google Colab\n",
    "if \"google.colab\" in sys.modules:\n",
    "  from google.colab import drive\n",
    "  drive.mount('/content/drive')"
   ]
  },
  {
   "cell_type": "code",
   "execution_count": null,
   "metadata": {},
   "outputs": [],
   "source": [
    "# Detect Google Colab\n",
    "if \"google.colab\" in sys.modules:\n",
    "    print(\"Running in Google Colab...\")\n",
    "    os.system(\"git clone https://github.com/CiaranMaloy/audioautoencoder\")\n",
    "    os.chdir(\"/content/audioautoencoder/\")\n",
    "    os.system(\"git pull\")\n",
    "    os.system(\"git checkout bandchannels\")\n",
    "    os.system(\"git pull origin bandchannels\")\n",
    "    #os.system(\"pip install --upgrade torchmetrics\")\n",
    "else:\n",
    "    print(\"Running locally...\")\n",
    "    os.system(\"git pull origin bandchannels\")\n",
    "    os.system(\"pip install --upgrade torchmetrics\")\n"
   ]
  },
  {
   "cell_type": "code",
   "execution_count": null,
   "metadata": {},
   "outputs": [],
   "source": [
    "import sys\n",
    "sys.path.append('/content/audioautoencoder')\n",
    "sys.path.append('/content/audioautoencoder/audioautoencoder')"
   ]
  },
  {
   "cell_type": "markdown",
   "metadata": {},
   "source": [
    "## Data Generation"
   ]
  },
  {
   "cell_type": "code",
   "execution_count": null,
   "metadata": {},
   "outputs": [],
   "source": [
    "from audioautoencoder.data_management import *\n",
    "GENERATE=False"
   ]
  },
  {
   "cell_type": "code",
   "execution_count": null,
   "metadata": {},
   "outputs": [],
   "source": [
    "# Example Usage\n",
    "if GENERATE:\n",
    "  dataset_dirs = [\"/content/drive/MyDrive/Datasets/Noise/All_Noise\"]\n",
    "  output_dir = \"/content/drive/MyDrive/Datasets/Noise/All_Noise/splits_v2\"\n",
    "  splits = create_datasets(dataset_dirs, output_dir)\n",
    "  print(\"Training Set:\", len(splits[\"train\"]))\n",
    "  print(\"Validation Set:\", len(splits[\"val\"]))\n",
    "  print(\"Testing Set:\", len(splits[\"test\"]))\n"
   ]
  },
  {
   "cell_type": "code",
   "execution_count": null,
   "metadata": {},
   "outputs": [],
   "source": [
    "if GENERATE:\n",
    "  save_splits_to_directories(splits, output_dir, max_workers=8)"
   ]
  },
  {
   "cell_type": "code",
   "execution_count": null,
   "metadata": {},
   "outputs": [],
   "source": [
    "# generate audio files for noise and music (2s)\n",
    "if GENERATE:\n",
    "  noise_test = output_dir + \"/test\"\n",
    "  noise_train = output_dir + \"/train\"\n",
    "\n",
    "  noise_test_output = noise_test + \"-2s-44100\"\n",
    "  noise_train_output = noise_train + \"-2s-44100\"\n",
    "\n",
    "  for input_path, output_path in [(noise_test, noise_test_output), (noise_train, noise_train_output)]:\n",
    "    print(input_path, output_path)\n",
    "    generate_audio_files(input_path, output_path, t=2)"
   ]
  },
  {
   "cell_type": "code",
   "execution_count": null,
   "metadata": {},
   "outputs": [],
   "source": [
    "# generate audio files for noise and music (2s)\n",
    "if False:\n",
    "  music_test = \"/content/drive/MyDrive/Datasets/Music/MUSDB18/test\"\n",
    "  music_train = \"/content/drive/MyDrive/Datasets/Music/MUSDB18/train\"\n",
    "\n",
    "  music_test_output = music_test + \"-2s-44100\"\n",
    "  music_train_output = music_train + \"-2s-44100\"\n",
    "\n",
    "  for input_path, output_path in [(music_test, music_test_output), (music_train, music_train_output)]:\n",
    "    print(input_path, output_path)\n",
    "    generate_audio_files(input_path, output_path, t=2)"
   ]
  },
  {
   "cell_type": "markdown",
   "metadata": {},
   "source": [
    "## Process files to H5"
   ]
  },
  {
   "cell_type": "code",
   "execution_count": null,
   "metadata": {},
   "outputs": [],
   "source": [
    "GENERATE_H5_FILES = False\n",
    "\n",
    "if GENERATE_H5_FILES:\n",
    "  checkpoint_file_size=50000\n",
    "  processor = DatasetProcessor(\n",
    "          train_music_dir='/content/drive/MyDrive/Datasets/Music/MUSDB18/train-2s-44100',\n",
    "          train_noise_dir='/content/drive/MyDrive/Datasets/Noise/All_Noise/splits_v2/train-2s-44100',\n",
    "          test_music_dir='/content/drive/MyDrive/Datasets/Music/MUSDB18/test-2s-44100',\n",
    "          test_noise_dir='/content/drive/MyDrive/Datasets/Noise/All_Noise/splits_v2/test-2s-44100',\n",
    "          output_dir='/content/drive/MyDrive/Datasets/Music-Noise/SNRdB_sep_features',\n",
    "          SNRdB=[-10, 10],\n",
    "          process_train=True,\n",
    "          process_test=True,\n",
    "          checkpoint_file_size=checkpoint_file_size\n",
    "      )\n",
    "  processor.process()\n",
    "\n",
    "  processor = DatasetProcessor(\n",
    "          train_music_dir='/content/drive/MyDrive/Datasets/Music/MUSDB18/train-2s-44100',\n",
    "          train_noise_dir='/content/drive/MyDrive/Datasets/Noise/All_Noise/splits_v2/train-2s-44100',\n",
    "          test_music_dir='/content/drive/MyDrive/Datasets/Music/MUSDB18/test-2s-44100',\n",
    "          test_noise_dir='/content/drive/MyDrive/Datasets/Noise/All_Noise/splits_v2/test-2s-44100',\n",
    "          output_dir='/content/drive/MyDrive/Datasets/Music-Noise/SNRdB_sep_features',\n",
    "          SNRdB=[0, 20],\n",
    "          process_train=True,\n",
    "          process_test=True,\n",
    "          checkpoint_file_size=checkpoint_file_size\n",
    "      )\n",
    "  processor.process()\n",
    "\n",
    "  processor = DatasetProcessor(\n",
    "          train_music_dir='/content/drive/MyDrive/Datasets/Music/MUSDB18/train-2s-44100',\n",
    "          train_noise_dir='/content/drive/MyDrive/Datasets/Noise/All_Noise/splits_v2/train-2s-44100',\n",
    "          test_music_dir='/content/drive/MyDrive/Datasets/Music/MUSDB18/test-2s-44100',\n",
    "          test_noise_dir='/content/drive/MyDrive/Datasets/Noise/All_Noise/splits_v2/test-2s-44100',\n",
    "          output_dir='/content/drive/MyDrive/Datasets/Music-Noise/SNRdB_sep_features',\n",
    "          SNRdB=[10, 30],\n",
    "          process_train=True,\n",
    "          process_test=True,\n",
    "          checkpoint_file_size=checkpoint_file_size\n",
    "      )\n",
    "  processor.process()\n",
    "\n",
    "  processor = DatasetProcessor(\n",
    "          train_music_dir='/content/drive/MyDrive/Datasets/Music/MUSDB18/train-2s-44100',\n",
    "          train_noise_dir='/content/drive/MyDrive/Datasets/Noise/All_Noise/splits_v2/train-2s-44100',\n",
    "          test_music_dir='/content/drive/MyDrive/Datasets/Music/MUSDB18/test-2s-44100',\n",
    "          test_noise_dir='/content/drive/MyDrive/Datasets/Noise/All_Noise/splits_v2/test-2s-44100',\n",
    "          output_dir='/content/drive/MyDrive/Datasets/Music-Noise/SNRdB_mix_features',\n",
    "          SNRdB=[-10, 30],\n",
    "          process_train=True,\n",
    "          process_test=True,\n",
    "          mix_only=True,\n",
    "          checkpoint_file_size=checkpoint_file_size\n",
    "      )\n",
    "  processor.process()"
   ]
  },
  {
   "cell_type": "markdown",
   "metadata": {},
   "source": [
    "---"
   ]
  },
  {
   "cell_type": "markdown",
   "metadata": {},
   "source": []
  }
 ],
 "metadata": {
  "kernelspec": {
   "display_name": "Python 3",
   "language": "python",
   "name": "python3"
  },
  "language_info": {
   "codemirror_mode": {
    "name": "ipython",
    "version": 3
   },
   "file_extension": ".py",
   "mimetype": "text/x-python",
   "name": "python",
   "nbconvert_exporter": "python",
   "pygments_lexer": "ipython3",
   "version": "3.11.3"
  }
 },
 "nbformat": 4,
 "nbformat_minor": 2
}
