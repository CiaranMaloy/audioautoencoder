{
  "cells": [
    {
      "cell_type": "markdown",
      "metadata": {
        "id": "hhjeAiJRqaTA"
      },
      "source": [
        "# Dataset Generation"
      ]
    },
    {
      "cell_type": "code",
      "execution_count": 2,
      "metadata": {
        "colab": {
          "base_uri": "https://localhost:8080/"
        },
        "id": "j2uW1R-NqaTB",
        "outputId": "8c4fb0e0-86f1-4872-8bc1-0d64aef38c23"
      },
      "outputs": [
        {
          "output_type": "stream",
          "name": "stdout",
          "text": [
            "Mounted at /content/drive\n"
          ]
        }
      ],
      "source": [
        "import sys\n",
        "import os\n",
        "\n",
        "# Detect Google Colab\n",
        "if \"google.colab\" in sys.modules:\n",
        "  from google.colab import drive\n",
        "  drive.mount('/content/drive')"
      ]
    },
    {
      "cell_type": "code",
      "execution_count": 3,
      "metadata": {
        "colab": {
          "base_uri": "https://localhost:8080/"
        },
        "id": "K9ohND2-qaTC",
        "outputId": "c07cdcba-c64e-4732-bffa-ca542ac7f53f"
      },
      "outputs": [
        {
          "output_type": "stream",
          "name": "stdout",
          "text": [
            "Running in Google Colab...\n"
          ]
        }
      ],
      "source": [
        "# Detect Google Colab\n",
        "if \"google.colab\" in sys.modules:\n",
        "    print(\"Running in Google Colab...\")\n",
        "    os.system(\"git clone https://github.com/CiaranMaloy/audioautoencoder\")\n",
        "    os.chdir(\"/content/audioautoencoder/\")\n",
        "    os.system(\"git pull\")\n",
        "    os.system(\"git checkout bandchannels\")\n",
        "    os.system(\"git pull origin bandchannels\")\n",
        "    #os.system(\"pip install --upgrade torchmetrics\")\n",
        "else:\n",
        "    print(\"Running locally...\")\n",
        "    os.system(\"git pull origin bandchannels\")\n",
        "    #os.system(\"pip install --upgrade torchmetrics\")\n"
      ]
    },
    {
      "cell_type": "code",
      "execution_count": 4,
      "metadata": {
        "id": "7TDd5eSmqaTC"
      },
      "outputs": [],
      "source": [
        "import sys\n",
        "sys.path.append('/content/audioautoencoder')\n",
        "sys.path.append('/content/audioautoencoder/audioautoencoder')"
      ]
    },
    {
      "cell_type": "markdown",
      "metadata": {
        "id": "ELoCObPCqaTC"
      },
      "source": [
        "## Data Generation"
      ]
    },
    {
      "cell_type": "code",
      "execution_count": 5,
      "metadata": {
        "id": "RiN3baczqaTC"
      },
      "outputs": [],
      "source": [
        "from audioautoencoder.data_management import *\n",
        "GENERATE=False"
      ]
    },
    {
      "cell_type": "code",
      "source": [
        "def get_folder_size_gb(folder_path):\n",
        "    total_size = 0\n",
        "    for dirpath, dirnames, filenames in os.walk(folder_path):\n",
        "        for filename in filenames:\n",
        "            file_path = os.path.join(dirpath, filename)\n",
        "            if os.path.exists(file_path):  # Ensure file exists before getting size\n",
        "                total_size += (os.path.getsize(file_path) / (1024 ** 3))\n",
        "    return total_size  # Convert bytes to gigabytes"
      ],
      "metadata": {
        "id": "J3IQdtJxugE_"
      },
      "execution_count": 6,
      "outputs": []
    },
    {
      "cell_type": "code",
      "execution_count": 7,
      "metadata": {
        "id": "7vK7KvwVqaTD"
      },
      "outputs": [],
      "source": [
        "# Example Usage\n",
        "dataset_dirs = [\"/content/drive/MyDrive/Datasets/Noise/All_Noise\"]\n",
        "output_dir = \"/content/drive/MyDrive/Datasets/Noise/splits_v2\"\n",
        "\n",
        "if GENERATE:\n",
        "  splits = create_datasets(dataset_dirs, output_dir)\n",
        "  save_splits_to_directories(splits, output_dir, max_workers=8)\n",
        "  print(\"Training Set:\", len(splits[\"train\"]))\n",
        "  print(\"Validation Set:\", len(splits[\"val\"]))\n",
        "  print(\"Testing Set:\", len(splits[\"test\"]))\n"
      ]
    },
    {
      "cell_type": "code",
      "source": [
        "from audioautoencoder.data import *"
      ],
      "metadata": {
        "id": "RdWz0iJQsN6c"
      },
      "execution_count": 9,
      "outputs": []
    },
    {
      "cell_type": "code",
      "source": [
        "noise_test = output_dir + \"/test\"\n",
        "noise_train = output_dir + \"/train\"\n",
        "\n",
        "size_gb = get_folder_size_gb(noise_test)\n",
        "print(f\"Test Folder total size: {size_gb:.2f} GB\")\n",
        "\n",
        "size_gb = get_folder_size_gb(noise_train)\n",
        "print(f\"Train Folder total size: {size_gb:.2f} GB\")"
      ],
      "metadata": {
        "colab": {
          "base_uri": "https://localhost:8080/"
        },
        "id": "sagjBBw5ur1M",
        "outputId": "7d725ac0-4e87-46cb-adb6-29674cf8f908"
      },
      "execution_count": 10,
      "outputs": [
        {
          "output_type": "stream",
          "name": "stdout",
          "text": [
            "Test Folder total size: 0.98 GB\n",
            "Train Folder total size: 2.95 GB\n"
          ]
        }
      ]
    },
    {
      "cell_type": "code",
      "execution_count": 11,
      "metadata": {
        "id": "Vj0IY5diqaTD"
      },
      "outputs": [],
      "source": [
        "# generate audio files for noise and music (2s)\n",
        "noise_test_output = noise_test + \"-2s-44100\"\n",
        "noise_train_output = noise_train + \"-2s-44100\"\n",
        "\n",
        "if GENERATE:\n",
        "  for input_path, output_path in [(noise_test, noise_test_output), (noise_train, noise_train_output)]:\n",
        "    print(input_path, output_path)\n",
        "    generate_audio_files(input_path, output_path, t=2, min_size=0.005)"
      ]
    },
    {
      "cell_type": "code",
      "source": [
        "size_gb = get_folder_size_gb(noise_test_output)\n",
        "print(f\"Noise Test Folder size: {size_gb:.2f} GB\")\n",
        "\n",
        "size_gb = get_folder_size_gb(noise_train_output)\n",
        "print(f\"Noise Train Folder size: {size_gb:.2f} GB\")"
      ],
      "metadata": {
        "colab": {
          "base_uri": "https://localhost:8080/"
        },
        "id": "bKO-ayVguDae",
        "outputId": "49691090-8b73-47b6-cc6f-f880be8c2618"
      },
      "execution_count": 12,
      "outputs": [
        {
          "output_type": "stream",
          "name": "stdout",
          "text": [
            "Noise Test Folder size: 0.49 GB\n",
            "Noise Train Folder size: 1.24 GB\n"
          ]
        }
      ]
    },
    {
      "cell_type": "markdown",
      "source": [
        "## Generic Music Dataset"
      ],
      "metadata": {
        "id": "ayk5c8XZosHP"
      }
    },
    {
      "cell_type": "code",
      "source": [
        "# Example Usage\n",
        "GENERATE=True\n",
        "dataset_dirs = [\"/content/drive/Othercomputers/My Mac/PersonalMusic\"]\n",
        "output_dir = \"/content/drive/MyDrive/Datasets/Music/Additional_Music/splits_v2\"\n",
        "\n",
        "if GENERATE:\n",
        "  splits = create_datasets(dataset_dirs, output_dir, WAV=False, MP3=True)\n",
        "  print(\"Training Set:\", len(splits[\"train\"]))\n",
        "  print(\"Validation Set:\", len(splits[\"val\"]))\n",
        "  print(\"Testing Set:\", len(splits[\"test\"]))\n"
      ],
      "metadata": {
        "id": "ZEj2Nkw-opv4",
        "outputId": "fe6bf207-82a2-4d5e-f3c6-e2853d032c9b",
        "colab": {
          "base_uri": "https://localhost:8080/"
        }
      },
      "execution_count": 22,
      "outputs": [
        {
          "output_type": "stream",
          "name": "stdout",
          "text": [
            "Splits saved to /content/drive/MyDrive/Datasets/Music/Additional_Music/splits_v2/splits.pkl. Resume state saved to /content/drive/MyDrive/Datasets/Music/Additional_Music/splits_v2/split_state.pkl.\n",
            "Training Set: 2417\n",
            "Validation Set: 402\n",
            "Testing Set: 1210\n"
          ]
        }
      ]
    },
    {
      "cell_type": "code",
      "source": [
        "if GENERATE:\n",
        "  save_splits_to_directories(splits, output_dir, max_workers=8)"
      ],
      "metadata": {
        "id": "DkeOWiO6q5N6",
        "outputId": "8cd8b32f-57ef-4a75-cde6-344fa16179b6",
        "colab": {
          "base_uri": "https://localhost:8080/",
          "height": 1000
        }
      },
      "execution_count": 23,
      "outputs": [
        {
          "output_type": "stream",
          "name": "stdout",
          "text": [
            "/content/drive/MyDrive/Datasets/Music/Additional_Music/splits_v2/train/03 Pilot_Pq9bzC.mp3\n",
            "/content/drive/MyDrive/Datasets/Music/Additional_Music/splits_v2/train/10 I Am Hated_UpCXia.wav\n",
            "/content/drive/MyDrive/Datasets/Music/Additional_Music/splits_v2/train/Shunryu 002_Z8iZxN.wav\n",
            "/content/drive/MyDrive/Datasets/Music/Additional_Music/splits_v2/train/02 So Much Things To Say_NKqYbd.wav\n",
            "/content/drive/MyDrive/Datasets/Music/Additional_Music/splits_v2/train/08 Medusas Path_3Bh4Zu.wav\n",
            "/content/drive/MyDrive/Datasets/Music/Additional_Music/splits_v2/train/01 The Royal_cCkJYy.wav\n",
            "/content/drive/MyDrive/Datasets/Music/Additional_Music/splits_v2/train/01 Layla_bQknlr.mp3\n",
            "/content/drive/MyDrive/Datasets/Music/Additional_Music/splits_v2/train/09 Drive Away_2cMpsz.wav\n",
            "/content/drive/MyDrive/Datasets/Music/Additional_Music/splits_v2/train/14 Dizzy Miss Lizzy_Idrim2.wav\n",
            "/content/drive/MyDrive/Datasets/Music/Additional_Music/splits_v2/train/02 Posted_GNXX9W.wav\n",
            "/content/drive/MyDrive/Datasets/Music/Additional_Music/splits_v2/train/08 Gehenna_wHE4Fy.wav\n",
            "/content/drive/MyDrive/Datasets/Music/Additional_Music/splits_v2/train/10 My Apocalypse_ltn3Wd.wav\n",
            "/content/drive/MyDrive/Datasets/Music/Additional_Music/splits_v2/train/04 Mic Check_9GV98g.mp3\n",
            "/content/drive/MyDrive/Datasets/Music/Additional_Music/splits_v2/train/02 Breathe_OqY4d9.mp3\n",
            "/content/drive/MyDrive/Datasets/Music/Additional_Music/splits_v2/train/18 I Can't Stand It_n0Xv00.wav\n",
            "/content/drive/MyDrive/Datasets/Music/Additional_Music/splits_v2/train/03 Nara_kKXR4b.mp3\n",
            "/content/drive/MyDrive/Datasets/Music/Additional_Music/splits_v2/train/09 ATWA_R6IIl9.mp3\n",
            "/content/drive/MyDrive/Datasets/Music/Additional_Music/splits_v2/train/2-11 Be With Me (2008 Mix)_2EtEfo.wav\n",
            "/content/drive/MyDrive/Datasets/Music/Additional_Music/splits_v2/train/04 Sugar, We're Goin Down_nGa4mi.wav\n",
            "/content/drive/MyDrive/Datasets/Music/Additional_Music/splits_v2/train/10 I Can't_S40ubK.mp3\n",
            "/content/drive/MyDrive/Datasets/Music/Additional_Music/splits_v2/train/02 Hands Open_4W017x.wav\n",
            "/content/drive/MyDrive/Datasets/Music/Additional_Music/splits_v2/train/08 I Belong To You _ Mon Cœur S'ouvre À Ta Voix_6ygsij.mp3\n",
            "/content/drive/MyDrive/Datasets/Music/Additional_Music/splits_v2/train/04 It Ends Tonight_6X7Ok8.mp3\n",
            "/content/drive/MyDrive/Datasets/Music/Additional_Music/splits_v2/train/06 My World_R5WnKk.mp3\n",
            "/content/drive/MyDrive/Datasets/Music/Additional_Music/splits_v2/train/10 Rock The House_tQhT66.mp3\n",
            "/content/drive/MyDrive/Datasets/Music/Additional_Music/splits_v2/train/09 Blackout_y97cL5.wav\n",
            "/content/drive/MyDrive/Datasets/Music/Additional_Music/splits_v2/train/20 Too Many Man_7nJ6iU.wav\n",
            "/content/drive/MyDrive/Datasets/Music/Additional_Music/splits_v2/train/05 - Slide Through My Fingers_o8k2fR.wav\n",
            "/content/drive/MyDrive/Datasets/Music/Additional_Music/splits_v2/train/09 Listeriosis_N2Bqpe.mp3\n",
            "/content/drive/MyDrive/Datasets/Music/Additional_Music/splits_v2/train/04 All Hope is Gone_pgaxT8.wav\n",
            "/content/drive/MyDrive/Datasets/Music/Additional_Music/splits_v2/train/01 Dead On Arrival_2ExHgD.mp3\n",
            "/content/drive/MyDrive/Datasets/Music/Additional_Music/splits_v2/train/13 Taro_1OQke0.wav\n",
            "/content/drive/MyDrive/Datasets/Music/Additional_Music/splits_v2/train/03 Swing, Swing_st7ekx.wav\n",
            "/content/drive/MyDrive/Datasets/Music/Additional_Music/splits_v2/train/2-18 Addicted_TH3fKM.wav\n",
            "/content/drive/MyDrive/Datasets/Music/Additional_Music/splits_v2/train/06 Let It Burn_Db6k3j.wav\n",
            "/content/drive/MyDrive/Datasets/Music/Additional_Music/splits_v2/train/31 Desert Orgy VIP _ Diplodocus_gmlRST.wav\n",
            "/content/drive/MyDrive/Datasets/Music/Additional_Music/splits_v2/train/27 Topper Top ft Teddy BruckshotLady Cham&KillaP(Kahn&Neek Remix)_qrodJ0.mp3\n",
            "/content/drive/MyDrive/Datasets/Music/Additional_Music/splits_v2/train/04 Mass Appeal _ Transmission_jwAsPL.mp3\n",
            "/content/drive/MyDrive/Datasets/Music/Additional_Music/splits_v2/train/08 Every Planet We Reach Is Dead_mbksf0.wav\n",
            "/content/drive/MyDrive/Datasets/Music/Additional_Music/splits_v2/train/06 Superfast Jellyfish (feat. Gruff Rhys and De La Soul)_tyEOfH.wav\n",
            "/content/drive/MyDrive/Datasets/Music/Additional_Music/splits_v2/train/06 Out The Door_l2wBqC.wav\n",
            "/content/drive/MyDrive/Datasets/Music/Additional_Music/splits_v2/train/03 Psycho_oqdUPf.mp3\n",
            "/content/drive/MyDrive/Datasets/Music/Additional_Music/splits_v2/train/03 Sing_vH8KI0.mp3\n",
            "/content/drive/MyDrive/Datasets/Music/Additional_Music/splits_v2/train/Rone_-_Tohu_Bohu_Full_Album[www.MP3Fiber.com]_YzH1D2.mp3\n",
            "/content/drive/MyDrive/Datasets/Music/Additional_Music/splits_v2/train/Get Up, Stand Up_De3SF3.mp3\n",
            "/content/drive/MyDrive/Datasets/Music/Additional_Music/splits_v2/train/04 Burn It Down_XQMhUk.wav\n",
            "/content/drive/MyDrive/Datasets/Music/Additional_Music/splits_v2/train/Lively Up Yourself_98YhA9.wav\n",
            "/content/drive/MyDrive/Datasets/Music/Additional_Music/splits_v2/train/04 Welcome Home (Sanitarium)_A9MZp4.mp3\n",
            "/content/drive/MyDrive/Datasets/Music/Additional_Music/splits_v2/train/05 Gunslinger_4eyyur.mp3\n",
            "/content/drive/MyDrive/Datasets/Music/Additional_Music/splits_v2/train/08 Explorers_C2WMGA.mp3\n",
            "/content/drive/MyDrive/Datasets/Music/Additional_Music/splits_v2/train/04 Down With The Sickness_zjKV65.mp3\n",
            "/content/drive/MyDrive/Datasets/Music/Additional_Music/splits_v2/train/13 Whatsername_IgrHvz.wav\n",
            "/content/drive/MyDrive/Datasets/Music/Additional_Music/splits_v2/train/04 Vera_xELcri.wav\n",
            "/content/drive/MyDrive/Datasets/Music/Additional_Music/splits_v2/train/12 Homecoming_LRc3uo.wav\n",
            "/content/drive/MyDrive/Datasets/Music/Additional_Music/splits_v2/train/06 The Continuing Story Of Bungalow Bill_U53bYs.mp3\n",
            "/content/drive/MyDrive/Datasets/Music/Additional_Music/splits_v2/train/18 This Ain't A Scene, It's An Arms Race (live)_rERg1i.wav\n",
            "/content/drive/MyDrive/Datasets/Music/Additional_Music/splits_v2/train/1-03 Wires_8BZqzO.mp3\n",
            "/content/drive/MyDrive/Datasets/Music/Additional_Music/splits_v2/train/14 Don't Pass Me By_lnZTV1.mp3\n",
            "/content/drive/MyDrive/Datasets/Music/Additional_Music/splits_v2/train/Christian Löffler - Beirut_YFjtFi.mp3\n",
            "/content/drive/MyDrive/Datasets/Music/Additional_Music/splits_v2/train/14 Thetawaves_02blZZ.wav\n",
            "/content/drive/MyDrive/Datasets/Music/Additional_Music/splits_v2/train/17 Yule Shoot Your Eye Out_pC4RqZ.mp3\n",
            "/content/drive/MyDrive/Datasets/Music/Additional_Music/splits_v2/train/12 Bitch Suck Dick feat. Jasper Dolphin & Taco Bennett_FNhbxK.wav\n",
            "/content/drive/MyDrive/Datasets/Music/Additional_Music/splits_v2/train/18 Selene_l1Kvk3.wav\n",
            "/content/drive/MyDrive/Datasets/Music/Additional_Music/splits_v2/train/12 Hate This & I'll Love You_UQrxkJ.mp3\n",
            "/content/drive/MyDrive/Datasets/Music/Additional_Music/splits_v2/train/03 Panic Station_71OQqz.mp3\n",
            "/content/drive/MyDrive/Datasets/Music/Additional_Music/splits_v2/train/07 Signs (Calibre Mix)_bWVa4O.mp3\n",
            "/content/drive/MyDrive/Datasets/Music/Additional_Music/splits_v2/train/27 The Island (Madeon Remix)_LapXs7.wav\n",
            "/content/drive/MyDrive/Datasets/Music/Additional_Music/splits_v2/train/19 Touch Me_NAxvpC.wav\n",
            "/content/drive/MyDrive/Datasets/Music/Additional_Music/splits_v2/train/06 Superfast Jellyfish_PZygFP.wav\n",
            "/content/drive/MyDrive/Datasets/Music/Additional_Music/splits_v2/train/10 Fitzpleasure_0xOLsg.mp3\n",
            "/content/drive/MyDrive/Datasets/Music/Additional_Music/splits_v2/train/05 Still Remains_d9N1qS.wav\n",
            "/content/drive/MyDrive/Datasets/Music/Additional_Music/splits_v2/train/04 Three Little Birds_3sjV3X.wav\n",
            "/content/drive/MyDrive/Datasets/Music/Additional_Music/splits_v2/train/09 Exogenesis_ Symphony Part 1 (Overture)_XLOQSO.mp3\n",
            "/content/drive/MyDrive/Datasets/Music/Additional_Music/splits_v2/train/06 Unnatural Selection_9qzycR.wav\n",
            "/content/drive/MyDrive/Datasets/Music/Additional_Music/splits_v2/train/07 Assassin_JlTnHW.wav\n",
            "/content/drive/MyDrive/Datasets/Music/Additional_Music/splits_v2/train/09 The Unnamed Feeling_4PF002.wav\n",
            "/content/drive/MyDrive/Datasets/Music/Additional_Music/splits_v2/train/Lucy In The Sky With Diamonds_lghqYV.mp3\n",
            "/content/drive/MyDrive/Datasets/Music/Additional_Music/splits_v2/train/01 Radioactive_lQufwU.wav\n",
            "/content/drive/MyDrive/Datasets/Music/Additional_Music/splits_v2/train/03 Know Your Enemy_tWuqs0.wav\n",
            "/content/drive/MyDrive/Datasets/Music/Additional_Music/splits_v2/train/03 Another Brick In The Wall (Par_D1K6e3.wav\n",
            "/content/drive/MyDrive/Datasets/Music/Additional_Music/splits_v2/train/11 Lurgee_F1xsd0.mp3\n",
            "/content/drive/MyDrive/Datasets/Music/Additional_Music/splits_v2/train/10 All My Love_imzJ4C.mp3\n",
            "/content/drive/MyDrive/Datasets/Music/Additional_Music/splits_v2/train/12 Love In Vain_tSWENk.mp3\n",
            "/content/drive/MyDrive/Datasets/Music/Additional_Music/splits_v2/train/11 San Francisco Bay Blues_NaqVkV.mp3\n",
            "/content/drive/MyDrive/Datasets/Music/Additional_Music/splits_v2/train/Primal Scream - Trainspotting_EVfMNz.mp3\n",
            "/content/drive/MyDrive/Datasets/Music/Additional_Music/splits_v2/train/The Mouse Outfit - Who Gwan Test feat. Sparkz and Dubbul O (HD)_7xcmxa.wav\n",
            "/content/drive/MyDrive/Datasets/Music/Additional_Music/splits_v2/train/20 I know a place (Single remix)_tZlPMp.wav\n",
            "/content/drive/MyDrive/Datasets/Music/Additional_Music/splits_v2/train/13 Pain Redefined_QvhxKk.mp3\n",
            "/content/drive/MyDrive/Datasets/Music/Additional_Music/splits_v2/train/01 Attack_ZssTKu.mp3\n",
            "/content/drive/MyDrive/Datasets/Music/Additional_Music/splits_v2/train/05 Stricken_39v3wl.mp3\n",
            "/content/drive/MyDrive/Datasets/Music/Additional_Music/splits_v2/train/07 Another Heart Calls_64zoTi.mp3\n",
            "/content/drive/MyDrive/Datasets/Music/Additional_Music/splits_v2/train/02 Last Living Souls_TKkwOc.mp3\n",
            "/content/drive/MyDrive/Datasets/Music/Additional_Music/splits_v2/train/12 Shoot Down_2pHd9P.mp3\n",
            "/content/drive/MyDrive/Datasets/Music/Additional_Music/splits_v2/train/Pulp - Mile End_ObQzxH.mp3\n",
            "/content/drive/MyDrive/Datasets/Music/Additional_Music/splits_v2/train/07 A Man and a Woman_DjRNsP.wav\n",
            "/content/drive/MyDrive/Datasets/Music/Additional_Music/splits_v2/train/08 The Island, Pt. I (Dawn)_PqLiZg.mp3\n",
            "/content/drive/MyDrive/Datasets/Music/Additional_Music/splits_v2/train/09 Gonzo_Shhgmm.wav\n",
            "/content/drive/MyDrive/Datasets/Music/Additional_Music/splits_v2/train/08 Beneath The Encasing Of Ashes (Re-Recorded Medley)_qGmRsc.wav\n",
            "/content/drive/MyDrive/Datasets/Music/Additional_Music/splits_v2/train/04 Welcome Home (Sanitarium)_Em5uaP.wav\n",
            "/content/drive/MyDrive/Datasets/Music/Additional_Music/splits_v2/train/02 Just Stop_4ZPjfF.mp3\n",
            "/content/drive/MyDrive/Datasets/Music/Additional_Music/splits_v2/train/10 Webers_Sgpo9s.mp3\n",
            "/content/drive/MyDrive/Datasets/Music/Additional_Music/splits_v2/train/14 Hell Hound On My Trail_CgkcsX.mp3\n",
            "/content/drive/MyDrive/Datasets/Music/Additional_Music/splits_v2/train/01 Natural Mystic_tTfVc0.wav\n",
            "/content/drive/MyDrive/Datasets/Music/Additional_Music/splits_v2/train/Could You Be Loved_PkwBM2.mp3\n",
            "/content/drive/MyDrive/Datasets/Music/Additional_Music/splits_v2/train/07 Cry Baby Cry_fYly7q.mp3\n",
            "/content/drive/MyDrive/Datasets/Music/Additional_Music/splits_v2/train/17 Untitled 63_x0XOXh.wav\n",
            "/content/drive/MyDrive/Datasets/Music/Additional_Music/splits_v2/train/05 Dig It_Rd6jzK.mp3\n",
            "/content/drive/MyDrive/Datasets/Music/Additional_Music/splits_v2/train/14 Leave It Alone_XQlxwb.wav\n",
            "/content/drive/MyDrive/Datasets/Music/Additional_Music/splits_v2/train/03 Walking Down The Line_QZ8i5h.mp3\n",
            "/content/drive/MyDrive/Datasets/Music/Additional_Music/splits_v2/train/08 Tommy-Gun_zcqtRQ.mp3\n",
            "/content/drive/MyDrive/Datasets/Music/Additional_Music/splits_v2/train/19 The Set Up_VJJ8Pu.mp3\n",
            "/content/drive/MyDrive/Datasets/Music/Additional_Music/splits_v2/train/10 Aftermath_GRfPpv.mp3\n",
            "/content/drive/MyDrive/Datasets/Music/Additional_Music/splits_v2/train/07 Empire Ants (feat. Little Dragon)_Px0I9d.mp3\n",
            "/content/drive/MyDrive/Datasets/Music/Additional_Music/splits_v2/train/14 Words Darker Than Their Wings_Nj001e.wav\n",
            "/content/drive/MyDrive/Datasets/Music/Additional_Music/splits_v2/train/05 Chelsea Dagger_Eo8dnN.wav\n",
            "/content/drive/MyDrive/Datasets/Music/Additional_Music/splits_v2/train/Primal Scream - Trainspotting_zoCXB1.wav\n",
            "/content/drive/MyDrive/Datasets/Music/Additional_Music/splits_v2/train/11 Mean Mr. Mustard_BhEOgz.mp3\n",
            "/content/drive/MyDrive/Datasets/Music/Additional_Music/splits_v2/train/01 Back In The USSR_IafLMs.wav\n",
            "/content/drive/MyDrive/Datasets/Music/Additional_Music/splits_v2/train/03 The Barracuda_FmP6wd.wav\n",
            "/content/drive/MyDrive/Datasets/Music/Additional_Music/splits_v2/train/technimatic-parallel-ft-zara-kershaw-official-video-youtubemp3free.org_nCIMDO.mp3\n",
            "/content/drive/MyDrive/Datasets/Music/Additional_Music/splits_v2/train/04 Afterlife_ShVnvZ.wav\n",
            "/content/drive/MyDrive/Datasets/Music/Additional_Music/splits_v2/train/26 Shut Up (feat. Lethal Bizzle)_7sGRck.wav\n",
            "/content/drive/MyDrive/Datasets/Music/Additional_Music/splits_v2/train/01 Shots_iSSgLl.wav\n",
            "/content/drive/MyDrive/Datasets/Music/Additional_Music/splits_v2/train/28 Horribly Ribbed (VIP)_5yCWSg.mp3\n",
            "/content/drive/MyDrive/Datasets/Music/Additional_Music/splits_v2/train/03 Bad Love_z5ZKVB.mp3\n",
            "/content/drive/MyDrive/Datasets/Music/Additional_Music/splits_v2/train/1-17 Candy Rain_O7iEGd.wav\n",
            "/content/drive/MyDrive/Datasets/Music/Additional_Music/splits_v2/train/05 Left Hand Free_50DF5k.wav\n",
            "/content/drive/MyDrive/Datasets/Music/Additional_Music/splits_v2/train/03 Holiday_JThyL2.mp3\n",
            "/content/drive/MyDrive/Datasets/Music/Additional_Music/splits_v2/train/04 Hyper Music_Fx84Vq.mp3\n",
            "/content/drive/MyDrive/Datasets/Music/Additional_Music/splits_v2/train/07 Orion (Instrumental)_78CizR.wav\n",
            "/content/drive/MyDrive/Datasets/Music/Additional_Music/splits_v2/train/1-05 Damian Marley, Method Man, Redman & Stephen Marley- Lyrical 44_UsR1S6.mp3\n",
            "/content/drive/MyDrive/Datasets/Music/Additional_Music/splits_v2/train/10 Hey Girl_NmMsvP.wav\n",
            "/content/drive/MyDrive/Datasets/Music/Additional_Music/splits_v2/train/06 Jamming_8O7FRt.wav\n",
            "/content/drive/MyDrive/Datasets/Music/Additional_Music/splits_v2/train/07 Pilsbury Doughgirl_hvDJPz.wav\n",
            "/content/drive/MyDrive/Datasets/Music/Additional_Music/splits_v2/train/10 Hoodoo_U0r0YG.wav\n",
            "/content/drive/MyDrive/Datasets/Music/Additional_Music/splits_v2/train/15 Inglorious_bjPmUj.wav\n",
            "/content/drive/MyDrive/Datasets/Music/Additional_Music/splits_v2/train/03 Scream_rp0QsU.mp3\n",
            "/content/drive/MyDrive/Datasets/Music/Additional_Music/splits_v2/train/26 The Island (Lenzman Remix)_cYg1T1.wav\n",
            "/content/drive/MyDrive/Datasets/Music/Additional_Music/splits_v2/train/01 My Paper Heart_UIoWXr.wav\n",
            "/content/drive/MyDrive/Datasets/Music/Additional_Music/splits_v2/train/05 Her Name Rhymes With Mindy_P5y78t.mp3\n",
            "/content/drive/MyDrive/Datasets/Music/Additional_Music/splits_v2/train/06 Sounds Of Life Feat. Jasmine Lee_IapMW1.mp3\n",
            "/content/drive/MyDrive/Datasets/Music/Additional_Music/splits_v2/train/08 Crucified_Z4ROUH.mp3\n",
            "/content/drive/MyDrive/Datasets/Music/Additional_Music/splits_v2/train/05 Hyperspeed (G-Force Part 2)_LW7slQ.mp3\n",
            "/content/drive/MyDrive/Datasets/Music/Additional_Music/splits_v2/train/03 Glass Onion_lkFxAI.wav\n",
            "/content/drive/MyDrive/Datasets/Music/Additional_Music/splits_v2/train/01 Easy Skanking_iKpuSj.wav\n",
            "/content/drive/MyDrive/Datasets/Music/Additional_Music/splits_v2/train/21 Sieso_jud5MP.wav\n",
            "/content/drive/MyDrive/Datasets/Music/Additional_Music/splits_v2/train/13 Yesterday_EJwWtn.wav\n",
            "/content/drive/MyDrive/Datasets/Music/Additional_Music/splits_v2/train/05 Through The Loop_leFzHf.mp3\n",
            "/content/drive/MyDrive/Datasets/Music/Additional_Music/splits_v2/train/06 Something Good_nnuwnU.wav\n",
            "/content/drive/MyDrive/Datasets/Music/Additional_Music/splits_v2/train/05 Another Girl_G9Z8aP.mp3\n",
            "/content/drive/MyDrive/Datasets/Music/Additional_Music/splits_v2/train/3-10 Playing Around (Dub)_B4MM7Q.wav\n",
            "/content/drive/MyDrive/Datasets/Music/Additional_Music/splits_v2/train/11 Stay Together For The Kids_t46xHr.mp3\n",
            "/content/drive/MyDrive/Datasets/Music/Additional_Music/splits_v2/train/01 All Eyes_4YxXBc.mp3\n",
            "/content/drive/MyDrive/Datasets/Music/Additional_Music/splits_v2/train/04 Believe_3lF6k7.wav\n",
            "/content/drive/MyDrive/Datasets/Music/Additional_Music/splits_v2/train/technimatic-parallel-ft-zara-kershaw-official-video-youtubemp3free.org_HaePV1.wav\n",
            "/content/drive/MyDrive/Datasets/Music/Additional_Music/splits_v2/train/05 Goodnight, Fair Lady_AgHR8W.wav\n",
            "/content/drive/MyDrive/Datasets/Music/Additional_Music/splits_v2/train/03 Memphis Bell_O6UjCu.mp3\n",
            "/content/drive/MyDrive/Datasets/Music/Additional_Music/splits_v2/train/01 Henrietta_fdXIJo.mp3\n",
            "/content/drive/MyDrive/Datasets/Music/Additional_Music/splits_v2/train/07 U-Fig_qyNAbP.wav\n",
            "/content/drive/MyDrive/Datasets/Music/Additional_Music/splits_v2/train/08 Don't You Know Who I Think I Am__HNMUKR.mp3\n",
            "/content/drive/MyDrive/Datasets/Music/Additional_Music/splits_v2/train/All Of The Stars_e5gWsf.mp3\n",
            "/content/drive/MyDrive/Datasets/Music/Additional_Music/splits_v2/train/07 - Feels Like We Only Go Backwards_VByODH.wav\n",
            "/content/drive/MyDrive/Datasets/Music/Additional_Music/splits_v2/train/05 Left Hand Free_iyXH7i.mp3\n",
            "/content/drive/MyDrive/Datasets/Music/Additional_Music/splits_v2/train/09 Big Freeze_P4XTx6.mp3\n",
            "/content/drive/MyDrive/Datasets/Music/Additional_Music/splits_v2/train/07 Stir It Up_IIhaKH.mp3\n",
            "/content/drive/MyDrive/Datasets/Music/Additional_Music/splits_v2/train/03 Open Your Eyes_6sU4vz.mp3\n",
            "/content/drive/MyDrive/Datasets/Music/Additional_Music/splits_v2/train/Rone_-_Spanish_Breakfast_Full_Album[www.MP3Fiber.com]_OFjnZm.mp3\n",
            "/content/drive/MyDrive/Datasets/Music/Additional_Music/splits_v2/train/10 Letterbomb_lX0059.mp3\n",
            "/content/drive/MyDrive/Datasets/Music/Additional_Music/splits_v2/train/09 Angel Blue_CIsegS.mp3\n",
            "/content/drive/MyDrive/Datasets/Music/Additional_Music/splits_v2/train/01 Enter Sandman_EuhOgM.mp3\n",
            "/content/drive/MyDrive/Datasets/Music/Additional_Music/splits_v2/train/17 Keep Pushing Me (FABRICLIVE 70 Edit)_3tBMsK.mp3\n",
            "/content/drive/MyDrive/Datasets/Music/Additional_Music/splits_v2/train/07 Dissolve Me_JwtAap.mp3\n",
            "/content/drive/MyDrive/Datasets/Music/Additional_Music/splits_v2/train/02 Buffalo_nTB0iT.mp3\n",
            "/content/drive/MyDrive/Datasets/Music/Additional_Music/splits_v2/train/13 Pain Redefined_2CwsIk.wav\n",
            "/content/drive/MyDrive/Datasets/Music/Additional_Music/splits_v2/train/02 Seven_L01iHq.wav\n",
            "/content/drive/MyDrive/Datasets/Music/Additional_Music/splits_v2/train/01 Indestructible_2eebFb.mp3\n",
            "/content/drive/MyDrive/Datasets/Music/Additional_Music/splits_v2/train/09 Top Of The World_KzK4IH.mp3\n",
            "/content/drive/MyDrive/Datasets/Music/Additional_Music/splits_v2/train/20 Steam Train _ Cypher_9DWwnV.wav\n",
            "/content/drive/MyDrive/Datasets/Music/Additional_Music/splits_v2/train/07 Addictive_TsCFyF.wav\n",
            "/content/drive/MyDrive/Datasets/Music/Additional_Music/splits_v2/train/01 - Desire Be Desire Go_P0YMkF.mp3\n",
            "/content/drive/MyDrive/Datasets/Music/Additional_Music/splits_v2/train/41 Pure Grime (Continuous Mix 1 - Mixed by Sir Spyro)_Bl6O7T.mp3\n",
            "/content/drive/MyDrive/Datasets/Music/Additional_Music/splits_v2/train/02 Speaking Gently_DwnEdw.mp3\n",
            "/content/drive/MyDrive/Datasets/Music/Additional_Music/splits_v2/train/04 Moodswings (Break Remix)_cm4wDC.mp3\n",
            "/content/drive/MyDrive/Datasets/Music/Additional_Music/splits_v2/train/06 For The Girl_c8uRGZ.wav\n",
            "/content/drive/MyDrive/Datasets/Music/Additional_Music/splits_v2/train/21 Sieso_ZqHkOw.mp3\n",
            "/content/drive/MyDrive/Datasets/Music/Additional_Music/splits_v2/train/07 Addictive_OZGx4G.mp3\n",
            "/content/drive/MyDrive/Datasets/Music/Additional_Music/splits_v2/train/30 Time Tripping (FABRICLIVE 70 Edit)_v1EDLF.wav\n",
            "/content/drive/MyDrive/Datasets/Music/Additional_Music/splits_v2/train/DarkMatta - Circles (Kayze Remix) Free D-L_ikeNnl.wav\n",
            "/content/drive/MyDrive/Datasets/Music/Additional_Music/splits_v2/train/10 My Only Home_wShoYS.wav\n",
            "/content/drive/MyDrive/Datasets/Music/Additional_Music/splits_v2/train/03 Nuke The Threat_DDnjZb.mp3\n",
            "/content/drive/MyDrive/Datasets/Music/Additional_Music/splits_v2/train/13 Take It Back_cJjNcJ.wav\n",
            "/content/drive/MyDrive/Datasets/Music/Additional_Music/splits_v2/train/Roots Rock Reggae_dql7LI.wav\n",
            "/content/drive/MyDrive/Datasets/Music/Additional_Music/splits_v2/train/JME - Pulse 8_(song365.cc)_bSPrfB.mp3\n",
            "/content/drive/MyDrive/Datasets/Music/Additional_Music/splits_v2/train/01 Microphone Fiend_91kZLX.mp3\n",
            "/content/drive/MyDrive/Datasets/Music/Additional_Music/splits_v2/train/13 Ishfwilf_YlOqSv.wav\n",
            "/content/drive/MyDrive/Datasets/Music/Additional_Music/splits_v2/train/11 You Can Dream (FABRICLIVE 70 Edit)_CKoxgm.mp3\n",
            "/content/drive/MyDrive/Datasets/Music/Additional_Music/splits_v2/train/12 The Cigarette Song_1FAjfD.wav\n",
            "/content/drive/MyDrive/Datasets/Music/Additional_Music/splits_v2/train/11 Rusty James_McWFhD.wav\n",
            "/content/drive/MyDrive/Datasets/Music/Additional_Music/splits_v2/train/She's Leaving Home_iLZ3WO.mp3\n",
            "/content/drive/MyDrive/Datasets/Music/Additional_Music/splits_v2/train/11 Murder City_GwcGoX.mp3\n",
            "/content/drive/MyDrive/Datasets/Music/Additional_Music/splits_v2/train/05 Sexy Sadie_WxKTVR.mp3\n",
            "/content/drive/MyDrive/Datasets/Music/Additional_Music/splits_v2/train/10 Eyes Of The Devil_giDo1r.mp3\n",
            "/content/drive/MyDrive/Datasets/Music/Additional_Music/splits_v2/train/2-09 Club La La (DJ Q Bassline Remix)_2zlRWJ.mp3\n",
            "/content/drive/MyDrive/Datasets/Music/Additional_Music/splits_v2/train/06 Photograph_haOQtw.wav\n",
            "/content/drive/MyDrive/Datasets/Music/Additional_Music/splits_v2/train/10 Bound_jOp1Aw.mp3\n",
            "/content/drive/MyDrive/Datasets/Music/Additional_Music/splits_v2/train/170_C_Padloop_05_SP_rQUzWD.wav\n",
            "/content/drive/MyDrive/Datasets/Music/Additional_Music/splits_v2/train/02 James Brown_wIptvR.mp3\n",
            "/content/drive/MyDrive/Datasets/Music/Additional_Music/splits_v2/train/10 On Melancholy Hill_T1OUBR.wav\n",
            "/content/drive/MyDrive/Datasets/Music/Additional_Music/splits_v2/train/07 This Ain't A Scene, It's An Arms Race_knyuIR.wav\n",
            "/content/drive/MyDrive/Datasets/Music/Additional_Music/splits_v2/train/05 Invisible Kid_Rj7afj.mp3\n",
            "/content/drive/MyDrive/Datasets/Music/Additional_Music/splits_v2/train/08 Creepin' Up The Backstairs_5Adnec.mp3\n",
            "/content/drive/MyDrive/Datasets/Music/Additional_Music/splits_v2/train/Gone_x9MGSL.mp3\n",
            "/content/drive/MyDrive/Datasets/Music/Additional_Music/splits_v2/train/10 Another Star_6YNBmO.wav\n",
            "/content/drive/MyDrive/Datasets/Music/Additional_Music/splits_v2/train/07 Trampled Under Foot_XrcLFo.wav\n",
            "/content/drive/MyDrive/Datasets/Music/Additional_Music/splits_v2/train/07 IV_kcoaj9.mp3\n",
            "/content/drive/MyDrive/Datasets/Music/Additional_Music/splits_v2/train/03 Mother Nature's Son_WvyKGT.wav\n",
            "/content/drive/MyDrive/Datasets/Music/Additional_Music/splits_v2/train/05 Another Way To Die_efrZ4v.mp3\n",
            "/content/drive/MyDrive/Datasets/Music/Additional_Music/splits_v2/train/01 I Wanna_7rLm5J.wav\n",
            "/content/drive/MyDrive/Datasets/Music/Additional_Music/splits_v2/train/05 Good To Be Bad_qzges6.wav\n",
            "/content/drive/MyDrive/Datasets/Music/Additional_Music/splits_v2/train/09 One Step Closer_X72YJR.wav\n",
            "/content/drive/MyDrive/Datasets/Music/Additional_Music/splits_v2/train/06 Anger And Apathy_7IVU7C.mp3\n",
            "/content/drive/MyDrive/Datasets/Music/Additional_Music/splits_v2/train/03 Guns of Summer_CKbheN.mp3\n",
            "/content/drive/MyDrive/Datasets/Music/Additional_Music/splits_v2/train/12 Another Brick In The Wall (Par 1_9Pot7G.wav\n",
            "/content/drive/MyDrive/Datasets/Music/Additional_Music/splits_v2/train/11 Road to Zion_aZpfPY.mp3\n",
            "/content/drive/MyDrive/Datasets/Music/Additional_Music/splits_v2/train/01 The Swamp_e5Dv3q.mp3\n",
            "/content/drive/MyDrive/Datasets/Music/Additional_Music/splits_v2/train/05 Iron Fist_6Q4EmT.wav\n",
            "/content/drive/MyDrive/Datasets/Music/Additional_Music/splits_v2/train/01 Is This Love_2mmpMj.wav\n",
            "/content/drive/MyDrive/Datasets/Music/Additional_Music/splits_v2/train/21 Pull It Up (feat. JME & Ny)_g5PPMV.mp3\n",
            "/content/drive/MyDrive/Datasets/Music/Additional_Music/splits_v2/train/17 Julia_HcDME9.mp3\n",
            "/content/drive/MyDrive/Datasets/Music/Additional_Music/splits_v2/train/11 Low_Mans_Lyric_31E94r.mp3\n",
            "/content/drive/MyDrive/Datasets/Music/Additional_Music/splits_v2/train/10 Soil To The Sun_nJdXDH.wav\n",
            "/content/drive/MyDrive/Datasets/Music/Additional_Music/splits_v2/train/Piano_f 1_FyQk8R.wav\n",
            "/content/drive/MyDrive/Datasets/Music/Additional_Music/splits_v2/train/03 Hey Hey_CQanKu.mp3\n",
            "/content/drive/MyDrive/Datasets/Music/Additional_Music/splits_v2/train/16 Let It Grow_LqIoDM.mp3\n",
            "/content/drive/MyDrive/Datasets/Music/Additional_Music/splits_v2/train/03 Sirius (Twin Star)_wEnRx0.wav\n",
            "/content/drive/MyDrive/Datasets/Music/Additional_Music/splits_v2/train/03 Harvester of Sorrow_rliJog.mp3\n",
            "/content/drive/MyDrive/Datasets/Music/Additional_Music/splits_v2/train/11 Break Me Down_qoAxj7.wav\n",
            "/content/drive/MyDrive/Datasets/Music/Additional_Music/splits_v2/train/03 Chasing Cars_jXkE90.mp3\n",
            "/content/drive/MyDrive/Datasets/Music/Additional_Music/splits_v2/train/02 Get Off My Case_GSWsIJ.mp3\n",
            "/content/drive/MyDrive/Datasets/Music/Additional_Music/splits_v2/train/10 Behind The Mask_yQdYDN.mp3\n",
            "/content/drive/MyDrive/Datasets/Music/Additional_Music/splits_v2/train/03 Without Conclusion_BuwI5p.wav\n",
            "/content/drive/MyDrive/Datasets/Music/Additional_Music/splits_v2/train/violent-pornography_bh17mJ.mp3\n",
            "/content/drive/MyDrive/Datasets/Music/Additional_Music/splits_v2/train/09 Where_The_Wild_Things_Are_OkWwPE.mp3\n",
            "/content/drive/MyDrive/Datasets/Music/Additional_Music/splits_v2/train/02 Drive Away_T3xrNi.wav\n",
            "/content/drive/MyDrive/Datasets/Music/Additional_Music/splits_v2/train/12 Streamline_kYuNJ0.mp3\n",
            "/content/drive/MyDrive/Datasets/Music/Additional_Music/splits_v2/train/01 - Be Above It_ekotsq.mp3\n",
            "/content/drive/MyDrive/Datasets/Music/Additional_Music/splits_v2/train/Lost_NqB1wK.wav\n",
            "/content/drive/MyDrive/Datasets/Music/Additional_Music/splits_v2/train/Underworld - Born Slippy-NUXX_7zlbTP.wav\n",
            "/content/drive/MyDrive/Datasets/Music/Additional_Music/splits_v2/train/09 Sandwitches feat. Hodgy Beats_6Rekgd.mp3\n",
            "/content/drive/MyDrive/Datasets/Music/Additional_Music/splits_v2/train/05 Bring the Boys Back Home 1_2IbyVf.wav\n",
            "/content/drive/MyDrive/Datasets/Music/Additional_Music/splits_v2/train/04 faust_qjO2tp.wav\n",
            "/content/drive/MyDrive/Datasets/Music/Additional_Music/splits_v2/train/03 D'yer Mak'er_rMiZbP.mp3\n",
            "/content/drive/MyDrive/Datasets/Music/Additional_Music/splits_v2/train/11 Summer_1uD8Hq.wav\n",
            "/content/drive/MyDrive/Datasets/Music/Additional_Music/splits_v2/train/10 All My Love_B8RkLN.wav\n",
            "/content/drive/MyDrive/Datasets/Music/Additional_Music/splits_v2/train/04 Ob-La-Di, Ob-La-Da_NIGNtv.wav\n",
            "/content/drive/MyDrive/Datasets/Music/Additional_Music/splits_v2/train/12 Fuck The System_HXBwqs.mp3\n",
            "/content/drive/MyDrive/Datasets/Music/Additional_Music/splits_v2/train/05 Beautiful World_aY0vDa.mp3\n",
            "/content/drive/MyDrive/Datasets/Music/Additional_Music/splits_v2/train/06 Yellow Submarine_56DaAs.mp3\n",
            "/content/drive/MyDrive/Datasets/Music/Additional_Music/splits_v2/train/12 Waste_oaxzIy.mp3\n",
            "/content/drive/MyDrive/Datasets/Music/Additional_Music/splits_v2/train/10 Forgiven_kTyxqA.mp3\n",
            "/content/drive/MyDrive/Datasets/Music/Additional_Music/splits_v2/train/08 It Comes Back To You_oV4YQr.wav\n",
            "/content/drive/MyDrive/Datasets/Music/Additional_Music/splits_v2/train/04 Don't_UYz0lr.wav\n",
            "/content/drive/MyDrive/Datasets/Music/Additional_Music/splits_v2/train/10 The Long And Winding Road_NMqMlb.mp3\n",
            "/content/drive/MyDrive/Datasets/Music/Additional_Music/splits_v2/train/06 Never Again_dHlgqS.mp3\n",
            "/content/drive/MyDrive/Datasets/Music/Additional_Music/splits_v2/train/09 Flaws_TojEvt.mp3\n",
            "/content/drive/MyDrive/Datasets/Music/Additional_Music/splits_v2/train/02 Anodyne Sea_X9CXu0.mp3\n",
            "/content/drive/MyDrive/Datasets/Music/Additional_Music/splits_v2/train/11 When Skeletons Live_7dWeDl.mp3\n",
            "/content/drive/MyDrive/Datasets/Music/Additional_Music/splits_v2/train/10 Waiting in Vain_0YZhVp.mp3\n",
            "/content/drive/MyDrive/Datasets/Music/Additional_Music/splits_v2/train/02 The_Memory_Remains_VBTcCV.wav\n",
            "/content/drive/MyDrive/Datasets/Music/Additional_Music/splits_v2/train/06 Fembot_G8DQtu.wav\n",
            "/content/drive/MyDrive/Datasets/Music/Additional_Music/splits_v2/train/11 Broken_Nc6GpN.wav\n",
            "/content/drive/MyDrive/Datasets/Music/Additional_Music/splits_v2/train/11 Turn Your Lights Down Low_m31nhN.wav\n",
            "/content/drive/MyDrive/Datasets/Music/Additional_Music/splits_v2/train/01 The Same Old Fashioned New Year_ukrhWa.wav\n",
            "/content/drive/MyDrive/Datasets/Music/Additional_Music/splits_v2/train/34 Decoy_cWDKxf.mp3\n",
            "/content/drive/MyDrive/Datasets/Music/Additional_Music/splits_v2/train/03 Psycho_jfM59M.wav\n",
            "/content/drive/MyDrive/Datasets/Music/Additional_Music/splits_v2/train/13 Fixxxer_dNRXho.wav\n",
            "/content/drive/MyDrive/Datasets/Music/Additional_Music/splits_v2/train/13 Someday's Gone (Demo)_8WUXBl.wav\n",
            "/content/drive/MyDrive/Datasets/Music/Additional_Music/splits_v2/train/12 Feeling This_Qwi3EB.mp3\n",
            "/content/drive/MyDrive/Datasets/Music/Additional_Music/splits_v2/train/19 Witchcraft (John B Remix)_sRllvT.wav\n",
            "/content/drive/MyDrive/Datasets/Music/Additional_Music/splits_v2/train/Give Me Ecstasy_rZ4Iej.wav\n",
            "/content/drive/MyDrive/Datasets/Music/Additional_Music/splits_v2/train/04 Let Yourself Go_sqwaNx.mp3\n",
            "/content/drive/MyDrive/Datasets/Music/Additional_Music/splits_v2/train/14 Thetawaves_lb1WoS.mp3\n",
            "/content/drive/MyDrive/Datasets/Music/Additional_Music/splits_v2/train/13 Lay Down Sally_OHyGEI.mp3\n",
            "/content/drive/MyDrive/Datasets/Music/Additional_Music/splits_v2/train/02 Get Off My Case_MuNgGe.wav\n",
            "/content/drive/MyDrive/Datasets/Music/Additional_Music/splits_v2/train/07 Stop Breakin' Down Blues_Zi2mEg.wav\n",
            "/content/drive/MyDrive/Datasets/Music/Additional_Music/splits_v2/train/08-dom_and_roland-paradenasite_(combined_by_hive)-sour_JZOGRp.wav\n",
            "/content/drive/MyDrive/Datasets/Music/Additional_Music/splits_v2/train/02 Dreaming_wLe5mE.wav\n",
            "/content/drive/MyDrive/Datasets/Music/Additional_Music/splits_v2/train/04 Psychosocial_3eXdI6.mp3\n",
            "/content/drive/MyDrive/Datasets/Music/Additional_Music/splits_v2/train/29 Been Doing This (feat. Flirta D, Meridian Dan & Footsie)_zwRZqc.wav\n",
            "/content/drive/MyDrive/Datasets/Music/Additional_Music/splits_v2/train/21 Witchcraft (Netsky Remix)_es67gS.mp3\n",
            "/content/drive/MyDrive/Datasets/Music/Additional_Music/splits_v2/train/09 Work Song_GlGpMl.mp3\n",
            "/content/drive/MyDrive/Datasets/Music/Additional_Music/splits_v2/train/06 Pigs Fly Featuring Domo Genesis_UzgNwC.wav\n",
            "/content/drive/MyDrive/Datasets/Music/Additional_Music/splits_v2/train/02 Inside The Fire_P2klyu.wav\n",
            "/content/drive/MyDrive/Datasets/Music/Additional_Music/splits_v2/train/04 - Mind Mischief_j9Bvt9.mp3\n",
            "/content/drive/MyDrive/Datasets/Music/Additional_Music/splits_v2/train/2-20 Damian Marley, Stephen Marley & Krazie Bone - Revolution_uxVATL.wav\n",
            "/content/drive/MyDrive/Datasets/Music/Additional_Music/splits_v2/train/03 Diesel Power_InV5p7.wav\n",
            "/content/drive/MyDrive/Datasets/Music/Additional_Music/splits_v2/train/1-04 Like This (Pt. 2)_ByT8KG.mp3\n",
            "/content/drive/MyDrive/Datasets/Music/Additional_Music/splits_v2/train/05 Dirty Harry_9ssn1b.wav\n",
            "/content/drive/MyDrive/Datasets/Music/Additional_Music/splits_v2/train/12 The Cigarette Song_YQrII5.mp3\n",
            "/content/drive/MyDrive/Datasets/Music/Additional_Music/splits_v2/train/2-07 It's Over (Wittyboy Remix)_jcwiwK.wav\n",
            "/content/drive/MyDrive/Datasets/Music/Additional_Music/splits_v2/train/04 Limit To Your Love_oYfy4T.wav\n",
            "/content/drive/MyDrive/Datasets/Music/Additional_Music/splits_v2/train/05 de punked_SXkZQJ.wav\n",
            "/content/drive/MyDrive/Datasets/Music/Additional_Music/splits_v2/train/04 The Gift_4KsTJe.wav\n",
            "/content/drive/MyDrive/Datasets/Music/Additional_Music/splits_v2/train/04 Buried Alive_dVvYz1.wav\n",
            "/content/drive/MyDrive/Datasets/Music/Additional_Music/splits_v2/train/06 Could You Be Loved Remix_1oOLaW.wav\n",
            "/content/drive/MyDrive/Datasets/Music/Additional_Music/splits_v2/train/05 Blow_xscHjF.wav\n",
            "/content/drive/MyDrive/Datasets/Music/Additional_Music/splits_v2/train/Underworld - Dark and Long (Da_ndTyBK.wav\n",
            "/content/drive/MyDrive/Datasets/Music/Additional_Music/splits_v2/train/07 Adam's Song_Fnryif.mp3\n",
            "/content/drive/MyDrive/Datasets/Music/Additional_Music/splits_v2/train/03 Bubbles_JdyfFV.wav\n",
            "/content/drive/MyDrive/Datasets/Music/Additional_Music/splits_v2/train/13 Kick Out The Jams (Live)_iiIEOm.wav\n",
            "/content/drive/MyDrive/Datasets/Music/Additional_Music/splits_v2/train/01 Tokyo Drift (Fast & Furious)_MTpeWu.mp3\n",
            "/content/drive/MyDrive/Datasets/Music/Additional_Music/splits_v2/train/02 Pistol Grip Pump_5fPAvt.mp3\n",
            "/content/drive/MyDrive/Datasets/Music/Additional_Music/splits_v2/train/12 Got Ma Nuts From A Hippie_Kbs9M9.mp3\n",
            "/content/drive/MyDrive/Datasets/Music/Additional_Music/splits_v2/train/05 Another Brick In The Wall (Par_BjcYmx.wav\n",
            "/content/drive/MyDrive/Datasets/Music/Additional_Music/splits_v2/train/03 Aint No Rest For The Wicked_U0gd65.mp3\n",
            "/content/drive/MyDrive/Datasets/Music/Additional_Music/splits_v2/train/09 Celebration Day_1YaRgB.mp3\n",
            "/content/drive/MyDrive/Datasets/Music/Additional_Music/splits_v2/train/16 The End_bmHmGq.mp3\n",
            "/content/drive/MyDrive/Datasets/Music/Additional_Music/splits_v2/train/17 I've Got A Rock'N'Roll Heart_DTiRbK.mp3\n",
            "/content/drive/MyDrive/Datasets/Music/Additional_Music/splits_v2/train/01 Bastard_PckrWM.wav\n",
            "/content/drive/MyDrive/Datasets/Music/Additional_Music/splits_v2/train/10 You Like Me Too Much_dOayq0.mp3\n",
            "/content/drive/MyDrive/Datasets/Music/Additional_Music/splits_v2/train/04 Everybody Wants To Be An Astronaut_O1b1Oo.wav\n",
            "/content/drive/MyDrive/Datasets/Music/Additional_Music/splits_v2/train/03 Deer Dance_x8gt1G.wav\n",
            "/content/drive/MyDrive/Datasets/Music/Additional_Music/splits_v2/train/11 Broken_lFC5bp.mp3\n",
            "/content/drive/MyDrive/Datasets/Music/Additional_Music/splits_v2/train/05 Crossroads_Guyjvv.wav\n",
            "/content/drive/MyDrive/Datasets/Music/Additional_Music/splits_v2/train/06 Breakin'_Mo8FYM.mp3\n",
            "/content/drive/MyDrive/Datasets/Music/Additional_Music/splits_v2/train/Ice MC - Think About the Way_23YbIr.wav\n",
            "/content/drive/MyDrive/Datasets/Music/Additional_Music/splits_v2/train/09 Speed_j3Ofx7.mp3\n",
            "/content/drive/MyDrive/Datasets/Music/Additional_Music/splits_v2/train/08 Dance Inside_LMooj8.mp3\n",
            "/content/drive/MyDrive/Datasets/Music/Additional_Music/splits_v2/train/Iggy Pop - Lust for Life_4uHmiH.wav\n",
            "/content/drive/MyDrive/Datasets/Music/Additional_Music/splits_v2/train/03 Danger Line_X1tRGi.wav\n",
            "/content/drive/MyDrive/Datasets/Music/Additional_Music/splits_v2/train/42 Pure Grime (Continuous Mix 2 - Mixed by Sir Spyro)_98i54t.wav\n",
            "/content/drive/MyDrive/Datasets/Music/Additional_Music/splits_v2/train/04 Hypnotize_I6ht2T.wav\n",
            "/content/drive/MyDrive/Datasets/Music/Additional_Music/splits_v2/train/03 Too Far Gone_V2zzB5.wav\n",
            "/content/drive/MyDrive/Datasets/Music/Additional_Music/splits_v2/train/10 Damian Marley & Ziggy Marley - Brothers Keeper_35qWgl.wav\n",
            "/content/drive/MyDrive/Datasets/Music/Additional_Music/splits_v2/train/05 All Night_VLqJoo.wav\n",
            "/content/drive/MyDrive/Datasets/Music/Additional_Music/splits_v2/train/04 The Master Has Come Back_QwQDFL.wav\n",
            "/content/drive/MyDrive/Datasets/Music/Additional_Music/splits_v2/train/12 Oh Love_Sx0Eil.wav\n",
            "/content/drive/MyDrive/Datasets/Music/Additional_Music/splits_v2/train/01 Damian Marley & Stephen Marley - Inner Circle (original version)_bVaqzU.wav\n",
            "/content/drive/MyDrive/Datasets/Music/Additional_Music/splits_v2/train/04 Lazy Bones_9Ue591.wav\n",
            "/content/drive/MyDrive/Datasets/Music/Additional_Music/splits_v2/train/05 Thinking About You_EuCpzc.mp3\n",
            "/content/drive/MyDrive/Datasets/Music/Additional_Music/splits_v2/train/02 All In One_TxtLUK.wav\n",
            "/content/drive/MyDrive/Datasets/Music/Additional_Music/splits_v2/train/08 Milkcow's Calf Blues_G2WGBZ.wav\n",
            "/content/drive/MyDrive/Datasets/Music/Additional_Music/splits_v2/train/04 Sing For Absolution_c9GyTI.wav\n",
            "/content/drive/MyDrive/Datasets/Music/Additional_Music/splits_v2/train/13 Old Love_FNdsys.mp3\n",
            "/content/drive/MyDrive/Datasets/Music/Additional_Music/splits_v2/train/12 Fast Cars [_]_ZCAMdG.mp3\n",
            "/content/drive/MyDrive/Datasets/Music/Additional_Music/splits_v2/train/12 Shoot Down_iZCShW.wav\n",
            "/content/drive/MyDrive/Datasets/Music/Additional_Music/splits_v2/train/11 19-2000_6RizBl.mp3\n",
            "/content/drive/MyDrive/Datasets/Music/Additional_Music/splits_v2/train/06 From Eden_KSmCpQ.wav\n",
            "/content/drive/MyDrive/Datasets/Music/Additional_Music/splits_v2/train/09 For the Babies_4XShhB.wav\n",
            "/content/drive/MyDrive/Datasets/Music/Additional_Music/splits_v2/train/14 Knockin' On Heaven's Door_wGxXF6.mp3\n",
            "/content/drive/MyDrive/Datasets/Music/Additional_Music/splits_v2/train/27 Locked_xxV4JO.mp3\n",
            "/content/drive/MyDrive/Datasets/Music/Additional_Music/splits_v2/train/04 All Blues_j1lSAt.wav\n",
            "/content/drive/MyDrive/Datasets/Music/Additional_Music/splits_v2/train/09 Always N' Forever_VBMhim.wav\n",
            "/content/drive/MyDrive/Datasets/Music/Additional_Music/splits_v2/train/08 It Comes Back To You_MpC1Ha.wav\n",
            "/content/drive/MyDrive/Datasets/Music/Additional_Music/splits_v2/train/06 ghost train_2oKDze.mp3\n",
            "/content/drive/MyDrive/Datasets/Music/Additional_Music/splits_v2/train/07 Joy_LpHMIZ.wav\n",
            "/content/drive/MyDrive/Datasets/Music/Additional_Music/splits_v2/train/08 The Last Song (Acoustic)_djOc0P.mp3\n",
            "/content/drive/MyDrive/Datasets/Music/Additional_Music/splits_v2/train/01 Damian Marley - Something For You (Gang War Riddim)_Zs5dzl.wav\n",
            "/content/drive/MyDrive/Datasets/Music/Additional_Music/splits_v2/train/12 Feeling This_PLQKWk.wav\n",
            "/content/drive/MyDrive/Datasets/Music/Additional_Music/splits_v2/train/07 Cry Baby Cry_CJ5fsw.wav\n",
            "/content/drive/MyDrive/Datasets/Music/Additional_Music/splits_v2/train/06 St. Jimmy_xeAIsi.mp3\n",
            "/content/drive/MyDrive/Datasets/Music/Additional_Music/splits_v2/train/08 Coming home_RrGGRL.mp3\n",
            "/content/drive/MyDrive/Datasets/Music/Additional_Music/splits_v2/train/14 The Fountain (feat. Steven Wilson)_gTM9DQ.mp3\n",
            "/content/drive/MyDrive/Datasets/Music/Additional_Music/splits_v2/train/15 P's and Q's_59rLtG.mp3\n",
            "/content/drive/MyDrive/Datasets/Music/Additional_Music/splits_v2/train/04 War Ensemble (Slayer Cover)_9viIGN.mp3\n",
            "/content/drive/MyDrive/Datasets/Music/Additional_Music/splits_v2/train/04 Jet Pilot_ElLR8a.mp3\n",
            "/content/drive/MyDrive/Datasets/Music/Additional_Music/splits_v2/train/08 Forest_bMh0X9.wav\n",
            "/content/drive/MyDrive/Datasets/Music/Additional_Music/splits_v2/train/1-10 Good Times_zuINam.mp3\n",
            "/content/drive/MyDrive/Datasets/Music/Additional_Music/splits_v2/train/Closer_rWtFua.mp3\n",
            "/content/drive/MyDrive/Datasets/Music/Additional_Music/splits_v2/train/05 Bastard _ Lemonade_QvSMbk.mp3\n",
            "/content/drive/MyDrive/Datasets/Music/Additional_Music/splits_v2/train/02 Nothing Left_uuP4XO.mp3\n",
            "/content/drive/MyDrive/Datasets/Music/Additional_Music/splits_v2/train/02 Innervision_DM3HuW.mp3\n",
            "/content/drive/MyDrive/Datasets/Music/Additional_Music/splits_v2/train/17 Another Girl Another Planet_zUZsSt.mp3\n",
            "/content/drive/MyDrive/Datasets/Music/Additional_Music/splits_v2/train/09 The Unnamed Feeling_HmQX3v.mp3\n",
            "/content/drive/MyDrive/Datasets/Music/Additional_Music/splits_v2/train/04 Let Yourself Go_8rb8M0.wav\n",
            "/content/drive/MyDrive/Datasets/Music/Additional_Music/splits_v2/train/02 There for You_JyK1UR.mp3\n",
            "/content/drive/MyDrive/Datasets/Music/Additional_Music/splits_v2/train/01 Beast and the Harlot_tbzEoC.wav\n",
            "/content/drive/MyDrive/Datasets/Music/Additional_Music/splits_v2/train/01 (515)_6nsgWW.wav\n",
            "/content/drive/MyDrive/Datasets/Music/Additional_Music/splits_v2/train/03 Breakdown_4BbDFl.wav\n",
            "/content/drive/MyDrive/Datasets/Music/Additional_Music/splits_v2/train/08 Coming home_5TGWi2.wav\n",
            "/content/drive/MyDrive/Datasets/Music/Additional_Music/splits_v2/train/09 Conflict_Y6PiSC.mp3\n",
            "/content/drive/MyDrive/Datasets/Music/Additional_Music/splits_v2/train/13 Kick Out The Jams (Live)_SGa5QK.mp3\n",
            "/content/drive/MyDrive/Datasets/Music/Additional_Music/splits_v2/train/04 The Happiest Days Of Our Lives_fCcGOt.mp3\n",
            "/content/drive/MyDrive/Datasets/Music/Additional_Music/splits_v2/train/1-22 Tears (BurgaBoy Remix)_Jt3tlr.wav\n",
            "/content/drive/MyDrive/Datasets/Music/Additional_Music/splits_v2/train/06 Comfort Betrays_tBhjqa.mp3\n",
            "/content/drive/MyDrive/Datasets/Music/Additional_Music/splits_v2/train/19 Witchcraft (John B Remix)_MFmvti.mp3\n",
            "/content/drive/MyDrive/Datasets/Music/Additional_Music/splits_v2/train/15 Roulette_RrpeMv.wav\n",
            "/content/drive/MyDrive/Datasets/Music/Additional_Music/splits_v2/train/05 The Plague_BiDPgd.wav\n",
            "/content/drive/MyDrive/Datasets/Music/Additional_Music/splits_v2/train/03 Welcome to Jamrock_AlKKZR.mp3\n",
            "/content/drive/MyDrive/Datasets/Music/Additional_Music/splits_v2/train/01 Dirty Little Secret_MtYSPH.wav\n",
            "/content/drive/MyDrive/Datasets/Music/Additional_Music/splits_v2/train/01 Fur Cue_8UCiY5.mp3\n",
            "/content/drive/MyDrive/Datasets/Music/Additional_Music/splits_v2/train/05 All Nightmare Long_DCQSCo.wav\n",
            "/content/drive/MyDrive/Datasets/Music/Additional_Music/splits_v2/train/01 In One Ear_n1M4yR.wav\n",
            "/content/drive/MyDrive/Datasets/Music/Additional_Music/splits_v2/train/15 Dark Energy_PW2CbD.mp3\n",
            "/content/drive/MyDrive/Datasets/Music/Additional_Music/splits_v2/train/10 Random Reality Shifts - bonus track_vCkVLh.wav\n",
            "/content/drive/MyDrive/Datasets/Music/Additional_Music/splits_v2/train/07 Mutiny_gYXuOX.mp3\n",
            "/content/drive/MyDrive/Datasets/Music/Additional_Music/splits_v2/train/10 Straightjacket Feeling_HyzMH8.wav\n",
            "/content/drive/MyDrive/Datasets/Music/Additional_Music/splits_v2/train/16 The Future Has Arrived_xvYKWA.mp3\n",
            "/content/drive/MyDrive/Datasets/Music/Additional_Music/splits_v2/train/02 Centipede_WHoPe5.mp3\n",
            "/content/drive/MyDrive/Datasets/Music/Additional_Music/splits_v2/train/1-06 Sweet Revenge (Subzero Remix)_JEKCIY.mp3\n",
            "/content/drive/MyDrive/Datasets/Music/Additional_Music/splits_v2/train/City by the sea Final with_k7egYV.wav\n",
            "/content/drive/MyDrive/Datasets/Music/Additional_Music/splits_v2/train/02 Gold_xEOfY3.wav\n",
            "/content/drive/MyDrive/Datasets/Music/Additional_Music/splits_v2/train/06 Tentative_4NajjG.wav\n",
            "/content/drive/MyDrive/Datasets/Music/Additional_Music/splits_v2/train/03 First Born_yJmQtJ.wav\n",
            "/content/drive/MyDrive/Datasets/Music/Additional_Music/splits_v2/train/07 Never Leave_4s6A8v.mp3\n",
            "/content/drive/MyDrive/Datasets/Music/Additional_Music/splits_v2/train/08 Creepin' Up The Backstairs_fa9zhs.wav\n",
            "/content/drive/MyDrive/Datasets/Music/Additional_Music/splits_v2/train/05 City of Blinding Lights_wIdRYw.mp3\n",
            "/content/drive/MyDrive/Datasets/Music/Additional_Music/splits_v2/train/19 The Set Up_11oRyt.wav\n",
            "/content/drive/MyDrive/Datasets/Music/Additional_Music/splits_v2/train/02 Destroy Them With Lasers_xxHPDl.wav\n",
            "/content/drive/MyDrive/Datasets/Music/Additional_Music/splits_v2/train/10 come again_x50j9P.wav\n",
            "/content/drive/MyDrive/Datasets/Music/Additional_Music/splits_v2/train/12 Desperation_ieaSEB.mp3\n",
            "/content/drive/MyDrive/Datasets/Music/Additional_Music/splits_v2/train/06 Full Steam Spacemachine_9fNzCW.wav\n",
            "/content/drive/MyDrive/Datasets/Music/Additional_Music/splits_v2/train/11 Prana_LAlFIB.mp3\n",
            "/content/drive/MyDrive/Datasets/Music/Additional_Music/splits_v2/train/15 Ram Dance_wlLJ0o.wav\n",
            "/content/drive/MyDrive/Datasets/Music/Additional_Music/splits_v2/train/Sgt. Pepper's Lonely Hearts Cl_FzHw8J.wav\n",
            "/content/drive/MyDrive/Datasets/Music/Additional_Music/splits_v2/train/07 Mutiny_RhDQiT.wav\n",
            "/content/drive/MyDrive/Datasets/Music/Additional_Music/splits_v2/train/07 Slammed 2 Razz_88WCe3.wav\n",
            "/content/drive/MyDrive/Datasets/Music/Additional_Music/splits_v2/train/10 Flashing Lights_fDT7eN.wav\n",
            "/content/drive/MyDrive/Datasets/Music/Additional_Music/splits_v2/train/21 Damian Marley & Julian Marley - Kaya_XtdvWD.mp3\n",
            "/content/drive/MyDrive/Datasets/Music/Additional_Music/splits_v2/train/02 Killing In The Name_FDTA7X.wav\n",
            "/content/drive/MyDrive/Datasets/Music/Additional_Music/splits_v2/train/02 Creep_rc5UTI.wav\n",
            "/content/drive/MyDrive/Datasets/Music/Additional_Music/splits_v2/train/03 Propane Nightmares_dDkd9Y.wav\n",
            "/content/drive/MyDrive/Datasets/Music/Additional_Music/splits_v2/train/06 Given_MrfF0r.mp3\n",
            "/content/drive/MyDrive/Datasets/Music/Additional_Music/splits_v2/train/06 Rise Above This_ir1agk.wav\n",
            "/content/drive/MyDrive/Datasets/Music/Additional_Music/splits_v2/train/03 Tomorrow Comes Today_KjBYqR.mp3\n",
            "/content/drive/MyDrive/Datasets/Music/Additional_Music/splits_v2/train/05 Dance, Dance_EX1vfi.wav\n",
            "/content/drive/MyDrive/Datasets/Music/Additional_Music/splits_v2/train/17 Watercolour (Emalkay Remix)_5jE9Vo.mp3\n",
            "/content/drive/MyDrive/Datasets/Music/Additional_Music/splits_v2/train/03 Saturday_BNnTvN.mp3\n",
            "/content/drive/MyDrive/Datasets/Music/Additional_Music/splits_v2/train/08 Because_UhkysU.wav\n",
            "/content/drive/MyDrive/Datasets/Music/Additional_Music/splits_v2/train/05 X_UHxRDi.mp3\n",
            "/content/drive/MyDrive/Datasets/Music/Additional_Music/splits_v2/train/10 Down On The Street_1a5BQ7.wav\n",
            "/content/drive/MyDrive/Datasets/Music/Additional_Music/splits_v2/train/01 Prison Song_Qc4N7A.mp3\n",
            "/content/drive/MyDrive/Datasets/Music/Additional_Music/splits_v2/train/05 Stealing Society_41uqgO.mp3\n",
            "/content/drive/MyDrive/Datasets/Music/Additional_Music/splits_v2/train/08 Blackbird_yVUTKm.mp3\n",
            "/content/drive/MyDrive/Datasets/Music/Additional_Music/splits_v2/train/03 banana baby_uQlHPZ.wav\n",
            "/content/drive/MyDrive/Datasets/Music/Additional_Music/splits_v2/train/03 Danger Line_aggBnr.mp3\n",
            "/content/drive/MyDrive/Datasets/Music/Additional_Music/splits_v2/train/07 The Animal_lbf6OZ.wav\n",
            "/content/drive/MyDrive/Datasets/Music/Additional_Music/splits_v2/train/13  There It Go (The Whistle Song)_6NRh1i.mp3\n",
            "/content/drive/MyDrive/Datasets/Music/Additional_Music/splits_v2/train/12 All Hope Is Gone_O3J73R.wav\n",
            "/content/drive/MyDrive/Datasets/Music/Additional_Music/splits_v2/train/05 Are We the Waiting_pC6N5r.wav\n",
            "/content/drive/MyDrive/Datasets/Music/Additional_Music/splits_v2/train/01 Ten Thousand Fists_A4Vuke.mp3\n",
            "/content/drive/MyDrive/Datasets/Music/Additional_Music/splits_v2/train/06 Chop Suey!_Wxud7q.wav\n",
            "/content/drive/MyDrive/Datasets/Music/Additional_Music/splits_v2/train/10 Dear God_BE5LlE.wav\n",
            "/content/drive/MyDrive/Datasets/Music/Additional_Music/splits_v2/train/07 The World Is Yours _ Brooklyn Zoo_iVnN4S.wav\n",
            "/content/drive/MyDrive/Datasets/Music/Additional_Music/splits_v2/train/05 101112_geJpB3.wav\n",
            "/content/drive/MyDrive/Datasets/Music/Additional_Music/splits_v2/train/09 Dyers Eve_jN5PqR.wav\n",
            "/content/drive/MyDrive/Datasets/Music/Additional_Music/splits_v2/train/Never Grow Old (Re-Plant)_4JF6EB.wav\n",
            "/content/drive/MyDrive/Datasets/Music/Additional_Music/splits_v2/train/Iggy Pop - Passenger_0WWHa7.wav\n",
            "/content/drive/MyDrive/Datasets/Music/Additional_Music/splits_v2/train/09 A Little Piece Of Heaven_YDJ5wQ.mp3\n",
            "/content/drive/MyDrive/Datasets/Music/Additional_Music/splits_v2/train/06 Garden Of England_yN7fH7.mp3\n",
            "/content/drive/MyDrive/Datasets/Music/Additional_Music/splits_v2/train/09 Torn_eCVOkc.wav\n",
            "/content/drive/MyDrive/Datasets/Music/Additional_Music/splits_v2/train/03 Dirty Sheets_xlR3Nw.mp3\n",
            "/content/drive/MyDrive/Datasets/Music/Additional_Music/splits_v2/train/03 I'm Only Sleeping_fNTilS.wav\n",
            "/content/drive/MyDrive/Datasets/Music/Additional_Music/splits_v2/train/08 2's My Favorite 1_KEdHtH.mp3\n",
            "/content/drive/MyDrive/Datasets/Music/Additional_Music/splits_v2/train/05 Midnight Runner_ZB9cdW.mp3\n",
            "/content/drive/MyDrive/Datasets/Music/Additional_Music/splits_v2/train/03 Blue in Green_chYPCQ.wav\n",
            "/content/drive/MyDrive/Datasets/Music/Additional_Music/splits_v2/train/06 Nightmare_2jJ5ci.mp3\n",
            "/content/drive/MyDrive/Datasets/Music/Additional_Music/splits_v2/train/24 And Again (feat. God_s Gift)_OD4cRi.mp3\n",
            "/content/drive/MyDrive/Datasets/Music/Additional_Music/splits_v2/train/08 Through the Never_kdtXCk.mp3\n",
            "/content/drive/MyDrive/Datasets/Music/Additional_Music/splits_v2/train/12 Hopeless Opus_KYgEXn.wav\n",
            "/content/drive/MyDrive/Datasets/Music/Additional_Music/splits_v2/train/07 Icarus_XAY8Qu.mp3\n",
            "/content/drive/MyDrive/Datasets/Music/Additional_Music/splits_v2/train/06 Amsterdam_8JiZXV.wav\n",
            "/content/drive/MyDrive/Datasets/Music/Additional_Music/splits_v2/train/13 Whatsername_KuhizR.mp3\n",
            "/content/drive/MyDrive/Datasets/Music/Additional_Music/splits_v2/train/06 Last Fair Deal Gone Down_IB5cg0.wav\n",
            "/content/drive/MyDrive/Datasets/Music/Additional_Music/splits_v2/train/07 Trampled Under Foot_LWaEal.mp3\n",
            "/content/drive/MyDrive/Datasets/Music/Additional_Music/splits_v2/train/02 Hands Open_fO2zYV.mp3\n",
            "/content/drive/MyDrive/Datasets/Music/Additional_Music/splits_v2/train/09 Some Kind of Nature (feat. Lou Reed)_QmNGz6.mp3\n",
            "/content/drive/MyDrive/Datasets/Music/Additional_Music/splits_v2/train/09 Structure No. 4_LclE6M.mp3\n",
            "/content/drive/MyDrive/Datasets/Music/Additional_Music/splits_v2/train/09 No Water_WvaohG.wav\n",
            "/content/drive/MyDrive/Datasets/Music/Additional_Music/splits_v2/train/05 Violence Fetish_fwVHnV.mp3\n",
            "/content/drive/MyDrive/Datasets/Music/Additional_Music/splits_v2/train/05 On Top of the World_OrmXQ8.mp3\n",
            "/content/drive/MyDrive/Datasets/Music/Additional_Music/splits_v2/train/1-10 Please_DkPcNr.mp3\n",
            "/content/drive/MyDrive/Datasets/Music/Additional_Music/splits_v2/train/05 Master Of Disaster_AuXVcT.wav\n",
            "/content/drive/MyDrive/Datasets/Music/Additional_Music/splits_v2/train/12 Fury_5kWEh3.mp3\n",
            "/content/drive/MyDrive/Datasets/Music/Additional_Music/splits_v2/train/08 DMZ_SKumPu.wav\n",
            "/content/drive/MyDrive/Datasets/Music/Additional_Music/splits_v2/train/01 So What_WugT1x.mp3\n",
            "/content/drive/MyDrive/Datasets/Music/Additional_Music/splits_v2/train/01 Spitfire_nDE3i5.mp3\n",
            "/content/drive/MyDrive/Datasets/Music/Additional_Music/splits_v2/train/12 Foreigner's God_CyiSN8.mp3\n",
            "/content/drive/MyDrive/Datasets/Music/Additional_Music/splits_v2/train/06 Make It Right_mhQdi0.wav\n",
            "/content/drive/MyDrive/Datasets/Music/Additional_Music/splits_v2/train/01 Come Together_Ckv2LW.mp3\n",
            "/content/drive/MyDrive/Datasets/Music/Additional_Music/splits_v2/train/05 Bastard _ Lemonade_NLk81f.wav\n",
            "/content/drive/MyDrive/Datasets/Music/Additional_Music/splits_v2/train/11 Breathe Again_1E9KZr.mp3\n",
            "/content/drive/MyDrive/Datasets/Music/Additional_Music/splits_v2/train/07 Mr. Jack_TTpuJ3.mp3\n",
            "/content/drive/MyDrive/Datasets/Music/Additional_Music/splits_v2/train/11 If I Had Possession Over Judgment Day_KjJa8c.mp3\n",
            "/content/drive/MyDrive/Datasets/Music/Additional_Music/splits_v2/train/01 Testify_DVcGDX.mp3\n",
            "/content/drive/MyDrive/Datasets/Music/Additional_Music/splits_v2/train/05 Serial Thrilla_YCoIaT.mp3\n",
            "/content/drive/MyDrive/Datasets/Music/Additional_Music/splits_v2/train/03 How Do You__6isOfD.wav\n",
            "/content/drive/MyDrive/Datasets/Music/Additional_Music/splits_v2/train/04 Country Song_sR1UbC.mp3\n",
            "/content/drive/MyDrive/Datasets/Music/Additional_Music/splits_v2/train/05 All Nightmare Long_V2zWwC.mp3\n",
            "/content/drive/MyDrive/Datasets/Music/Additional_Music/splits_v2/train/38 Ghetto Kyote_N1e3uc.wav\n",
            "/content/drive/MyDrive/Datasets/Music/Additional_Music/splits_v2/train/05 Stealing Society_Aq6HXW.wav\n",
            "/content/drive/MyDrive/Datasets/Music/Additional_Music/splits_v2/train/12 Bloodflood Pt. II_f2Td6P.wav\n",
            "/content/drive/MyDrive/Datasets/Music/Additional_Music/splits_v2/train/09 Exogenesis_ Symphony Part 1 (Overture)_3gwMwk.wav\n",
            "/content/drive/MyDrive/Datasets/Music/Additional_Music/splits_v2/train/JK_SNR_07_IeRm8o.wav\n",
            "/content/drive/MyDrive/Datasets/Music/Additional_Music/splits_v2/train/10 Lovely Rita_hD6J7n.mp3\n",
            "/content/drive/MyDrive/Datasets/Music/Additional_Music/splits_v2/train/08 Move!_UnvqQr.wav\n",
            "/content/drive/MyDrive/Datasets/Music/Additional_Music/splits_v2/train/07 Sidewinder_dvEGhS.wav\n",
            "/content/drive/MyDrive/Datasets/Music/Additional_Music/splits_v2/train/10 Dear God_QHsMX6.mp3\n",
            "/content/drive/MyDrive/Datasets/Music/Additional_Music/splits_v2/train/12 This is Who We Are_Y6e3Ce.mp3\n",
            "/content/drive/MyDrive/Datasets/Music/Additional_Music/splits_v2/train/10 Underwear_3r7grR.mp3\n",
            "/content/drive/MyDrive/Datasets/Music/Additional_Music/splits_v2/train/04 Breezeblocks_E2GMs8.wav\n",
            "/content/drive/MyDrive/Datasets/Music/Additional_Music/splits_v2/train/11 Propane Nightmares (V.I.P. Remix) [Bonus Track]_HivBNs.wav\n",
            "/content/drive/MyDrive/Datasets/Music/Additional_Music/splits_v2/train/12 Revolution_d2o6Nz.mp3\n",
            "/content/drive/MyDrive/Datasets/Music/Additional_Music/splits_v2/train/Fliptrix - The High Way (Official Video) (Prod. Runone & Molotov)_vOuKR0.mp3\n",
            "/content/drive/MyDrive/Datasets/Music/Additional_Music/splits_v2/train/27 Killa Bees (InsideInfo Remix)_BsiWkq.wav\n",
            "/content/drive/MyDrive/Datasets/Music/Additional_Music/splits_v2/train/08 Sais (Dub)_E8VcvC.mp3\n",
            "/content/drive/MyDrive/Datasets/Music/Additional_Music/splits_v2/train/10 Damian Marley & Ziggy Marley - Brothers Keeper_k5Sr80.mp3\n",
            "/content/drive/MyDrive/Datasets/Music/Additional_Music/splits_v2/train/15 Untitled_QPjoct.mp3\n",
            "/content/drive/MyDrive/Datasets/Music/Additional_Music/splits_v2/train/03 Soul Rebel_hqlIct.mp3\n",
            "/content/drive/MyDrive/Datasets/Music/Additional_Music/splits_v2/train/05 Bring the Boys Back Home_vxHks5.mp3\n",
            "/content/drive/MyDrive/Datasets/Music/Additional_Music/splits_v2/train/08 Her_zEjCta.mp3\n",
            "/content/drive/MyDrive/Datasets/Music/Additional_Music/splits_v2/train/04 Try Me_T8uRDr.wav\n",
            "/content/drive/MyDrive/Datasets/Music/Additional_Music/splits_v2/train/2-02 Lovesick_68JjJ4.wav\n",
            "/content/drive/MyDrive/Datasets/Music/Additional_Music/splits_v2/train/36 What_BQT3iI.wav\n",
            "/content/drive/MyDrive/Datasets/Music/Additional_Music/splits_v2/train/02 ...And Justice for All_ty0Bfd.wav\n",
            "/content/drive/MyDrive/Datasets/Music/Additional_Music/splits_v2/train/06 Flamenco Sketches (Alternate Take)_NKn6rb.wav\n",
            "/content/drive/MyDrive/Datasets/Music/Additional_Music/splits_v2/train/16 Not Now_HBPfFm.wav\n",
            "/content/drive/MyDrive/Datasets/Music/Additional_Music/splits_v2/train/Rone_-_Nakt[www.MP3Fiber.com]_tL64wj.mp3\n",
            "/content/drive/MyDrive/Datasets/Music/Additional_Music/splits_v2/train/04 Falling Down_0wxrv8.wav\n",
            "/content/drive/MyDrive/Datasets/Music/Additional_Music/splits_v2/train/02 Grand Theft Autumn _ Where Is Your Boy_2fTB9X.mp3\n",
            "/content/drive/MyDrive/Datasets/Music/Additional_Music/splits_v2/train/06 Makeout Party_rX8A3i.mp3\n",
            "/content/drive/MyDrive/Datasets/Music/Additional_Music/splits_v2/train/03 Improvised Jam_KfmD19.wav\n",
            "/content/drive/MyDrive/Datasets/Music/Additional_Music/splits_v2/train/20 Steam Train _ Cypher_e7Ufz4.mp3\n",
            "/content/drive/MyDrive/Datasets/Music/Additional_Music/splits_v2/train/09 Kind Hearted Woman Blues_zISUil.wav\n",
            "/content/drive/MyDrive/Datasets/Music/Additional_Music/splits_v2/train/11 Forever Man_xIcZZs.wav\n",
            "/content/drive/MyDrive/Datasets/Music/Additional_Music/splits_v2/train/06 This Shattered Symphony_ICbaq7.mp3\n",
            "/content/drive/MyDrive/Datasets/Music/Additional_Music/splits_v2/train/11 Wake Me Up When September Ends_ZDO3zE.mp3\n",
            "/content/drive/MyDrive/Datasets/Music/Additional_Music/splits_v2/train/2-07 It's Over (Wittyboy Remix)_Qphr9e.mp3\n",
            "/content/drive/MyDrive/Datasets/Music/Additional_Music/splits_v2/train/29 Lost Contact_UKJ1MD.wav\n",
            "/content/drive/MyDrive/Datasets/Music/Additional_Music/splits_v2/train/04 The Night_RhFJ0k.wav\n",
            "/content/drive/MyDrive/Datasets/Music/Additional_Music/splits_v2/train/09 Achilles Last Stand_dt2ikq.wav\n",
            "/content/drive/MyDrive/Datasets/Music/Additional_Music/splits_v2/train/05 Before The Lobotomy_A4wrG6.wav\n",
            "/content/drive/MyDrive/Datasets/Music/Additional_Music/splits_v2/train/06 She's Gone_FVlfUH.mp3\n",
            "/content/drive/MyDrive/Datasets/Music/Additional_Music/splits_v2/train/02 Pistol Grip Pump_2ZQsQQ.wav\n",
            "/content/drive/MyDrive/Datasets/Music/Additional_Music/splits_v2/train/Sun Is Shining_fJZaGx.mp3\n",
            "/content/drive/MyDrive/Datasets/Music/Additional_Music/splits_v2/train/01 Slip To The Void_Ev4gjn.mp3\n",
            "/content/drive/MyDrive/Datasets/Music/Additional_Music/splits_v2/train/01 Seperation_l3MZGG.wav\n",
            "/content/drive/MyDrive/Datasets/Music/Additional_Music/splits_v2/train/09 Wind Below_IUhCeY.mp3\n",
            "/content/drive/MyDrive/Datasets/Music/Additional_Music/splits_v2/train/Iron Lion Zion_5DtwY3.mp3\n",
            "/content/drive/MyDrive/Datasets/Music/Additional_Music/splits_v2/train/04 Fire Hive_LVvSbY.wav\n",
            "/content/drive/MyDrive/Datasets/Music/Additional_Music/splits_v2/train/09 Voice Of The Voiceless_n1iohi.wav\n",
            "/content/drive/MyDrive/Datasets/Music/Additional_Music/splits_v2/train/01 The Royal_eQWeWU.mp3\n",
            "/content/drive/MyDrive/Datasets/Music/Additional_Music/splits_v2/train/10 Blood Bubbles_cgXFdh.mp3\n",
            "/content/drive/MyDrive/Datasets/Music/Additional_Music/splits_v2/train/01 Prelude_pePUW5.mp3\n",
            "/content/drive/MyDrive/Datasets/Music/Additional_Music/splits_v2/train/11 Sacrifice_m3lvf0.wav\n",
            "/content/drive/MyDrive/Datasets/Music/Additional_Music/splits_v2/train/13 Fallen_66vjFT.wav\n",
            "/content/drive/MyDrive/Datasets/Music/Additional_Music/splits_v2/train/11 Overdue_oJgJan.mp3\n",
            "/content/drive/MyDrive/Datasets/Music/Additional_Music/splits_v2/train/04 Hypnotize_lr3H8g.mp3\n",
            "/content/drive/MyDrive/Datasets/Music/Additional_Music/splits_v2/train/12 Sgt. Pepper's Lonely Hearts Club Band (Reprise)_nFRwKB.mp3\n",
            "/content/drive/MyDrive/Datasets/Music/Additional_Music/splits_v2/train/14 I Don't Wanna Go Out_7lvxno.wav\n",
            "/content/drive/MyDrive/Datasets/Music/Additional_Music/splits_v2/train/03 Memphis Bell_g9hgiV.wav\n",
            "/content/drive/MyDrive/Datasets/Music/Additional_Music/splits_v2/train/09 Spirit Wobble_RIcuhr.mp3\n",
            "/content/drive/MyDrive/Datasets/Music/Additional_Music/splits_v2/train/01 Cauterize_Lt8BIs.wav\n",
            "/content/drive/MyDrive/Datasets/Music/Additional_Music/splits_v2/train/06 I Want You (She's So Heavy)_1le0DQ.mp3\n",
            "/content/drive/MyDrive/Datasets/Music/Additional_Music/splits_v2/train/09 ...And Justice For All_l9EgBO.mp3\n",
            "/content/drive/MyDrive/Datasets/Music/Additional_Music/splits_v2/train/08 Crumbs from Your Table_fiyKg5.mp3\n",
            "/content/drive/MyDrive/Datasets/Music/Additional_Music/splits_v2/train/08 Move!_8e8uK9.mp3\n",
            "/content/drive/MyDrive/Datasets/Music/Additional_Music/splits_v2/train/07 Sad but True_hZSrSK.mp3\n",
            "/content/drive/MyDrive/Datasets/Music/Additional_Music/splits_v2/train/04 Instrument _ One Step_qWNyDL.mp3\n",
            "/content/drive/MyDrive/Datasets/Music/Additional_Music/splits_v2/train/3-02 Hideaway (Jamie Duggan Meets Da Booda Remix v2)_zErVgp.wav\n",
            "/content/drive/MyDrive/Datasets/Music/Additional_Music/splits_v2/train/08 Act Naturally_EMigde.mp3\n",
            "/content/drive/MyDrive/Datasets/Music/Additional_Music/splits_v2/train/17 Angie's Fucked_Q8xQjM.mp3\n",
            "/content/drive/MyDrive/Datasets/Music/Additional_Music/splits_v2/train/01 Agave_feUVXm.wav\n",
            "/content/drive/MyDrive/Datasets/Music/Additional_Music/splits_v2/train/15 Golden_PEqv1H.mp3\n",
            "/content/drive/MyDrive/Datasets/Music/Additional_Music/splits_v2/train/06 Wake Up Call_7bA4xt.mp3\n",
            "/content/drive/MyDrive/Datasets/Music/Additional_Music/splits_v2/train/04 Kaleidoscope_xCcI1s.mp3\n",
            "/content/drive/MyDrive/Datasets/Music/Additional_Music/splits_v2/train/10 Purify_REiSEg.wav\n",
            "/content/drive/MyDrive/Datasets/Music/Additional_Music/splits_v2/train/01 And That, Too._POQJD0.wav\n",
            "/content/drive/MyDrive/Datasets/Music/Additional_Music/splits_v2/train/01 Thin Joe_FyE8Mv.mp3\n",
            "/content/drive/MyDrive/Datasets/Music/Additional_Music/splits_v2/train/04 Tears In Heaven_8tbcZv.mp3\n",
            "/content/drive/MyDrive/Datasets/Music/Additional_Music/splits_v2/train/03 Stupify_Ub3vgv.mp3\n",
            "/content/drive/MyDrive/Datasets/Music/Additional_Music/splits_v2/train/03 Dammit_wvOpOK.mp3\n",
            "/content/drive/MyDrive/Datasets/Music/Additional_Music/splits_v2/train/10 Underwear_4esubu.wav\n",
            "/content/drive/MyDrive/Datasets/Music/Additional_Music/splits_v2/train/01 Intro_C1J3qR.wav\n",
            "/content/drive/MyDrive/Datasets/Music/Additional_Music/splits_v2/train/05 Buffalo Soldier_K9xyJY.mp3\n",
            "/content/drive/MyDrive/Datasets/Music/Additional_Music/splits_v2/train/13 Leaving Nara_gPuFVv.mp3\n",
            "/content/drive/MyDrive/Datasets/Music/Additional_Music/splits_v2/train/07 Make This Go on Forever_MwBE0W.mp3\n",
            "/content/drive/MyDrive/Datasets/Music/Additional_Music/splits_v2/train/16 Percussions One_0Hrc9y.mp3\n",
            "/content/drive/MyDrive/Datasets/Music/Additional_Music/splits_v2/train/04 Shut Your Eyes_oUf0fu.wav\n",
            "/content/drive/MyDrive/Datasets/Music/Additional_Music/splits_v2/train/06 The Other Side_eXDnXO.wav\n",
            "/content/drive/MyDrive/Datasets/Music/Additional_Music/splits_v2/train/Sigma - Nobody To Love (Official Video) HD_sXAHmy.wav\n",
            "/content/drive/MyDrive/Datasets/Music/Additional_Music/splits_v2/train/10 One Of My Turns_MCVlbR.wav\n",
            "/content/drive/MyDrive/Datasets/Music/Additional_Music/splits_v2/train/14 Wonderful Tonight_1Jn7UC.mp3\n",
            "/content/drive/MyDrive/Datasets/Music/Additional_Music/splits_v2/train/03 Could  You Be Loved_6HMVAJ.mp3\n",
            "/content/drive/MyDrive/Datasets/Music/Additional_Music/splits_v2/train/1-02 Love Shy (Thinking About You) (TS7 Remix)_MGwjjQ.mp3\n",
            "/content/drive/MyDrive/Datasets/Music/Additional_Music/splits_v2/train/01 Birthday_sAtZdm.mp3\n",
            "/content/drive/MyDrive/Datasets/Music/Additional_Music/splits_v2/train/10 Roll Right_zZOpLz.wav\n",
            "/content/drive/MyDrive/Datasets/Music/Additional_Music/splits_v2/train/08 Wake Up_hlpZCI.mp3\n",
            "/content/drive/MyDrive/Datasets/Music/Additional_Music/splits_v2/train/07 Friction_BOcjiq.wav\n",
            "/content/drive/MyDrive/Datasets/Music/Additional_Music/splits_v2/train/13 Fire Coming Out of the Monkey's Head_XOk07E.mp3\n",
            "/content/drive/MyDrive/Datasets/Music/Additional_Music/splits_v2/train/03 Odd Toddlers Featuring Casey Vegg_b1fL13.mp3\n",
            "/content/drive/MyDrive/Datasets/Music/Additional_Music/splits_v2/train/03 Nothing Else Matters_zwOf6S.wav\n",
            "/content/drive/MyDrive/Datasets/Music/Additional_Music/splits_v2/train/05 Chelsea Dagger_igT5GZ.mp3\n",
            "/content/drive/MyDrive/Datasets/Music/Additional_Music/splits_v2/train/10 - She Just Won't Believe Me_65p2oh.wav\n",
            "/content/drive/MyDrive/Datasets/Music/Additional_Music/splits_v2/train/08 Don't You Know Who I Think I Am__YuKyUo.wav\n",
            "/content/drive/MyDrive/Datasets/Music/Additional_Music/splits_v2/train/06 Last Fair Deal Gone Down_Aik8Bp.mp3\n",
            "/content/drive/MyDrive/Datasets/Music/Additional_Music/splits_v2/train/02 Yonkers_KEx6tA.mp3\n",
            "/content/drive/MyDrive/Datasets/Music/Additional_Music/splits_v2/train/03 Space Dementia_Q726wS.mp3\n",
            "/content/drive/MyDrive/Datasets/Music/Additional_Music/splits_v2/train/03 Across The Universe_Yb7L0P.mp3\n",
            "/content/drive/MyDrive/Datasets/Music/Additional_Music/splits_v2/train/05 Exodus_6QWoIt.wav\n",
            "/content/drive/MyDrive/Datasets/Music/Additional_Music/splits_v2/train/09 This Cold Black_7wYh11.mp3\n",
            "/content/drive/MyDrive/Datasets/Music/Additional_Music/splits_v2/train/06 Wake Up Call_y4y8pf.wav\n",
            "/content/drive/MyDrive/Datasets/Music/Additional_Music/splits_v2/train/03 Devils_Dance_Zon34N.mp3\n",
            "/content/drive/MyDrive/Datasets/Music/Additional_Music/splits_v2/train/06 Slither_2Vzc1Z.wav\n",
            "/content/drive/MyDrive/Datasets/Music/Additional_Music/splits_v2/train/Fidelity Final 003 Version_6Dz0S2.wav\n",
            "/content/drive/MyDrive/Datasets/Music/Additional_Music/splits_v2/train/08 Without a Face_YZRFvL.wav\n",
            "/content/drive/MyDrive/Datasets/Music/Additional_Music/splits_v2/train/06 Feel Good Inc._YTCbdN.wav\n",
            "/content/drive/MyDrive/Datasets/Music/Additional_Music/splits_v2/train/11 Rhythm & Gash (Sir Spyro Remix)_NXiyMt.mp3\n",
            "/content/drive/MyDrive/Datasets/Music/Additional_Music/splits_v2/train/29 Been Doing This (feat. Flirta D, Meridian Dan & Footsie)_fjG8ZV.mp3\n",
            "/content/drive/MyDrive/Datasets/Music/Additional_Music/splits_v2/train/01 Bohemian Rhapsody (Remastered)_0QXtDT.wav\n",
            "/content/drive/MyDrive/Datasets/Music/Additional_Music/splits_v2/train/03 Deceiver_qQZXmz.mp3\n",
            "/content/drive/MyDrive/Datasets/Music/Additional_Music/splits_v2/train/03 Truth_l262n6.wav\n",
            "/content/drive/MyDrive/Datasets/Music/Additional_Music/splits_v2/train/17 I've Got A Rock'N'Roll Heart_5OM48m.wav\n",
            "/content/drive/MyDrive/Datasets/Music/Additional_Music/splits_v2/train/05 Kill The Dj_RkyAqf.mp3\n",
            "/content/drive/MyDrive/Datasets/Music/Additional_Music/splits_v2/train/12 I Want To Tell You_w6hSA5.wav\n",
            "/content/drive/MyDrive/Datasets/Music/Additional_Music/splits_v2/train/PoptartPete-_Morning_Blunt_Beat_Tape[www.MP3Fiber.com]_CPhSl1.wav\n",
            "/content/drive/MyDrive/Datasets/Music/Additional_Music/splits_v2/train/03 Sometimes You Can't Make It on Your Own_WrEi1L.mp3\n",
            "/content/drive/MyDrive/Datasets/Music/Additional_Music/splits_v2/train/07 Unintended_9rPzzj.wav\n",
            "/content/drive/MyDrive/Datasets/Music/Additional_Music/splits_v2/train/11 Ride the Lightning_rqM4wQ.wav\n",
            "/content/drive/MyDrive/Datasets/Music/Additional_Music/splits_v2/train/04 Prelude_CaiuQQ.wav\n",
            "/content/drive/MyDrive/Datasets/Music/Additional_Music/splits_v2/train/12 Move Along (Live)_SRTpfd.wav\n",
            "/content/drive/MyDrive/Datasets/Music/Additional_Music/splits_v2/train/07 El Mañana_uo4967.mp3\n",
            "/content/drive/MyDrive/Datasets/Music/Additional_Music/splits_v2/train/1-06 Caving_LUcpMs.wav\n",
            "/content/drive/MyDrive/Datasets/Music/Additional_Music/splits_v2/train/13 America's Suitehearts_yw8IJq.mp3\n",
            "/content/drive/MyDrive/Datasets/Music/Additional_Music/splits_v2/train/08 East Jesus Nowhere_F52itG.wav\n",
            "/content/drive/MyDrive/Datasets/Music/Additional_Music/splits_v2/train/10 Departed_ihch2Z.wav\n",
            "/content/drive/MyDrive/Datasets/Music/Additional_Music/splits_v2/train/01 - Be Above It_U5r2MV.wav\n",
            "/content/drive/MyDrive/Datasets/Music/Additional_Music/splits_v2/train/02 My Blood_qt3t9V.wav\n",
            "/content/drive/MyDrive/Datasets/Music/Additional_Music/splits_v2/train/10 Open Your Eyes_j0OXdj.wav\n",
            "/content/drive/MyDrive/Datasets/Music/Additional_Music/splits_v2/train/11 The Four Horsemen_ocqRB9.mp3\n",
            "/content/drive/MyDrive/Datasets/Music/Additional_Music/splits_v2/train/Coubo_-_Selcouth_Full_Beat_Tape[www.MP3Fiber.com]_5cwREE.wav\n",
            "/content/drive/MyDrive/Datasets/Music/Additional_Music/splits_v2/train/06 So Far Away_01hf1l.wav\n",
            "/content/drive/MyDrive/Datasets/Music/Additional_Music/splits_v2/train/06 Mother_kFq3KK.mp3\n",
            "/content/drive/MyDrive/Datasets/Music/Additional_Music/splits_v2/train/14 Shallow Breath_8GJzeV.mp3\n",
            "/content/drive/MyDrive/Datasets/Music/Additional_Music/splits_v2/train/10 Fucking Young_P3bQQy.wav\n",
            "/content/drive/MyDrive/Datasets/Music/Additional_Music/splits_v2/train/07 dub 9_K6ZjfZ.wav\n",
            "/content/drive/MyDrive/Datasets/Music/Additional_Music/splits_v2/train/1-03 Talking The Hardest (TwoFace Remix)_OC7Ka8.mp3\n",
            "/content/drive/MyDrive/Datasets/Music/Additional_Music/splits_v2/train/08 Made Out of Nothing (All That I Am)_O6uTT7.mp3\n",
            "/content/drive/MyDrive/Datasets/Music/Additional_Music/splits_v2/train/11 Rainbow Country_JndNud.mp3\n",
            "/content/drive/MyDrive/Datasets/Music/Additional_Music/splits_v2/train/06 Apollo I_ The Writing Writer_e7xyl7.mp3\n",
            "/content/drive/MyDrive/Datasets/Music/Additional_Music/splits_v2/train/12 Keep Da O_s_1f0kWr.mp3\n",
            "/content/drive/MyDrive/Datasets/Music/Additional_Music/splits_v2/train/03 White Flag (featuring Kano, Bashy and The Lebanese National Orchestra for Oriental Arabic Music)_UOhEAX.wav\n",
            "/content/drive/MyDrive/Datasets/Music/Additional_Music/splits_v2/train/16 Mamacita_tQiPZF.wav\n",
            "/content/drive/MyDrive/Datasets/Music/Additional_Music/splits_v2/train/08 Man Overboard_E2DIAU.wav\n",
            "/content/drive/MyDrive/Datasets/Music/Additional_Music/splits_v2/train/11 Laura Palmer_YMAAcv.wav\n",
            "/content/drive/MyDrive/Datasets/Music/Additional_Music/splits_v2/train/09 Torn_CnQjEN.mp3\n",
            "/content/drive/MyDrive/Datasets/Music/Additional_Music/splits_v2/train/11 Conteo_GsB4Dj.mp3\n",
            "/content/drive/MyDrive/Datasets/Music/Additional_Music/splits_v2/train/04 This means war_h30Gsc.mp3\n",
            "/content/drive/MyDrive/Datasets/Music/Additional_Music/splits_v2/train/Haptic Trace_ecgAfO.wav\n",
            "/content/drive/MyDrive/Datasets/Music/Additional_Music/splits_v2/train/16 Fuckaz feat Spaceape_JppfFh.mp3\n",
            "/content/drive/MyDrive/Datasets/Music/Additional_Music/splits_v2/train/10 Sustain_Pllyf2.wav\n",
            "/content/drive/MyDrive/Datasets/Music/Additional_Music/splits_v2/train/13 Propane Nightmares (VST Remix) [Bonus Track]_sKCPMq.wav\n",
            "/content/drive/MyDrive/Datasets/Music/Additional_Music/splits_v2/train/08 Beneath The Encasing Of Ashes (Re-Recorded Medley)_72llUL.mp3\n",
            "/content/drive/MyDrive/Datasets/Music/Additional_Music/splits_v2/train/11 Send Out_2gHahk.mp3\n",
            "/content/drive/MyDrive/Datasets/Music/Additional_Music/splits_v2/train/10 Like Real People Do_DQ17LE.wav\n",
            "/content/drive/MyDrive/Datasets/Music/Additional_Music/splits_v2/train/11 M.I.A._M8wPQy.wav\n",
            "/content/drive/MyDrive/Datasets/Music/Additional_Music/splits_v2/train/07 Damian Marley & Gwen Stefani - Now That You Got It (Remix)_shaga8.wav\n",
            "/content/drive/MyDrive/Datasets/Music/Additional_Music/splits_v2/train/31 Lets Go Back (feat. Majestic)_1mOOBM.wav\n",
            "/content/drive/MyDrive/Datasets/Music/Additional_Music/splits_v2/train/1-07 Lessons_WlsCDb.mp3\n",
            "/content/drive/MyDrive/Datasets/Music/Additional_Music/splits_v2/train/05 Wild One_kjR7D1.mp3\n",
            "/content/drive/MyDrive/Datasets/Music/Additional_Music/splits_v2/train/Sleeper - Atomic_KmJZda.wav\n",
            "/content/drive/MyDrive/Datasets/Music/Additional_Music/splits_v2/train/03 Tessellate_NS80TK.wav\n",
            "/content/drive/MyDrive/Datasets/Music/Additional_Music/splits_v2/train/07 Choice Kingdom_IsEEKL.mp3\n",
            "/content/drive/MyDrive/Datasets/Music/Additional_Music/splits_v2/train/01 In One Ear_QYESGA.mp3\n",
            "/content/drive/MyDrive/Datasets/Music/Additional_Music/splits_v2/train/03 Smoke And Mirrors_td3zDE.wav\n",
            "/content/drive/MyDrive/Datasets/Music/Additional_Music/splits_v2/train/04 Shut Your Eyes_6vRbrl.mp3\n",
            "/content/drive/MyDrive/Datasets/Music/Additional_Music/splits_v2/train/14 Vermillion Pt.2 (Bloodstone Mix)_von4vL.wav\n",
            "/content/drive/MyDrive/Datasets/Music/Additional_Music/splits_v2/train/16 Watercolour (DeadMau5 Remix)_0OisS7.wav\n",
            "/content/drive/MyDrive/Datasets/Music/Additional_Music/splits_v2/train/15 You'll Be Under My Wheels_ZPTXX0.mp3\n",
            "/content/drive/MyDrive/Datasets/Music/Additional_Music/splits_v2/train/08 Revolution 1_MrUPim.mp3\n",
            "/content/drive/MyDrive/Datasets/Music/Additional_Music/splits_v2/train/07 Dissolve Me_Lgz9sm.wav\n",
            "/content/drive/MyDrive/Datasets/Music/Additional_Music/splits_v2/train/06 Hound Dog_cb2wjZ.wav\n",
            "/content/drive/MyDrive/Datasets/Music/Additional_Music/splits_v2/train/10 Prince_Charming_3bdAMh.wav\n",
            "/content/drive/MyDrive/Datasets/Music/Additional_Music/splits_v2/train/04 One_npvwc2.mp3\n",
            "/content/drive/MyDrive/Datasets/Music/Additional_Music/splits_v2/train/3-19 Badboy Tunes_qjQFPR.mp3\n",
            "/content/drive/MyDrive/Datasets/Music/Additional_Music/splits_v2/train/20 Scorpion's Mask_5BC0gg.mp3\n",
            "/content/drive/MyDrive/Datasets/Music/Additional_Music/splits_v2/train/01 Dead Inside_LW6Zcg.mp3\n",
            "/content/drive/MyDrive/Datasets/Music/Additional_Music/splits_v2/train/04 Renegades Of Funk_N14jsB.mp3\n",
            "/content/drive/MyDrive/Datasets/Music/Additional_Music/splits_v2/train/09 Young Lust_FTgOui.mp3\n",
            "/content/drive/MyDrive/Datasets/Music/Additional_Music/splits_v2/train/13 Self vs. Self (feat. In Flames)_0BzVpY.mp3\n",
            "/content/drive/MyDrive/Datasets/Music/Additional_Music/splits_v2/train/08 Street Fighter Riddim_vFfxUw.wav\n",
            "/content/drive/MyDrive/Datasets/Music/Additional_Music/splits_v2/train/06 Superfast Jellyfish (feat. Gruff Rhys and De La Soul)_PjUAoX.mp3\n",
            "/content/drive/MyDrive/Datasets/Music/Additional_Music/splits_v2/train/09 Decadence_zzC0Xw.wav\n",
            "/content/drive/MyDrive/Datasets/Music/Additional_Music/splits_v2/train/05 Remember_bjaX6f.wav\n",
            "/content/drive/MyDrive/Datasets/Music/Additional_Music/splits_v2/train/06 Weight Of Living, Pt. II_t8kdVO.mp3\n",
            "/content/drive/MyDrive/Datasets/Music/Additional_Music/splits_v2/train/01 Critical Acclaim_N3dNSO.wav\n",
            "/content/drive/MyDrive/Datasets/Music/Additional_Music/splits_v2/train/14 Damian Marley, Stephen Marley & Buju Banton - The Traffic Jam_GsyQIs.mp3\n",
            "/content/drive/MyDrive/Datasets/Music/Additional_Music/splits_v2/train/DJ Hazard and Distorted Minds- Mr Happy_U4arG5.mp3\n",
            "/content/drive/MyDrive/Datasets/Music/Additional_Music/splits_v2/train/04 Revolver_RBmHWO.mp3\n",
            "/content/drive/MyDrive/Datasets/Music/Additional_Music/splits_v2/train/1-16 Hey That's My Sound_R3Wzms.mp3\n",
            "/content/drive/MyDrive/Datasets/Music/Additional_Music/splits_v2/train/06 Figure 8_cuSTh9.wav\n",
            "/content/drive/MyDrive/Datasets/Music/Additional_Music/splits_v2/train/21 We A Talk ft Dread MC&Rider Shafique (Ishan Sound Remix)_rfIGUj.wav\n",
            "/content/drive/MyDrive/Datasets/Music/Additional_Music/splits_v2/train/03 Glass Onion_bXKoVT.mp3\n",
            "/content/drive/MyDrive/Datasets/Music/Additional_Music/splits_v2/train/06 A Little Less Sixteen Candles, A Little More _Touch Me__9gdxMv.wav\n",
            "/content/drive/MyDrive/Datasets/Music/Additional_Music/splits_v2/train/06 Fell For You_cOhsTC.wav\n",
            "/content/drive/MyDrive/Datasets/Music/Additional_Music/splits_v2/train/04 I'm Like A Lawyer With The Way I'm Always Trying To Get You Off (Me & You)_8X9J3M.mp3\n",
            "/content/drive/MyDrive/Datasets/Music/Additional_Music/splits_v2/train/11 The Vulture_HKvrWS.wav\n",
            "/content/drive/MyDrive/Datasets/Music/Additional_Music/splits_v2/train/08 Since You Asked Kindly_PSGpuK.mp3\n",
            "/content/drive/MyDrive/Datasets/Music/Additional_Music/splits_v2/train/04 Dazed And Confused_ZwgSZf.mp3\n",
            "/content/drive/MyDrive/Datasets/Music/Additional_Music/splits_v2/train/08 It Comes Back To You_d3DBwG.mp3\n",
            "/content/drive/MyDrive/Datasets/Music/Additional_Music/splits_v2/train/06 Let It Be_KGyqEA.wav\n",
            "/content/drive/MyDrive/Datasets/Music/Additional_Music/splits_v2/train/03 Nothing Else Matters_B5E8Zi.mp3\n",
            "/content/drive/MyDrive/Datasets/Music/Additional_Music/splits_v2/train/09 Top Of The World_hSiR1h.wav\n",
            "/content/drive/MyDrive/Datasets/Music/Additional_Music/splits_v2/train/16 It's Hard To Say _I Do_, When I Don't_nDU6w7.mp3\n",
            "/content/drive/MyDrive/Datasets/Music/Additional_Music/splits_v2/train/03 Maxwell's Silver Hammer_LzhJcj.mp3\n",
            "/content/drive/MyDrive/Datasets/Music/Additional_Music/splits_v2/train/12 Malted Milk_x9sEXi.wav\n",
            "/content/drive/MyDrive/Datasets/Music/Additional_Music/splits_v2/train/08 Firestarter_Kd33nY.mp3\n",
            "/content/drive/MyDrive/Datasets/Music/Additional_Music/splits_v2/train/05 Through The Loop_Ehv1zJ.wav\n",
            "/content/drive/MyDrive/Datasets/Music/Additional_Music/splits_v2/train/11 All Within My Hands_J3WDSL.wav\n",
            "/content/drive/MyDrive/Datasets/Music/Additional_Music/splits_v2/train/06 The Handler_VFCBB1.wav\n",
            "/content/drive/MyDrive/Datasets/Music/Additional_Music/splits_v2/train/Aware_uXPzoy.mp3\n",
            "/content/drive/MyDrive/Datasets/Music/Additional_Music/splits_v2/train/08 Bury Us All_H73TO1.mp3\n",
            "/content/drive/MyDrive/Datasets/Music/Additional_Music/splits_v2/train/13 Night Drive (Acoustic)_RJXRIh.wav\n",
            "/content/drive/MyDrive/Datasets/Music/Additional_Music/splits_v2/train/07 Icarus_IlMJdJ.wav\n",
            "/content/drive/MyDrive/Datasets/Music/Additional_Music/splits_v2/train/The Mouse Outfit feat. Sparkz & Dubbul O - Children of the Stars (HD)_lD3h6l.wav\n",
            "/content/drive/MyDrive/Datasets/Music/Additional_Music/splits_v2/train/12 Drones_bWpR3B.wav\n",
            "/content/drive/MyDrive/Datasets/Music/Additional_Music/splits_v2/train/03 Watercolour_YLyc1b.wav\n",
            "/content/drive/MyDrive/Datasets/Music/Additional_Music/splits_v2/train/04 Mothers of Men_Bz1tph.wav\n",
            "/content/drive/MyDrive/Datasets/Music/Additional_Music/splits_v2/train/10 Fitzpleasure_gkipft.wav\n",
            "/content/drive/MyDrive/Datasets/Music/Additional_Music/splits_v2/train/02 Fake It_zkMubd.wav\n",
            "/content/drive/MyDrive/Datasets/Music/Additional_Music/splits_v2/train/01 Ties That Bind_ytzuxZ.wav\n",
            "/content/drive/MyDrive/Datasets/Music/Additional_Music/splits_v2/train/14 Thief_hmUKEU.wav\n",
            "/content/drive/MyDrive/Datasets/Music/Additional_Music/splits_v2/train/01 Orchestral Intro (feat. sinfonia ViVA)_xhdCzE.wav\n",
            "/content/drive/MyDrive/Datasets/Music/Additional_Music/splits_v2/train/3-22 Do You Mind (Crazy Cousins Remix)_zo2q7P.wav\n",
            "/content/drive/MyDrive/Datasets/Music/Additional_Music/splits_v2/train/01 Ten Thousand Fists_pIWszf.wav\n",
            "/content/drive/MyDrive/Datasets/Music/Additional_Music/splits_v2/train/09 36_Nm8x9W.wav\n",
            "/content/drive/MyDrive/Datasets/Music/Additional_Music/splits_v2/train/10 Letterbomb_HA4CaC.wav\n",
            "/content/drive/MyDrive/Datasets/Music/Additional_Music/splits_v2/train/04 Mass Appeal _ Transmission_Zr8a5D.wav\n",
            "/content/drive/MyDrive/Datasets/Music/Additional_Music/splits_v2/train/02 The Game_L0xvNK.mp3\n",
            "/content/drive/MyDrive/Datasets/Music/Additional_Music/splits_v2/train/11 Between The Whole And The Void_FcTIsy.wav\n",
            "/content/drive/MyDrive/Datasets/Music/Additional_Music/splits_v2/train/10 Bite Back_hiIrAL.mp3\n",
            "/content/drive/MyDrive/Datasets/Music/Additional_Music/splits_v2/train/07 Shoot Me Again_7tQvqU.wav\n",
            "/content/drive/MyDrive/Datasets/Music/Additional_Music/splits_v2/train/08 Cocaine_Cp8vCL.mp3\n",
            "/content/drive/MyDrive/Datasets/Music/Additional_Music/splits_v2/train/09 Ms_aQOaD3.wav\n",
            "/content/drive/MyDrive/Datasets/Music/Additional_Music/splits_v2/train/15 Stairway To Heaven_Pz3RVH.mp3\n",
            "/content/drive/MyDrive/Datasets/Music/Additional_Music/splits_v2/train/02 Fall In Love_WOebZP.wav\n",
            "/content/drive/MyDrive/Datasets/Music/Additional_Music/splits_v2/train/01 Beyond Our Suffering_PvYZwk.wav\n",
            "/content/drive/MyDrive/Datasets/Music/Additional_Music/splits_v2/train/07 Doginabag_VRaC6B.mp3\n",
            "/content/drive/MyDrive/Datasets/Music/Additional_Music/splits_v2/train/23 Jupiter (Mefjus Remix - FABRICLIVE 70 Edit)_nbr5wf.mp3\n",
            "/content/drive/MyDrive/Datasets/Music/Additional_Music/splits_v2/train/08 Dance Inside_MsSoEw.wav\n",
            "/content/drive/MyDrive/Datasets/Music/Additional_Music/splits_v2/train/13 Plastic Man_r4RmmY.wav\n",
            "/content/drive/MyDrive/Datasets/Music/Additional_Music/splits_v2/train/10 Sustain_y1JEIO.mp3\n",
            "/content/drive/MyDrive/Datasets/Music/Additional_Music/splits_v2/train/09 Running Away_JQJehe.wav\n",
            "/content/drive/MyDrive/Datasets/Music/Additional_Music/splits_v2/train/23 Are You (feat. Chip)_qJoGWl.wav\n",
            "/content/drive/MyDrive/Datasets/Music/Additional_Music/splits_v2/train/01 Intro_Q9QHpI.mp3\n",
            "/content/drive/MyDrive/Datasets/Music/Additional_Music/splits_v2/train/01 Keeping the Blade_C6N6d6.wav\n",
            "/content/drive/MyDrive/Datasets/Music/Additional_Music/splits_v2/train/21st Century Solemnety 3_A9qQCw.wav\n",
            "/content/drive/MyDrive/Datasets/Music/Additional_Music/splits_v2/train/Anna Caragnano & Donato Dozzy - Parola (CREEPTICULT Remix) (1)_V2nrAB.mp3\n",
            "/content/drive/MyDrive/Datasets/Music/Additional_Music/splits_v2/train/06 Invincible_amfJbT.wav\n",
            "/content/drive/MyDrive/Datasets/Music/Additional_Music/splits_v2/train/2-10 Hey (Virgo Remix)_8Aepkt.mp3\n",
            "/content/drive/MyDrive/Datasets/Music/Additional_Music/splits_v2/train/05 Clint Eastwood_MfDYKM.wav\n",
            "/content/drive/MyDrive/Datasets/Music/Additional_Music/splits_v2/train/11 21st Century Gentlemen_upgovd.mp3\n",
            "/content/drive/MyDrive/Datasets/Music/Additional_Music/splits_v2/train/3-02 Hideaway (Jamie Duggan Meets Da Booda Remix v2)_uX6WMV.mp3\n",
            "/content/drive/MyDrive/Datasets/Music/Additional_Music/splits_v2/train/01 New Born_MJfdct.wav\n",
            "/content/drive/MyDrive/Datasets/Music/Additional_Music/splits_v2/train/05 Snakecharmer_0eh4Bs.mp3\n",
            "/content/drive/MyDrive/Datasets/Music/Additional_Music/splits_v2/train/02 President's Daughter_MeQIsx.mp3\n",
            "/content/drive/MyDrive/Datasets/Music/Additional_Music/splits_v2/train/03 Damn Girl_fUoLOa.wav\n",
            "/content/drive/MyDrive/Datasets/Music/Additional_Music/splits_v2/train/JME - Taking Over_(song365.cc)_xX2Mv6.mp3\n",
            "/content/drive/MyDrive/Datasets/Music/Additional_Music/splits_v2/train/16 The End_WCulgK.wav\n",
            "/content/drive/MyDrive/Datasets/Music/Additional_Music/splits_v2/train/17 Hearts Without Trains_eWmJNp.wav\n",
            "/content/drive/MyDrive/Datasets/Music/Additional_Music/splits_v2/train/02 The Hard Sell_ASBpXd.mp3\n",
            "/content/drive/MyDrive/Datasets/Music/Additional_Music/splits_v2/train/09 left hand suzuki method_tB7Ut2.wav\n",
            "/content/drive/MyDrive/Datasets/Music/Additional_Music/splits_v2/train/04 Set Me On Fire_Wjtvwa.mp3\n",
            "/content/drive/MyDrive/Datasets/Music/Additional_Music/splits_v2/train/10 Affection_KQdFZ1.mp3\n",
            "/content/drive/MyDrive/Datasets/Music/Additional_Music/splits_v2/train/09 Pheonix_Amm4Wv.wav\n",
            "/content/drive/MyDrive/Datasets/Music/Additional_Music/splits_v2/train/11 Black Dog_PR8LuJ.wav\n",
            "/content/drive/MyDrive/Datasets/Music/Additional_Music/splits_v2/train/05 Hyperspeed (G-Force Part 2)_7MzkCW.wav\n",
            "/content/drive/MyDrive/Datasets/Music/Additional_Music/splits_v2/train/12 Drown Next To Me_cnanoM.mp3\n",
            "/content/drive/MyDrive/Datasets/Music/Additional_Music/splits_v2/train/07 Wonderful Life_oT7uTm.wav\n",
            "/content/drive/MyDrive/Datasets/Music/Additional_Music/splits_v2/train/10 The Lying Lies & Dirty Secrets of Miss Erica Court_l9webh.mp3\n",
            "/content/drive/MyDrive/Datasets/Music/Additional_Music/splits_v2/train/The Menu (Ft. Mystro & Upfront MC)_smKVcb.wav\n",
            "/content/drive/MyDrive/Datasets/Music/Additional_Music/splits_v2/train/05 Wherever I May Roam_mk2SvI.mp3\n",
            "/content/drive/MyDrive/Datasets/Music/Additional_Music/splits_v2/train/05 Lotus_lb04bQ.wav\n",
            "/content/drive/MyDrive/Datasets/Music/Additional_Music/splits_v2/train/08 Through the Never_xWg6so.wav\n",
            "/content/drive/MyDrive/Datasets/Music/Additional_Music/splits_v2/train/06 Know Your Enemy_YO6892.wav\n",
            "/content/drive/MyDrive/Datasets/Music/Additional_Music/splits_v2/train/14 Au79_2ei5Xl.wav\n",
            "/content/drive/MyDrive/Datasets/Music/Additional_Music/splits_v2/train/14 Willing Well III_ Apollo II_ The Telling Truth_xxL8pc.mp3\n",
            "/content/drive/MyDrive/Datasets/Music/Additional_Music/splits_v2/train/06 She Wants To Move_MlHWud.wav\n",
            "/content/drive/MyDrive/Datasets/Music/Additional_Music/splits_v2/train/19 Thriller (live)_X2082m.wav\n",
            "/content/drive/MyDrive/Datasets/Music/Additional_Music/splits_v2/train/09 It`s Only Love_fDPeFU.mp3\n",
            "/content/drive/MyDrive/Datasets/Music/Additional_Music/splits_v2/train/09 Highest VIP_NFECtx.wav\n",
            "/content/drive/MyDrive/Datasets/Music/Additional_Music/splits_v2/train/Anna Caragnano & Donato Dozzy - Parola (CREEPTICULT Remix) (1)_RSEqy5.wav\n",
            "/content/drive/MyDrive/Datasets/Music/Additional_Music/splits_v2/train/02 Dig A Pony_Kcnm1y.wav\n",
            "/content/drive/MyDrive/Datasets/Music/Additional_Music/splits_v2/train/09 Back Stabbin' Betty_s3J6xI.wav\n",
            "/content/drive/MyDrive/Datasets/Music/Additional_Music/splits_v2/train/10 Believe_ifBvKC.wav\n",
            "/content/drive/MyDrive/Datasets/Music/Additional_Music/splits_v2/train/03 Kiss Yourself Goodbye_MACzXt.mp3\n",
            "/content/drive/MyDrive/Datasets/Music/Additional_Music/splits_v2/train/09 Angel Blue_xloOwf.wav\n",
            "/content/drive/MyDrive/Datasets/Music/Additional_Music/splits_v2/train/3-15 Hmmm Yess (Sub Zero Mix)_0FNW5g.wav\n",
            "/content/drive/MyDrive/Datasets/Music/Additional_Music/splits_v2/train/10 Open Your Eyes_ecmmus.mp3\n",
            "/content/drive/MyDrive/Datasets/Music/Additional_Music/splits_v2/train/02 Stab My Back_YQrR99.wav\n",
            "/content/drive/MyDrive/Datasets/Music/Additional_Music/splits_v2/train/10 On Melancholy Hill 1_UT4asY.wav\n",
            "/content/drive/MyDrive/Datasets/Music/Additional_Music/splits_v2/train/06 Breakin'_WzzJOD.wav\n",
            "/content/drive/MyDrive/Datasets/Music/Additional_Music/splits_v2/train/11 Ride the Lightning_FVjyoU.mp3\n",
            "/content/drive/MyDrive/Datasets/Music/Additional_Music/splits_v2/train/13 Psycho_DFWUSC.mp3\n",
            "/content/drive/MyDrive/Datasets/Music/Additional_Music/splits_v2/train/Iron Lion Zion_XtlVRm.wav\n",
            "/content/drive/MyDrive/Datasets/Music/Additional_Music/splits_v2/train/01 Damian Marley, One Twelve & Spragga Benz - Na Na Na Na_BIxJh6.wav\n",
            "/content/drive/MyDrive/Datasets/Music/Additional_Music/splits_v2/train/06 Polaroid_aYZvzQ.wav\n",
            "/content/drive/MyDrive/Datasets/Music/Additional_Music/splits_v2/train/JME - Man Don't Care_(song365.cc)_zWHubW.wav\n",
            "/content/drive/MyDrive/Datasets/Music/Additional_Music/splits_v2/train/25 96 F__Kries_5j7uNL.mp3\n",
            "/content/drive/MyDrive/Datasets/Music/Additional_Music/splits_v2/train/07 Another Heart Calls_L18myH.wav\n",
            "/content/drive/MyDrive/Datasets/Music/Additional_Music/splits_v2/train/05 - Why Won't You Make Up Your Mind__lgJB3f.wav\n",
            "/content/drive/MyDrive/Datasets/Music/Additional_Music/splits_v2/train/05 Crush_gIbQEl.wav\n",
            "/content/drive/MyDrive/Datasets/Music/Additional_Music/splits_v2/train/08 Defector_e7roOe.mp3\n",
            "/content/drive/MyDrive/Datasets/Music/Additional_Music/splits_v2/train/13 Someday's Gone (Demo)_dGk1zj.mp3\n",
            "/content/drive/MyDrive/Datasets/Music/Additional_Music/splits_v2/train/05 Hard Times_gHDe71.wav\n",
            "/content/drive/MyDrive/Datasets/Music/Additional_Music/splits_v2/train/09 The Sound of Truth_imARDL.wav\n",
            "/content/drive/MyDrive/Datasets/Music/Additional_Music/splits_v2/train/3-04 Show Me Love (Dub Mix)_6KFQra.mp3\n",
            "/content/drive/MyDrive/Datasets/Music/Additional_Music/splits_v2/train/18 Selene_idyYG4.mp3\n",
            "/content/drive/MyDrive/Datasets/Music/Additional_Music/splits_v2/train/01 Goblin_2CJTr2.mp3\n",
            "/content/drive/MyDrive/Datasets/Music/Additional_Music/splits_v2/train/07 Differently, Still_CRSsMY.wav\n",
            "/content/drive/MyDrive/Datasets/Music/Additional_Music/splits_v2/train/02 Bad 2 Tha Bone_kp3TC4.wav\n",
            "/content/drive/MyDrive/Datasets/Music/Additional_Music/splits_v2/train/10 Come On In My Kitchen_lJy6o1.mp3\n",
            "/content/drive/MyDrive/Datasets/Music/Additional_Music/splits_v2/train/02 I Don't Mind_qMs4RS.mp3\n",
            "/content/drive/MyDrive/Datasets/Music/Additional_Music/splits_v2/train/21 Memphis_nE9I9e.wav\n",
            "/content/drive/MyDrive/Datasets/Music/Additional_Music/splits_v2/train/04 Deify_gVuBpF.mp3\n",
            "/content/drive/MyDrive/Datasets/Music/Additional_Music/splits_v2/train/23 S Is For Snakes_CeRUxU.wav\n",
            "/content/drive/MyDrive/Datasets/Music/Additional_Music/splits_v2/train/01 Carousel_1yah4u.mp3\n",
            "/content/drive/MyDrive/Datasets/Music/Additional_Music/splits_v2/train/07 Loss Of Control_UEeIp6.mp3\n",
            "/content/drive/MyDrive/Datasets/Music/Additional_Music/splits_v2/train/12 Piggies_iY0kbg.mp3\n",
            "/content/drive/MyDrive/Datasets/Music/Additional_Music/splits_v2/train/08 She's a Rebel_sHyeVP.mp3\n",
            "/content/drive/MyDrive/Datasets/Music/Additional_Music/splits_v2/train/3-20 Rolex Sweep (Jamie Duggan Meets Da Booda In Yer Face Mix)_jwncPn.wav\n",
            "/content/drive/MyDrive/Datasets/Music/Additional_Music/splits_v2/train/05 Beautiful World_RZYNS3.wav\n",
            "/content/drive/MyDrive/Datasets/Music/Additional_Music/splits_v2/train/36 What_ytdaVV.mp3\n",
            "/content/drive/MyDrive/Datasets/Music/Additional_Music/splits_v2/train/02 ...And Justice for All_5xofA9.mp3\n",
            "/content/drive/MyDrive/Datasets/Music/Additional_Music/splits_v2/train/01 The Hollow_ulPn2X.mp3\n",
            "/content/drive/MyDrive/Datasets/Music/Additional_Music/splits_v2/train/18 Acting The Goat_Zkkzgu.mp3\n",
            "/content/drive/MyDrive/Datasets/Music/Additional_Music/splits_v2/train/09 The Suffering_IlmH6h.mp3\n",
            "/content/drive/MyDrive/Datasets/Music/Additional_Music/splits_v2/train/06 Mother 1_nwkyty.mp3\n",
            "/content/drive/MyDrive/Datasets/Music/Additional_Music/splits_v2/train/05 Burrito_CeYOwe.mp3\n",
            "/content/drive/MyDrive/Datasets/Music/Additional_Music/splits_v2/train/05 Crossing the Frame_nsL8gH.mp3\n",
            "/content/drive/MyDrive/Datasets/Music/Additional_Music/splits_v2/train/09 Bleeding Out_90k7L8.wav\n",
            "/content/drive/MyDrive/Datasets/Music/Additional_Music/splits_v2/train/03 Calm Like A Bomb_RQ8RuN.mp3\n",
            "/content/drive/MyDrive/Datasets/Music/Additional_Music/splits_v2/train/Beside You_2t0DuL.wav\n",
            "/content/drive/MyDrive/Datasets/Music/Additional_Music/splits_v2/train/1-22 Tears (BurgaBoy Remix)_KxNoK9.mp3\n",
            "/content/drive/MyDrive/Datasets/Music/Additional_Music/splits_v2/train/09 Breathe_oM3tTU.wav\n",
            "/content/drive/MyDrive/Datasets/Music/Additional_Music/splits_v2/train/Jefe_Mdxsjm.mp3\n",
            "/content/drive/MyDrive/Datasets/Music/Additional_Music/splits_v2/train/07 White Room_c5L6Tu.mp3\n",
            "/content/drive/MyDrive/Datasets/Music/Additional_Music/splits_v2/train/06 Charly (Trip Into Drum And Bass Version)_rNVG8O.wav\n",
            "/content/drive/MyDrive/Datasets/Music/Additional_Music/splits_v2/train/07 White Room_rb0upH.wav\n",
            "/content/drive/MyDrive/Datasets/Music/Additional_Music/splits_v2/train/09 Vince The Loveable Stoner_4PpQSL.mp3\n",
            "/content/drive/MyDrive/Datasets/Music/Additional_Music/splits_v2/train/12 Hit the Lights_xtBa1e.wav\n",
            "/content/drive/MyDrive/Datasets/Music/Additional_Music/splits_v2/train/02 Burn it Down_lNimfK.wav\n",
            "/content/drive/MyDrive/Datasets/Music/Additional_Music/splits_v2/train/14 Hold On A While (Feat. Jono McCleery)_Z5oeSt.mp3\n",
            "/content/drive/MyDrive/Datasets/Music/Additional_Music/splits_v2/train/02 Liberate_SpkprB.mp3\n",
            "/content/drive/MyDrive/Datasets/Music/Additional_Music/splits_v2/train/Rage Valley VIP_NqWe8y.wav\n",
            "/content/drive/MyDrive/Datasets/Music/Additional_Music/splits_v2/train/10 Feeling Good_kBFTVY.wav\n",
            "/content/drive/MyDrive/Datasets/Music/Additional_Music/splits_v2/train/04 United States Of Eurasia _ Collateral Damage_Xbx0V5.wav\n",
            "/content/drive/MyDrive/Datasets/Music/Additional_Music/splits_v2/train/06 Anyone Can Play Guitar_KjTpCC.wav\n",
            "/content/drive/MyDrive/Datasets/Music/Additional_Music/splits_v2/train/04 She feat. Frank Ocean_xLeiDj.wav\n",
            "/content/drive/MyDrive/Datasets/Music/Additional_Music/splits_v2/train/07 Waiting In Vain_laFSE5.wav\n",
            "/content/drive/MyDrive/Datasets/Music/Additional_Music/splits_v2/train/02 The Last Song (Edit)_68xENK.mp3\n",
            "/content/drive/MyDrive/Datasets/Music/Additional_Music/splits_v2/train/The Mouse Outfit feat. Dubbul O & Sparkz - Never Get Enough (HD)_zc5xJm.mp3\n",
            "/content/drive/MyDrive/Datasets/Music/Additional_Music/splits_v2/train/Howlings - Detached (Nuages Remix)_Bp4SFE.wav\n",
            "/content/drive/MyDrive/Datasets/Music/Additional_Music/splits_v2/train/02 BwoyTestVIP_QRO5Tp.mp3\n",
            "/content/drive/MyDrive/Datasets/Music/Additional_Music/splits_v2/train/07 Enough_cYNPRO.wav\n",
            "/content/drive/MyDrive/Datasets/Music/Additional_Music/splits_v2/train/11 Tear Out My Eyes_qCQpL7.mp3\n",
            "/content/drive/MyDrive/Datasets/Music/Additional_Music/splits_v2/train/1-06 Sweet Revenge (Subzero Remix)_0aVN4y.wav\n",
            "/content/drive/MyDrive/Datasets/Music/Additional_Music/splits_v2/train/04 I Me Mine_K3GlAZ.mp3\n"
          ]
        },
        {
          "output_type": "error",
          "ename": "KeyboardInterrupt",
          "evalue": "",
          "traceback": [
            "\u001b[0;31m---------------------------------------------------------------------------\u001b[0m",
            "\u001b[0;31mKeyboardInterrupt\u001b[0m                         Traceback (most recent call last)",
            "\u001b[0;32m<ipython-input-23-019c6535fb31>\u001b[0m in \u001b[0;36m<cell line: 0>\u001b[0;34m()\u001b[0m\n\u001b[1;32m      1\u001b[0m \u001b[0;32mif\u001b[0m \u001b[0mGENERATE\u001b[0m\u001b[0;34m:\u001b[0m\u001b[0;34m\u001b[0m\u001b[0;34m\u001b[0m\u001b[0m\n\u001b[0;32m----> 2\u001b[0;31m   \u001b[0msave_splits_to_directories\u001b[0m\u001b[0;34m(\u001b[0m\u001b[0msplits\u001b[0m\u001b[0;34m,\u001b[0m \u001b[0moutput_dir\u001b[0m\u001b[0;34m,\u001b[0m \u001b[0mmax_workers\u001b[0m\u001b[0;34m=\u001b[0m\u001b[0;36m8\u001b[0m\u001b[0;34m)\u001b[0m\u001b[0;34m\u001b[0m\u001b[0;34m\u001b[0m\u001b[0m\n\u001b[0m",
            "\u001b[0;32m/content/audioautoencoder/audioautoencoder/data_management.py\u001b[0m in \u001b[0;36msave_splits_to_directories\u001b[0;34m(splits, output_dir, max_workers)\u001b[0m\n\u001b[1;32m    107\u001b[0m     \u001b[0mos\u001b[0m\u001b[0;34m.\u001b[0m\u001b[0mmakedirs\u001b[0m\u001b[0;34m(\u001b[0m\u001b[0moutput_dir\u001b[0m\u001b[0;34m,\u001b[0m \u001b[0mexist_ok\u001b[0m\u001b[0;34m=\u001b[0m\u001b[0;32mTrue\u001b[0m\u001b[0;34m)\u001b[0m\u001b[0;34m\u001b[0m\u001b[0;34m\u001b[0m\u001b[0m\n\u001b[1;32m    108\u001b[0m \u001b[0;34m\u001b[0m\u001b[0m\n\u001b[0;32m--> 109\u001b[0;31m     \u001b[0;32mwith\u001b[0m \u001b[0mThreadPoolExecutor\u001b[0m\u001b[0;34m(\u001b[0m\u001b[0mmax_workers\u001b[0m\u001b[0;34m=\u001b[0m\u001b[0mmax_workers\u001b[0m\u001b[0;34m)\u001b[0m \u001b[0;32mas\u001b[0m \u001b[0mexecutor\u001b[0m\u001b[0;34m:\u001b[0m\u001b[0;34m\u001b[0m\u001b[0;34m\u001b[0m\u001b[0m\n\u001b[0m\u001b[1;32m    110\u001b[0m         \u001b[0;32mfor\u001b[0m \u001b[0msplit_name\u001b[0m\u001b[0;34m,\u001b[0m \u001b[0mfiles\u001b[0m \u001b[0;32min\u001b[0m \u001b[0msplits\u001b[0m\u001b[0;34m.\u001b[0m\u001b[0mitems\u001b[0m\u001b[0;34m(\u001b[0m\u001b[0;34m)\u001b[0m\u001b[0;34m:\u001b[0m\u001b[0;34m\u001b[0m\u001b[0;34m\u001b[0m\u001b[0m\n\u001b[1;32m    111\u001b[0m             \u001b[0msplit_dir\u001b[0m \u001b[0;34m=\u001b[0m \u001b[0mos\u001b[0m\u001b[0;34m.\u001b[0m\u001b[0mpath\u001b[0m\u001b[0;34m.\u001b[0m\u001b[0mjoin\u001b[0m\u001b[0;34m(\u001b[0m\u001b[0moutput_dir\u001b[0m\u001b[0;34m,\u001b[0m \u001b[0msplit_name\u001b[0m\u001b[0;34m)\u001b[0m\u001b[0;34m\u001b[0m\u001b[0;34m\u001b[0m\u001b[0m\n",
            "\u001b[0;32m/usr/lib/python3.11/concurrent/futures/_base.py\u001b[0m in \u001b[0;36m__exit__\u001b[0;34m(self, exc_type, exc_val, exc_tb)\u001b[0m\n\u001b[1;32m    645\u001b[0m \u001b[0;34m\u001b[0m\u001b[0m\n\u001b[1;32m    646\u001b[0m     \u001b[0;32mdef\u001b[0m \u001b[0m__exit__\u001b[0m\u001b[0;34m(\u001b[0m\u001b[0mself\u001b[0m\u001b[0;34m,\u001b[0m \u001b[0mexc_type\u001b[0m\u001b[0;34m,\u001b[0m \u001b[0mexc_val\u001b[0m\u001b[0;34m,\u001b[0m \u001b[0mexc_tb\u001b[0m\u001b[0;34m)\u001b[0m\u001b[0;34m:\u001b[0m\u001b[0;34m\u001b[0m\u001b[0;34m\u001b[0m\u001b[0m\n\u001b[0;32m--> 647\u001b[0;31m         \u001b[0mself\u001b[0m\u001b[0;34m.\u001b[0m\u001b[0mshutdown\u001b[0m\u001b[0;34m(\u001b[0m\u001b[0mwait\u001b[0m\u001b[0;34m=\u001b[0m\u001b[0;32mTrue\u001b[0m\u001b[0;34m)\u001b[0m\u001b[0;34m\u001b[0m\u001b[0;34m\u001b[0m\u001b[0m\n\u001b[0m\u001b[1;32m    648\u001b[0m         \u001b[0;32mreturn\u001b[0m \u001b[0;32mFalse\u001b[0m\u001b[0;34m\u001b[0m\u001b[0;34m\u001b[0m\u001b[0m\n\u001b[1;32m    649\u001b[0m \u001b[0;34m\u001b[0m\u001b[0m\n",
            "\u001b[0;32m/usr/lib/python3.11/concurrent/futures/thread.py\u001b[0m in \u001b[0;36mshutdown\u001b[0;34m(self, wait, cancel_futures)\u001b[0m\n\u001b[1;32m    233\u001b[0m         \u001b[0;32mif\u001b[0m \u001b[0mwait\u001b[0m\u001b[0;34m:\u001b[0m\u001b[0;34m\u001b[0m\u001b[0;34m\u001b[0m\u001b[0m\n\u001b[1;32m    234\u001b[0m             \u001b[0;32mfor\u001b[0m \u001b[0mt\u001b[0m \u001b[0;32min\u001b[0m \u001b[0mself\u001b[0m\u001b[0;34m.\u001b[0m\u001b[0m_threads\u001b[0m\u001b[0;34m:\u001b[0m\u001b[0;34m\u001b[0m\u001b[0;34m\u001b[0m\u001b[0m\n\u001b[0;32m--> 235\u001b[0;31m                 \u001b[0mt\u001b[0m\u001b[0;34m.\u001b[0m\u001b[0mjoin\u001b[0m\u001b[0;34m(\u001b[0m\u001b[0;34m)\u001b[0m\u001b[0;34m\u001b[0m\u001b[0;34m\u001b[0m\u001b[0m\n\u001b[0m\u001b[1;32m    236\u001b[0m     \u001b[0mshutdown\u001b[0m\u001b[0;34m.\u001b[0m\u001b[0m__doc__\u001b[0m \u001b[0;34m=\u001b[0m \u001b[0m_base\u001b[0m\u001b[0;34m.\u001b[0m\u001b[0mExecutor\u001b[0m\u001b[0;34m.\u001b[0m\u001b[0mshutdown\u001b[0m\u001b[0;34m.\u001b[0m\u001b[0m__doc__\u001b[0m\u001b[0;34m\u001b[0m\u001b[0;34m\u001b[0m\u001b[0m\n",
            "\u001b[0;32m/usr/lib/python3.11/threading.py\u001b[0m in \u001b[0;36mjoin\u001b[0;34m(self, timeout)\u001b[0m\n\u001b[1;32m   1117\u001b[0m \u001b[0;34m\u001b[0m\u001b[0m\n\u001b[1;32m   1118\u001b[0m         \u001b[0;32mif\u001b[0m \u001b[0mtimeout\u001b[0m \u001b[0;32mis\u001b[0m \u001b[0;32mNone\u001b[0m\u001b[0;34m:\u001b[0m\u001b[0;34m\u001b[0m\u001b[0;34m\u001b[0m\u001b[0m\n\u001b[0;32m-> 1119\u001b[0;31m             \u001b[0mself\u001b[0m\u001b[0;34m.\u001b[0m\u001b[0m_wait_for_tstate_lock\u001b[0m\u001b[0;34m(\u001b[0m\u001b[0;34m)\u001b[0m\u001b[0;34m\u001b[0m\u001b[0;34m\u001b[0m\u001b[0m\n\u001b[0m\u001b[1;32m   1120\u001b[0m         \u001b[0;32melse\u001b[0m\u001b[0;34m:\u001b[0m\u001b[0;34m\u001b[0m\u001b[0;34m\u001b[0m\u001b[0m\n\u001b[1;32m   1121\u001b[0m             \u001b[0;31m# the behavior of a negative timeout isn't documented, but\u001b[0m\u001b[0;34m\u001b[0m\u001b[0;34m\u001b[0m\u001b[0m\n",
            "\u001b[0;32m/usr/lib/python3.11/threading.py\u001b[0m in \u001b[0;36m_wait_for_tstate_lock\u001b[0;34m(self, block, timeout)\u001b[0m\n\u001b[1;32m   1137\u001b[0m \u001b[0;34m\u001b[0m\u001b[0m\n\u001b[1;32m   1138\u001b[0m         \u001b[0;32mtry\u001b[0m\u001b[0;34m:\u001b[0m\u001b[0;34m\u001b[0m\u001b[0;34m\u001b[0m\u001b[0m\n\u001b[0;32m-> 1139\u001b[0;31m             \u001b[0;32mif\u001b[0m \u001b[0mlock\u001b[0m\u001b[0;34m.\u001b[0m\u001b[0macquire\u001b[0m\u001b[0;34m(\u001b[0m\u001b[0mblock\u001b[0m\u001b[0;34m,\u001b[0m \u001b[0mtimeout\u001b[0m\u001b[0;34m)\u001b[0m\u001b[0;34m:\u001b[0m\u001b[0;34m\u001b[0m\u001b[0;34m\u001b[0m\u001b[0m\n\u001b[0m\u001b[1;32m   1140\u001b[0m                 \u001b[0mlock\u001b[0m\u001b[0;34m.\u001b[0m\u001b[0mrelease\u001b[0m\u001b[0;34m(\u001b[0m\u001b[0;34m)\u001b[0m\u001b[0;34m\u001b[0m\u001b[0;34m\u001b[0m\u001b[0m\n\u001b[1;32m   1141\u001b[0m                 \u001b[0mself\u001b[0m\u001b[0;34m.\u001b[0m\u001b[0m_stop\u001b[0m\u001b[0;34m(\u001b[0m\u001b[0;34m)\u001b[0m\u001b[0;34m\u001b[0m\u001b[0;34m\u001b[0m\u001b[0m\n",
            "\u001b[0;31mKeyboardInterrupt\u001b[0m: "
          ]
        }
      ]
    },
    {
      "cell_type": "code",
      "source": [
        "music_test = output_dir + \"/test\"\n",
        "music_train = output_dir + \"/train\"\n",
        "\n",
        "# generate audio files for noise and music (2s)\n",
        "music_test_output = music_test + \"-2s-44100\"\n",
        "music_train_output = music_train + \"-2s-44100\"\n",
        "\n",
        "if GENERATE:\n",
        "  for input_path, output_path in [(music_test, music_test_output), (music_train, music_train_output)]:\n",
        "    print(input_path, output_path)\n",
        "    generate_audio_files(input_path, output_path, t=2, min_size=0.005)"
      ],
      "metadata": {
        "id": "roZDNQxZrhyB"
      },
      "execution_count": null,
      "outputs": []
    },
    {
      "cell_type": "markdown",
      "source": [
        "## Stuff for MUSDB18\n"
      ],
      "metadata": {
        "id": "EPhQ_bfGok6k"
      }
    },
    {
      "cell_type": "code",
      "source": [
        "music_test = \"/content/drive/MyDrive/Datasets/Music/MUSDB18/test\"\n",
        "music_train = \"/content/drive/MyDrive/Datasets/Music/MUSDB18/train\"\n",
        "\n",
        "music_test_output = music_test + \"-2s-44100\"\n",
        "music_train_output = music_train + \"-2s-44100\""
      ],
      "metadata": {
        "id": "EJ8CuwGfyeGR"
      },
      "execution_count": 13,
      "outputs": []
    },
    {
      "cell_type": "code",
      "source": [
        "if False:\n",
        "  size_gb = get_folder_size_gb(music_test_output)\n",
        "  print(f\"Music Test Folder size: {size_gb:.2f} GB\")\n",
        "\n",
        "  size_gb = get_folder_size_gb(music_train_output)\n",
        "  print(f\"Music Train Folder size: {size_gb:.2f} GB\")"
      ],
      "metadata": {
        "id": "us2VLKRRybcC"
      },
      "execution_count": 14,
      "outputs": []
    },
    {
      "cell_type": "code",
      "execution_count": 15,
      "metadata": {
        "id": "duIyKdowqaTD"
      },
      "outputs": [],
      "source": [
        "# generate audio files for noise and music (2s)\n",
        "if False:\n",
        "  for input_path, output_path in [(music_test, music_test_output), (music_train, music_train_output)]:\n",
        "    print(input_path, output_path)\n",
        "    generate_audio_files(input_path, output_path, t=2)"
      ]
    },
    {
      "cell_type": "markdown",
      "metadata": {
        "id": "Rok94pBMqaTD"
      },
      "source": [
        "## Process files to H5"
      ]
    },
    {
      "cell_type": "code",
      "source": [
        "from audioautoencoder.generate_dataset import *"
      ],
      "metadata": {
        "id": "MLVSNiJoLmS7"
      },
      "execution_count": 16,
      "outputs": []
    },
    {
      "cell_type": "code",
      "execution_count": 17,
      "metadata": {
        "id": "6UtrrWsBqaTE"
      },
      "outputs": [],
      "source": [
        "GENERATE_H5_FILES = False\n",
        "checkpoint_file_size=50000\n",
        "if GENERATE_H5_FILES:\n",
        "  processor = DatasetProcessor(\n",
        "          train_music_dir='/content/drive/MyDrive/Datasets/Music/MUSDB18/train-2s-44100',\n",
        "          train_noise_dir='/content/drive/MyDrive/Datasets/Noise/splits_v2/train-2s-44100',\n",
        "          test_music_dir='/content/drive/MyDrive/Datasets/Music/MUSDB18/test-2s-44100',\n",
        "          test_noise_dir='/content/drive/MyDrive/Datasets/Noise/splits_v2/test-2s-44100',\n",
        "          output_dir='/content/drive/MyDrive/Datasets/Music-Noise/SNRdB_all-noise_features',\n",
        "          SNRdB=[-10, 10],\n",
        "          process_train=True,\n",
        "          process_test=True,\n",
        "          checkpoint_file_size=checkpoint_file_size,\n",
        "          batch_size=100\n",
        "      )\n",
        "  processor.process()\n",
        "\n",
        "  processor = DatasetProcessor(\n",
        "          train_music_dir='/content/drive/MyDrive/Datasets/Music/MUSDB18/train-2s-44100',\n",
        "          train_noise_dir='/content/drive/MyDrive/Datasets/Noise/splits_v2/train-2s-44100',\n",
        "          test_music_dir='/content/drive/MyDrive/Datasets/Music/MUSDB18/test-2s-44100',\n",
        "          test_noise_dir='/content/drive/MyDrive/Datasets/Noise/splits_v2/test-2s-44100',\n",
        "          output_dir='/content/drive/MyDrive/Datasets/Music-Noise/SNRdB_all-noise_features',\n",
        "          SNRdB=[0, 20],\n",
        "          process_train=True,\n",
        "          process_test=True,\n",
        "          checkpoint_file_size=checkpoint_file_size,\n",
        "          batch_size=100\n",
        "      )\n",
        "  processor.process()\n",
        "\n",
        "  processor = DatasetProcessor(\n",
        "          train_music_dir='/content/drive/MyDrive/Datasets/Music/MUSDB18/train-2s-44100',\n",
        "          train_noise_dir='/content/drive/MyDrive/Datasets/Noise/splits_v2/train-2s-44100',\n",
        "          test_music_dir='/content/drive/MyDrive/Datasets/Music/MUSDB18/test-2s-44100',\n",
        "          test_noise_dir='/content/drive/MyDrive/Datasets/Noise/splits_v2/test-2s-44100',\n",
        "          output_dir='/content/drive/MyDrive/Datasets/Music-Noise/SNRdB_all-noise_features',\n",
        "          SNRdB=[10, 30],\n",
        "          process_train=True,\n",
        "          process_test=True,\n",
        "          checkpoint_file_size=checkpoint_file_size\n",
        "      )\n",
        "  processor.process()\n",
        "\n",
        "  processor = DatasetProcessor(\n",
        "          train_music_dir='/content/drive/MyDrive/Datasets/Music/MUSDB18/train-2s-44100',\n",
        "          train_noise_dir='/content/drive/MyDrive/Datasets/Noise/splits_v2/train-2s-44100',\n",
        "          test_music_dir='/content/drive/MyDrive/Datasets/Music/MUSDB18/test-2s-44100',\n",
        "          test_noise_dir='/content/drive/MyDrive/Datasets/Noise/splits_v2/test-2s-44100',\n",
        "          output_dir='/content/drive/MyDrive/Datasets/Music-Noise/SNRdB_mix_features',\n",
        "          SNRdB=[-10, 30],\n",
        "          process_train=True,\n",
        "          process_test=True,\n",
        "          mix_only=True,\n",
        "          checkpoint_file_size=checkpoint_file_size\n",
        "      )\n",
        "  processor.process()"
      ]
    },
    {
      "cell_type": "code",
      "source": [
        "processor = DatasetProcessor(\n",
        "        train_music_dir='/content/drive/MyDrive/Datasets/Music/MUSDB18/train-2s-44100',\n",
        "        train_noise_dir='/content/drive/MyDrive/Datasets/Noise/splits_v2/train-2s-44100',\n",
        "        test_music_dir='/content/drive/MyDrive/Datasets/Music/MUSDB18/test-2s-44100',\n",
        "        test_noise_dir='/content/drive/MyDrive/Datasets/Noise/splits_v2/test-2s-44100',\n",
        "        output_dir='/content/drive/MyDrive/Datasets/Music-Noise/SNRdB_all-noise_features',\n",
        "        SNRdB=[10, 30],\n",
        "        process_train=True,\n",
        "        process_test=True,\n",
        "        checkpoint_file_size=500000\n",
        "    )\n",
        "processor.process()"
      ],
      "metadata": {
        "id": "tlIpJhjIm2wT",
        "outputId": "88894a88-bd30-4b29-cd6e-56b3b81bd63c",
        "colab": {
          "base_uri": "https://localhost:8080/",
          "height": 1000
        }
      },
      "execution_count": 18,
      "outputs": [
        {
          "output_type": "stream",
          "name": "stdout",
          "text": [
            "Output Dir: /content/drive/MyDrive/Datasets/Music-Noise/SNRdB_all-noise_features\n",
            "Train Checkpoint File: /content/drive/MyDrive/Datasets/Music-Noise/SNRdB_all-noise_features/SNRdB_10-30/train-SNRdB_10-30-checkpoint.txt\n",
            "Train Output File: /content/drive/MyDrive/Datasets/Music-Noise/SNRdB_all-noise_features/SNRdB_10-30/train/train-SNRdB_10-30.h5\n",
            "Test Checkpoint File: /content/drive/MyDrive/Datasets/Music-Noise/SNRdB_all-noise_features/SNRdB_10-30/test-SNRdB_10-30-checkpoint.txt\n",
            "Test Output File: /content/drive/MyDrive/Datasets/Music-Noise/SNRdB_all-noise_features/SNRdB_10-30/test/test-SNRdB_10-30.h5\n",
            "Directory already exists: /content/drive/MyDrive/Datasets/Music-Noise/SNRdB_all-noise_features/SNRdB_10-30/train\n",
            "Directory already exists: /content/drive/MyDrive/Datasets/Music-Noise/SNRdB_all-noise_features/SNRdB_10-30/test\n",
            "Processing training dataset....\n",
            "Gathering wav files....\n",
            "Error accessing directory: [Errno 5] Input/output error: '/content/drive/MyDrive/Datasets/Music/MUSDB18/train-2s-44100'\n",
            "Files processed:  46733\n",
            "Gathering noise files....\n",
            "Files processed:  7550\n",
            "Checkpoint file path: /content/drive/MyDrive/Datasets/Music-Noise/SNRdB_all-noise_features/SNRdB_10-30/train-SNRdB_10-30-checkpoint.txt\n",
            "Checkpoint value: 47000\n",
            "Resuming from batch index: 47000\n"
          ]
        },
        {
          "output_type": "stream",
          "name": "stderr",
          "text": [
            "Processing batches: 0batch [00:00, ?batch/s]"
          ]
        },
        {
          "output_type": "stream",
          "name": "stdout",
          "text": [
            "Gathering wav files....\n"
          ]
        },
        {
          "output_type": "stream",
          "name": "stderr",
          "text": [
            "\n"
          ]
        },
        {
          "output_type": "stream",
          "name": "stdout",
          "text": [
            "Files processed:  46733\n",
            "Gathering noise files....\n",
            "Files processed:  7550\n",
            "Checkpoint file path: /content/drive/MyDrive/Datasets/Music-Noise/SNRdB_all-noise_features/SNRdB_10-30/train-SNRdB_10-30-checkpoint.txt\n",
            "Checkpoint value: 47000\n",
            "Resuming from batch index: 47000\n"
          ]
        },
        {
          "output_type": "stream",
          "name": "stderr",
          "text": [
            "Processing batches: 0batch [00:00, ?batch/s]"
          ]
        },
        {
          "output_type": "stream",
          "name": "stdout",
          "text": [
            "Gathering wav files....\n"
          ]
        },
        {
          "output_type": "stream",
          "name": "stderr",
          "text": [
            "\n"
          ]
        },
        {
          "output_type": "stream",
          "name": "stdout",
          "text": [
            "Files processed:  46733\n",
            "Gathering noise files....\n",
            "Files processed:  7550\n",
            "Checkpoint file path: /content/drive/MyDrive/Datasets/Music-Noise/SNRdB_all-noise_features/SNRdB_10-30/train-SNRdB_10-30-checkpoint.txt\n",
            "Checkpoint value: 47000\n",
            "Resuming from batch index: 47000\n"
          ]
        },
        {
          "output_type": "stream",
          "name": "stderr",
          "text": [
            "Processing batches: 0batch [00:00, ?batch/s]"
          ]
        },
        {
          "output_type": "stream",
          "name": "stdout",
          "text": [
            "Gathering wav files....\n"
          ]
        },
        {
          "output_type": "stream",
          "name": "stderr",
          "text": [
            "\n"
          ]
        },
        {
          "output_type": "stream",
          "name": "stdout",
          "text": [
            "Files processed:  46733\n",
            "Gathering noise files....\n",
            "Files processed:  7550\n",
            "Checkpoint file path: /content/drive/MyDrive/Datasets/Music-Noise/SNRdB_all-noise_features/SNRdB_10-30/train-SNRdB_10-30-checkpoint.txt\n",
            "Checkpoint value: 47000\n",
            "Resuming from batch index: 47000\n"
          ]
        },
        {
          "output_type": "stream",
          "name": "stderr",
          "text": [
            "Processing batches: 0batch [00:00, ?batch/s]"
          ]
        },
        {
          "output_type": "stream",
          "name": "stdout",
          "text": [
            "Gathering wav files....\n"
          ]
        },
        {
          "output_type": "stream",
          "name": "stderr",
          "text": [
            "\n"
          ]
        },
        {
          "output_type": "stream",
          "name": "stdout",
          "text": [
            "Files processed:  46733\n",
            "Gathering noise files....\n",
            "Files processed:  7550\n",
            "Checkpoint file path: /content/drive/MyDrive/Datasets/Music-Noise/SNRdB_all-noise_features/SNRdB_10-30/train-SNRdB_10-30-checkpoint.txt\n",
            "Checkpoint value: 47000\n",
            "Resuming from batch index: 47000\n"
          ]
        },
        {
          "output_type": "stream",
          "name": "stderr",
          "text": [
            "Processing batches: 0batch [00:00, ?batch/s]"
          ]
        },
        {
          "output_type": "stream",
          "name": "stdout",
          "text": [
            "Gathering wav files....\n"
          ]
        },
        {
          "output_type": "stream",
          "name": "stderr",
          "text": [
            "\n"
          ]
        },
        {
          "output_type": "stream",
          "name": "stdout",
          "text": [
            "Files processed:  46733\n",
            "Gathering noise files....\n",
            "Files processed:  7550\n",
            "Checkpoint file path: /content/drive/MyDrive/Datasets/Music-Noise/SNRdB_all-noise_features/SNRdB_10-30/train-SNRdB_10-30-checkpoint.txt\n",
            "Checkpoint value: 47000\n",
            "Resuming from batch index: 47000\n"
          ]
        },
        {
          "output_type": "stream",
          "name": "stderr",
          "text": [
            "Processing batches: 0batch [00:00, ?batch/s]"
          ]
        },
        {
          "output_type": "stream",
          "name": "stdout",
          "text": [
            "Gathering wav files....\n"
          ]
        },
        {
          "output_type": "stream",
          "name": "stderr",
          "text": [
            "\n"
          ]
        },
        {
          "output_type": "stream",
          "name": "stdout",
          "text": [
            "Files processed:  46733\n",
            "Gathering noise files....\n",
            "Files processed:  7550\n",
            "Checkpoint file path: /content/drive/MyDrive/Datasets/Music-Noise/SNRdB_all-noise_features/SNRdB_10-30/train-SNRdB_10-30-checkpoint.txt\n",
            "Checkpoint value: 47000\n",
            "Resuming from batch index: 47000\n"
          ]
        },
        {
          "output_type": "stream",
          "name": "stderr",
          "text": [
            "Processing batches: 0batch [00:00, ?batch/s]"
          ]
        },
        {
          "output_type": "stream",
          "name": "stdout",
          "text": [
            "Gathering wav files....\n"
          ]
        },
        {
          "output_type": "stream",
          "name": "stderr",
          "text": [
            "\n"
          ]
        },
        {
          "output_type": "stream",
          "name": "stdout",
          "text": [
            "Files processed:  46733\n",
            "Gathering noise files....\n",
            "Files processed:  7550\n",
            "Checkpoint file path: /content/drive/MyDrive/Datasets/Music-Noise/SNRdB_all-noise_features/SNRdB_10-30/train-SNRdB_10-30-checkpoint.txt\n",
            "Checkpoint value: 47000\n",
            "Resuming from batch index: 47000\n"
          ]
        },
        {
          "output_type": "stream",
          "name": "stderr",
          "text": [
            "Processing batches: 0batch [00:00, ?batch/s]"
          ]
        },
        {
          "output_type": "stream",
          "name": "stdout",
          "text": [
            "Gathering wav files....\n"
          ]
        },
        {
          "output_type": "stream",
          "name": "stderr",
          "text": [
            "\n"
          ]
        },
        {
          "output_type": "stream",
          "name": "stdout",
          "text": [
            "Files processed:  46733\n",
            "Gathering noise files....\n",
            "Files processed:  7550\n",
            "Checkpoint file path: /content/drive/MyDrive/Datasets/Music-Noise/SNRdB_all-noise_features/SNRdB_10-30/train-SNRdB_10-30-checkpoint.txt\n",
            "Checkpoint value: 47000\n",
            "Resuming from batch index: 47000\n"
          ]
        },
        {
          "output_type": "stream",
          "name": "stderr",
          "text": [
            "Processing batches: 0batch [00:00, ?batch/s]"
          ]
        },
        {
          "output_type": "stream",
          "name": "stdout",
          "text": [
            "Gathering wav files....\n"
          ]
        },
        {
          "output_type": "stream",
          "name": "stderr",
          "text": [
            "\n"
          ]
        },
        {
          "output_type": "stream",
          "name": "stdout",
          "text": [
            "Files processed:  46733\n",
            "Gathering noise files....\n",
            "Files processed:  7550\n",
            "Checkpoint file path: /content/drive/MyDrive/Datasets/Music-Noise/SNRdB_all-noise_features/SNRdB_10-30/train-SNRdB_10-30-checkpoint.txt\n",
            "Checkpoint value: 47000\n",
            "Resuming from batch index: 47000\n"
          ]
        },
        {
          "output_type": "stream",
          "name": "stderr",
          "text": [
            "Processing batches: 0batch [00:00, ?batch/s]"
          ]
        },
        {
          "output_type": "stream",
          "name": "stdout",
          "text": [
            "Gathering wav files....\n"
          ]
        },
        {
          "output_type": "stream",
          "name": "stderr",
          "text": [
            "\n"
          ]
        },
        {
          "output_type": "stream",
          "name": "stdout",
          "text": [
            "Files processed:  46733\n",
            "Gathering noise files....\n",
            "Files processed:  7550\n",
            "Checkpoint file path: /content/drive/MyDrive/Datasets/Music-Noise/SNRdB_all-noise_features/SNRdB_10-30/train-SNRdB_10-30-checkpoint.txt\n",
            "Checkpoint value: 47000\n",
            "Resuming from batch index: 47000\n"
          ]
        },
        {
          "output_type": "stream",
          "name": "stderr",
          "text": [
            "Processing batches: 0batch [00:00, ?batch/s]"
          ]
        },
        {
          "output_type": "stream",
          "name": "stdout",
          "text": [
            "Gathering wav files....\n"
          ]
        },
        {
          "output_type": "stream",
          "name": "stderr",
          "text": [
            "\n"
          ]
        },
        {
          "output_type": "stream",
          "name": "stdout",
          "text": [
            "Files processed:  46733\n",
            "Gathering noise files....\n",
            "Files processed:  7550\n",
            "Checkpoint file path: /content/drive/MyDrive/Datasets/Music-Noise/SNRdB_all-noise_features/SNRdB_10-30/train-SNRdB_10-30-checkpoint.txt\n",
            "Checkpoint value: 47000\n",
            "Resuming from batch index: 47000\n"
          ]
        },
        {
          "output_type": "stream",
          "name": "stderr",
          "text": [
            "Processing batches: 0batch [00:00, ?batch/s]"
          ]
        },
        {
          "output_type": "stream",
          "name": "stdout",
          "text": [
            "Gathering wav files....\n"
          ]
        },
        {
          "output_type": "stream",
          "name": "stderr",
          "text": [
            "\n"
          ]
        },
        {
          "output_type": "stream",
          "name": "stdout",
          "text": [
            "Files processed:  46733\n",
            "Gathering noise files....\n",
            "Files processed:  7550\n",
            "Checkpoint file path: /content/drive/MyDrive/Datasets/Music-Noise/SNRdB_all-noise_features/SNRdB_10-30/train-SNRdB_10-30-checkpoint.txt\n",
            "Checkpoint value: 47000\n",
            "Resuming from batch index: 47000\n"
          ]
        },
        {
          "output_type": "stream",
          "name": "stderr",
          "text": [
            "Processing batches: 0batch [00:00, ?batch/s]"
          ]
        },
        {
          "output_type": "stream",
          "name": "stdout",
          "text": [
            "Gathering wav files....\n"
          ]
        },
        {
          "output_type": "stream",
          "name": "stderr",
          "text": [
            "\n"
          ]
        },
        {
          "output_type": "stream",
          "name": "stdout",
          "text": [
            "Files processed:  46733\n",
            "Gathering noise files....\n",
            "Files processed:  7550\n",
            "Checkpoint file path: /content/drive/MyDrive/Datasets/Music-Noise/SNRdB_all-noise_features/SNRdB_10-30/train-SNRdB_10-30-checkpoint.txt\n",
            "Checkpoint value: 47000\n",
            "Resuming from batch index: 47000\n"
          ]
        },
        {
          "output_type": "stream",
          "name": "stderr",
          "text": [
            "Processing batches: 0batch [00:00, ?batch/s]"
          ]
        },
        {
          "output_type": "stream",
          "name": "stdout",
          "text": [
            "Gathering wav files....\n"
          ]
        },
        {
          "output_type": "stream",
          "name": "stderr",
          "text": [
            "\n"
          ]
        },
        {
          "output_type": "stream",
          "name": "stdout",
          "text": [
            "Files processed:  46733\n",
            "Gathering noise files....\n",
            "Files processed:  7550\n",
            "Checkpoint file path: /content/drive/MyDrive/Datasets/Music-Noise/SNRdB_all-noise_features/SNRdB_10-30/train-SNRdB_10-30-checkpoint.txt\n",
            "Checkpoint value: 47000\n",
            "Resuming from batch index: 47000\n"
          ]
        },
        {
          "output_type": "stream",
          "name": "stderr",
          "text": [
            "Processing batches: 0batch [00:00, ?batch/s]"
          ]
        },
        {
          "output_type": "stream",
          "name": "stdout",
          "text": [
            "Gathering wav files....\n"
          ]
        },
        {
          "output_type": "stream",
          "name": "stderr",
          "text": [
            "\n"
          ]
        },
        {
          "output_type": "stream",
          "name": "stdout",
          "text": [
            "Files processed:  46733\n",
            "Gathering noise files....\n",
            "Files processed:  7550\n",
            "Checkpoint file path: /content/drive/MyDrive/Datasets/Music-Noise/SNRdB_all-noise_features/SNRdB_10-30/train-SNRdB_10-30-checkpoint.txt\n",
            "Checkpoint value: 47000\n",
            "Resuming from batch index: 47000\n"
          ]
        },
        {
          "output_type": "stream",
          "name": "stderr",
          "text": [
            "Processing batches: 0batch [00:00, ?batch/s]"
          ]
        },
        {
          "output_type": "stream",
          "name": "stdout",
          "text": [
            "Gathering wav files....\n"
          ]
        },
        {
          "output_type": "stream",
          "name": "stderr",
          "text": [
            "\n"
          ]
        },
        {
          "output_type": "stream",
          "name": "stdout",
          "text": [
            "Files processed:  46733\n",
            "Gathering noise files....\n",
            "Files processed:  7550\n",
            "Checkpoint file path: /content/drive/MyDrive/Datasets/Music-Noise/SNRdB_all-noise_features/SNRdB_10-30/train-SNRdB_10-30-checkpoint.txt\n",
            "Checkpoint value: 47000\n",
            "Resuming from batch index: 47000\n"
          ]
        },
        {
          "output_type": "stream",
          "name": "stderr",
          "text": [
            "Processing batches: 0batch [00:00, ?batch/s]"
          ]
        },
        {
          "output_type": "stream",
          "name": "stdout",
          "text": [
            "Gathering wav files....\n"
          ]
        },
        {
          "output_type": "stream",
          "name": "stderr",
          "text": [
            "\n"
          ]
        },
        {
          "output_type": "stream",
          "name": "stdout",
          "text": [
            "Files processed:  46733\n",
            "Gathering noise files....\n",
            "Files processed:  7550\n",
            "Checkpoint file path: /content/drive/MyDrive/Datasets/Music-Noise/SNRdB_all-noise_features/SNRdB_10-30/train-SNRdB_10-30-checkpoint.txt\n",
            "Checkpoint value: 47000\n",
            "Resuming from batch index: 47000\n"
          ]
        },
        {
          "output_type": "stream",
          "name": "stderr",
          "text": [
            "Processing batches: 0batch [00:00, ?batch/s]"
          ]
        },
        {
          "output_type": "stream",
          "name": "stdout",
          "text": [
            "Gathering wav files....\n"
          ]
        },
        {
          "output_type": "stream",
          "name": "stderr",
          "text": [
            "\n"
          ]
        },
        {
          "output_type": "stream",
          "name": "stdout",
          "text": [
            "Files processed:  46733\n",
            "Gathering noise files....\n",
            "Files processed:  7550\n",
            "Checkpoint file path: /content/drive/MyDrive/Datasets/Music-Noise/SNRdB_all-noise_features/SNRdB_10-30/train-SNRdB_10-30-checkpoint.txt\n",
            "Checkpoint value: 47000\n",
            "Resuming from batch index: 47000\n"
          ]
        },
        {
          "output_type": "stream",
          "name": "stderr",
          "text": [
            "Processing batches: 0batch [00:00, ?batch/s]"
          ]
        },
        {
          "output_type": "stream",
          "name": "stdout",
          "text": [
            "Gathering wav files....\n"
          ]
        },
        {
          "output_type": "stream",
          "name": "stderr",
          "text": [
            "\n"
          ]
        },
        {
          "output_type": "stream",
          "name": "stdout",
          "text": [
            "Files processed:  46733\n",
            "Gathering noise files....\n",
            "Files processed:  7550\n",
            "Checkpoint file path: /content/drive/MyDrive/Datasets/Music-Noise/SNRdB_all-noise_features/SNRdB_10-30/train-SNRdB_10-30-checkpoint.txt\n",
            "Checkpoint value: 47000\n",
            "Resuming from batch index: 47000\n"
          ]
        },
        {
          "output_type": "stream",
          "name": "stderr",
          "text": [
            "Processing batches: 0batch [00:00, ?batch/s]"
          ]
        },
        {
          "output_type": "stream",
          "name": "stdout",
          "text": [
            "Gathering wav files....\n"
          ]
        },
        {
          "output_type": "stream",
          "name": "stderr",
          "text": [
            "\n"
          ]
        },
        {
          "output_type": "stream",
          "name": "stdout",
          "text": [
            "Files processed:  46733\n",
            "Gathering noise files....\n",
            "Files processed:  7550\n",
            "Checkpoint file path: /content/drive/MyDrive/Datasets/Music-Noise/SNRdB_all-noise_features/SNRdB_10-30/train-SNRdB_10-30-checkpoint.txt\n",
            "Checkpoint value: 47000\n",
            "Resuming from batch index: 47000\n"
          ]
        },
        {
          "output_type": "stream",
          "name": "stderr",
          "text": [
            "Processing batches: 0batch [00:00, ?batch/s]"
          ]
        },
        {
          "output_type": "stream",
          "name": "stdout",
          "text": [
            "Gathering wav files....\n"
          ]
        },
        {
          "output_type": "stream",
          "name": "stderr",
          "text": [
            "\n"
          ]
        },
        {
          "output_type": "stream",
          "name": "stdout",
          "text": [
            "Files processed:  46733\n",
            "Gathering noise files....\n",
            "Files processed:  7550\n",
            "Checkpoint file path: /content/drive/MyDrive/Datasets/Music-Noise/SNRdB_all-noise_features/SNRdB_10-30/train-SNRdB_10-30-checkpoint.txt\n",
            "Checkpoint value: 47000\n",
            "Resuming from batch index: 47000\n"
          ]
        },
        {
          "output_type": "stream",
          "name": "stderr",
          "text": [
            "Processing batches: 0batch [00:00, ?batch/s]"
          ]
        },
        {
          "output_type": "stream",
          "name": "stdout",
          "text": [
            "Gathering wav files....\n"
          ]
        },
        {
          "output_type": "stream",
          "name": "stderr",
          "text": [
            "\n"
          ]
        },
        {
          "output_type": "stream",
          "name": "stdout",
          "text": [
            "Files processed:  46733\n",
            "Gathering noise files....\n",
            "Files processed:  7550\n",
            "Checkpoint file path: /content/drive/MyDrive/Datasets/Music-Noise/SNRdB_all-noise_features/SNRdB_10-30/train-SNRdB_10-30-checkpoint.txt\n",
            "Checkpoint value: 47000\n",
            "Resuming from batch index: 47000\n"
          ]
        },
        {
          "output_type": "stream",
          "name": "stderr",
          "text": [
            "Processing batches: 0batch [00:00, ?batch/s]\n"
          ]
        },
        {
          "output_type": "stream",
          "name": "stdout",
          "text": [
            "Gathering wav files....\n",
            "Files processed:  46733\n",
            "Gathering noise files....\n",
            "Files processed:  7550\n",
            "Checkpoint file path: /content/drive/MyDrive/Datasets/Music-Noise/SNRdB_all-noise_features/SNRdB_10-30/train-SNRdB_10-30-checkpoint.txt\n",
            "Checkpoint value: 47000\n",
            "Resuming from batch index: 47000\n"
          ]
        },
        {
          "output_type": "stream",
          "name": "stderr",
          "text": [
            "Processing batches: 0batch [00:00, ?batch/s]"
          ]
        },
        {
          "output_type": "stream",
          "name": "stdout",
          "text": [
            "Gathering wav files....\n"
          ]
        },
        {
          "output_type": "stream",
          "name": "stderr",
          "text": [
            "\n"
          ]
        },
        {
          "output_type": "stream",
          "name": "stdout",
          "text": [
            "Files processed:  46733\n",
            "Gathering noise files....\n",
            "Files processed:  7550\n",
            "Checkpoint file path: /content/drive/MyDrive/Datasets/Music-Noise/SNRdB_all-noise_features/SNRdB_10-30/train-SNRdB_10-30-checkpoint.txt\n",
            "Checkpoint value: 47000\n",
            "Resuming from batch index: 47000\n"
          ]
        },
        {
          "output_type": "stream",
          "name": "stderr",
          "text": [
            "Processing batches: 0batch [00:00, ?batch/s]"
          ]
        },
        {
          "output_type": "stream",
          "name": "stdout",
          "text": [
            "Gathering wav files....\n"
          ]
        },
        {
          "output_type": "stream",
          "name": "stderr",
          "text": [
            "\n"
          ]
        },
        {
          "output_type": "stream",
          "name": "stdout",
          "text": [
            "Files processed:  46733\n",
            "Gathering noise files....\n",
            "Files processed:  7550\n",
            "Checkpoint file path: /content/drive/MyDrive/Datasets/Music-Noise/SNRdB_all-noise_features/SNRdB_10-30/train-SNRdB_10-30-checkpoint.txt\n",
            "Checkpoint value: 47000\n",
            "Resuming from batch index: 47000\n"
          ]
        },
        {
          "output_type": "stream",
          "name": "stderr",
          "text": [
            "Processing batches: 0batch [00:00, ?batch/s]"
          ]
        },
        {
          "output_type": "stream",
          "name": "stdout",
          "text": [
            "Gathering wav files....\n"
          ]
        },
        {
          "output_type": "stream",
          "name": "stderr",
          "text": [
            "\n"
          ]
        },
        {
          "output_type": "stream",
          "name": "stdout",
          "text": [
            "Files processed:  46733\n",
            "Gathering noise files....\n",
            "Files processed:  7550\n",
            "Checkpoint file path: /content/drive/MyDrive/Datasets/Music-Noise/SNRdB_all-noise_features/SNRdB_10-30/train-SNRdB_10-30-checkpoint.txt\n",
            "Checkpoint value: 47000\n",
            "Resuming from batch index: 47000\n"
          ]
        },
        {
          "output_type": "stream",
          "name": "stderr",
          "text": [
            "Processing batches: 0batch [00:00, ?batch/s]"
          ]
        },
        {
          "output_type": "stream",
          "name": "stdout",
          "text": [
            "Gathering wav files....\n"
          ]
        },
        {
          "output_type": "stream",
          "name": "stderr",
          "text": [
            "\n"
          ]
        },
        {
          "output_type": "stream",
          "name": "stdout",
          "text": [
            "Files processed:  46733\n",
            "Gathering noise files....\n",
            "Files processed:  7550\n",
            "Checkpoint file path: /content/drive/MyDrive/Datasets/Music-Noise/SNRdB_all-noise_features/SNRdB_10-30/train-SNRdB_10-30-checkpoint.txt\n",
            "Checkpoint value: 47000\n",
            "Resuming from batch index: 47000\n"
          ]
        },
        {
          "output_type": "stream",
          "name": "stderr",
          "text": [
            "Processing batches: 0batch [00:00, ?batch/s]"
          ]
        },
        {
          "output_type": "stream",
          "name": "stdout",
          "text": [
            "Gathering wav files....\n"
          ]
        },
        {
          "output_type": "stream",
          "name": "stderr",
          "text": [
            "\n"
          ]
        },
        {
          "output_type": "stream",
          "name": "stdout",
          "text": [
            "Files processed:  46733\n",
            "Gathering noise files....\n",
            "Files processed:  7550\n",
            "Checkpoint file path: /content/drive/MyDrive/Datasets/Music-Noise/SNRdB_all-noise_features/SNRdB_10-30/train-SNRdB_10-30-checkpoint.txt\n",
            "Checkpoint value: 47000\n",
            "Resuming from batch index: 47000\n"
          ]
        },
        {
          "output_type": "stream",
          "name": "stderr",
          "text": [
            "Processing batches: 0batch [00:00, ?batch/s]"
          ]
        },
        {
          "output_type": "stream",
          "name": "stdout",
          "text": [
            "Gathering wav files....\n"
          ]
        },
        {
          "output_type": "stream",
          "name": "stderr",
          "text": [
            "\n"
          ]
        },
        {
          "output_type": "stream",
          "name": "stdout",
          "text": [
            "Files processed:  46733\n",
            "Gathering noise files....\n",
            "Files processed:  7550\n",
            "Checkpoint file path: /content/drive/MyDrive/Datasets/Music-Noise/SNRdB_all-noise_features/SNRdB_10-30/train-SNRdB_10-30-checkpoint.txt\n",
            "Checkpoint value: 47000\n",
            "Resuming from batch index: 47000\n"
          ]
        },
        {
          "output_type": "stream",
          "name": "stderr",
          "text": [
            "Processing batches: 0batch [00:00, ?batch/s]"
          ]
        },
        {
          "output_type": "stream",
          "name": "stdout",
          "text": [
            "Gathering wav files....\n"
          ]
        },
        {
          "output_type": "stream",
          "name": "stderr",
          "text": [
            "\n"
          ]
        },
        {
          "output_type": "stream",
          "name": "stdout",
          "text": [
            "Files processed:  46733\n",
            "Gathering noise files....\n",
            "Files processed:  7550\n",
            "Checkpoint file path: /content/drive/MyDrive/Datasets/Music-Noise/SNRdB_all-noise_features/SNRdB_10-30/train-SNRdB_10-30-checkpoint.txt\n",
            "Checkpoint value: 47000\n",
            "Resuming from batch index: 47000\n"
          ]
        },
        {
          "output_type": "stream",
          "name": "stderr",
          "text": [
            "Processing batches: 0batch [00:00, ?batch/s]"
          ]
        },
        {
          "output_type": "stream",
          "name": "stdout",
          "text": [
            "Gathering wav files....\n"
          ]
        },
        {
          "output_type": "stream",
          "name": "stderr",
          "text": [
            "\n"
          ]
        },
        {
          "output_type": "stream",
          "name": "stdout",
          "text": [
            "Files processed:  46733\n",
            "Gathering noise files....\n",
            "Files processed:  7550\n",
            "Checkpoint file path: /content/drive/MyDrive/Datasets/Music-Noise/SNRdB_all-noise_features/SNRdB_10-30/train-SNRdB_10-30-checkpoint.txt\n",
            "Checkpoint value: 47000\n",
            "Resuming from batch index: 47000\n"
          ]
        },
        {
          "output_type": "stream",
          "name": "stderr",
          "text": [
            "Processing batches: 0batch [00:00, ?batch/s]"
          ]
        },
        {
          "output_type": "stream",
          "name": "stdout",
          "text": [
            "Gathering wav files....\n"
          ]
        },
        {
          "output_type": "stream",
          "name": "stderr",
          "text": [
            "\n"
          ]
        },
        {
          "output_type": "stream",
          "name": "stdout",
          "text": [
            "Files processed:  46733\n",
            "Gathering noise files....\n",
            "Files processed:  7550\n",
            "Checkpoint file path: /content/drive/MyDrive/Datasets/Music-Noise/SNRdB_all-noise_features/SNRdB_10-30/train-SNRdB_10-30-checkpoint.txt\n",
            "Checkpoint value: 47000\n",
            "Resuming from batch index: 47000\n"
          ]
        },
        {
          "output_type": "stream",
          "name": "stderr",
          "text": [
            "Processing batches: 0batch [00:00, ?batch/s]"
          ]
        },
        {
          "output_type": "stream",
          "name": "stdout",
          "text": [
            "Gathering wav files....\n"
          ]
        },
        {
          "output_type": "stream",
          "name": "stderr",
          "text": [
            "\n"
          ]
        },
        {
          "output_type": "stream",
          "name": "stdout",
          "text": [
            "Files processed:  46733\n",
            "Gathering noise files....\n",
            "Files processed:  7550\n",
            "Checkpoint file path: /content/drive/MyDrive/Datasets/Music-Noise/SNRdB_all-noise_features/SNRdB_10-30/train-SNRdB_10-30-checkpoint.txt\n",
            "Checkpoint value: 47000\n",
            "Resuming from batch index: 47000\n"
          ]
        },
        {
          "output_type": "stream",
          "name": "stderr",
          "text": [
            "Processing batches: 0batch [00:00, ?batch/s]"
          ]
        },
        {
          "output_type": "stream",
          "name": "stdout",
          "text": [
            "Gathering wav files....\n"
          ]
        },
        {
          "output_type": "stream",
          "name": "stderr",
          "text": [
            "\n"
          ]
        },
        {
          "output_type": "stream",
          "name": "stdout",
          "text": [
            "Files processed:  46733\n",
            "Gathering noise files....\n",
            "Files processed:  7550\n",
            "Checkpoint file path: /content/drive/MyDrive/Datasets/Music-Noise/SNRdB_all-noise_features/SNRdB_10-30/train-SNRdB_10-30-checkpoint.txt\n",
            "Checkpoint value: 47000\n",
            "Resuming from batch index: 47000\n"
          ]
        },
        {
          "output_type": "stream",
          "name": "stderr",
          "text": [
            "Processing batches: 0batch [00:00, ?batch/s]"
          ]
        },
        {
          "output_type": "stream",
          "name": "stdout",
          "text": [
            "Gathering wav files....\n"
          ]
        },
        {
          "output_type": "stream",
          "name": "stderr",
          "text": [
            "\n"
          ]
        },
        {
          "output_type": "stream",
          "name": "stdout",
          "text": [
            "Files processed:  46733\n",
            "Gathering noise files....\n",
            "Files processed:  7550\n",
            "Checkpoint file path: /content/drive/MyDrive/Datasets/Music-Noise/SNRdB_all-noise_features/SNRdB_10-30/train-SNRdB_10-30-checkpoint.txt\n",
            "Checkpoint value: 47000\n",
            "Resuming from batch index: 47000\n"
          ]
        },
        {
          "output_type": "stream",
          "name": "stderr",
          "text": [
            "Processing batches: 0batch [00:00, ?batch/s]"
          ]
        },
        {
          "output_type": "stream",
          "name": "stdout",
          "text": [
            "Gathering wav files....\n"
          ]
        },
        {
          "output_type": "stream",
          "name": "stderr",
          "text": [
            "\n"
          ]
        },
        {
          "output_type": "stream",
          "name": "stdout",
          "text": [
            "Files processed:  46733\n",
            "Gathering noise files....\n",
            "Files processed:  7550\n",
            "Checkpoint file path: /content/drive/MyDrive/Datasets/Music-Noise/SNRdB_all-noise_features/SNRdB_10-30/train-SNRdB_10-30-checkpoint.txt\n",
            "Checkpoint value: 47000\n",
            "Resuming from batch index: 47000\n"
          ]
        },
        {
          "output_type": "stream",
          "name": "stderr",
          "text": [
            "Processing batches: 0batch [00:00, ?batch/s]"
          ]
        },
        {
          "output_type": "stream",
          "name": "stdout",
          "text": [
            "Gathering wav files....\n"
          ]
        },
        {
          "output_type": "stream",
          "name": "stderr",
          "text": [
            "\n"
          ]
        },
        {
          "output_type": "stream",
          "name": "stdout",
          "text": [
            "Files processed:  46733\n",
            "Gathering noise files....\n",
            "Files processed:  7550\n",
            "Checkpoint file path: /content/drive/MyDrive/Datasets/Music-Noise/SNRdB_all-noise_features/SNRdB_10-30/train-SNRdB_10-30-checkpoint.txt\n",
            "Checkpoint value: 47000\n",
            "Resuming from batch index: 47000\n"
          ]
        },
        {
          "output_type": "stream",
          "name": "stderr",
          "text": [
            "Processing batches: 0batch [00:00, ?batch/s]"
          ]
        },
        {
          "output_type": "stream",
          "name": "stdout",
          "text": [
            "Gathering wav files....\n"
          ]
        },
        {
          "output_type": "stream",
          "name": "stderr",
          "text": [
            "\n"
          ]
        },
        {
          "output_type": "stream",
          "name": "stdout",
          "text": [
            "Files processed:  46733\n",
            "Gathering noise files....\n",
            "Files processed:  7550\n",
            "Checkpoint file path: /content/drive/MyDrive/Datasets/Music-Noise/SNRdB_all-noise_features/SNRdB_10-30/train-SNRdB_10-30-checkpoint.txt\n",
            "Checkpoint value: 47000\n",
            "Resuming from batch index: 47000\n"
          ]
        },
        {
          "output_type": "stream",
          "name": "stderr",
          "text": [
            "Processing batches: 0batch [00:00, ?batch/s]"
          ]
        },
        {
          "output_type": "stream",
          "name": "stdout",
          "text": [
            "Gathering wav files....\n"
          ]
        },
        {
          "output_type": "stream",
          "name": "stderr",
          "text": [
            "\n"
          ]
        },
        {
          "output_type": "stream",
          "name": "stdout",
          "text": [
            "Files processed:  46733\n",
            "Gathering noise files....\n",
            "Files processed:  7550\n",
            "Checkpoint file path: /content/drive/MyDrive/Datasets/Music-Noise/SNRdB_all-noise_features/SNRdB_10-30/train-SNRdB_10-30-checkpoint.txt\n",
            "Checkpoint value: 47000\n",
            "Resuming from batch index: 47000\n"
          ]
        },
        {
          "output_type": "stream",
          "name": "stderr",
          "text": [
            "Processing batches: 0batch [00:00, ?batch/s]"
          ]
        },
        {
          "output_type": "stream",
          "name": "stdout",
          "text": [
            "Gathering wav files....\n"
          ]
        },
        {
          "output_type": "stream",
          "name": "stderr",
          "text": [
            "\n"
          ]
        },
        {
          "output_type": "stream",
          "name": "stdout",
          "text": [
            "Files processed:  46733\n",
            "Gathering noise files....\n",
            "Files processed:  7550\n",
            "Checkpoint file path: /content/drive/MyDrive/Datasets/Music-Noise/SNRdB_all-noise_features/SNRdB_10-30/train-SNRdB_10-30-checkpoint.txt\n",
            "Checkpoint value: 47000\n",
            "Resuming from batch index: 47000\n"
          ]
        },
        {
          "output_type": "stream",
          "name": "stderr",
          "text": [
            "Processing batches: 0batch [00:00, ?batch/s]\n"
          ]
        },
        {
          "output_type": "stream",
          "name": "stdout",
          "text": [
            "Gathering wav files....\n",
            "Files processed:  46733\n",
            "Gathering noise files....\n",
            "Files processed:  7550\n",
            "Checkpoint file path: /content/drive/MyDrive/Datasets/Music-Noise/SNRdB_all-noise_features/SNRdB_10-30/train-SNRdB_10-30-checkpoint.txt\n",
            "Checkpoint value: 47000\n",
            "Resuming from batch index: 47000\n"
          ]
        },
        {
          "output_type": "stream",
          "name": "stderr",
          "text": [
            "Processing batches: 0batch [00:00, ?batch/s]"
          ]
        },
        {
          "output_type": "stream",
          "name": "stdout",
          "text": [
            "Gathering wav files....\n"
          ]
        },
        {
          "output_type": "stream",
          "name": "stderr",
          "text": [
            "\n"
          ]
        },
        {
          "output_type": "stream",
          "name": "stdout",
          "text": [
            "Files processed:  46733\n",
            "Gathering noise files....\n",
            "Files processed:  7550\n",
            "Checkpoint file path: /content/drive/MyDrive/Datasets/Music-Noise/SNRdB_all-noise_features/SNRdB_10-30/train-SNRdB_10-30-checkpoint.txt\n",
            "Checkpoint value: 47000\n",
            "Resuming from batch index: 47000\n"
          ]
        },
        {
          "output_type": "stream",
          "name": "stderr",
          "text": [
            "Processing batches: 0batch [00:00, ?batch/s]"
          ]
        },
        {
          "output_type": "stream",
          "name": "stdout",
          "text": [
            "Gathering wav files....\n"
          ]
        },
        {
          "output_type": "stream",
          "name": "stderr",
          "text": [
            "\n"
          ]
        },
        {
          "output_type": "stream",
          "name": "stdout",
          "text": [
            "Files processed:  46733\n",
            "Gathering noise files....\n",
            "Files processed:  7550\n",
            "Checkpoint file path: /content/drive/MyDrive/Datasets/Music-Noise/SNRdB_all-noise_features/SNRdB_10-30/train-SNRdB_10-30-checkpoint.txt\n",
            "Checkpoint value: 47000\n",
            "Resuming from batch index: 47000\n"
          ]
        },
        {
          "output_type": "stream",
          "name": "stderr",
          "text": [
            "Processing batches: 0batch [00:00, ?batch/s]"
          ]
        },
        {
          "output_type": "stream",
          "name": "stdout",
          "text": [
            "Gathering wav files....\n"
          ]
        },
        {
          "output_type": "stream",
          "name": "stderr",
          "text": [
            "\n"
          ]
        },
        {
          "output_type": "stream",
          "name": "stdout",
          "text": [
            "Files processed:  46733\n",
            "Gathering noise files....\n",
            "Files processed:  7550\n",
            "Checkpoint file path: /content/drive/MyDrive/Datasets/Music-Noise/SNRdB_all-noise_features/SNRdB_10-30/train-SNRdB_10-30-checkpoint.txt\n",
            "Checkpoint value: 47000\n",
            "Resuming from batch index: 47000\n"
          ]
        },
        {
          "output_type": "stream",
          "name": "stderr",
          "text": [
            "Processing batches: 0batch [00:00, ?batch/s]"
          ]
        },
        {
          "output_type": "stream",
          "name": "stdout",
          "text": [
            "Gathering wav files....\n"
          ]
        },
        {
          "output_type": "stream",
          "name": "stderr",
          "text": [
            "\n"
          ]
        },
        {
          "output_type": "stream",
          "name": "stdout",
          "text": [
            "Files processed:  46733\n",
            "Gathering noise files....\n",
            "Files processed:  7550\n",
            "Checkpoint file path: /content/drive/MyDrive/Datasets/Music-Noise/SNRdB_all-noise_features/SNRdB_10-30/train-SNRdB_10-30-checkpoint.txt\n",
            "Checkpoint value: 47000\n",
            "Resuming from batch index: 47000\n"
          ]
        },
        {
          "output_type": "stream",
          "name": "stderr",
          "text": [
            "Processing batches: 0batch [00:00, ?batch/s]"
          ]
        },
        {
          "output_type": "stream",
          "name": "stdout",
          "text": [
            "Gathering wav files....\n"
          ]
        },
        {
          "output_type": "stream",
          "name": "stderr",
          "text": [
            "\n"
          ]
        },
        {
          "output_type": "stream",
          "name": "stdout",
          "text": [
            "Files processed:  46733\n",
            "Gathering noise files....\n",
            "Files processed:  7550\n",
            "Checkpoint file path: /content/drive/MyDrive/Datasets/Music-Noise/SNRdB_all-noise_features/SNRdB_10-30/train-SNRdB_10-30-checkpoint.txt\n",
            "Checkpoint value: 47000\n",
            "Resuming from batch index: 47000\n"
          ]
        },
        {
          "output_type": "stream",
          "name": "stderr",
          "text": [
            "Processing batches: 0batch [00:00, ?batch/s]"
          ]
        },
        {
          "output_type": "stream",
          "name": "stdout",
          "text": [
            "Gathering wav files....\n"
          ]
        },
        {
          "output_type": "stream",
          "name": "stderr",
          "text": [
            "\n"
          ]
        },
        {
          "output_type": "stream",
          "name": "stdout",
          "text": [
            "Files processed:  46733\n",
            "Gathering noise files....\n",
            "Files processed:  7550\n",
            "Checkpoint file path: /content/drive/MyDrive/Datasets/Music-Noise/SNRdB_all-noise_features/SNRdB_10-30/train-SNRdB_10-30-checkpoint.txt\n",
            "Checkpoint value: 47000\n",
            "Resuming from batch index: 47000\n"
          ]
        },
        {
          "output_type": "stream",
          "name": "stderr",
          "text": [
            "Processing batches: 0batch [00:00, ?batch/s]"
          ]
        },
        {
          "output_type": "stream",
          "name": "stdout",
          "text": [
            "Gathering wav files....\n"
          ]
        },
        {
          "output_type": "stream",
          "name": "stderr",
          "text": [
            "\n"
          ]
        },
        {
          "output_type": "stream",
          "name": "stdout",
          "text": [
            "Files processed:  46733\n",
            "Gathering noise files....\n",
            "Files processed:  7550\n",
            "Checkpoint file path: /content/drive/MyDrive/Datasets/Music-Noise/SNRdB_all-noise_features/SNRdB_10-30/train-SNRdB_10-30-checkpoint.txt\n",
            "Checkpoint value: 47000\n",
            "Resuming from batch index: 47000\n"
          ]
        },
        {
          "output_type": "stream",
          "name": "stderr",
          "text": [
            "Processing batches: 0batch [00:00, ?batch/s]"
          ]
        },
        {
          "output_type": "stream",
          "name": "stdout",
          "text": [
            "Gathering wav files....\n"
          ]
        },
        {
          "output_type": "stream",
          "name": "stderr",
          "text": [
            "\n"
          ]
        },
        {
          "output_type": "stream",
          "name": "stdout",
          "text": [
            "Files processed:  46733\n",
            "Gathering noise files....\n",
            "Files processed:  7550\n",
            "Checkpoint file path: /content/drive/MyDrive/Datasets/Music-Noise/SNRdB_all-noise_features/SNRdB_10-30/train-SNRdB_10-30-checkpoint.txt\n",
            "Checkpoint value: 47000\n",
            "Resuming from batch index: 47000\n"
          ]
        },
        {
          "output_type": "stream",
          "name": "stderr",
          "text": [
            "Processing batches: 0batch [00:00, ?batch/s]"
          ]
        },
        {
          "output_type": "stream",
          "name": "stdout",
          "text": [
            "Gathering wav files....\n"
          ]
        },
        {
          "output_type": "stream",
          "name": "stderr",
          "text": [
            "\n"
          ]
        },
        {
          "output_type": "stream",
          "name": "stdout",
          "text": [
            "Files processed:  46733\n",
            "Gathering noise files....\n",
            "Files processed:  7550\n",
            "Checkpoint file path: /content/drive/MyDrive/Datasets/Music-Noise/SNRdB_all-noise_features/SNRdB_10-30/train-SNRdB_10-30-checkpoint.txt\n",
            "Checkpoint value: 47000\n",
            "Resuming from batch index: 47000\n"
          ]
        },
        {
          "output_type": "stream",
          "name": "stderr",
          "text": [
            "Processing batches: 0batch [00:00, ?batch/s]"
          ]
        },
        {
          "output_type": "stream",
          "name": "stdout",
          "text": [
            "Gathering wav files....\n"
          ]
        },
        {
          "output_type": "stream",
          "name": "stderr",
          "text": [
            "\n"
          ]
        },
        {
          "output_type": "stream",
          "name": "stdout",
          "text": [
            "Files processed:  46733\n",
            "Gathering noise files....\n",
            "Files processed:  7550\n",
            "Checkpoint file path: /content/drive/MyDrive/Datasets/Music-Noise/SNRdB_all-noise_features/SNRdB_10-30/train-SNRdB_10-30-checkpoint.txt\n",
            "Checkpoint value: 47000\n",
            "Resuming from batch index: 47000\n"
          ]
        },
        {
          "output_type": "stream",
          "name": "stderr",
          "text": [
            "Processing batches: 0batch [00:00, ?batch/s]"
          ]
        },
        {
          "output_type": "stream",
          "name": "stdout",
          "text": [
            "Gathering wav files....\n"
          ]
        },
        {
          "output_type": "stream",
          "name": "stderr",
          "text": [
            "\n"
          ]
        },
        {
          "output_type": "stream",
          "name": "stdout",
          "text": [
            "Files processed:  46733\n",
            "Gathering noise files....\n",
            "Files processed:  7550\n",
            "Checkpoint file path: /content/drive/MyDrive/Datasets/Music-Noise/SNRdB_all-noise_features/SNRdB_10-30/train-SNRdB_10-30-checkpoint.txt\n",
            "Checkpoint value: 47000\n",
            "Resuming from batch index: 47000\n"
          ]
        },
        {
          "output_type": "stream",
          "name": "stderr",
          "text": [
            "Processing batches: 0batch [00:00, ?batch/s]"
          ]
        },
        {
          "output_type": "stream",
          "name": "stdout",
          "text": [
            "Gathering wav files....\n"
          ]
        },
        {
          "output_type": "stream",
          "name": "stderr",
          "text": [
            "\n"
          ]
        },
        {
          "output_type": "stream",
          "name": "stdout",
          "text": [
            "Files processed:  46733\n",
            "Gathering noise files....\n",
            "Files processed:  7550\n",
            "Checkpoint file path: /content/drive/MyDrive/Datasets/Music-Noise/SNRdB_all-noise_features/SNRdB_10-30/train-SNRdB_10-30-checkpoint.txt\n",
            "Checkpoint value: 47000\n",
            "Resuming from batch index: 47000\n"
          ]
        },
        {
          "output_type": "stream",
          "name": "stderr",
          "text": [
            "Processing batches: 0batch [00:00, ?batch/s]"
          ]
        },
        {
          "output_type": "stream",
          "name": "stdout",
          "text": [
            "Gathering wav files....\n"
          ]
        },
        {
          "output_type": "stream",
          "name": "stderr",
          "text": [
            "\n"
          ]
        },
        {
          "output_type": "stream",
          "name": "stdout",
          "text": [
            "Files processed:  46733\n",
            "Gathering noise files....\n",
            "Files processed:  7550\n",
            "Checkpoint file path: /content/drive/MyDrive/Datasets/Music-Noise/SNRdB_all-noise_features/SNRdB_10-30/train-SNRdB_10-30-checkpoint.txt\n",
            "Checkpoint value: 47000\n",
            "Resuming from batch index: 47000\n"
          ]
        },
        {
          "output_type": "stream",
          "name": "stderr",
          "text": [
            "Processing batches: 0batch [00:00, ?batch/s]"
          ]
        },
        {
          "output_type": "stream",
          "name": "stdout",
          "text": [
            "Gathering wav files....\n"
          ]
        },
        {
          "output_type": "stream",
          "name": "stderr",
          "text": [
            "\n"
          ]
        },
        {
          "output_type": "stream",
          "name": "stdout",
          "text": [
            "Files processed:  46733\n",
            "Gathering noise files....\n",
            "Files processed:  7550\n",
            "Checkpoint file path: /content/drive/MyDrive/Datasets/Music-Noise/SNRdB_all-noise_features/SNRdB_10-30/train-SNRdB_10-30-checkpoint.txt\n",
            "Checkpoint value: 47000\n",
            "Resuming from batch index: 47000\n"
          ]
        },
        {
          "output_type": "stream",
          "name": "stderr",
          "text": [
            "Processing batches: 0batch [00:00, ?batch/s]"
          ]
        },
        {
          "output_type": "stream",
          "name": "stdout",
          "text": [
            "Gathering wav files....\n"
          ]
        },
        {
          "output_type": "stream",
          "name": "stderr",
          "text": [
            "\n"
          ]
        },
        {
          "output_type": "stream",
          "name": "stdout",
          "text": [
            "Files processed:  46733\n",
            "Gathering noise files....\n",
            "Files processed:  7550\n",
            "Checkpoint file path: /content/drive/MyDrive/Datasets/Music-Noise/SNRdB_all-noise_features/SNRdB_10-30/train-SNRdB_10-30-checkpoint.txt\n",
            "Checkpoint value: 47000\n",
            "Resuming from batch index: 47000\n"
          ]
        },
        {
          "output_type": "stream",
          "name": "stderr",
          "text": [
            "Processing batches: 0batch [00:00, ?batch/s]"
          ]
        },
        {
          "output_type": "stream",
          "name": "stdout",
          "text": [
            "Gathering wav files....\n"
          ]
        },
        {
          "output_type": "stream",
          "name": "stderr",
          "text": [
            "\n"
          ]
        },
        {
          "output_type": "stream",
          "name": "stdout",
          "text": [
            "Files processed:  46733\n",
            "Gathering noise files....\n",
            "Files processed:  7550\n",
            "Checkpoint file path: /content/drive/MyDrive/Datasets/Music-Noise/SNRdB_all-noise_features/SNRdB_10-30/train-SNRdB_10-30-checkpoint.txt\n",
            "Checkpoint value: 47000\n",
            "Resuming from batch index: 47000\n"
          ]
        },
        {
          "output_type": "stream",
          "name": "stderr",
          "text": [
            "Processing batches: 0batch [00:00, ?batch/s]"
          ]
        },
        {
          "output_type": "stream",
          "name": "stdout",
          "text": [
            "Gathering wav files....\n"
          ]
        },
        {
          "output_type": "stream",
          "name": "stderr",
          "text": [
            "\n"
          ]
        },
        {
          "output_type": "stream",
          "name": "stdout",
          "text": [
            "Files processed:  46733\n",
            "Gathering noise files....\n",
            "Files processed:  7550\n",
            "Checkpoint file path: /content/drive/MyDrive/Datasets/Music-Noise/SNRdB_all-noise_features/SNRdB_10-30/train-SNRdB_10-30-checkpoint.txt\n",
            "Checkpoint value: 47000\n",
            "Resuming from batch index: 47000\n"
          ]
        },
        {
          "output_type": "stream",
          "name": "stderr",
          "text": [
            "Processing batches: 0batch [00:00, ?batch/s]"
          ]
        },
        {
          "output_type": "stream",
          "name": "stdout",
          "text": [
            "Gathering wav files....\n"
          ]
        },
        {
          "output_type": "stream",
          "name": "stderr",
          "text": [
            "\n"
          ]
        },
        {
          "output_type": "stream",
          "name": "stdout",
          "text": [
            "Files processed:  46733\n",
            "Gathering noise files....\n",
            "Files processed:  7550\n",
            "Checkpoint file path: /content/drive/MyDrive/Datasets/Music-Noise/SNRdB_all-noise_features/SNRdB_10-30/train-SNRdB_10-30-checkpoint.txt\n",
            "Checkpoint value: 47000\n",
            "Resuming from batch index: 47000\n"
          ]
        },
        {
          "output_type": "stream",
          "name": "stderr",
          "text": [
            "Processing batches: 0batch [00:00, ?batch/s]"
          ]
        },
        {
          "output_type": "stream",
          "name": "stdout",
          "text": [
            "Gathering wav files....\n"
          ]
        },
        {
          "output_type": "stream",
          "name": "stderr",
          "text": [
            "\n"
          ]
        },
        {
          "output_type": "stream",
          "name": "stdout",
          "text": [
            "Files processed:  46733\n",
            "Gathering noise files....\n",
            "Files processed:  7550\n",
            "Checkpoint file path: /content/drive/MyDrive/Datasets/Music-Noise/SNRdB_all-noise_features/SNRdB_10-30/train-SNRdB_10-30-checkpoint.txt\n",
            "Checkpoint value: 47000\n",
            "Resuming from batch index: 47000\n"
          ]
        },
        {
          "output_type": "stream",
          "name": "stderr",
          "text": [
            "Processing batches: 0batch [00:00, ?batch/s]"
          ]
        },
        {
          "output_type": "stream",
          "name": "stdout",
          "text": [
            "Gathering wav files....\n"
          ]
        },
        {
          "output_type": "stream",
          "name": "stderr",
          "text": [
            "\n"
          ]
        },
        {
          "output_type": "stream",
          "name": "stdout",
          "text": [
            "Files processed:  46733\n",
            "Gathering noise files....\n",
            "Files processed:  7550\n",
            "Checkpoint file path: /content/drive/MyDrive/Datasets/Music-Noise/SNRdB_all-noise_features/SNRdB_10-30/train-SNRdB_10-30-checkpoint.txt\n",
            "Checkpoint value: 47000\n",
            "Resuming from batch index: 47000\n"
          ]
        },
        {
          "output_type": "stream",
          "name": "stderr",
          "text": [
            "Processing batches: 0batch [00:00, ?batch/s]"
          ]
        },
        {
          "output_type": "stream",
          "name": "stdout",
          "text": [
            "Gathering wav files....\n"
          ]
        },
        {
          "output_type": "stream",
          "name": "stderr",
          "text": [
            "\n"
          ]
        },
        {
          "output_type": "stream",
          "name": "stdout",
          "text": [
            "Files processed:  46733\n",
            "Gathering noise files....\n",
            "Files processed:  7550\n",
            "Checkpoint file path: /content/drive/MyDrive/Datasets/Music-Noise/SNRdB_all-noise_features/SNRdB_10-30/train-SNRdB_10-30-checkpoint.txt\n",
            "Checkpoint value: 47000\n",
            "Resuming from batch index: 47000\n"
          ]
        },
        {
          "output_type": "stream",
          "name": "stderr",
          "text": [
            "Processing batches: 0batch [00:00, ?batch/s]"
          ]
        },
        {
          "output_type": "stream",
          "name": "stdout",
          "text": [
            "Gathering wav files....\n"
          ]
        },
        {
          "output_type": "stream",
          "name": "stderr",
          "text": [
            "\n"
          ]
        },
        {
          "output_type": "stream",
          "name": "stdout",
          "text": [
            "Files processed:  46733\n",
            "Gathering noise files....\n",
            "Files processed:  7550\n",
            "Checkpoint file path: /content/drive/MyDrive/Datasets/Music-Noise/SNRdB_all-noise_features/SNRdB_10-30/train-SNRdB_10-30-checkpoint.txt\n",
            "Checkpoint value: 47000\n",
            "Resuming from batch index: 47000\n"
          ]
        },
        {
          "output_type": "stream",
          "name": "stderr",
          "text": [
            "Processing batches: 0batch [00:00, ?batch/s]"
          ]
        },
        {
          "output_type": "stream",
          "name": "stdout",
          "text": [
            "Gathering wav files....\n"
          ]
        },
        {
          "output_type": "stream",
          "name": "stderr",
          "text": [
            "\n"
          ]
        },
        {
          "output_type": "stream",
          "name": "stdout",
          "text": [
            "Files processed:  46733\n",
            "Gathering noise files....\n",
            "Files processed:  7550\n",
            "Checkpoint file path: /content/drive/MyDrive/Datasets/Music-Noise/SNRdB_all-noise_features/SNRdB_10-30/train-SNRdB_10-30-checkpoint.txt\n",
            "Checkpoint value: 47000\n",
            "Resuming from batch index: 47000\n"
          ]
        },
        {
          "output_type": "stream",
          "name": "stderr",
          "text": [
            "Processing batches: 0batch [00:00, ?batch/s]"
          ]
        },
        {
          "output_type": "stream",
          "name": "stdout",
          "text": [
            "Gathering wav files....\n"
          ]
        },
        {
          "output_type": "stream",
          "name": "stderr",
          "text": [
            "\n"
          ]
        },
        {
          "output_type": "stream",
          "name": "stdout",
          "text": [
            "Files processed:  46733\n",
            "Gathering noise files....\n",
            "Files processed:  7550\n",
            "Checkpoint file path: /content/drive/MyDrive/Datasets/Music-Noise/SNRdB_all-noise_features/SNRdB_10-30/train-SNRdB_10-30-checkpoint.txt\n",
            "Checkpoint value: 47000\n",
            "Resuming from batch index: 47000\n"
          ]
        },
        {
          "output_type": "stream",
          "name": "stderr",
          "text": [
            "Processing batches: 0batch [00:00, ?batch/s]"
          ]
        },
        {
          "output_type": "stream",
          "name": "stdout",
          "text": [
            "Gathering wav files....\n"
          ]
        },
        {
          "output_type": "stream",
          "name": "stderr",
          "text": [
            "\n"
          ]
        },
        {
          "output_type": "stream",
          "name": "stdout",
          "text": [
            "Files processed:  46733\n",
            "Gathering noise files....\n",
            "Files processed:  7550\n",
            "Checkpoint file path: /content/drive/MyDrive/Datasets/Music-Noise/SNRdB_all-noise_features/SNRdB_10-30/train-SNRdB_10-30-checkpoint.txt\n",
            "Checkpoint value: 47000\n",
            "Resuming from batch index: 47000\n"
          ]
        },
        {
          "output_type": "stream",
          "name": "stderr",
          "text": [
            "Processing batches: 0batch [00:00, ?batch/s]"
          ]
        },
        {
          "output_type": "stream",
          "name": "stdout",
          "text": [
            "Gathering wav files....\n"
          ]
        },
        {
          "output_type": "stream",
          "name": "stderr",
          "text": [
            "\n"
          ]
        },
        {
          "output_type": "stream",
          "name": "stdout",
          "text": [
            "Files processed:  46733\n",
            "Gathering noise files....\n",
            "Files processed:  7550\n",
            "Checkpoint file path: /content/drive/MyDrive/Datasets/Music-Noise/SNRdB_all-noise_features/SNRdB_10-30/train-SNRdB_10-30-checkpoint.txt\n",
            "Checkpoint value: 47000\n",
            "Resuming from batch index: 47000\n"
          ]
        },
        {
          "output_type": "stream",
          "name": "stderr",
          "text": [
            "Processing batches: 0batch [00:00, ?batch/s]"
          ]
        },
        {
          "output_type": "stream",
          "name": "stdout",
          "text": [
            "Gathering wav files....\n"
          ]
        },
        {
          "output_type": "stream",
          "name": "stderr",
          "text": [
            "\n"
          ]
        },
        {
          "output_type": "stream",
          "name": "stdout",
          "text": [
            "Files processed:  46733\n",
            "Gathering noise files....\n",
            "Files processed:  7550\n",
            "Checkpoint file path: /content/drive/MyDrive/Datasets/Music-Noise/SNRdB_all-noise_features/SNRdB_10-30/train-SNRdB_10-30-checkpoint.txt\n",
            "Checkpoint value: 47000\n",
            "Resuming from batch index: 47000\n"
          ]
        },
        {
          "output_type": "stream",
          "name": "stderr",
          "text": [
            "Processing batches: 0batch [00:00, ?batch/s]"
          ]
        },
        {
          "output_type": "stream",
          "name": "stdout",
          "text": [
            "Gathering wav files....\n"
          ]
        },
        {
          "output_type": "stream",
          "name": "stderr",
          "text": [
            "\n"
          ]
        },
        {
          "output_type": "stream",
          "name": "stdout",
          "text": [
            "Files processed:  46733\n",
            "Gathering noise files....\n",
            "Files processed:  7550\n",
            "Checkpoint file path: /content/drive/MyDrive/Datasets/Music-Noise/SNRdB_all-noise_features/SNRdB_10-30/train-SNRdB_10-30-checkpoint.txt\n",
            "Checkpoint value: 47000\n",
            "Resuming from batch index: 47000\n"
          ]
        },
        {
          "output_type": "stream",
          "name": "stderr",
          "text": [
            "Processing batches: 0batch [00:00, ?batch/s]"
          ]
        },
        {
          "output_type": "stream",
          "name": "stdout",
          "text": [
            "Gathering wav files....\n"
          ]
        },
        {
          "output_type": "stream",
          "name": "stderr",
          "text": [
            "\n"
          ]
        },
        {
          "output_type": "stream",
          "name": "stdout",
          "text": [
            "Files processed:  46733\n",
            "Gathering noise files....\n",
            "Files processed:  7550\n",
            "Checkpoint file path: /content/drive/MyDrive/Datasets/Music-Noise/SNRdB_all-noise_features/SNRdB_10-30/train-SNRdB_10-30-checkpoint.txt\n",
            "Checkpoint value: 47000\n",
            "Resuming from batch index: 47000\n"
          ]
        },
        {
          "output_type": "stream",
          "name": "stderr",
          "text": [
            "Processing batches: 0batch [00:00, ?batch/s]"
          ]
        },
        {
          "output_type": "stream",
          "name": "stdout",
          "text": [
            "Gathering wav files....\n"
          ]
        },
        {
          "output_type": "stream",
          "name": "stderr",
          "text": [
            "\n"
          ]
        },
        {
          "output_type": "stream",
          "name": "stdout",
          "text": [
            "Files processed:  46733\n",
            "Gathering noise files....\n",
            "Files processed:  7550\n",
            "Checkpoint file path: /content/drive/MyDrive/Datasets/Music-Noise/SNRdB_all-noise_features/SNRdB_10-30/train-SNRdB_10-30-checkpoint.txt\n",
            "Checkpoint value: 47000\n",
            "Resuming from batch index: 47000\n"
          ]
        },
        {
          "output_type": "stream",
          "name": "stderr",
          "text": [
            "Processing batches: 0batch [00:00, ?batch/s]"
          ]
        },
        {
          "output_type": "stream",
          "name": "stdout",
          "text": [
            "Gathering wav files....\n"
          ]
        },
        {
          "output_type": "stream",
          "name": "stderr",
          "text": [
            "\n"
          ]
        },
        {
          "output_type": "stream",
          "name": "stdout",
          "text": [
            "Files processed:  46733\n",
            "Gathering noise files....\n",
            "Files processed:  7550\n",
            "Checkpoint file path: /content/drive/MyDrive/Datasets/Music-Noise/SNRdB_all-noise_features/SNRdB_10-30/train-SNRdB_10-30-checkpoint.txt\n",
            "Checkpoint value: 47000\n",
            "Resuming from batch index: 47000\n"
          ]
        },
        {
          "output_type": "stream",
          "name": "stderr",
          "text": [
            "Processing batches: 0batch [00:00, ?batch/s]"
          ]
        },
        {
          "output_type": "stream",
          "name": "stdout",
          "text": [
            "Gathering wav files....\n"
          ]
        },
        {
          "output_type": "stream",
          "name": "stderr",
          "text": [
            "\n"
          ]
        },
        {
          "output_type": "stream",
          "name": "stdout",
          "text": [
            "Files processed:  46733\n",
            "Gathering noise files....\n",
            "Files processed:  7550\n",
            "Checkpoint file path: /content/drive/MyDrive/Datasets/Music-Noise/SNRdB_all-noise_features/SNRdB_10-30/train-SNRdB_10-30-checkpoint.txt\n",
            "Checkpoint value: 47000\n",
            "Resuming from batch index: 47000\n"
          ]
        },
        {
          "output_type": "stream",
          "name": "stderr",
          "text": [
            "Processing batches: 0batch [00:00, ?batch/s]"
          ]
        },
        {
          "output_type": "stream",
          "name": "stdout",
          "text": [
            "Gathering wav files....\n"
          ]
        },
        {
          "output_type": "stream",
          "name": "stderr",
          "text": [
            "\n"
          ]
        },
        {
          "output_type": "stream",
          "name": "stdout",
          "text": [
            "Files processed:  46733\n",
            "Gathering noise files....\n",
            "Files processed:  7550\n",
            "Checkpoint file path: /content/drive/MyDrive/Datasets/Music-Noise/SNRdB_all-noise_features/SNRdB_10-30/train-SNRdB_10-30-checkpoint.txt\n",
            "Checkpoint value: 47000\n",
            "Resuming from batch index: 47000\n"
          ]
        },
        {
          "output_type": "stream",
          "name": "stderr",
          "text": [
            "Processing batches: 0batch [00:00, ?batch/s]"
          ]
        },
        {
          "output_type": "stream",
          "name": "stdout",
          "text": [
            "Gathering wav files....\n"
          ]
        },
        {
          "output_type": "stream",
          "name": "stderr",
          "text": [
            "\n"
          ]
        },
        {
          "output_type": "stream",
          "name": "stdout",
          "text": [
            "Files processed:  46733\n",
            "Gathering noise files....\n",
            "Files processed:  7550\n",
            "Checkpoint file path: /content/drive/MyDrive/Datasets/Music-Noise/SNRdB_all-noise_features/SNRdB_10-30/train-SNRdB_10-30-checkpoint.txt\n",
            "Checkpoint value: 47000\n",
            "Resuming from batch index: 47000\n"
          ]
        },
        {
          "output_type": "stream",
          "name": "stderr",
          "text": [
            "Processing batches: 0batch [00:00, ?batch/s]"
          ]
        },
        {
          "output_type": "stream",
          "name": "stdout",
          "text": [
            "Gathering wav files....\n"
          ]
        },
        {
          "output_type": "stream",
          "name": "stderr",
          "text": [
            "\n"
          ]
        },
        {
          "output_type": "stream",
          "name": "stdout",
          "text": [
            "Files processed:  46733\n",
            "Gathering noise files....\n",
            "Files processed:  7550\n",
            "Checkpoint file path: /content/drive/MyDrive/Datasets/Music-Noise/SNRdB_all-noise_features/SNRdB_10-30/train-SNRdB_10-30-checkpoint.txt\n",
            "Checkpoint value: 47000\n",
            "Resuming from batch index: 47000\n"
          ]
        },
        {
          "output_type": "stream",
          "name": "stderr",
          "text": [
            "Processing batches: 0batch [00:00, ?batch/s]"
          ]
        },
        {
          "output_type": "stream",
          "name": "stdout",
          "text": [
            "Gathering wav files....\n"
          ]
        },
        {
          "output_type": "stream",
          "name": "stderr",
          "text": [
            "\n"
          ]
        },
        {
          "output_type": "stream",
          "name": "stdout",
          "text": [
            "Files processed:  46733\n",
            "Gathering noise files....\n",
            "Files processed:  7550\n",
            "Checkpoint file path: /content/drive/MyDrive/Datasets/Music-Noise/SNRdB_all-noise_features/SNRdB_10-30/train-SNRdB_10-30-checkpoint.txt\n",
            "Checkpoint value: 47000\n",
            "Resuming from batch index: 47000\n"
          ]
        },
        {
          "output_type": "stream",
          "name": "stderr",
          "text": [
            "Processing batches: 0batch [00:00, ?batch/s]"
          ]
        },
        {
          "output_type": "stream",
          "name": "stdout",
          "text": [
            "Gathering wav files....\n"
          ]
        },
        {
          "output_type": "stream",
          "name": "stderr",
          "text": [
            "\n"
          ]
        },
        {
          "output_type": "stream",
          "name": "stdout",
          "text": [
            "Files processed:  46733\n",
            "Gathering noise files....\n",
            "Files processed:  7550\n",
            "Checkpoint file path: /content/drive/MyDrive/Datasets/Music-Noise/SNRdB_all-noise_features/SNRdB_10-30/train-SNRdB_10-30-checkpoint.txt\n",
            "Checkpoint value: 47000\n",
            "Resuming from batch index: 47000\n"
          ]
        },
        {
          "output_type": "stream",
          "name": "stderr",
          "text": [
            "Processing batches: 0batch [00:00, ?batch/s]"
          ]
        },
        {
          "output_type": "stream",
          "name": "stdout",
          "text": [
            "Gathering wav files....\n"
          ]
        },
        {
          "output_type": "stream",
          "name": "stderr",
          "text": [
            "\n"
          ]
        },
        {
          "output_type": "stream",
          "name": "stdout",
          "text": [
            "Files processed:  46733\n",
            "Gathering noise files....\n",
            "Files processed:  7550\n",
            "Checkpoint file path: /content/drive/MyDrive/Datasets/Music-Noise/SNRdB_all-noise_features/SNRdB_10-30/train-SNRdB_10-30-checkpoint.txt\n",
            "Checkpoint value: 47000\n",
            "Resuming from batch index: 47000\n"
          ]
        },
        {
          "output_type": "stream",
          "name": "stderr",
          "text": [
            "Processing batches: 0batch [00:00, ?batch/s]"
          ]
        },
        {
          "output_type": "stream",
          "name": "stdout",
          "text": [
            "Gathering wav files....\n"
          ]
        },
        {
          "output_type": "stream",
          "name": "stderr",
          "text": [
            "\n"
          ]
        },
        {
          "output_type": "stream",
          "name": "stdout",
          "text": [
            "Files processed:  46733\n",
            "Gathering noise files....\n",
            "Files processed:  7550\n",
            "Checkpoint file path: /content/drive/MyDrive/Datasets/Music-Noise/SNRdB_all-noise_features/SNRdB_10-30/train-SNRdB_10-30-checkpoint.txt\n",
            "Checkpoint value: 47000\n",
            "Resuming from batch index: 47000\n"
          ]
        },
        {
          "output_type": "stream",
          "name": "stderr",
          "text": [
            "Processing batches: 0batch [00:00, ?batch/s]"
          ]
        },
        {
          "output_type": "stream",
          "name": "stdout",
          "text": [
            "Gathering wav files....\n"
          ]
        },
        {
          "output_type": "stream",
          "name": "stderr",
          "text": [
            "\n"
          ]
        },
        {
          "output_type": "stream",
          "name": "stdout",
          "text": [
            "Files processed:  46733\n",
            "Gathering noise files....\n",
            "Files processed:  7550\n",
            "Checkpoint file path: /content/drive/MyDrive/Datasets/Music-Noise/SNRdB_all-noise_features/SNRdB_10-30/train-SNRdB_10-30-checkpoint.txt\n",
            "Checkpoint value: 47000\n",
            "Resuming from batch index: 47000\n"
          ]
        },
        {
          "output_type": "stream",
          "name": "stderr",
          "text": [
            "Processing batches: 0batch [00:00, ?batch/s]"
          ]
        },
        {
          "output_type": "stream",
          "name": "stdout",
          "text": [
            "Gathering wav files....\n"
          ]
        },
        {
          "output_type": "stream",
          "name": "stderr",
          "text": [
            "\n"
          ]
        },
        {
          "output_type": "stream",
          "name": "stdout",
          "text": [
            "Processing complete. HDF5 file saved and closed.\n"
          ]
        },
        {
          "output_type": "error",
          "ename": "KeyboardInterrupt",
          "evalue": "",
          "traceback": [
            "\u001b[0;31m---------------------------------------------------------------------------\u001b[0m",
            "\u001b[0;31mKeyboardInterrupt\u001b[0m                         Traceback (most recent call last)",
            "\u001b[0;32m<ipython-input-18-c103518bb4b5>\u001b[0m in \u001b[0;36m<cell line: 0>\u001b[0;34m()\u001b[0m\n\u001b[1;32m     10\u001b[0m         \u001b[0mcheckpoint_file_size\u001b[0m\u001b[0;34m=\u001b[0m\u001b[0;36m500000\u001b[0m\u001b[0;34m\u001b[0m\u001b[0;34m\u001b[0m\u001b[0m\n\u001b[1;32m     11\u001b[0m     )\n\u001b[0;32m---> 12\u001b[0;31m \u001b[0mprocessor\u001b[0m\u001b[0;34m.\u001b[0m\u001b[0mprocess\u001b[0m\u001b[0;34m(\u001b[0m\u001b[0;34m)\u001b[0m\u001b[0;34m\u001b[0m\u001b[0;34m\u001b[0m\u001b[0m\n\u001b[0m",
            "\u001b[0;32m/content/audioautoencoder/audioautoencoder/generate_dataset.py\u001b[0m in \u001b[0;36mprocess\u001b[0;34m(self)\u001b[0m\n\u001b[1;32m    936\u001b[0m         \u001b[0;32mif\u001b[0m \u001b[0mself\u001b[0m\u001b[0;34m.\u001b[0m\u001b[0mprocess_train\u001b[0m\u001b[0;34m:\u001b[0m\u001b[0;34m\u001b[0m\u001b[0;34m\u001b[0m\u001b[0m\n\u001b[1;32m    937\u001b[0m             \u001b[0mprint\u001b[0m\u001b[0;34m(\u001b[0m\u001b[0;34m'Processing training dataset....'\u001b[0m\u001b[0;34m)\u001b[0m\u001b[0;34m\u001b[0m\u001b[0;34m\u001b[0m\u001b[0m\n\u001b[0;32m--> 938\u001b[0;31m             process_and_save_separation_dataset(\n\u001b[0m\u001b[1;32m    939\u001b[0m                 \u001b[0mself\u001b[0m\u001b[0;34m.\u001b[0m\u001b[0mtrain_music_dir\u001b[0m\u001b[0;34m,\u001b[0m \u001b[0mself\u001b[0m\u001b[0;34m.\u001b[0m\u001b[0mtrain_noise_dir\u001b[0m\u001b[0;34m,\u001b[0m \u001b[0mself\u001b[0m\u001b[0;34m.\u001b[0m\u001b[0mtrain_output_file\u001b[0m\u001b[0;34m,\u001b[0m\u001b[0;34m\u001b[0m\u001b[0;34m\u001b[0m\u001b[0m\n\u001b[1;32m    940\u001b[0m                 \u001b[0mself\u001b[0m\u001b[0;34m.\u001b[0m\u001b[0mtrain_checkpoint_file\u001b[0m\u001b[0;34m,\u001b[0m \u001b[0maudio_length\u001b[0m\u001b[0;34m=\u001b[0m\u001b[0mself\u001b[0m\u001b[0;34m.\u001b[0m\u001b[0maudio_length\u001b[0m\u001b[0;34m,\u001b[0m\u001b[0;34m\u001b[0m\u001b[0;34m\u001b[0m\u001b[0m\n",
            "\u001b[0;32m/content/audioautoencoder/audioautoencoder/generate_dataset.py\u001b[0m in \u001b[0;36mprocess_and_save_separation_dataset\u001b[0;34m(data_dir, noise_data_dir, output_file, checkpoint_file, audio_length, background_noise_level, random_noise_level, batch_size, process_pool, manual_checkpoint, SNRdB, verbose, checkpoint_file_size, max_file_size_gb, mix_only, folder, min_free_gb)\u001b[0m\n\u001b[1;32m     89\u001b[0m         \u001b[0;31m# Get the list of .wav files in the directory\u001b[0m\u001b[0;34m\u001b[0m\u001b[0;34m\u001b[0m\u001b[0m\n\u001b[1;32m     90\u001b[0m         \u001b[0mprint\u001b[0m\u001b[0;34m(\u001b[0m\u001b[0;34m'Gathering wav files....'\u001b[0m\u001b[0;34m)\u001b[0m\u001b[0;34m\u001b[0m\u001b[0;34m\u001b[0m\u001b[0m\n\u001b[0;32m---> 91\u001b[0;31m         \u001b[0mwav_files\u001b[0m\u001b[0;34m,\u001b[0m \u001b[0mtotal_files\u001b[0m \u001b[0;34m=\u001b[0m \u001b[0mgather_wav_files_and_report\u001b[0m\u001b[0;34m(\u001b[0m\u001b[0mdata_dir\u001b[0m\u001b[0;34m)\u001b[0m\u001b[0;34m\u001b[0m\u001b[0;34m\u001b[0m\u001b[0m\n\u001b[0m\u001b[1;32m     92\u001b[0m \u001b[0;34m\u001b[0m\u001b[0m\n\u001b[1;32m     93\u001b[0m         \u001b[0;32mif\u001b[0m \u001b[0mmix_only\u001b[0m\u001b[0;34m:\u001b[0m\u001b[0;34m\u001b[0m\u001b[0;34m\u001b[0m\u001b[0m\n",
            "\u001b[0;32m/content/audioautoencoder/audioautoencoder/generate_dataset.py\u001b[0m in \u001b[0;36mgather_wav_files_and_report\u001b[0;34m(data_dir)\u001b[0m\n\u001b[1;32m     10\u001b[0m \u001b[0;34m\u001b[0m\u001b[0m\n\u001b[1;32m     11\u001b[0m \u001b[0;32mdef\u001b[0m \u001b[0mgather_wav_files_and_report\u001b[0m\u001b[0;34m(\u001b[0m\u001b[0mdata_dir\u001b[0m\u001b[0;34m)\u001b[0m\u001b[0;34m:\u001b[0m\u001b[0;34m\u001b[0m\u001b[0;34m\u001b[0m\u001b[0m\n\u001b[0;32m---> 12\u001b[0;31m     \u001b[0mwav_files\u001b[0m \u001b[0;34m=\u001b[0m \u001b[0mget_all_wav_files\u001b[0m\u001b[0;34m(\u001b[0m\u001b[0mdata_dir\u001b[0m\u001b[0;34m)\u001b[0m\u001b[0;34m\u001b[0m\u001b[0;34m\u001b[0m\u001b[0m\n\u001b[0m\u001b[1;32m     13\u001b[0m     \u001b[0mrandom\u001b[0m\u001b[0;34m.\u001b[0m\u001b[0mshuffle\u001b[0m\u001b[0;34m(\u001b[0m\u001b[0mwav_files\u001b[0m\u001b[0;34m)\u001b[0m\u001b[0;34m\u001b[0m\u001b[0;34m\u001b[0m\u001b[0m\n\u001b[1;32m     14\u001b[0m     \u001b[0mtotal_files\u001b[0m \u001b[0;34m=\u001b[0m \u001b[0mlen\u001b[0m\u001b[0;34m(\u001b[0m\u001b[0mwav_files\u001b[0m\u001b[0;34m)\u001b[0m\u001b[0;34m\u001b[0m\u001b[0;34m\u001b[0m\u001b[0m\n",
            "\u001b[0;32m/content/audioautoencoder/audioautoencoder/data.py\u001b[0m in \u001b[0;36mget_all_wav_files\u001b[0;34m(data_dir, batch_size)\u001b[0m\n\u001b[1;32m    141\u001b[0m               \u001b[0mbatch\u001b[0m \u001b[0;34m=\u001b[0m \u001b[0;34m[\u001b[0m\u001b[0;34m]\u001b[0m\u001b[0;34m\u001b[0m\u001b[0;34m\u001b[0m\u001b[0m\n\u001b[1;32m    142\u001b[0m               \u001b[0;32mfor\u001b[0m \u001b[0mentry\u001b[0m \u001b[0;32min\u001b[0m \u001b[0mentries\u001b[0m\u001b[0;34m:\u001b[0m\u001b[0;34m\u001b[0m\u001b[0;34m\u001b[0m\u001b[0m\n\u001b[0;32m--> 143\u001b[0;31m                   \u001b[0;32mif\u001b[0m \u001b[0mentry\u001b[0m\u001b[0;34m.\u001b[0m\u001b[0mis_file\u001b[0m\u001b[0;34m(\u001b[0m\u001b[0;34m)\u001b[0m \u001b[0;32mand\u001b[0m \u001b[0mentry\u001b[0m\u001b[0;34m.\u001b[0m\u001b[0mname\u001b[0m\u001b[0;34m.\u001b[0m\u001b[0mendswith\u001b[0m\u001b[0;34m(\u001b[0m\u001b[0;34m'.wav'\u001b[0m\u001b[0;34m)\u001b[0m\u001b[0;34m:\u001b[0m\u001b[0;34m\u001b[0m\u001b[0;34m\u001b[0m\u001b[0m\n\u001b[0m\u001b[1;32m    144\u001b[0m                       \u001b[0mi\u001b[0m \u001b[0;34m+=\u001b[0m \u001b[0;36m1\u001b[0m\u001b[0;34m\u001b[0m\u001b[0;34m\u001b[0m\u001b[0m\n\u001b[1;32m    145\u001b[0m                       \u001b[0mbatch\u001b[0m\u001b[0;34m.\u001b[0m\u001b[0mappend\u001b[0m\u001b[0;34m(\u001b[0m\u001b[0mentry\u001b[0m\u001b[0;34m.\u001b[0m\u001b[0mpath\u001b[0m\u001b[0;34m)\u001b[0m\u001b[0;34m\u001b[0m\u001b[0;34m\u001b[0m\u001b[0m\n",
            "\u001b[0;31mKeyboardInterrupt\u001b[0m: "
          ]
        }
      ]
    },
    {
      "cell_type": "markdown",
      "metadata": {
        "id": "94FmdzEmqaTE"
      },
      "source": [
        "---"
      ]
    },
    {
      "cell_type": "markdown",
      "metadata": {
        "id": "0nQ8wGyTqaTE"
      },
      "source": []
    }
  ],
  "metadata": {
    "kernelspec": {
      "display_name": "Python 3",
      "name": "python3"
    },
    "language_info": {
      "codemirror_mode": {
        "name": "ipython",
        "version": 3
      },
      "file_extension": ".py",
      "mimetype": "text/x-python",
      "name": "python",
      "nbconvert_exporter": "python",
      "pygments_lexer": "ipython3",
      "version": "3.11.3"
    },
    "colab": {
      "provenance": []
    }
  },
  "nbformat": 4,
  "nbformat_minor": 0
}