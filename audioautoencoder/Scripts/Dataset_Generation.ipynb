{
  "cells": [
    {
      "cell_type": "markdown",
      "metadata": {
        "id": "hhjeAiJRqaTA"
      },
      "source": [
        "# Dataset Generation"
      ]
    },
    {
      "cell_type": "markdown",
      "source": [
        "## Notes:\n",
        "1. Right now the data generation makes and saves all the features, this is not necessary all the time... and will probably take more time overall\n",
        "2. So what I should do is have a dictionary where I choose the features to generate, so that when I need them they exist"
      ],
      "metadata": {
        "id": "u9ebzoWd5jyX"
      }
    },
    {
      "cell_type": "code",
      "execution_count": 1,
      "metadata": {
        "colab": {
          "base_uri": "https://localhost:8080/"
        },
        "id": "j2uW1R-NqaTB",
        "outputId": "5402ce6c-0a53-4211-a4bf-b1cd14cfc0a1"
      },
      "outputs": [
        {
          "output_type": "stream",
          "name": "stdout",
          "text": [
            "Mounted at /content/drive\n"
          ]
        }
      ],
      "source": [
        "import sys\n",
        "import os\n",
        "\n",
        "# Detect Google Colab\n",
        "if \"google.colab\" in sys.modules:\n",
        "  from google.colab import drive\n",
        "  drive.mount('/content/drive')"
      ]
    },
    {
      "cell_type": "code",
      "execution_count": 2,
      "metadata": {
        "colab": {
          "base_uri": "https://localhost:8080/"
        },
        "id": "K9ohND2-qaTC",
        "outputId": "fb07c360-d86a-4dcf-be1e-6aad84a191cd"
      },
      "outputs": [
        {
          "output_type": "stream",
          "name": "stdout",
          "text": [
            "Running in Google Colab...\n"
          ]
        }
      ],
      "source": [
        "# Detect Google Colab\n",
        "if \"google.colab\" in sys.modules:\n",
        "    print(\"Running in Google Colab...\")\n",
        "    os.system(\"git clone https://github.com/CiaranMaloy/audioautoencoder\")\n",
        "    os.chdir(\"/content/audioautoencoder/\")\n",
        "    os.system(\"git pull\")\n",
        "    os.system(\"git checkout dataset-generation-fix\")\n",
        "    os.system(\"git pull origin dataset-generation-fix\")\n",
        "    #os.system(\"pip install --upgrade torchmetrics\")\n",
        "else:\n",
        "    print(\"Running locally...\")\n",
        "    os.system(\"git pull origin dataset-generation-fix\")\n",
        "    #os.system(\"pip install --upgrade torchmetrics\")\n"
      ]
    },
    {
      "cell_type": "code",
      "execution_count": 3,
      "metadata": {
        "id": "7TDd5eSmqaTC"
      },
      "outputs": [],
      "source": [
        "import sys\n",
        "sys.path.append('/content/audioautoencoder')\n",
        "sys.path.append('/content/audioautoencoder/audioautoencoder')"
      ]
    },
    {
      "cell_type": "markdown",
      "metadata": {
        "id": "ELoCObPCqaTC"
      },
      "source": [
        "## Data Generation"
      ]
    },
    {
      "cell_type": "code",
      "execution_count": 4,
      "metadata": {
        "id": "RiN3baczqaTC"
      },
      "outputs": [],
      "source": [
        "from audioautoencoder.data_management import *\n",
        "GENERATE=False"
      ]
    },
    {
      "cell_type": "code",
      "source": [
        "def get_folder_size_gb(folder_path):\n",
        "    total_size = 0\n",
        "    for dirpath, dirnames, filenames in os.walk(folder_path):\n",
        "        for filename in filenames:\n",
        "            file_path = os.path.join(dirpath, filename)\n",
        "            if os.path.exists(file_path):  # Ensure file exists before getting size\n",
        "                total_size += (os.path.getsize(file_path) / (1024 ** 3))\n",
        "    return total_size  # Convert bytes to gigabytes"
      ],
      "metadata": {
        "id": "J3IQdtJxugE_"
      },
      "execution_count": 5,
      "outputs": []
    },
    {
      "cell_type": "code",
      "execution_count": 6,
      "metadata": {
        "id": "7vK7KvwVqaTD"
      },
      "outputs": [],
      "source": [
        "# Example Usage\n",
        "dataset_dirs = [\"/content/drive/MyDrive/Datasets/Noise/All_Noise\"]\n",
        "output_dir = \"/content/drive/MyDrive/Datasets/Noise/splits_v2\"\n",
        "\n",
        "if GENERATE:\n",
        "  splits = create_datasets(dataset_dirs, output_dir)\n",
        "  save_splits_to_directories(splits, output_dir, max_workers=8)\n",
        "  print(\"Training Set:\", len(splits[\"train\"]))\n",
        "  print(\"Validation Set:\", len(splits[\"val\"]))\n",
        "  print(\"Testing Set:\", len(splits[\"test\"]))\n"
      ]
    },
    {
      "cell_type": "code",
      "source": [
        "from audioautoencoder.data import *"
      ],
      "metadata": {
        "id": "RdWz0iJQsN6c"
      },
      "execution_count": 7,
      "outputs": []
    },
    {
      "cell_type": "code",
      "source": [
        "noise_test = output_dir + \"/test\"\n",
        "noise_train = output_dir + \"/train\"\n",
        "\n",
        "size_gb = get_folder_size_gb(noise_test)\n",
        "print(f\"Test Folder total size: {size_gb:.2f} GB\")\n",
        "\n",
        "size_gb = get_folder_size_gb(noise_train)\n",
        "print(f\"Train Folder total size: {size_gb:.2f} GB\")"
      ],
      "metadata": {
        "colab": {
          "base_uri": "https://localhost:8080/"
        },
        "id": "sagjBBw5ur1M",
        "outputId": "9e4b6f88-30c2-42af-f93d-e1c69dc3014f"
      },
      "execution_count": 8,
      "outputs": [
        {
          "output_type": "stream",
          "name": "stdout",
          "text": [
            "Test Folder total size: 0.98 GB\n",
            "Train Folder total size: 2.95 GB\n"
          ]
        }
      ]
    },
    {
      "cell_type": "code",
      "execution_count": 9,
      "metadata": {
        "id": "Vj0IY5diqaTD"
      },
      "outputs": [],
      "source": [
        "# generate audio files for noise and music (2s)\n",
        "noise_test_output = noise_test + \"-2s-44100\"\n",
        "noise_train_output = noise_train + \"-2s-44100\"\n",
        "\n",
        "if GENERATE:\n",
        "  for input_path, output_path in [(noise_test, noise_test_output), (noise_train, noise_train_output)]:\n",
        "    print(input_path, output_path)\n",
        "    generate_audio_files(input_path, output_path, t=2, min_size=0.005)"
      ]
    },
    {
      "cell_type": "code",
      "source": [
        "size_gb = get_folder_size_gb(noise_test_output)\n",
        "print(f\"Noise Test Folder size: {size_gb:.2f} GB\")\n",
        "\n",
        "size_gb = get_folder_size_gb(noise_train_output)\n",
        "print(f\"Noise Train Folder size: {size_gb:.2f} GB\")"
      ],
      "metadata": {
        "colab": {
          "base_uri": "https://localhost:8080/"
        },
        "id": "bKO-ayVguDae",
        "outputId": "374bf695-fd93-47bc-fc82-4caaa7b1da86"
      },
      "execution_count": 10,
      "outputs": [
        {
          "output_type": "stream",
          "name": "stdout",
          "text": [
            "Noise Test Folder size: 0.49 GB\n",
            "Noise Train Folder size: 1.24 GB\n"
          ]
        }
      ]
    },
    {
      "cell_type": "markdown",
      "source": [
        "## Generic Music Dataset"
      ],
      "metadata": {
        "id": "ayk5c8XZosHP"
      }
    },
    {
      "cell_type": "code",
      "source": [
        "# Example Usage\n",
        "GENERATE=False\n",
        "dataset_dirs = [\"/content/drive/Othercomputers/My Mac/PersonalMusic\"]\n",
        "output_dir = \"/content/drive/MyDrive/Datasets/Music/Additional_Music/splits_v2\"\n",
        "\n",
        "if GENERATE:\n",
        "  splits = create_datasets(dataset_dirs, output_dir, WAV=False, MP3=True)\n",
        "  print(\"Training Set:\", len(splits[\"train\"]))\n",
        "  print(\"Validation Set:\", len(splits[\"val\"]))\n",
        "  print(\"Testing Set:\", len(splits[\"test\"]))\n"
      ],
      "metadata": {
        "id": "ZEj2Nkw-opv4"
      },
      "execution_count": 11,
      "outputs": []
    },
    {
      "cell_type": "code",
      "source": [
        "if GENERATE:\n",
        "  save_splits_to_directories(splits, output_dir, max_workers=8)"
      ],
      "metadata": {
        "id": "DkeOWiO6q5N6"
      },
      "execution_count": 12,
      "outputs": []
    },
    {
      "cell_type": "code",
      "source": [
        "music_test = output_dir + \"/test\"\n",
        "music_train = output_dir + \"/train\"\n",
        "\n",
        "# generate audio files for noise and music (2s)\n",
        "music_test_output = music_test + \"-2s-44100\"\n",
        "music_train_output = music_train + \"-2s-44100\"\n",
        "\n",
        "if GENERATE:\n",
        "  for input_path, output_path in [(music_test, music_test_output), (music_train, music_train_output)]:\n",
        "    print(input_path, output_path)\n",
        "    generate_audio_files(input_path, output_path, t=2, min_size=0.005)"
      ],
      "metadata": {
        "id": "roZDNQxZrhyB"
      },
      "execution_count": 13,
      "outputs": []
    },
    {
      "cell_type": "markdown",
      "source": [
        "## Stuff for MUSDB18\n"
      ],
      "metadata": {
        "id": "EPhQ_bfGok6k"
      }
    },
    {
      "cell_type": "code",
      "source": [
        "music_test = \"/content/drive/MyDrive/Datasets/Music/MUSDB18/test\"\n",
        "music_train = \"/content/drive/MyDrive/Datasets/Music/MUSDB18/train\"\n",
        "\n",
        "music_test_output = music_test + \"-2s-44100\"\n",
        "music_train_output = music_train + \"-2s-44100\""
      ],
      "metadata": {
        "id": "EJ8CuwGfyeGR"
      },
      "execution_count": 14,
      "outputs": []
    },
    {
      "cell_type": "code",
      "source": [
        "if False:\n",
        "  size_gb = get_folder_size_gb(music_test_output)\n",
        "  print(f\"Music Test Folder size: {size_gb:.2f} GB\")\n",
        "\n",
        "  size_gb = get_folder_size_gb(music_train_output)\n",
        "  print(f\"Music Train Folder size: {size_gb:.2f} GB\")"
      ],
      "metadata": {
        "id": "us2VLKRRybcC"
      },
      "execution_count": 15,
      "outputs": []
    },
    {
      "cell_type": "code",
      "execution_count": 16,
      "metadata": {
        "id": "duIyKdowqaTD"
      },
      "outputs": [],
      "source": [
        "# generate audio files for noise and music (2s)\n",
        "if False:\n",
        "  for input_path, output_path in [(music_test, music_test_output), (music_train, music_train_output)]:\n",
        "    print(input_path, output_path)\n",
        "    generate_audio_files(input_path, output_path, t=2)"
      ]
    },
    {
      "cell_type": "markdown",
      "metadata": {
        "id": "Rok94pBMqaTD"
      },
      "source": [
        "## Process files to H5"
      ]
    },
    {
      "cell_type": "code",
      "source": [
        "from audioautoencoder.generate_dataset import *"
      ],
      "metadata": {
        "id": "MLVSNiJoLmS7"
      },
      "execution_count": 17,
      "outputs": []
    },
    {
      "cell_type": "code",
      "execution_count": null,
      "metadata": {
        "id": "6UtrrWsBqaTE",
        "colab": {
          "base_uri": "https://localhost:8080/"
        },
        "outputId": "96b4dba7-68cd-4a11-b0a1-2dfd2f455bf4"
      },
      "outputs": [
        {
          "output_type": "stream",
          "name": "stdout",
          "text": [
            "Output Dir: /content/drive/MyDrive/Datasets/Music-Noise/SNRdB_remapped-signal-level\n",
            "Train Checkpoint File: /content/drive/MyDrive/Datasets/Music-Noise/SNRdB_remapped-signal-level/SNRdB_-10-10/train-SNRdB_-10-10-checkpoint.txt\n",
            "Train Output File: /content/drive/MyDrive/Datasets/Music-Noise/SNRdB_remapped-signal-level/SNRdB_-10-10/train/train-SNRdB_-10-10.h5\n",
            "Test Checkpoint File: /content/drive/MyDrive/Datasets/Music-Noise/SNRdB_remapped-signal-level/SNRdB_-10-10/test-SNRdB_-10-10-checkpoint.txt\n",
            "Test Output File: /content/drive/MyDrive/Datasets/Music-Noise/SNRdB_remapped-signal-level/SNRdB_-10-10/test/test-SNRdB_-10-10.h5\n",
            "Directory already exists: /content/drive/MyDrive/Datasets/Music-Noise/SNRdB_remapped-signal-level/SNRdB_-10-10/train\n",
            "Directory already exists: /content/drive/MyDrive/Datasets/Music-Noise/SNRdB_remapped-signal-level/SNRdB_-10-10/test\n",
            "Processing training dataset....\n",
            "Gathering wav files....\n",
            "Error accessing directory: [Errno 5] Input/output error: '/content/drive/MyDrive/Datasets/Music/MUSDB18/train-2s-44100'\n",
            "Files processed:  46733\n",
            "Gathering noise files....\n",
            "Files processed:  7550\n",
            "Checkpoint file path: /content/drive/MyDrive/Datasets/Music-Noise/SNRdB_remapped-signal-level/SNRdB_-10-10/train-SNRdB_-10-10-checkpoint.txt\n",
            "Checkpoint value: 400\n",
            "Resuming from batch index: 400\n"
          ]
        },
        {
          "output_type": "stream",
          "name": "stderr",
          "text": [
            "\rProcessing batches:   0%|          | 0/200 [00:00<?, ?batch/s]"
          ]
        },
        {
          "output_type": "stream",
          "name": "stdout",
          "text": [
            "Creating HDF5 file....\n"
          ]
        },
        {
          "output_type": "stream",
          "name": "stderr",
          "text": [
            "\rProcessing batches:   0%|          | 1/200 [08:32<28:19:52, 512.52s/batch]"
          ]
        },
        {
          "output_type": "stream",
          "name": "stdout",
          "text": [
            "Current file size: 1.7358970046043396\n",
            "Done /content/drive/MyDrive/Datasets/Music-Noise/SNRdB_remapped-signal-level/SNRdB_-10-10/train/train-SNRdB_-10-10_20250408_072409.h5\n",
            "Free disk space: 185.45 GB\n",
            "Error processing /content/drive/MyDrive/Datasets/Music/MUSDB18/train-2s-44100/Music Delta - Rockabilly_other_sec26.wav: operands could not be broadcast together with shapes (88200,) (85958,) \n",
            "Creating HDF5 file....\n"
          ]
        },
        {
          "output_type": "stream",
          "name": "stderr",
          "text": [
            "\rProcessing batches:   1%|          | 2/200 [10:44<15:52:44, 288.71s/batch]"
          ]
        },
        {
          "output_type": "stream",
          "name": "stdout",
          "text": [
            "Current file size: 1.7324254661798477\n",
            "Done /content/drive/MyDrive/Datasets/Music-Noise/SNRdB_remapped-signal-level/SNRdB_-10-10/train/train-SNRdB_-10-10_20250408_072624.h5\n",
            "Free disk space: 183.63 GB\n",
            "Creating HDF5 file....\n"
          ]
        },
        {
          "output_type": "stream",
          "name": "stderr",
          "text": [
            "\rProcessing batches:   2%|▏         | 3/200 [13:25<12:36:45, 230.48s/batch]"
          ]
        },
        {
          "output_type": "stream",
          "name": "stdout",
          "text": [
            "Current file size: 1.7358970046043396\n",
            "Done /content/drive/MyDrive/Datasets/Music-Noise/SNRdB_remapped-signal-level/SNRdB_-10-10/train/train-SNRdB_-10-10_20250408_072836.h5\n",
            "Free disk space: 181.81 GB\n",
            "Creating HDF5 file....\n"
          ]
        },
        {
          "output_type": "stream",
          "name": "stderr",
          "text": [
            "\rProcessing batches:   2%|▏         | 4/200 [16:11<11:09:41, 205.01s/batch]"
          ]
        },
        {
          "output_type": "stream",
          "name": "stdout",
          "text": [
            "Current file size: 1.7358970046043396\n",
            "Done /content/drive/MyDrive/Datasets/Music-Noise/SNRdB_remapped-signal-level/SNRdB_-10-10/train/train-SNRdB_-10-10_20250408_073117.h5\n",
            "Free disk space: 179.99 GB\n",
            "Creating HDF5 file....\n"
          ]
        },
        {
          "output_type": "stream",
          "name": "stderr",
          "text": [
            "\rProcessing batches:   2%|▎         | 5/200 [18:45<10:06:30, 186.62s/batch]"
          ]
        },
        {
          "output_type": "stream",
          "name": "stdout",
          "text": [
            "Current file size: 1.7358970046043396\n",
            "Done /content/drive/MyDrive/Datasets/Music-Noise/SNRdB_remapped-signal-level/SNRdB_-10-10/train/train-SNRdB_-10-10_20250408_073404.h5\n",
            "Free disk space: 178.17 GB\n",
            "Creating HDF5 file....\n"
          ]
        },
        {
          "output_type": "stream",
          "name": "stderr",
          "text": [
            "\rProcessing batches:   3%|▎         | 6/200 [21:23<9:31:19, 176.70s/batch] "
          ]
        },
        {
          "output_type": "stream",
          "name": "stdout",
          "text": [
            "Current file size: 1.7358970046043396\n",
            "Done /content/drive/MyDrive/Datasets/Music-Noise/SNRdB_remapped-signal-level/SNRdB_-10-10/train/train-SNRdB_-10-10_20250408_073639.h5\n",
            "Free disk space: 176.35 GB\n",
            "Creating HDF5 file....\n"
          ]
        },
        {
          "output_type": "stream",
          "name": "stderr",
          "text": [
            "\rProcessing batches:   4%|▎         | 7/200 [24:06<9:14:45, 172.47s/batch]"
          ]
        },
        {
          "output_type": "stream",
          "name": "stdout",
          "text": [
            "Current file size: 1.7358970046043396\n",
            "Done /content/drive/MyDrive/Datasets/Music-Noise/SNRdB_remapped-signal-level/SNRdB_-10-10/train/train-SNRdB_-10-10_20250408_073915.h5\n",
            "Free disk space: 174.54 GB\n",
            "Error processing /content/drive/MyDrive/Datasets/Music/MUSDB18/train-2s-44100/Music Delta - Reggae_drums_sec18.wav: operands could not be broadcast together with shapes (88200,) (64504,) \n",
            "Creating HDF5 file....\n"
          ]
        },
        {
          "output_type": "stream",
          "name": "stderr",
          "text": [
            "\rProcessing batches:   4%|▍         | 8/200 [26:42<8:55:01, 167.19s/batch]"
          ]
        },
        {
          "output_type": "stream",
          "name": "stdout",
          "text": [
            "Current file size: 1.7324254661798477\n",
            "Done /content/drive/MyDrive/Datasets/Music-Noise/SNRdB_remapped-signal-level/SNRdB_-10-10/train/train-SNRdB_-10-10_20250408_074158.h5\n",
            "Free disk space: 172.72 GB\n",
            "Error processing /content/drive/MyDrive/Datasets/Music/MUSDB18/train-2s-44100/Music Delta - Reggae_vocals_sec18.wav: operands could not be broadcast together with shapes (88200,) (64504,) \n",
            "Creating HDF5 file....\n"
          ]
        },
        {
          "output_type": "stream",
          "name": "stderr",
          "text": [
            "\rProcessing batches:   4%|▍         | 9/200 [29:16<8:39:10, 163.09s/batch]"
          ]
        },
        {
          "output_type": "stream",
          "name": "stdout",
          "text": [
            "Current file size: 1.7324254661798477\n",
            "Done /content/drive/MyDrive/Datasets/Music-Noise/SNRdB_remapped-signal-level/SNRdB_-10-10/train/train-SNRdB_-10-10_20250408_074430.h5\n",
            "Free disk space: 170.91 GB\n",
            "Creating HDF5 file....\n"
          ]
        },
        {
          "output_type": "stream",
          "name": "stderr",
          "text": [
            "\rProcessing batches:   5%|▌         | 10/200 [31:47<8:24:04, 159.18s/batch]"
          ]
        },
        {
          "output_type": "stream",
          "name": "stdout",
          "text": [
            "Current file size: 1.7358970046043396\n",
            "Done /content/drive/MyDrive/Datasets/Music-Noise/SNRdB_remapped-signal-level/SNRdB_-10-10/train/train-SNRdB_-10-10_20250408_074707.h5\n",
            "Free disk space: 169.10 GB\n",
            "Error processing /content/drive/MyDrive/Datasets/Music/MUSDB18/train-2s-44100/Music Delta - Rock_bass_sec14.wav: operands could not be broadcast together with shapes (88200,) (48120,) \n",
            "Creating HDF5 file....\n"
          ]
        },
        {
          "output_type": "stream",
          "name": "stderr",
          "text": [
            "\rProcessing batches:   6%|▌         | 11/200 [34:26<8:20:58, 159.04s/batch]"
          ]
        },
        {
          "output_type": "stream",
          "name": "stdout",
          "text": [
            "Current file size: 1.7324254661798477\n",
            "Done /content/drive/MyDrive/Datasets/Music-Noise/SNRdB_remapped-signal-level/SNRdB_-10-10/train/train-SNRdB_-10-10_20250408_074934.h5\n",
            "Free disk space: 167.29 GB\n",
            "Error processing /content/drive/MyDrive/Datasets/Music/MUSDB18/train-2s-44100/Faces On Film - Waiting For Ga_other_sec258.wav: operands could not be broadcast together with shapes (88200,) (71985,) \n",
            "Creating HDF5 file....\n"
          ]
        },
        {
          "output_type": "stream",
          "name": "stderr",
          "text": [
            "\rProcessing batches:   6%|▌         | 12/200 [37:06<8:19:14, 159.33s/batch]"
          ]
        },
        {
          "output_type": "stream",
          "name": "stdout",
          "text": [
            "Current file size: 1.7324254661798477\n",
            "Done /content/drive/MyDrive/Datasets/Music-Noise/SNRdB_remapped-signal-level/SNRdB_-10-10/train/train-SNRdB_-10-10_20250408_075215.h5\n",
            "Free disk space: 165.48 GB\n",
            "Creating HDF5 file....\n"
          ]
        },
        {
          "output_type": "stream",
          "name": "stderr",
          "text": [
            "\rProcessing batches:   6%|▋         | 13/200 [39:39<8:11:15, 157.62s/batch]"
          ]
        },
        {
          "output_type": "stream",
          "name": "stdout",
          "text": [
            "Current file size: 1.7358970046043396\n",
            "Done /content/drive/MyDrive/Datasets/Music-Noise/SNRdB_remapped-signal-level/SNRdB_-10-10/train/train-SNRdB_-10-10_20250408_075453.h5\n",
            "Free disk space: 163.67 GB\n",
            "Creating HDF5 file....\n"
          ]
        },
        {
          "output_type": "stream",
          "name": "stderr",
          "text": [
            "\rProcessing batches:   7%|▋         | 14/200 [42:15<8:06:47, 157.03s/batch]"
          ]
        },
        {
          "output_type": "stream",
          "name": "stdout",
          "text": [
            "Current file size: 1.7358970046043396\n",
            "Done /content/drive/MyDrive/Datasets/Music-Noise/SNRdB_remapped-signal-level/SNRdB_-10-10/train/train-SNRdB_-10-10_20250408_075728.h5\n",
            "Free disk space: 161.86 GB\n",
            "Creating HDF5 file....\n"
          ]
        },
        {
          "output_type": "stream",
          "name": "stderr",
          "text": [
            "\rProcessing batches:   8%|▊         | 15/200 [45:02<8:13:52, 160.18s/batch]"
          ]
        },
        {
          "output_type": "stream",
          "name": "stdout",
          "text": [
            "Current file size: 1.7358970046043396\n",
            "Done /content/drive/MyDrive/Datasets/Music-Noise/SNRdB_remapped-signal-level/SNRdB_-10-10/train/train-SNRdB_-10-10_20250408_080004.h5\n",
            "Free disk space: 160.05 GB\n",
            "Creating HDF5 file....\n"
          ]
        },
        {
          "output_type": "stream",
          "name": "stderr",
          "text": [
            "\rProcessing batches:   8%|▊         | 16/200 [47:40<8:09:09, 159.51s/batch]"
          ]
        },
        {
          "output_type": "stream",
          "name": "stdout",
          "text": [
            "Current file size: 1.7358970046043396\n",
            "Done /content/drive/MyDrive/Datasets/Music-Noise/SNRdB_remapped-signal-level/SNRdB_-10-10/train/train-SNRdB_-10-10_20250408_080250.h5\n",
            "Free disk space: 158.25 GB\n",
            "Creating HDF5 file....\n"
          ]
        },
        {
          "output_type": "stream",
          "name": "stderr",
          "text": [
            "\rProcessing batches:   8%|▊         | 17/200 [50:10<7:57:51, 156.67s/batch]"
          ]
        },
        {
          "output_type": "stream",
          "name": "stdout",
          "text": [
            "Current file size: 1.7358970046043396\n",
            "Done /content/drive/MyDrive/Datasets/Music-Noise/SNRdB_remapped-signal-level/SNRdB_-10-10/train/train-SNRdB_-10-10_20250408_080528.h5\n",
            "Free disk space: 156.44 GB\n",
            "Creating HDF5 file....\n"
          ]
        },
        {
          "output_type": "stream",
          "name": "stderr",
          "text": [
            "\rProcessing batches:   9%|▉         | 18/200 [52:43<7:51:07, 155.31s/batch]"
          ]
        },
        {
          "output_type": "stream",
          "name": "stdout",
          "text": [
            "Current file size: 1.7358970046043396\n",
            "Done /content/drive/MyDrive/Datasets/Music-Noise/SNRdB_remapped-signal-level/SNRdB_-10-10/train/train-SNRdB_-10-10_20250408_080757.h5\n",
            "Free disk space: 154.63 GB\n",
            "Creating HDF5 file....\n"
          ]
        },
        {
          "output_type": "stream",
          "name": "stderr",
          "text": [
            "\rProcessing batches:  10%|▉         | 19/200 [55:26<7:55:52, 157.75s/batch]"
          ]
        },
        {
          "output_type": "stream",
          "name": "stdout",
          "text": [
            "Current file size: 1.7358970046043396\n",
            "Done /content/drive/MyDrive/Datasets/Music-Noise/SNRdB_remapped-signal-level/SNRdB_-10-10/train/train-SNRdB_-10-10_20250408_081029.h5\n",
            "Free disk space: 152.99 GB\n",
            "Creating HDF5 file....\n"
          ]
        },
        {
          "output_type": "stream",
          "name": "stderr",
          "text": [
            "\rProcessing batches:  10%|█         | 20/200 [58:24<8:11:19, 163.77s/batch]"
          ]
        },
        {
          "output_type": "stream",
          "name": "stdout",
          "text": [
            "Current file size: 1.7358970046043396\n",
            "Done /content/drive/MyDrive/Datasets/Music-Noise/SNRdB_remapped-signal-level/SNRdB_-10-10/train/train-SNRdB_-10-10_20250408_081320.h5\n",
            "Free disk space: 153.23 GB\n",
            "Creating HDF5 file....\n"
          ]
        },
        {
          "output_type": "stream",
          "name": "stderr",
          "text": [
            "\rProcessing batches:  10%|█         | 21/200 [1:01:29<8:27:55, 170.25s/batch]"
          ]
        },
        {
          "output_type": "stream",
          "name": "stdout",
          "text": [
            "Current file size: 1.7358970046043396\n",
            "Done /content/drive/MyDrive/Datasets/Music-Noise/SNRdB_remapped-signal-level/SNRdB_-10-10/train/train-SNRdB_-10-10_20250408_081626.h5\n",
            "Free disk space: 153.30 GB\n",
            "Error processing /content/drive/MyDrive/Datasets/Music/MUSDB18/train-2s-44100/Sweet Lights - You Let Me Down_other_sec392.wav: operands could not be broadcast together with shapes (88200,) (87400,) \n",
            "Creating HDF5 file....\n"
          ]
        },
        {
          "output_type": "stream",
          "name": "stderr",
          "text": [
            "\rProcessing batches:  11%|█         | 22/200 [1:04:19<8:24:59, 170.22s/batch]"
          ]
        },
        {
          "output_type": "stream",
          "name": "stdout",
          "text": [
            "Current file size: 1.7324254661798477\n",
            "Done /content/drive/MyDrive/Datasets/Music-Noise/SNRdB_remapped-signal-level/SNRdB_-10-10/train/train-SNRdB_-10-10_20250408_081932.h5\n",
            "Free disk space: 153.23 GB\n",
            "Creating HDF5 file....\n"
          ]
        },
        {
          "output_type": "stream",
          "name": "stderr",
          "text": [
            "\rProcessing batches:  12%|█▏        | 23/200 [1:07:15<8:27:12, 171.94s/batch]"
          ]
        },
        {
          "output_type": "stream",
          "name": "stdout",
          "text": [
            "Current file size: 1.7358970046043396\n",
            "Done /content/drive/MyDrive/Datasets/Music-Noise/SNRdB_remapped-signal-level/SNRdB_-10-10/train/train-SNRdB_-10-10_20250408_082220.h5\n",
            "Free disk space: 153.21 GB\n",
            "Error processing /content/drive/MyDrive/Datasets/Music/MUSDB18/train-2s-44100/Music Delta - Reggae_other_sec18.wav: operands could not be broadcast together with shapes (88200,) (64504,) \n",
            "Creating HDF5 file....\n"
          ]
        },
        {
          "output_type": "stream",
          "name": "stderr",
          "text": [
            "\rProcessing batches:  12%|█▏        | 24/200 [1:10:15<8:31:24, 174.35s/batch]"
          ]
        },
        {
          "output_type": "stream",
          "name": "stdout",
          "text": [
            "Current file size: 1.7324254661798477\n",
            "Done /content/drive/MyDrive/Datasets/Music-Noise/SNRdB_remapped-signal-level/SNRdB_-10-10/train/train-SNRdB_-10-10_20250408_082514.h5\n",
            "Free disk space: 153.15 GB\n",
            "Creating HDF5 file....\n"
          ]
        },
        {
          "output_type": "stream",
          "name": "stderr",
          "text": [
            "\rProcessing batches:  12%|█▎        | 25/200 [1:13:21<8:38:30, 177.78s/batch]"
          ]
        },
        {
          "output_type": "stream",
          "name": "stdout",
          "text": [
            "Current file size: 1.7358970046043396\n",
            "Done /content/drive/MyDrive/Datasets/Music-Noise/SNRdB_remapped-signal-level/SNRdB_-10-10/train/train-SNRdB_-10-10_20250408_082814.h5\n",
            "Free disk space: 153.15 GB\n",
            "Error processing /content/drive/MyDrive/Datasets/Music/MUSDB18/train-2s-44100/Music Delta - Rock_vocals_sec14.wav: operands could not be broadcast together with shapes (88200,) (48120,) \n",
            "Creating HDF5 file....\n"
          ]
        },
        {
          "output_type": "stream",
          "name": "stderr",
          "text": [
            "\rProcessing batches:  13%|█▎        | 26/200 [1:16:14<8:31:29, 176.37s/batch]"
          ]
        },
        {
          "output_type": "stream",
          "name": "stdout",
          "text": [
            "Current file size: 1.7324254661798477\n",
            "Done /content/drive/MyDrive/Datasets/Music-Noise/SNRdB_remapped-signal-level/SNRdB_-10-10/train/train-SNRdB_-10-10_20250408_083122.h5\n",
            "Free disk space: 153.10 GB\n",
            "Creating HDF5 file....\n"
          ]
        },
        {
          "output_type": "stream",
          "name": "stderr",
          "text": [
            "\rProcessing batches:  14%|█▎        | 27/200 [1:19:22<8:38:36, 179.86s/batch]"
          ]
        },
        {
          "output_type": "stream",
          "name": "stdout",
          "text": [
            "Current file size: 1.7358970046043396\n",
            "Done /content/drive/MyDrive/Datasets/Music-Noise/SNRdB_remapped-signal-level/SNRdB_-10-10/train/train-SNRdB_-10-10_20250408_083412.h5\n",
            "Free disk space: 153.16 GB\n",
            "Creating HDF5 file....\n"
          ]
        },
        {
          "output_type": "stream",
          "name": "stderr",
          "text": [
            "\rProcessing batches:  14%|█▍        | 28/200 [1:22:12<8:26:54, 176.83s/batch]"
          ]
        },
        {
          "output_type": "stream",
          "name": "stdout",
          "text": [
            "Current file size: 1.7358970046043396\n",
            "Done /content/drive/MyDrive/Datasets/Music-Noise/SNRdB_remapped-signal-level/SNRdB_-10-10/train/train-SNRdB_-10-10_20250408_083718.h5\n",
            "Free disk space: 153.20 GB\n",
            "Error processing /content/drive/MyDrive/Datasets/Music/MUSDB18/train-2s-44100/Music Delta - Rock_vocals_sec14.wav: operands could not be broadcast together with shapes (88200,) (48120,) \n",
            "Error processing /content/drive/MyDrive/Datasets/Music/MUSDB18/train-2s-44100/Hezekiah Jones - Borrowed Heart_bass_sec242.wav: operands could not be broadcast together with shapes (88200,) (69609,) \n",
            "Creating HDF5 file....\n"
          ]
        },
        {
          "output_type": "stream",
          "name": "stderr",
          "text": [
            "\rProcessing batches:  14%|█▍        | 29/200 [1:25:04<8:20:07, 175.48s/batch]"
          ]
        },
        {
          "output_type": "stream",
          "name": "stdout",
          "text": [
            "Current file size: 1.7289539277553558\n",
            "Done /content/drive/MyDrive/Datasets/Music-Noise/SNRdB_remapped-signal-level/SNRdB_-10-10/train/train-SNRdB_-10-10_20250408_084013.h5\n",
            "Free disk space: 153.11 GB\n",
            "Creating HDF5 file....\n"
          ]
        },
        {
          "output_type": "stream",
          "name": "stderr",
          "text": [
            "\rProcessing batches:  15%|█▌        | 30/200 [1:27:56<8:14:21, 174.48s/batch]"
          ]
        },
        {
          "output_type": "stream",
          "name": "stdout",
          "text": [
            "Current file size: 1.7358970046043396\n",
            "Done /content/drive/MyDrive/Datasets/Music-Noise/SNRdB_remapped-signal-level/SNRdB_-10-10/train/train-SNRdB_-10-10_20250408_084259.h5\n",
            "Free disk space: 153.10 GB\n",
            "Error processing /content/drive/MyDrive/Datasets/Music/MUSDB18/train-2s-44100/Music Delta - Rock_bass_sec14.wav: operands could not be broadcast together with shapes (88200,) (48120,) \n",
            "Error processing /content/drive/MyDrive/Datasets/Music/MUSDB18/train-2s-44100/Faces On Film - Waiting For Ga_other_sec258.wav: operands could not be broadcast together with shapes (88200,) (71985,) \n",
            "Error processing /content/drive/MyDrive/Datasets/Music/MUSDB18/train-2s-44100/Music Delta - Country2_drums_sec18.wav: operands could not be broadcast together with shapes (88200,) (64160,) \n",
            "Creating HDF5 file....\n"
          ]
        },
        {
          "output_type": "stream",
          "name": "stderr",
          "text": [
            "\rProcessing batches:  16%|█▌        | 31/200 [1:30:59<8:18:36, 177.02s/batch]"
          ]
        },
        {
          "output_type": "stream",
          "name": "stdout",
          "text": [
            "Current file size: 1.725482389330864\n",
            "Done /content/drive/MyDrive/Datasets/Music-Noise/SNRdB_remapped-signal-level/SNRdB_-10-10/train/train-SNRdB_-10-10_20250408_084553.h5\n",
            "Free disk space: 153.18 GB\n",
            "Creating HDF5 file....\n"
          ]
        },
        {
          "output_type": "stream",
          "name": "stderr",
          "text": [
            "\rProcessing batches:  16%|█▌        | 32/200 [1:33:53<8:12:30, 175.90s/batch]"
          ]
        },
        {
          "output_type": "stream",
          "name": "stdout",
          "text": [
            "Current file size: 1.7358970046043396\n",
            "Done /content/drive/MyDrive/Datasets/Music-Noise/SNRdB_remapped-signal-level/SNRdB_-10-10/train/train-SNRdB_-10-10_20250408_084901.h5\n",
            "Free disk space: 153.13 GB\n",
            "Creating HDF5 file....\n"
          ]
        },
        {
          "output_type": "stream",
          "name": "stderr",
          "text": [
            "\rProcessing batches:  16%|█▋        | 33/200 [1:37:11<8:28:46, 182.79s/batch]"
          ]
        },
        {
          "output_type": "stream",
          "name": "stdout",
          "text": [
            "Current file size: 1.7358970046043396\n",
            "Done /content/drive/MyDrive/Datasets/Music-Noise/SNRdB_remapped-signal-level/SNRdB_-10-10/train/train-SNRdB_-10-10_20250408_085153.h5\n",
            "Free disk space: 153.16 GB\n",
            "Error processing /content/drive/MyDrive/Datasets/Music/MUSDB18/train-2s-44100/ANiMAL - Easy Tiger_drums_sec206.wav: operands could not be broadcast together with shapes (88200,) (73113,) \n",
            "Creating HDF5 file....\n"
          ]
        },
        {
          "output_type": "stream",
          "name": "stderr",
          "text": [
            "\rProcessing batches:  17%|█▋        | 34/200 [1:40:08<8:20:18, 180.84s/batch]"
          ]
        },
        {
          "output_type": "stream",
          "name": "stdout",
          "text": [
            "Current file size: 1.7324254661798477\n",
            "Done /content/drive/MyDrive/Datasets/Music-Noise/SNRdB_remapped-signal-level/SNRdB_-10-10/train/train-SNRdB_-10-10_20250408_085510.h5\n",
            "Free disk space: 153.09 GB\n",
            "Creating HDF5 file....\n"
          ]
        },
        {
          "output_type": "stream",
          "name": "stderr",
          "text": [
            "\rProcessing batches:  18%|█▊        | 35/200 [1:43:08<8:16:49, 180.66s/batch]"
          ]
        },
        {
          "output_type": "stream",
          "name": "stdout",
          "text": [
            "Current file size: 1.7358970046043396\n",
            "Done /content/drive/MyDrive/Datasets/Music-Noise/SNRdB_remapped-signal-level/SNRdB_-10-10/train/train-SNRdB_-10-10_20250408_085804.h5\n",
            "Free disk space: 153.12 GB\n",
            "Creating HDF5 file....\n"
          ]
        },
        {
          "output_type": "stream",
          "name": "stderr",
          "text": [
            "\rProcessing batches:  18%|█▊        | 36/200 [1:46:11<8:15:48, 181.40s/batch]"
          ]
        },
        {
          "output_type": "stream",
          "name": "stdout",
          "text": [
            "Current file size: 1.7358970046043396\n",
            "Done /content/drive/MyDrive/Datasets/Music-Noise/SNRdB_remapped-signal-level/SNRdB_-10-10/train/train-SNRdB_-10-10_20250408_090106.h5\n",
            "Free disk space: 153.22 GB\n",
            "Creating HDF5 file....\n"
          ]
        },
        {
          "output_type": "stream",
          "name": "stderr",
          "text": [
            "\rProcessing batches:  18%|█▊        | 37/200 [1:49:15<8:14:49, 182.14s/batch]"
          ]
        },
        {
          "output_type": "stream",
          "name": "stdout",
          "text": [
            "Current file size: 1.7358970046043396\n",
            "Done /content/drive/MyDrive/Datasets/Music-Noise/SNRdB_remapped-signal-level/SNRdB_-10-10/train/train-SNRdB_-10-10_20250408_090408.h5\n",
            "Free disk space: 153.14 GB\n",
            "Error processing /content/drive/MyDrive/Datasets/Music/MUSDB18/train-2s-44100/Jokers, Jacks & Kings - Sea Of Leaves_bass_sec192.wav: operands could not be broadcast together with shapes (88200,) (72844,) \n",
            "Creating HDF5 file....\n"
          ]
        },
        {
          "output_type": "stream",
          "name": "stderr",
          "text": [
            "\rProcessing batches:  19%|█▉        | 38/200 [1:52:21<8:15:14, 183.42s/batch]"
          ]
        },
        {
          "output_type": "stream",
          "name": "stdout",
          "text": [
            "Current file size: 1.7324254661798477\n",
            "Done /content/drive/MyDrive/Datasets/Music-Noise/SNRdB_remapped-signal-level/SNRdB_-10-10/train/train-SNRdB_-10-10_20250408_090710.h5\n",
            "Free disk space: 153.17 GB\n",
            "Error processing /content/drive/MyDrive/Datasets/Music/MUSDB18/train-2s-44100/Jokers, Jacks & Kings - Sea Of Leaves_bass_sec192.wav: operands could not be broadcast together with shapes (88200,) (72844,) \n",
            "Error processing /content/drive/MyDrive/Datasets/Music/MUSDB18/train-2s-44100/Faces On Film - Waiting For Ga_other_sec258.wav: operands could not be broadcast together with shapes (88200,) (71985,) \n",
            "Creating HDF5 file....\n"
          ]
        },
        {
          "output_type": "stream",
          "name": "stderr",
          "text": [
            "\rProcessing batches:  20%|█▉        | 39/200 [1:55:27<8:14:10, 184.16s/batch]"
          ]
        },
        {
          "output_type": "stream",
          "name": "stdout",
          "text": [
            "Current file size: 1.7289539277553558\n",
            "Done /content/drive/MyDrive/Datasets/Music-Noise/SNRdB_remapped-signal-level/SNRdB_-10-10/train/train-SNRdB_-10-10_20250408_091020.h5\n",
            "Free disk space: 153.18 GB\n",
            "Creating HDF5 file....\n"
          ]
        },
        {
          "output_type": "stream",
          "name": "stderr",
          "text": [
            "\rProcessing batches:  20%|██        | 40/200 [1:58:16<7:58:43, 179.52s/batch]"
          ]
        },
        {
          "output_type": "stream",
          "name": "stdout",
          "text": [
            "Current file size: 1.7358970046043396\n",
            "Done /content/drive/MyDrive/Datasets/Music-Noise/SNRdB_remapped-signal-level/SNRdB_-10-10/train/train-SNRdB_-10-10_20250408_091331.h5\n",
            "Free disk space: 153.12 GB\n",
            "Creating HDF5 file....\n"
          ]
        },
        {
          "output_type": "stream",
          "name": "stderr",
          "text": [
            "\rProcessing batches:  20%|██        | 41/200 [2:01:12<7:52:36, 178.34s/batch]"
          ]
        },
        {
          "output_type": "stream",
          "name": "stdout",
          "text": [
            "Current file size: 1.7358970046043396\n",
            "Done /content/drive/MyDrive/Datasets/Music-Noise/SNRdB_remapped-signal-level/SNRdB_-10-10/train/train-SNRdB_-10-10_20250408_091612.h5\n",
            "Free disk space: 153.13 GB\n",
            "Creating HDF5 file....\n"
          ]
        },
        {
          "output_type": "stream",
          "name": "stderr",
          "text": [
            "\rProcessing batches:  21%|██        | 42/200 [2:03:58<7:39:56, 174.66s/batch]"
          ]
        },
        {
          "output_type": "stream",
          "name": "stdout",
          "text": [
            "Current file size: 1.7358970046043396\n",
            "Done /content/drive/MyDrive/Datasets/Music-Noise/SNRdB_remapped-signal-level/SNRdB_-10-10/train/train-SNRdB_-10-10_20250408_091909.h5\n",
            "Free disk space: 153.05 GB\n",
            "Creating HDF5 file....\n"
          ]
        },
        {
          "output_type": "stream",
          "name": "stderr",
          "text": [
            "\rProcessing batches:  22%|██▏       | 43/200 [2:06:53<7:37:14, 174.74s/batch]"
          ]
        },
        {
          "output_type": "stream",
          "name": "stdout",
          "text": [
            "Current file size: 1.7358970046043396\n",
            "Done /content/drive/MyDrive/Datasets/Music-Noise/SNRdB_remapped-signal-level/SNRdB_-10-10/train/train-SNRdB_-10-10_20250408_092153.h5\n",
            "Free disk space: 153.24 GB\n",
            "Creating HDF5 file....\n"
          ]
        },
        {
          "output_type": "stream",
          "name": "stderr",
          "text": [
            "\rProcessing batches:  22%|██▏       | 44/200 [2:09:44<7:32:02, 173.86s/batch]"
          ]
        },
        {
          "output_type": "stream",
          "name": "stdout",
          "text": [
            "Current file size: 1.7358970046043396\n",
            "Done /content/drive/MyDrive/Datasets/Music-Noise/SNRdB_remapped-signal-level/SNRdB_-10-10/train/train-SNRdB_-10-10_20250408_092449.h5\n",
            "Free disk space: 153.15 GB\n",
            "Error processing /content/drive/MyDrive/Datasets/Music/MUSDB18/train-2s-44100/Music Delta - Rockabilly_other_sec26.wav: operands could not be broadcast together with shapes (88200,) (85958,) \n",
            "Error processing /content/drive/MyDrive/Datasets/Music/MUSDB18/train-2s-44100/Faces On Film - Waiting For Ga_other_sec258.wav: operands could not be broadcast together with shapes (88200,) (71985,) \n",
            "Creating HDF5 file....\n"
          ]
        },
        {
          "output_type": "stream",
          "name": "stderr",
          "text": [
            "\rProcessing batches:  22%|██▎       | 45/200 [2:12:52<7:39:59, 178.06s/batch]"
          ]
        },
        {
          "output_type": "stream",
          "name": "stdout",
          "text": [
            "Current file size: 1.7289539277553558\n",
            "Done /content/drive/MyDrive/Datasets/Music-Noise/SNRdB_remapped-signal-level/SNRdB_-10-10/train/train-SNRdB_-10-10_20250408_092741.h5\n",
            "Free disk space: 153.26 GB\n",
            "Creating HDF5 file....\n"
          ]
        },
        {
          "output_type": "stream",
          "name": "stderr",
          "text": [
            "\rProcessing batches:  23%|██▎       | 46/200 [2:15:48<7:35:22, 177.42s/batch]"
          ]
        },
        {
          "output_type": "stream",
          "name": "stdout",
          "text": [
            "Current file size: 1.7358970046043396\n",
            "Done /content/drive/MyDrive/Datasets/Music-Noise/SNRdB_remapped-signal-level/SNRdB_-10-10/train/train-SNRdB_-10-10_20250408_093054.h5\n",
            "Free disk space: 153.24 GB\n",
            "Creating HDF5 file....\n"
          ]
        },
        {
          "output_type": "stream",
          "name": "stderr",
          "text": [
            "\rProcessing batches:  24%|██▎       | 47/200 [2:18:42<7:29:59, 176.47s/batch]"
          ]
        },
        {
          "output_type": "stream",
          "name": "stdout",
          "text": [
            "Current file size: 1.7358970046043396\n",
            "Done /content/drive/MyDrive/Datasets/Music-Noise/SNRdB_remapped-signal-level/SNRdB_-10-10/train/train-SNRdB_-10-10_20250408_093350.h5\n",
            "Free disk space: 153.19 GB\n",
            "Creating HDF5 file....\n"
          ]
        },
        {
          "output_type": "stream",
          "name": "stderr",
          "text": [
            "\rProcessing batches:  24%|██▍       | 48/200 [2:21:41<7:29:00, 177.24s/batch]"
          ]
        },
        {
          "output_type": "stream",
          "name": "stdout",
          "text": [
            "Current file size: 1.7358970046043396\n",
            "Done /content/drive/MyDrive/Datasets/Music-Noise/SNRdB_remapped-signal-level/SNRdB_-10-10/train/train-SNRdB_-10-10_20250408_093642.h5\n",
            "Free disk space: 153.13 GB\n",
            "Creating HDF5 file....\n"
          ]
        },
        {
          "output_type": "stream",
          "name": "stderr",
          "text": [
            "\rProcessing batches:  24%|██▍       | 49/200 [2:24:52<7:35:55, 181.16s/batch]"
          ]
        },
        {
          "output_type": "stream",
          "name": "stdout",
          "text": [
            "Current file size: 1.7358970046043396\n",
            "Done /content/drive/MyDrive/Datasets/Music-Noise/SNRdB_remapped-signal-level/SNRdB_-10-10/train/train-SNRdB_-10-10_20250408_093938.h5\n",
            "Free disk space: 153.17 GB\n",
            "Creating HDF5 file....\n"
          ]
        },
        {
          "output_type": "stream",
          "name": "stderr",
          "text": [
            "\rProcessing batches:  25%|██▌       | 50/200 [2:27:39<7:22:39, 177.06s/batch]"
          ]
        },
        {
          "output_type": "stream",
          "name": "stdout",
          "text": [
            "Current file size: 1.7358970046043396\n",
            "Done /content/drive/MyDrive/Datasets/Music-Noise/SNRdB_remapped-signal-level/SNRdB_-10-10/train/train-SNRdB_-10-10_20250408_094252.h5\n",
            "Free disk space: 153.11 GB\n",
            "Creating HDF5 file....\n"
          ]
        },
        {
          "output_type": "stream",
          "name": "stderr",
          "text": [
            "\rProcessing batches:  26%|██▌       | 51/200 [2:30:46<7:26:46, 179.91s/batch]"
          ]
        },
        {
          "output_type": "stream",
          "name": "stdout",
          "text": [
            "Current file size: 1.7358970046043396\n",
            "Done /content/drive/MyDrive/Datasets/Music-Noise/SNRdB_remapped-signal-level/SNRdB_-10-10/train/train-SNRdB_-10-10_20250408_094536.h5\n",
            "Free disk space: 153.17 GB\n",
            "Error processing /content/drive/MyDrive/Datasets/Music/MUSDB18/train-2s-44100/Music Delta - Reggae_bass_sec18.wav: operands could not be broadcast together with shapes (88200,) (64504,) \n",
            "Creating HDF5 file....\n"
          ]
        },
        {
          "output_type": "stream",
          "name": "stderr",
          "text": [
            "\rProcessing batches:  26%|██▌       | 52/200 [2:33:41<7:20:20, 178.51s/batch]"
          ]
        },
        {
          "output_type": "stream",
          "name": "stdout",
          "text": [
            "Current file size: 1.7324254661798477\n",
            "Done /content/drive/MyDrive/Datasets/Music-Noise/SNRdB_remapped-signal-level/SNRdB_-10-10/train/train-SNRdB_-10-10_20250408_094844.h5\n",
            "Free disk space: 153.30 GB\n",
            "Creating HDF5 file....\n"
          ]
        },
        {
          "output_type": "stream",
          "name": "stderr",
          "text": [
            "\rProcessing batches:  26%|██▋       | 53/200 [2:36:41<7:18:12, 178.86s/batch]"
          ]
        },
        {
          "output_type": "stream",
          "name": "stdout",
          "text": [
            "Current file size: 1.7358970046043396\n",
            "Done /content/drive/MyDrive/Datasets/Music-Noise/SNRdB_remapped-signal-level/SNRdB_-10-10/train/train-SNRdB_-10-10_20250408_095144.h5\n",
            "Free disk space: 153.23 GB\n",
            "Creating HDF5 file....\n"
          ]
        },
        {
          "output_type": "stream",
          "name": "stderr",
          "text": [
            "\rProcessing batches:  27%|██▋       | 54/200 [2:39:45<7:19:18, 180.54s/batch]"
          ]
        },
        {
          "output_type": "stream",
          "name": "stdout",
          "text": [
            "Current file size: 1.7358970046043396\n",
            "Done /content/drive/MyDrive/Datasets/Music-Noise/SNRdB_remapped-signal-level/SNRdB_-10-10/train/train-SNRdB_-10-10_20250408_095445.h5\n",
            "Free disk space: 153.13 GB\n",
            "Creating HDF5 file....\n"
          ]
        },
        {
          "output_type": "stream",
          "name": "stderr",
          "text": [
            "\rProcessing batches:  28%|██▊       | 55/200 [2:42:51<7:20:16, 182.18s/batch]"
          ]
        },
        {
          "output_type": "stream",
          "name": "stdout",
          "text": [
            "Current file size: 1.7358970046043396\n",
            "Done /content/drive/MyDrive/Datasets/Music-Noise/SNRdB_remapped-signal-level/SNRdB_-10-10/train/train-SNRdB_-10-10_20250408_095742.h5\n",
            "Free disk space: 153.14 GB\n",
            "Error processing /content/drive/MyDrive/Datasets/Music/MUSDB18/train-2s-44100/Music Delta - Rock_bass_sec14.wav: operands could not be broadcast together with shapes (88200,) (48120,) \n",
            "Creating HDF5 file....\n"
          ]
        },
        {
          "output_type": "stream",
          "name": "stderr",
          "text": [
            "\rProcessing batches:  28%|██▊       | 56/200 [2:45:43<7:09:53, 179.12s/batch]"
          ]
        },
        {
          "output_type": "stream",
          "name": "stdout",
          "text": [
            "Current file size: 1.7324254661798477\n",
            "Done /content/drive/MyDrive/Datasets/Music-Noise/SNRdB_remapped-signal-level/SNRdB_-10-10/train/train-SNRdB_-10-10_20250408_100048.h5\n",
            "Free disk space: 153.20 GB\n",
            "Error processing /content/drive/MyDrive/Datasets/Music/MUSDB18/train-2s-44100/Hezekiah Jones - Borrowed Heart_bass_sec242.wav: operands could not be broadcast together with shapes (88200,) (69609,) \n",
            "Creating HDF5 file....\n"
          ]
        },
        {
          "output_type": "stream",
          "name": "stderr",
          "text": [
            "\rProcessing batches:  28%|██▊       | 57/200 [2:48:41<7:06:16, 178.86s/batch]"
          ]
        },
        {
          "output_type": "stream",
          "name": "stdout",
          "text": [
            "Current file size: 1.7324254661798477\n",
            "Done /content/drive/MyDrive/Datasets/Music-Noise/SNRdB_remapped-signal-level/SNRdB_-10-10/train/train-SNRdB_-10-10_20250408_100341.h5\n",
            "Free disk space: 153.17 GB\n",
            "Error processing /content/drive/MyDrive/Datasets/Music/MUSDB18/train-2s-44100/ANiMAL - Easy Tiger_mixture_sec206.wav: operands could not be broadcast together with shapes (88200,) (73113,) \n",
            "Creating HDF5 file....\n"
          ]
        },
        {
          "output_type": "stream",
          "name": "stderr",
          "text": [
            "\rProcessing batches:  29%|██▉       | 58/200 [2:51:52<7:11:36, 182.37s/batch]"
          ]
        },
        {
          "output_type": "stream",
          "name": "stdout",
          "text": [
            "Current file size: 1.7324254661798477\n",
            "Done /content/drive/MyDrive/Datasets/Music-Noise/SNRdB_remapped-signal-level/SNRdB_-10-10/train/train-SNRdB_-10-10_20250408_100639.h5\n",
            "Free disk space: 153.21 GB\n",
            "Creating HDF5 file....\n"
          ]
        },
        {
          "output_type": "stream",
          "name": "stderr",
          "text": [
            "\rProcessing batches:  30%|██▉       | 59/200 [2:54:51<7:06:09, 181.34s/batch]"
          ]
        },
        {
          "output_type": "stream",
          "name": "stdout",
          "text": [
            "Current file size: 1.7358970046043396\n",
            "Done /content/drive/MyDrive/Datasets/Music-Noise/SNRdB_remapped-signal-level/SNRdB_-10-10/train/train-SNRdB_-10-10_20250408_100954.h5\n",
            "Free disk space: 153.14 GB\n",
            "Creating HDF5 file....\n"
          ]
        },
        {
          "output_type": "stream",
          "name": "stderr",
          "text": [
            "\rProcessing batches:  30%|███       | 60/200 [2:58:03<7:10:27, 184.48s/batch]"
          ]
        },
        {
          "output_type": "stream",
          "name": "stdout",
          "text": [
            "Current file size: 1.7358970046043396\n",
            "Done /content/drive/MyDrive/Datasets/Music-Noise/SNRdB_remapped-signal-level/SNRdB_-10-10/train/train-SNRdB_-10-10_20250408_101251.h5\n",
            "Free disk space: 153.26 GB\n",
            "Creating HDF5 file....\n"
          ]
        },
        {
          "output_type": "stream",
          "name": "stderr",
          "text": [
            "\rProcessing batches:  30%|███       | 61/200 [3:01:12<7:10:37, 185.88s/batch]"
          ]
        },
        {
          "output_type": "stream",
          "name": "stdout",
          "text": [
            "Current file size: 1.7358970046043396\n",
            "Done /content/drive/MyDrive/Datasets/Music-Noise/SNRdB_remapped-signal-level/SNRdB_-10-10/train/train-SNRdB_-10-10_20250408_101602.h5\n",
            "Free disk space: 153.25 GB\n",
            "Creating HDF5 file....\n"
          ]
        },
        {
          "output_type": "stream",
          "name": "stderr",
          "text": [
            "\rProcessing batches:  31%|███       | 62/200 [3:04:22<7:10:34, 187.20s/batch]"
          ]
        },
        {
          "output_type": "stream",
          "name": "stdout",
          "text": [
            "Current file size: 1.7358970046043396\n",
            "Done /content/drive/MyDrive/Datasets/Music-Noise/SNRdB_remapped-signal-level/SNRdB_-10-10/train/train-SNRdB_-10-10_20250408_101917.h5\n",
            "Free disk space: 153.15 GB\n",
            "Creating HDF5 file....\n"
          ]
        },
        {
          "output_type": "stream",
          "name": "stderr",
          "text": [
            "\rProcessing batches:  32%|███▏      | 63/200 [3:07:16<6:58:14, 183.17s/batch]"
          ]
        },
        {
          "output_type": "stream",
          "name": "stdout",
          "text": [
            "Current file size: 1.7358970046043396\n",
            "Done /content/drive/MyDrive/Datasets/Music-Noise/SNRdB_remapped-signal-level/SNRdB_-10-10/train/train-SNRdB_-10-10_20250408_102222.h5\n",
            "Free disk space: 153.24 GB\n",
            "Creating HDF5 file....\n"
          ]
        },
        {
          "output_type": "stream",
          "name": "stderr",
          "text": [
            "\rProcessing batches:  32%|███▏      | 64/200 [3:10:00<6:42:22, 177.52s/batch]"
          ]
        },
        {
          "output_type": "stream",
          "name": "stdout",
          "text": [
            "Current file size: 1.7358970046043396\n",
            "Done /content/drive/MyDrive/Datasets/Music-Noise/SNRdB_remapped-signal-level/SNRdB_-10-10/train/train-SNRdB_-10-10_20250408_102513.h5\n",
            "Free disk space: 153.17 GB\n",
            "Error processing /content/drive/MyDrive/Datasets/Music/MUSDB18/train-2s-44100/Hezekiah Jones - Borrowed Heart_bass_sec242.wav: operands could not be broadcast together with shapes (88200,) (69609,) \n",
            "Error processing /content/drive/MyDrive/Datasets/Music/MUSDB18/train-2s-44100/ANiMAL - Easy Tiger_mixture_sec206.wav: operands could not be broadcast together with shapes (88200,) (73113,) \n",
            "Creating HDF5 file....\n"
          ]
        },
        {
          "output_type": "stream",
          "name": "stderr",
          "text": [
            "\rProcessing batches:  32%|███▎      | 65/200 [3:13:10<6:47:54, 181.29s/batch]"
          ]
        },
        {
          "output_type": "stream",
          "name": "stdout",
          "text": [
            "Current file size: 1.7289539277553558\n",
            "Done /content/drive/MyDrive/Datasets/Music-Noise/SNRdB_remapped-signal-level/SNRdB_-10-10/train/train-SNRdB_-10-10_20250408_102757.h5\n",
            "Free disk space: 153.48 GB\n",
            "Error processing /content/drive/MyDrive/Datasets/Music/MUSDB18/train-2s-44100/Music Delta - Rockabilly_other_sec26.wav: operands could not be broadcast together with shapes (88200,) (85958,) \n",
            "Error processing /content/drive/MyDrive/Datasets/Music/MUSDB18/train-2s-44100/Hezekiah Jones - Borrowed Heart_bass_sec242.wav: operands could not be broadcast together with shapes (88200,) (69609,) \n",
            "Error processing /content/drive/MyDrive/Datasets/Music/MUSDB18/train-2s-44100/Music Delta - Rockabilly_bass_sec26.wav: operands could not be broadcast together with shapes (88200,) (85958,) \n",
            "Error processing /content/drive/MyDrive/Datasets/Music/MUSDB18/train-2s-44100/Music Delta - Reggae_bass_sec18.wav: operands could not be broadcast together with shapes (88200,) (64504,) \n",
            "Creating HDF5 file....\n"
          ]
        },
        {
          "output_type": "stream",
          "name": "stderr",
          "text": [
            "\rProcessing batches:  33%|███▎      | 66/200 [3:16:17<6:48:35, 182.95s/batch]"
          ]
        },
        {
          "output_type": "stream",
          "name": "stdout",
          "text": [
            "Current file size: 1.722010850906372\n",
            "Done /content/drive/MyDrive/Datasets/Music-Noise/SNRdB_remapped-signal-level/SNRdB_-10-10/train/train-SNRdB_-10-10_20250408_103114.h5\n",
            "Free disk space: 153.56 GB\n",
            "Creating HDF5 file....\n"
          ]
        },
        {
          "output_type": "stream",
          "name": "stderr",
          "text": [
            "\rProcessing batches:  34%|███▎      | 67/200 [3:19:20<6:45:26, 182.90s/batch]"
          ]
        },
        {
          "output_type": "stream",
          "name": "stdout",
          "text": [
            "Current file size: 1.7358970046043396\n",
            "Done /content/drive/MyDrive/Datasets/Music-Noise/SNRdB_remapped-signal-level/SNRdB_-10-10/train/train-SNRdB_-10-10_20250408_103423.h5\n",
            "Free disk space: 153.47 GB\n",
            "Error processing /content/drive/MyDrive/Datasets/Music/MUSDB18/train-2s-44100/Faces On Film - Waiting For Ga_mixture_sec258.wav: operands could not be broadcast together with shapes (88200,) (71985,) \n",
            "Error processing /content/drive/MyDrive/Datasets/Music/MUSDB18/train-2s-44100/Music Delta - Reggae_vocals_sec18.wav: operands could not be broadcast together with shapes (88200,) (64504,) \n",
            "Creating HDF5 file....\n"
          ]
        },
        {
          "output_type": "stream",
          "name": "stderr",
          "text": [
            "\rProcessing batches:  34%|███▍      | 68/200 [3:22:30<6:47:23, 185.18s/batch]"
          ]
        },
        {
          "output_type": "stream",
          "name": "stdout",
          "text": [
            "Current file size: 1.7289539277553558\n",
            "Done /content/drive/MyDrive/Datasets/Music-Noise/SNRdB_remapped-signal-level/SNRdB_-10-10/train/train-SNRdB_-10-10_20250408_103724.h5\n",
            "Free disk space: 153.41 GB\n",
            "Creating HDF5 file....\n"
          ]
        },
        {
          "output_type": "stream",
          "name": "stderr",
          "text": [
            "\rProcessing batches:  34%|███▍      | 69/200 [3:25:20<6:34:12, 180.55s/batch]"
          ]
        },
        {
          "output_type": "stream",
          "name": "stdout",
          "text": [
            "Current file size: 1.7358970046043396\n",
            "Done /content/drive/MyDrive/Datasets/Music-Noise/SNRdB_remapped-signal-level/SNRdB_-10-10/train/train-SNRdB_-10-10_20250408_104031.h5\n",
            "Free disk space: 153.32 GB\n",
            "Error processing /content/drive/MyDrive/Datasets/Music/MUSDB18/train-2s-44100/Music Delta - Rock_bass_sec14.wav: operands could not be broadcast together with shapes (88200,) (48120,) \n",
            "Creating HDF5 file....\n"
          ]
        },
        {
          "output_type": "stream",
          "name": "stderr",
          "text": [
            "\rProcessing batches:  35%|███▌      | 70/200 [3:28:18<6:29:11, 179.63s/batch]"
          ]
        },
        {
          "output_type": "stream",
          "name": "stdout",
          "text": [
            "Current file size: 1.7324254661798477\n",
            "Done /content/drive/MyDrive/Datasets/Music-Noise/SNRdB_remapped-signal-level/SNRdB_-10-10/train/train-SNRdB_-10-10_20250408_104319.h5\n",
            "Free disk space: 153.26 GB\n",
            "Error processing /content/drive/MyDrive/Datasets/Music/MUSDB18/train-2s-44100/Jokers, Jacks & Kings - Sea Of Leaves_mixture_sec192.wav: operands could not be broadcast together with shapes (88200,) (72844,) \n",
            "Creating HDF5 file....\n"
          ]
        },
        {
          "output_type": "stream",
          "name": "stderr",
          "text": [
            "\rProcessing batches:  36%|███▌      | 71/200 [3:31:18<6:26:40, 179.85s/batch]"
          ]
        },
        {
          "output_type": "stream",
          "name": "stdout",
          "text": [
            "Current file size: 1.7324254661798477\n",
            "Done /content/drive/MyDrive/Datasets/Music-Noise/SNRdB_remapped-signal-level/SNRdB_-10-10/train/train-SNRdB_-10-10_20250408_104619.h5\n",
            "Free disk space: 153.27 GB\n",
            "Error processing /content/drive/MyDrive/Datasets/Music/MUSDB18/train-2s-44100/Jokers, Jacks & Kings - Sea Of Leaves_other_sec192.wav: operands could not be broadcast together with shapes (88200,) (72844,) \n",
            "Error processing /content/drive/MyDrive/Datasets/Music/MUSDB18/train-2s-44100/Music Delta - Rock_bass_sec14.wav: operands could not be broadcast together with shapes (88200,) (48120,) \n",
            "Error processing /content/drive/MyDrive/Datasets/Music/MUSDB18/train-2s-44100/Music Delta - Grunge_drums_sec42.wav: operands could not be broadcast together with shapes (88200,) (81768,) \n",
            "Creating HDF5 file....\n"
          ]
        },
        {
          "output_type": "stream",
          "name": "stderr",
          "text": [
            "\rProcessing batches:  36%|███▌      | 72/200 [3:34:27<6:29:45, 182.70s/batch]"
          ]
        },
        {
          "output_type": "stream",
          "name": "stdout",
          "text": [
            "Current file size: 1.725482389330864\n",
            "Done /content/drive/MyDrive/Datasets/Music-Noise/SNRdB_remapped-signal-level/SNRdB_-10-10/train/train-SNRdB_-10-10_20250408_104917.h5\n",
            "Free disk space: 153.22 GB\n",
            "Creating HDF5 file....\n"
          ]
        },
        {
          "output_type": "stream",
          "name": "stderr",
          "text": [
            "\rProcessing batches:  36%|███▋      | 73/200 [3:37:32<6:27:53, 183.26s/batch]"
          ]
        },
        {
          "output_type": "stream",
          "name": "stdout",
          "text": [
            "Current file size: 1.7358970046043396\n",
            "Done /content/drive/MyDrive/Datasets/Music-Noise/SNRdB_remapped-signal-level/SNRdB_-10-10/train/train-SNRdB_-10-10_20250408_105230.h5\n",
            "Free disk space: 153.28 GB\n",
            "Creating HDF5 file....\n"
          ]
        },
        {
          "output_type": "stream",
          "name": "stderr",
          "text": [
            "\rProcessing batches:  37%|███▋      | 74/200 [3:40:40<6:27:37, 184.58s/batch]"
          ]
        },
        {
          "output_type": "stream",
          "name": "stdout",
          "text": [
            "Current file size: 1.7358970046043396\n",
            "Done /content/drive/MyDrive/Datasets/Music-Noise/SNRdB_remapped-signal-level/SNRdB_-10-10/train/train-SNRdB_-10-10_20250408_105536.h5\n",
            "Free disk space: 153.20 GB\n",
            "Creating HDF5 file....\n"
          ]
        },
        {
          "output_type": "stream",
          "name": "stderr",
          "text": [
            "\rProcessing batches:  38%|███▊      | 75/200 [3:43:38<6:20:58, 182.87s/batch]"
          ]
        },
        {
          "output_type": "stream",
          "name": "stdout",
          "text": [
            "Current file size: 1.7358970046043396\n",
            "Done /content/drive/MyDrive/Datasets/Music-Noise/SNRdB_remapped-signal-level/SNRdB_-10-10/train/train-SNRdB_-10-10_20250408_105840.h5\n",
            "Free disk space: 153.27 GB\n",
            "Error processing /content/drive/MyDrive/Datasets/Music/MUSDB18/train-2s-44100/Music Delta - Reggae_vocals_sec18.wav: operands could not be broadcast together with shapes (88200,) (64504,) \n",
            "Creating HDF5 file....\n"
          ]
        },
        {
          "output_type": "stream",
          "name": "stderr",
          "text": [
            "\rProcessing batches:  38%|███▊      | 76/200 [3:46:45<6:20:01, 183.88s/batch]"
          ]
        },
        {
          "output_type": "stream",
          "name": "stdout",
          "text": [
            "Current file size: 1.7324254661798477\n",
            "Done /content/drive/MyDrive/Datasets/Music-Noise/SNRdB_remapped-signal-level/SNRdB_-10-10/train/train-SNRdB_-10-10_20250408_110142.h5\n",
            "Free disk space: 153.29 GB\n",
            "Error processing /content/drive/MyDrive/Datasets/Music/MUSDB18/train-2s-44100/Music Delta - Country2_mixture_sec18.wav: operands could not be broadcast together with shapes (88200,) (64160,) \n",
            "Creating HDF5 file....\n"
          ]
        },
        {
          "output_type": "stream",
          "name": "stderr",
          "text": [
            "\rProcessing batches:  38%|███▊      | 77/200 [3:49:39<6:10:55, 180.94s/batch]"
          ]
        },
        {
          "output_type": "stream",
          "name": "stdout",
          "text": [
            "Current file size: 1.7324254661798477\n",
            "Done /content/drive/MyDrive/Datasets/Music-Noise/SNRdB_remapped-signal-level/SNRdB_-10-10/train/train-SNRdB_-10-10_20250408_110449.h5\n",
            "Free disk space: 153.23 GB\n",
            "Error processing /content/drive/MyDrive/Datasets/Music/MUSDB18/train-2s-44100/Music Delta - Rockabilly_mixture_sec26.wav: operands could not be broadcast together with shapes (88200,) (85958,) \n",
            "Creating HDF5 file....\n"
          ]
        },
        {
          "output_type": "stream",
          "name": "stderr",
          "text": [
            "\rProcessing batches:  39%|███▉      | 78/200 [3:52:35<6:05:03, 179.54s/batch]"
          ]
        },
        {
          "output_type": "stream",
          "name": "stdout",
          "text": [
            "Current file size: 1.7324254661798477\n",
            "Done /content/drive/MyDrive/Datasets/Music-Noise/SNRdB_remapped-signal-level/SNRdB_-10-10/train/train-SNRdB_-10-10_20250408_110742.h5\n",
            "Free disk space: 153.26 GB\n",
            "Error processing /content/drive/MyDrive/Datasets/Music/MUSDB18/train-2s-44100/Faces On Film - Waiting For Ga_bass_sec258.wav: operands could not be broadcast together with shapes (88200,) (71985,) \n",
            "Creating HDF5 file....\n"
          ]
        },
        {
          "output_type": "stream",
          "name": "stderr",
          "text": [
            "\rProcessing batches:  40%|███▉      | 79/200 [3:55:31<5:59:56, 178.48s/batch]"
          ]
        },
        {
          "output_type": "stream",
          "name": "stdout",
          "text": [
            "Current file size: 1.7324254661798477\n",
            "Done /content/drive/MyDrive/Datasets/Music-Noise/SNRdB_remapped-signal-level/SNRdB_-10-10/train/train-SNRdB_-10-10_20250408_111036.h5\n",
            "Free disk space: 153.17 GB\n",
            "Error processing /content/drive/MyDrive/Datasets/Music/MUSDB18/train-2s-44100/Faces On Film - Waiting For Ga_other_sec258.wav: operands could not be broadcast together with shapes (88200,) (71985,) \n",
            "Creating HDF5 file....\n"
          ]
        },
        {
          "output_type": "stream",
          "name": "stderr",
          "text": [
            "\rProcessing batches:  40%|████      | 80/200 [3:58:35<6:00:26, 180.22s/batch]"
          ]
        },
        {
          "output_type": "stream",
          "name": "stdout",
          "text": [
            "Current file size: 1.7324254661798477\n",
            "Done /content/drive/MyDrive/Datasets/Music-Noise/SNRdB_remapped-signal-level/SNRdB_-10-10/train/train-SNRdB_-10-10_20250408_111331.h5\n",
            "Free disk space: 153.10 GB\n",
            "Creating HDF5 file....\n"
          ]
        },
        {
          "output_type": "stream",
          "name": "stderr",
          "text": [
            "\rProcessing batches:  40%|████      | 81/200 [4:01:33<5:55:57, 179.48s/batch]"
          ]
        },
        {
          "output_type": "stream",
          "name": "stdout",
          "text": [
            "Current file size: 1.7358970046043396\n",
            "Done /content/drive/MyDrive/Datasets/Music-Noise/SNRdB_remapped-signal-level/SNRdB_-10-10/train/train-SNRdB_-10-10_20250408_111637.h5\n",
            "Free disk space: 153.30 GB\n",
            "Error processing /content/drive/MyDrive/Datasets/Music/MUSDB18/train-2s-44100/The So So Glos - Emergency_bass_sec168.wav: operands could not be broadcast together with shapes (88200,) (44100,) \n",
            "Creating HDF5 file....\n"
          ]
        },
        {
          "output_type": "stream",
          "name": "stderr",
          "text": [
            "\rProcessing batches:  41%|████      | 82/200 [4:04:26<5:49:11, 177.55s/batch]"
          ]
        },
        {
          "output_type": "stream",
          "name": "stdout",
          "text": [
            "Current file size: 1.7324254661798477\n",
            "Done /content/drive/MyDrive/Datasets/Music-Noise/SNRdB_remapped-signal-level/SNRdB_-10-10/train/train-SNRdB_-10-10_20250408_111937.h5\n",
            "Free disk space: 153.21 GB\n",
            "Creating HDF5 file....\n"
          ]
        },
        {
          "output_type": "stream",
          "name": "stderr",
          "text": [
            "\rProcessing batches:  42%|████▏     | 83/200 [4:07:21<5:44:24, 176.62s/batch]"
          ]
        },
        {
          "output_type": "stream",
          "name": "stdout",
          "text": [
            "Current file size: 1.7358970046043396\n",
            "Done /content/drive/MyDrive/Datasets/Music-Noise/SNRdB_remapped-signal-level/SNRdB_-10-10/train/train-SNRdB_-10-10_20250408_112226.h5\n",
            "Free disk space: 153.19 GB\n",
            "Error processing /content/drive/MyDrive/Datasets/Music/MUSDB18/train-2s-44100/ANiMAL - Easy Tiger_other_sec206.wav: operands could not be broadcast together with shapes (88200,) (73113,) \n",
            "Creating HDF5 file....\n"
          ]
        },
        {
          "output_type": "stream",
          "name": "stderr",
          "text": [
            "\rProcessing batches:  42%|████▏     | 84/200 [4:10:10<5:37:20, 174.49s/batch]"
          ]
        },
        {
          "output_type": "stream",
          "name": "stdout",
          "text": [
            "Current file size: 1.7324254661798477\n",
            "Done /content/drive/MyDrive/Datasets/Music-Noise/SNRdB_remapped-signal-level/SNRdB_-10-10/train/train-SNRdB_-10-10_20250408_112521.h5\n",
            "Free disk space: 153.10 GB\n",
            "Error processing /content/drive/MyDrive/Datasets/Music/MUSDB18/train-2s-44100/Jokers, Jacks & Kings - Sea Of Leaves_drums_sec192.wav: operands could not be broadcast together with shapes (88200,) (72844,) \n",
            "Creating HDF5 file....\n"
          ]
        },
        {
          "output_type": "stream",
          "name": "stderr",
          "text": [
            "\rProcessing batches:  42%|████▎     | 85/200 [4:13:11<5:37:56, 176.31s/batch]"
          ]
        },
        {
          "output_type": "stream",
          "name": "stdout",
          "text": [
            "Current file size: 1.7324254661798477\n",
            "Done /content/drive/MyDrive/Datasets/Music-Noise/SNRdB_remapped-signal-level/SNRdB_-10-10/train/train-SNRdB_-10-10_20250408_112807.h5\n",
            "Free disk space: 153.14 GB\n",
            "Creating HDF5 file....\n"
          ]
        },
        {
          "output_type": "stream",
          "name": "stderr",
          "text": [
            "\rProcessing batches:  43%|████▎     | 86/200 [4:16:21<5:42:50, 180.45s/batch]"
          ]
        },
        {
          "output_type": "stream",
          "name": "stdout",
          "text": [
            "Current file size: 1.7358970046043396\n",
            "Done /content/drive/MyDrive/Datasets/Music-Noise/SNRdB_remapped-signal-level/SNRdB_-10-10/train/train-SNRdB_-10-10_20250408_113111.h5\n",
            "Free disk space: 153.20 GB\n",
            "Creating HDF5 file....\n"
          ]
        },
        {
          "output_type": "stream",
          "name": "stderr",
          "text": [
            "\rProcessing batches:  44%|████▎     | 87/200 [4:19:25<5:41:50, 181.51s/batch]"
          ]
        },
        {
          "output_type": "stream",
          "name": "stdout",
          "text": [
            "Current file size: 1.7358970046043396\n",
            "Done /content/drive/MyDrive/Datasets/Music-Noise/SNRdB_remapped-signal-level/SNRdB_-10-10/train/train-SNRdB_-10-10_20250408_113419.h5\n",
            "Free disk space: 153.20 GB\n",
            "Error processing /content/drive/MyDrive/Datasets/Music/MUSDB18/train-2s-44100/Jokers, Jacks & Kings - Sea Of Leaves_drums_sec192.wav: operands could not be broadcast together with shapes (88200,) (72844,) \n",
            "Error processing /content/drive/MyDrive/Datasets/Music/MUSDB18/train-2s-44100/Sweet Lights - You Let Me Down_vocals_sec392.wav: operands could not be broadcast together with shapes (88200,) (87400,) \n",
            "Creating HDF5 file....\n"
          ]
        },
        {
          "output_type": "stream",
          "name": "stderr",
          "text": [
            "\rProcessing batches:  44%|████▍     | 88/200 [4:22:14<5:32:09, 177.94s/batch]"
          ]
        },
        {
          "output_type": "stream",
          "name": "stdout",
          "text": [
            "Current file size: 1.7289539277553558\n",
            "Done /content/drive/MyDrive/Datasets/Music-Noise/SNRdB_remapped-signal-level/SNRdB_-10-10/train/train-SNRdB_-10-10_20250408_113727.h5\n",
            "Free disk space: 153.12 GB\n",
            "Creating HDF5 file....\n"
          ]
        },
        {
          "output_type": "stream",
          "name": "stderr",
          "text": [
            "\rProcessing batches:  44%|████▍     | 89/200 [4:25:22<5:34:21, 180.74s/batch]"
          ]
        },
        {
          "output_type": "stream",
          "name": "stdout",
          "text": [
            "Current file size: 1.7358970046043396\n",
            "Done /content/drive/MyDrive/Datasets/Music-Noise/SNRdB_remapped-signal-level/SNRdB_-10-10/train/train-SNRdB_-10-10_20250408_114015.h5\n",
            "Free disk space: 153.10 GB\n",
            "Creating HDF5 file....\n"
          ]
        },
        {
          "output_type": "stream",
          "name": "stderr",
          "text": [
            "\rProcessing batches:  45%|████▌     | 90/200 [4:28:20<5:30:14, 180.13s/batch]"
          ]
        },
        {
          "output_type": "stream",
          "name": "stdout",
          "text": [
            "Current file size: 1.7358970046043396\n",
            "Done /content/drive/MyDrive/Datasets/Music-Noise/SNRdB_remapped-signal-level/SNRdB_-10-10/train/train-SNRdB_-10-10_20250408_114322.h5\n",
            "Free disk space: 153.35 GB\n",
            "Error processing /content/drive/MyDrive/Datasets/Music/MUSDB18/train-2s-44100/Music Delta - Gospel_drums_sec76.wav: operands could not be broadcast together with shapes (88200,) (76615,) \n",
            "Creating HDF5 file....\n"
          ]
        },
        {
          "output_type": "stream",
          "name": "stderr",
          "text": [
            "\rProcessing batches:  46%|████▌     | 91/200 [4:31:20<5:27:03, 180.03s/batch]"
          ]
        },
        {
          "output_type": "stream",
          "name": "stdout",
          "text": [
            "Current file size: 1.7324254661798477\n",
            "Done /content/drive/MyDrive/Datasets/Music-Noise/SNRdB_remapped-signal-level/SNRdB_-10-10/train/train-SNRdB_-10-10_20250408_114622.h5\n",
            "Free disk space: 153.35 GB\n",
            "Creating HDF5 file....\n"
          ]
        },
        {
          "output_type": "stream",
          "name": "stderr",
          "text": [
            "\rProcessing batches:  46%|████▌     | 92/200 [4:34:24<5:26:18, 181.28s/batch]"
          ]
        },
        {
          "output_type": "stream",
          "name": "stdout",
          "text": [
            "Current file size: 1.7358970046043396\n",
            "Done /content/drive/MyDrive/Datasets/Music-Noise/SNRdB_remapped-signal-level/SNRdB_-10-10/train/train-SNRdB_-10-10_20250408_114929.h5\n",
            "Free disk space: 153.28 GB\n",
            "Error processing /content/drive/MyDrive/Datasets/Music/MUSDB18/train-2s-44100/Faces On Film - Waiting For Ga_drums_sec258.wav: operands could not be broadcast together with shapes (88200,) (71985,) \n",
            "Creating HDF5 file....\n",
            "File maximum samples file......\n"
          ]
        },
        {
          "output_type": "stream",
          "name": "stderr",
          "text": [
            "\rProcessing batches:  46%|████▌     | 92/200 [4:37:53<5:26:13, 181.23s/batch]\n"
          ]
        },
        {
          "output_type": "stream",
          "name": "stdout",
          "text": [
            "Processing complete. HDF5 file saved and closed.\n",
            "Dataset saved to /content/drive/MyDrive/Datasets/Music-Noise/SNRdB_remapped-signal-level/SNRdB_-10-10/train/train-SNRdB_-10-10.h5\n",
            "Processing testing dataset....\n",
            "Gathering wav files....\n",
            "Files processed:  25641\n",
            "Gathering noise files....\n",
            "Files processed:  2956\n",
            "Checkpoint file path: /content/drive/MyDrive/Datasets/Music-Noise/SNRdB_remapped-signal-level/SNRdB_-10-10/test-SNRdB_-10-10-checkpoint.txt\n",
            "Error reading file: [Errno 2] No such file or directory: '/content/drive/MyDrive/Datasets/Music-Noise/SNRdB_remapped-signal-level/SNRdB_-10-10/test-SNRdB_-10-10-checkpoint.txt'\n",
            "Resuming from batch index: 0\n"
          ]
        },
        {
          "output_type": "stream",
          "name": "stderr",
          "text": [
            "\rProcessing batches:   0%|          | 0/200 [00:00<?, ?batch/s]"
          ]
        },
        {
          "output_type": "stream",
          "name": "stdout",
          "text": [
            "Creating HDF5 file....\n"
          ]
        },
        {
          "output_type": "stream",
          "name": "stderr",
          "text": [
            "\rProcessing batches:   0%|          | 1/200 [04:49<16:00:34, 289.62s/batch]"
          ]
        },
        {
          "output_type": "stream",
          "name": "stdout",
          "text": [
            "Current file size: 1.7358970046043396\n",
            "Done /content/drive/MyDrive/Datasets/Music-Noise/SNRdB_remapped-signal-level/SNRdB_-10-10/test/test-SNRdB_-10-10_20250408_115751.h5\n",
            "Free disk space: 154.52 GB\n",
            "Creating HDF5 file....\n"
          ]
        },
        {
          "output_type": "stream",
          "name": "stderr",
          "text": [
            "\rProcessing batches:   1%|          | 2/200 [07:43<12:12:00, 221.82s/batch]"
          ]
        },
        {
          "output_type": "stream",
          "name": "stdout",
          "text": [
            "Current file size: 1.7358970046043396\n",
            "Done /content/drive/MyDrive/Datasets/Music-Noise/SNRdB_remapped-signal-level/SNRdB_-10-10/test/test-SNRdB_-10-10_20250408_120047.h5\n",
            "Free disk space: 154.48 GB\n",
            "Creating HDF5 file....\n"
          ]
        },
        {
          "output_type": "stream",
          "name": "stderr",
          "text": [
            "\rProcessing batches:   2%|▏         | 3/200 [10:25<10:37:57, 194.30s/batch]"
          ]
        },
        {
          "output_type": "stream",
          "name": "stdout",
          "text": [
            "Current file size: 1.7358970046043396\n",
            "Done /content/drive/MyDrive/Datasets/Music-Noise/SNRdB_remapped-signal-level/SNRdB_-10-10/test/test-SNRdB_-10-10_20250408_120337.h5\n",
            "Free disk space: 154.42 GB\n",
            "Error processing /content/drive/MyDrive/Datasets/Music/MUSDB18/test-2s-44100/Hollow Ground - Ill Fate_mixture_sec142.wav: operands could not be broadcast together with shapes (88200,) (73828,) \n"
          ]
        }
      ],
      "source": [
        "GENERATE_H5_FILES = True\n",
        "checkpoint_file_size=100000\n",
        "if GENERATE_H5_FILES:\n",
        "  processor = DatasetProcessor(\n",
        "          train_music_dir='/content/drive/MyDrive/Datasets/Music/MUSDB18/train-2s-44100',\n",
        "          train_noise_dir='/content/drive/MyDrive/Datasets/Noise/splits_v2/train-2s-44100',\n",
        "          test_music_dir='/content/drive/MyDrive/Datasets/Music/MUSDB18/test-2s-44100',\n",
        "          test_noise_dir='/content/drive/MyDrive/Datasets/Noise/splits_v2/test-2s-44100',\n",
        "          output_dir='/content/drive/MyDrive/Datasets/Music-Noise/SNRdB_remapped-signal-level',\n",
        "          SNRdB=[-10, 10],\n",
        "          process_train=True,\n",
        "          process_test=True,\n",
        "          checkpoint_file_size=checkpoint_file_size,\n",
        "          max_file_size_gb=200,\n",
        "          batch_size=500,\n",
        "      )\n",
        "  processor.process()\n",
        "\n",
        "if False:\n",
        "  processor = DatasetProcessor(\n",
        "          train_music_dir='/content/drive/MyDrive/Datasets/Music/MUSDB18/train-2s-44100',\n",
        "          train_noise_dir='/content/drive/MyDrive/Datasets/Noise/splits_v2/train-2s-44100',\n",
        "          test_music_dir='/content/drive/MyDrive/Datasets/Music/MUSDB18/test-2s-44100',\n",
        "          test_noise_dir='/content/drive/MyDrive/Datasets/Noise/splits_v2/test-2s-44100',\n",
        "          output_dir='/content/drive/MyDrive/Datasets/Music-Noise/SNRdB_remapped-signal-level',\n",
        "          SNRdB=[0, 20],\n",
        "          process_train=True,\n",
        "          process_test=True,\n",
        "          checkpoint_file_size=checkpoint_file_size,\n",
        "          batch_size=100\n",
        "      )\n",
        "  processor.process()\n",
        "\n",
        "  processor = DatasetProcessor(\n",
        "          train_music_dir='/content/drive/MyDrive/Datasets/Music/MUSDB18/train-2s-44100',\n",
        "          train_noise_dir='/content/drive/MyDrive/Datasets/Noise/splits_v2/train-2s-44100',\n",
        "          test_music_dir='/content/drive/MyDrive/Datasets/Music/MUSDB18/test-2s-44100',\n",
        "          test_noise_dir='/content/drive/MyDrive/Datasets/Noise/splits_v2/test-2s-44100',\n",
        "          output_dir='/content/drive/MyDrive/Datasets/Music-Noise/SNRdB_all-noise_features',\n",
        "          SNRdB=[10, 30],\n",
        "          process_train=True,\n",
        "          process_test=True,\n",
        "          checkpoint_file_size=checkpoint_file_size,\n",
        "      )\n",
        "  processor.process()\n",
        "\n",
        "  processor = DatasetProcessor(\n",
        "          train_music_dir='/content/drive/MyDrive/Datasets/Music/MUSDB18/train-2s-44100',\n",
        "          train_noise_dir='/content/drive/MyDrive/Datasets/Noise/splits_v2/train-2s-44100',\n",
        "          test_music_dir='/content/drive/MyDrive/Datasets/Music/MUSDB18/test-2s-44100',\n",
        "          test_noise_dir='/content/drive/MyDrive/Datasets/Noise/splits_v2/test-2s-44100',\n",
        "          output_dir='/content/drive/MyDrive/Datasets/Music-Noise/SNRdB_mix_features',\n",
        "          SNRdB=[-10, 30],\n",
        "          process_train=True,\n",
        "          process_test=True,\n",
        "          mix_only=True,\n",
        "          checkpoint_file_size=checkpoint_file_size\n",
        "      )\n",
        "  processor.process()"
      ]
    },
    {
      "cell_type": "code",
      "source": [
        "processor = DatasetProcessor(\n",
        "        train_music_dir='/content/drive/MyDrive/Datasets/Music/Additional_Music/splits_v2/train-2s-44100',\n",
        "        train_noise_dir='/content/drive/MyDrive/Datasets/Noise/splits_v2/train-2s-44100',\n",
        "        test_music_dir='/content/drive/MyDrive/Datasets/Music/Additional_Music/splits_v2/test-2s-44100',\n",
        "        test_noise_dir='/content/drive/MyDrive/Datasets/Noise/splits_v2/test-2s-44100',\n",
        "        output_dir='/content/drive/MyDrive/Datasets/Music-Noise/SNRdB_all-noise_features_2',\n",
        "        SNRdB=[-10, 20],\n",
        "        process_train=True,\n",
        "        process_test=True,\n",
        "        checkpoint_file_size=100000,\n",
        "        batch_size=200\n",
        "    )\n",
        "processor.process()"
      ],
      "metadata": {
        "id": "tlIpJhjIm2wT"
      },
      "execution_count": null,
      "outputs": []
    },
    {
      "cell_type": "markdown",
      "metadata": {
        "id": "94FmdzEmqaTE"
      },
      "source": [
        "---"
      ]
    },
    {
      "cell_type": "markdown",
      "metadata": {
        "id": "0nQ8wGyTqaTE"
      },
      "source": []
    }
  ],
  "metadata": {
    "kernelspec": {
      "display_name": "Python 3",
      "name": "python3"
    },
    "language_info": {
      "codemirror_mode": {
        "name": "ipython",
        "version": 3
      },
      "file_extension": ".py",
      "mimetype": "text/x-python",
      "name": "python",
      "nbconvert_exporter": "python",
      "pygments_lexer": "ipython3",
      "version": "3.11.3"
    },
    "colab": {
      "provenance": []
    }
  },
  "nbformat": 4,
  "nbformat_minor": 0
}