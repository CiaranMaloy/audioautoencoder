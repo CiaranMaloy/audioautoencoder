{
  "cells": [
    {
      "cell_type": "markdown",
      "metadata": {
        "id": "hhjeAiJRqaTA"
      },
      "source": [
        "# Dataset Generation"
      ]
    },
    {
      "cell_type": "code",
      "execution_count": 3,
      "metadata": {
        "colab": {
          "base_uri": "https://localhost:8080/"
        },
        "id": "j2uW1R-NqaTB",
        "outputId": "d1a9f78c-f651-482b-c9c4-2b41ede4031d"
      },
      "outputs": [
        {
          "output_type": "stream",
          "name": "stdout",
          "text": [
            "Drive already mounted at /content/drive; to attempt to forcibly remount, call drive.mount(\"/content/drive\", force_remount=True).\n"
          ]
        }
      ],
      "source": [
        "import sys\n",
        "import os\n",
        "\n",
        "# Detect Google Colab\n",
        "if \"google.colab\" in sys.modules:\n",
        "  from google.colab import drive\n",
        "  drive.mount('/content/drive')"
      ]
    },
    {
      "cell_type": "code",
      "execution_count": null,
      "metadata": {
        "colab": {
          "base_uri": "https://localhost:8080/"
        },
        "id": "K9ohND2-qaTC",
        "outputId": "cdf778df-9c78-4ffd-fd07-beb222bedd79"
      },
      "outputs": [
        {
          "output_type": "stream",
          "name": "stdout",
          "text": [
            "Running in Google Colab...\n"
          ]
        }
      ],
      "source": [
        "# Detect Google Colab\n",
        "if \"google.colab\" in sys.modules:\n",
        "    print(\"Running in Google Colab...\")\n",
        "    os.system(\"git clone https://github.com/CiaranMaloy/audioautoencoder\")\n",
        "    os.chdir(\"/content/audioautoencoder/\")\n",
        "    os.system(\"git pull\")\n",
        "    os.system(\"git checkout dataset-generation-fix\")\n",
        "    os.system(\"git pull origin dataset-generation-fix\")\n",
        "    #os.system(\"pip install --upgrade torchmetrics\")\n",
        "else:\n",
        "    print(\"Running locally...\")\n",
        "    os.system(\"git pull origin dataset-generation-fix\")\n",
        "    #os.system(\"pip install --upgrade torchmetrics\")\n"
      ]
    },
    {
      "cell_type": "code",
      "execution_count": null,
      "metadata": {
        "id": "7TDd5eSmqaTC"
      },
      "outputs": [],
      "source": [
        "import sys\n",
        "sys.path.append('/content/audioautoencoder')\n",
        "sys.path.append('/content/audioautoencoder/audioautoencoder')"
      ]
    },
    {
      "cell_type": "markdown",
      "metadata": {
        "id": "ELoCObPCqaTC"
      },
      "source": [
        "## Data Generation"
      ]
    },
    {
      "cell_type": "code",
      "execution_count": null,
      "metadata": {
        "id": "RiN3baczqaTC"
      },
      "outputs": [],
      "source": [
        "from audioautoencoder.data_management import *\n",
        "GENERATE=False"
      ]
    },
    {
      "cell_type": "code",
      "source": [
        "def get_folder_size_gb(folder_path):\n",
        "    total_size = 0\n",
        "    for dirpath, dirnames, filenames in os.walk(folder_path):\n",
        "        for filename in filenames:\n",
        "            file_path = os.path.join(dirpath, filename)\n",
        "            if os.path.exists(file_path):  # Ensure file exists before getting size\n",
        "                total_size += (os.path.getsize(file_path) / (1024 ** 3))\n",
        "    return total_size  # Convert bytes to gigabytes"
      ],
      "metadata": {
        "id": "J3IQdtJxugE_"
      },
      "execution_count": null,
      "outputs": []
    },
    {
      "cell_type": "code",
      "execution_count": null,
      "metadata": {
        "id": "7vK7KvwVqaTD"
      },
      "outputs": [],
      "source": [
        "# Example Usage\n",
        "dataset_dirs = [\"/content/drive/MyDrive/Datasets/Noise/All_Noise\"]\n",
        "output_dir = \"/content/drive/MyDrive/Datasets/Noise/splits_v2\"\n",
        "\n",
        "if GENERATE:\n",
        "  splits = create_datasets(dataset_dirs, output_dir)\n",
        "  save_splits_to_directories(splits, output_dir, max_workers=8)\n",
        "  print(\"Training Set:\", len(splits[\"train\"]))\n",
        "  print(\"Validation Set:\", len(splits[\"val\"]))\n",
        "  print(\"Testing Set:\", len(splits[\"test\"]))\n"
      ]
    },
    {
      "cell_type": "code",
      "source": [
        "from audioautoencoder.data import *"
      ],
      "metadata": {
        "id": "RdWz0iJQsN6c"
      },
      "execution_count": null,
      "outputs": []
    },
    {
      "cell_type": "code",
      "source": [
        "noise_test = output_dir + \"/test\"\n",
        "noise_train = output_dir + \"/train\"\n",
        "\n",
        "size_gb = get_folder_size_gb(noise_test)\n",
        "print(f\"Test Folder total size: {size_gb:.2f} GB\")\n",
        "\n",
        "size_gb = get_folder_size_gb(noise_train)\n",
        "print(f\"Train Folder total size: {size_gb:.2f} GB\")"
      ],
      "metadata": {
        "id": "sagjBBw5ur1M"
      },
      "execution_count": null,
      "outputs": []
    },
    {
      "cell_type": "code",
      "execution_count": null,
      "metadata": {
        "id": "Vj0IY5diqaTD"
      },
      "outputs": [],
      "source": [
        "# generate audio files for noise and music (2s)\n",
        "noise_test_output = noise_test + \"-2s-44100\"\n",
        "noise_train_output = noise_train + \"-2s-44100\"\n",
        "\n",
        "if GENERATE:\n",
        "  for input_path, output_path in [(noise_test, noise_test_output), (noise_train, noise_train_output)]:\n",
        "    print(input_path, output_path)\n",
        "    generate_audio_files(input_path, output_path, t=2, min_size=0.005)"
      ]
    },
    {
      "cell_type": "code",
      "source": [
        "size_gb = get_folder_size_gb(noise_test_output)\n",
        "print(f\"Noise Test Folder size: {size_gb:.2f} GB\")\n",
        "\n",
        "size_gb = get_folder_size_gb(noise_train_output)\n",
        "print(f\"Noise Train Folder size: {size_gb:.2f} GB\")"
      ],
      "metadata": {
        "id": "bKO-ayVguDae"
      },
      "execution_count": null,
      "outputs": []
    },
    {
      "cell_type": "markdown",
      "source": [
        "## Generic Music Dataset"
      ],
      "metadata": {
        "id": "ayk5c8XZosHP"
      }
    },
    {
      "cell_type": "code",
      "source": [
        "# Example Usage\n",
        "GENERATE=False\n",
        "dataset_dirs = [\"/content/drive/Othercomputers/My Mac/PersonalMusic\"]\n",
        "output_dir = \"/content/drive/MyDrive/Datasets/Music/Additional_Music/splits_v2\"\n",
        "\n",
        "if GENERATE:\n",
        "  splits = create_datasets(dataset_dirs, output_dir, WAV=False, MP3=True)\n",
        "  print(\"Training Set:\", len(splits[\"train\"]))\n",
        "  print(\"Validation Set:\", len(splits[\"val\"]))\n",
        "  print(\"Testing Set:\", len(splits[\"test\"]))\n"
      ],
      "metadata": {
        "id": "ZEj2Nkw-opv4"
      },
      "execution_count": null,
      "outputs": []
    },
    {
      "cell_type": "code",
      "source": [
        "if GENERATE:\n",
        "  save_splits_to_directories(splits, output_dir, max_workers=8)"
      ],
      "metadata": {
        "id": "DkeOWiO6q5N6"
      },
      "execution_count": null,
      "outputs": []
    },
    {
      "cell_type": "code",
      "source": [
        "music_test = output_dir + \"/test\"\n",
        "music_train = output_dir + \"/train\"\n",
        "\n",
        "# generate audio files for noise and music (2s)\n",
        "music_test_output = music_test + \"-2s-44100\"\n",
        "music_train_output = music_train + \"-2s-44100\"\n",
        "\n",
        "if GENERATE:\n",
        "  for input_path, output_path in [(music_test, music_test_output), (music_train, music_train_output)]:\n",
        "    print(input_path, output_path)\n",
        "    generate_audio_files(input_path, output_path, t=2, min_size=0.005)"
      ],
      "metadata": {
        "id": "roZDNQxZrhyB"
      },
      "execution_count": null,
      "outputs": []
    },
    {
      "cell_type": "markdown",
      "source": [
        "## Stuff for MUSDB18\n"
      ],
      "metadata": {
        "id": "EPhQ_bfGok6k"
      }
    },
    {
      "cell_type": "code",
      "source": [
        "music_test = \"/content/drive/MyDrive/Datasets/Music/MUSDB18/test\"\n",
        "music_train = \"/content/drive/MyDrive/Datasets/Music/MUSDB18/train\"\n",
        "\n",
        "music_test_output = music_test + \"-2s-44100\"\n",
        "music_train_output = music_train + \"-2s-44100\""
      ],
      "metadata": {
        "id": "EJ8CuwGfyeGR"
      },
      "execution_count": null,
      "outputs": []
    },
    {
      "cell_type": "code",
      "source": [
        "if False:\n",
        "  size_gb = get_folder_size_gb(music_test_output)\n",
        "  print(f\"Music Test Folder size: {size_gb:.2f} GB\")\n",
        "\n",
        "  size_gb = get_folder_size_gb(music_train_output)\n",
        "  print(f\"Music Train Folder size: {size_gb:.2f} GB\")"
      ],
      "metadata": {
        "id": "us2VLKRRybcC"
      },
      "execution_count": null,
      "outputs": []
    },
    {
      "cell_type": "code",
      "execution_count": null,
      "metadata": {
        "id": "duIyKdowqaTD"
      },
      "outputs": [],
      "source": [
        "# generate audio files for noise and music (2s)\n",
        "if False:\n",
        "  for input_path, output_path in [(music_test, music_test_output), (music_train, music_train_output)]:\n",
        "    print(input_path, output_path)\n",
        "    generate_audio_files(input_path, output_path, t=2)"
      ]
    },
    {
      "cell_type": "markdown",
      "metadata": {
        "id": "Rok94pBMqaTD"
      },
      "source": [
        "## Process files to H5"
      ]
    },
    {
      "cell_type": "code",
      "source": [
        "from audioautoencoder.generate_dataset import *"
      ],
      "metadata": {
        "id": "MLVSNiJoLmS7"
      },
      "execution_count": null,
      "outputs": []
    },
    {
      "cell_type": "code",
      "execution_count": null,
      "metadata": {
        "id": "6UtrrWsBqaTE"
      },
      "outputs": [],
      "source": [
        "GENERATE_H5_FILES = True\n",
        "checkpoint_file_size=50000\n",
        "if GENERATE_H5_FILES:\n",
        "  processor = DatasetProcessor(\n",
        "          train_music_dir='/content/drive/MyDrive/Datasets/Music/MUSDB18/train-2s-44100',\n",
        "          train_noise_dir='/content/drive/MyDrive/Datasets/Noise/splits_v2/train-2s-44100',\n",
        "          test_music_dir='/content/drive/MyDrive/Datasets/Music/MUSDB18/test-2s-44100',\n",
        "          test_noise_dir='/content/drive/MyDrive/Datasets/Noise/splits_v2/test-2s-44100',\n",
        "          output_dir='/content/drive/MyDrive/Datasets/Music-Noise/SNRdB_remapped-signal-level',\n",
        "          SNRdB=[-10, 10],\n",
        "          process_train=True,\n",
        "          process_test=True,\n",
        "          checkpoint_file_size=checkpoint_file_size,\n",
        "          batch_size=100\n",
        "      )\n",
        "  processor.process()\n",
        "\n",
        "if False:\n",
        "  processor = DatasetProcessor(\n",
        "          train_music_dir='/content/drive/MyDrive/Datasets/Music/MUSDB18/train-2s-44100',\n",
        "          train_noise_dir='/content/drive/MyDrive/Datasets/Noise/splits_v2/train-2s-44100',\n",
        "          test_music_dir='/content/drive/MyDrive/Datasets/Music/MUSDB18/test-2s-44100',\n",
        "          test_noise_dir='/content/drive/MyDrive/Datasets/Noise/splits_v2/test-2s-44100',\n",
        "          output_dir='/content/drive/MyDrive/Datasets/Music-Noise/SNRdB_remapped-signal-level',\n",
        "          SNRdB=[0, 20],\n",
        "          process_train=True,\n",
        "          process_test=True,\n",
        "          checkpoint_file_size=checkpoint_file_size,\n",
        "          batch_size=100\n",
        "      )\n",
        "  processor.process()\n",
        "\n",
        "  processor = DatasetProcessor(\n",
        "          train_music_dir='/content/drive/MyDrive/Datasets/Music/MUSDB18/train-2s-44100',\n",
        "          train_noise_dir='/content/drive/MyDrive/Datasets/Noise/splits_v2/train-2s-44100',\n",
        "          test_music_dir='/content/drive/MyDrive/Datasets/Music/MUSDB18/test-2s-44100',\n",
        "          test_noise_dir='/content/drive/MyDrive/Datasets/Noise/splits_v2/test-2s-44100',\n",
        "          output_dir='/content/drive/MyDrive/Datasets/Music-Noise/SNRdB_all-noise_features',\n",
        "          SNRdB=[10, 30],\n",
        "          process_train=True,\n",
        "          process_test=True,\n",
        "          checkpoint_file_size=checkpoint_file_size\n",
        "      )\n",
        "  processor.process()\n",
        "\n",
        "  processor = DatasetProcessor(\n",
        "          train_music_dir='/content/drive/MyDrive/Datasets/Music/MUSDB18/train-2s-44100',\n",
        "          train_noise_dir='/content/drive/MyDrive/Datasets/Noise/splits_v2/train-2s-44100',\n",
        "          test_music_dir='/content/drive/MyDrive/Datasets/Music/MUSDB18/test-2s-44100',\n",
        "          test_noise_dir='/content/drive/MyDrive/Datasets/Noise/splits_v2/test-2s-44100',\n",
        "          output_dir='/content/drive/MyDrive/Datasets/Music-Noise/SNRdB_mix_features',\n",
        "          SNRdB=[-10, 30],\n",
        "          process_train=True,\n",
        "          process_test=True,\n",
        "          mix_only=True,\n",
        "          checkpoint_file_size=checkpoint_file_size\n",
        "      )\n",
        "  processor.process()"
      ]
    },
    {
      "cell_type": "code",
      "source": [
        "processor = DatasetProcessor(\n",
        "        train_music_dir='/content/drive/MyDrive/Datasets/Music/Additional_Music/splits_v2/train-2s-44100',\n",
        "        train_noise_dir='/content/drive/MyDrive/Datasets/Noise/splits_v2/train-2s-44100',\n",
        "        test_music_dir='/content/drive/MyDrive/Datasets/Music/Additional_Music/splits_v2/test-2s-44100',\n",
        "        test_noise_dir='/content/drive/MyDrive/Datasets/Noise/splits_v2/test-2s-44100',\n",
        "        output_dir='/content/drive/MyDrive/Datasets/Music-Noise/SNRdB_all-noise_features_2',\n",
        "        SNRdB=[-10, 20],\n",
        "        process_train=True,\n",
        "        process_test=True,\n",
        "        checkpoint_file_size=100000,\n",
        "        batch_size=200\n",
        "    )\n",
        "processor.process()"
      ],
      "metadata": {
        "id": "tlIpJhjIm2wT"
      },
      "execution_count": null,
      "outputs": []
    },
    {
      "cell_type": "markdown",
      "metadata": {
        "id": "94FmdzEmqaTE"
      },
      "source": [
        "---"
      ]
    },
    {
      "cell_type": "markdown",
      "metadata": {
        "id": "0nQ8wGyTqaTE"
      },
      "source": []
    }
  ],
  "metadata": {
    "kernelspec": {
      "display_name": "Python 3",
      "name": "python3"
    },
    "language_info": {
      "codemirror_mode": {
        "name": "ipython",
        "version": 3
      },
      "file_extension": ".py",
      "mimetype": "text/x-python",
      "name": "python",
      "nbconvert_exporter": "python",
      "pygments_lexer": "ipython3",
      "version": "3.11.3"
    },
    "colab": {
      "provenance": []
    }
  },
  "nbformat": 4,
  "nbformat_minor": 0
}