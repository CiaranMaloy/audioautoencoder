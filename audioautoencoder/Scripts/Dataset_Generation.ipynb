{
  "cells": [
    {
      "cell_type": "markdown",
      "metadata": {
        "id": "hhjeAiJRqaTA"
      },
      "source": [
        "# Dataset Generation"
      ]
    },
    {
      "cell_type": "code",
      "execution_count": 2,
      "metadata": {
        "colab": {
          "base_uri": "https://localhost:8080/"
        },
        "id": "j2uW1R-NqaTB",
        "outputId": "e5dd5e50-42f0-401e-959d-1c903d629a89"
      },
      "outputs": [
        {
          "output_type": "stream",
          "name": "stdout",
          "text": [
            "Mounted at /content/drive\n"
          ]
        }
      ],
      "source": [
        "import sys\n",
        "import os\n",
        "\n",
        "# Detect Google Colab\n",
        "if \"google.colab\" in sys.modules:\n",
        "  from google.colab import drive\n",
        "  drive.mount('/content/drive')"
      ]
    },
    {
      "cell_type": "code",
      "execution_count": 3,
      "metadata": {
        "colab": {
          "base_uri": "https://localhost:8080/"
        },
        "id": "K9ohND2-qaTC",
        "outputId": "16ca808d-aa76-4d41-b0de-d179ddeb66a1"
      },
      "outputs": [
        {
          "output_type": "stream",
          "name": "stdout",
          "text": [
            "Running in Google Colab...\n"
          ]
        }
      ],
      "source": [
        "# Detect Google Colab\n",
        "if \"google.colab\" in sys.modules:\n",
        "    print(\"Running in Google Colab...\")\n",
        "    os.system(\"git clone https://github.com/CiaranMaloy/audioautoencoder\")\n",
        "    os.chdir(\"/content/audioautoencoder/\")\n",
        "    os.system(\"git pull\")\n",
        "    os.system(\"git checkout bandchannels\")\n",
        "    os.system(\"git pull origin bandchannels\")\n",
        "    #os.system(\"pip install --upgrade torchmetrics\")\n",
        "else:\n",
        "    print(\"Running locally...\")\n",
        "    os.system(\"git pull origin bandchannels\")\n",
        "    #os.system(\"pip install --upgrade torchmetrics\")\n"
      ]
    },
    {
      "cell_type": "code",
      "execution_count": 4,
      "metadata": {
        "id": "7TDd5eSmqaTC"
      },
      "outputs": [],
      "source": [
        "import sys\n",
        "sys.path.append('/content/audioautoencoder')\n",
        "sys.path.append('/content/audioautoencoder/audioautoencoder')"
      ]
    },
    {
      "cell_type": "markdown",
      "metadata": {
        "id": "ELoCObPCqaTC"
      },
      "source": [
        "## Data Generation"
      ]
    },
    {
      "cell_type": "code",
      "execution_count": 5,
      "metadata": {
        "id": "RiN3baczqaTC"
      },
      "outputs": [],
      "source": [
        "from audioautoencoder.data_management import *\n",
        "GENERATE=False"
      ]
    },
    {
      "cell_type": "code",
      "source": [
        "def get_folder_size_gb(folder_path):\n",
        "    total_size = 0\n",
        "    for dirpath, dirnames, filenames in os.walk(folder_path):\n",
        "        for filename in filenames:\n",
        "            file_path = os.path.join(dirpath, filename)\n",
        "            if os.path.exists(file_path):  # Ensure file exists before getting size\n",
        "                total_size += (os.path.getsize(file_path) / (1024 ** 3))\n",
        "    return total_size  # Convert bytes to gigabytes"
      ],
      "metadata": {
        "id": "J3IQdtJxugE_"
      },
      "execution_count": 6,
      "outputs": []
    },
    {
      "cell_type": "code",
      "execution_count": 7,
      "metadata": {
        "id": "7vK7KvwVqaTD"
      },
      "outputs": [],
      "source": [
        "# Example Usage\n",
        "dataset_dirs = [\"/content/drive/MyDrive/Datasets/Noise/All_Noise\"]\n",
        "output_dir = \"/content/drive/MyDrive/Datasets/Noise/splits_v2\"\n",
        "\n",
        "if GENERATE:\n",
        "  splits = create_datasets(dataset_dirs, output_dir)\n",
        "  save_splits_to_directories(splits, output_dir, max_workers=8)\n",
        "  print(\"Training Set:\", len(splits[\"train\"]))\n",
        "  print(\"Validation Set:\", len(splits[\"val\"]))\n",
        "  print(\"Testing Set:\", len(splits[\"test\"]))\n"
      ]
    },
    {
      "cell_type": "code",
      "source": [
        "from audioautoencoder.data import *"
      ],
      "metadata": {
        "id": "RdWz0iJQsN6c"
      },
      "execution_count": 8,
      "outputs": []
    },
    {
      "cell_type": "code",
      "source": [
        "noise_test = output_dir + \"/test\"\n",
        "noise_train = output_dir + \"/train\"\n",
        "\n",
        "size_gb = get_folder_size_gb(noise_test)\n",
        "print(f\"Test Folder total size: {size_gb:.2f} GB\")\n",
        "\n",
        "size_gb = get_folder_size_gb(noise_train)\n",
        "print(f\"Train Folder total size: {size_gb:.2f} GB\")"
      ],
      "metadata": {
        "colab": {
          "base_uri": "https://localhost:8080/"
        },
        "id": "sagjBBw5ur1M",
        "outputId": "47227758-e14d-450c-b846-364d6c2fc66e"
      },
      "execution_count": 9,
      "outputs": [
        {
          "output_type": "stream",
          "name": "stdout",
          "text": [
            "Test Folder total size: 0.98 GB\n",
            "Train Folder total size: 2.95 GB\n"
          ]
        }
      ]
    },
    {
      "cell_type": "code",
      "execution_count": 10,
      "metadata": {
        "id": "Vj0IY5diqaTD"
      },
      "outputs": [],
      "source": [
        "# generate audio files for noise and music (2s)\n",
        "noise_test_output = noise_test + \"-2s-44100\"\n",
        "noise_train_output = noise_train + \"-2s-44100\"\n",
        "\n",
        "if GENERATE:\n",
        "  for input_path, output_path in [(noise_test, noise_test_output), (noise_train, noise_train_output)]:\n",
        "    print(input_path, output_path)\n",
        "    generate_audio_files(input_path, output_path, t=2, min_size=0.005)"
      ]
    },
    {
      "cell_type": "code",
      "source": [
        "size_gb = get_folder_size_gb(noise_test_output)\n",
        "print(f\"Noise Test Folder size: {size_gb:.2f} GB\")\n",
        "\n",
        "size_gb = get_folder_size_gb(noise_train_output)\n",
        "print(f\"Noise Train Folder size: {size_gb:.2f} GB\")"
      ],
      "metadata": {
        "colab": {
          "base_uri": "https://localhost:8080/"
        },
        "id": "bKO-ayVguDae",
        "outputId": "ebdd7729-a0e7-4409-fdb9-375572354fd9"
      },
      "execution_count": 11,
      "outputs": [
        {
          "output_type": "stream",
          "name": "stdout",
          "text": [
            "Noise Test Folder size: 0.49 GB\n",
            "Noise Train Folder size: 1.24 GB\n"
          ]
        }
      ]
    },
    {
      "cell_type": "markdown",
      "source": [
        "## Generic Music Dataset"
      ],
      "metadata": {
        "id": "ayk5c8XZosHP"
      }
    },
    {
      "cell_type": "code",
      "source": [
        "# Example Usage\n",
        "GENERATE=False\n",
        "dataset_dirs = [\"/content/drive/Othercomputers/My Mac/PersonalMusic\"]\n",
        "output_dir = \"/content/drive/MyDrive/Datasets/Music/Additional_Music/splits_v2\"\n",
        "\n",
        "if GENERATE:\n",
        "  splits = create_datasets(dataset_dirs, output_dir, WAV=False, MP3=True)\n",
        "  print(\"Training Set:\", len(splits[\"train\"]))\n",
        "  print(\"Validation Set:\", len(splits[\"val\"]))\n",
        "  print(\"Testing Set:\", len(splits[\"test\"]))\n"
      ],
      "metadata": {
        "id": "ZEj2Nkw-opv4"
      },
      "execution_count": 12,
      "outputs": []
    },
    {
      "cell_type": "code",
      "source": [
        "if GENERATE:\n",
        "  save_splits_to_directories(splits, output_dir, max_workers=8)"
      ],
      "metadata": {
        "id": "DkeOWiO6q5N6"
      },
      "execution_count": 13,
      "outputs": []
    },
    {
      "cell_type": "code",
      "source": [
        "music_test = output_dir + \"/test\"\n",
        "music_train = output_dir + \"/train\"\n",
        "\n",
        "# generate audio files for noise and music (2s)\n",
        "music_test_output = music_test + \"-2s-44100\"\n",
        "music_train_output = music_train + \"-2s-44100\"\n",
        "\n",
        "if GENERATE:\n",
        "  for input_path, output_path in [(music_test, music_test_output), (music_train, music_train_output)]:\n",
        "    print(input_path, output_path)\n",
        "    generate_audio_files(input_path, output_path, t=2, min_size=0.005)"
      ],
      "metadata": {
        "id": "roZDNQxZrhyB"
      },
      "execution_count": 14,
      "outputs": []
    },
    {
      "cell_type": "markdown",
      "source": [
        "## Stuff for MUSDB18\n"
      ],
      "metadata": {
        "id": "EPhQ_bfGok6k"
      }
    },
    {
      "cell_type": "code",
      "source": [
        "music_test = \"/content/drive/MyDrive/Datasets/Music/MUSDB18/test\"\n",
        "music_train = \"/content/drive/MyDrive/Datasets/Music/MUSDB18/train\"\n",
        "\n",
        "music_test_output = music_test + \"-2s-44100\"\n",
        "music_train_output = music_train + \"-2s-44100\""
      ],
      "metadata": {
        "id": "EJ8CuwGfyeGR"
      },
      "execution_count": 15,
      "outputs": []
    },
    {
      "cell_type": "code",
      "source": [
        "if False:\n",
        "  size_gb = get_folder_size_gb(music_test_output)\n",
        "  print(f\"Music Test Folder size: {size_gb:.2f} GB\")\n",
        "\n",
        "  size_gb = get_folder_size_gb(music_train_output)\n",
        "  print(f\"Music Train Folder size: {size_gb:.2f} GB\")"
      ],
      "metadata": {
        "id": "us2VLKRRybcC"
      },
      "execution_count": 16,
      "outputs": []
    },
    {
      "cell_type": "code",
      "execution_count": 17,
      "metadata": {
        "id": "duIyKdowqaTD"
      },
      "outputs": [],
      "source": [
        "# generate audio files for noise and music (2s)\n",
        "if False:\n",
        "  for input_path, output_path in [(music_test, music_test_output), (music_train, music_train_output)]:\n",
        "    print(input_path, output_path)\n",
        "    generate_audio_files(input_path, output_path, t=2)"
      ]
    },
    {
      "cell_type": "markdown",
      "metadata": {
        "id": "Rok94pBMqaTD"
      },
      "source": [
        "## Process files to H5"
      ]
    },
    {
      "cell_type": "code",
      "source": [
        "from audioautoencoder.generate_dataset import *"
      ],
      "metadata": {
        "id": "MLVSNiJoLmS7"
      },
      "execution_count": 18,
      "outputs": []
    },
    {
      "cell_type": "code",
      "execution_count": 19,
      "metadata": {
        "id": "6UtrrWsBqaTE"
      },
      "outputs": [],
      "source": [
        "GENERATE_H5_FILES = False\n",
        "checkpoint_file_size=50000\n",
        "if GENERATE_H5_FILES:\n",
        "  processor = DatasetProcessor(\n",
        "          train_music_dir='/content/drive/MyDrive/Datasets/Music/MUSDB18/train-2s-44100',\n",
        "          train_noise_dir='/content/drive/MyDrive/Datasets/Noise/splits_v2/train-2s-44100',\n",
        "          test_music_dir='/content/drive/MyDrive/Datasets/Music/MUSDB18/test-2s-44100',\n",
        "          test_noise_dir='/content/drive/MyDrive/Datasets/Noise/splits_v2/test-2s-44100',\n",
        "          output_dir='/content/drive/MyDrive/Datasets/Music-Noise/SNRdB_all-noise_features',\n",
        "          SNRdB=[-10, 10],\n",
        "          process_train=True,\n",
        "          process_test=True,\n",
        "          checkpoint_file_size=checkpoint_file_size,\n",
        "          batch_size=100\n",
        "      )\n",
        "  processor.process()\n",
        "\n",
        "  processor = DatasetProcessor(\n",
        "          train_music_dir='/content/drive/MyDrive/Datasets/Music/MUSDB18/train-2s-44100',\n",
        "          train_noise_dir='/content/drive/MyDrive/Datasets/Noise/splits_v2/train-2s-44100',\n",
        "          test_music_dir='/content/drive/MyDrive/Datasets/Music/MUSDB18/test-2s-44100',\n",
        "          test_noise_dir='/content/drive/MyDrive/Datasets/Noise/splits_v2/test-2s-44100',\n",
        "          output_dir='/content/drive/MyDrive/Datasets/Music-Noise/SNRdB_all-noise_features',\n",
        "          SNRdB=[0, 20],\n",
        "          process_train=True,\n",
        "          process_test=True,\n",
        "          checkpoint_file_size=checkpoint_file_size,\n",
        "          batch_size=100\n",
        "      )\n",
        "  processor.process()\n",
        "\n",
        "  processor = DatasetProcessor(\n",
        "          train_music_dir='/content/drive/MyDrive/Datasets/Music/MUSDB18/train-2s-44100',\n",
        "          train_noise_dir='/content/drive/MyDrive/Datasets/Noise/splits_v2/train-2s-44100',\n",
        "          test_music_dir='/content/drive/MyDrive/Datasets/Music/MUSDB18/test-2s-44100',\n",
        "          test_noise_dir='/content/drive/MyDrive/Datasets/Noise/splits_v2/test-2s-44100',\n",
        "          output_dir='/content/drive/MyDrive/Datasets/Music-Noise/SNRdB_all-noise_features',\n",
        "          SNRdB=[10, 30],\n",
        "          process_train=True,\n",
        "          process_test=True,\n",
        "          checkpoint_file_size=checkpoint_file_size\n",
        "      )\n",
        "  processor.process()\n",
        "\n",
        "  processor = DatasetProcessor(\n",
        "          train_music_dir='/content/drive/MyDrive/Datasets/Music/MUSDB18/train-2s-44100',\n",
        "          train_noise_dir='/content/drive/MyDrive/Datasets/Noise/splits_v2/train-2s-44100',\n",
        "          test_music_dir='/content/drive/MyDrive/Datasets/Music/MUSDB18/test-2s-44100',\n",
        "          test_noise_dir='/content/drive/MyDrive/Datasets/Noise/splits_v2/test-2s-44100',\n",
        "          output_dir='/content/drive/MyDrive/Datasets/Music-Noise/SNRdB_mix_features',\n",
        "          SNRdB=[-10, 30],\n",
        "          process_train=True,\n",
        "          process_test=True,\n",
        "          mix_only=True,\n",
        "          checkpoint_file_size=checkpoint_file_size\n",
        "      )\n",
        "  processor.process()"
      ]
    },
    {
      "cell_type": "code",
      "source": [
        "processor = DatasetProcessor(\n",
        "        train_music_dir='/content/drive/MyDrive/Datasets/Music/Additional_Music/splits_v2/train-2s-44100',\n",
        "        train_noise_dir='/content/drive/MyDrive/Datasets/Noise/splits_v2/train-2s-44100',\n",
        "        test_music_dir='/content/drive/MyDrive/Datasets/Music/Additional_Music/splits_v2/test-2s-44100',\n",
        "        test_noise_dir='/content/drive/MyDrive/Datasets/Noise/splits_v2/test-2s-44100',\n",
        "        output_dir='/content/drive/MyDrive/Datasets/Music-Noise/SNRdB_all-noise_features_2',\n",
        "        SNRdB=[-10, 20],\n",
        "        process_train=True,\n",
        "        process_test=True,\n",
        "        checkpoint_file_size=100000,\n",
        "        batch_size=200\n",
        "    )\n",
        "processor.process()"
      ],
      "metadata": {
        "colab": {
          "base_uri": "https://localhost:8080/"
        },
        "id": "tlIpJhjIm2wT",
        "outputId": "11a74392-f0b0-4b28-825a-0bdb2a2d8658"
      },
      "execution_count": null,
      "outputs": [
        {
          "metadata": {
            "tags": null
          },
          "name": "stdout",
          "output_type": "stream",
          "text": [
            "Output Dir: /content/drive/MyDrive/Datasets/Music-Noise/SNRdB_all-noise_features_2\n",
            "Train Checkpoint File: /content/drive/MyDrive/Datasets/Music-Noise/SNRdB_all-noise_features_2/SNRdB_-10-20/train-SNRdB_-10-20-checkpoint.txt\n",
            "Train Output File: /content/drive/MyDrive/Datasets/Music-Noise/SNRdB_all-noise_features_2/SNRdB_-10-20/train/train-SNRdB_-10-20.h5\n",
            "Test Checkpoint File: /content/drive/MyDrive/Datasets/Music-Noise/SNRdB_all-noise_features_2/SNRdB_-10-20/test-SNRdB_-10-20-checkpoint.txt\n",
            "Test Output File: /content/drive/MyDrive/Datasets/Music-Noise/SNRdB_all-noise_features_2/SNRdB_-10-20/test/test-SNRdB_-10-20.h5\n",
            "Created directory: /content/drive/MyDrive/Datasets/Music-Noise/SNRdB_all-noise_features_2/SNRdB_-10-20/train\n",
            "Created directory: /content/drive/MyDrive/Datasets/Music-Noise/SNRdB_all-noise_features_2/SNRdB_-10-20/test\n",
            "Processing training dataset....\n",
            "Gathering wav files....\n",
            "Error accessing directory: [Errno 5] Input/output error: '/content/drive/MyDrive/Datasets/Music/Additional_Music/splits_v2/train-2s-44100'\n",
            "Error accessing directory: [Errno 5] Input/output error: '/content/drive/MyDrive/Datasets/Music/Additional_Music/splits_v2/train-2s-44100'\n",
            "Error accessing directory: [Errno 5] Input/output error: '/content/drive/MyDrive/Datasets/Music/Additional_Music/splits_v2/train-2s-44100'\n",
            "Error accessing directory: [Errno 5] Input/output error: '/content/drive/MyDrive/Datasets/Music/Additional_Music/splits_v2/train-2s-44100'\n",
            "Error accessing directory: [Errno 5] Input/output error: '/content/drive/MyDrive/Datasets/Music/Additional_Music/splits_v2/train-2s-44100'\n",
            "Error accessing directory: [Errno 5] Input/output error: '/content/drive/MyDrive/Datasets/Music/Additional_Music/splits_v2/train-2s-44100'\n",
            "Files processed:  161926\n",
            "Gathering noise files....\n",
            "Files processed:  7550\n",
            "Checkpoint file path: /content/drive/MyDrive/Datasets/Music-Noise/SNRdB_all-noise_features_2/SNRdB_-10-20/train-SNRdB_-10-20-checkpoint.txt\n",
            "Error reading file: [Errno 2] No such file or directory: '/content/drive/MyDrive/Datasets/Music-Noise/SNRdB_all-noise_features_2/SNRdB_-10-20/train-SNRdB_-10-20-checkpoint.txt'\n",
            "Resuming from batch index: 0\n"
          ]
        },
        {
          "metadata": {
            "tags": null
          },
          "name": "stderr",
          "output_type": "stream",
          "text": [
            "\rProcessing batches:   0%|          | 0/810 [00:00<?, ?batch/s]"
          ]
        },
        {
          "metadata": {
            "tags": null
          },
          "name": "stdout",
          "output_type": "stream",
          "text": [
            "Creating HDF5 file....\n",
            "Current file size: 0.6943744421005249\n",
            "Done /content/drive/MyDrive/Datasets/Music-Noise/SNRdB_all-noise_features_2/SNRdB_-10-20/train/train-SNRdB_-10-20_20250318_191421.h5\n"
          ]
        },
        {
          "metadata": {
            "tags": null
          },
          "name": "stderr",
          "output_type": "stream",
          "text": [
            "\rProcessing batches:   0%|          | 1/810 [04:52<65:44:12, 292.52s/batch]"
          ]
        },
        {
          "metadata": {
            "tags": null
          },
          "name": "stdout",
          "output_type": "stream",
          "text": [
            "Free disk space: 187.72 GB\n",
            "Creating HDF5 file....\n"
          ]
        },
        {
          "metadata": {
            "tags": null
          },
          "name": "stderr",
          "output_type": "stream",
          "text": [
            "\rProcessing batches:   0%|          | 2/810 [08:57<59:19:30, 264.32s/batch]"
          ]
        },
        {
          "metadata": {
            "tags": null
          },
          "name": "stdout",
          "output_type": "stream",
          "text": [
            "Current file size: 0.6943744421005249\n",
            "Done /content/drive/MyDrive/Datasets/Music-Noise/SNRdB_all-noise_features_2/SNRdB_-10-20/train/train-SNRdB_-10-20_20250318_191826.h5\n",
            "Free disk space: 186.96 GB\n",
            "Creating HDF5 file....\n"
          ]
        },
        {
          "metadata": {
            "tags": null
          },
          "name": "stderr",
          "output_type": "stream",
          "text": [
            "\rProcessing batches:   0%|          | 3/810 [13:05<57:38:51, 257.16s/batch]"
          ]
        },
        {
          "metadata": {
            "tags": null
          },
          "name": "stdout",
          "output_type": "stream",
          "text": [
            "Current file size: 0.6943744421005249\n",
            "Done /content/drive/MyDrive/Datasets/Music-Noise/SNRdB_all-noise_features_2/SNRdB_-10-20/train/train-SNRdB_-10-20_20250318_192233.h5\n",
            "Free disk space: 186.19 GB\n",
            "Creating HDF5 file....\n"
          ]
        },
        {
          "metadata": {
            "tags": null
          },
          "name": "stderr",
          "output_type": "stream",
          "text": [
            "\rProcessing batches:   0%|          | 4/810 [17:15<56:53:38, 254.12s/batch]"
          ]
        },
        {
          "metadata": {
            "tags": null
          },
          "name": "stdout",
          "output_type": "stream",
          "text": [
            "Current file size: 0.6943744421005249\n",
            "Done /content/drive/MyDrive/Datasets/Music-Noise/SNRdB_all-noise_features_2/SNRdB_-10-20/train/train-SNRdB_-10-20_20250318_192649.h5\n",
            "Free disk space: 185.43 GB\n",
            "Creating HDF5 file....\n",
            "Current file size: 0.6943744421005249\n",
            "Done /content/drive/MyDrive/Datasets/Music-Noise/SNRdB_all-noise_features_2/SNRdB_-10-20/train/train-SNRdB_-10-20_20250318_193043.h5\n"
          ]
        },
        {
          "metadata": {
            "tags": null
          },
          "name": "stderr",
          "output_type": "stream",
          "text": [
            "\rProcessing batches:   1%|          | 5/810 [21:11<55:21:45, 247.58s/batch]"
          ]
        },
        {
          "metadata": {
            "tags": null
          },
          "name": "stdout",
          "output_type": "stream",
          "text": [
            "Free disk space: 184.66 GB\n",
            "Creating HDF5 file....\n"
          ]
        },
        {
          "metadata": {
            "tags": null
          },
          "name": "stderr",
          "output_type": "stream",
          "text": [
            "\rProcessing batches:   1%|          | 6/810 [25:06<54:21:06, 243.37s/batch]"
          ]
        },
        {
          "metadata": {
            "tags": null
          },
          "name": "stdout",
          "output_type": "stream",
          "text": [
            "Current file size: 0.6943744421005249\n",
            "Done /content/drive/MyDrive/Datasets/Music-Noise/SNRdB_all-noise_features_2/SNRdB_-10-20/train/train-SNRdB_-10-20_20250318_193439.h5\n",
            "Free disk space: 183.90 GB\n",
            "Creating HDF5 file....\n"
          ]
        },
        {
          "metadata": {
            "tags": null
          },
          "name": "stderr",
          "output_type": "stream",
          "text": [
            "\rProcessing batches:   1%|          | 7/810 [28:57<53:21:20, 239.20s/batch]"
          ]
        },
        {
          "metadata": {
            "tags": null
          },
          "name": "stdout",
          "output_type": "stream",
          "text": [
            "Current file size: 0.6943744421005249\n",
            "Done /content/drive/MyDrive/Datasets/Music-Noise/SNRdB_all-noise_features_2/SNRdB_-10-20/train/train-SNRdB_-10-20_20250318_193828.h5\n",
            "Free disk space: 183.14 GB\n",
            "Creating HDF5 file....\n"
          ]
        },
        {
          "metadata": {
            "tags": null
          },
          "name": "stderr",
          "output_type": "stream",
          "text": [
            "\rProcessing batches:   1%|          | 8/810 [32:51<52:55:28, 237.57s/batch]"
          ]
        },
        {
          "metadata": {
            "tags": null
          },
          "name": "stdout",
          "output_type": "stream",
          "text": [
            "Current file size: 0.6943744421005249\n",
            "Done /content/drive/MyDrive/Datasets/Music-Noise/SNRdB_all-noise_features_2/SNRdB_-10-20/train/train-SNRdB_-10-20_20250318_194222.h5\n",
            "Free disk space: 182.38 GB\n",
            "Creating HDF5 file....\n",
            "Current file size: 0.6943744421005249\n",
            "Done /content/drive/MyDrive/Datasets/Music-Noise/SNRdB_all-noise_features_2/SNRdB_-10-20/train/train-SNRdB_-10-20_20250318_194616.h5\n"
          ]
        },
        {
          "metadata": {
            "tags": null
          },
          "name": "stderr",
          "output_type": "stream",
          "text": [
            "\rProcessing batches:   1%|          | 9/810 [36:43<52:31:43, 236.08s/batch]"
          ]
        },
        {
          "metadata": {
            "tags": null
          },
          "name": "stdout",
          "output_type": "stream",
          "text": [
            "Free disk space: 181.62 GB\n",
            "Creating HDF5 file....\n",
            "Current file size: 0.6943744421005249\n",
            "Done /content/drive/MyDrive/Datasets/Music-Noise/SNRdB_all-noise_features_2/SNRdB_-10-20/train/train-SNRdB_-10-20_20250318_195000.h5\n"
          ]
        },
        {
          "metadata": {
            "tags": null
          },
          "name": "stderr",
          "output_type": "stream",
          "text": [
            "\rProcessing batches:   1%|          | 10/810 [40:26<51:34:05, 232.06s/batch]"
          ]
        },
        {
          "metadata": {
            "tags": null
          },
          "name": "stdout",
          "output_type": "stream",
          "text": [
            "Free disk space: 180.87 GB\n",
            "Creating HDF5 file....\n",
            "Current file size: 0.6943744421005249\n",
            "Done /content/drive/MyDrive/Datasets/Music-Noise/SNRdB_all-noise_features_2/SNRdB_-10-20/train/train-SNRdB_-10-20_20250318_195343.h5\n"
          ]
        },
        {
          "metadata": {
            "tags": null
          },
          "name": "stderr",
          "output_type": "stream",
          "text": [
            "\rProcessing batches:   1%|▏         | 11/810 [44:13<51:09:19, 230.49s/batch]"
          ]
        },
        {
          "metadata": {
            "tags": null
          },
          "name": "stdout",
          "output_type": "stream",
          "text": [
            "Free disk space: 180.11 GB\n",
            "Creating HDF5 file....\n"
          ]
        },
        {
          "metadata": {
            "tags": null
          },
          "name": "stderr",
          "output_type": "stream",
          "text": [
            "\rProcessing batches:   1%|▏         | 12/810 [48:01<50:53:27, 229.58s/batch]"
          ]
        },
        {
          "metadata": {
            "tags": null
          },
          "name": "stdout",
          "output_type": "stream",
          "text": [
            "Current file size: 0.6943744421005249\n",
            "Done /content/drive/MyDrive/Datasets/Music-Noise/SNRdB_all-noise_features_2/SNRdB_-10-20/train/train-SNRdB_-10-20_20250318_195729.h5\n",
            "Free disk space: 179.36 GB\n",
            "Creating HDF5 file....\n",
            "Current file size: 0.6943744421005249\n",
            "Done /content/drive/MyDrive/Datasets/Music-Noise/SNRdB_all-noise_features_2/SNRdB_-10-20/train/train-SNRdB_-10-20_20250318_200118.h5\n"
          ]
        },
        {
          "metadata": {
            "tags": null
          },
          "name": "stderr",
          "output_type": "stream",
          "text": [
            "\rProcessing batches:   2%|▏         | 13/810 [51:48<50:37:46, 228.69s/batch]"
          ]
        },
        {
          "metadata": {
            "tags": null
          },
          "name": "stdout",
          "output_type": "stream",
          "text": [
            "Free disk space: 178.60 GB\n",
            "Creating HDF5 file....\n",
            "Current file size: 0.6943744421005249\n",
            "Done /content/drive/MyDrive/Datasets/Music-Noise/SNRdB_all-noise_features_2/SNRdB_-10-20/train/train-SNRdB_-10-20_20250318_200516.h5\n"
          ]
        },
        {
          "metadata": {
            "tags": null
          },
          "name": "stderr",
          "output_type": "stream",
          "text": [
            "\rProcessing batches:   2%|▏         | 14/810 [55:46<51:11:41, 231.53s/batch]"
          ]
        },
        {
          "metadata": {
            "tags": null
          },
          "name": "stdout",
          "output_type": "stream",
          "text": [
            "Free disk space: 177.85 GB\n",
            "Creating HDF5 file....\n",
            "Current file size: 0.6943744421005249\n",
            "Done /content/drive/MyDrive/Datasets/Music-Noise/SNRdB_all-noise_features_2/SNRdB_-10-20/train/train-SNRdB_-10-20_20250318_200857.h5\n",
            "Free disk space: 177.10 GB\n"
          ]
        },
        {
          "metadata": {
            "tags": null
          },
          "name": "stderr",
          "output_type": "stream",
          "text": [
            "\rProcessing batches:   2%|▏         | 15/810 [59:24<50:15:01, 227.55s/batch]"
          ]
        },
        {
          "metadata": {
            "tags": null
          },
          "name": "stdout",
          "output_type": "stream",
          "text": [
            "Creating HDF5 file....\n"
          ]
        },
        {
          "metadata": {
            "tags": null
          },
          "name": "stderr",
          "output_type": "stream",
          "text": [
            "\rProcessing batches:   2%|▏         | 16/810 [1:03:08<49:59:21, 226.65s/batch]"
          ]
        },
        {
          "metadata": {
            "tags": null
          },
          "name": "stdout",
          "output_type": "stream",
          "text": [
            "Current file size: 0.6943744421005249\n",
            "Done /content/drive/MyDrive/Datasets/Music-Noise/SNRdB_all-noise_features_2/SNRdB_-10-20/train/train-SNRdB_-10-20_20250318_201234.h5\n",
            "Free disk space: 176.34 GB\n",
            "Creating HDF5 file....\n",
            "Current file size: 0.6943744421005249\n",
            "Done /content/drive/MyDrive/Datasets/Music-Noise/SNRdB_all-noise_features_2/SNRdB_-10-20/train/train-SNRdB_-10-20_20250318_201619.h5\n"
          ]
        },
        {
          "metadata": {
            "tags": null
          },
          "name": "stderr",
          "output_type": "stream",
          "text": [
            "\rProcessing batches:   2%|▏         | 17/810 [1:06:48<49:26:04, 224.42s/batch]"
          ]
        },
        {
          "metadata": {
            "tags": null
          },
          "name": "stdout",
          "output_type": "stream",
          "text": [
            "Free disk space: 175.59 GB\n",
            "Creating HDF5 file....\n"
          ]
        },
        {
          "metadata": {
            "tags": null
          },
          "name": "stderr",
          "output_type": "stream",
          "text": [
            "\rProcessing batches:   2%|▏         | 18/810 [1:10:24<48:49:24, 221.93s/batch]"
          ]
        },
        {
          "metadata": {
            "tags": null
          },
          "name": "stdout",
          "output_type": "stream",
          "text": [
            "Current file size: 0.6943744421005249\n",
            "Done /content/drive/MyDrive/Datasets/Music-Noise/SNRdB_all-noise_features_2/SNRdB_-10-20/train/train-SNRdB_-10-20_20250318_201953.h5\n",
            "Free disk space: 174.84 GB\n",
            "Creating HDF5 file....\n"
          ]
        },
        {
          "metadata": {
            "tags": null
          },
          "name": "stderr",
          "output_type": "stream",
          "text": [
            "\rProcessing batches:   2%|▏         | 19/810 [1:14:07<48:49:30, 222.21s/batch]"
          ]
        },
        {
          "metadata": {
            "tags": null
          },
          "name": "stdout",
          "output_type": "stream",
          "text": [
            "Current file size: 0.6943744421005249\n",
            "Done /content/drive/MyDrive/Datasets/Music-Noise/SNRdB_all-noise_features_2/SNRdB_-10-20/train/train-SNRdB_-10-20_20250318_202332.h5\n",
            "Free disk space: 174.09 GB\n",
            "Creating HDF5 file....\n",
            "Current file size: 0.6943744421005249\n",
            "Done /content/drive/MyDrive/Datasets/Music-Noise/SNRdB_all-noise_features_2/SNRdB_-10-20/train/train-SNRdB_-10-20_20250318_202710.h5\n"
          ]
        },
        {
          "metadata": {
            "tags": null
          },
          "name": "stderr",
          "output_type": "stream",
          "text": [
            "\rProcessing batches:   2%|▏         | 20/810 [1:17:41<48:14:03, 219.80s/batch]"
          ]
        },
        {
          "metadata": {
            "tags": null
          },
          "name": "stdout",
          "output_type": "stream",
          "text": [
            "Free disk space: 173.34 GB\n",
            "Creating HDF5 file....\n"
          ]
        },
        {
          "metadata": {
            "tags": null
          },
          "name": "stderr",
          "output_type": "stream",
          "text": [
            "\rProcessing batches:   3%|▎         | 21/810 [1:21:15<47:46:58, 218.02s/batch]"
          ]
        },
        {
          "metadata": {
            "tags": null
          },
          "name": "stdout",
          "output_type": "stream",
          "text": [
            "Current file size: 0.6943744421005249\n",
            "Done /content/drive/MyDrive/Datasets/Music-Noise/SNRdB_all-noise_features_2/SNRdB_-10-20/train/train-SNRdB_-10-20_20250318_203048.h5\n",
            "Free disk space: 172.59 GB\n",
            "Creating HDF5 file....\n",
            "Current file size: 0.6943744421005249\n",
            "Done /content/drive/MyDrive/Datasets/Music-Noise/SNRdB_all-noise_features_2/SNRdB_-10-20/train/train-SNRdB_-10-20_20250318_203413.h5\n"
          ]
        },
        {
          "metadata": {
            "tags": null
          },
          "name": "stderr",
          "output_type": "stream",
          "text": [
            "\rProcessing batches:   3%|▎         | 22/810 [1:24:42<47:02:27, 214.91s/batch]"
          ]
        },
        {
          "metadata": {
            "tags": null
          },
          "name": "stdout",
          "output_type": "stream",
          "text": [
            "Free disk space: 171.84 GB\n",
            "Creating HDF5 file....\n"
          ]
        },
        {
          "metadata": {
            "tags": null
          },
          "name": "stderr",
          "output_type": "stream",
          "text": [
            "\rProcessing batches:   3%|▎         | 23/810 [1:28:08<46:20:17, 211.97s/batch]"
          ]
        },
        {
          "metadata": {
            "tags": null
          },
          "name": "stdout",
          "output_type": "stream",
          "text": [
            "Current file size: 0.6943744421005249\n",
            "Done /content/drive/MyDrive/Datasets/Music-Noise/SNRdB_all-noise_features_2/SNRdB_-10-20/train/train-SNRdB_-10-20_20250318_203736.h5\n",
            "Free disk space: 171.09 GB\n",
            "Creating HDF5 file....\n"
          ]
        },
        {
          "metadata": {
            "tags": null
          },
          "name": "stderr",
          "output_type": "stream",
          "text": [
            "\rProcessing batches:   3%|▎         | 24/810 [1:31:30<45:40:43, 209.22s/batch]"
          ]
        },
        {
          "metadata": {
            "tags": null
          },
          "name": "stdout",
          "output_type": "stream",
          "text": [
            "Current file size: 0.6943744421005249\n",
            "Done /content/drive/MyDrive/Datasets/Music-Noise/SNRdB_all-noise_features_2/SNRdB_-10-20/train/train-SNRdB_-10-20_20250318_204105.h5\n",
            "Free disk space: 170.34 GB\n",
            "Creating HDF5 file....\n",
            "Current file size: 0.6943744421005249\n",
            "Done /content/drive/MyDrive/Datasets/Music-Noise/SNRdB_all-noise_features_2/SNRdB_-10-20/train/train-SNRdB_-10-20_20250318_204420.h5\n"
          ]
        },
        {
          "metadata": {
            "tags": null
          },
          "name": "stderr",
          "output_type": "stream",
          "text": [
            "\rProcessing batches:   3%|▎         | 25/810 [1:34:45<44:38:43, 204.74s/batch]"
          ]
        },
        {
          "metadata": {
            "tags": null
          },
          "name": "stdout",
          "output_type": "stream",
          "text": [
            "Free disk space: 169.60 GB\n",
            "Creating HDF5 file....\n"
          ]
        },
        {
          "metadata": {
            "tags": null
          },
          "name": "stderr",
          "output_type": "stream",
          "text": [
            "\rProcessing batches:   3%|▎         | 26/810 [1:38:18<45:08:17, 207.27s/batch]"
          ]
        },
        {
          "metadata": {
            "tags": null
          },
          "name": "stdout",
          "output_type": "stream",
          "text": [
            "Current file size: 0.6943744421005249\n",
            "Done /content/drive/MyDrive/Datasets/Music-Noise/SNRdB_all-noise_features_2/SNRdB_-10-20/train/train-SNRdB_-10-20_20250318_204748.h5\n",
            "Free disk space: 168.85 GB\n",
            "Creating HDF5 file....\n",
            "Current file size: 0.6943744421005249\n",
            "Done /content/drive/MyDrive/Datasets/Music-Noise/SNRdB_all-noise_features_2/SNRdB_-10-20/train/train-SNRdB_-10-20_20250318_205112.h5\n"
          ]
        },
        {
          "metadata": {
            "tags": null
          },
          "name": "stderr",
          "output_type": "stream",
          "text": [
            "\rProcessing batches:   3%|▎         | 27/810 [1:41:41<44:49:46, 206.11s/batch]"
          ]
        },
        {
          "metadata": {
            "tags": null
          },
          "name": "stdout",
          "output_type": "stream",
          "text": [
            "Free disk space: 168.11 GB\n",
            "Creating HDF5 file....\n",
            "Current file size: 0.6943744421005249\n",
            "Done /content/drive/MyDrive/Datasets/Music-Noise/SNRdB_all-noise_features_2/SNRdB_-10-20/train/train-SNRdB_-10-20_20250318_205428.h5\n"
          ]
        },
        {
          "metadata": {
            "tags": null
          },
          "name": "stderr",
          "output_type": "stream",
          "text": [
            "\rProcessing batches:   3%|▎         | 28/810 [1:44:58<44:08:54, 203.24s/batch]"
          ]
        },
        {
          "metadata": {
            "tags": null
          },
          "name": "stdout",
          "output_type": "stream",
          "text": [
            "Free disk space: 167.36 GB\n",
            "Creating HDF5 file....\n"
          ]
        },
        {
          "metadata": {
            "tags": null
          },
          "name": "stderr",
          "output_type": "stream",
          "text": [
            "\rProcessing batches:   4%|▎         | 29/810 [1:51:12<55:12:02, 254.45s/batch]"
          ]
        },
        {
          "metadata": {
            "tags": null
          },
          "name": "stdout",
          "output_type": "stream",
          "text": [
            "Current file size: 0.6943744421005249\n",
            "Done /content/drive/MyDrive/Datasets/Music-Noise/SNRdB_all-noise_features_2/SNRdB_-10-20/train/train-SNRdB_-10-20_20250318_210046.h5\n",
            "Free disk space: 166.03 GB\n",
            "Creating HDF5 file....\n"
          ]
        },
        {
          "metadata": {
            "tags": null
          },
          "name": "stderr",
          "output_type": "stream",
          "text": [
            "\rProcessing batches:   4%|▎         | 30/810 [1:52:51<45:03:21, 207.95s/batch]"
          ]
        },
        {
          "metadata": {
            "tags": null
          },
          "name": "stdout",
          "output_type": "stream",
          "text": [
            "Current file size: 0.6943744421005249\n",
            "Done /content/drive/MyDrive/Datasets/Music-Noise/SNRdB_all-noise_features_2/SNRdB_-10-20/train/train-SNRdB_-10-20_20250318_210225.h5\n",
            "Free disk space: 165.30 GB\n",
            "Creating HDF5 file....\n"
          ]
        },
        {
          "metadata": {
            "tags": null
          },
          "name": "stderr",
          "output_type": "stream",
          "text": [
            "\rProcessing batches:   4%|▍         | 31/810 [1:54:27<37:41:25, 174.18s/batch]"
          ]
        },
        {
          "metadata": {
            "tags": null
          },
          "name": "stdout",
          "output_type": "stream",
          "text": [
            "Current file size: 0.6943744421005249\n",
            "Done /content/drive/MyDrive/Datasets/Music-Noise/SNRdB_all-noise_features_2/SNRdB_-10-20/train/train-SNRdB_-10-20_20250318_210401.h5\n",
            "Free disk space: 164.57 GB\n",
            "Creating HDF5 file....\n"
          ]
        },
        {
          "metadata": {
            "tags": null
          },
          "name": "stderr",
          "output_type": "stream",
          "text": [
            "\rProcessing batches:   4%|▍         | 32/810 [1:56:05<32:44:23, 151.50s/batch]"
          ]
        },
        {
          "metadata": {
            "tags": null
          },
          "name": "stdout",
          "output_type": "stream",
          "text": [
            "Current file size: 0.6943744421005249\n",
            "Done /content/drive/MyDrive/Datasets/Music-Noise/SNRdB_all-noise_features_2/SNRdB_-10-20/train/train-SNRdB_-10-20_20250318_210538.h5\n",
            "Free disk space: 163.84 GB\n",
            "Creating HDF5 file....\n"
          ]
        },
        {
          "metadata": {
            "tags": null
          },
          "name": "stderr",
          "output_type": "stream",
          "text": [
            "\rProcessing batches:   4%|▍         | 33/810 [1:57:49<29:37:27, 137.26s/batch]"
          ]
        },
        {
          "metadata": {
            "tags": null
          },
          "name": "stdout",
          "output_type": "stream",
          "text": [
            "Current file size: 0.6943744421005249\n",
            "Done /content/drive/MyDrive/Datasets/Music-Noise/SNRdB_all-noise_features_2/SNRdB_-10-20/train/train-SNRdB_-10-20_20250318_210725.h5\n",
            "Free disk space: 163.11 GB\n",
            "Creating HDF5 file....\n"
          ]
        },
        {
          "metadata": {
            "tags": null
          },
          "name": "stderr",
          "output_type": "stream",
          "text": [
            "\rProcessing batches:   4%|▍         | 34/810 [1:59:25<26:54:58, 124.87s/batch]"
          ]
        },
        {
          "metadata": {
            "tags": null
          },
          "name": "stdout",
          "output_type": "stream",
          "text": [
            "Current file size: 0.6943744421005249\n",
            "Done /content/drive/MyDrive/Datasets/Music-Noise/SNRdB_all-noise_features_2/SNRdB_-10-20/train/train-SNRdB_-10-20_20250318_210902.h5\n",
            "Free disk space: 162.39 GB\n",
            "Creating HDF5 file....\n"
          ]
        },
        {
          "metadata": {
            "tags": null
          },
          "name": "stderr",
          "output_type": "stream",
          "text": [
            "\rProcessing batches:   4%|▍         | 35/810 [2:01:05<25:15:26, 117.32s/batch]"
          ]
        },
        {
          "metadata": {
            "tags": null
          },
          "name": "stdout",
          "output_type": "stream",
          "text": [
            "Current file size: 0.6943744421005249\n",
            "Done /content/drive/MyDrive/Datasets/Music-Noise/SNRdB_all-noise_features_2/SNRdB_-10-20/train/train-SNRdB_-10-20_20250318_211038.h5\n",
            "Free disk space: 161.66 GB\n",
            "Creating HDF5 file....\n"
          ]
        },
        {
          "metadata": {
            "tags": null
          },
          "name": "stderr",
          "output_type": "stream",
          "text": [
            "\rProcessing batches:   4%|▍         | 36/810 [2:02:41<23:50:16, 110.87s/batch]"
          ]
        },
        {
          "metadata": {
            "tags": null
          },
          "name": "stdout",
          "output_type": "stream",
          "text": [
            "Current file size: 0.6943744421005249\n",
            "Done /content/drive/MyDrive/Datasets/Music-Noise/SNRdB_all-noise_features_2/SNRdB_-10-20/train/train-SNRdB_-10-20_20250318_211217.h5\n",
            "Free disk space: 160.93 GB\n",
            "Creating HDF5 file....\n"
          ]
        },
        {
          "metadata": {
            "tags": null
          },
          "name": "stderr",
          "output_type": "stream",
          "text": [
            "\rProcessing batches:   5%|▍         | 37/810 [2:04:14<22:41:48, 105.70s/batch]"
          ]
        },
        {
          "metadata": {
            "tags": null
          },
          "name": "stdout",
          "output_type": "stream",
          "text": [
            "Current file size: 0.6943744421005249\n",
            "Done /content/drive/MyDrive/Datasets/Music-Noise/SNRdB_all-noise_features_2/SNRdB_-10-20/train/train-SNRdB_-10-20_20250318_211350.h5\n",
            "Free disk space: 160.20 GB\n",
            "Creating HDF5 file....\n"
          ]
        },
        {
          "metadata": {
            "tags": null
          },
          "name": "stderr",
          "output_type": "stream",
          "text": [
            "\rProcessing batches:   5%|▍         | 38/810 [2:05:54<22:16:40, 103.89s/batch]"
          ]
        },
        {
          "metadata": {
            "tags": null
          },
          "name": "stdout",
          "output_type": "stream",
          "text": [
            "Current file size: 0.6943744421005249\n",
            "Done /content/drive/MyDrive/Datasets/Music-Noise/SNRdB_all-noise_features_2/SNRdB_-10-20/train/train-SNRdB_-10-20_20250318_211525.h5\n",
            "Free disk space: 159.48 GB\n",
            "Creating HDF5 file....\n"
          ]
        },
        {
          "metadata": {
            "tags": null
          },
          "name": "stderr",
          "output_type": "stream",
          "text": [
            "\rProcessing batches:   5%|▍         | 39/810 [2:07:37<22:10:10, 103.52s/batch]"
          ]
        },
        {
          "metadata": {
            "tags": null
          },
          "name": "stdout",
          "output_type": "stream",
          "text": [
            "Current file size: 0.6943744421005249\n",
            "Done /content/drive/MyDrive/Datasets/Music-Noise/SNRdB_all-noise_features_2/SNRdB_-10-20/train/train-SNRdB_-10-20_20250318_211712.h5\n",
            "Free disk space: 158.75 GB\n",
            "Creating HDF5 file....\n"
          ]
        },
        {
          "metadata": {
            "tags": null
          },
          "name": "stderr",
          "output_type": "stream",
          "text": [
            "\rProcessing batches:   5%|▍         | 40/810 [2:09:14<21:45:36, 101.74s/batch]"
          ]
        },
        {
          "metadata": {
            "tags": null
          },
          "name": "stdout",
          "output_type": "stream",
          "text": [
            "Current file size: 0.6943744421005249\n",
            "Done /content/drive/MyDrive/Datasets/Music-Noise/SNRdB_all-noise_features_2/SNRdB_-10-20/train/train-SNRdB_-10-20_20250318_211850.h5\n",
            "Free disk space: 158.02 GB\n",
            "Creating HDF5 file....\n"
          ]
        },
        {
          "metadata": {
            "tags": null
          },
          "name": "stderr",
          "output_type": "stream",
          "text": [
            "\rProcessing batches:   5%|▌         | 41/810 [2:10:54<21:35:09, 101.05s/batch]"
          ]
        },
        {
          "metadata": {
            "tags": null
          },
          "name": "stdout",
          "output_type": "stream",
          "text": [
            "Current file size: 0.6943744421005249\n",
            "Done /content/drive/MyDrive/Datasets/Music-Noise/SNRdB_all-noise_features_2/SNRdB_-10-20/train/train-SNRdB_-10-20_20250318_212026.h5\n",
            "Free disk space: 157.29 GB\n",
            "Creating HDF5 file....\n"
          ]
        },
        {
          "metadata": {
            "tags": null
          },
          "name": "stderr",
          "output_type": "stream",
          "text": [
            "\rProcessing batches:   5%|▌         | 42/810 [2:12:26<21:00:44, 98.50s/batch] "
          ]
        },
        {
          "metadata": {
            "tags": null
          },
          "name": "stdout",
          "output_type": "stream",
          "text": [
            "Current file size: 0.6943744421005249\n",
            "Done /content/drive/MyDrive/Datasets/Music-Noise/SNRdB_all-noise_features_2/SNRdB_-10-20/train/train-SNRdB_-10-20_20250318_212206.h5\n",
            "Free disk space: 156.56 GB\n",
            "Creating HDF5 file....\n"
          ]
        },
        {
          "metadata": {
            "tags": null
          },
          "name": "stderr",
          "output_type": "stream",
          "text": [
            "\rProcessing batches:   5%|▌         | 43/810 [2:14:02<20:48:15, 97.65s/batch]"
          ]
        },
        {
          "metadata": {
            "tags": null
          },
          "name": "stdout",
          "output_type": "stream",
          "text": [
            "Current file size: 0.6943744421005249\n",
            "Done /content/drive/MyDrive/Datasets/Music-Noise/SNRdB_all-noise_features_2/SNRdB_-10-20/train/train-SNRdB_-10-20_20250318_212336.h5\n",
            "Free disk space: 155.83 GB\n",
            "Creating HDF5 file....\n"
          ]
        },
        {
          "metadata": {
            "tags": null
          },
          "name": "stderr",
          "output_type": "stream",
          "text": [
            "\rProcessing batches:   5%|▌         | 44/810 [2:15:55<21:47:55, 102.45s/batch]"
          ]
        },
        {
          "metadata": {
            "tags": null
          },
          "name": "stdout",
          "output_type": "stream",
          "text": [
            "Current file size: 0.6943744421005249\n",
            "Done /content/drive/MyDrive/Datasets/Music-Noise/SNRdB_all-noise_features_2/SNRdB_-10-20/train/train-SNRdB_-10-20_20250318_212529.h5\n",
            "Free disk space: 155.10 GB\n",
            "Creating HDF5 file....\n"
          ]
        },
        {
          "metadata": {
            "tags": null
          },
          "name": "stderr",
          "output_type": "stream",
          "text": [
            "\rProcessing batches:   6%|▌         | 45/810 [2:17:38<21:45:27, 102.39s/batch]"
          ]
        },
        {
          "metadata": {
            "tags": null
          },
          "name": "stdout",
          "output_type": "stream",
          "text": [
            "Current file size: 0.6943744421005249\n",
            "Done /content/drive/MyDrive/Datasets/Music-Noise/SNRdB_all-noise_features_2/SNRdB_-10-20/train/train-SNRdB_-10-20_20250318_212711.h5\n",
            "Free disk space: 154.38 GB\n",
            "Creating HDF5 file....\n"
          ]
        },
        {
          "metadata": {
            "tags": null
          },
          "name": "stderr",
          "output_type": "stream",
          "text": [
            "\rProcessing batches:   6%|▌         | 46/810 [2:19:13<21:16:25, 100.24s/batch]"
          ]
        },
        {
          "metadata": {
            "tags": null
          },
          "name": "stdout",
          "output_type": "stream",
          "text": [
            "Current file size: 0.6943744421005249\n",
            "Done /content/drive/MyDrive/Datasets/Music-Noise/SNRdB_all-noise_features_2/SNRdB_-10-20/train/train-SNRdB_-10-20_20250318_212852.h5\n",
            "Free disk space: 153.65 GB\n",
            "Creating HDF5 file....\n"
          ]
        },
        {
          "metadata": {
            "tags": null
          },
          "name": "stderr",
          "output_type": "stream",
          "text": [
            "\rProcessing batches:   6%|▌         | 47/810 [2:20:54<21:16:21, 100.37s/batch]"
          ]
        },
        {
          "metadata": {
            "tags": null
          },
          "name": "stdout",
          "output_type": "stream",
          "text": [
            "Current file size: 0.6943744421005249\n",
            "Done /content/drive/MyDrive/Datasets/Music-Noise/SNRdB_all-noise_features_2/SNRdB_-10-20/train/train-SNRdB_-10-20_20250318_213027.h5\n",
            "Free disk space: 152.92 GB\n",
            "Creating HDF5 file....\n"
          ]
        },
        {
          "metadata": {
            "tags": null
          },
          "name": "stderr",
          "output_type": "stream",
          "text": [
            "\rProcessing batches:   6%|▌         | 48/810 [2:22:37<21:25:45, 101.24s/batch]"
          ]
        },
        {
          "metadata": {
            "tags": null
          },
          "name": "stdout",
          "output_type": "stream",
          "text": [
            "Current file size: 0.6943744421005249\n",
            "Done /content/drive/MyDrive/Datasets/Music-Noise/SNRdB_all-noise_features_2/SNRdB_-10-20/train/train-SNRdB_-10-20_20250318_213208.h5\n",
            "Free disk space: 152.94 GB\n",
            "Creating HDF5 file....\n"
          ]
        },
        {
          "metadata": {
            "tags": null
          },
          "name": "stderr",
          "output_type": "stream",
          "text": [
            "\rProcessing batches:   6%|▌         | 49/810 [2:24:14<21:10:07, 100.14s/batch]"
          ]
        },
        {
          "metadata": {
            "tags": null
          },
          "name": "stdout",
          "output_type": "stream",
          "text": [
            "Current file size: 0.6943744421005249\n",
            "Done /content/drive/MyDrive/Datasets/Music-Noise/SNRdB_all-noise_features_2/SNRdB_-10-20/train/train-SNRdB_-10-20_20250318_213352.h5\n",
            "Free disk space: 152.98 GB\n",
            "Creating HDF5 file....\n",
            "Current file size: 0.6943744421005249\n",
            "Done /content/drive/MyDrive/Datasets/Music-Noise/SNRdB_all-noise_features_2/SNRdB_-10-20/train/train-SNRdB_-10-20_20250318_213531.h5\n"
          ]
        },
        {
          "metadata": {
            "tags": null
          },
          "name": "stderr",
          "output_type": "stream",
          "text": [
            "\rProcessing batches:   6%|▌         | 50/810 [2:25:56<21:13:33, 100.54s/batch]"
          ]
        },
        {
          "metadata": {
            "tags": null
          },
          "name": "stdout",
          "output_type": "stream",
          "text": [
            "Free disk space: 152.96 GB\n",
            "Creating HDF5 file....\n"
          ]
        },
        {
          "metadata": {
            "tags": null
          },
          "name": "stderr",
          "output_type": "stream",
          "text": [
            "\rProcessing batches:   6%|▋         | 51/810 [2:27:30<20:47:21, 98.60s/batch] "
          ]
        },
        {
          "metadata": {
            "tags": null
          },
          "name": "stdout",
          "output_type": "stream",
          "text": [
            "Current file size: 0.6943744421005249\n",
            "Done /content/drive/MyDrive/Datasets/Music-Noise/SNRdB_all-noise_features_2/SNRdB_-10-20/train/train-SNRdB_-10-20_20250318_213709.h5\n",
            "Free disk space: 152.94 GB\n",
            "Creating HDF5 file....\n"
          ]
        },
        {
          "metadata": {
            "tags": null
          },
          "name": "stderr",
          "output_type": "stream",
          "text": [
            "\rProcessing batches:   6%|▋         | 52/810 [2:29:08<20:41:27, 98.27s/batch]"
          ]
        },
        {
          "metadata": {
            "tags": null
          },
          "name": "stdout",
          "output_type": "stream",
          "text": [
            "Current file size: 0.6943744421005249\n",
            "Done /content/drive/MyDrive/Datasets/Music-Noise/SNRdB_all-noise_features_2/SNRdB_-10-20/train/train-SNRdB_-10-20_20250318_213844.h5\n",
            "Free disk space: 152.93 GB\n",
            "Creating HDF5 file....\n"
          ]
        },
        {
          "metadata": {
            "tags": null
          },
          "name": "stderr",
          "output_type": "stream",
          "text": [
            "\rProcessing batches:   7%|▋         | 53/810 [2:30:45<20:36:00, 97.97s/batch]"
          ]
        },
        {
          "metadata": {
            "tags": null
          },
          "name": "stdout",
          "output_type": "stream",
          "text": [
            "Current file size: 0.6943744421005249\n",
            "Done /content/drive/MyDrive/Datasets/Music-Noise/SNRdB_all-noise_features_2/SNRdB_-10-20/train/train-SNRdB_-10-20_20250318_214018.h5\n",
            "Free disk space: 152.90 GB\n",
            "Creating HDF5 file....\n"
          ]
        },
        {
          "metadata": {
            "tags": null
          },
          "name": "stderr",
          "output_type": "stream",
          "text": [
            "\rProcessing batches:   7%|▋         | 54/810 [2:32:23<20:36:57, 98.17s/batch]"
          ]
        },
        {
          "metadata": {
            "tags": null
          },
          "name": "stdout",
          "output_type": "stream",
          "text": [
            "Current file size: 0.6943744421005249\n",
            "Done /content/drive/MyDrive/Datasets/Music-Noise/SNRdB_all-noise_features_2/SNRdB_-10-20/train/train-SNRdB_-10-20_20250318_214155.h5\n",
            "Free disk space: 152.87 GB\n",
            "Creating HDF5 file....\n"
          ]
        },
        {
          "metadata": {
            "tags": null
          },
          "name": "stderr",
          "output_type": "stream",
          "text": [
            "\rProcessing batches:   7%|▋         | 55/810 [2:34:00<20:28:57, 97.67s/batch]"
          ]
        },
        {
          "metadata": {
            "tags": null
          },
          "name": "stdout",
          "output_type": "stream",
          "text": [
            "Current file size: 0.6943744421005249\n",
            "Done /content/drive/MyDrive/Datasets/Music-Noise/SNRdB_all-noise_features_2/SNRdB_-10-20/train/train-SNRdB_-10-20_20250318_214334.h5\n",
            "Free disk space: 152.85 GB\n",
            "Creating HDF5 file....\n"
          ]
        },
        {
          "metadata": {
            "tags": null
          },
          "name": "stderr",
          "output_type": "stream",
          "text": [
            "\rProcessing batches:   7%|▋         | 56/810 [2:35:35<20:18:46, 96.99s/batch]"
          ]
        },
        {
          "metadata": {
            "tags": null
          },
          "name": "stdout",
          "output_type": "stream",
          "text": [
            "Current file size: 0.6943744421005249\n",
            "Done /content/drive/MyDrive/Datasets/Music-Noise/SNRdB_all-noise_features_2/SNRdB_-10-20/train/train-SNRdB_-10-20_20250318_214513.h5\n",
            "Free disk space: 153.53 GB\n",
            "Creating HDF5 file....\n"
          ]
        },
        {
          "metadata": {
            "tags": null
          },
          "name": "stderr",
          "output_type": "stream",
          "text": [
            "\rProcessing batches:   7%|▋         | 57/810 [2:37:18<20:37:03, 98.57s/batch]"
          ]
        },
        {
          "metadata": {
            "tags": null
          },
          "name": "stdout",
          "output_type": "stream",
          "text": [
            "Current file size: 0.6943744421005249\n",
            "Done /content/drive/MyDrive/Datasets/Music-Noise/SNRdB_all-noise_features_2/SNRdB_-10-20/train/train-SNRdB_-10-20_20250318_214651.h5\n",
            "Free disk space: 152.85 GB\n",
            "Creating HDF5 file....\n"
          ]
        },
        {
          "metadata": {
            "tags": null
          },
          "name": "stderr",
          "output_type": "stream",
          "text": [
            "\rProcessing batches:   7%|▋         | 58/810 [2:39:02<20:56:16, 100.23s/batch]"
          ]
        },
        {
          "metadata": {
            "tags": null
          },
          "name": "stdout",
          "output_type": "stream",
          "text": [
            "Current file size: 0.6943744421005249\n",
            "Done /content/drive/MyDrive/Datasets/Music-Noise/SNRdB_all-noise_features_2/SNRdB_-10-20/train/train-SNRdB_-10-20_20250318_214829.h5\n",
            "Free disk space: 152.85 GB\n",
            "Creating HDF5 file....\n"
          ]
        },
        {
          "metadata": {
            "tags": null
          },
          "name": "stderr",
          "output_type": "stream",
          "text": [
            "\rProcessing batches:   7%|▋         | 59/810 [2:40:38<20:38:31, 98.95s/batch] "
          ]
        },
        {
          "metadata": {
            "tags": null
          },
          "name": "stdout",
          "output_type": "stream",
          "text": [
            "Current file size: 0.6943744421005249\n",
            "Done /content/drive/MyDrive/Datasets/Music-Noise/SNRdB_all-noise_features_2/SNRdB_-10-20/train/train-SNRdB_-10-20_20250318_215013.h5\n",
            "Free disk space: 152.87 GB\n",
            "Creating HDF5 file....\n"
          ]
        },
        {
          "metadata": {
            "tags": null
          },
          "name": "stderr",
          "output_type": "stream",
          "text": [
            "\rProcessing batches:   7%|▋         | 60/810 [2:42:17<20:37:53, 99.03s/batch]"
          ]
        },
        {
          "metadata": {
            "tags": null
          },
          "name": "stdout",
          "output_type": "stream",
          "text": [
            "Current file size: 0.6943744421005249\n",
            "Done /content/drive/MyDrive/Datasets/Music-Noise/SNRdB_all-noise_features_2/SNRdB_-10-20/train/train-SNRdB_-10-20_20250318_215152.h5\n",
            "Free disk space: 152.88 GB\n",
            "Creating HDF5 file....\n"
          ]
        },
        {
          "metadata": {
            "tags": null
          },
          "name": "stderr",
          "output_type": "stream",
          "text": [
            "\rProcessing batches:   8%|▊         | 61/810 [2:43:56<20:36:39, 99.06s/batch]"
          ]
        },
        {
          "metadata": {
            "tags": null
          },
          "name": "stdout",
          "output_type": "stream",
          "text": [
            "Current file size: 0.6943744421005249\n",
            "Done /content/drive/MyDrive/Datasets/Music-Noise/SNRdB_all-noise_features_2/SNRdB_-10-20/train/train-SNRdB_-10-20_20250318_215329.h5\n",
            "Free disk space: 152.86 GB\n",
            "Creating HDF5 file....\n"
          ]
        },
        {
          "metadata": {
            "tags": null
          },
          "name": "stderr",
          "output_type": "stream",
          "text": [
            "\rProcessing batches:   8%|▊         | 62/810 [2:45:38<20:47:15, 100.05s/batch]"
          ]
        },
        {
          "metadata": {
            "tags": null
          },
          "name": "stdout",
          "output_type": "stream",
          "text": [
            "Current file size: 0.6943744421005249\n",
            "Done /content/drive/MyDrive/Datasets/Music-Noise/SNRdB_all-noise_features_2/SNRdB_-10-20/train/train-SNRdB_-10-20_20250318_215509.h5\n",
            "Free disk space: 152.88 GB\n",
            "Creating HDF5 file....\n"
          ]
        },
        {
          "metadata": {
            "tags": null
          },
          "name": "stderr",
          "output_type": "stream",
          "text": [
            "\rProcessing batches:   8%|▊         | 63/810 [2:47:19<20:47:41, 100.22s/batch]"
          ]
        },
        {
          "metadata": {
            "tags": null
          },
          "name": "stdout",
          "output_type": "stream",
          "text": [
            "Current file size: 0.6943744421005249\n",
            "Done /content/drive/MyDrive/Datasets/Music-Noise/SNRdB_all-noise_features_2/SNRdB_-10-20/train/train-SNRdB_-10-20_20250318_215655.h5\n",
            "Free disk space: 152.90 GB\n",
            "Creating HDF5 file....\n"
          ]
        },
        {
          "metadata": {
            "tags": null
          },
          "name": "stderr",
          "output_type": "stream",
          "text": [
            "\rProcessing batches:   8%|▊         | 64/810 [2:48:54<20:28:12, 98.78s/batch] "
          ]
        },
        {
          "metadata": {
            "tags": null
          },
          "name": "stdout",
          "output_type": "stream",
          "text": [
            "Current file size: 0.6943744421005249\n",
            "Done /content/drive/MyDrive/Datasets/Music-Noise/SNRdB_all-noise_features_2/SNRdB_-10-20/train/train-SNRdB_-10-20_20250318_215833.h5\n",
            "Free disk space: 152.89 GB\n",
            "Creating HDF5 file....\n"
          ]
        },
        {
          "metadata": {
            "tags": null
          },
          "name": "stderr",
          "output_type": "stream",
          "text": [
            "\rProcessing batches:   8%|▊         | 65/810 [2:50:31<20:19:21, 98.20s/batch]"
          ]
        },
        {
          "metadata": {
            "tags": null
          },
          "name": "stdout",
          "output_type": "stream",
          "text": [
            "Current file size: 0.6943744421005249\n",
            "Done /content/drive/MyDrive/Datasets/Music-Noise/SNRdB_all-noise_features_2/SNRdB_-10-20/train/train-SNRdB_-10-20_20250318_220004.h5\n",
            "Free disk space: 152.91 GB\n",
            "Creating HDF5 file....\n"
          ]
        },
        {
          "metadata": {
            "tags": null
          },
          "name": "stderr",
          "output_type": "stream",
          "text": [
            "\rProcessing batches:   8%|▊         | 66/810 [2:52:10<20:21:08, 98.48s/batch]"
          ]
        },
        {
          "metadata": {
            "tags": null
          },
          "name": "stdout",
          "output_type": "stream",
          "text": [
            "Current file size: 0.6943744421005249\n",
            "Done /content/drive/MyDrive/Datasets/Music-Noise/SNRdB_all-noise_features_2/SNRdB_-10-20/train/train-SNRdB_-10-20_20250318_220142.h5\n",
            "Free disk space: 152.88 GB\n",
            "Creating HDF5 file....\n"
          ]
        },
        {
          "metadata": {
            "tags": null
          },
          "name": "stderr",
          "output_type": "stream",
          "text": [
            "\rProcessing batches:   8%|▊         | 67/810 [2:53:47<20:14:23, 98.07s/batch]"
          ]
        },
        {
          "metadata": {
            "tags": null
          },
          "name": "stdout",
          "output_type": "stream",
          "text": [
            "Current file size: 0.6943744421005249\n",
            "Done /content/drive/MyDrive/Datasets/Music-Noise/SNRdB_all-noise_features_2/SNRdB_-10-20/train/train-SNRdB_-10-20_20250318_220320.h5\n",
            "Free disk space: 152.86 GB\n",
            "Creating HDF5 file....\n"
          ]
        },
        {
          "metadata": {
            "tags": null
          },
          "name": "stderr",
          "output_type": "stream",
          "text": [
            "\rProcessing batches:   8%|▊         | 68/810 [2:55:25<20:09:24, 97.80s/batch]"
          ]
        },
        {
          "metadata": {
            "tags": null
          },
          "name": "stdout",
          "output_type": "stream",
          "text": [
            "Current file size: 0.6943744421005249\n",
            "Done /content/drive/MyDrive/Datasets/Music-Noise/SNRdB_all-noise_features_2/SNRdB_-10-20/train/train-SNRdB_-10-20_20250318_220459.h5\n",
            "Free disk space: 152.85 GB\n",
            "Creating HDF5 file....\n"
          ]
        },
        {
          "metadata": {
            "tags": null
          },
          "name": "stderr",
          "output_type": "stream",
          "text": [
            "\rProcessing batches:   9%|▊         | 69/810 [2:57:14<20:51:12, 101.31s/batch]"
          ]
        },
        {
          "metadata": {
            "tags": null
          },
          "name": "stdout",
          "output_type": "stream",
          "text": [
            "Current file size: 0.6943744421005249\n",
            "Done /content/drive/MyDrive/Datasets/Music-Noise/SNRdB_all-noise_features_2/SNRdB_-10-20/train/train-SNRdB_-10-20_20250318_220641.h5\n",
            "Free disk space: 152.85 GB\n",
            "Creating HDF5 file....\n"
          ]
        },
        {
          "metadata": {
            "tags": null
          },
          "name": "stderr",
          "output_type": "stream",
          "text": [
            "\rProcessing batches:   9%|▊         | 70/810 [2:58:54<20:45:53, 101.02s/batch]"
          ]
        },
        {
          "metadata": {
            "tags": null
          },
          "name": "stdout",
          "output_type": "stream",
          "text": [
            "Current file size: 0.6943744421005249\n",
            "Done /content/drive/MyDrive/Datasets/Music-Noise/SNRdB_all-noise_features_2/SNRdB_-10-20/train/train-SNRdB_-10-20_20250318_220828.h5\n",
            "Free disk space: 152.85 GB\n",
            "Creating HDF5 file....\n"
          ]
        },
        {
          "metadata": {
            "tags": null
          },
          "name": "stderr",
          "output_type": "stream",
          "text": [
            "\rProcessing batches:   9%|▉         | 71/810 [3:00:56<21:59:10, 107.11s/batch]"
          ]
        },
        {
          "metadata": {
            "tags": null
          },
          "name": "stdout",
          "output_type": "stream",
          "text": [
            "Current file size: 0.6943744421005249\n",
            "Done /content/drive/MyDrive/Datasets/Music-Noise/SNRdB_all-noise_features_2/SNRdB_-10-20/train/train-SNRdB_-10-20_20250318_221028.h5\n",
            "Free disk space: 153.53 GB\n",
            "Creating HDF5 file....\n"
          ]
        },
        {
          "metadata": {
            "tags": null
          },
          "name": "stderr",
          "output_type": "stream",
          "text": [
            "\rProcessing batches:   9%|▉         | 72/810 [3:02:39<21:44:20, 106.04s/batch]"
          ]
        },
        {
          "metadata": {
            "tags": null
          },
          "name": "stdout",
          "output_type": "stream",
          "text": [
            "Current file size: 0.6943744421005249\n",
            "Done /content/drive/MyDrive/Datasets/Music-Noise/SNRdB_all-noise_features_2/SNRdB_-10-20/train/train-SNRdB_-10-20_20250318_221212.h5\n",
            "Free disk space: 152.85 GB\n",
            "Creating HDF5 file....\n"
          ]
        },
        {
          "metadata": {
            "tags": null
          },
          "name": "stderr",
          "output_type": "stream",
          "text": [
            "\rProcessing batches:   9%|▉         | 73/810 [3:04:13<20:58:05, 102.42s/batch]"
          ]
        },
        {
          "metadata": {
            "tags": null
          },
          "name": "stdout",
          "output_type": "stream",
          "text": [
            "Current file size: 0.6943744421005249\n",
            "Done /content/drive/MyDrive/Datasets/Music-Noise/SNRdB_all-noise_features_2/SNRdB_-10-20/train/train-SNRdB_-10-20_20250318_221351.h5\n",
            "Free disk space: 152.85 GB\n",
            "Creating HDF5 file....\n"
          ]
        },
        {
          "metadata": {
            "tags": null
          },
          "name": "stderr",
          "output_type": "stream",
          "text": [
            "\rProcessing batches:   9%|▉         | 74/810 [3:05:55<20:54:22, 102.26s/batch]"
          ]
        },
        {
          "metadata": {
            "tags": null
          },
          "name": "stdout",
          "output_type": "stream",
          "text": [
            "Current file size: 0.6943744421005249\n",
            "Done /content/drive/MyDrive/Datasets/Music-Noise/SNRdB_all-noise_features_2/SNRdB_-10-20/train/train-SNRdB_-10-20_20250318_221529.h5\n",
            "Free disk space: 152.85 GB\n",
            "Creating HDF5 file....\n"
          ]
        },
        {
          "metadata": {
            "tags": null
          },
          "name": "stderr",
          "output_type": "stream",
          "text": [
            "\rProcessing batches:   9%|▉         | 75/810 [3:07:34<20:38:25, 101.10s/batch]"
          ]
        },
        {
          "metadata": {
            "tags": null
          },
          "name": "stdout",
          "output_type": "stream",
          "text": [
            "Current file size: 0.6943744421005249\n",
            "Done /content/drive/MyDrive/Datasets/Music-Noise/SNRdB_all-noise_features_2/SNRdB_-10-20/train/train-SNRdB_-10-20_20250318_221709.h5\n",
            "Free disk space: 153.10 GB\n",
            "Creating HDF5 file....\n"
          ]
        },
        {
          "metadata": {
            "tags": null
          },
          "name": "stderr",
          "output_type": "stream",
          "text": [
            "\rProcessing batches:   9%|▉         | 76/810 [3:09:24<21:11:45, 103.96s/batch]"
          ]
        },
        {
          "metadata": {
            "tags": null
          },
          "name": "stdout",
          "output_type": "stream",
          "text": [
            "Current file size: 0.6943744421005249\n",
            "Done /content/drive/MyDrive/Datasets/Music-Noise/SNRdB_all-noise_features_2/SNRdB_-10-20/train/train-SNRdB_-10-20_20250318_221856.h5\n",
            "Free disk space: 153.21 GB\n",
            "Creating HDF5 file....\n"
          ]
        },
        {
          "metadata": {
            "tags": null
          },
          "name": "stderr",
          "output_type": "stream",
          "text": [
            "\rProcessing batches:  10%|▉         | 77/810 [3:11:14<21:30:17, 105.62s/batch]"
          ]
        },
        {
          "metadata": {
            "tags": null
          },
          "name": "stdout",
          "output_type": "stream",
          "text": [
            "Current file size: 0.6943744421005249\n",
            "Done /content/drive/MyDrive/Datasets/Music-Noise/SNRdB_all-noise_features_2/SNRdB_-10-20/train/train-SNRdB_-10-20_20250318_222051.h5\n",
            "Free disk space: 153.26 GB\n",
            "Creating HDF5 file....\n"
          ]
        },
        {
          "metadata": {
            "tags": null
          },
          "name": "stderr",
          "output_type": "stream",
          "text": [
            "\rProcessing batches:  10%|▉         | 78/810 [3:13:06<21:51:25, 107.49s/batch]"
          ]
        },
        {
          "metadata": {
            "tags": null
          },
          "name": "stdout",
          "output_type": "stream",
          "text": [
            "Current file size: 0.6943744421005249\n",
            "Done /content/drive/MyDrive/Datasets/Music-Noise/SNRdB_all-noise_features_2/SNRdB_-10-20/train/train-SNRdB_-10-20_20250318_222240.h5\n",
            "Free disk space: 153.28 GB\n",
            "Creating HDF5 file....\n"
          ]
        },
        {
          "metadata": {
            "tags": null
          },
          "name": "stderr",
          "output_type": "stream",
          "text": [
            "\rProcessing batches:  10%|▉         | 79/810 [3:14:53<21:50:44, 107.59s/batch]"
          ]
        },
        {
          "metadata": {
            "tags": null
          },
          "name": "stdout",
          "output_type": "stream",
          "text": [
            "Current file size: 0.6943744421005249\n",
            "Done /content/drive/MyDrive/Datasets/Music-Noise/SNRdB_all-noise_features_2/SNRdB_-10-20/train/train-SNRdB_-10-20_20250318_222432.h5\n",
            "Free disk space: 153.26 GB\n",
            "Creating HDF5 file....\n"
          ]
        },
        {
          "metadata": {
            "tags": null
          },
          "name": "stderr",
          "output_type": "stream",
          "text": [
            "\rProcessing batches:  10%|▉         | 80/810 [3:16:40<21:45:32, 107.31s/batch]"
          ]
        },
        {
          "metadata": {
            "tags": null
          },
          "name": "stdout",
          "output_type": "stream",
          "text": [
            "Current file size: 0.6943744421005249\n",
            "Done /content/drive/MyDrive/Datasets/Music-Noise/SNRdB_all-noise_features_2/SNRdB_-10-20/train/train-SNRdB_-10-20_20250318_222618.h5\n",
            "Free disk space: 153.29 GB\n",
            "Creating HDF5 file....\n",
            "Current file size: 0.6943744421005249\n",
            "Done /content/drive/MyDrive/Datasets/Music-Noise/SNRdB_all-noise_features_2/SNRdB_-10-20/train/train-SNRdB_-10-20_20250318_222811.h5\n"
          ]
        },
        {
          "metadata": {
            "tags": null
          },
          "name": "stderr",
          "output_type": "stream",
          "text": [
            "\rProcessing batches:  10%|█         | 81/810 [3:18:34<22:08:51, 109.37s/batch]"
          ]
        },
        {
          "metadata": {
            "tags": null
          },
          "name": "stdout",
          "output_type": "stream",
          "text": [
            "Free disk space: 153.32 GB\n",
            "Creating HDF5 file....\n"
          ]
        },
        {
          "metadata": {
            "tags": null
          },
          "name": "stderr",
          "output_type": "stream",
          "text": [
            "\rProcessing batches:  10%|█         | 82/810 [3:20:27<22:20:01, 110.44s/batch]"
          ]
        },
        {
          "metadata": {
            "tags": null
          },
          "name": "stdout",
          "output_type": "stream",
          "text": [
            "Current file size: 0.6943744421005249\n",
            "Done /content/drive/MyDrive/Datasets/Music-Noise/SNRdB_all-noise_features_2/SNRdB_-10-20/train/train-SNRdB_-10-20_20250318_222958.h5\n",
            "Free disk space: 153.33 GB\n",
            "Creating HDF5 file....\n"
          ]
        },
        {
          "metadata": {
            "tags": null
          },
          "name": "stderr",
          "output_type": "stream",
          "text": [
            "\rProcessing batches:  10%|█         | 83/810 [3:22:28<22:54:58, 113.48s/batch]"
          ]
        },
        {
          "metadata": {
            "tags": null
          },
          "name": "stdout",
          "output_type": "stream",
          "text": [
            "Current file size: 0.6943744421005249\n",
            "Done /content/drive/MyDrive/Datasets/Music-Noise/SNRdB_all-noise_features_2/SNRdB_-10-20/train/train-SNRdB_-10-20_20250318_223200.h5\n",
            "Free disk space: 153.29 GB\n",
            "Creating HDF5 file....\n",
            "Current file size: 0.6943744421005249\n",
            "Done /content/drive/MyDrive/Datasets/Music-Noise/SNRdB_all-noise_features_2/SNRdB_-10-20/train/train-SNRdB_-10-20_20250318_223350.h5\n"
          ]
        },
        {
          "metadata": {
            "tags": null
          },
          "name": "stderr",
          "output_type": "stream",
          "text": [
            "\rProcessing batches:  10%|█         | 84/810 [3:24:16<22:33:12, 111.84s/batch]"
          ]
        },
        {
          "metadata": {
            "tags": null
          },
          "name": "stdout",
          "output_type": "stream",
          "text": [
            "Free disk space: 153.33 GB\n",
            "Creating HDF5 file....\n",
            "Current file size: 0.6943744421005249\n",
            "Done /content/drive/MyDrive/Datasets/Music-Noise/SNRdB_all-noise_features_2/SNRdB_-10-20/train/train-SNRdB_-10-20_20250318_223550.h5\n"
          ]
        },
        {
          "metadata": {
            "tags": null
          },
          "name": "stderr",
          "output_type": "stream",
          "text": [
            "\rProcessing batches:  10%|█         | 85/810 [3:26:12<22:48:03, 113.22s/batch]"
          ]
        },
        {
          "metadata": {
            "tags": null
          },
          "name": "stdout",
          "output_type": "stream",
          "text": [
            "Free disk space: 153.32 GB\n",
            "Creating HDF5 file....\n",
            "Current file size: 0.6943744421005249\n",
            "Done /content/drive/MyDrive/Datasets/Music-Noise/SNRdB_all-noise_features_2/SNRdB_-10-20/train/train-SNRdB_-10-20_20250318_223744.h5\n"
          ]
        },
        {
          "metadata": {
            "tags": null
          },
          "name": "stderr",
          "output_type": "stream",
          "text": [
            "\rProcessing batches:  11%|█         | 86/810 [3:28:09<22:58:08, 114.21s/batch]"
          ]
        },
        {
          "metadata": {
            "tags": null
          },
          "name": "stdout",
          "output_type": "stream",
          "text": [
            "Free disk space: 153.31 GB\n",
            "Creating HDF5 file....\n"
          ]
        },
        {
          "metadata": {
            "tags": null
          },
          "name": "stderr",
          "output_type": "stream",
          "text": [
            "\rProcessing batches:  11%|█         | 87/810 [3:30:02<22:53:06, 113.95s/batch]"
          ]
        },
        {
          "metadata": {
            "tags": null
          },
          "name": "stdout",
          "output_type": "stream",
          "text": [
            "Current file size: 0.6943744421005249\n",
            "Done /content/drive/MyDrive/Datasets/Music-Noise/SNRdB_all-noise_features_2/SNRdB_-10-20/train/train-SNRdB_-10-20_20250318_223938.h5\n",
            "Free disk space: 153.27 GB\n",
            "Creating HDF5 file....\n"
          ]
        },
        {
          "metadata": {
            "tags": null
          },
          "name": "stderr",
          "output_type": "stream",
          "text": [
            "\rProcessing batches:  11%|█         | 88/810 [3:31:58<22:57:02, 114.44s/batch]"
          ]
        },
        {
          "metadata": {
            "tags": null
          },
          "name": "stdout",
          "output_type": "stream",
          "text": [
            "Current file size: 0.6943744421005249\n",
            "Done /content/drive/MyDrive/Datasets/Music-Noise/SNRdB_all-noise_features_2/SNRdB_-10-20/train/train-SNRdB_-10-20_20250318_224131.h5\n",
            "Free disk space: 153.30 GB\n",
            "Creating HDF5 file....\n"
          ]
        },
        {
          "metadata": {
            "tags": null
          },
          "name": "stderr",
          "output_type": "stream",
          "text": [
            "\rProcessing batches:  11%|█         | 89/810 [3:33:57<23:12:25, 115.87s/batch]"
          ]
        },
        {
          "metadata": {
            "tags": null
          },
          "name": "stdout",
          "output_type": "stream",
          "text": [
            "Current file size: 0.6943744421005249\n",
            "Done /content/drive/MyDrive/Datasets/Music-Noise/SNRdB_all-noise_features_2/SNRdB_-10-20/train/train-SNRdB_-10-20_20250318_224328.h5\n",
            "Free disk space: 153.40 GB\n",
            "Creating HDF5 file....\n"
          ]
        },
        {
          "metadata": {
            "tags": null
          },
          "name": "stderr",
          "output_type": "stream",
          "text": [
            "\rProcessing batches:  11%|█         | 90/810 [3:36:00<23:36:30, 118.04s/batch]"
          ]
        },
        {
          "metadata": {
            "tags": null
          },
          "name": "stdout",
          "output_type": "stream",
          "text": [
            "Current file size: 0.6943744421005249\n",
            "Done /content/drive/MyDrive/Datasets/Music-Noise/SNRdB_all-noise_features_2/SNRdB_-10-20/train/train-SNRdB_-10-20_20250318_224532.h5\n",
            "Free disk space: 153.36 GB\n",
            "Creating HDF5 file....\n",
            "Current file size: 0.6943744421005249\n",
            "Done /content/drive/MyDrive/Datasets/Music-Noise/SNRdB_all-noise_features_2/SNRdB_-10-20/train/train-SNRdB_-10-20_20250318_224731.h5\n"
          ]
        },
        {
          "metadata": {
            "tags": null
          },
          "name": "stderr",
          "output_type": "stream",
          "text": [
            "\rProcessing batches:  11%|█         | 91/810 [3:37:59<23:36:33, 118.21s/batch]"
          ]
        },
        {
          "metadata": {
            "tags": null
          },
          "name": "stdout",
          "output_type": "stream",
          "text": [
            "Free disk space: 153.35 GB\n",
            "Creating HDF5 file....\n",
            "Current file size: 0.6943744421005249\n",
            "Done /content/drive/MyDrive/Datasets/Music-Noise/SNRdB_all-noise_features_2/SNRdB_-10-20/train/train-SNRdB_-10-20_20250318_224931.h5\n"
          ]
        },
        {
          "metadata": {
            "tags": null
          },
          "name": "stderr",
          "output_type": "stream",
          "text": [
            "\rProcessing batches:  11%|█▏        | 92/810 [3:39:57<23:36:42, 118.39s/batch]"
          ]
        },
        {
          "metadata": {
            "tags": null
          },
          "name": "stdout",
          "output_type": "stream",
          "text": [
            "Free disk space: 153.39 GB\n",
            "Creating HDF5 file....\n"
          ]
        },
        {
          "metadata": {
            "tags": null
          },
          "name": "stderr",
          "output_type": "stream",
          "text": [
            "\rProcessing batches:  11%|█▏        | 93/810 [3:41:50<23:13:55, 116.65s/batch]"
          ]
        },
        {
          "metadata": {
            "tags": null
          },
          "name": "stdout",
          "output_type": "stream",
          "text": [
            "Current file size: 0.6943744421005249\n",
            "Done /content/drive/MyDrive/Datasets/Music-Noise/SNRdB_all-noise_features_2/SNRdB_-10-20/train/train-SNRdB_-10-20_20250318_225124.h5\n",
            "Free disk space: 153.35 GB\n",
            "Creating HDF5 file....\n"
          ]
        },
        {
          "metadata": {
            "tags": null
          },
          "name": "stderr",
          "output_type": "stream",
          "text": [
            "\rProcessing batches:  12%|█▏        | 94/810 [3:43:41<22:51:37, 114.94s/batch]"
          ]
        },
        {
          "metadata": {
            "tags": null
          },
          "name": "stdout",
          "output_type": "stream",
          "text": [
            "Current file size: 0.6943744421005249\n",
            "Done /content/drive/MyDrive/Datasets/Music-Noise/SNRdB_all-noise_features_2/SNRdB_-10-20/train/train-SNRdB_-10-20_20250318_225318.h5\n",
            "Free disk space: 153.32 GB\n",
            "Creating HDF5 file....\n"
          ]
        },
        {
          "metadata": {
            "tags": null
          },
          "name": "stderr",
          "output_type": "stream",
          "text": [
            "\rProcessing batches:  12%|█▏        | 95/810 [3:45:33<22:39:28, 114.08s/batch]"
          ]
        },
        {
          "metadata": {
            "tags": null
          },
          "name": "stdout",
          "output_type": "stream",
          "text": [
            "Current file size: 0.6943744421005249\n",
            "Done /content/drive/MyDrive/Datasets/Music-Noise/SNRdB_all-noise_features_2/SNRdB_-10-20/train/train-SNRdB_-10-20_20250318_225509.h5\n",
            "Free disk space: 153.40 GB\n",
            "Creating HDF5 file....\n"
          ]
        },
        {
          "metadata": {
            "tags": null
          },
          "name": "stderr",
          "output_type": "stream",
          "text": [
            "\rProcessing batches:  12%|█▏        | 96/810 [3:47:29<22:43:31, 114.58s/batch]"
          ]
        },
        {
          "metadata": {
            "tags": null
          },
          "name": "stdout",
          "output_type": "stream",
          "text": [
            "Current file size: 0.6943744421005249\n",
            "Done /content/drive/MyDrive/Datasets/Music-Noise/SNRdB_all-noise_features_2/SNRdB_-10-20/train/train-SNRdB_-10-20_20250318_225701.h5\n",
            "Free disk space: 153.35 GB\n",
            "Creating HDF5 file....\n"
          ]
        },
        {
          "metadata": {
            "tags": null
          },
          "name": "stderr",
          "output_type": "stream",
          "text": [
            "\rProcessing batches:  12%|█▏        | 97/810 [3:49:30<23:04:48, 116.53s/batch]"
          ]
        },
        {
          "metadata": {
            "tags": null
          },
          "name": "stdout",
          "output_type": "stream",
          "text": [
            "Current file size: 0.6943744421005249\n",
            "Done /content/drive/MyDrive/Datasets/Music-Noise/SNRdB_all-noise_features_2/SNRdB_-10-20/train/train-SNRdB_-10-20_20250318_225903.h5\n",
            "Free disk space: 153.34 GB\n",
            "Creating HDF5 file....\n"
          ]
        },
        {
          "metadata": {
            "tags": null
          },
          "name": "stderr",
          "output_type": "stream",
          "text": [
            "\rProcessing batches:  12%|█▏        | 98/810 [3:51:31<23:18:11, 117.82s/batch]"
          ]
        },
        {
          "metadata": {
            "tags": null
          },
          "name": "stdout",
          "output_type": "stream",
          "text": [
            "Current file size: 0.6943744421005249\n",
            "Done /content/drive/MyDrive/Datasets/Music-Noise/SNRdB_all-noise_features_2/SNRdB_-10-20/train/train-SNRdB_-10-20_20250318_230102.h5\n",
            "Free disk space: 153.33 GB\n",
            "Creating HDF5 file....\n"
          ]
        },
        {
          "metadata": {
            "tags": null
          },
          "name": "stderr",
          "output_type": "stream",
          "text": [
            "\rProcessing batches:  12%|█▏        | 99/810 [3:53:33<23:33:54, 119.32s/batch]"
          ]
        },
        {
          "metadata": {
            "tags": null
          },
          "name": "stdout",
          "output_type": "stream",
          "text": [
            "Current file size: 0.6943744421005249\n",
            "Done /content/drive/MyDrive/Datasets/Music-Noise/SNRdB_all-noise_features_2/SNRdB_-10-20/train/train-SNRdB_-10-20_20250318_230305.h5\n",
            "Free disk space: 153.30 GB\n",
            "Creating HDF5 file....\n"
          ]
        },
        {
          "metadata": {
            "tags": null
          },
          "name": "stderr",
          "output_type": "stream",
          "text": [
            "\rProcessing batches:  12%|█▏        | 100/810 [3:55:38<23:48:58, 120.76s/batch]"
          ]
        },
        {
          "metadata": {
            "tags": null
          },
          "name": "stdout",
          "output_type": "stream",
          "text": [
            "Current file size: 0.6943744421005249\n",
            "Done /content/drive/MyDrive/Datasets/Music-Noise/SNRdB_all-noise_features_2/SNRdB_-10-20/train/train-SNRdB_-10-20_20250318_230512.h5\n",
            "Free disk space: 153.28 GB\n",
            "Creating HDF5 file....\n"
          ]
        },
        {
          "metadata": {
            "tags": null
          },
          "name": "stderr",
          "output_type": "stream",
          "text": [
            "\rProcessing batches:  12%|█▏        | 101/810 [3:57:33<23:29:28, 119.28s/batch]"
          ]
        },
        {
          "metadata": {
            "tags": null
          },
          "name": "stdout",
          "output_type": "stream",
          "text": [
            "Current file size: 0.6943744421005249\n",
            "Done /content/drive/MyDrive/Datasets/Music-Noise/SNRdB_all-noise_features_2/SNRdB_-10-20/train/train-SNRdB_-10-20_20250318_230706.h5\n",
            "Free disk space: 153.30 GB\n",
            "Creating HDF5 file....\n"
          ]
        },
        {
          "metadata": {
            "tags": null
          },
          "name": "stderr",
          "output_type": "stream",
          "text": [
            "\rProcessing batches:  13%|█▎        | 102/810 [3:59:45<24:11:24, 123.00s/batch]"
          ]
        },
        {
          "metadata": {
            "tags": null
          },
          "name": "stdout",
          "output_type": "stream",
          "text": [
            "Current file size: 0.6943744421005249\n",
            "Done /content/drive/MyDrive/Datasets/Music-Noise/SNRdB_all-noise_features_2/SNRdB_-10-20/train/train-SNRdB_-10-20_20250318_230918.h5\n",
            "Free disk space: 153.26 GB\n",
            "Creating HDF5 file....\n"
          ]
        },
        {
          "metadata": {
            "tags": null
          },
          "name": "stderr",
          "output_type": "stream",
          "text": [
            "\rProcessing batches:  13%|█▎        | 103/810 [4:01:51<24:19:39, 123.87s/batch]"
          ]
        },
        {
          "metadata": {
            "tags": null
          },
          "name": "stdout",
          "output_type": "stream",
          "text": [
            "Current file size: 0.6943744421005249\n",
            "Done /content/drive/MyDrive/Datasets/Music-Noise/SNRdB_all-noise_features_2/SNRdB_-10-20/train/train-SNRdB_-10-20_20250318_231126.h5\n",
            "Free disk space: 153.22 GB\n",
            "Creating HDF5 file....\n",
            "Current file size: 0.6943744421005249\n",
            "Done /content/drive/MyDrive/Datasets/Music-Noise/SNRdB_all-noise_features_2/SNRdB_-10-20/train/train-SNRdB_-10-20_20250318_231321.h5\n"
          ]
        },
        {
          "metadata": {
            "tags": null
          },
          "name": "stderr",
          "output_type": "stream",
          "text": [
            "\rProcessing batches:  13%|█▎        | 104/810 [4:03:46<23:46:08, 121.20s/batch]"
          ]
        },
        {
          "metadata": {
            "tags": null
          },
          "name": "stdout",
          "output_type": "stream",
          "text": [
            "Free disk space: 153.20 GB\n",
            "Creating HDF5 file....\n"
          ]
        },
        {
          "metadata": {
            "tags": null
          },
          "name": "stderr",
          "output_type": "stream",
          "text": [
            "\rProcessing batches:  13%|█▎        | 105/810 [4:05:42<23:25:56, 119.66s/batch]"
          ]
        },
        {
          "metadata": {
            "tags": null
          },
          "name": "stdout",
          "output_type": "stream",
          "text": [
            "Current file size: 0.6943744421005249\n",
            "Done /content/drive/MyDrive/Datasets/Music-Noise/SNRdB_all-noise_features_2/SNRdB_-10-20/train/train-SNRdB_-10-20_20250318_231514.h5\n",
            "Free disk space: 153.31 GB\n",
            "Creating HDF5 file....\n"
          ]
        },
        {
          "metadata": {
            "tags": null
          },
          "name": "stderr",
          "output_type": "stream",
          "text": [
            "\rProcessing batches:  13%|█▎        | 106/810 [4:07:41<23:23:08, 119.59s/batch]"
          ]
        },
        {
          "metadata": {
            "tags": null
          },
          "name": "stdout",
          "output_type": "stream",
          "text": [
            "Current file size: 0.6943744421005249\n",
            "Done /content/drive/MyDrive/Datasets/Music-Noise/SNRdB_all-noise_features_2/SNRdB_-10-20/train/train-SNRdB_-10-20_20250318_231717.h5\n",
            "Free disk space: 153.27 GB\n",
            "Creating HDF5 file....\n"
          ]
        },
        {
          "metadata": {
            "tags": null
          },
          "name": "stderr",
          "output_type": "stream",
          "text": [
            "\rProcessing batches:  13%|█▎        | 107/810 [4:09:42<23:23:07, 119.76s/batch]"
          ]
        },
        {
          "metadata": {
            "tags": null
          },
          "name": "stdout",
          "output_type": "stream",
          "text": [
            "Current file size: 0.6943744421005249\n",
            "Done /content/drive/MyDrive/Datasets/Music-Noise/SNRdB_all-noise_features_2/SNRdB_-10-20/train/train-SNRdB_-10-20_20250318_231917.h5\n",
            "Free disk space: 153.25 GB\n",
            "Creating HDF5 file....\n"
          ]
        },
        {
          "metadata": {
            "tags": null
          },
          "name": "stderr",
          "output_type": "stream",
          "text": [
            "\rProcessing batches:  13%|█▎        | 108/810 [4:11:41<23:18:50, 119.56s/batch]"
          ]
        },
        {
          "metadata": {
            "tags": null
          },
          "name": "stdout",
          "output_type": "stream",
          "text": [
            "Current file size: 0.6943744421005249\n",
            "Done /content/drive/MyDrive/Datasets/Music-Noise/SNRdB_all-noise_features_2/SNRdB_-10-20/train/train-SNRdB_-10-20_20250318_232115.h5\n",
            "Free disk space: 153.27 GB\n",
            "Creating HDF5 file....\n",
            "Current file size: 0.6943744421005249\n",
            "Done /content/drive/MyDrive/Datasets/Music-Noise/SNRdB_all-noise_features_2/SNRdB_-10-20/train/train-SNRdB_-10-20_20250318_232308.h5\n"
          ]
        },
        {
          "metadata": {
            "tags": null
          },
          "name": "stderr",
          "output_type": "stream",
          "text": [
            "\rProcessing batches:  13%|█▎        | 109/810 [4:13:31<22:45:42, 116.89s/batch]"
          ]
        },
        {
          "metadata": {
            "tags": null
          },
          "name": "stdout",
          "output_type": "stream",
          "text": [
            "Free disk space: 153.24 GB\n",
            "Creating HDF5 file....\n",
            "Current file size: 0.6943744421005249\n",
            "Done /content/drive/MyDrive/Datasets/Music-Noise/SNRdB_all-noise_features_2/SNRdB_-10-20/train/train-SNRdB_-10-20_20250318_232455.h5\n"
          ]
        },
        {
          "metadata": {
            "tags": null
          },
          "name": "stderr",
          "output_type": "stream",
          "text": [
            "\rProcessing batches:  14%|█▎        | 110/810 [4:15:17<22:02:56, 113.39s/batch]"
          ]
        },
        {
          "metadata": {
            "tags": null
          },
          "name": "stdout",
          "output_type": "stream",
          "text": [
            "Free disk space: 153.24 GB\n",
            "Creating HDF5 file....\n"
          ]
        },
        {
          "metadata": {
            "tags": null
          },
          "name": "stderr",
          "output_type": "stream",
          "text": [
            "\rProcessing batches:  14%|█▎        | 111/810 [4:17:19<22:31:02, 115.97s/batch]"
          ]
        },
        {
          "metadata": {
            "tags": null
          },
          "name": "stdout",
          "output_type": "stream",
          "text": [
            "Current file size: 0.6943744421005249\n",
            "Done /content/drive/MyDrive/Datasets/Music-Noise/SNRdB_all-noise_features_2/SNRdB_-10-20/train/train-SNRdB_-10-20_20250318_232649.h5\n",
            "Free disk space: 153.27 GB\n",
            "Creating HDF5 file....\n"
          ]
        },
        {
          "metadata": {
            "tags": null
          },
          "name": "stderr",
          "output_type": "stream",
          "text": [
            "\rProcessing batches:  14%|█▍        | 112/810 [4:19:15<22:30:56, 116.13s/batch]"
          ]
        },
        {
          "metadata": {
            "tags": null
          },
          "name": "stdout",
          "output_type": "stream",
          "text": [
            "Current file size: 0.6943744421005249\n",
            "Done /content/drive/MyDrive/Datasets/Music-Noise/SNRdB_all-noise_features_2/SNRdB_-10-20/train/train-SNRdB_-10-20_20250318_232849.h5\n",
            "Free disk space: 153.26 GB\n",
            "Creating HDF5 file....\n"
          ]
        },
        {
          "metadata": {
            "tags": null
          },
          "name": "stderr",
          "output_type": "stream",
          "text": [
            "\rProcessing batches:  14%|█▍        | 113/810 [4:21:06<22:10:30, 114.53s/batch]"
          ]
        },
        {
          "metadata": {
            "tags": null
          },
          "name": "stdout",
          "output_type": "stream",
          "text": [
            "Current file size: 0.6943744421005249\n",
            "Done /content/drive/MyDrive/Datasets/Music-Noise/SNRdB_all-noise_features_2/SNRdB_-10-20/train/train-SNRdB_-10-20_20250318_233041.h5\n",
            "Free disk space: 153.27 GB\n",
            "Creating HDF5 file....\n"
          ]
        },
        {
          "metadata": {
            "tags": null
          },
          "name": "stderr",
          "output_type": "stream",
          "text": [
            "\rProcessing batches:  14%|█▍        | 114/810 [4:23:00<22:06:34, 114.36s/batch]"
          ]
        },
        {
          "metadata": {
            "tags": null
          },
          "name": "stdout",
          "output_type": "stream",
          "text": [
            "Current file size: 0.6943744421005249\n",
            "Done /content/drive/MyDrive/Datasets/Music-Noise/SNRdB_all-noise_features_2/SNRdB_-10-20/train/train-SNRdB_-10-20_20250318_233236.h5\n",
            "Free disk space: 153.26 GB\n",
            "Creating HDF5 file....\n",
            "Current file size: 0.6943744421005249\n",
            "Done /content/drive/MyDrive/Datasets/Music-Noise/SNRdB_all-noise_features_2/SNRdB_-10-20/train/train-SNRdB_-10-20_20250318_233429.h5\n"
          ]
        },
        {
          "metadata": {
            "tags": null
          },
          "name": "stderr",
          "output_type": "stream",
          "text": [
            "\rProcessing batches:  14%|█▍        | 115/810 [4:24:53<22:00:03, 113.96s/batch]"
          ]
        },
        {
          "metadata": {
            "tags": null
          },
          "name": "stdout",
          "output_type": "stream",
          "text": [
            "Free disk space: 153.27 GB\n",
            "Creating HDF5 file....\n"
          ]
        },
        {
          "metadata": {
            "tags": null
          },
          "name": "stderr",
          "output_type": "stream",
          "text": [
            "\rProcessing batches:  14%|█▍        | 116/810 [4:26:52<22:16:38, 115.56s/batch]"
          ]
        },
        {
          "metadata": {
            "tags": null
          },
          "name": "stdout",
          "output_type": "stream",
          "text": [
            "Current file size: 0.6943744421005249\n",
            "Done /content/drive/MyDrive/Datasets/Music-Noise/SNRdB_all-noise_features_2/SNRdB_-10-20/train/train-SNRdB_-10-20_20250318_233625.h5\n",
            "Free disk space: 153.30 GB\n",
            "Creating HDF5 file....\n"
          ]
        },
        {
          "metadata": {
            "tags": null
          },
          "name": "stderr",
          "output_type": "stream",
          "text": [
            "\rProcessing batches:  14%|█▍        | 117/810 [4:28:48<22:14:39, 115.55s/batch]"
          ]
        },
        {
          "metadata": {
            "tags": null
          },
          "name": "stdout",
          "output_type": "stream",
          "text": [
            "Current file size: 0.6943744421005249\n",
            "Done /content/drive/MyDrive/Datasets/Music-Noise/SNRdB_all-noise_features_2/SNRdB_-10-20/train/train-SNRdB_-10-20_20250318_233823.h5\n",
            "Free disk space: 153.26 GB\n",
            "Creating HDF5 file....\n"
          ]
        },
        {
          "metadata": {
            "tags": null
          },
          "name": "stderr",
          "output_type": "stream",
          "text": [
            "\rProcessing batches:  15%|█▍        | 118/810 [4:30:44<22:14:28, 115.71s/batch]"
          ]
        },
        {
          "metadata": {
            "tags": null
          },
          "name": "stdout",
          "output_type": "stream",
          "text": [
            "Current file size: 0.6943744421005249\n",
            "Done /content/drive/MyDrive/Datasets/Music-Noise/SNRdB_all-noise_features_2/SNRdB_-10-20/train/train-SNRdB_-10-20_20250318_234019.h5\n",
            "Free disk space: 153.36 GB\n",
            "Creating HDF5 file....\n"
          ]
        },
        {
          "metadata": {
            "tags": null
          },
          "name": "stderr",
          "output_type": "stream",
          "text": [
            "\rProcessing batches:  15%|█▍        | 119/810 [4:32:46<22:35:14, 117.68s/batch]"
          ]
        },
        {
          "metadata": {
            "tags": null
          },
          "name": "stdout",
          "output_type": "stream",
          "text": [
            "Current file size: 0.6943744421005249\n",
            "Done /content/drive/MyDrive/Datasets/Music-Noise/SNRdB_all-noise_features_2/SNRdB_-10-20/train/train-SNRdB_-10-20_20250318_234221.h5\n",
            "Free disk space: 153.32 GB\n",
            "Creating HDF5 file....\n"
          ]
        },
        {
          "metadata": {
            "tags": null
          },
          "name": "stderr",
          "output_type": "stream",
          "text": [
            "\rProcessing batches:  15%|█▍        | 120/810 [4:34:41<22:25:34, 117.01s/batch]"
          ]
        },
        {
          "metadata": {
            "tags": null
          },
          "name": "stdout",
          "output_type": "stream",
          "text": [
            "Current file size: 0.6943744421005249\n",
            "Done /content/drive/MyDrive/Datasets/Music-Noise/SNRdB_all-noise_features_2/SNRdB_-10-20/train/train-SNRdB_-10-20_20250318_234415.h5\n",
            "Free disk space: 153.34 GB\n",
            "Creating HDF5 file....\n"
          ]
        },
        {
          "metadata": {
            "tags": null
          },
          "name": "stderr",
          "output_type": "stream",
          "text": [
            "\rProcessing batches:  15%|█▍        | 121/810 [4:36:37<22:20:10, 116.71s/batch]"
          ]
        },
        {
          "metadata": {
            "tags": null
          },
          "name": "stdout",
          "output_type": "stream",
          "text": [
            "Current file size: 0.6943744421005249\n",
            "Done /content/drive/MyDrive/Datasets/Music-Noise/SNRdB_all-noise_features_2/SNRdB_-10-20/train/train-SNRdB_-10-20_20250318_234616.h5\n",
            "Free disk space: 153.35 GB\n",
            "Creating HDF5 file....\n"
          ]
        },
        {
          "metadata": {
            "tags": null
          },
          "name": "stderr",
          "output_type": "stream",
          "text": [
            "\rProcessing batches:  15%|█▌        | 122/810 [4:38:38<22:31:45, 117.89s/batch]"
          ]
        },
        {
          "metadata": {
            "tags": null
          },
          "name": "stdout",
          "output_type": "stream",
          "text": [
            "Current file size: 0.6943744421005249\n",
            "Done /content/drive/MyDrive/Datasets/Music-Noise/SNRdB_all-noise_features_2/SNRdB_-10-20/train/train-SNRdB_-10-20_20250318_234810.h5\n",
            "Free disk space: 153.30 GB\n",
            "Creating HDF5 file....\n"
          ]
        },
        {
          "metadata": {
            "tags": null
          },
          "name": "stderr",
          "output_type": "stream",
          "text": [
            "\rProcessing batches:  15%|█▌        | 123/810 [4:40:41<22:45:59, 119.30s/batch]"
          ]
        },
        {
          "metadata": {
            "tags": null
          },
          "name": "stdout",
          "output_type": "stream",
          "text": [
            "Current file size: 0.6943744421005249\n",
            "Done /content/drive/MyDrive/Datasets/Music-Noise/SNRdB_all-noise_features_2/SNRdB_-10-20/train/train-SNRdB_-10-20_20250318_235013.h5\n",
            "Free disk space: 153.31 GB\n",
            "Creating HDF5 file....\n",
            "Current file size: 0.6943744421005249\n",
            "Done /content/drive/MyDrive/Datasets/Music-Noise/SNRdB_all-noise_features_2/SNRdB_-10-20/train/train-SNRdB_-10-20_20250318_235210.h5\n"
          ]
        },
        {
          "metadata": {
            "tags": null
          },
          "name": "stderr",
          "output_type": "stream",
          "text": [
            "\rProcessing batches:  15%|█▌        | 124/810 [4:42:41<22:45:54, 119.47s/batch]"
          ]
        },
        {
          "metadata": {
            "tags": null
          },
          "name": "stdout",
          "output_type": "stream",
          "text": [
            "Free disk space: 153.27 GB\n",
            "Creating HDF5 file....\n"
          ]
        },
        {
          "metadata": {
            "tags": null
          },
          "name": "stderr",
          "output_type": "stream",
          "text": [
            "\rProcessing batches:  15%|█▌        | 125/810 [4:44:46<23:02:47, 121.12s/batch]"
          ]
        },
        {
          "metadata": {
            "tags": null
          },
          "name": "stdout",
          "output_type": "stream",
          "text": [
            "Current file size: 0.6943744421005249\n",
            "Done /content/drive/MyDrive/Datasets/Music-Noise/SNRdB_all-noise_features_2/SNRdB_-10-20/train/train-SNRdB_-10-20_20250318_235420.h5\n",
            "Free disk space: 153.25 GB\n",
            "Creating HDF5 file....\n"
          ]
        },
        {
          "metadata": {
            "tags": null
          },
          "name": "stderr",
          "output_type": "stream",
          "text": [
            "\rProcessing batches:  16%|█▌        | 126/810 [4:46:47<23:01:05, 121.15s/batch]"
          ]
        },
        {
          "metadata": {
            "tags": null
          },
          "name": "stdout",
          "output_type": "stream",
          "text": [
            "Current file size: 0.6943744421005249\n",
            "Done /content/drive/MyDrive/Datasets/Music-Noise/SNRdB_all-noise_features_2/SNRdB_-10-20/train/train-SNRdB_-10-20_20250318_235620.h5\n",
            "Free disk space: 153.22 GB\n",
            "Creating HDF5 file....\n"
          ]
        },
        {
          "metadata": {
            "tags": null
          },
          "name": "stderr",
          "output_type": "stream",
          "text": [
            "\rProcessing batches:  16%|█▌        | 127/810 [4:48:41<22:35:56, 119.12s/batch]"
          ]
        },
        {
          "metadata": {
            "tags": null
          },
          "name": "stdout",
          "output_type": "stream",
          "text": [
            "Current file size: 0.6943744421005249\n",
            "Done /content/drive/MyDrive/Datasets/Music-Noise/SNRdB_all-noise_features_2/SNRdB_-10-20/train/train-SNRdB_-10-20_20250318_235814.h5\n",
            "Free disk space: 153.29 GB\n",
            "Creating HDF5 file....\n"
          ]
        },
        {
          "metadata": {
            "tags": null
          },
          "name": "stderr",
          "output_type": "stream",
          "text": [
            "\rProcessing batches:  16%|█▌        | 128/810 [4:50:56<23:27:35, 123.83s/batch]"
          ]
        },
        {
          "metadata": {
            "tags": null
          },
          "name": "stdout",
          "output_type": "stream",
          "text": [
            "Current file size: 0.6943744421005249\n",
            "Done /content/drive/MyDrive/Datasets/Music-Noise/SNRdB_all-noise_features_2/SNRdB_-10-20/train/train-SNRdB_-10-20_20250319_000028.h5\n",
            "Free disk space: 153.28 GB\n",
            "Creating HDF5 file....\n"
          ]
        },
        {
          "metadata": {
            "tags": null
          },
          "name": "stderr",
          "output_type": "stream",
          "text": [
            "\rProcessing batches:  16%|█▌        | 129/810 [4:52:51<22:57:03, 121.33s/batch]"
          ]
        },
        {
          "metadata": {
            "tags": null
          },
          "name": "stdout",
          "output_type": "stream",
          "text": [
            "Current file size: 0.6943744421005249\n",
            "Done /content/drive/MyDrive/Datasets/Music-Noise/SNRdB_all-noise_features_2/SNRdB_-10-20/train/train-SNRdB_-10-20_20250319_000223.h5\n",
            "Free disk space: 153.26 GB\n",
            "Creating HDF5 file....\n"
          ]
        },
        {
          "metadata": {
            "tags": null
          },
          "name": "stderr",
          "output_type": "stream",
          "text": [
            "\rProcessing batches:  16%|█▌        | 130/810 [4:54:49<22:40:56, 120.08s/batch]"
          ]
        },
        {
          "metadata": {
            "tags": null
          },
          "name": "stdout",
          "output_type": "stream",
          "text": [
            "Current file size: 0.6943744421005249\n",
            "Done /content/drive/MyDrive/Datasets/Music-Noise/SNRdB_all-noise_features_2/SNRdB_-10-20/train/train-SNRdB_-10-20_20250319_000422.h5\n",
            "Free disk space: 153.21 GB\n",
            "Creating HDF5 file....\n"
          ]
        },
        {
          "metadata": {
            "tags": null
          },
          "name": "stderr",
          "output_type": "stream",
          "text": [
            "\rProcessing batches:  16%|█▌        | 131/810 [4:56:50<22:44:27, 120.57s/batch]"
          ]
        },
        {
          "metadata": {
            "tags": null
          },
          "name": "stdout",
          "output_type": "stream",
          "text": [
            "Current file size: 0.6943744421005249\n",
            "Done /content/drive/MyDrive/Datasets/Music-Noise/SNRdB_all-noise_features_2/SNRdB_-10-20/train/train-SNRdB_-10-20_20250319_000623.h5\n",
            "Free disk space: 153.23 GB\n",
            "Creating HDF5 file....\n"
          ]
        },
        {
          "metadata": {
            "tags": null
          },
          "name": "stderr",
          "output_type": "stream",
          "text": [
            "\rProcessing batches:  16%|█▋        | 132/810 [4:58:48<22:32:24, 119.68s/batch]"
          ]
        },
        {
          "metadata": {
            "tags": null
          },
          "name": "stdout",
          "output_type": "stream",
          "text": [
            "Current file size: 0.6943744421005249\n",
            "Done /content/drive/MyDrive/Datasets/Music-Noise/SNRdB_all-noise_features_2/SNRdB_-10-20/train/train-SNRdB_-10-20_20250319_000819.h5\n",
            "Free disk space: 153.22 GB\n",
            "Creating HDF5 file....\n"
          ]
        },
        {
          "metadata": {
            "tags": null
          },
          "name": "stderr",
          "output_type": "stream",
          "text": [
            "\rProcessing batches:  16%|█▋        | 133/810 [5:00:50<22:37:51, 120.34s/batch]"
          ]
        },
        {
          "metadata": {
            "tags": null
          },
          "name": "stdout",
          "output_type": "stream",
          "text": [
            "Current file size: 0.6943744421005249\n",
            "Done /content/drive/MyDrive/Datasets/Music-Noise/SNRdB_all-noise_features_2/SNRdB_-10-20/train/train-SNRdB_-10-20_20250319_001024.h5\n",
            "Free disk space: 153.28 GB\n",
            "Creating HDF5 file....\n"
          ]
        },
        {
          "metadata": {
            "tags": null
          },
          "name": "stderr",
          "output_type": "stream",
          "text": [
            "\rProcessing batches:  17%|█▋        | 134/810 [5:02:45<22:18:57, 118.84s/batch]"
          ]
        },
        {
          "metadata": {
            "tags": null
          },
          "name": "stdout",
          "output_type": "stream",
          "text": [
            "Current file size: 0.6943744421005249\n",
            "Done /content/drive/MyDrive/Datasets/Music-Noise/SNRdB_all-noise_features_2/SNRdB_-10-20/train/train-SNRdB_-10-20_20250319_001222.h5\n",
            "Free disk space: 153.25 GB\n",
            "Creating HDF5 file....\n"
          ]
        },
        {
          "metadata": {
            "tags": null
          },
          "name": "stderr",
          "output_type": "stream",
          "text": [
            "\rProcessing batches:  17%|█▋        | 135/810 [5:04:44<22:17:04, 118.85s/batch]"
          ]
        },
        {
          "metadata": {
            "tags": null
          },
          "name": "stdout",
          "output_type": "stream",
          "text": [
            "Current file size: 0.6943744421005249\n",
            "Done /content/drive/MyDrive/Datasets/Music-Noise/SNRdB_all-noise_features_2/SNRdB_-10-20/train/train-SNRdB_-10-20_20250319_001413.h5\n",
            "Free disk space: 153.25 GB\n",
            "Creating HDF5 file....\n"
          ]
        },
        {
          "metadata": {
            "tags": null
          },
          "name": "stderr",
          "output_type": "stream",
          "text": [
            "\rProcessing batches:  17%|█▋        | 136/810 [5:06:41<22:08:45, 118.29s/batch]"
          ]
        },
        {
          "metadata": {
            "tags": null
          },
          "name": "stdout",
          "output_type": "stream",
          "text": [
            "Current file size: 0.6943744421005249\n",
            "Done /content/drive/MyDrive/Datasets/Music-Noise/SNRdB_all-noise_features_2/SNRdB_-10-20/train/train-SNRdB_-10-20_20250319_001613.h5\n",
            "Free disk space: 153.28 GB\n",
            "Creating HDF5 file....\n"
          ]
        },
        {
          "metadata": {
            "tags": null
          },
          "name": "stderr",
          "output_type": "stream",
          "text": [
            "\rProcessing batches:  17%|█▋        | 137/810 [5:08:34<21:47:42, 116.59s/batch]"
          ]
        },
        {
          "metadata": {
            "tags": null
          },
          "name": "stdout",
          "output_type": "stream",
          "text": [
            "Current file size: 0.6943744421005249\n",
            "Done /content/drive/MyDrive/Datasets/Music-Noise/SNRdB_all-noise_features_2/SNRdB_-10-20/train/train-SNRdB_-10-20_20250319_001807.h5\n",
            "Free disk space: 153.26 GB\n",
            "Creating HDF5 file....\n"
          ]
        },
        {
          "metadata": {
            "tags": null
          },
          "name": "stderr",
          "output_type": "stream",
          "text": [
            "\rProcessing batches:  17%|█▋        | 138/810 [5:10:37<22:08:16, 118.60s/batch]"
          ]
        },
        {
          "metadata": {
            "tags": null
          },
          "name": "stdout",
          "output_type": "stream",
          "text": [
            "Current file size: 0.6943744421005249\n",
            "Done /content/drive/MyDrive/Datasets/Music-Noise/SNRdB_all-noise_features_2/SNRdB_-10-20/train/train-SNRdB_-10-20_20250319_002011.h5\n",
            "Free disk space: 153.27 GB\n",
            "Creating HDF5 file....\n"
          ]
        },
        {
          "metadata": {
            "tags": null
          },
          "name": "stderr",
          "output_type": "stream",
          "text": [
            "\rProcessing batches:  17%|█▋        | 139/810 [5:12:35<22:03:46, 118.37s/batch]"
          ]
        },
        {
          "metadata": {
            "tags": null
          },
          "name": "stdout",
          "output_type": "stream",
          "text": [
            "Current file size: 0.6943744421005249\n",
            "Done /content/drive/MyDrive/Datasets/Music-Noise/SNRdB_all-noise_features_2/SNRdB_-10-20/train/train-SNRdB_-10-20_20250319_002207.h5\n",
            "Free disk space: 153.25 GB\n",
            "Creating HDF5 file....\n"
          ]
        },
        {
          "metadata": {
            "tags": null
          },
          "name": "stderr",
          "output_type": "stream",
          "text": [
            "\rProcessing batches:  17%|█▋        | 140/810 [5:14:38<22:18:39, 119.88s/batch]"
          ]
        },
        {
          "metadata": {
            "tags": null
          },
          "name": "stdout",
          "output_type": "stream",
          "text": [
            "Current file size: 0.6943744421005249\n",
            "Done /content/drive/MyDrive/Datasets/Music-Noise/SNRdB_all-noise_features_2/SNRdB_-10-20/train/train-SNRdB_-10-20_20250319_002410.h5\n",
            "Free disk space: 153.28 GB\n",
            "Creating HDF5 file....\n"
          ]
        },
        {
          "metadata": {
            "tags": null
          },
          "name": "stderr",
          "output_type": "stream",
          "text": [
            "\rProcessing batches:  17%|█▋        | 141/810 [5:16:51<22:59:12, 123.70s/batch]"
          ]
        },
        {
          "metadata": {
            "tags": null
          },
          "name": "stdout",
          "output_type": "stream",
          "text": [
            "Current file size: 0.6943744421005249\n",
            "Done /content/drive/MyDrive/Datasets/Music-Noise/SNRdB_all-noise_features_2/SNRdB_-10-20/train/train-SNRdB_-10-20_20250319_002623.h5\n",
            "Free disk space: 153.30 GB\n",
            "Creating HDF5 file....\n",
            "Current file size: 0.6943744421005249\n",
            "Done /content/drive/MyDrive/Datasets/Music-Noise/SNRdB_all-noise_features_2/SNRdB_-10-20/train/train-SNRdB_-10-20_20250319_002826.h5\n"
          ]
        },
        {
          "metadata": {
            "tags": null
          },
          "name": "stderr",
          "output_type": "stream",
          "text": [
            "\rProcessing batches:  18%|█▊        | 142/810 [5:18:51<22:46:01, 122.70s/batch]"
          ]
        },
        {
          "metadata": {
            "tags": null
          },
          "name": "stdout",
          "output_type": "stream",
          "text": [
            "Free disk space: 153.29 GB\n",
            "Creating HDF5 file....\n"
          ]
        },
        {
          "metadata": {
            "tags": null
          },
          "name": "stderr",
          "output_type": "stream",
          "text": [
            "\rProcessing batches:  18%|█▊        | 143/810 [5:20:53<22:42:26, 122.56s/batch]"
          ]
        },
        {
          "metadata": {
            "tags": null
          },
          "name": "stdout",
          "output_type": "stream",
          "text": [
            "Current file size: 0.6943744421005249\n",
            "Done /content/drive/MyDrive/Datasets/Music-Noise/SNRdB_all-noise_features_2/SNRdB_-10-20/train/train-SNRdB_-10-20_20250319_003026.h5\n",
            "Free disk space: 153.28 GB\n",
            "Creating HDF5 file....\n"
          ]
        },
        {
          "metadata": {
            "tags": null
          },
          "name": "stderr",
          "output_type": "stream",
          "text": [
            "\rProcessing batches:  18%|█▊        | 144/810 [5:22:50<22:21:51, 120.89s/batch]"
          ]
        },
        {
          "metadata": {
            "tags": null
          },
          "name": "stdout",
          "output_type": "stream",
          "text": [
            "Current file size: 0.6943744421005249\n",
            "Done /content/drive/MyDrive/Datasets/Music-Noise/SNRdB_all-noise_features_2/SNRdB_-10-20/train/train-SNRdB_-10-20_20250319_003225.h5\n",
            "Free disk space: 153.24 GB\n",
            "Creating HDF5 file....\n"
          ]
        },
        {
          "metadata": {
            "tags": null
          },
          "name": "stderr",
          "output_type": "stream",
          "text": [
            "\rProcessing batches:  18%|█▊        | 145/810 [5:24:48<22:09:09, 119.92s/batch]"
          ]
        },
        {
          "metadata": {
            "tags": null
          },
          "name": "stdout",
          "output_type": "stream",
          "text": [
            "Current file size: 0.6943744421005249\n",
            "Done /content/drive/MyDrive/Datasets/Music-Noise/SNRdB_all-noise_features_2/SNRdB_-10-20/train/train-SNRdB_-10-20_20250319_003421.h5\n",
            "Free disk space: 153.32 GB\n",
            "Creating HDF5 file....\n"
          ]
        },
        {
          "metadata": {
            "tags": null
          },
          "name": "stderr",
          "output_type": "stream",
          "text": [
            "\rProcessing batches:  18%|█▊        | 146/810 [5:26:45<21:58:14, 119.12s/batch]"
          ]
        },
        {
          "metadata": {
            "tags": null
          },
          "name": "stdout",
          "output_type": "stream",
          "text": [
            "Current file size: 0.6943744421005249\n",
            "Done /content/drive/MyDrive/Datasets/Music-Noise/SNRdB_all-noise_features_2/SNRdB_-10-20/train/train-SNRdB_-10-20_20250319_003621.h5\n",
            "Free disk space: 153.31 GB\n",
            "Creating HDF5 file....\n"
          ]
        },
        {
          "metadata": {
            "tags": null
          },
          "name": "stderr",
          "output_type": "stream",
          "text": [
            "\rProcessing batches:  18%|█▊        | 147/810 [5:28:48<22:07:34, 120.14s/batch]"
          ]
        },
        {
          "metadata": {
            "tags": null
          },
          "name": "stdout",
          "output_type": "stream",
          "text": [
            "Current file size: 0.6943744421005249\n",
            "Done /content/drive/MyDrive/Datasets/Music-Noise/SNRdB_all-noise_features_2/SNRdB_-10-20/train/train-SNRdB_-10-20_20250319_003819.h5\n",
            "Free disk space: 153.30 GB\n",
            "Creating HDF5 file....\n"
          ]
        },
        {
          "metadata": {
            "tags": null
          },
          "name": "stderr",
          "output_type": "stream",
          "text": [
            "\rProcessing batches:  18%|█▊        | 148/810 [5:30:52<22:20:00, 121.45s/batch]"
          ]
        },
        {
          "metadata": {
            "tags": null
          },
          "name": "stdout",
          "output_type": "stream",
          "text": [
            "Current file size: 0.6943744421005249\n",
            "Done /content/drive/MyDrive/Datasets/Music-Noise/SNRdB_all-noise_features_2/SNRdB_-10-20/train/train-SNRdB_-10-20_20250319_004026.h5\n",
            "Free disk space: 153.26 GB\n",
            "Creating HDF5 file....\n"
          ]
        },
        {
          "metadata": {
            "tags": null
          },
          "name": "stderr",
          "output_type": "stream",
          "text": [
            "\rProcessing batches:  18%|█▊        | 149/810 [5:32:50<22:05:56, 120.36s/batch]"
          ]
        },
        {
          "metadata": {
            "tags": null
          },
          "name": "stdout",
          "output_type": "stream",
          "text": [
            "Current file size: 0.6943744421005249\n",
            "Done /content/drive/MyDrive/Datasets/Music-Noise/SNRdB_all-noise_features_2/SNRdB_-10-20/train/train-SNRdB_-10-20_20250319_004225.h5\n",
            "Free disk space: 153.25 GB\n",
            "Creating HDF5 file....\n"
          ]
        },
        {
          "metadata": {
            "tags": null
          },
          "name": "stderr",
          "output_type": "stream",
          "text": [
            "\rProcessing batches:  19%|█▊        | 150/810 [5:34:50<22:01:29, 120.13s/batch]"
          ]
        },
        {
          "metadata": {
            "tags": null
          },
          "name": "stdout",
          "output_type": "stream",
          "text": [
            "Current file size: 0.6943744421005249\n",
            "Done /content/drive/MyDrive/Datasets/Music-Noise/SNRdB_all-noise_features_2/SNRdB_-10-20/train/train-SNRdB_-10-20_20250319_004425.h5\n",
            "Free disk space: 153.21 GB\n",
            "Creating HDF5 file....\n"
          ]
        },
        {
          "metadata": {
            "tags": null
          },
          "name": "stderr",
          "output_type": "stream",
          "text": [
            "\rProcessing batches:  19%|█▊        | 151/810 [5:36:44<21:41:27, 118.49s/batch]"
          ]
        },
        {
          "metadata": {
            "tags": null
          },
          "name": "stdout",
          "output_type": "stream",
          "text": [
            "Current file size: 0.6943744421005249\n",
            "Done /content/drive/MyDrive/Datasets/Music-Noise/SNRdB_all-noise_features_2/SNRdB_-10-20/train/train-SNRdB_-10-20_20250319_004618.h5\n",
            "Free disk space: 153.23 GB\n",
            "Creating HDF5 file....\n",
            "Current file size: 0.6943744421005249\n",
            "Done /content/drive/MyDrive/Datasets/Music-Noise/SNRdB_all-noise_features_2/SNRdB_-10-20/train/train-SNRdB_-10-20_20250319_004811.h5\n"
          ]
        },
        {
          "metadata": {
            "tags": null
          },
          "name": "stderr",
          "output_type": "stream",
          "text": [
            "\rProcessing batches:  19%|█▉        | 152/810 [5:38:39<21:28:09, 117.46s/batch]"
          ]
        },
        {
          "metadata": {
            "tags": null
          },
          "name": "stdout",
          "output_type": "stream",
          "text": [
            "Free disk space: 153.19 GB\n",
            "Creating HDF5 file....\n"
          ]
        },
        {
          "metadata": {
            "tags": null
          },
          "name": "stderr",
          "output_type": "stream",
          "text": [
            "\rProcessing batches:  19%|█▉        | 153/810 [5:40:30<21:01:56, 115.25s/batch]"
          ]
        },
        {
          "metadata": {
            "tags": null
          },
          "name": "stdout",
          "output_type": "stream",
          "text": [
            "Current file size: 0.6943744421005249\n",
            "Done /content/drive/MyDrive/Datasets/Music-Noise/SNRdB_all-noise_features_2/SNRdB_-10-20/train/train-SNRdB_-10-20_20250319_005005.h5\n",
            "Free disk space: 153.15 GB\n",
            "Creating HDF5 file....\n"
          ]
        },
        {
          "metadata": {
            "tags": null
          },
          "name": "stderr",
          "output_type": "stream",
          "text": [
            "\rProcessing batches:  19%|█▉        | 154/810 [5:42:25<21:00:03, 115.25s/batch]"
          ]
        },
        {
          "metadata": {
            "tags": null
          },
          "name": "stdout",
          "output_type": "stream",
          "text": [
            "Current file size: 0.6943744421005249\n",
            "Done /content/drive/MyDrive/Datasets/Music-Noise/SNRdB_all-noise_features_2/SNRdB_-10-20/train/train-SNRdB_-10-20_20250319_005158.h5\n",
            "Free disk space: 153.15 GB\n",
            "Creating HDF5 file....\n"
          ]
        },
        {
          "metadata": {
            "tags": null
          },
          "name": "stderr",
          "output_type": "stream",
          "text": [
            "\rProcessing batches:  19%|█▉        | 155/810 [5:44:18<20:50:05, 114.51s/batch]"
          ]
        },
        {
          "metadata": {
            "tags": null
          },
          "name": "stdout",
          "output_type": "stream",
          "text": [
            "Current file size: 0.6943744421005249\n",
            "Done /content/drive/MyDrive/Datasets/Music-Noise/SNRdB_all-noise_features_2/SNRdB_-10-20/train/train-SNRdB_-10-20_20250319_005352.h5\n",
            "Free disk space: 153.27 GB\n",
            "Creating HDF5 file....\n"
          ]
        },
        {
          "metadata": {
            "tags": null
          },
          "name": "stderr",
          "output_type": "stream",
          "text": [
            "\rProcessing batches:  19%|█▉        | 156/810 [5:46:39<22:15:17, 122.50s/batch]"
          ]
        },
        {
          "metadata": {
            "tags": null
          },
          "name": "stdout",
          "output_type": "stream",
          "text": [
            "Current file size: 0.6943744421005249\n",
            "Done /content/drive/MyDrive/Datasets/Music-Noise/SNRdB_all-noise_features_2/SNRdB_-10-20/train/train-SNRdB_-10-20_20250319_005610.h5\n",
            "Free disk space: 153.30 GB\n",
            "Creating HDF5 file....\n"
          ]
        },
        {
          "metadata": {
            "tags": null
          },
          "name": "stderr",
          "output_type": "stream",
          "text": [
            "\rProcessing batches:  19%|█▉        | 157/810 [5:48:34<21:48:41, 120.25s/batch]"
          ]
        },
        {
          "metadata": {
            "tags": null
          },
          "name": "stdout",
          "output_type": "stream",
          "text": [
            "Current file size: 0.6943744421005249\n",
            "Done /content/drive/MyDrive/Datasets/Music-Noise/SNRdB_all-noise_features_2/SNRdB_-10-20/train/train-SNRdB_-10-20_20250319_005809.h5\n",
            "Free disk space: 153.27 GB\n",
            "Creating HDF5 file....\n"
          ]
        },
        {
          "metadata": {
            "tags": null
          },
          "name": "stderr",
          "output_type": "stream",
          "text": [
            "\rProcessing batches:  20%|█▉        | 158/810 [5:50:39<22:02:02, 121.66s/batch]"
          ]
        },
        {
          "metadata": {
            "tags": null
          },
          "name": "stdout",
          "output_type": "stream",
          "text": [
            "Current file size: 0.6943744421005249\n",
            "Done /content/drive/MyDrive/Datasets/Music-Noise/SNRdB_all-noise_features_2/SNRdB_-10-20/train/train-SNRdB_-10-20_20250319_010014.h5\n",
            "Free disk space: 153.28 GB\n",
            "Creating HDF5 file....\n"
          ]
        },
        {
          "metadata": {
            "tags": null
          },
          "name": "stderr",
          "output_type": "stream",
          "text": [
            "\rProcessing batches:  20%|█▉        | 159/810 [5:52:38<21:51:25, 120.87s/batch]"
          ]
        },
        {
          "metadata": {
            "tags": null
          },
          "name": "stdout",
          "output_type": "stream",
          "text": [
            "Current file size: 0.6943744421005249\n",
            "Done /content/drive/MyDrive/Datasets/Music-Noise/SNRdB_all-noise_features_2/SNRdB_-10-20/train/train-SNRdB_-10-20_20250319_010216.h5\n",
            "Free disk space: 153.41 GB\n",
            "Creating HDF5 file....\n"
          ]
        },
        {
          "metadata": {
            "tags": null
          },
          "name": "stderr",
          "output_type": "stream",
          "text": [
            "\rProcessing batches:  20%|█▉        | 160/810 [5:54:44<22:07:55, 122.58s/batch]"
          ]
        },
        {
          "metadata": {
            "tags": null
          },
          "name": "stdout",
          "output_type": "stream",
          "text": [
            "Current file size: 0.6943744421005249\n",
            "Done /content/drive/MyDrive/Datasets/Music-Noise/SNRdB_all-noise_features_2/SNRdB_-10-20/train/train-SNRdB_-10-20_20250319_010419.h5\n",
            "Free disk space: 153.37 GB\n",
            "Creating HDF5 file....\n"
          ]
        },
        {
          "metadata": {
            "tags": null
          },
          "name": "stderr",
          "output_type": "stream",
          "text": [
            "\rProcessing batches:  20%|█▉        | 161/810 [5:56:49<22:13:19, 123.27s/batch]"
          ]
        },
        {
          "metadata": {
            "tags": null
          },
          "name": "stdout",
          "output_type": "stream",
          "text": [
            "Current file size: 0.6943744421005249\n",
            "Done /content/drive/MyDrive/Datasets/Music-Noise/SNRdB_all-noise_features_2/SNRdB_-10-20/train/train-SNRdB_-10-20_20250319_010622.h5\n",
            "Free disk space: 153.42 GB\n",
            "Creating HDF5 file....\n"
          ]
        },
        {
          "metadata": {
            "tags": null
          },
          "name": "stderr",
          "output_type": "stream",
          "text": [
            "\rProcessing batches:  20%|██        | 162/810 [5:58:54<22:15:30, 123.66s/batch]"
          ]
        },
        {
          "metadata": {
            "tags": null
          },
          "name": "stdout",
          "output_type": "stream",
          "text": [
            "Current file size: 0.6943744421005249\n",
            "Done /content/drive/MyDrive/Datasets/Music-Noise/SNRdB_all-noise_features_2/SNRdB_-10-20/train/train-SNRdB_-10-20_20250319_010829.h5\n",
            "Free disk space: 153.38 GB\n",
            "Creating HDF5 file....\n"
          ]
        },
        {
          "metadata": {
            "tags": null
          },
          "name": "stderr",
          "output_type": "stream",
          "text": [
            "\rProcessing batches:  20%|██        | 163/810 [6:01:08<22:49:16, 126.98s/batch]"
          ]
        },
        {
          "metadata": {
            "tags": null
          },
          "name": "stdout",
          "output_type": "stream",
          "text": [
            "Current file size: 0.6943744421005249\n",
            "Done /content/drive/MyDrive/Datasets/Music-Noise/SNRdB_all-noise_features_2/SNRdB_-10-20/train/train-SNRdB_-10-20_20250319_011040.h5\n",
            "Free disk space: 153.35 GB\n",
            "Creating HDF5 file....\n"
          ]
        },
        {
          "metadata": {
            "tags": null
          },
          "name": "stderr",
          "output_type": "stream",
          "text": [
            "\rProcessing batches:  20%|██        | 164/810 [6:03:15<22:44:43, 126.75s/batch]"
          ]
        },
        {
          "metadata": {
            "tags": null
          },
          "name": "stdout",
          "output_type": "stream",
          "text": [
            "Current file size: 0.6943744421005249\n",
            "Done /content/drive/MyDrive/Datasets/Music-Noise/SNRdB_all-noise_features_2/SNRdB_-10-20/train/train-SNRdB_-10-20_20250319_011247.h5\n",
            "Free disk space: 153.37 GB\n",
            "Creating HDF5 file....\n"
          ]
        },
        {
          "metadata": {
            "tags": null
          },
          "name": "stderr",
          "output_type": "stream",
          "text": [
            "\rProcessing batches:  20%|██        | 165/810 [6:05:41<23:45:54, 132.64s/batch]"
          ]
        },
        {
          "metadata": {
            "tags": null
          },
          "name": "stdout",
          "output_type": "stream",
          "text": [
            "Current file size: 0.6943744421005249\n",
            "Done /content/drive/MyDrive/Datasets/Music-Noise/SNRdB_all-noise_features_2/SNRdB_-10-20/train/train-SNRdB_-10-20_20250319_011519.h5\n",
            "Free disk space: 153.36 GB\n",
            "Creating HDF5 file....\n"
          ]
        },
        {
          "metadata": {
            "tags": null
          },
          "name": "stderr",
          "output_type": "stream",
          "text": [
            "\rProcessing batches:  20%|██        | 166/810 [6:07:56<23:52:37, 133.47s/batch]"
          ]
        },
        {
          "metadata": {
            "tags": null
          },
          "name": "stdout",
          "output_type": "stream",
          "text": [
            "Current file size: 0.6943744421005249\n",
            "Done /content/drive/MyDrive/Datasets/Music-Noise/SNRdB_all-noise_features_2/SNRdB_-10-20/train/train-SNRdB_-10-20_20250319_011732.h5\n",
            "Free disk space: 153.34 GB\n",
            "Creating HDF5 file....\n"
          ]
        },
        {
          "metadata": {
            "tags": null
          },
          "name": "stderr",
          "output_type": "stream",
          "text": [
            "\rProcessing batches:  21%|██        | 167/810 [6:09:58<23:11:49, 129.87s/batch]"
          ]
        },
        {
          "metadata": {
            "tags": null
          },
          "name": "stdout",
          "output_type": "stream",
          "text": [
            "Current file size: 0.6943744421005249\n",
            "Done /content/drive/MyDrive/Datasets/Music-Noise/SNRdB_all-noise_features_2/SNRdB_-10-20/train/train-SNRdB_-10-20_20250319_011934.h5\n",
            "Free disk space: 153.32 GB\n",
            "Creating HDF5 file....\n"
          ]
        },
        {
          "metadata": {
            "tags": null
          },
          "name": "stderr",
          "output_type": "stream",
          "text": [
            "\rProcessing batches:  21%|██        | 168/810 [6:12:03<22:52:38, 128.28s/batch]"
          ]
        },
        {
          "metadata": {
            "tags": null
          },
          "name": "stdout",
          "output_type": "stream",
          "text": [
            "Current file size: 0.6943744421005249\n",
            "Done /content/drive/MyDrive/Datasets/Music-Noise/SNRdB_all-noise_features_2/SNRdB_-10-20/train/train-SNRdB_-10-20_20250319_012137.h5\n",
            "Free disk space: 153.37 GB\n",
            "Creating HDF5 file....\n"
          ]
        },
        {
          "metadata": {
            "tags": null
          },
          "name": "stderr",
          "output_type": "stream",
          "text": [
            "\rProcessing batches:  21%|██        | 169/810 [6:14:07<22:39:01, 127.21s/batch]"
          ]
        },
        {
          "metadata": {
            "tags": null
          },
          "name": "stdout",
          "output_type": "stream",
          "text": [
            "Current file size: 0.6943744421005249\n",
            "Done /content/drive/MyDrive/Datasets/Music-Noise/SNRdB_all-noise_features_2/SNRdB_-10-20/train/train-SNRdB_-10-20_20250319_012342.h5\n",
            "Free disk space: 153.36 GB\n",
            "Creating HDF5 file....\n"
          ]
        },
        {
          "metadata": {
            "tags": null
          },
          "name": "stderr",
          "output_type": "stream",
          "text": [
            "\rProcessing batches:  21%|██        | 170/810 [6:16:06<22:09:57, 124.68s/batch]"
          ]
        },
        {
          "metadata": {
            "tags": null
          },
          "name": "stdout",
          "output_type": "stream",
          "text": [
            "Current file size: 0.6943744421005249\n",
            "Done /content/drive/MyDrive/Datasets/Music-Noise/SNRdB_all-noise_features_2/SNRdB_-10-20/train/train-SNRdB_-10-20_20250319_012539.h5\n",
            "Free disk space: 153.32 GB\n",
            "Creating HDF5 file....\n"
          ]
        },
        {
          "metadata": {
            "tags": null
          },
          "name": "stderr",
          "output_type": "stream",
          "text": [
            "\rProcessing batches:  21%|██        | 171/810 [6:18:11<22:08:27, 124.74s/batch]"
          ]
        },
        {
          "metadata": {
            "tags": null
          },
          "name": "stdout",
          "output_type": "stream",
          "text": [
            "Current file size: 0.6943744421005249\n",
            "Done /content/drive/MyDrive/Datasets/Music-Noise/SNRdB_all-noise_features_2/SNRdB_-10-20/train/train-SNRdB_-10-20_20250319_012738.h5\n",
            "Free disk space: 153.28 GB\n",
            "Creating HDF5 file....\n"
          ]
        },
        {
          "metadata": {
            "tags": null
          },
          "name": "stderr",
          "output_type": "stream",
          "text": [
            "\rProcessing batches:  21%|██        | 172/810 [6:20:14<22:00:39, 124.20s/batch]"
          ]
        },
        {
          "metadata": {
            "tags": null
          },
          "name": "stdout",
          "output_type": "stream",
          "text": [
            "Current file size: 0.6943744421005249\n",
            "Done /content/drive/MyDrive/Datasets/Music-Noise/SNRdB_all-noise_features_2/SNRdB_-10-20/train/train-SNRdB_-10-20_20250319_012947.h5\n",
            "Free disk space: 153.30 GB\n",
            "Creating HDF5 file....\n"
          ]
        },
        {
          "metadata": {
            "tags": null
          },
          "name": "stderr",
          "output_type": "stream",
          "text": [
            "\rProcessing batches:  21%|██▏       | 173/810 [6:22:11<21:35:57, 122.07s/batch]"
          ]
        },
        {
          "metadata": {
            "tags": null
          },
          "name": "stdout",
          "output_type": "stream",
          "text": [
            "Current file size: 0.6943744421005249\n",
            "Done /content/drive/MyDrive/Datasets/Music-Noise/SNRdB_all-noise_features_2/SNRdB_-10-20/train/train-SNRdB_-10-20_20250319_013149.h5\n",
            "Free disk space: 153.31 GB\n",
            "Creating HDF5 file....\n"
          ]
        },
        {
          "metadata": {
            "tags": null
          },
          "name": "stderr",
          "output_type": "stream",
          "text": [
            "\rProcessing batches:  21%|██▏       | 174/810 [6:24:12<21:32:23, 121.92s/batch]"
          ]
        },
        {
          "metadata": {
            "tags": null
          },
          "name": "stdout",
          "output_type": "stream",
          "text": [
            "Current file size: 0.6943744421005249\n",
            "Done /content/drive/MyDrive/Datasets/Music-Noise/SNRdB_all-noise_features_2/SNRdB_-10-20/train/train-SNRdB_-10-20_20250319_013348.h5\n",
            "Free disk space: 153.28 GB\n",
            "Creating HDF5 file....\n",
            "Current file size: 0.6943744421005249\n",
            "Done /content/drive/MyDrive/Datasets/Music-Noise/SNRdB_all-noise_features_2/SNRdB_-10-20/train/train-SNRdB_-10-20_20250319_013545.h5\n"
          ]
        },
        {
          "metadata": {
            "tags": null
          },
          "name": "stderr",
          "output_type": "stream",
          "text": [
            "\rProcessing batches:  22%|██▏       | 175/810 [6:26:07<21:05:39, 119.59s/batch]"
          ]
        },
        {
          "metadata": {
            "tags": null
          },
          "name": "stdout",
          "output_type": "stream",
          "text": [
            "Free disk space: 153.27 GB\n",
            "Creating HDF5 file....\n"
          ]
        },
        {
          "metadata": {
            "tags": null
          },
          "name": "stderr",
          "output_type": "stream",
          "text": [
            "\rProcessing batches:  22%|██▏       | 176/810 [6:28:16<21:34:36, 122.52s/batch]"
          ]
        },
        {
          "metadata": {
            "tags": null
          },
          "name": "stdout",
          "output_type": "stream",
          "text": [
            "Current file size: 0.6943744421005249\n",
            "Done /content/drive/MyDrive/Datasets/Music-Noise/SNRdB_all-noise_features_2/SNRdB_-10-20/train/train-SNRdB_-10-20_20250319_013752.h5\n",
            "Free disk space: 153.26 GB\n",
            "Creating HDF5 file....\n"
          ]
        },
        {
          "metadata": {
            "tags": null
          },
          "name": "stderr",
          "output_type": "stream",
          "text": [
            "\rProcessing batches:  22%|██▏       | 177/810 [6:30:23<21:46:40, 123.85s/batch]"
          ]
        },
        {
          "metadata": {
            "tags": null
          },
          "name": "stdout",
          "output_type": "stream",
          "text": [
            "Current file size: 0.6943744421005249\n",
            "Done /content/drive/MyDrive/Datasets/Music-Noise/SNRdB_all-noise_features_2/SNRdB_-10-20/train/train-SNRdB_-10-20_20250319_013954.h5\n",
            "Free disk space: 153.23 GB\n",
            "Creating HDF5 file....\n"
          ]
        },
        {
          "metadata": {
            "tags": null
          },
          "name": "stderr",
          "output_type": "stream",
          "text": [
            "\rProcessing batches:  22%|██▏       | 178/810 [6:32:20<21:23:24, 121.84s/batch]"
          ]
        },
        {
          "metadata": {
            "tags": null
          },
          "name": "stdout",
          "output_type": "stream",
          "text": [
            "Current file size: 0.6943744421005249\n",
            "Done /content/drive/MyDrive/Datasets/Music-Noise/SNRdB_all-noise_features_2/SNRdB_-10-20/train/train-SNRdB_-10-20_20250319_014155.h5\n",
            "Free disk space: 153.24 GB\n",
            "Creating HDF5 file....\n"
          ]
        },
        {
          "metadata": {
            "tags": null
          },
          "name": "stderr",
          "output_type": "stream",
          "text": [
            "\rProcessing batches:  22%|██▏       | 179/810 [6:34:18<21:10:04, 120.77s/batch]"
          ]
        },
        {
          "metadata": {
            "tags": null
          },
          "name": "stdout",
          "output_type": "stream",
          "text": [
            "Current file size: 0.6943744421005249\n",
            "Done /content/drive/MyDrive/Datasets/Music-Noise/SNRdB_all-noise_features_2/SNRdB_-10-20/train/train-SNRdB_-10-20_20250319_014355.h5\n",
            "Free disk space: 153.23 GB\n",
            "Creating HDF5 file....\n"
          ]
        },
        {
          "metadata": {
            "tags": null
          },
          "name": "stderr",
          "output_type": "stream",
          "text": [
            "\rProcessing batches:  22%|██▏       | 180/810 [6:36:20<21:12:00, 121.14s/batch]"
          ]
        },
        {
          "metadata": {
            "tags": null
          },
          "name": "stdout",
          "output_type": "stream",
          "text": [
            "Current file size: 0.6943744421005249\n",
            "Done /content/drive/MyDrive/Datasets/Music-Noise/SNRdB_all-noise_features_2/SNRdB_-10-20/train/train-SNRdB_-10-20_20250319_014556.h5\n",
            "Free disk space: 153.23 GB\n",
            "Creating HDF5 file....\n"
          ]
        },
        {
          "metadata": {
            "tags": null
          },
          "name": "stderr",
          "output_type": "stream",
          "text": [
            "\rProcessing batches:  22%|██▏       | 181/810 [6:38:16<20:53:17, 119.55s/batch]"
          ]
        },
        {
          "metadata": {
            "tags": null
          },
          "name": "stdout",
          "output_type": "stream",
          "text": [
            "Current file size: 0.6943744421005249\n",
            "Done /content/drive/MyDrive/Datasets/Music-Noise/SNRdB_all-noise_features_2/SNRdB_-10-20/train/train-SNRdB_-10-20_20250319_014752.h5\n",
            "Free disk space: 153.28 GB\n",
            "Creating HDF5 file....\n"
          ]
        },
        {
          "metadata": {
            "tags": null
          },
          "name": "stderr",
          "output_type": "stream",
          "text": [
            "\rProcessing batches:  22%|██▏       | 182/810 [6:40:08<20:25:42, 117.11s/batch]"
          ]
        },
        {
          "metadata": {
            "tags": null
          },
          "name": "stdout",
          "output_type": "stream",
          "text": [
            "Current file size: 0.6943744421005249\n",
            "Done /content/drive/MyDrive/Datasets/Music-Noise/SNRdB_all-noise_features_2/SNRdB_-10-20/train/train-SNRdB_-10-20_20250319_014946.h5\n",
            "Free disk space: 153.24 GB\n",
            "Creating HDF5 file....\n"
          ]
        },
        {
          "metadata": {
            "tags": null
          },
          "name": "stderr",
          "output_type": "stream",
          "text": [
            "\rProcessing batches:  23%|██▎       | 183/810 [6:42:02<20:15:45, 116.34s/batch]"
          ]
        },
        {
          "metadata": {
            "tags": null
          },
          "name": "stdout",
          "output_type": "stream",
          "text": [
            "Current file size: 0.6943744421005249\n",
            "Done /content/drive/MyDrive/Datasets/Music-Noise/SNRdB_all-noise_features_2/SNRdB_-10-20/train/train-SNRdB_-10-20_20250319_015134.h5\n",
            "Free disk space: 153.25 GB\n",
            "Creating HDF5 file....\n"
          ]
        },
        {
          "metadata": {
            "tags": null
          },
          "name": "stderr",
          "output_type": "stream",
          "text": [
            "\rProcessing batches:  23%|██▎       | 184/810 [6:44:01<20:22:44, 117.20s/batch]"
          ]
        },
        {
          "metadata": {
            "tags": null
          },
          "name": "stdout",
          "output_type": "stream",
          "text": [
            "Current file size: 0.6943744421005249\n",
            "Done /content/drive/MyDrive/Datasets/Music-Noise/SNRdB_all-noise_features_2/SNRdB_-10-20/train/train-SNRdB_-10-20_20250319_015334.h5\n",
            "Free disk space: 153.24 GB\n",
            "Creating HDF5 file....\n"
          ]
        },
        {
          "metadata": {
            "tags": null
          },
          "name": "stderr",
          "output_type": "stream",
          "text": [
            "\rProcessing batches:  23%|██▎       | 185/810 [6:46:07<20:48:41, 119.87s/batch]"
          ]
        },
        {
          "metadata": {
            "tags": null
          },
          "name": "stdout",
          "output_type": "stream",
          "text": [
            "Current file size: 0.6943744421005249\n",
            "Done /content/drive/MyDrive/Datasets/Music-Noise/SNRdB_all-noise_features_2/SNRdB_-10-20/train/train-SNRdB_-10-20_20250319_015536.h5\n",
            "Free disk space: 153.23 GB\n",
            "Creating HDF5 file....\n"
          ]
        },
        {
          "metadata": {
            "tags": null
          },
          "name": "stderr",
          "output_type": "stream",
          "text": [
            "\rProcessing batches:  23%|██▎       | 186/810 [6:48:10<20:53:45, 120.55s/batch]"
          ]
        },
        {
          "metadata": {
            "tags": null
          },
          "name": "stdout",
          "output_type": "stream",
          "text": [
            "Current file size: 0.6943744421005249\n",
            "Done /content/drive/MyDrive/Datasets/Music-Noise/SNRdB_all-noise_features_2/SNRdB_-10-20/train/train-SNRdB_-10-20_20250319_015740.h5\n",
            "Free disk space: 153.19 GB\n",
            "Creating HDF5 file....\n",
            "Current file size: 0.6943744421005249\n",
            "Done /content/drive/MyDrive/Datasets/Music-Noise/SNRdB_all-noise_features_2/SNRdB_-10-20/train/train-SNRdB_-10-20_20250319_015939.h5\n"
          ]
        },
        {
          "metadata": {
            "tags": null
          },
          "name": "stderr",
          "output_type": "stream",
          "text": [
            "\rProcessing batches:  23%|██▎       | 187/810 [6:50:06<20:37:38, 119.20s/batch]"
          ]
        },
        {
          "metadata": {
            "tags": null
          },
          "name": "stdout",
          "output_type": "stream",
          "text": [
            "Free disk space: 153.17 GB\n",
            "Creating HDF5 file....\n"
          ]
        },
        {
          "metadata": {
            "tags": null
          },
          "name": "stderr",
          "output_type": "stream",
          "text": [
            "\rProcessing batches:  23%|██▎       | 188/810 [6:52:05<20:34:43, 119.11s/batch]"
          ]
        },
        {
          "metadata": {
            "tags": null
          },
          "name": "stdout",
          "output_type": "stream",
          "text": [
            "Current file size: 0.6943744421005249\n",
            "Done /content/drive/MyDrive/Datasets/Music-Noise/SNRdB_all-noise_features_2/SNRdB_-10-20/train/train-SNRdB_-10-20_20250319_020140.h5\n",
            "Free disk space: 153.18 GB\n",
            "Creating HDF5 file....\n"
          ]
        },
        {
          "metadata": {
            "tags": null
          },
          "name": "stderr",
          "output_type": "stream",
          "text": [
            "\rProcessing batches:  23%|██▎       | 189/810 [6:54:03<20:31:49, 119.02s/batch]"
          ]
        },
        {
          "metadata": {
            "tags": null
          },
          "name": "stdout",
          "output_type": "stream",
          "text": [
            "Current file size: 0.6943744421005249\n",
            "Done /content/drive/MyDrive/Datasets/Music-Noise/SNRdB_all-noise_features_2/SNRdB_-10-20/train/train-SNRdB_-10-20_20250319_020337.h5\n",
            "Free disk space: 153.23 GB\n",
            "Creating HDF5 file....\n"
          ]
        },
        {
          "metadata": {
            "tags": null
          },
          "name": "stderr",
          "output_type": "stream",
          "text": [
            "\rProcessing batches:  23%|██▎       | 190/810 [6:56:08<20:48:16, 120.80s/batch]"
          ]
        },
        {
          "metadata": {
            "tags": null
          },
          "name": "stdout",
          "output_type": "stream",
          "text": [
            "Current file size: 0.6943744421005249\n",
            "Done /content/drive/MyDrive/Datasets/Music-Noise/SNRdB_all-noise_features_2/SNRdB_-10-20/train/train-SNRdB_-10-20_20250319_020545.h5\n",
            "Free disk space: 153.21 GB\n",
            "Creating HDF5 file....\n",
            "Current file size: 0.6943744421005249\n",
            "Done /content/drive/MyDrive/Datasets/Music-Noise/SNRdB_all-noise_features_2/SNRdB_-10-20/train/train-SNRdB_-10-20_20250319_020745.h5\n"
          ]
        },
        {
          "metadata": {
            "tags": null
          },
          "name": "stderr",
          "output_type": "stream",
          "text": [
            "\rProcessing batches:  24%|██▎       | 191/810 [6:58:10<20:50:06, 121.17s/batch]"
          ]
        },
        {
          "metadata": {
            "tags": null
          },
          "name": "stdout",
          "output_type": "stream",
          "text": [
            "Free disk space: 153.21 GB\n",
            "Creating HDF5 file....\n"
          ]
        },
        {
          "metadata": {
            "tags": null
          },
          "name": "stderr",
          "output_type": "stream",
          "text": [
            "\rProcessing batches:  24%|██▎       | 192/810 [7:00:11<20:47:23, 121.11s/batch]"
          ]
        },
        {
          "metadata": {
            "tags": null
          },
          "name": "stdout",
          "output_type": "stream",
          "text": [
            "Current file size: 0.6943744421005249\n",
            "Done /content/drive/MyDrive/Datasets/Music-Noise/SNRdB_all-noise_features_2/SNRdB_-10-20/train/train-SNRdB_-10-20_20250319_020945.h5\n",
            "Free disk space: 153.33 GB\n",
            "Creating HDF5 file....\n"
          ]
        },
        {
          "metadata": {
            "tags": null
          },
          "name": "stderr",
          "output_type": "stream",
          "text": [
            "\rProcessing batches:  24%|██▍       | 193/810 [7:02:12<20:43:21, 120.91s/batch]"
          ]
        },
        {
          "metadata": {
            "tags": null
          },
          "name": "stdout",
          "output_type": "stream",
          "text": [
            "Current file size: 0.6943744421005249\n",
            "Done /content/drive/MyDrive/Datasets/Music-Noise/SNRdB_all-noise_features_2/SNRdB_-10-20/train/train-SNRdB_-10-20_20250319_021147.h5\n",
            "Free disk space: 153.29 GB\n",
            "Creating HDF5 file....\n"
          ]
        },
        {
          "metadata": {
            "tags": null
          },
          "name": "stderr",
          "output_type": "stream",
          "text": [
            "\rProcessing batches:  24%|██▍       | 194/810 [7:04:08<20:25:27, 119.36s/batch]"
          ]
        },
        {
          "metadata": {
            "tags": null
          },
          "name": "stdout",
          "output_type": "stream",
          "text": [
            "Current file size: 0.6943744421005249\n",
            "Done /content/drive/MyDrive/Datasets/Music-Noise/SNRdB_all-noise_features_2/SNRdB_-10-20/train/train-SNRdB_-10-20_20250319_021344.h5\n",
            "Free disk space: 153.26 GB\n",
            "Creating HDF5 file....\n"
          ]
        },
        {
          "metadata": {
            "tags": null
          },
          "name": "stderr",
          "output_type": "stream",
          "text": [
            "\rProcessing batches:  24%|██▍       | 195/810 [7:06:15<20:49:37, 121.92s/batch]"
          ]
        },
        {
          "metadata": {
            "tags": null
          },
          "name": "stdout",
          "output_type": "stream",
          "text": [
            "Current file size: 0.6943744421005249\n",
            "Done /content/drive/MyDrive/Datasets/Music-Noise/SNRdB_all-noise_features_2/SNRdB_-10-20/train/train-SNRdB_-10-20_20250319_021548.h5\n",
            "Free disk space: 153.25 GB\n",
            "Creating HDF5 file....\n"
          ]
        },
        {
          "metadata": {
            "tags": null
          },
          "name": "stderr",
          "output_type": "stream",
          "text": [
            "\rProcessing batches:  24%|██▍       | 196/810 [7:08:15<20:39:51, 121.16s/batch]"
          ]
        },
        {
          "metadata": {
            "tags": null
          },
          "name": "stdout",
          "output_type": "stream",
          "text": [
            "Current file size: 0.6943744421005249\n",
            "Done /content/drive/MyDrive/Datasets/Music-Noise/SNRdB_all-noise_features_2/SNRdB_-10-20/train/train-SNRdB_-10-20_20250319_021749.h5\n",
            "Free disk space: 153.24 GB\n",
            "Creating HDF5 file....\n"
          ]
        },
        {
          "metadata": {
            "tags": null
          },
          "name": "stderr",
          "output_type": "stream",
          "text": [
            "\rProcessing batches:  24%|██▍       | 197/810 [7:10:11<20:21:27, 119.55s/batch]"
          ]
        },
        {
          "metadata": {
            "tags": null
          },
          "name": "stdout",
          "output_type": "stream",
          "text": [
            "Current file size: 0.6943744421005249\n",
            "Done /content/drive/MyDrive/Datasets/Music-Noise/SNRdB_all-noise_features_2/SNRdB_-10-20/train/train-SNRdB_-10-20_20250319_021945.h5\n",
            "Free disk space: 153.21 GB\n",
            "Creating HDF5 file....\n"
          ]
        },
        {
          "metadata": {
            "tags": null
          },
          "name": "stderr",
          "output_type": "stream",
          "text": [
            "\rProcessing batches:  24%|██▍       | 198/810 [7:12:16<20:38:25, 121.41s/batch]"
          ]
        },
        {
          "metadata": {
            "tags": null
          },
          "name": "stdout",
          "output_type": "stream",
          "text": [
            "Current file size: 0.6943744421005249\n",
            "Done /content/drive/MyDrive/Datasets/Music-Noise/SNRdB_all-noise_features_2/SNRdB_-10-20/train/train-SNRdB_-10-20_20250319_022148.h5\n",
            "Free disk space: 153.18 GB\n",
            "Creating HDF5 file....\n"
          ]
        },
        {
          "metadata": {
            "tags": null
          },
          "name": "stderr",
          "output_type": "stream",
          "text": [
            "\rProcessing batches:  25%|██▍       | 199/810 [7:14:15<20:28:12, 120.61s/batch]"
          ]
        },
        {
          "metadata": {
            "tags": null
          },
          "name": "stdout",
          "output_type": "stream",
          "text": [
            "Current file size: 0.6943744421005249\n",
            "Done /content/drive/MyDrive/Datasets/Music-Noise/SNRdB_all-noise_features_2/SNRdB_-10-20/train/train-SNRdB_-10-20_20250319_022350.h5\n",
            "Free disk space: 153.17 GB\n",
            "Creating HDF5 file....\n"
          ]
        },
        {
          "metadata": {
            "tags": null
          },
          "name": "stderr",
          "output_type": "stream",
          "text": [
            "\rProcessing batches:  25%|██▍       | 200/810 [7:16:25<20:53:59, 123.34s/batch]"
          ]
        },
        {
          "metadata": {
            "tags": null
          },
          "name": "stdout",
          "output_type": "stream",
          "text": [
            "Current file size: 0.6943744421005249\n",
            "Done /content/drive/MyDrive/Datasets/Music-Noise/SNRdB_all-noise_features_2/SNRdB_-10-20/train/train-SNRdB_-10-20_20250319_022556.h5\n",
            "Free disk space: 153.14 GB\n",
            "Creating HDF5 file....\n"
          ]
        },
        {
          "metadata": {
            "tags": null
          },
          "name": "stderr",
          "output_type": "stream",
          "text": [
            "\rProcessing batches:  25%|██▍       | 201/810 [7:18:18<20:21:34, 120.35s/batch]"
          ]
        },
        {
          "metadata": {
            "tags": null
          },
          "name": "stdout",
          "output_type": "stream",
          "text": [
            "Current file size: 0.6943744421005249\n",
            "Done /content/drive/MyDrive/Datasets/Music-Noise/SNRdB_all-noise_features_2/SNRdB_-10-20/train/train-SNRdB_-10-20_20250319_022753.h5\n",
            "Free disk space: 153.18 GB\n",
            "Creating HDF5 file....\n"
          ]
        },
        {
          "metadata": {
            "tags": null
          },
          "name": "stderr",
          "output_type": "stream",
          "text": [
            "\rProcessing batches:  25%|██▍       | 202/810 [7:20:26<20:41:07, 122.48s/batch]"
          ]
        },
        {
          "metadata": {
            "tags": null
          },
          "name": "stdout",
          "output_type": "stream",
          "text": [
            "Current file size: 0.6943744421005249\n",
            "Done /content/drive/MyDrive/Datasets/Music-Noise/SNRdB_all-noise_features_2/SNRdB_-10-20/train/train-SNRdB_-10-20_20250319_022956.h5\n",
            "Free disk space: 153.14 GB\n",
            "Creating HDF5 file....\n"
          ]
        },
        {
          "metadata": {
            "tags": null
          },
          "name": "stderr",
          "output_type": "stream",
          "text": [
            "\rProcessing batches:  25%|██▌       | 203/810 [7:22:27<20:36:18, 122.21s/batch]"
          ]
        },
        {
          "metadata": {
            "tags": null
          },
          "name": "stdout",
          "output_type": "stream",
          "text": [
            "Current file size: 0.6943744421005249\n",
            "Done /content/drive/MyDrive/Datasets/Music-Noise/SNRdB_all-noise_features_2/SNRdB_-10-20/train/train-SNRdB_-10-20_20250319_023158.h5\n",
            "Free disk space: 153.12 GB\n",
            "Creating HDF5 file....\n",
            "Current file size: 0.6943744421005249\n",
            "Done /content/drive/MyDrive/Datasets/Music-Noise/SNRdB_all-noise_features_2/SNRdB_-10-20/train/train-SNRdB_-10-20_20250319_023357.h5\n"
          ]
        },
        {
          "metadata": {
            "tags": null
          },
          "name": "stderr",
          "output_type": "stream",
          "text": [
            "\rProcessing batches:  25%|██▌       | 204/810 [7:24:24<20:18:40, 120.66s/batch]"
          ]
        },
        {
          "metadata": {
            "tags": null
          },
          "name": "stdout",
          "output_type": "stream",
          "text": [
            "Free disk space: 153.08 GB\n",
            "Creating HDF5 file....\n"
          ]
        },
        {
          "metadata": {
            "tags": null
          },
          "name": "stderr",
          "output_type": "stream",
          "text": [
            "\rProcessing batches:  25%|██▌       | 205/810 [7:26:24<20:15:11, 120.52s/batch]"
          ]
        },
        {
          "metadata": {
            "tags": null
          },
          "name": "stdout",
          "output_type": "stream",
          "text": [
            "Current file size: 0.6943744421005249\n",
            "Done /content/drive/MyDrive/Datasets/Music-Noise/SNRdB_all-noise_features_2/SNRdB_-10-20/train/train-SNRdB_-10-20_20250319_023556.h5\n",
            "Free disk space: 153.21 GB\n",
            "Creating HDF5 file....\n"
          ]
        },
        {
          "metadata": {
            "tags": null
          },
          "name": "stderr",
          "output_type": "stream",
          "text": [
            "\rProcessing batches:  25%|██▌       | 206/810 [7:28:24<20:10:27, 120.24s/batch]"
          ]
        },
        {
          "metadata": {
            "tags": null
          },
          "name": "stdout",
          "output_type": "stream",
          "text": [
            "Current file size: 0.6943744421005249\n",
            "Done /content/drive/MyDrive/Datasets/Music-Noise/SNRdB_all-noise_features_2/SNRdB_-10-20/train/train-SNRdB_-10-20_20250319_023759.h5\n",
            "Free disk space: 153.17 GB\n",
            "Creating HDF5 file....\n"
          ]
        },
        {
          "metadata": {
            "tags": null
          },
          "name": "stderr",
          "output_type": "stream",
          "text": [
            "\rProcessing batches:  26%|██▌       | 207/810 [7:30:21<19:58:26, 119.25s/batch]"
          ]
        },
        {
          "metadata": {
            "tags": null
          },
          "name": "stdout",
          "output_type": "stream",
          "text": [
            "Current file size: 0.6943744421005249\n",
            "Done /content/drive/MyDrive/Datasets/Music-Noise/SNRdB_all-noise_features_2/SNRdB_-10-20/train/train-SNRdB_-10-20_20250319_023958.h5\n",
            "Free disk space: 153.13 GB\n",
            "Creating HDF5 file....\n"
          ]
        },
        {
          "metadata": {
            "tags": null
          },
          "name": "stderr",
          "output_type": "stream",
          "text": [
            "\rProcessing batches:  26%|██▌       | 208/810 [7:32:27<20:15:34, 121.15s/batch]"
          ]
        },
        {
          "metadata": {
            "tags": null
          },
          "name": "stdout",
          "output_type": "stream",
          "text": [
            "Current file size: 0.6943744421005249\n",
            "Done /content/drive/MyDrive/Datasets/Music-Noise/SNRdB_all-noise_features_2/SNRdB_-10-20/train/train-SNRdB_-10-20_20250319_024200.h5\n",
            "Free disk space: 153.10 GB\n",
            "Creating HDF5 file....\n"
          ]
        },
        {
          "metadata": {
            "tags": null
          },
          "name": "stderr",
          "output_type": "stream",
          "text": [
            "\rProcessing batches:  26%|██▌       | 209/810 [7:34:26<20:07:20, 120.53s/batch]"
          ]
        },
        {
          "metadata": {
            "tags": null
          },
          "name": "stdout",
          "output_type": "stream",
          "text": [
            "Current file size: 0.6943744421005249\n",
            "Done /content/drive/MyDrive/Datasets/Music-Noise/SNRdB_all-noise_features_2/SNRdB_-10-20/train/train-SNRdB_-10-20_20250319_024357.h5\n",
            "Free disk space: 153.22 GB\n",
            "Creating HDF5 file....\n"
          ]
        },
        {
          "metadata": {
            "tags": null
          },
          "name": "stderr",
          "output_type": "stream",
          "text": [
            "\rProcessing batches:  26%|██▌       | 210/810 [7:36:29<20:13:56, 121.39s/batch]"
          ]
        },
        {
          "metadata": {
            "tags": null
          },
          "name": "stdout",
          "output_type": "stream",
          "text": [
            "Current file size: 0.6943744421005249\n",
            "Done /content/drive/MyDrive/Datasets/Music-Noise/SNRdB_all-noise_features_2/SNRdB_-10-20/train/train-SNRdB_-10-20_20250319_024600.h5\n",
            "Free disk space: 153.21 GB\n",
            "Creating HDF5 file....\n"
          ]
        },
        {
          "metadata": {
            "tags": null
          },
          "name": "stderr",
          "output_type": "stream",
          "text": [
            "\rProcessing batches:  26%|██▌       | 211/810 [7:38:30<20:10:09, 121.22s/batch]"
          ]
        },
        {
          "metadata": {
            "tags": null
          },
          "name": "stdout",
          "output_type": "stream",
          "text": [
            "Current file size: 0.6943744421005249\n",
            "Done /content/drive/MyDrive/Datasets/Music-Noise/SNRdB_all-noise_features_2/SNRdB_-10-20/train/train-SNRdB_-10-20_20250319_024801.h5\n",
            "Free disk space: 153.22 GB\n",
            "Creating HDF5 file....\n"
          ]
        },
        {
          "metadata": {
            "tags": null
          },
          "name": "stderr",
          "output_type": "stream",
          "text": [
            "\rProcessing batches:  26%|██▌       | 212/810 [7:40:28<19:58:19, 120.23s/batch]"
          ]
        },
        {
          "metadata": {
            "tags": null
          },
          "name": "stdout",
          "output_type": "stream",
          "text": [
            "Current file size: 0.6943744421005249\n",
            "Done /content/drive/MyDrive/Datasets/Music-Noise/SNRdB_all-noise_features_2/SNRdB_-10-20/train/train-SNRdB_-10-20_20250319_025004.h5\n",
            "Free disk space: 153.21 GB\n",
            "Creating HDF5 file....\n"
          ]
        },
        {
          "metadata": {
            "tags": null
          },
          "name": "stderr",
          "output_type": "stream",
          "text": [
            "\rProcessing batches:  26%|██▋       | 213/810 [7:42:28<19:57:30, 120.35s/batch]"
          ]
        },
        {
          "metadata": {
            "tags": null
          },
          "name": "stdout",
          "output_type": "stream",
          "text": [
            "Current file size: 0.6943744421005249\n",
            "Done /content/drive/MyDrive/Datasets/Music-Noise/SNRdB_all-noise_features_2/SNRdB_-10-20/train/train-SNRdB_-10-20_20250319_025204.h5\n",
            "Free disk space: 153.21 GB\n",
            "Creating HDF5 file....\n"
          ]
        },
        {
          "metadata": {
            "tags": null
          },
          "name": "stderr",
          "output_type": "stream",
          "text": [
            "\rProcessing batches:  26%|██▋       | 214/810 [7:44:21<19:31:10, 117.90s/batch]"
          ]
        },
        {
          "metadata": {
            "tags": null
          },
          "name": "stdout",
          "output_type": "stream",
          "text": [
            "Current file size: 0.6943744421005249\n",
            "Done /content/drive/MyDrive/Datasets/Music-Noise/SNRdB_all-noise_features_2/SNRdB_-10-20/train/train-SNRdB_-10-20_20250319_025358.h5\n",
            "Free disk space: 153.18 GB\n",
            "Creating HDF5 file....\n"
          ]
        },
        {
          "metadata": {
            "tags": null
          },
          "name": "stderr",
          "output_type": "stream",
          "text": [
            "\rProcessing batches:  27%|██▋       | 215/810 [7:46:19<19:30:02, 117.99s/batch]"
          ]
        },
        {
          "metadata": {
            "tags": null
          },
          "name": "stdout",
          "output_type": "stream",
          "text": [
            "Current file size: 0.6943744421005249\n",
            "Done /content/drive/MyDrive/Datasets/Music-Noise/SNRdB_all-noise_features_2/SNRdB_-10-20/train/train-SNRdB_-10-20_20250319_025554.h5\n",
            "Free disk space: 153.16 GB\n",
            "Creating HDF5 file....\n"
          ]
        },
        {
          "metadata": {
            "tags": null
          },
          "name": "stderr",
          "output_type": "stream",
          "text": [
            "\rProcessing batches:  27%|██▋       | 216/810 [7:48:19<19:35:02, 118.69s/batch]"
          ]
        },
        {
          "metadata": {
            "tags": null
          },
          "name": "stdout",
          "output_type": "stream",
          "text": [
            "Current file size: 0.6943744421005249\n",
            "Done /content/drive/MyDrive/Datasets/Music-Noise/SNRdB_all-noise_features_2/SNRdB_-10-20/train/train-SNRdB_-10-20_20250319_025755.h5\n",
            "Free disk space: 153.22 GB\n",
            "Creating HDF5 file....\n"
          ]
        },
        {
          "metadata": {
            "tags": null
          },
          "name": "stderr",
          "output_type": "stream",
          "text": [
            "\rProcessing batches:  27%|██▋       | 217/810 [7:50:14<19:22:08, 117.59s/batch]"
          ]
        },
        {
          "metadata": {
            "tags": null
          },
          "name": "stdout",
          "output_type": "stream",
          "text": [
            "Current file size: 0.6943744421005249\n",
            "Done /content/drive/MyDrive/Datasets/Music-Noise/SNRdB_all-noise_features_2/SNRdB_-10-20/train/train-SNRdB_-10-20_20250319_025950.h5\n",
            "Free disk space: 153.24 GB\n",
            "Creating HDF5 file....\n"
          ]
        },
        {
          "metadata": {
            "tags": null
          },
          "name": "stderr",
          "output_type": "stream",
          "text": [
            "\rProcessing batches:  27%|██▋       | 218/810 [7:52:15<19:29:55, 118.57s/batch]"
          ]
        },
        {
          "metadata": {
            "tags": null
          },
          "name": "stdout",
          "output_type": "stream",
          "text": [
            "Current file size: 0.6943744421005249\n",
            "Done /content/drive/MyDrive/Datasets/Music-Noise/SNRdB_all-noise_features_2/SNRdB_-10-20/train/train-SNRdB_-10-20_20250319_030150.h5\n",
            "Free disk space: 153.28 GB\n",
            "Creating HDF5 file....\n"
          ]
        },
        {
          "metadata": {
            "tags": null
          },
          "name": "stderr",
          "output_type": "stream",
          "text": [
            "\rProcessing batches:  27%|██▋       | 219/810 [7:54:14<19:29:12, 118.70s/batch]"
          ]
        },
        {
          "metadata": {
            "tags": null
          },
          "name": "stdout",
          "output_type": "stream",
          "text": [
            "Current file size: 0.6943744421005249\n",
            "Done /content/drive/MyDrive/Datasets/Music-Noise/SNRdB_all-noise_features_2/SNRdB_-10-20/train/train-SNRdB_-10-20_20250319_030347.h5\n",
            "Free disk space: 153.37 GB\n",
            "Creating HDF5 file....\n"
          ]
        },
        {
          "metadata": {
            "tags": null
          },
          "name": "stderr",
          "output_type": "stream",
          "text": [
            "\rProcessing batches:  27%|██▋       | 220/810 [7:56:15<19:33:02, 119.29s/batch]"
          ]
        },
        {
          "metadata": {
            "tags": null
          },
          "name": "stdout",
          "output_type": "stream",
          "text": [
            "Current file size: 0.6943744421005249\n",
            "Done /content/drive/MyDrive/Datasets/Music-Noise/SNRdB_all-noise_features_2/SNRdB_-10-20/train/train-SNRdB_-10-20_20250319_030545.h5\n",
            "Free disk space: 153.33 GB\n",
            "Creating HDF5 file....\n",
            "Current file size: 0.6943744421005249\n",
            "Done /content/drive/MyDrive/Datasets/Music-Noise/SNRdB_all-noise_features_2/SNRdB_-10-20/train/train-SNRdB_-10-20_20250319_030758.h5\n"
          ]
        },
        {
          "metadata": {
            "tags": null
          },
          "name": "stderr",
          "output_type": "stream",
          "text": [
            "\rProcessing batches:  27%|██▋       | 221/810 [7:58:23<19:56:40, 121.90s/batch]"
          ]
        },
        {
          "metadata": {
            "tags": null
          },
          "name": "stdout",
          "output_type": "stream",
          "text": [
            "Free disk space: 153.31 GB\n",
            "Creating HDF5 file....\n",
            "Current file size: 0.6943744421005249\n",
            "Done /content/drive/MyDrive/Datasets/Music-Noise/SNRdB_all-noise_features_2/SNRdB_-10-20/train/train-SNRdB_-10-20_20250319_030952.h5\n"
          ]
        },
        {
          "metadata": {
            "tags": null
          },
          "name": "stderr",
          "output_type": "stream",
          "text": [
            "\rProcessing batches:  27%|██▋       | 222/810 [8:00:18<19:35:01, 119.90s/batch]"
          ]
        },
        {
          "metadata": {
            "tags": null
          },
          "name": "stdout",
          "output_type": "stream",
          "text": [
            "Free disk space: 153.28 GB\n",
            "Creating HDF5 file....\n"
          ]
        },
        {
          "metadata": {
            "tags": null
          },
          "name": "stderr",
          "output_type": "stream",
          "text": [
            "\rProcessing batches:  28%|██▊       | 223/810 [8:02:19<19:36:01, 120.21s/batch]"
          ]
        },
        {
          "metadata": {
            "tags": null
          },
          "name": "stdout",
          "output_type": "stream",
          "text": [
            "Current file size: 0.6943744421005249\n",
            "Done /content/drive/MyDrive/Datasets/Music-Noise/SNRdB_all-noise_features_2/SNRdB_-10-20/train/train-SNRdB_-10-20_20250319_031153.h5\n",
            "Free disk space: 153.29 GB\n",
            "Creating HDF5 file....\n"
          ]
        },
        {
          "metadata": {
            "tags": null
          },
          "name": "stderr",
          "output_type": "stream",
          "text": [
            "\rProcessing batches:  28%|██▊       | 224/810 [8:04:19<19:34:59, 120.31s/batch]"
          ]
        },
        {
          "metadata": {
            "tags": null
          },
          "name": "stdout",
          "output_type": "stream",
          "text": [
            "Current file size: 0.6943744421005249\n",
            "Done /content/drive/MyDrive/Datasets/Music-Noise/SNRdB_all-noise_features_2/SNRdB_-10-20/train/train-SNRdB_-10-20_20250319_031355.h5\n",
            "Free disk space: 153.28 GB\n",
            "Creating HDF5 file....\n"
          ]
        },
        {
          "metadata": {
            "tags": null
          },
          "name": "stderr",
          "output_type": "stream",
          "text": [
            "\rProcessing batches:  28%|██▊       | 225/810 [8:06:13<19:13:43, 118.33s/batch]"
          ]
        },
        {
          "metadata": {
            "tags": null
          },
          "name": "stdout",
          "output_type": "stream",
          "text": [
            "Current file size: 0.6943744421005249\n",
            "Done /content/drive/MyDrive/Datasets/Music-Noise/SNRdB_all-noise_features_2/SNRdB_-10-20/train/train-SNRdB_-10-20_20250319_031548.h5\n",
            "Free disk space: 153.27 GB\n",
            "Creating HDF5 file....\n"
          ]
        },
        {
          "metadata": {
            "tags": null
          },
          "name": "stderr",
          "output_type": "stream",
          "text": [
            "\rProcessing batches:  28%|██▊       | 226/810 [8:08:22<19:41:32, 121.39s/batch]"
          ]
        },
        {
          "metadata": {
            "tags": null
          },
          "name": "stdout",
          "output_type": "stream",
          "text": [
            "Current file size: 0.6943744421005249\n",
            "Done /content/drive/MyDrive/Datasets/Music-Noise/SNRdB_all-noise_features_2/SNRdB_-10-20/train/train-SNRdB_-10-20_20250319_031755.h5\n",
            "Free disk space: 153.23 GB\n",
            "Creating HDF5 file....\n"
          ]
        },
        {
          "metadata": {
            "tags": null
          },
          "name": "stderr",
          "output_type": "stream",
          "text": [
            "\rProcessing batches:  28%|██▊       | 227/810 [8:10:17<19:21:30, 119.54s/batch]"
          ]
        },
        {
          "metadata": {
            "tags": null
          },
          "name": "stdout",
          "output_type": "stream",
          "text": [
            "Current file size: 0.6943744421005249\n",
            "Done /content/drive/MyDrive/Datasets/Music-Noise/SNRdB_all-noise_features_2/SNRdB_-10-20/train/train-SNRdB_-10-20_20250319_031955.h5\n",
            "Free disk space: 153.22 GB\n",
            "Creating HDF5 file....\n"
          ]
        },
        {
          "metadata": {
            "tags": null
          },
          "name": "stderr",
          "output_type": "stream",
          "text": [
            "\rProcessing batches:  28%|██▊       | 228/810 [8:12:17<19:20:51, 119.68s/batch]"
          ]
        },
        {
          "metadata": {
            "tags": null
          },
          "name": "stdout",
          "output_type": "stream",
          "text": [
            "Current file size: 0.6943744421005249\n",
            "Done /content/drive/MyDrive/Datasets/Music-Noise/SNRdB_all-noise_features_2/SNRdB_-10-20/train/train-SNRdB_-10-20_20250319_032150.h5\n",
            "Free disk space: 153.29 GB\n",
            "Creating HDF5 file....\n",
            "Current file size: 0.6943744421005249\n",
            "Done /content/drive/MyDrive/Datasets/Music-Noise/SNRdB_all-noise_features_2/SNRdB_-10-20/train/train-SNRdB_-10-20_20250319_032355.h5\n",
            "Free disk space: 153.24 GB\n"
          ]
        },
        {
          "metadata": {
            "tags": null
          },
          "name": "stderr",
          "output_type": "stream",
          "text": [
            "\rProcessing batches:  28%|██▊       | 229/810 [8:14:20<19:28:43, 120.69s/batch]"
          ]
        },
        {
          "metadata": {
            "tags": null
          },
          "name": "stdout",
          "output_type": "stream",
          "text": [
            "Creating HDF5 file....\n"
          ]
        },
        {
          "metadata": {
            "tags": null
          },
          "name": "stderr",
          "output_type": "stream",
          "text": [
            "\rProcessing batches:  28%|██▊       | 230/810 [8:16:20<19:26:14, 120.65s/batch]"
          ]
        },
        {
          "metadata": {
            "tags": null
          },
          "name": "stdout",
          "output_type": "stream",
          "text": [
            "Current file size: 0.6943744421005249\n",
            "Done /content/drive/MyDrive/Datasets/Music-Noise/SNRdB_all-noise_features_2/SNRdB_-10-20/train/train-SNRdB_-10-20_20250319_032553.h5\n",
            "Free disk space: 153.26 GB\n",
            "Creating HDF5 file....\n"
          ]
        },
        {
          "metadata": {
            "tags": null
          },
          "name": "stderr",
          "output_type": "stream",
          "text": [
            "\rProcessing batches:  29%|██▊       | 231/810 [8:18:22<19:26:49, 120.91s/batch]"
          ]
        },
        {
          "metadata": {
            "tags": null
          },
          "name": "stdout",
          "output_type": "stream",
          "text": [
            "Current file size: 0.6943744421005249\n",
            "Done /content/drive/MyDrive/Datasets/Music-Noise/SNRdB_all-noise_features_2/SNRdB_-10-20/train/train-SNRdB_-10-20_20250319_032755.h5\n",
            "Free disk space: 153.23 GB\n",
            "Creating HDF5 file....\n"
          ]
        },
        {
          "metadata": {
            "tags": null
          },
          "name": "stderr",
          "output_type": "stream",
          "text": [
            "\rProcessing batches:  29%|██▊       | 232/810 [8:20:25<19:31:13, 121.58s/batch]"
          ]
        },
        {
          "metadata": {
            "tags": null
          },
          "name": "stdout",
          "output_type": "stream",
          "text": [
            "Current file size: 0.6943744421005249\n",
            "Done /content/drive/MyDrive/Datasets/Music-Noise/SNRdB_all-noise_features_2/SNRdB_-10-20/train/train-SNRdB_-10-20_20250319_032957.h5\n",
            "Free disk space: 153.29 GB\n",
            "Creating HDF5 file....\n"
          ]
        },
        {
          "metadata": {
            "tags": null
          },
          "name": "stderr",
          "output_type": "stream",
          "text": [
            "\rProcessing batches:  29%|██▉       | 233/810 [8:22:31<19:42:15, 122.94s/batch]"
          ]
        },
        {
          "metadata": {
            "tags": null
          },
          "name": "stdout",
          "output_type": "stream",
          "text": [
            "Current file size: 0.6943744421005249\n",
            "Done /content/drive/MyDrive/Datasets/Music-Noise/SNRdB_all-noise_features_2/SNRdB_-10-20/train/train-SNRdB_-10-20_20250319_033201.h5\n",
            "Free disk space: 153.27 GB\n",
            "Creating HDF5 file....\n"
          ]
        },
        {
          "metadata": {
            "tags": null
          },
          "name": "stderr",
          "output_type": "stream",
          "text": [
            "\rProcessing batches:  29%|██▉       | 234/810 [8:24:32<19:33:10, 122.21s/batch]"
          ]
        },
        {
          "metadata": {
            "tags": null
          },
          "name": "stdout",
          "output_type": "stream",
          "text": [
            "Current file size: 0.6943744421005249\n",
            "Done /content/drive/MyDrive/Datasets/Music-Noise/SNRdB_all-noise_features_2/SNRdB_-10-20/train/train-SNRdB_-10-20_20250319_033406.h5\n",
            "Free disk space: 153.22 GB\n",
            "Creating HDF5 file....\n"
          ]
        },
        {
          "metadata": {
            "tags": null
          },
          "name": "stderr",
          "output_type": "stream",
          "text": [
            "\rProcessing batches:  29%|██▉       | 235/810 [8:26:35<19:33:03, 122.41s/batch]"
          ]
        },
        {
          "metadata": {
            "tags": null
          },
          "name": "stdout",
          "output_type": "stream",
          "text": [
            "Current file size: 0.6943744421005249\n",
            "Done /content/drive/MyDrive/Datasets/Music-Noise/SNRdB_all-noise_features_2/SNRdB_-10-20/train/train-SNRdB_-10-20_20250319_033606.h5\n",
            "Free disk space: 153.23 GB\n",
            "Creating HDF5 file....\n"
          ]
        },
        {
          "metadata": {
            "tags": null
          },
          "name": "stderr",
          "output_type": "stream",
          "text": [
            "\rProcessing batches:  29%|██▉       | 236/810 [8:28:45<19:54:49, 124.89s/batch]"
          ]
        },
        {
          "metadata": {
            "tags": null
          },
          "name": "stdout",
          "output_type": "stream",
          "text": [
            "Current file size: 0.6943744421005249\n",
            "Done /content/drive/MyDrive/Datasets/Music-Noise/SNRdB_all-noise_features_2/SNRdB_-10-20/train/train-SNRdB_-10-20_20250319_033817.h5\n",
            "Free disk space: 153.25 GB\n",
            "Creating HDF5 file....\n"
          ]
        },
        {
          "metadata": {
            "tags": null
          },
          "name": "stderr",
          "output_type": "stream",
          "text": [
            "\rProcessing batches:  29%|██▉       | 237/810 [8:30:49<19:49:40, 124.57s/batch]"
          ]
        },
        {
          "metadata": {
            "tags": null
          },
          "name": "stdout",
          "output_type": "stream",
          "text": [
            "Current file size: 0.6943744421005249\n",
            "Done /content/drive/MyDrive/Datasets/Music-Noise/SNRdB_all-noise_features_2/SNRdB_-10-20/train/train-SNRdB_-10-20_20250319_034021.h5\n",
            "Free disk space: 153.22 GB\n",
            "Creating HDF5 file....\n"
          ]
        },
        {
          "metadata": {
            "tags": null
          },
          "name": "stderr",
          "output_type": "stream",
          "text": [
            "\rProcessing batches:  29%|██▉       | 238/810 [8:32:44<19:19:22, 121.61s/batch]"
          ]
        },
        {
          "metadata": {
            "tags": null
          },
          "name": "stdout",
          "output_type": "stream",
          "text": [
            "Current file size: 0.6943744421005249\n",
            "Done /content/drive/MyDrive/Datasets/Music-Noise/SNRdB_all-noise_features_2/SNRdB_-10-20/train/train-SNRdB_-10-20_20250319_034221.h5\n",
            "Free disk space: 153.22 GB\n",
            "Creating HDF5 file....\n"
          ]
        },
        {
          "metadata": {
            "tags": null
          },
          "name": "stderr",
          "output_type": "stream",
          "text": [
            "\rProcessing batches:  30%|██▉       | 239/810 [8:34:44<19:14:01, 121.26s/batch]"
          ]
        },
        {
          "metadata": {
            "tags": null
          },
          "name": "stdout",
          "output_type": "stream",
          "text": [
            "Current file size: 0.6943744421005249\n",
            "Done /content/drive/MyDrive/Datasets/Music-Noise/SNRdB_all-noise_features_2/SNRdB_-10-20/train/train-SNRdB_-10-20_20250319_034419.h5\n",
            "Free disk space: 153.24 GB\n",
            "Creating HDF5 file....\n",
            "Current file size: 0.6943744421005249\n",
            "Done /content/drive/MyDrive/Datasets/Music-Noise/SNRdB_all-noise_features_2/SNRdB_-10-20/train/train-SNRdB_-10-20_20250319_034633.h5\n"
          ]
        },
        {
          "metadata": {
            "tags": null
          },
          "name": "stderr",
          "output_type": "stream",
          "text": [
            "\rProcessing batches:  30%|██▉       | 240/810 [8:37:01<19:56:18, 125.93s/batch]"
          ]
        },
        {
          "metadata": {
            "tags": null
          },
          "name": "stdout",
          "output_type": "stream",
          "text": [
            "Free disk space: 153.23 GB\n",
            "Creating HDF5 file....\n"
          ]
        },
        {
          "metadata": {
            "tags": null
          },
          "name": "stderr",
          "output_type": "stream",
          "text": [
            "\rProcessing batches:  30%|██▉       | 241/810 [8:39:07<19:53:21, 125.84s/batch]"
          ]
        },
        {
          "metadata": {
            "tags": null
          },
          "name": "stdout",
          "output_type": "stream",
          "text": [
            "Current file size: 0.6943744421005249\n",
            "Done /content/drive/MyDrive/Datasets/Music-Noise/SNRdB_all-noise_features_2/SNRdB_-10-20/train/train-SNRdB_-10-20_20250319_034839.h5\n",
            "Free disk space: 153.22 GB\n",
            "Creating HDF5 file....\n"
          ]
        },
        {
          "metadata": {
            "tags": null
          },
          "name": "stderr",
          "output_type": "stream",
          "text": [
            "\rProcessing batches:  30%|██▉       | 242/810 [8:41:08<19:37:25, 124.38s/batch]"
          ]
        },
        {
          "metadata": {
            "tags": null
          },
          "name": "stdout",
          "output_type": "stream",
          "text": [
            "Current file size: 0.6943744421005249\n",
            "Done /content/drive/MyDrive/Datasets/Music-Noise/SNRdB_all-noise_features_2/SNRdB_-10-20/train/train-SNRdB_-10-20_20250319_035041.h5\n",
            "Free disk space: 153.27 GB\n",
            "Creating HDF5 file....\n"
          ]
        },
        {
          "metadata": {
            "tags": null
          },
          "name": "stderr",
          "output_type": "stream",
          "text": [
            "\rProcessing batches:  30%|███       | 243/810 [8:43:06<19:18:15, 122.57s/batch]"
          ]
        },
        {
          "metadata": {
            "tags": null
          },
          "name": "stdout",
          "output_type": "stream",
          "text": [
            "Current file size: 0.6943744421005249\n",
            "Done /content/drive/MyDrive/Datasets/Music-Noise/SNRdB_all-noise_features_2/SNRdB_-10-20/train/train-SNRdB_-10-20_20250319_035240.h5\n",
            "Free disk space: 153.28 GB\n",
            "Creating HDF5 file....\n",
            "Current file size: 0.6943744421005249\n",
            "Done /content/drive/MyDrive/Datasets/Music-Noise/SNRdB_all-noise_features_2/SNRdB_-10-20/train/train-SNRdB_-10-20_20250319_035443.h5\n"
          ]
        },
        {
          "metadata": {
            "tags": null
          },
          "name": "stderr",
          "output_type": "stream",
          "text": [
            "\rProcessing batches:  30%|███       | 244/810 [8:45:08<19:15:50, 122.53s/batch]"
          ]
        },
        {
          "metadata": {
            "tags": null
          },
          "name": "stdout",
          "output_type": "stream",
          "text": [
            "Free disk space: 153.31 GB\n",
            "Creating HDF5 file....\n"
          ]
        },
        {
          "metadata": {
            "tags": null
          },
          "name": "stderr",
          "output_type": "stream",
          "text": [
            "\rProcessing batches:  30%|███       | 245/810 [8:47:10<19:09:42, 122.09s/batch]"
          ]
        },
        {
          "metadata": {
            "tags": null
          },
          "name": "stdout",
          "output_type": "stream",
          "text": [
            "Current file size: 0.6943744421005249\n",
            "Done /content/drive/MyDrive/Datasets/Music-Noise/SNRdB_all-noise_features_2/SNRdB_-10-20/train/train-SNRdB_-10-20_20250319_035639.h5\n",
            "Free disk space: 153.28 GB\n",
            "Creating HDF5 file....\n"
          ]
        },
        {
          "metadata": {
            "tags": null
          },
          "name": "stderr",
          "output_type": "stream",
          "text": [
            "\rProcessing batches:  30%|███       | 246/810 [8:49:21<19:35:12, 125.02s/batch]"
          ]
        },
        {
          "metadata": {
            "tags": null
          },
          "name": "stdout",
          "output_type": "stream",
          "text": [
            "Current file size: 0.6943744421005249\n",
            "Done /content/drive/MyDrive/Datasets/Music-Noise/SNRdB_all-noise_features_2/SNRdB_-10-20/train/train-SNRdB_-10-20_20250319_035851.h5\n",
            "Free disk space: 153.30 GB\n",
            "Creating HDF5 file....\n"
          ]
        },
        {
          "metadata": {
            "tags": null
          },
          "name": "stderr",
          "output_type": "stream",
          "text": [
            "\rProcessing batches:  30%|███       | 247/810 [8:51:17<19:06:40, 122.20s/batch]"
          ]
        },
        {
          "metadata": {
            "tags": null
          },
          "name": "stdout",
          "output_type": "stream",
          "text": [
            "Current file size: 0.6943744421005249\n",
            "Done /content/drive/MyDrive/Datasets/Music-Noise/SNRdB_all-noise_features_2/SNRdB_-10-20/train/train-SNRdB_-10-20_20250319_040053.h5\n",
            "Free disk space: 153.31 GB\n",
            "Creating HDF5 file....\n"
          ]
        },
        {
          "metadata": {
            "tags": null
          },
          "name": "stderr",
          "output_type": "stream",
          "text": [
            "\rProcessing batches:  31%|███       | 248/810 [8:53:12<18:45:12, 120.13s/batch]"
          ]
        },
        {
          "metadata": {
            "tags": null
          },
          "name": "stdout",
          "output_type": "stream",
          "text": [
            "Current file size: 0.6943744421005249\n",
            "Done /content/drive/MyDrive/Datasets/Music-Noise/SNRdB_all-noise_features_2/SNRdB_-10-20/train/train-SNRdB_-10-20_20250319_040248.h5\n",
            "Free disk space: 153.31 GB\n",
            "Creating HDF5 file....\n"
          ]
        },
        {
          "metadata": {
            "tags": null
          },
          "name": "stderr",
          "output_type": "stream",
          "text": [
            "\rProcessing batches:  31%|███       | 249/810 [8:55:13<18:43:32, 120.16s/batch]"
          ]
        },
        {
          "metadata": {
            "tags": null
          },
          "name": "stdout",
          "output_type": "stream",
          "text": [
            "Current file size: 0.6943744421005249\n",
            "Done /content/drive/MyDrive/Datasets/Music-Noise/SNRdB_all-noise_features_2/SNRdB_-10-20/train/train-SNRdB_-10-20_20250319_040449.h5\n",
            "Free disk space: 153.26 GB\n",
            "Creating HDF5 file....\n"
          ]
        },
        {
          "metadata": {
            "tags": null
          },
          "name": "stderr",
          "output_type": "stream",
          "text": [
            "\rProcessing batches:  31%|███       | 250/810 [8:57:04<18:16:38, 117.50s/batch]"
          ]
        },
        {
          "metadata": {
            "tags": null
          },
          "name": "stdout",
          "output_type": "stream",
          "text": [
            "Current file size: 0.6943744421005249\n",
            "Done /content/drive/MyDrive/Datasets/Music-Noise/SNRdB_all-noise_features_2/SNRdB_-10-20/train/train-SNRdB_-10-20_20250319_040640.h5\n",
            "Free disk space: 153.23 GB\n",
            "Creating HDF5 file....\n"
          ]
        },
        {
          "metadata": {
            "tags": null
          },
          "name": "stderr",
          "output_type": "stream",
          "text": [
            "\rProcessing batches:  31%|███       | 251/810 [8:59:08<18:33:29, 119.52s/batch]"
          ]
        },
        {
          "metadata": {
            "tags": null
          },
          "name": "stdout",
          "output_type": "stream",
          "text": [
            "Current file size: 0.6943744421005249\n",
            "Done /content/drive/MyDrive/Datasets/Music-Noise/SNRdB_all-noise_features_2/SNRdB_-10-20/train/train-SNRdB_-10-20_20250319_040840.h5\n",
            "Free disk space: 153.23 GB\n",
            "Creating HDF5 file....\n"
          ]
        },
        {
          "metadata": {
            "tags": null
          },
          "name": "stderr",
          "output_type": "stream",
          "text": [
            "\rProcessing batches:  31%|███       | 252/810 [9:01:14<18:49:29, 121.45s/batch]"
          ]
        },
        {
          "metadata": {
            "tags": null
          },
          "name": "stdout",
          "output_type": "stream",
          "text": [
            "Current file size: 0.6943744421005249\n",
            "Done /content/drive/MyDrive/Datasets/Music-Noise/SNRdB_all-noise_features_2/SNRdB_-10-20/train/train-SNRdB_-10-20_20250319_041043.h5\n",
            "Free disk space: 153.25 GB\n",
            "Creating HDF5 file....\n"
          ]
        },
        {
          "metadata": {
            "tags": null
          },
          "name": "stderr",
          "output_type": "stream",
          "text": [
            "\rProcessing batches:  31%|███       | 253/810 [9:03:13<18:40:24, 120.69s/batch]"
          ]
        },
        {
          "metadata": {
            "tags": null
          },
          "name": "stdout",
          "output_type": "stream",
          "text": [
            "Current file size: 0.6943744421005249\n",
            "Done /content/drive/MyDrive/Datasets/Music-Noise/SNRdB_all-noise_features_2/SNRdB_-10-20/train/train-SNRdB_-10-20_20250319_041245.h5\n",
            "Free disk space: 153.21 GB\n",
            "Creating HDF5 file....\n"
          ]
        },
        {
          "metadata": {
            "tags": null
          },
          "name": "stderr",
          "output_type": "stream",
          "text": [
            "\rProcessing batches:  31%|███▏      | 254/810 [9:05:12<18:32:54, 120.10s/batch]"
          ]
        },
        {
          "metadata": {
            "tags": null
          },
          "name": "stdout",
          "output_type": "stream",
          "text": [
            "Current file size: 0.6943744421005249\n",
            "Done /content/drive/MyDrive/Datasets/Music-Noise/SNRdB_all-noise_features_2/SNRdB_-10-20/train/train-SNRdB_-10-20_20250319_041446.h5\n",
            "Free disk space: 153.19 GB\n",
            "Creating HDF5 file....\n"
          ]
        },
        {
          "metadata": {
            "tags": null
          },
          "name": "stderr",
          "output_type": "stream",
          "text": [
            "\rProcessing batches:  31%|███▏      | 255/810 [9:07:14<18:37:51, 120.85s/batch]"
          ]
        },
        {
          "metadata": {
            "tags": null
          },
          "name": "stdout",
          "output_type": "stream",
          "text": [
            "Current file size: 0.6943744421005249\n",
            "Done /content/drive/MyDrive/Datasets/Music-Noise/SNRdB_all-noise_features_2/SNRdB_-10-20/train/train-SNRdB_-10-20_20250319_041648.h5\n",
            "Free disk space: 153.30 GB\n",
            "Creating HDF5 file....\n"
          ]
        },
        {
          "metadata": {
            "tags": null
          },
          "name": "stderr",
          "output_type": "stream",
          "text": [
            "\rProcessing batches:  32%|███▏      | 256/810 [9:09:30<19:17:40, 125.38s/batch]"
          ]
        },
        {
          "metadata": {
            "tags": null
          },
          "name": "stdout",
          "output_type": "stream",
          "text": [
            "Current file size: 0.6943744421005249\n",
            "Done /content/drive/MyDrive/Datasets/Music-Noise/SNRdB_all-noise_features_2/SNRdB_-10-20/train/train-SNRdB_-10-20_20250319_041901.h5\n",
            "Free disk space: 153.26 GB\n",
            "Creating HDF5 file....\n"
          ]
        },
        {
          "metadata": {
            "tags": null
          },
          "name": "stderr",
          "output_type": "stream",
          "text": [
            "\rProcessing batches:  32%|███▏      | 257/810 [9:11:30<18:59:56, 123.68s/batch]"
          ]
        },
        {
          "metadata": {
            "tags": null
          },
          "name": "stdout",
          "output_type": "stream",
          "text": [
            "Current file size: 0.6943744421005249\n",
            "Done /content/drive/MyDrive/Datasets/Music-Noise/SNRdB_all-noise_features_2/SNRdB_-10-20/train/train-SNRdB_-10-20_20250319_042105.h5\n",
            "Free disk space: 153.26 GB\n",
            "Creating HDF5 file....\n"
          ]
        },
        {
          "metadata": {
            "tags": null
          },
          "name": "stderr",
          "output_type": "stream",
          "text": [
            "\rProcessing batches:  32%|███▏      | 258/810 [9:13:36<19:03:23, 124.28s/batch]"
          ]
        },
        {
          "metadata": {
            "tags": null
          },
          "name": "stdout",
          "output_type": "stream",
          "text": [
            "Current file size: 0.6943744421005249\n",
            "Done /content/drive/MyDrive/Datasets/Music-Noise/SNRdB_all-noise_features_2/SNRdB_-10-20/train/train-SNRdB_-10-20_20250319_042310.h5\n",
            "Free disk space: 153.22 GB\n",
            "Creating HDF5 file....\n"
          ]
        },
        {
          "metadata": {
            "tags": null
          },
          "name": "stderr",
          "output_type": "stream",
          "text": [
            "\rProcessing batches:  32%|███▏      | 259/810 [9:15:38<18:56:51, 123.80s/batch]"
          ]
        },
        {
          "metadata": {
            "tags": null
          },
          "name": "stdout",
          "output_type": "stream",
          "text": [
            "Current file size: 0.6943744421005249\n",
            "Done /content/drive/MyDrive/Datasets/Music-Noise/SNRdB_all-noise_features_2/SNRdB_-10-20/train/train-SNRdB_-10-20_20250319_042511.h5\n",
            "Free disk space: 153.19 GB\n",
            "Creating HDF5 file....\n"
          ]
        },
        {
          "metadata": {
            "tags": null
          },
          "name": "stderr",
          "output_type": "stream",
          "text": [
            "\rProcessing batches:  32%|███▏      | 260/810 [9:17:36<18:39:23, 122.11s/batch]"
          ]
        },
        {
          "metadata": {
            "tags": null
          },
          "name": "stdout",
          "output_type": "stream",
          "text": [
            "Current file size: 0.6943744421005249\n",
            "Done /content/drive/MyDrive/Datasets/Music-Noise/SNRdB_all-noise_features_2/SNRdB_-10-20/train/train-SNRdB_-10-20_20250319_042711.h5\n",
            "Free disk space: 153.20 GB\n",
            "Creating HDF5 file....\n"
          ]
        },
        {
          "metadata": {
            "tags": null
          },
          "name": "stderr",
          "output_type": "stream",
          "text": [
            "\rProcessing batches:  32%|███▏      | 261/810 [9:19:40<18:41:16, 122.54s/batch]"
          ]
        },
        {
          "metadata": {
            "tags": null
          },
          "name": "stdout",
          "output_type": "stream",
          "text": [
            "Current file size: 0.6943744421005249\n",
            "Done /content/drive/MyDrive/Datasets/Music-Noise/SNRdB_all-noise_features_2/SNRdB_-10-20/train/train-SNRdB_-10-20_20250319_042916.h5\n",
            "Free disk space: 153.17 GB\n",
            "Creating HDF5 file....\n"
          ]
        },
        {
          "metadata": {
            "tags": null
          },
          "name": "stderr",
          "output_type": "stream",
          "text": [
            "\rProcessing batches:  32%|███▏      | 262/810 [9:21:40<18:30:53, 121.63s/batch]"
          ]
        },
        {
          "metadata": {
            "tags": null
          },
          "name": "stdout",
          "output_type": "stream",
          "text": [
            "Current file size: 0.6943744421005249\n",
            "Done /content/drive/MyDrive/Datasets/Music-Noise/SNRdB_all-noise_features_2/SNRdB_-10-20/train/train-SNRdB_-10-20_20250319_043116.h5\n",
            "Free disk space: 153.14 GB\n",
            "Creating HDF5 file....\n"
          ]
        },
        {
          "metadata": {
            "tags": null
          },
          "name": "stderr",
          "output_type": "stream",
          "text": [
            "\rProcessing batches:  32%|███▏      | 263/810 [9:23:42<18:30:55, 121.86s/batch]"
          ]
        },
        {
          "metadata": {
            "tags": null
          },
          "name": "stdout",
          "output_type": "stream",
          "text": [
            "Current file size: 0.6943744421005249\n",
            "Done /content/drive/MyDrive/Datasets/Music-Noise/SNRdB_all-noise_features_2/SNRdB_-10-20/train/train-SNRdB_-10-20_20250319_043318.h5\n",
            "Free disk space: 153.11 GB\n",
            "Creating HDF5 file....\n"
          ]
        },
        {
          "metadata": {
            "tags": null
          },
          "name": "stderr",
          "output_type": "stream",
          "text": [
            "\rProcessing batches:  33%|███▎      | 264/810 [9:25:39<18:16:13, 120.46s/batch]"
          ]
        },
        {
          "metadata": {
            "tags": null
          },
          "name": "stdout",
          "output_type": "stream",
          "text": [
            "Current file size: 0.6943744421005249\n",
            "Done /content/drive/MyDrive/Datasets/Music-Noise/SNRdB_all-noise_features_2/SNRdB_-10-20/train/train-SNRdB_-10-20_20250319_043513.h5\n",
            "Free disk space: 153.12 GB\n",
            "Creating HDF5 file....\n"
          ]
        },
        {
          "metadata": {
            "tags": null
          },
          "name": "stderr",
          "output_type": "stream",
          "text": [
            "\rProcessing batches:  33%|███▎      | 265/810 [9:27:41<18:18:40, 120.96s/batch]"
          ]
        },
        {
          "metadata": {
            "tags": null
          },
          "name": "stdout",
          "output_type": "stream",
          "text": [
            "Current file size: 0.6943744421005249\n",
            "Done /content/drive/MyDrive/Datasets/Music-Noise/SNRdB_all-noise_features_2/SNRdB_-10-20/train/train-SNRdB_-10-20_20250319_043713.h5\n",
            "Free disk space: 153.14 GB\n",
            "Creating HDF5 file....\n"
          ]
        },
        {
          "metadata": {
            "tags": null
          },
          "name": "stderr",
          "output_type": "stream",
          "text": [
            "\rProcessing batches:  33%|███▎      | 266/810 [9:29:44<18:21:06, 121.45s/batch]"
          ]
        },
        {
          "metadata": {
            "tags": null
          },
          "name": "stdout",
          "output_type": "stream",
          "text": [
            "Current file size: 0.6943744421005249\n",
            "Done /content/drive/MyDrive/Datasets/Music-Noise/SNRdB_all-noise_features_2/SNRdB_-10-20/train/train-SNRdB_-10-20_20250319_043917.h5\n",
            "Free disk space: 153.21 GB\n",
            "Creating HDF5 file....\n"
          ]
        },
        {
          "metadata": {
            "tags": null
          },
          "name": "stderr",
          "output_type": "stream",
          "text": [
            "\rProcessing batches:  33%|███▎      | 267/810 [9:31:46<18:21:44, 121.74s/batch]"
          ]
        },
        {
          "metadata": {
            "tags": null
          },
          "name": "stdout",
          "output_type": "stream",
          "text": [
            "Current file size: 0.6943744421005249\n",
            "Done /content/drive/MyDrive/Datasets/Music-Noise/SNRdB_all-noise_features_2/SNRdB_-10-20/train/train-SNRdB_-10-20_20250319_044116.h5\n",
            "Free disk space: 153.22 GB\n",
            "Creating HDF5 file....\n"
          ]
        },
        {
          "metadata": {
            "tags": null
          },
          "name": "stderr",
          "output_type": "stream",
          "text": [
            "\rProcessing batches:  33%|███▎      | 268/810 [9:33:50<18:24:07, 122.23s/batch]"
          ]
        },
        {
          "metadata": {
            "tags": null
          },
          "name": "stdout",
          "output_type": "stream",
          "text": [
            "Current file size: 0.6943744421005249\n",
            "Done /content/drive/MyDrive/Datasets/Music-Noise/SNRdB_all-noise_features_2/SNRdB_-10-20/train/train-SNRdB_-10-20_20250319_044319.h5\n",
            "Free disk space: 153.17 GB\n",
            "Creating HDF5 file....\n"
          ]
        },
        {
          "metadata": {
            "tags": null
          },
          "name": "stderr",
          "output_type": "stream",
          "text": [
            "\rProcessing batches:  33%|███▎      | 269/810 [9:35:48<18:10:51, 120.98s/batch]"
          ]
        },
        {
          "metadata": {
            "tags": null
          },
          "name": "stdout",
          "output_type": "stream",
          "text": [
            "Current file size: 0.6943744421005249\n",
            "Done /content/drive/MyDrive/Datasets/Music-Noise/SNRdB_all-noise_features_2/SNRdB_-10-20/train/train-SNRdB_-10-20_20250319_044522.h5\n",
            "Free disk space: 153.13 GB\n",
            "Creating HDF5 file....\n"
          ]
        },
        {
          "metadata": {
            "tags": null
          },
          "name": "stderr",
          "output_type": "stream",
          "text": [
            "\rProcessing batches:  33%|███▎      | 270/810 [9:37:47<18:03:54, 120.43s/batch]"
          ]
        },
        {
          "metadata": {
            "tags": null
          },
          "name": "stdout",
          "output_type": "stream",
          "text": [
            "Current file size: 0.6943744421005249\n",
            "Done /content/drive/MyDrive/Datasets/Music-Noise/SNRdB_all-noise_features_2/SNRdB_-10-20/train/train-SNRdB_-10-20_20250319_044718.h5\n",
            "Free disk space: 153.15 GB\n",
            "Creating HDF5 file....\n"
          ]
        },
        {
          "metadata": {
            "tags": null
          },
          "name": "stderr",
          "output_type": "stream",
          "text": [
            "\rProcessing batches:  33%|███▎      | 271/810 [9:39:56<18:24:15, 122.92s/batch]"
          ]
        },
        {
          "metadata": {
            "tags": null
          },
          "name": "stdout",
          "output_type": "stream",
          "text": [
            "Current file size: 0.6943744421005249\n",
            "Done /content/drive/MyDrive/Datasets/Music-Noise/SNRdB_all-noise_features_2/SNRdB_-10-20/train/train-SNRdB_-10-20_20250319_044921.h5\n",
            "Free disk space: 153.23 GB\n",
            "Creating HDF5 file....\n"
          ]
        },
        {
          "metadata": {
            "tags": null
          },
          "name": "stderr",
          "output_type": "stream",
          "text": [
            "\rProcessing batches:  34%|███▎      | 272/810 [9:42:07<18:44:21, 125.39s/batch]"
          ]
        },
        {
          "metadata": {
            "tags": null
          },
          "name": "stdout",
          "output_type": "stream",
          "text": [
            "Current file size: 0.6943744421005249\n",
            "Done /content/drive/MyDrive/Datasets/Music-Noise/SNRdB_all-noise_features_2/SNRdB_-10-20/train/train-SNRdB_-10-20_20250319_045130.h5\n",
            "Free disk space: 153.25 GB\n",
            "Creating HDF5 file....\n"
          ]
        },
        {
          "metadata": {
            "tags": null
          },
          "name": "stderr",
          "output_type": "stream",
          "text": [
            "\rProcessing batches:  34%|███▎      | 273/810 [9:44:00<18:09:37, 121.75s/batch]"
          ]
        },
        {
          "metadata": {
            "tags": null
          },
          "name": "stdout",
          "output_type": "stream",
          "text": [
            "Current file size: 0.6943744421005249\n",
            "Done /content/drive/MyDrive/Datasets/Music-Noise/SNRdB_all-noise_features_2/SNRdB_-10-20/train/train-SNRdB_-10-20_20250319_045334.h5\n",
            "Free disk space: 153.24 GB\n",
            "Creating HDF5 file....\n",
            "Current file size: 0.6943744421005249\n",
            "Done /content/drive/MyDrive/Datasets/Music-Noise/SNRdB_all-noise_features_2/SNRdB_-10-20/train/train-SNRdB_-10-20_20250319_045532.h5\n"
          ]
        },
        {
          "metadata": {
            "tags": null
          },
          "name": "stderr",
          "output_type": "stream",
          "text": [
            "\rProcessing batches:  34%|███▍      | 274/810 [9:46:03<18:10:39, 122.09s/batch]"
          ]
        },
        {
          "metadata": {
            "tags": null
          },
          "name": "stdout",
          "output_type": "stream",
          "text": [
            "Free disk space: 153.24 GB\n",
            "Creating HDF5 file....\n"
          ]
        },
        {
          "metadata": {
            "tags": null
          },
          "name": "stderr",
          "output_type": "stream",
          "text": [
            "\rProcessing batches:  34%|███▍      | 275/810 [9:48:10<18:21:53, 123.58s/batch]"
          ]
        },
        {
          "metadata": {
            "tags": null
          },
          "name": "stdout",
          "output_type": "stream",
          "text": [
            "Current file size: 0.6943744421005249\n",
            "Done /content/drive/MyDrive/Datasets/Music-Noise/SNRdB_all-noise_features_2/SNRdB_-10-20/train/train-SNRdB_-10-20_20250319_045736.h5\n",
            "Free disk space: 153.24 GB\n",
            "Creating HDF5 file....\n"
          ]
        },
        {
          "metadata": {
            "tags": null
          },
          "name": "stderr",
          "output_type": "stream",
          "text": [
            "\rProcessing batches:  34%|███▍      | 276/810 [9:50:19<18:35:22, 125.32s/batch]"
          ]
        },
        {
          "metadata": {
            "tags": null
          },
          "name": "stdout",
          "output_type": "stream",
          "text": [
            "Current file size: 0.6943744421005249\n",
            "Done /content/drive/MyDrive/Datasets/Music-Noise/SNRdB_all-noise_features_2/SNRdB_-10-20/train/train-SNRdB_-10-20_20250319_045951.h5\n",
            "Free disk space: 153.20 GB\n",
            "Creating HDF5 file....\n"
          ]
        },
        {
          "metadata": {
            "tags": null
          },
          "name": "stderr",
          "output_type": "stream",
          "text": [
            "\rProcessing batches:  34%|███▍      | 277/810 [9:52:14<18:05:30, 122.20s/batch]"
          ]
        },
        {
          "metadata": {
            "tags": null
          },
          "name": "stdout",
          "output_type": "stream",
          "text": [
            "Current file size: 0.6943744421005249\n",
            "Done /content/drive/MyDrive/Datasets/Music-Noise/SNRdB_all-noise_features_2/SNRdB_-10-20/train/train-SNRdB_-10-20_20250319_050150.h5\n",
            "Free disk space: 153.18 GB\n",
            "Creating HDF5 file....\n"
          ]
        },
        {
          "metadata": {
            "tags": null
          },
          "name": "stderr",
          "output_type": "stream",
          "text": [
            "\rProcessing batches:  34%|███▍      | 278/810 [9:54:18<18:08:30, 122.76s/batch]"
          ]
        },
        {
          "metadata": {
            "tags": null
          },
          "name": "stdout",
          "output_type": "stream",
          "text": [
            "Current file size: 0.6943744421005249\n",
            "Done /content/drive/MyDrive/Datasets/Music-Noise/SNRdB_all-noise_features_2/SNRdB_-10-20/train/train-SNRdB_-10-20_20250319_050347.h5\n",
            "Free disk space: 153.16 GB\n",
            "Creating HDF5 file....\n"
          ]
        },
        {
          "metadata": {
            "tags": null
          },
          "name": "stderr",
          "output_type": "stream",
          "text": [
            "\rProcessing batches:  34%|███▍      | 279/810 [9:56:14<17:46:49, 120.55s/batch]"
          ]
        },
        {
          "metadata": {
            "tags": null
          },
          "name": "stdout",
          "output_type": "stream",
          "text": [
            "Current file size: 0.6943744421005249\n",
            "Done /content/drive/MyDrive/Datasets/Music-Noise/SNRdB_all-noise_features_2/SNRdB_-10-20/train/train-SNRdB_-10-20_20250319_050546.h5\n",
            "Free disk space: 153.14 GB\n",
            "Creating HDF5 file....\n"
          ]
        },
        {
          "metadata": {
            "tags": null
          },
          "name": "stderr",
          "output_type": "stream",
          "text": [
            "\rProcessing batches:  35%|███▍      | 280/810 [9:58:16<17:50:22, 121.17s/batch]"
          ]
        },
        {
          "metadata": {
            "tags": null
          },
          "name": "stdout",
          "output_type": "stream",
          "text": [
            "Current file size: 0.6943744421005249\n",
            "Done /content/drive/MyDrive/Datasets/Music-Noise/SNRdB_all-noise_features_2/SNRdB_-10-20/train/train-SNRdB_-10-20_20250319_050746.h5\n",
            "Free disk space: 153.15 GB\n",
            "Creating HDF5 file....\n"
          ]
        },
        {
          "metadata": {
            "tags": null
          },
          "name": "stderr",
          "output_type": "stream",
          "text": [
            "\rProcessing batches:  35%|███▍      | 281/810 [10:00:26<18:10:03, 123.64s/batch]"
          ]
        },
        {
          "metadata": {
            "tags": null
          },
          "name": "stdout",
          "output_type": "stream",
          "text": [
            "Current file size: 0.6943744421005249\n",
            "Done /content/drive/MyDrive/Datasets/Music-Noise/SNRdB_all-noise_features_2/SNRdB_-10-20/train/train-SNRdB_-10-20_20250319_050958.h5\n",
            "Free disk space: 153.21 GB\n",
            "Creating HDF5 file....\n"
          ]
        },
        {
          "metadata": {
            "tags": null
          },
          "name": "stderr",
          "output_type": "stream",
          "text": [
            "\rProcessing batches:  35%|███▍      | 282/810 [10:02:30<18:08:59, 123.75s/batch]"
          ]
        },
        {
          "metadata": {
            "tags": null
          },
          "name": "stdout",
          "output_type": "stream",
          "text": [
            "Current file size: 0.6943744421005249\n",
            "Done /content/drive/MyDrive/Datasets/Music-Noise/SNRdB_all-noise_features_2/SNRdB_-10-20/train/train-SNRdB_-10-20_20250319_051203.h5\n",
            "Free disk space: 153.22 GB\n",
            "Creating HDF5 file....\n"
          ]
        },
        {
          "metadata": {
            "tags": null
          },
          "name": "stderr",
          "output_type": "stream",
          "text": [
            "\rProcessing batches:  35%|███▍      | 283/810 [10:04:35<18:10:40, 124.18s/batch]"
          ]
        },
        {
          "metadata": {
            "tags": null
          },
          "name": "stdout",
          "output_type": "stream",
          "text": [
            "Current file size: 0.6943744421005249\n",
            "Done /content/drive/MyDrive/Datasets/Music-Noise/SNRdB_all-noise_features_2/SNRdB_-10-20/train/train-SNRdB_-10-20_20250319_051405.h5\n",
            "Free disk space: 153.18 GB\n",
            "Creating HDF5 file....\n"
          ]
        },
        {
          "metadata": {
            "tags": null
          },
          "name": "stderr",
          "output_type": "stream",
          "text": [
            "\rProcessing batches:  35%|███▌      | 284/810 [10:06:36<18:01:46, 123.40s/batch]"
          ]
        },
        {
          "metadata": {
            "tags": null
          },
          "name": "stdout",
          "output_type": "stream",
          "text": [
            "Current file size: 0.6943744421005249\n",
            "Done /content/drive/MyDrive/Datasets/Music-Noise/SNRdB_all-noise_features_2/SNRdB_-10-20/train/train-SNRdB_-10-20_20250319_051608.h5\n",
            "Free disk space: 153.20 GB\n",
            "Creating HDF5 file....\n"
          ]
        },
        {
          "metadata": {
            "tags": null
          },
          "name": "stderr",
          "output_type": "stream",
          "text": [
            "\rProcessing batches:  35%|███▌      | 285/810 [10:08:32<17:38:14, 120.94s/batch]"
          ]
        },
        {
          "metadata": {
            "tags": null
          },
          "name": "stdout",
          "output_type": "stream",
          "text": [
            "Current file size: 0.6943744421005249\n",
            "Done /content/drive/MyDrive/Datasets/Music-Noise/SNRdB_all-noise_features_2/SNRdB_-10-20/train/train-SNRdB_-10-20_20250319_051804.h5\n",
            "Free disk space: 153.23 GB\n",
            "Creating HDF5 file....\n"
          ]
        },
        {
          "metadata": {
            "tags": null
          },
          "name": "stderr",
          "output_type": "stream",
          "text": [
            "\rProcessing batches:  35%|███▌      | 286/810 [10:10:28<17:23:35, 119.49s/batch]"
          ]
        },
        {
          "metadata": {
            "tags": null
          },
          "name": "stdout",
          "output_type": "stream",
          "text": [
            "Current file size: 0.6943744421005249\n",
            "Done /content/drive/MyDrive/Datasets/Music-Noise/SNRdB_all-noise_features_2/SNRdB_-10-20/train/train-SNRdB_-10-20_20250319_052006.h5\n",
            "Free disk space: 153.20 GB\n",
            "Creating HDF5 file....\n"
          ]
        },
        {
          "metadata": {
            "tags": null
          },
          "name": "stderr",
          "output_type": "stream",
          "text": [
            "\rProcessing batches:  35%|███▌      | 287/810 [10:12:28<17:22:56, 119.65s/batch]"
          ]
        },
        {
          "metadata": {
            "tags": null
          },
          "name": "stdout",
          "output_type": "stream",
          "text": [
            "Current file size: 0.6943744421005249\n",
            "Done /content/drive/MyDrive/Datasets/Music-Noise/SNRdB_all-noise_features_2/SNRdB_-10-20/train/train-SNRdB_-10-20_20250319_052203.h5\n",
            "Free disk space: 153.18 GB\n",
            "Creating HDF5 file....\n"
          ]
        },
        {
          "metadata": {
            "tags": null
          },
          "name": "stderr",
          "output_type": "stream",
          "text": [
            "\rProcessing batches:  36%|███▌      | 288/810 [10:14:34<17:39:14, 121.75s/batch]"
          ]
        },
        {
          "metadata": {
            "tags": null
          },
          "name": "stdout",
          "output_type": "stream",
          "text": [
            "Current file size: 0.6943744421005249\n",
            "Done /content/drive/MyDrive/Datasets/Music-Noise/SNRdB_all-noise_features_2/SNRdB_-10-20/train/train-SNRdB_-10-20_20250319_052359.h5\n",
            "Free disk space: 153.14 GB\n",
            "Creating HDF5 file....\n"
          ]
        },
        {
          "metadata": {
            "tags": null
          },
          "name": "stderr",
          "output_type": "stream",
          "text": [
            "\rProcessing batches:  36%|███▌      | 289/810 [10:16:38<17:42:20, 122.34s/batch]"
          ]
        },
        {
          "metadata": {
            "tags": null
          },
          "name": "stdout",
          "output_type": "stream",
          "text": [
            "Current file size: 0.6943744421005249\n",
            "Done /content/drive/MyDrive/Datasets/Music-Noise/SNRdB_all-noise_features_2/SNRdB_-10-20/train/train-SNRdB_-10-20_20250319_052609.h5\n",
            "Free disk space: 153.10 GB\n",
            "Creating HDF5 file....\n",
            "Current file size: 0.6943744421005249\n",
            "Done /content/drive/MyDrive/Datasets/Music-Noise/SNRdB_all-noise_features_2/SNRdB_-10-20/train/train-SNRdB_-10-20_20250319_052802.h5\n",
            "Free disk space: 153.19 GB\n"
          ]
        },
        {
          "metadata": {
            "tags": null
          },
          "name": "stderr",
          "output_type": "stream",
          "text": [
            "\rProcessing batches:  36%|███▌      | 290/810 [10:18:34<17:23:47, 120.44s/batch]"
          ]
        },
        {
          "metadata": {
            "tags": null
          },
          "name": "stdout",
          "output_type": "stream",
          "text": [
            "Creating HDF5 file....\n"
          ]
        },
        {
          "metadata": {
            "tags": null
          },
          "name": "stderr",
          "output_type": "stream",
          "text": [
            "\rProcessing batches:  36%|███▌      | 291/810 [10:20:36<17:25:04, 120.82s/batch]"
          ]
        },
        {
          "metadata": {
            "tags": null
          },
          "name": "stdout",
          "output_type": "stream",
          "text": [
            "Current file size: 0.6943744421005249\n",
            "Done /content/drive/MyDrive/Datasets/Music-Noise/SNRdB_all-noise_features_2/SNRdB_-10-20/train/train-SNRdB_-10-20_20250319_053006.h5\n",
            "Free disk space: 153.18 GB\n",
            "Creating HDF5 file....\n"
          ]
        },
        {
          "metadata": {
            "tags": null
          },
          "name": "stderr",
          "output_type": "stream",
          "text": [
            "\rProcessing batches:  36%|███▌      | 292/810 [10:22:46<17:48:12, 123.73s/batch]"
          ]
        },
        {
          "output_type": "stream",
          "name": "stdout",
          "text": [
            "Current file size: 0.6943744421005249\n",
            "Done /content/drive/MyDrive/Datasets/Music-Noise/SNRdB_all-noise_features_2/SNRdB_-10-20/train/train-SNRdB_-10-20_20250319_053210.h5\n",
            "Free disk space: 153.26 GB\n",
            "Creating HDF5 file....\n",
            "Current file size: 0.6943744421005249\n",
            "Done /content/drive/MyDrive/Datasets/Music-Noise/SNRdB_all-noise_features_2/SNRdB_-10-20/train/train-SNRdB_-10-20_20250319_053423.h5\n"
          ]
        },
        {
          "output_type": "stream",
          "name": "stderr",
          "text": [
            "\rProcessing batches:  36%|███▌      | 293/810 [10:24:56<18:01:33, 125.52s/batch]"
          ]
        },
        {
          "output_type": "stream",
          "name": "stdout",
          "text": [
            "Free disk space: 153.29 GB\n",
            "Creating HDF5 file....\n"
          ]
        },
        {
          "output_type": "stream",
          "name": "stderr",
          "text": [
            "\rProcessing batches:  36%|███▋      | 294/810 [10:27:03<18:03:39, 126.01s/batch]"
          ]
        },
        {
          "output_type": "stream",
          "name": "stdout",
          "text": [
            "Current file size: 0.6943744421005249\n",
            "Done /content/drive/MyDrive/Datasets/Music-Noise/SNRdB_all-noise_features_2/SNRdB_-10-20/train/train-SNRdB_-10-20_20250319_053631.h5\n",
            "Free disk space: 153.27 GB\n",
            "Creating HDF5 file....\n"
          ]
        },
        {
          "output_type": "stream",
          "name": "stderr",
          "text": [
            "\rProcessing batches:  36%|███▋      | 295/810 [10:29:11<18:05:19, 126.45s/batch]"
          ]
        },
        {
          "output_type": "stream",
          "name": "stdout",
          "text": [
            "Current file size: 0.6943744421005249\n",
            "Done /content/drive/MyDrive/Datasets/Music-Noise/SNRdB_all-noise_features_2/SNRdB_-10-20/train/train-SNRdB_-10-20_20250319_053841.h5\n",
            "Free disk space: 153.26 GB\n",
            "Creating HDF5 file....\n"
          ]
        },
        {
          "output_type": "stream",
          "name": "stderr",
          "text": [
            "\rProcessing batches:  37%|███▋      | 296/810 [10:31:19<18:08:19, 127.04s/batch]"
          ]
        },
        {
          "output_type": "stream",
          "name": "stdout",
          "text": [
            "Current file size: 0.6943744421005249\n",
            "Done /content/drive/MyDrive/Datasets/Music-Noise/SNRdB_all-noise_features_2/SNRdB_-10-20/train/train-SNRdB_-10-20_20250319_054053.h5\n",
            "Free disk space: 153.23 GB\n",
            "Creating HDF5 file....\n"
          ]
        },
        {
          "output_type": "stream",
          "name": "stderr",
          "text": [
            "\rProcessing batches:  37%|███▋      | 297/810 [10:33:22<17:56:14, 125.88s/batch]"
          ]
        },
        {
          "output_type": "stream",
          "name": "stdout",
          "text": [
            "Current file size: 0.6943744421005249\n",
            "Done /content/drive/MyDrive/Datasets/Music-Noise/SNRdB_all-noise_features_2/SNRdB_-10-20/train/train-SNRdB_-10-20_20250319_054256.h5\n",
            "Free disk space: 153.26 GB\n",
            "Creating HDF5 file....\n"
          ]
        },
        {
          "output_type": "stream",
          "name": "stderr",
          "text": [
            "\rProcessing batches:  37%|███▋      | 298/810 [10:35:20<17:33:26, 123.45s/batch]"
          ]
        },
        {
          "output_type": "stream",
          "name": "stdout",
          "text": [
            "Current file size: 0.6943744421005249\n",
            "Done /content/drive/MyDrive/Datasets/Music-Noise/SNRdB_all-noise_features_2/SNRdB_-10-20/train/train-SNRdB_-10-20_20250319_054451.h5\n",
            "Free disk space: 153.26 GB\n",
            "Creating HDF5 file....\n"
          ]
        },
        {
          "output_type": "stream",
          "name": "stderr",
          "text": [
            "\rProcessing batches:  37%|███▋      | 299/810 [10:37:19<17:19:35, 122.07s/batch]"
          ]
        },
        {
          "output_type": "stream",
          "name": "stdout",
          "text": [
            "Current file size: 0.6943744421005249\n",
            "Done /content/drive/MyDrive/Datasets/Music-Noise/SNRdB_all-noise_features_2/SNRdB_-10-20/train/train-SNRdB_-10-20_20250319_054651.h5\n",
            "Free disk space: 153.26 GB\n",
            "Creating HDF5 file....\n"
          ]
        },
        {
          "output_type": "stream",
          "name": "stderr",
          "text": [
            "\rProcessing batches:  37%|███▋      | 300/810 [10:39:28<17:36:09, 124.25s/batch]"
          ]
        },
        {
          "output_type": "stream",
          "name": "stdout",
          "text": [
            "Current file size: 0.6943744421005249\n",
            "Done /content/drive/MyDrive/Datasets/Music-Noise/SNRdB_all-noise_features_2/SNRdB_-10-20/train/train-SNRdB_-10-20_20250319_054853.h5\n",
            "Free disk space: 153.27 GB\n",
            "Creating HDF5 file....\n"
          ]
        },
        {
          "output_type": "stream",
          "name": "stderr",
          "text": [
            "\rProcessing batches:  37%|███▋      | 301/810 [10:41:31<17:29:54, 123.76s/batch]"
          ]
        },
        {
          "output_type": "stream",
          "name": "stdout",
          "text": [
            "Current file size: 0.6943744421005249\n",
            "Done /content/drive/MyDrive/Datasets/Music-Noise/SNRdB_all-noise_features_2/SNRdB_-10-20/train/train-SNRdB_-10-20_20250319_055101.h5\n",
            "Free disk space: 153.25 GB\n",
            "Creating HDF5 file....\n"
          ]
        },
        {
          "output_type": "stream",
          "name": "stderr",
          "text": [
            "\rProcessing batches:  37%|███▋      | 302/810 [10:43:32<17:20:08, 122.85s/batch]"
          ]
        },
        {
          "output_type": "stream",
          "name": "stdout",
          "text": [
            "Current file size: 0.6943744421005249\n",
            "Done /content/drive/MyDrive/Datasets/Music-Noise/SNRdB_all-noise_features_2/SNRdB_-10-20/train/train-SNRdB_-10-20_20250319_055305.h5\n",
            "Free disk space: 153.20 GB\n",
            "Creating HDF5 file....\n"
          ]
        },
        {
          "output_type": "stream",
          "name": "stderr",
          "text": [
            "\rProcessing batches:  37%|███▋      | 303/810 [10:45:35<17:19:25, 123.01s/batch]"
          ]
        },
        {
          "output_type": "stream",
          "name": "stdout",
          "text": [
            "Current file size: 0.6943744421005249\n",
            "Done /content/drive/MyDrive/Datasets/Music-Noise/SNRdB_all-noise_features_2/SNRdB_-10-20/train/train-SNRdB_-10-20_20250319_055507.h5\n",
            "Free disk space: 153.18 GB\n",
            "Creating HDF5 file....\n"
          ]
        },
        {
          "output_type": "stream",
          "name": "stderr",
          "text": [
            "\rProcessing batches:  38%|███▊      | 304/810 [10:47:34<17:07:04, 121.79s/batch]"
          ]
        },
        {
          "output_type": "stream",
          "name": "stdout",
          "text": [
            "Current file size: 0.6943744421005249\n",
            "Done /content/drive/MyDrive/Datasets/Music-Noise/SNRdB_all-noise_features_2/SNRdB_-10-20/train/train-SNRdB_-10-20_20250319_055709.h5\n",
            "Free disk space: 153.16 GB\n",
            "Creating HDF5 file....\n"
          ]
        },
        {
          "output_type": "stream",
          "name": "stderr",
          "text": [
            "\rProcessing batches:  38%|███▊      | 305/810 [10:49:39<17:13:07, 122.75s/batch]"
          ]
        },
        {
          "output_type": "stream",
          "name": "stdout",
          "text": [
            "Current file size: 0.6943744421005249\n",
            "Done /content/drive/MyDrive/Datasets/Music-Noise/SNRdB_all-noise_features_2/SNRdB_-10-20/train/train-SNRdB_-10-20_20250319_055911.h5\n",
            "Free disk space: 153.16 GB\n",
            "Creating HDF5 file....\n"
          ]
        },
        {
          "output_type": "stream",
          "name": "stderr",
          "text": [
            "\rProcessing batches:  38%|███▊      | 306/810 [10:51:46<17:22:24, 124.10s/batch]"
          ]
        },
        {
          "output_type": "stream",
          "name": "stdout",
          "text": [
            "Current file size: 0.6943744421005249\n",
            "Done /content/drive/MyDrive/Datasets/Music-Noise/SNRdB_all-noise_features_2/SNRdB_-10-20/train/train-SNRdB_-10-20_20250319_060120.h5\n",
            "Free disk space: 153.16 GB\n",
            "Creating HDF5 file....\n"
          ]
        },
        {
          "output_type": "stream",
          "name": "stderr",
          "text": [
            "\rProcessing batches:  38%|███▊      | 307/810 [10:53:49<17:18:22, 123.86s/batch]"
          ]
        },
        {
          "output_type": "stream",
          "name": "stdout",
          "text": [
            "Current file size: 0.6943744421005249\n",
            "Done /content/drive/MyDrive/Datasets/Music-Noise/SNRdB_all-noise_features_2/SNRdB_-10-20/train/train-SNRdB_-10-20_20250319_060322.h5\n",
            "Free disk space: 153.16 GB\n",
            "Creating HDF5 file....\n"
          ]
        },
        {
          "output_type": "stream",
          "name": "stderr",
          "text": [
            "\rProcessing batches:  38%|███▊      | 308/810 [10:55:59<17:30:26, 125.55s/batch]"
          ]
        },
        {
          "output_type": "stream",
          "name": "stdout",
          "text": [
            "Current file size: 0.6943744421005249\n",
            "Done /content/drive/MyDrive/Datasets/Music-Noise/SNRdB_all-noise_features_2/SNRdB_-10-20/train/train-SNRdB_-10-20_20250319_060533.h5\n",
            "Free disk space: 153.24 GB\n",
            "Creating HDF5 file....\n"
          ]
        },
        {
          "output_type": "stream",
          "name": "stderr",
          "text": [
            "\rProcessing batches:  38%|███▊      | 309/810 [10:58:12<17:46:33, 127.73s/batch]"
          ]
        },
        {
          "output_type": "stream",
          "name": "stdout",
          "text": [
            "Current file size: 0.6943744421005249\n",
            "Done /content/drive/MyDrive/Datasets/Music-Noise/SNRdB_all-noise_features_2/SNRdB_-10-20/train/train-SNRdB_-10-20_20250319_060739.h5\n",
            "Free disk space: 153.21 GB\n",
            "Creating HDF5 file....\n"
          ]
        },
        {
          "output_type": "stream",
          "name": "stderr",
          "text": [
            "\rProcessing batches:  38%|███▊      | 310/810 [11:00:21<17:48:17, 128.19s/batch]"
          ]
        },
        {
          "output_type": "stream",
          "name": "stdout",
          "text": [
            "Current file size: 0.6943744421005249\n",
            "Done /content/drive/MyDrive/Datasets/Music-Noise/SNRdB_all-noise_features_2/SNRdB_-10-20/train/train-SNRdB_-10-20_20250319_060955.h5\n",
            "Free disk space: 153.22 GB\n",
            "Creating HDF5 file....\n"
          ]
        },
        {
          "output_type": "stream",
          "name": "stderr",
          "text": [
            "\rProcessing batches:  38%|███▊      | 311/810 [11:02:22<17:29:07, 126.15s/batch]"
          ]
        },
        {
          "output_type": "stream",
          "name": "stdout",
          "text": [
            "Current file size: 0.6943744421005249\n",
            "Done /content/drive/MyDrive/Datasets/Music-Noise/SNRdB_all-noise_features_2/SNRdB_-10-20/train/train-SNRdB_-10-20_20250319_061155.h5\n",
            "Free disk space: 153.20 GB\n",
            "Creating HDF5 file....\n"
          ]
        },
        {
          "output_type": "stream",
          "name": "stderr",
          "text": [
            "\rProcessing batches:  39%|███▊      | 312/810 [11:04:18<17:01:06, 123.03s/batch]"
          ]
        },
        {
          "output_type": "stream",
          "name": "stdout",
          "text": [
            "Current file size: 0.6943744421005249\n",
            "Done /content/drive/MyDrive/Datasets/Music-Noise/SNRdB_all-noise_features_2/SNRdB_-10-20/train/train-SNRdB_-10-20_20250319_061353.h5\n",
            "Free disk space: 153.16 GB\n",
            "Creating HDF5 file....\n"
          ]
        },
        {
          "output_type": "stream",
          "name": "stderr",
          "text": [
            "\rProcessing batches:  39%|███▊      | 313/810 [11:06:22<17:00:54, 123.25s/batch]"
          ]
        },
        {
          "output_type": "stream",
          "name": "stdout",
          "text": [
            "Current file size: 0.6943744421005249\n",
            "Done /content/drive/MyDrive/Datasets/Music-Noise/SNRdB_all-noise_features_2/SNRdB_-10-20/train/train-SNRdB_-10-20_20250319_061551.h5\n",
            "Free disk space: 153.13 GB\n",
            "Creating HDF5 file....\n"
          ]
        },
        {
          "output_type": "stream",
          "name": "stderr",
          "text": [
            "\rProcessing batches:  39%|███▉      | 314/810 [11:08:31<17:13:39, 125.04s/batch]"
          ]
        },
        {
          "output_type": "stream",
          "name": "stdout",
          "text": [
            "Current file size: 0.6943744421005249\n",
            "Done /content/drive/MyDrive/Datasets/Music-Noise/SNRdB_all-noise_features_2/SNRdB_-10-20/train/train-SNRdB_-10-20_20250319_061759.h5\n",
            "Free disk space: 153.15 GB\n",
            "Creating HDF5 file....\n"
          ]
        },
        {
          "output_type": "stream",
          "name": "stderr",
          "text": [
            "\rProcessing batches:  39%|███▉      | 315/810 [11:10:28<16:52:14, 122.70s/batch]"
          ]
        },
        {
          "output_type": "stream",
          "name": "stdout",
          "text": [
            "Current file size: 0.6943744421005249\n",
            "Done /content/drive/MyDrive/Datasets/Music-Noise/SNRdB_all-noise_features_2/SNRdB_-10-20/train/train-SNRdB_-10-20_20250319_062005.h5\n",
            "Free disk space: 153.15 GB\n",
            "Creating HDF5 file....\n"
          ]
        },
        {
          "output_type": "stream",
          "name": "stderr",
          "text": [
            "\rProcessing batches:  39%|███▉      | 316/810 [11:12:30<16:46:43, 122.27s/batch]"
          ]
        },
        {
          "output_type": "stream",
          "name": "stdout",
          "text": [
            "Current file size: 0.6943744421005249\n",
            "Done /content/drive/MyDrive/Datasets/Music-Noise/SNRdB_all-noise_features_2/SNRdB_-10-20/train/train-SNRdB_-10-20_20250319_062159.h5\n",
            "Free disk space: 153.13 GB\n",
            "Creating HDF5 file....\n",
            "Current file size: 0.6943744421005249\n",
            "Done /content/drive/MyDrive/Datasets/Music-Noise/SNRdB_all-noise_features_2/SNRdB_-10-20/train/train-SNRdB_-10-20_20250319_062403.h5\n"
          ]
        },
        {
          "output_type": "stream",
          "name": "stderr",
          "text": [
            "\rProcessing batches:  39%|███▉      | 317/810 [11:14:40<17:05:49, 124.85s/batch]"
          ]
        },
        {
          "output_type": "stream",
          "name": "stdout",
          "text": [
            "Free disk space: 153.11 GB\n",
            "Creating HDF5 file....\n"
          ]
        },
        {
          "output_type": "stream",
          "name": "stderr",
          "text": [
            "\rProcessing batches:  39%|███▉      | 318/810 [11:16:43<16:57:06, 124.04s/batch]"
          ]
        },
        {
          "output_type": "stream",
          "name": "stdout",
          "text": [
            "Current file size: 0.6943744421005249\n",
            "Done /content/drive/MyDrive/Datasets/Music-Noise/SNRdB_all-noise_features_2/SNRdB_-10-20/train/train-SNRdB_-10-20_20250319_062614.h5\n",
            "Free disk space: 153.14 GB\n",
            "Creating HDF5 file....\n"
          ]
        },
        {
          "output_type": "stream",
          "name": "stderr",
          "text": [
            "\rProcessing batches:  39%|███▉      | 319/810 [11:18:57<17:20:54, 127.20s/batch]"
          ]
        },
        {
          "output_type": "stream",
          "name": "stdout",
          "text": [
            "Current file size: 0.6943744421005249\n",
            "Done /content/drive/MyDrive/Datasets/Music-Noise/SNRdB_all-noise_features_2/SNRdB_-10-20/train/train-SNRdB_-10-20_20250319_062829.h5\n",
            "Free disk space: 153.25 GB\n",
            "Creating HDF5 file....\n"
          ]
        },
        {
          "output_type": "stream",
          "name": "stderr",
          "text": [
            "\rProcessing batches:  40%|███▉      | 320/810 [11:20:57<17:00:05, 124.91s/batch]"
          ]
        },
        {
          "output_type": "stream",
          "name": "stdout",
          "text": [
            "Current file size: 0.6943744421005249\n",
            "Done /content/drive/MyDrive/Datasets/Music-Noise/SNRdB_all-noise_features_2/SNRdB_-10-20/train/train-SNRdB_-10-20_20250319_063030.h5\n",
            "Free disk space: 153.27 GB\n",
            "Creating HDF5 file....\n"
          ]
        },
        {
          "output_type": "stream",
          "name": "stderr",
          "text": [
            "\rProcessing batches:  40%|███▉      | 321/810 [11:23:01<16:56:48, 124.76s/batch]"
          ]
        },
        {
          "output_type": "stream",
          "name": "stdout",
          "text": [
            "Current file size: 0.6943744421005249\n",
            "Done /content/drive/MyDrive/Datasets/Music-Noise/SNRdB_all-noise_features_2/SNRdB_-10-20/train/train-SNRdB_-10-20_20250319_063234.h5\n",
            "Free disk space: 153.26 GB\n",
            "Creating HDF5 file....\n"
          ]
        },
        {
          "output_type": "stream",
          "name": "stderr",
          "text": [
            "\rProcessing batches:  40%|███▉      | 322/810 [11:25:11<17:06:39, 126.23s/batch]"
          ]
        },
        {
          "output_type": "stream",
          "name": "stdout",
          "text": [
            "Current file size: 0.6943744421005249\n",
            "Done /content/drive/MyDrive/Datasets/Music-Noise/SNRdB_all-noise_features_2/SNRdB_-10-20/train/train-SNRdB_-10-20_20250319_063447.h5\n",
            "Free disk space: 153.23 GB\n",
            "Creating HDF5 file....\n"
          ]
        },
        {
          "output_type": "stream",
          "name": "stderr",
          "text": [
            "\rProcessing batches:  40%|███▉      | 323/810 [11:27:13<16:55:45, 125.15s/batch]"
          ]
        },
        {
          "output_type": "stream",
          "name": "stdout",
          "text": [
            "Current file size: 0.6943744421005249\n",
            "Done /content/drive/MyDrive/Datasets/Music-Noise/SNRdB_all-noise_features_2/SNRdB_-10-20/train/train-SNRdB_-10-20_20250319_063644.h5\n",
            "Free disk space: 153.21 GB\n",
            "Creating HDF5 file....\n"
          ]
        },
        {
          "output_type": "stream",
          "name": "stderr",
          "text": [
            "\rProcessing batches:  40%|████      | 324/810 [11:29:20<16:56:30, 125.49s/batch]"
          ]
        },
        {
          "output_type": "stream",
          "name": "stdout",
          "text": [
            "Current file size: 0.6943744421005249\n",
            "Done /content/drive/MyDrive/Datasets/Music-Noise/SNRdB_all-noise_features_2/SNRdB_-10-20/train/train-SNRdB_-10-20_20250319_063849.h5\n",
            "Free disk space: 153.21 GB\n",
            "Creating HDF5 file....\n"
          ]
        },
        {
          "output_type": "stream",
          "name": "stderr",
          "text": [
            "\rProcessing batches:  40%|████      | 325/810 [11:31:32<17:10:38, 127.50s/batch]"
          ]
        },
        {
          "output_type": "stream",
          "name": "stdout",
          "text": [
            "Current file size: 0.6943744421005249\n",
            "Done /content/drive/MyDrive/Datasets/Music-Noise/SNRdB_all-noise_features_2/SNRdB_-10-20/train/train-SNRdB_-10-20_20250319_064058.h5\n",
            "Free disk space: 153.24 GB\n",
            "Creating HDF5 file....\n"
          ]
        },
        {
          "output_type": "stream",
          "name": "stderr",
          "text": [
            "\rProcessing batches:  40%|████      | 326/810 [11:33:40<17:09:41, 127.65s/batch]"
          ]
        },
        {
          "output_type": "stream",
          "name": "stdout",
          "text": [
            "Current file size: 0.6943744421005249\n",
            "Done /content/drive/MyDrive/Datasets/Music-Noise/SNRdB_all-noise_features_2/SNRdB_-10-20/train/train-SNRdB_-10-20_20250319_064308.h5\n",
            "Free disk space: 153.21 GB\n",
            "Creating HDF5 file....\n"
          ]
        },
        {
          "output_type": "stream",
          "name": "stderr",
          "text": [
            "\rProcessing batches:  40%|████      | 327/810 [11:35:41<16:50:39, 125.55s/batch]"
          ]
        },
        {
          "output_type": "stream",
          "name": "stdout",
          "text": [
            "Current file size: 0.6943744421005249\n",
            "Done /content/drive/MyDrive/Datasets/Music-Noise/SNRdB_all-noise_features_2/SNRdB_-10-20/train/train-SNRdB_-10-20_20250319_064512.h5\n",
            "Free disk space: 153.18 GB\n",
            "Creating HDF5 file....\n",
            "Current file size: 0.6943744421005249\n",
            "Done /content/drive/MyDrive/Datasets/Music-Noise/SNRdB_all-noise_features_2/SNRdB_-10-20/train/train-SNRdB_-10-20_20250319_064708.h5\n"
          ]
        },
        {
          "output_type": "stream",
          "name": "stderr",
          "text": [
            "\rProcessing batches:  40%|████      | 328/810 [11:37:35<16:21:40, 122.20s/batch]"
          ]
        },
        {
          "output_type": "stream",
          "name": "stdout",
          "text": [
            "Free disk space: 153.18 GB\n",
            "Creating HDF5 file....\n"
          ]
        },
        {
          "output_type": "stream",
          "name": "stderr",
          "text": [
            "\rProcessing batches:  41%|████      | 329/810 [11:39:33<16:09:24, 120.92s/batch]"
          ]
        },
        {
          "output_type": "stream",
          "name": "stdout",
          "text": [
            "Current file size: 0.6943744421005249\n",
            "Done /content/drive/MyDrive/Datasets/Music-Noise/SNRdB_all-noise_features_2/SNRdB_-10-20/train/train-SNRdB_-10-20_20250319_064906.h5\n",
            "Free disk space: 153.29 GB\n",
            "Creating HDF5 file....\n"
          ]
        },
        {
          "output_type": "stream",
          "name": "stderr",
          "text": [
            "\rProcessing batches:  41%|████      | 330/810 [11:41:36<16:12:02, 121.51s/batch]"
          ]
        },
        {
          "output_type": "stream",
          "name": "stdout",
          "text": [
            "Current file size: 0.6943744421005249\n",
            "Done /content/drive/MyDrive/Datasets/Music-Noise/SNRdB_all-noise_features_2/SNRdB_-10-20/train/train-SNRdB_-10-20_20250319_065111.h5\n",
            "Free disk space: 153.26 GB\n",
            "Creating HDF5 file....\n"
          ]
        },
        {
          "output_type": "stream",
          "name": "stderr",
          "text": [
            "\rProcessing batches:  41%|████      | 331/810 [11:43:34<16:02:03, 120.51s/batch]"
          ]
        },
        {
          "output_type": "stream",
          "name": "stdout",
          "text": [
            "Current file size: 0.6943744421005249\n",
            "Done /content/drive/MyDrive/Datasets/Music-Noise/SNRdB_all-noise_features_2/SNRdB_-10-20/train/train-SNRdB_-10-20_20250319_065309.h5\n",
            "Free disk space: 153.23 GB\n",
            "Creating HDF5 file....\n"
          ]
        },
        {
          "output_type": "stream",
          "name": "stderr",
          "text": [
            "\rProcessing batches:  41%|████      | 332/810 [11:45:34<15:59:14, 120.41s/batch]"
          ]
        },
        {
          "output_type": "stream",
          "name": "stdout",
          "text": [
            "Current file size: 0.6943744421005249\n",
            "Done /content/drive/MyDrive/Datasets/Music-Noise/SNRdB_all-noise_features_2/SNRdB_-10-20/train/train-SNRdB_-10-20_20250319_065504.h5\n",
            "Free disk space: 153.20 GB\n",
            "Creating HDF5 file....\n"
          ]
        },
        {
          "output_type": "stream",
          "name": "stderr",
          "text": [
            "\rProcessing batches:  41%|████      | 333/810 [11:47:41<16:12:04, 122.27s/batch]"
          ]
        },
        {
          "output_type": "stream",
          "name": "stdout",
          "text": [
            "Current file size: 0.6943744421005249\n",
            "Done /content/drive/MyDrive/Datasets/Music-Noise/SNRdB_all-noise_features_2/SNRdB_-10-20/train/train-SNRdB_-10-20_20250319_065706.h5\n",
            "Free disk space: 153.21 GB\n",
            "Creating HDF5 file....\n",
            "Current file size: 0.6943744421005249\n",
            "Done /content/drive/MyDrive/Datasets/Music-Noise/SNRdB_all-noise_features_2/SNRdB_-10-20/train/train-SNRdB_-10-20_20250319_065914.h5\n"
          ]
        },
        {
          "output_type": "stream",
          "name": "stderr",
          "text": [
            "\rProcessing batches:  41%|████      | 334/810 [11:49:44<16:12:04, 122.53s/batch]"
          ]
        },
        {
          "output_type": "stream",
          "name": "stdout",
          "text": [
            "Free disk space: 153.23 GB\n",
            "Creating HDF5 file....\n"
          ]
        },
        {
          "output_type": "stream",
          "name": "stderr",
          "text": [
            "\rProcessing batches:  41%|████▏     | 335/810 [11:51:46<16:09:05, 122.41s/batch]"
          ]
        },
        {
          "output_type": "stream",
          "name": "stdout",
          "text": [
            "Current file size: 0.6943744421005249\n",
            "Done /content/drive/MyDrive/Datasets/Music-Noise/SNRdB_all-noise_features_2/SNRdB_-10-20/train/train-SNRdB_-10-20_20250319_070121.h5\n",
            "Free disk space: 153.21 GB\n",
            "Creating HDF5 file....\n"
          ]
        },
        {
          "output_type": "stream",
          "name": "stderr",
          "text": [
            "\rProcessing batches:  41%|████▏     | 336/810 [11:53:51<16:12:11, 123.06s/batch]"
          ]
        },
        {
          "output_type": "stream",
          "name": "stdout",
          "text": [
            "Current file size: 0.6943744421005249\n",
            "Done /content/drive/MyDrive/Datasets/Music-Noise/SNRdB_all-noise_features_2/SNRdB_-10-20/train/train-SNRdB_-10-20_20250319_070325.h5\n",
            "Free disk space: 153.24 GB\n",
            "Creating HDF5 file....\n"
          ]
        },
        {
          "output_type": "stream",
          "name": "stderr",
          "text": [
            "\rProcessing batches:  42%|████▏     | 337/810 [11:55:55<16:12:04, 123.31s/batch]"
          ]
        },
        {
          "output_type": "stream",
          "name": "stdout",
          "text": [
            "Current file size: 0.6943744421005249\n",
            "Done /content/drive/MyDrive/Datasets/Music-Noise/SNRdB_all-noise_features_2/SNRdB_-10-20/train/train-SNRdB_-10-20_20250319_070527.h5\n",
            "Free disk space: 153.36 GB\n",
            "Creating HDF5 file....\n"
          ]
        },
        {
          "output_type": "stream",
          "name": "stderr",
          "text": [
            "\rProcessing batches:  42%|████▏     | 338/810 [11:58:01<16:17:48, 124.30s/batch]"
          ]
        },
        {
          "output_type": "stream",
          "name": "stdout",
          "text": [
            "Current file size: 0.6943744421005249\n",
            "Done /content/drive/MyDrive/Datasets/Music-Noise/SNRdB_all-noise_features_2/SNRdB_-10-20/train/train-SNRdB_-10-20_20250319_070731.h5\n",
            "Free disk space: 153.33 GB\n",
            "Creating HDF5 file....\n"
          ]
        },
        {
          "output_type": "stream",
          "name": "stderr",
          "text": [
            "\rProcessing batches:  42%|████▏     | 339/810 [12:00:02<16:08:32, 123.38s/batch]"
          ]
        },
        {
          "output_type": "stream",
          "name": "stdout",
          "text": [
            "Current file size: 0.6943744421005249\n",
            "Done /content/drive/MyDrive/Datasets/Music-Noise/SNRdB_all-noise_features_2/SNRdB_-10-20/train/train-SNRdB_-10-20_20250319_070932.h5\n",
            "Free disk space: 153.32 GB\n",
            "Creating HDF5 file....\n"
          ]
        },
        {
          "output_type": "stream",
          "name": "stderr",
          "text": [
            "\rProcessing batches:  42%|████▏     | 340/810 [12:02:10<16:16:35, 124.67s/batch]"
          ]
        },
        {
          "output_type": "stream",
          "name": "stdout",
          "text": [
            "Current file size: 0.6943744421005249\n",
            "Done /content/drive/MyDrive/Datasets/Music-Noise/SNRdB_all-noise_features_2/SNRdB_-10-20/train/train-SNRdB_-10-20_20250319_071144.h5\n",
            "Free disk space: 153.28 GB\n",
            "Creating HDF5 file....\n"
          ]
        },
        {
          "output_type": "stream",
          "name": "stderr",
          "text": [
            "\rProcessing batches:  42%|████▏     | 341/810 [12:04:10<16:04:06, 123.34s/batch]"
          ]
        },
        {
          "output_type": "stream",
          "name": "stdout",
          "text": [
            "Current file size: 0.6943744421005249\n",
            "Done /content/drive/MyDrive/Datasets/Music-Noise/SNRdB_all-noise_features_2/SNRdB_-10-20/train/train-SNRdB_-10-20_20250319_071345.h5\n",
            "Free disk space: 153.29 GB\n",
            "Creating HDF5 file....\n"
          ]
        },
        {
          "output_type": "stream",
          "name": "stderr",
          "text": [
            "\rProcessing batches:  42%|████▏     | 342/810 [12:06:17<16:10:41, 124.45s/batch]"
          ]
        },
        {
          "output_type": "stream",
          "name": "stdout",
          "text": [
            "Current file size: 0.6943744421005249\n",
            "Done /content/drive/MyDrive/Datasets/Music-Noise/SNRdB_all-noise_features_2/SNRdB_-10-20/train/train-SNRdB_-10-20_20250319_071552.h5\n",
            "Free disk space: 153.26 GB\n",
            "Creating HDF5 file....\n"
          ]
        },
        {
          "output_type": "stream",
          "name": "stderr",
          "text": [
            "\rProcessing batches:  42%|████▏     | 343/810 [12:08:28<16:23:34, 126.37s/batch]"
          ]
        },
        {
          "output_type": "stream",
          "name": "stdout",
          "text": [
            "Current file size: 0.6943744421005249\n",
            "Done /content/drive/MyDrive/Datasets/Music-Noise/SNRdB_all-noise_features_2/SNRdB_-10-20/train/train-SNRdB_-10-20_20250319_071800.h5\n",
            "Free disk space: 153.27 GB\n",
            "Creating HDF5 file....\n"
          ]
        },
        {
          "output_type": "stream",
          "name": "stderr",
          "text": [
            "\rProcessing batches:  42%|████▏     | 344/810 [12:10:28<16:06:59, 124.51s/batch]"
          ]
        },
        {
          "output_type": "stream",
          "name": "stdout",
          "text": [
            "Current file size: 0.6943744421005249\n",
            "Done /content/drive/MyDrive/Datasets/Music-Noise/SNRdB_all-noise_features_2/SNRdB_-10-20/train/train-SNRdB_-10-20_20250319_072002.h5\n",
            "Free disk space: 153.26 GB\n",
            "Creating HDF5 file....\n"
          ]
        },
        {
          "output_type": "stream",
          "name": "stderr",
          "text": [
            "\rProcessing batches:  43%|████▎     | 345/810 [12:12:39<16:20:20, 126.49s/batch]"
          ]
        },
        {
          "output_type": "stream",
          "name": "stdout",
          "text": [
            "Current file size: 0.6943744421005249\n",
            "Done /content/drive/MyDrive/Datasets/Music-Noise/SNRdB_all-noise_features_2/SNRdB_-10-20/train/train-SNRdB_-10-20_20250319_072210.h5\n",
            "Free disk space: 153.24 GB\n",
            "Creating HDF5 file....\n"
          ]
        },
        {
          "output_type": "stream",
          "name": "stderr",
          "text": [
            "\rProcessing batches:  43%|████▎     | 346/810 [12:14:41<16:07:08, 125.06s/batch]"
          ]
        },
        {
          "output_type": "stream",
          "name": "stdout",
          "text": [
            "Current file size: 0.6943744421005249\n",
            "Done /content/drive/MyDrive/Datasets/Music-Noise/SNRdB_all-noise_features_2/SNRdB_-10-20/train/train-SNRdB_-10-20_20250319_072412.h5\n",
            "Free disk space: 153.23 GB\n",
            "Creating HDF5 file....\n"
          ]
        },
        {
          "output_type": "stream",
          "name": "stderr",
          "text": [
            "\rProcessing batches:  43%|████▎     | 347/810 [12:16:40<15:49:44, 123.08s/batch]"
          ]
        },
        {
          "output_type": "stream",
          "name": "stdout",
          "text": [
            "Current file size: 0.6943744421005249\n",
            "Done /content/drive/MyDrive/Datasets/Music-Noise/SNRdB_all-noise_features_2/SNRdB_-10-20/train/train-SNRdB_-10-20_20250319_072616.h5\n",
            "Free disk space: 153.21 GB\n",
            "Creating HDF5 file....\n",
            "Current file size: 0.6943744421005249\n",
            "Done /content/drive/MyDrive/Datasets/Music-Noise/SNRdB_all-noise_features_2/SNRdB_-10-20/train/train-SNRdB_-10-20_20250319_072812.h5\n"
          ]
        },
        {
          "output_type": "stream",
          "name": "stderr",
          "text": [
            "\rProcessing batches:  43%|████▎     | 348/810 [12:18:41<15:43:02, 122.47s/batch]"
          ]
        },
        {
          "output_type": "stream",
          "name": "stdout",
          "text": [
            "Free disk space: 153.25 GB\n",
            "Creating HDF5 file....\n"
          ]
        },
        {
          "output_type": "stream",
          "name": "stderr",
          "text": [
            "\rProcessing batches:  43%|████▎     | 349/810 [12:20:43<15:40:02, 122.35s/batch]"
          ]
        },
        {
          "output_type": "stream",
          "name": "stdout",
          "text": [
            "Current file size: 0.6943744421005249\n",
            "Done /content/drive/MyDrive/Datasets/Music-Noise/SNRdB_all-noise_features_2/SNRdB_-10-20/train/train-SNRdB_-10-20_20250319_073014.h5\n",
            "Free disk space: 153.23 GB\n",
            "Creating HDF5 file....\n"
          ]
        },
        {
          "output_type": "stream",
          "name": "stderr",
          "text": [
            "\rProcessing batches:  43%|████▎     | 350/810 [12:22:51<15:50:49, 124.02s/batch]"
          ]
        },
        {
          "output_type": "stream",
          "name": "stdout",
          "text": [
            "Current file size: 0.6943744421005249\n",
            "Done /content/drive/MyDrive/Datasets/Music-Noise/SNRdB_all-noise_features_2/SNRdB_-10-20/train/train-SNRdB_-10-20_20250319_073219.h5\n",
            "Free disk space: 153.20 GB\n",
            "Creating HDF5 file....\n"
          ]
        },
        {
          "output_type": "stream",
          "name": "stderr",
          "text": [
            "\rProcessing batches:  43%|████▎     | 351/810 [12:24:57<15:53:05, 124.59s/batch]"
          ]
        },
        {
          "output_type": "stream",
          "name": "stdout",
          "text": [
            "Current file size: 0.6943744421005249\n",
            "Done /content/drive/MyDrive/Datasets/Music-Noise/SNRdB_all-noise_features_2/SNRdB_-10-20/train/train-SNRdB_-10-20_20250319_073428.h5\n",
            "Free disk space: 153.17 GB\n",
            "Creating HDF5 file....\n"
          ]
        },
        {
          "output_type": "stream",
          "name": "stderr",
          "text": [
            "\rProcessing batches:  43%|████▎     | 352/810 [12:27:00<15:48:02, 124.20s/batch]"
          ]
        },
        {
          "output_type": "stream",
          "name": "stdout",
          "text": [
            "Current file size: 0.6943744421005249\n",
            "Done /content/drive/MyDrive/Datasets/Music-Noise/SNRdB_all-noise_features_2/SNRdB_-10-20/train/train-SNRdB_-10-20_20250319_073631.h5\n",
            "Free disk space: 153.14 GB\n",
            "Creating HDF5 file....\n"
          ]
        },
        {
          "output_type": "stream",
          "name": "stderr",
          "text": [
            "\rProcessing batches:  44%|████▎     | 353/810 [12:29:10<15:58:26, 125.83s/batch]"
          ]
        },
        {
          "output_type": "stream",
          "name": "stdout",
          "text": [
            "Current file size: 0.6943744421005249\n",
            "Done /content/drive/MyDrive/Datasets/Music-Noise/SNRdB_all-noise_features_2/SNRdB_-10-20/train/train-SNRdB_-10-20_20250319_073836.h5\n",
            "Free disk space: 153.20 GB\n",
            "Creating HDF5 file....\n"
          ]
        },
        {
          "output_type": "stream",
          "name": "stderr",
          "text": [
            "\rProcessing batches:  44%|████▎     | 354/810 [12:31:16<15:58:49, 126.16s/batch]"
          ]
        },
        {
          "output_type": "stream",
          "name": "stdout",
          "text": [
            "Current file size: 0.6943744421005249\n",
            "Done /content/drive/MyDrive/Datasets/Music-Noise/SNRdB_all-noise_features_2/SNRdB_-10-20/train/train-SNRdB_-10-20_20250319_074050.h5\n",
            "Free disk space: 153.17 GB\n",
            "Creating HDF5 file....\n"
          ]
        },
        {
          "output_type": "stream",
          "name": "stderr",
          "text": [
            "\rProcessing batches:  44%|████▍     | 355/810 [12:33:42<16:40:53, 131.99s/batch]"
          ]
        },
        {
          "output_type": "stream",
          "name": "stdout",
          "text": [
            "Current file size: 0.6943744421005249\n",
            "Done /content/drive/MyDrive/Datasets/Music-Noise/SNRdB_all-noise_features_2/SNRdB_-10-20/train/train-SNRdB_-10-20_20250319_074315.h5\n",
            "Free disk space: 153.15 GB\n",
            "Creating HDF5 file....\n",
            "Current file size: 0.6943744421005249\n",
            "Done /content/drive/MyDrive/Datasets/Music-Noise/SNRdB_all-noise_features_2/SNRdB_-10-20/train/train-SNRdB_-10-20_20250319_074522.h5\n"
          ]
        },
        {
          "output_type": "stream",
          "name": "stderr",
          "text": [
            "\rProcessing batches:  44%|████▍     | 356/810 [12:35:55<16:40:11, 132.18s/batch]"
          ]
        },
        {
          "output_type": "stream",
          "name": "stdout",
          "text": [
            "Free disk space: 153.14 GB\n",
            "Creating HDF5 file....\n"
          ]
        },
        {
          "output_type": "stream",
          "name": "stderr",
          "text": [
            "\rProcessing batches:  44%|████▍     | 357/810 [12:37:56<16:12:48, 128.85s/batch]"
          ]
        },
        {
          "output_type": "stream",
          "name": "stdout",
          "text": [
            "Current file size: 0.6943744421005249\n",
            "Done /content/drive/MyDrive/Datasets/Music-Noise/SNRdB_all-noise_features_2/SNRdB_-10-20/train/train-SNRdB_-10-20_20250319_074730.h5\n",
            "Free disk space: 153.12 GB\n",
            "Creating HDF5 file....\n"
          ]
        },
        {
          "output_type": "stream",
          "name": "stderr",
          "text": [
            "\rProcessing batches:  44%|████▍     | 358/810 [12:40:00<15:59:24, 127.35s/batch]"
          ]
        },
        {
          "output_type": "stream",
          "name": "stdout",
          "text": [
            "Current file size: 0.6943744421005249\n",
            "Done /content/drive/MyDrive/Datasets/Music-Noise/SNRdB_all-noise_features_2/SNRdB_-10-20/train/train-SNRdB_-10-20_20250319_074932.h5\n",
            "Free disk space: 153.14 GB\n",
            "Creating HDF5 file....\n"
          ]
        },
        {
          "output_type": "stream",
          "name": "stderr",
          "text": [
            "\rProcessing batches:  44%|████▍     | 359/810 [12:42:02<15:46:18, 125.89s/batch]"
          ]
        },
        {
          "output_type": "stream",
          "name": "stdout",
          "text": [
            "Current file size: 0.6943744421005249\n",
            "Done /content/drive/MyDrive/Datasets/Music-Noise/SNRdB_all-noise_features_2/SNRdB_-10-20/train/train-SNRdB_-10-20_20250319_075137.h5\n",
            "Free disk space: 153.11 GB\n",
            "Creating HDF5 file....\n"
          ]
        },
        {
          "output_type": "stream",
          "name": "stderr",
          "text": [
            "\rProcessing batches:  44%|████▍     | 360/810 [12:44:06<15:40:35, 125.41s/batch]"
          ]
        },
        {
          "output_type": "stream",
          "name": "stdout",
          "text": [
            "Current file size: 0.6943744421005249\n",
            "Done /content/drive/MyDrive/Datasets/Music-Noise/SNRdB_all-noise_features_2/SNRdB_-10-20/train/train-SNRdB_-10-20_20250319_075335.h5\n",
            "Free disk space: 153.11 GB\n",
            "Creating HDF5 file....\n"
          ]
        },
        {
          "output_type": "stream",
          "name": "stderr",
          "text": [
            "\rProcessing batches:  45%|████▍     | 361/810 [12:46:29<16:16:11, 130.45s/batch]"
          ]
        },
        {
          "output_type": "stream",
          "name": "stdout",
          "text": [
            "Current file size: 0.6943744421005249\n",
            "Done /content/drive/MyDrive/Datasets/Music-Noise/SNRdB_all-noise_features_2/SNRdB_-10-20/train/train-SNRdB_-10-20_20250319_075558.h5\n",
            "Free disk space: 153.13 GB\n",
            "Creating HDF5 file....\n"
          ]
        },
        {
          "output_type": "stream",
          "name": "stderr",
          "text": [
            "\rProcessing batches:  45%|████▍     | 362/810 [12:48:37<16:10:11, 129.94s/batch]"
          ]
        },
        {
          "output_type": "stream",
          "name": "stdout",
          "text": [
            "Current file size: 0.6943744421005249\n",
            "Done /content/drive/MyDrive/Datasets/Music-Noise/SNRdB_all-noise_features_2/SNRdB_-10-20/train/train-SNRdB_-10-20_20250319_075805.h5\n",
            "Free disk space: 153.15 GB\n",
            "Creating HDF5 file....\n",
            "Current file size: 0.6943744421005249\n",
            "Done /content/drive/MyDrive/Datasets/Music-Noise/SNRdB_all-noise_features_2/SNRdB_-10-20/train/train-SNRdB_-10-20_20250319_080011.h5\n"
          ]
        },
        {
          "output_type": "stream",
          "name": "stderr",
          "text": [
            "\rProcessing batches:  45%|████▍     | 363/810 [12:50:39<15:50:27, 127.58s/batch]"
          ]
        },
        {
          "output_type": "stream",
          "name": "stdout",
          "text": [
            "Free disk space: 153.15 GB\n",
            "Creating HDF5 file....\n"
          ]
        },
        {
          "output_type": "stream",
          "name": "stderr",
          "text": [
            "\rProcessing batches:  45%|████▍     | 364/810 [12:52:45<15:42:53, 126.85s/batch]"
          ]
        },
        {
          "output_type": "stream",
          "name": "stdout",
          "text": [
            "Current file size: 0.6943744421005249\n",
            "Done /content/drive/MyDrive/Datasets/Music-Noise/SNRdB_all-noise_features_2/SNRdB_-10-20/train/train-SNRdB_-10-20_20250319_080219.h5\n",
            "Free disk space: 153.20 GB\n",
            "Creating HDF5 file....\n"
          ]
        },
        {
          "output_type": "stream",
          "name": "stderr",
          "text": [
            "\rProcessing batches:  45%|████▌     | 365/810 [12:54:59<15:57:29, 129.10s/batch]"
          ]
        },
        {
          "output_type": "stream",
          "name": "stdout",
          "text": [
            "Current file size: 0.6943744421005249\n",
            "Done /content/drive/MyDrive/Datasets/Music-Noise/SNRdB_all-noise_features_2/SNRdB_-10-20/train/train-SNRdB_-10-20_20250319_080424.h5\n",
            "Free disk space: 153.16 GB\n",
            "Creating HDF5 file....\n"
          ]
        },
        {
          "output_type": "stream",
          "name": "stderr",
          "text": [
            "\rProcessing batches:  45%|████▌     | 366/810 [12:57:07<15:52:30, 128.72s/batch]"
          ]
        },
        {
          "output_type": "stream",
          "name": "stdout",
          "text": [
            "Current file size: 0.6943744421005249\n",
            "Done /content/drive/MyDrive/Datasets/Music-Noise/SNRdB_all-noise_features_2/SNRdB_-10-20/train/train-SNRdB_-10-20_20250319_080634.h5\n",
            "Free disk space: 153.19 GB\n",
            "Creating HDF5 file....\n"
          ]
        },
        {
          "output_type": "stream",
          "name": "stderr",
          "text": [
            "\rProcessing batches:  45%|████▌     | 367/810 [12:59:12<15:43:48, 127.83s/batch]"
          ]
        },
        {
          "output_type": "stream",
          "name": "stdout",
          "text": [
            "Current file size: 0.6943744421005249\n",
            "Done /content/drive/MyDrive/Datasets/Music-Noise/SNRdB_all-noise_features_2/SNRdB_-10-20/train/train-SNRdB_-10-20_20250319_080842.h5\n",
            "Free disk space: 153.16 GB\n",
            "Creating HDF5 file....\n"
          ]
        },
        {
          "output_type": "stream",
          "name": "stderr",
          "text": [
            "\rProcessing batches:  45%|████▌     | 368/810 [13:01:15<15:29:42, 126.21s/batch]"
          ]
        },
        {
          "output_type": "stream",
          "name": "stdout",
          "text": [
            "Current file size: 0.6943744421005249\n",
            "Done /content/drive/MyDrive/Datasets/Music-Noise/SNRdB_all-noise_features_2/SNRdB_-10-20/train/train-SNRdB_-10-20_20250319_081045.h5\n",
            "Free disk space: 153.15 GB\n",
            "Creating HDF5 file....\n"
          ]
        },
        {
          "output_type": "stream",
          "name": "stderr",
          "text": [
            "\rProcessing batches:  46%|████▌     | 369/810 [13:03:29<15:44:25, 128.49s/batch]"
          ]
        },
        {
          "output_type": "stream",
          "name": "stdout",
          "text": [
            "Current file size: 0.6943744421005249\n",
            "Done /content/drive/MyDrive/Datasets/Music-Noise/SNRdB_all-noise_features_2/SNRdB_-10-20/train/train-SNRdB_-10-20_20250319_081257.h5\n",
            "Free disk space: 153.15 GB\n",
            "Creating HDF5 file....\n"
          ]
        },
        {
          "output_type": "stream",
          "name": "stderr",
          "text": [
            "\rProcessing batches:  46%|████▌     | 370/810 [13:05:29<15:23:52, 125.98s/batch]"
          ]
        },
        {
          "output_type": "stream",
          "name": "stdout",
          "text": [
            "Current file size: 0.6943744421005249\n",
            "Done /content/drive/MyDrive/Datasets/Music-Noise/SNRdB_all-noise_features_2/SNRdB_-10-20/train/train-SNRdB_-10-20_20250319_081502.h5\n",
            "Free disk space: 153.23 GB\n",
            "Creating HDF5 file....\n",
            "Current file size: 0.6943744421005249\n",
            "Done /content/drive/MyDrive/Datasets/Music-Noise/SNRdB_all-noise_features_2/SNRdB_-10-20/train/train-SNRdB_-10-20_20250319_081707.h5\n"
          ]
        },
        {
          "output_type": "stream",
          "name": "stderr",
          "text": [
            "\rProcessing batches:  46%|████▌     | 371/810 [13:07:39<15:30:41, 127.20s/batch]"
          ]
        },
        {
          "output_type": "stream",
          "name": "stdout",
          "text": [
            "Free disk space: 153.23 GB\n",
            "Creating HDF5 file....\n"
          ]
        },
        {
          "output_type": "stream",
          "name": "stderr",
          "text": [
            "\rProcessing batches:  46%|████▌     | 372/810 [13:09:48<15:32:21, 127.72s/batch]"
          ]
        },
        {
          "output_type": "stream",
          "name": "stdout",
          "text": [
            "Current file size: 0.6943744421005249\n",
            "Done /content/drive/MyDrive/Datasets/Music-Noise/SNRdB_all-noise_features_2/SNRdB_-10-20/train/train-SNRdB_-10-20_20250319_081918.h5\n",
            "Free disk space: 153.21 GB\n",
            "Creating HDF5 file....\n"
          ]
        },
        {
          "output_type": "stream",
          "name": "stderr",
          "text": [
            "\rProcessing batches:  46%|████▌     | 373/810 [13:11:58<15:36:11, 128.54s/batch]"
          ]
        },
        {
          "output_type": "stream",
          "name": "stdout",
          "text": [
            "Current file size: 0.6943744421005249\n",
            "Done /content/drive/MyDrive/Datasets/Music-Noise/SNRdB_all-noise_features_2/SNRdB_-10-20/train/train-SNRdB_-10-20_20250319_082126.h5\n",
            "Free disk space: 153.22 GB\n",
            "Creating HDF5 file....\n"
          ]
        },
        {
          "output_type": "stream",
          "name": "stderr",
          "text": [
            "\rProcessing batches:  46%|████▌     | 374/810 [13:14:04<15:26:57, 127.56s/batch]"
          ]
        },
        {
          "output_type": "stream",
          "name": "stdout",
          "text": [
            "Current file size: 0.6943744421005249\n",
            "Done /content/drive/MyDrive/Datasets/Music-Noise/SNRdB_all-noise_features_2/SNRdB_-10-20/train/train-SNRdB_-10-20_20250319_082335.h5\n",
            "Free disk space: 153.19 GB\n",
            "Creating HDF5 file....\n"
          ]
        },
        {
          "output_type": "stream",
          "name": "stderr",
          "text": [
            "\rProcessing batches:  46%|████▋     | 375/810 [13:16:09<15:19:53, 126.88s/batch]"
          ]
        },
        {
          "output_type": "stream",
          "name": "stdout",
          "text": [
            "Current file size: 0.6943744421005249\n",
            "Done /content/drive/MyDrive/Datasets/Music-Noise/SNRdB_all-noise_features_2/SNRdB_-10-20/train/train-SNRdB_-10-20_20250319_082538.h5\n",
            "Free disk space: 153.16 GB\n",
            "Creating HDF5 file....\n"
          ]
        },
        {
          "output_type": "stream",
          "name": "stderr",
          "text": [
            "\rProcessing batches:  46%|████▋     | 376/810 [13:18:13<15:11:12, 125.97s/batch]"
          ]
        },
        {
          "output_type": "stream",
          "name": "stdout",
          "text": [
            "Current file size: 0.6943744421005249\n",
            "Done /content/drive/MyDrive/Datasets/Music-Noise/SNRdB_all-noise_features_2/SNRdB_-10-20/train/train-SNRdB_-10-20_20250319_082744.h5\n",
            "Free disk space: 153.15 GB\n",
            "Creating HDF5 file....\n"
          ]
        },
        {
          "output_type": "stream",
          "name": "stderr",
          "text": [
            "\rProcessing batches:  47%|████▋     | 377/810 [13:20:08<14:45:18, 122.67s/batch]"
          ]
        },
        {
          "output_type": "stream",
          "name": "stdout",
          "text": [
            "Current file size: 0.6943744421005249\n",
            "Done /content/drive/MyDrive/Datasets/Music-Noise/SNRdB_all-noise_features_2/SNRdB_-10-20/train/train-SNRdB_-10-20_20250319_082945.h5\n",
            "Free disk space: 153.12 GB\n",
            "Creating HDF5 file....\n"
          ]
        },
        {
          "output_type": "stream",
          "name": "stderr",
          "text": [
            "\rProcessing batches:  47%|████▋     | 378/810 [13:22:12<14:46:09, 123.08s/batch]"
          ]
        },
        {
          "output_type": "stream",
          "name": "stdout",
          "text": [
            "Current file size: 0.6943744421005249\n",
            "Done /content/drive/MyDrive/Datasets/Music-Noise/SNRdB_all-noise_features_2/SNRdB_-10-20/train/train-SNRdB_-10-20_20250319_083145.h5\n",
            "Free disk space: 153.13 GB\n",
            "Creating HDF5 file....\n"
          ]
        },
        {
          "output_type": "stream",
          "name": "stderr",
          "text": [
            "\rProcessing batches:  47%|████▋     | 379/810 [13:24:12<14:38:30, 122.30s/batch]"
          ]
        },
        {
          "output_type": "stream",
          "name": "stdout",
          "text": [
            "Current file size: 0.6943744421005249\n",
            "Done /content/drive/MyDrive/Datasets/Music-Noise/SNRdB_all-noise_features_2/SNRdB_-10-20/train/train-SNRdB_-10-20_20250319_083342.h5\n",
            "Free disk space: 153.11 GB\n",
            "Creating HDF5 file....\n"
          ]
        },
        {
          "output_type": "stream",
          "name": "stderr",
          "text": [
            "\rProcessing batches:  47%|████▋     | 380/810 [13:26:15<14:36:43, 122.33s/batch]"
          ]
        },
        {
          "output_type": "stream",
          "name": "stdout",
          "text": [
            "Current file size: 0.6943744421005249\n",
            "Done /content/drive/MyDrive/Datasets/Music-Noise/SNRdB_all-noise_features_2/SNRdB_-10-20/train/train-SNRdB_-10-20_20250319_083547.h5\n",
            "Free disk space: 153.11 GB\n",
            "Creating HDF5 file....\n"
          ]
        },
        {
          "output_type": "stream",
          "name": "stderr",
          "text": [
            "\rProcessing batches:  47%|████▋     | 381/810 [13:28:12<14:23:05, 120.71s/batch]"
          ]
        },
        {
          "output_type": "stream",
          "name": "stdout",
          "text": [
            "Current file size: 0.6943744421005249\n",
            "Done /content/drive/MyDrive/Datasets/Music-Noise/SNRdB_all-noise_features_2/SNRdB_-10-20/train/train-SNRdB_-10-20_20250319_083745.h5\n",
            "Free disk space: 153.12 GB\n",
            "Creating HDF5 file....\n"
          ]
        },
        {
          "output_type": "stream",
          "name": "stderr",
          "text": [
            "\rProcessing batches:  47%|████▋     | 382/810 [13:30:14<14:25:11, 121.29s/batch]"
          ]
        },
        {
          "output_type": "stream",
          "name": "stdout",
          "text": [
            "Current file size: 0.6943744421005249\n",
            "Done /content/drive/MyDrive/Datasets/Music-Noise/SNRdB_all-noise_features_2/SNRdB_-10-20/train/train-SNRdB_-10-20_20250319_083943.h5\n",
            "Free disk space: 153.10 GB\n",
            "Creating HDF5 file....\n"
          ]
        },
        {
          "output_type": "stream",
          "name": "stderr",
          "text": [
            "\rProcessing batches:  47%|████▋     | 383/810 [13:32:17<14:27:15, 121.86s/batch]"
          ]
        },
        {
          "output_type": "stream",
          "name": "stdout",
          "text": [
            "Current file size: 0.6943744421005249\n",
            "Done /content/drive/MyDrive/Datasets/Music-Noise/SNRdB_all-noise_features_2/SNRdB_-10-20/train/train-SNRdB_-10-20_20250319_084151.h5\n",
            "Free disk space: 153.21 GB\n",
            "Creating HDF5 file....\n"
          ]
        },
        {
          "output_type": "stream",
          "name": "stderr",
          "text": [
            "\rProcessing batches:  47%|████▋     | 384/810 [13:34:18<14:23:23, 121.60s/batch]"
          ]
        },
        {
          "output_type": "stream",
          "name": "stdout",
          "text": [
            "Current file size: 0.6943744421005249\n",
            "Done /content/drive/MyDrive/Datasets/Music-Noise/SNRdB_all-noise_features_2/SNRdB_-10-20/train/train-SNRdB_-10-20_20250319_084353.h5\n",
            "Free disk space: 153.22 GB\n",
            "Creating HDF5 file....\n"
          ]
        },
        {
          "output_type": "stream",
          "name": "stderr",
          "text": [
            "\rProcessing batches:  48%|████▊     | 385/810 [13:36:24<14:30:34, 122.90s/batch]"
          ]
        },
        {
          "output_type": "stream",
          "name": "stdout",
          "text": [
            "Current file size: 0.6943744421005249\n",
            "Done /content/drive/MyDrive/Datasets/Music-Noise/SNRdB_all-noise_features_2/SNRdB_-10-20/train/train-SNRdB_-10-20_20250319_084553.h5\n",
            "Free disk space: 153.18 GB\n",
            "Creating HDF5 file....\n"
          ]
        },
        {
          "output_type": "stream",
          "name": "stderr",
          "text": [
            "\rProcessing batches:  48%|████▊     | 386/810 [13:38:38<14:50:29, 126.01s/batch]"
          ]
        },
        {
          "output_type": "stream",
          "name": "stdout",
          "text": [
            "Current file size: 0.6943744421005249\n",
            "Done /content/drive/MyDrive/Datasets/Music-Noise/SNRdB_all-noise_features_2/SNRdB_-10-20/train/train-SNRdB_-10-20_20250319_084802.h5\n",
            "Free disk space: 153.15 GB\n",
            "Creating HDF5 file....\n",
            "Current file size: 0.6943744421005249\n",
            "Done /content/drive/MyDrive/Datasets/Music-Noise/SNRdB_all-noise_features_2/SNRdB_-10-20/train/train-SNRdB_-10-20_20250319_085014.h5\n"
          ]
        },
        {
          "output_type": "stream",
          "name": "stderr",
          "text": [
            "\rProcessing batches:  48%|████▊     | 387/810 [13:40:40<14:41:07, 124.98s/batch]"
          ]
        },
        {
          "output_type": "stream",
          "name": "stdout",
          "text": [
            "Free disk space: 153.14 GB\n",
            "Creating HDF5 file....\n"
          ]
        },
        {
          "output_type": "stream",
          "name": "stderr",
          "text": [
            "\rProcessing batches:  48%|████▊     | 388/810 [13:42:55<14:59:31, 127.89s/batch]"
          ]
        },
        {
          "output_type": "stream",
          "name": "stdout",
          "text": [
            "Current file size: 0.6943744421005249\n",
            "Done /content/drive/MyDrive/Datasets/Music-Noise/SNRdB_all-noise_features_2/SNRdB_-10-20/train/train-SNRdB_-10-20_20250319_085218.h5\n",
            "Free disk space: 153.15 GB\n",
            "Creating HDF5 file....\n"
          ]
        },
        {
          "output_type": "stream",
          "name": "stderr",
          "text": [
            "\rProcessing batches:  48%|████▊     | 389/810 [13:44:56<14:44:16, 126.02s/batch]"
          ]
        },
        {
          "output_type": "stream",
          "name": "stdout",
          "text": [
            "Current file size: 0.6943744421005249\n",
            "Done /content/drive/MyDrive/Datasets/Music-Noise/SNRdB_all-noise_features_2/SNRdB_-10-20/train/train-SNRdB_-10-20_20250319_085430.h5\n",
            "Free disk space: 153.26 GB\n",
            "Creating HDF5 file....\n"
          ]
        },
        {
          "output_type": "stream",
          "name": "stderr",
          "text": [
            "\rProcessing batches:  48%|████▊     | 390/810 [13:47:24<15:26:28, 132.35s/batch]"
          ]
        },
        {
          "output_type": "stream",
          "name": "stdout",
          "text": [
            "Current file size: 0.6943744421005249\n",
            "Done /content/drive/MyDrive/Datasets/Music-Noise/SNRdB_all-noise_features_2/SNRdB_-10-20/train/train-SNRdB_-10-20_20250319_085651.h5\n",
            "Free disk space: 153.25 GB\n",
            "Creating HDF5 file....\n",
            "Current file size: 0.6943744421005249\n",
            "Done /content/drive/MyDrive/Datasets/Music-Noise/SNRdB_all-noise_features_2/SNRdB_-10-20/train/train-SNRdB_-10-20_20250319_085858.h5\n"
          ]
        },
        {
          "output_type": "stream",
          "name": "stderr",
          "text": [
            "\rProcessing batches:  48%|████▊     | 391/810 [13:49:29<15:10:28, 130.38s/batch]"
          ]
        },
        {
          "output_type": "stream",
          "name": "stdout",
          "text": [
            "Free disk space: 153.23 GB\n",
            "Creating HDF5 file....\n"
          ]
        },
        {
          "output_type": "stream",
          "name": "stderr",
          "text": [
            "\rProcessing batches:  48%|████▊     | 392/810 [13:51:36<14:59:34, 129.13s/batch]"
          ]
        },
        {
          "output_type": "stream",
          "name": "stdout",
          "text": [
            "Current file size: 0.6943744421005249\n",
            "Done /content/drive/MyDrive/Datasets/Music-Noise/SNRdB_all-noise_features_2/SNRdB_-10-20/train/train-SNRdB_-10-20_20250319_090106.h5\n",
            "Free disk space: 153.19 GB\n",
            "Creating HDF5 file....\n"
          ]
        },
        {
          "output_type": "stream",
          "name": "stderr",
          "text": [
            "\rProcessing batches:  49%|████▊     | 393/810 [13:53:51<15:10:50, 131.06s/batch]"
          ]
        },
        {
          "output_type": "stream",
          "name": "stdout",
          "text": [
            "Current file size: 0.6943744421005249\n",
            "Done /content/drive/MyDrive/Datasets/Music-Noise/SNRdB_all-noise_features_2/SNRdB_-10-20/train/train-SNRdB_-10-20_20250319_090323.h5\n",
            "Free disk space: 153.21 GB\n",
            "Creating HDF5 file....\n"
          ]
        },
        {
          "output_type": "stream",
          "name": "stderr",
          "text": [
            "\rProcessing batches:  49%|████▊     | 394/810 [13:55:59<15:01:28, 130.02s/batch]"
          ]
        },
        {
          "output_type": "stream",
          "name": "stdout",
          "text": [
            "Current file size: 0.6943744421005249\n",
            "Done /content/drive/MyDrive/Datasets/Music-Noise/SNRdB_all-noise_features_2/SNRdB_-10-20/train/train-SNRdB_-10-20_20250319_090533.h5\n",
            "Free disk space: 153.27 GB\n",
            "Creating HDF5 file....\n"
          ]
        },
        {
          "output_type": "stream",
          "name": "stderr",
          "text": [
            "\rProcessing batches:  49%|████▉     | 395/810 [13:58:06<14:53:55, 129.24s/batch]"
          ]
        },
        {
          "output_type": "stream",
          "name": "stdout",
          "text": [
            "Current file size: 0.6943744421005249\n",
            "Done /content/drive/MyDrive/Datasets/Music-Noise/SNRdB_all-noise_features_2/SNRdB_-10-20/train/train-SNRdB_-10-20_20250319_090738.h5\n",
            "Free disk space: 153.23 GB\n",
            "Creating HDF5 file....\n"
          ]
        },
        {
          "output_type": "stream",
          "name": "stderr",
          "text": [
            "\rProcessing batches:  49%|████▉     | 396/810 [14:00:07<14:34:19, 126.71s/batch]"
          ]
        },
        {
          "output_type": "stream",
          "name": "stdout",
          "text": [
            "Current file size: 0.6943744421005249\n",
            "Done /content/drive/MyDrive/Datasets/Music-Noise/SNRdB_all-noise_features_2/SNRdB_-10-20/train/train-SNRdB_-10-20_20250319_090939.h5\n",
            "Free disk space: 153.23 GB\n",
            "Creating HDF5 file....\n"
          ]
        },
        {
          "output_type": "stream",
          "name": "stderr",
          "text": [
            "\rProcessing batches:  49%|████▉     | 397/810 [14:02:20<14:45:00, 128.57s/batch]"
          ]
        },
        {
          "output_type": "stream",
          "name": "stdout",
          "text": [
            "Current file size: 0.6943744421005249\n",
            "Done /content/drive/MyDrive/Datasets/Music-Noise/SNRdB_all-noise_features_2/SNRdB_-10-20/train/train-SNRdB_-10-20_20250319_091153.h5\n",
            "Free disk space: 153.23 GB\n",
            "Creating HDF5 file....\n"
          ]
        },
        {
          "output_type": "stream",
          "name": "stderr",
          "text": [
            "\rProcessing batches:  49%|████▉     | 398/810 [14:04:31<14:49:02, 129.47s/batch]"
          ]
        },
        {
          "output_type": "stream",
          "name": "stdout",
          "text": [
            "Current file size: 0.6943744421005249\n",
            "Done /content/drive/MyDrive/Datasets/Music-Noise/SNRdB_all-noise_features_2/SNRdB_-10-20/train/train-SNRdB_-10-20_20250319_091402.h5\n",
            "Free disk space: 153.26 GB\n",
            "Creating HDF5 file....\n"
          ]
        },
        {
          "output_type": "stream",
          "name": "stderr",
          "text": [
            "\rProcessing batches:  49%|████▉     | 399/810 [14:06:37<14:39:36, 128.41s/batch]"
          ]
        },
        {
          "output_type": "stream",
          "name": "stdout",
          "text": [
            "Current file size: 0.6943744421005249\n",
            "Done /content/drive/MyDrive/Datasets/Music-Noise/SNRdB_all-noise_features_2/SNRdB_-10-20/train/train-SNRdB_-10-20_20250319_091607.h5\n",
            "Free disk space: 153.31 GB\n",
            "Creating HDF5 file....\n"
          ]
        },
        {
          "output_type": "stream",
          "name": "stderr",
          "text": [
            "\rProcessing batches:  49%|████▉     | 400/810 [14:08:48<14:40:57, 128.92s/batch]"
          ]
        },
        {
          "output_type": "stream",
          "name": "stdout",
          "text": [
            "Current file size: 0.6943744421005249\n",
            "Done /content/drive/MyDrive/Datasets/Music-Noise/SNRdB_all-noise_features_2/SNRdB_-10-20/train/train-SNRdB_-10-20_20250319_091817.h5\n",
            "Free disk space: 153.27 GB\n",
            "Creating HDF5 file....\n"
          ]
        },
        {
          "output_type": "stream",
          "name": "stderr",
          "text": [
            "\rProcessing batches:  50%|████▉     | 401/810 [14:10:52<14:29:33, 127.56s/batch]"
          ]
        },
        {
          "output_type": "stream",
          "name": "stdout",
          "text": [
            "Current file size: 0.6943744421005249\n",
            "Done /content/drive/MyDrive/Datasets/Music-Noise/SNRdB_all-noise_features_2/SNRdB_-10-20/train/train-SNRdB_-10-20_20250319_092025.h5\n",
            "Free disk space: 153.32 GB\n",
            "Creating HDF5 file....\n"
          ]
        },
        {
          "output_type": "stream",
          "name": "stderr",
          "text": [
            "\rProcessing batches:  50%|████▉     | 402/810 [14:12:54<14:15:40, 125.83s/batch]"
          ]
        },
        {
          "output_type": "stream",
          "name": "stdout",
          "text": [
            "Current file size: 0.6943744421005249\n",
            "Done /content/drive/MyDrive/Datasets/Music-Noise/SNRdB_all-noise_features_2/SNRdB_-10-20/train/train-SNRdB_-10-20_20250319_092232.h5\n",
            "Free disk space: 153.35 GB\n",
            "Creating HDF5 file....\n"
          ]
        },
        {
          "output_type": "stream",
          "name": "stderr",
          "text": [
            "\rProcessing batches:  50%|████▉     | 403/810 [14:15:04<14:22:08, 127.10s/batch]"
          ]
        },
        {
          "output_type": "stream",
          "name": "stdout",
          "text": [
            "Current file size: 0.6943744421005249\n",
            "Done /content/drive/MyDrive/Datasets/Music-Noise/SNRdB_all-noise_features_2/SNRdB_-10-20/train/train-SNRdB_-10-20_20250319_092433.h5\n",
            "Free disk space: 153.31 GB\n",
            "Creating HDF5 file....\n"
          ]
        },
        {
          "output_type": "stream",
          "name": "stderr",
          "text": [
            "\rProcessing batches:  50%|████▉     | 404/810 [14:17:14<14:26:36, 128.07s/batch]"
          ]
        },
        {
          "output_type": "stream",
          "name": "stdout",
          "text": [
            "Current file size: 0.6943744421005249\n",
            "Done /content/drive/MyDrive/Datasets/Music-Noise/SNRdB_all-noise_features_2/SNRdB_-10-20/train/train-SNRdB_-10-20_20250319_092642.h5\n",
            "Free disk space: 153.27 GB\n",
            "Creating HDF5 file....\n"
          ]
        },
        {
          "output_type": "stream",
          "name": "stderr",
          "text": [
            "\rProcessing batches:  50%|█████     | 405/810 [14:19:14<14:08:52, 125.76s/batch]"
          ]
        },
        {
          "output_type": "stream",
          "name": "stdout",
          "text": [
            "Current file size: 0.6943744421005249\n",
            "Done /content/drive/MyDrive/Datasets/Music-Noise/SNRdB_all-noise_features_2/SNRdB_-10-20/train/train-SNRdB_-10-20_20250319_092846.h5\n",
            "Free disk space: 153.24 GB\n",
            "Creating HDF5 file....\n"
          ]
        },
        {
          "output_type": "stream",
          "name": "stderr",
          "text": [
            "\rProcessing batches:  50%|█████     | 406/810 [14:21:26<14:18:35, 127.51s/batch]"
          ]
        },
        {
          "output_type": "stream",
          "name": "stdout",
          "text": [
            "Current file size: 0.6943744421005249\n",
            "Done /content/drive/MyDrive/Datasets/Music-Noise/SNRdB_all-noise_features_2/SNRdB_-10-20/train/train-SNRdB_-10-20_20250319_093059.h5\n",
            "Free disk space: 153.21 GB\n",
            "Creating HDF5 file....\n"
          ]
        },
        {
          "output_type": "stream",
          "name": "stderr",
          "text": [
            "\rProcessing batches:  50%|█████     | 407/810 [14:23:37<14:24:01, 128.64s/batch]"
          ]
        },
        {
          "output_type": "stream",
          "name": "stdout",
          "text": [
            "Current file size: 0.6943744421005249\n",
            "Done /content/drive/MyDrive/Datasets/Music-Noise/SNRdB_all-noise_features_2/SNRdB_-10-20/train/train-SNRdB_-10-20_20250319_093307.h5\n",
            "Free disk space: 153.20 GB\n",
            "Creating HDF5 file....\n"
          ]
        },
        {
          "output_type": "stream",
          "name": "stderr",
          "text": [
            "\rProcessing batches:  50%|█████     | 408/810 [14:25:44<14:18:40, 128.16s/batch]"
          ]
        },
        {
          "output_type": "stream",
          "name": "stdout",
          "text": [
            "Current file size: 0.6943744421005249\n",
            "Done /content/drive/MyDrive/Datasets/Music-Noise/SNRdB_all-noise_features_2/SNRdB_-10-20/train/train-SNRdB_-10-20_20250319_093516.h5\n",
            "Free disk space: 153.16 GB\n",
            "Creating HDF5 file....\n"
          ]
        },
        {
          "output_type": "stream",
          "name": "stderr",
          "text": [
            "\rProcessing batches:  50%|█████     | 409/810 [14:27:41<13:53:32, 124.72s/batch]"
          ]
        },
        {
          "output_type": "stream",
          "name": "stdout",
          "text": [
            "Current file size: 0.6943744421005249\n",
            "Done /content/drive/MyDrive/Datasets/Music-Noise/SNRdB_all-noise_features_2/SNRdB_-10-20/train/train-SNRdB_-10-20_20250319_093719.h5\n",
            "Free disk space: 153.25 GB\n",
            "Creating HDF5 file....\n"
          ]
        },
        {
          "output_type": "stream",
          "name": "stderr",
          "text": [
            "\rProcessing batches:  51%|█████     | 410/810 [14:29:46<13:52:16, 124.84s/batch]"
          ]
        },
        {
          "output_type": "stream",
          "name": "stdout",
          "text": [
            "Current file size: 0.6943744421005249\n",
            "Done /content/drive/MyDrive/Datasets/Music-Noise/SNRdB_all-noise_features_2/SNRdB_-10-20/train/train-SNRdB_-10-20_20250319_093920.h5\n",
            "Free disk space: 153.28 GB\n",
            "Creating HDF5 file....\n"
          ]
        },
        {
          "output_type": "stream",
          "name": "stderr",
          "text": [
            "\rProcessing batches:  51%|█████     | 411/810 [14:31:47<13:42:11, 123.64s/batch]"
          ]
        },
        {
          "output_type": "stream",
          "name": "stdout",
          "text": [
            "Current file size: 0.6943744421005249\n",
            "Done /content/drive/MyDrive/Datasets/Music-Noise/SNRdB_all-noise_features_2/SNRdB_-10-20/train/train-SNRdB_-10-20_20250319_094119.h5\n",
            "Free disk space: 153.25 GB\n",
            "Creating HDF5 file....\n"
          ]
        },
        {
          "output_type": "stream",
          "name": "stderr",
          "text": [
            "\rProcessing batches:  51%|█████     | 412/810 [14:33:52<13:43:29, 124.14s/batch]"
          ]
        },
        {
          "output_type": "stream",
          "name": "stdout",
          "text": [
            "Current file size: 0.6943744421005249\n",
            "Done /content/drive/MyDrive/Datasets/Music-Noise/SNRdB_all-noise_features_2/SNRdB_-10-20/train/train-SNRdB_-10-20_20250319_094323.h5\n",
            "Free disk space: 153.23 GB\n",
            "Creating HDF5 file....\n",
            "Current file size: 0.6943744421005249\n",
            "Done /content/drive/MyDrive/Datasets/Music-Noise/SNRdB_all-noise_features_2/SNRdB_-10-20/train/train-SNRdB_-10-20_20250319_094527.h5\n"
          ]
        },
        {
          "output_type": "stream",
          "name": "stderr",
          "text": [
            "\rProcessing batches:  51%|█████     | 413/810 [14:35:55<13:39:07, 123.80s/batch]"
          ]
        },
        {
          "output_type": "stream",
          "name": "stdout",
          "text": [
            "Free disk space: 153.19 GB\n",
            "Creating HDF5 file....\n"
          ]
        },
        {
          "output_type": "stream",
          "name": "stderr",
          "text": [
            "\rProcessing batches:  51%|█████     | 414/810 [14:37:57<13:32:17, 123.07s/batch]"
          ]
        },
        {
          "output_type": "stream",
          "name": "stdout",
          "text": [
            "Current file size: 0.6943744421005249\n",
            "Done /content/drive/MyDrive/Datasets/Music-Noise/SNRdB_all-noise_features_2/SNRdB_-10-20/train/train-SNRdB_-10-20_20250319_094730.h5\n",
            "Free disk space: 153.16 GB\n",
            "Creating HDF5 file....\n",
            "Current file size: 0.6943744421005249\n",
            "Done /content/drive/MyDrive/Datasets/Music-Noise/SNRdB_all-noise_features_2/SNRdB_-10-20/train/train-SNRdB_-10-20_20250319_094933.h5\n"
          ]
        },
        {
          "output_type": "stream",
          "name": "stderr",
          "text": [
            "\rProcessing batches:  51%|█████     | 415/810 [14:39:57<13:24:57, 122.27s/batch]"
          ]
        },
        {
          "output_type": "stream",
          "name": "stdout",
          "text": [
            "Free disk space: 153.12 GB\n",
            "Creating HDF5 file....\n",
            "Current file size: 0.6943744421005249\n",
            "Done /content/drive/MyDrive/Datasets/Music-Noise/SNRdB_all-noise_features_2/SNRdB_-10-20/train/train-SNRdB_-10-20_20250319_095129.h5\n"
          ]
        },
        {
          "output_type": "stream",
          "name": "stderr",
          "text": [
            "\rProcessing batches:  51%|█████▏    | 416/810 [14:41:55<13:14:25, 120.98s/batch]"
          ]
        },
        {
          "output_type": "stream",
          "name": "stdout",
          "text": [
            "Free disk space: 153.11 GB\n",
            "Creating HDF5 file....\n"
          ]
        },
        {
          "output_type": "stream",
          "name": "stderr",
          "text": [
            "\rProcessing batches:  51%|█████▏    | 417/810 [14:44:07<13:33:58, 124.27s/batch]"
          ]
        },
        {
          "output_type": "stream",
          "name": "stdout",
          "text": [
            "Current file size: 0.6943744421005249\n",
            "Done /content/drive/MyDrive/Datasets/Music-Noise/SNRdB_all-noise_features_2/SNRdB_-10-20/train/train-SNRdB_-10-20_20250319_095336.h5\n",
            "Free disk space: 153.14 GB\n",
            "Creating HDF5 file....\n"
          ]
        },
        {
          "output_type": "stream",
          "name": "stderr",
          "text": [
            "\rProcessing batches:  52%|█████▏    | 418/810 [14:46:07<13:23:06, 122.92s/batch]"
          ]
        },
        {
          "output_type": "stream",
          "name": "stdout",
          "text": [
            "Current file size: 0.6943744421005249\n",
            "Done /content/drive/MyDrive/Datasets/Music-Noise/SNRdB_all-noise_features_2/SNRdB_-10-20/train/train-SNRdB_-10-20_20250319_095538.h5\n",
            "Free disk space: 153.15 GB\n",
            "Creating HDF5 file....\n"
          ]
        },
        {
          "output_type": "stream",
          "name": "stderr",
          "text": [
            "\rProcessing batches:  52%|█████▏    | 419/810 [14:48:14<13:29:15, 124.18s/batch]"
          ]
        },
        {
          "output_type": "stream",
          "name": "stdout",
          "text": [
            "Current file size: 0.6943744421005249\n",
            "Done /content/drive/MyDrive/Datasets/Music-Noise/SNRdB_all-noise_features_2/SNRdB_-10-20/train/train-SNRdB_-10-20_20250319_095740.h5\n",
            "Free disk space: 153.24 GB\n",
            "Creating HDF5 file....\n"
          ]
        },
        {
          "output_type": "stream",
          "name": "stderr",
          "text": [
            "\rProcessing batches:  52%|█████▏    | 420/810 [14:50:22<13:34:52, 125.36s/batch]"
          ]
        },
        {
          "output_type": "stream",
          "name": "stdout",
          "text": [
            "Current file size: 0.6943744421005249\n",
            "Done /content/drive/MyDrive/Datasets/Music-Noise/SNRdB_all-noise_features_2/SNRdB_-10-20/train/train-SNRdB_-10-20_20250319_095952.h5\n",
            "Free disk space: 153.20 GB\n",
            "Creating HDF5 file....\n"
          ]
        },
        {
          "output_type": "stream",
          "name": "stderr",
          "text": [
            "\rProcessing batches:  52%|█████▏    | 421/810 [14:52:31<13:39:59, 126.48s/batch]"
          ]
        },
        {
          "output_type": "stream",
          "name": "stdout",
          "text": [
            "Current file size: 0.6943744421005249\n",
            "Done /content/drive/MyDrive/Datasets/Music-Noise/SNRdB_all-noise_features_2/SNRdB_-10-20/train/train-SNRdB_-10-20_20250319_100200.h5\n",
            "Free disk space: 153.18 GB\n",
            "Creating HDF5 file....\n"
          ]
        },
        {
          "output_type": "stream",
          "name": "stderr",
          "text": [
            "\rProcessing batches:  52%|█████▏    | 422/810 [14:54:38<13:39:08, 126.67s/batch]"
          ]
        },
        {
          "output_type": "stream",
          "name": "stdout",
          "text": [
            "Current file size: 0.6943744421005249\n",
            "Done /content/drive/MyDrive/Datasets/Music-Noise/SNRdB_all-noise_features_2/SNRdB_-10-20/train/train-SNRdB_-10-20_20250319_100415.h5\n",
            "Free disk space: 153.13 GB\n",
            "Creating HDF5 file....\n"
          ]
        },
        {
          "output_type": "stream",
          "name": "stderr",
          "text": [
            "\rProcessing batches:  52%|█████▏    | 423/810 [14:56:42<13:31:59, 125.89s/batch]"
          ]
        },
        {
          "output_type": "stream",
          "name": "stdout",
          "text": [
            "Current file size: 0.6943744421005249\n",
            "Done /content/drive/MyDrive/Datasets/Music-Noise/SNRdB_all-noise_features_2/SNRdB_-10-20/train/train-SNRdB_-10-20_20250319_100615.h5\n",
            "Free disk space: 153.15 GB\n",
            "Creating HDF5 file....\n"
          ]
        },
        {
          "output_type": "stream",
          "name": "stderr",
          "text": [
            "\rProcessing batches:  52%|█████▏    | 424/810 [14:58:46<13:25:21, 125.18s/batch]"
          ]
        },
        {
          "output_type": "stream",
          "name": "stdout",
          "text": [
            "Current file size: 0.6943744421005249\n",
            "Done /content/drive/MyDrive/Datasets/Music-Noise/SNRdB_all-noise_features_2/SNRdB_-10-20/train/train-SNRdB_-10-20_20250319_100818.h5\n",
            "Free disk space: 153.15 GB\n",
            "Creating HDF5 file....\n"
          ]
        },
        {
          "output_type": "stream",
          "name": "stderr",
          "text": [
            "\rProcessing batches:  52%|█████▏    | 425/810 [15:00:47<13:15:14, 123.93s/batch]"
          ]
        },
        {
          "output_type": "stream",
          "name": "stdout",
          "text": [
            "Current file size: 0.6943744421005249\n",
            "Done /content/drive/MyDrive/Datasets/Music-Noise/SNRdB_all-noise_features_2/SNRdB_-10-20/train/train-SNRdB_-10-20_20250319_101017.h5\n",
            "Free disk space: 153.17 GB\n",
            "Creating HDF5 file....\n",
            "Current file size: 0.6943744421005249\n",
            "Done /content/drive/MyDrive/Datasets/Music-Noise/SNRdB_all-noise_features_2/SNRdB_-10-20/train/train-SNRdB_-10-20_20250319_101226.h5\n"
          ]
        },
        {
          "output_type": "stream",
          "name": "stderr",
          "text": [
            "\rProcessing batches:  53%|█████▎    | 426/810 [15:02:53<13:16:26, 124.44s/batch]"
          ]
        },
        {
          "output_type": "stream",
          "name": "stdout",
          "text": [
            "Free disk space: 153.21 GB\n",
            "Creating HDF5 file....\n"
          ]
        },
        {
          "output_type": "stream",
          "name": "stderr",
          "text": [
            "\rProcessing batches:  53%|█████▎    | 427/810 [15:05:01<13:22:26, 125.71s/batch]"
          ]
        },
        {
          "output_type": "stream",
          "name": "stdout",
          "text": [
            "Current file size: 0.6943744421005249\n",
            "Done /content/drive/MyDrive/Datasets/Music-Noise/SNRdB_all-noise_features_2/SNRdB_-10-20/train/train-SNRdB_-10-20_20250319_101438.h5\n",
            "Free disk space: 153.20 GB\n",
            "Creating HDF5 file....\n"
          ]
        },
        {
          "output_type": "stream",
          "name": "stderr",
          "text": [
            "\rProcessing batches:  53%|█████▎    | 428/810 [15:07:04<13:14:05, 124.73s/batch]"
          ]
        },
        {
          "output_type": "stream",
          "name": "stdout",
          "text": [
            "Current file size: 0.6943744421005249\n",
            "Done /content/drive/MyDrive/Datasets/Music-Noise/SNRdB_all-noise_features_2/SNRdB_-10-20/train/train-SNRdB_-10-20_20250319_101636.h5\n",
            "Free disk space: 153.16 GB\n",
            "Creating HDF5 file....\n"
          ]
        },
        {
          "output_type": "stream",
          "name": "stderr",
          "text": [
            "\rProcessing batches:  53%|█████▎    | 429/810 [15:09:11<13:17:14, 125.55s/batch]"
          ]
        },
        {
          "output_type": "stream",
          "name": "stdout",
          "text": [
            "Current file size: 0.6943744421005249\n",
            "Done /content/drive/MyDrive/Datasets/Music-Noise/SNRdB_all-noise_features_2/SNRdB_-10-20/train/train-SNRdB_-10-20_20250319_101836.h5\n",
            "Free disk space: 153.16 GB\n",
            "Creating HDF5 file....\n"
          ]
        },
        {
          "output_type": "stream",
          "name": "stderr",
          "text": [
            "\rProcessing batches:  53%|█████▎    | 430/810 [15:11:06<12:55:16, 122.41s/batch]"
          ]
        },
        {
          "output_type": "stream",
          "name": "stdout",
          "text": [
            "Current file size: 0.6943744421005249\n",
            "Done /content/drive/MyDrive/Datasets/Music-Noise/SNRdB_all-noise_features_2/SNRdB_-10-20/train/train-SNRdB_-10-20_20250319_102039.h5\n",
            "Free disk space: 153.18 GB\n",
            "Creating HDF5 file....\n"
          ]
        },
        {
          "output_type": "stream",
          "name": "stderr",
          "text": [
            "\rProcessing batches:  53%|█████▎    | 431/810 [15:13:11<12:56:54, 122.99s/batch]"
          ]
        },
        {
          "output_type": "stream",
          "name": "stdout",
          "text": [
            "Current file size: 0.6943744421005249\n",
            "Done /content/drive/MyDrive/Datasets/Music-Noise/SNRdB_all-noise_features_2/SNRdB_-10-20/train/train-SNRdB_-10-20_20250319_102243.h5\n",
            "Free disk space: 153.19 GB\n",
            "Creating HDF5 file....\n"
          ]
        },
        {
          "output_type": "stream",
          "name": "stderr",
          "text": [
            "\rProcessing batches:  53%|█████▎    | 432/810 [15:15:14<12:56:05, 123.19s/batch]"
          ]
        },
        {
          "output_type": "stream",
          "name": "stdout",
          "text": [
            "Current file size: 0.6943744421005249\n",
            "Done /content/drive/MyDrive/Datasets/Music-Noise/SNRdB_all-noise_features_2/SNRdB_-10-20/train/train-SNRdB_-10-20_20250319_102444.h5\n",
            "Free disk space: 153.15 GB\n",
            "Creating HDF5 file....\n",
            "Current file size: 0.6943744421005249\n",
            "Done /content/drive/MyDrive/Datasets/Music-Noise/SNRdB_all-noise_features_2/SNRdB_-10-20/train/train-SNRdB_-10-20_20250319_102643.h5\n"
          ]
        },
        {
          "output_type": "stream",
          "name": "stderr",
          "text": [
            "\rProcessing batches:  53%|█████▎    | 433/810 [15:17:14<12:48:30, 122.31s/batch]"
          ]
        },
        {
          "output_type": "stream",
          "name": "stdout",
          "text": [
            "Free disk space: 153.12 GB\n",
            "Creating HDF5 file....\n"
          ]
        },
        {
          "output_type": "stream",
          "name": "stderr",
          "text": [
            "\rProcessing batches:  54%|█████▎    | 434/810 [15:19:26<13:04:24, 125.17s/batch]"
          ]
        },
        {
          "output_type": "stream",
          "name": "stdout",
          "text": [
            "Current file size: 0.6943744421005249\n",
            "Done /content/drive/MyDrive/Datasets/Music-Noise/SNRdB_all-noise_features_2/SNRdB_-10-20/train/train-SNRdB_-10-20_20250319_102851.h5\n",
            "Free disk space: 153.10 GB\n",
            "Creating HDF5 file....\n"
          ]
        },
        {
          "output_type": "stream",
          "name": "stderr",
          "text": [
            "\rProcessing batches:  54%|█████▎    | 435/810 [15:21:32<13:03:11, 125.31s/batch]"
          ]
        },
        {
          "output_type": "stream",
          "name": "stdout",
          "text": [
            "Current file size: 0.6943744421005249\n",
            "Done /content/drive/MyDrive/Datasets/Music-Noise/SNRdB_all-noise_features_2/SNRdB_-10-20/train/train-SNRdB_-10-20_20250319_103106.h5\n",
            "Free disk space: 153.21 GB\n",
            "Creating HDF5 file....\n"
          ]
        },
        {
          "output_type": "stream",
          "name": "stderr",
          "text": [
            "\rProcessing batches:  54%|█████▍    | 436/810 [15:23:29<12:46:19, 122.94s/batch]"
          ]
        },
        {
          "output_type": "stream",
          "name": "stdout",
          "text": [
            "Current file size: 0.6943744421005249\n",
            "Done /content/drive/MyDrive/Datasets/Music-Noise/SNRdB_all-noise_features_2/SNRdB_-10-20/train/train-SNRdB_-10-20_20250319_103304.h5\n",
            "Free disk space: 153.19 GB\n",
            "Creating HDF5 file....\n",
            "Current file size: 0.6943744421005249\n",
            "Done /content/drive/MyDrive/Datasets/Music-Noise/SNRdB_all-noise_features_2/SNRdB_-10-20/train/train-SNRdB_-10-20_20250319_103507.h5\n"
          ]
        },
        {
          "output_type": "stream",
          "name": "stderr",
          "text": [
            "\rProcessing batches:  54%|█████▍    | 437/810 [15:25:40<12:58:57, 125.30s/batch]"
          ]
        },
        {
          "output_type": "stream",
          "name": "stdout",
          "text": [
            "Free disk space: 153.17 GB\n",
            "Creating HDF5 file....\n"
          ]
        },
        {
          "output_type": "stream",
          "name": "stderr",
          "text": [
            "\rProcessing batches:  54%|█████▍    | 438/810 [15:27:43<12:52:16, 124.56s/batch]"
          ]
        },
        {
          "output_type": "stream",
          "name": "stdout",
          "text": [
            "Current file size: 0.6943744421005249\n",
            "Done /content/drive/MyDrive/Datasets/Music-Noise/SNRdB_all-noise_features_2/SNRdB_-10-20/train/train-SNRdB_-10-20_20250319_103717.h5\n",
            "Free disk space: 153.18 GB\n",
            "Creating HDF5 file....\n"
          ]
        },
        {
          "output_type": "stream",
          "name": "stderr",
          "text": [
            "\rProcessing batches:  54%|█████▍    | 439/810 [15:29:50<12:54:22, 125.24s/batch]"
          ]
        },
        {
          "output_type": "stream",
          "name": "stdout",
          "text": [
            "Current file size: 0.6943744421005249\n",
            "Done /content/drive/MyDrive/Datasets/Music-Noise/SNRdB_all-noise_features_2/SNRdB_-10-20/train/train-SNRdB_-10-20_20250319_103914.h5\n",
            "Free disk space: 153.18 GB\n",
            "Creating HDF5 file....\n"
          ]
        },
        {
          "output_type": "stream",
          "name": "stderr",
          "text": [
            "\rProcessing batches:  54%|█████▍    | 440/810 [15:31:53<12:48:03, 124.55s/batch]"
          ]
        },
        {
          "output_type": "stream",
          "name": "stdout",
          "text": [
            "Current file size: 0.6943744421005249\n",
            "Done /content/drive/MyDrive/Datasets/Music-Noise/SNRdB_all-noise_features_2/SNRdB_-10-20/train/train-SNRdB_-10-20_20250319_104128.h5\n",
            "Free disk space: 153.17 GB\n",
            "Creating HDF5 file....\n"
          ]
        },
        {
          "output_type": "stream",
          "name": "stderr",
          "text": [
            "\rProcessing batches:  54%|█████▍    | 441/810 [15:33:49<12:30:21, 122.01s/batch]"
          ]
        },
        {
          "output_type": "stream",
          "name": "stdout",
          "text": [
            "Current file size: 0.6943744421005249\n",
            "Done /content/drive/MyDrive/Datasets/Music-Noise/SNRdB_all-noise_features_2/SNRdB_-10-20/train/train-SNRdB_-10-20_20250319_104327.h5\n",
            "Free disk space: 153.19 GB\n",
            "Creating HDF5 file....\n"
          ]
        },
        {
          "output_type": "stream",
          "name": "stderr",
          "text": [
            "\rProcessing batches:  55%|█████▍    | 442/810 [15:36:08<12:59:13, 127.05s/batch]"
          ]
        },
        {
          "output_type": "stream",
          "name": "stdout",
          "text": [
            "Current file size: 0.6943744421005249\n",
            "Done /content/drive/MyDrive/Datasets/Music-Noise/SNRdB_all-noise_features_2/SNRdB_-10-20/train/train-SNRdB_-10-20_20250319_104537.h5\n",
            "Free disk space: 153.19 GB\n",
            "Creating HDF5 file....\n"
          ]
        },
        {
          "output_type": "stream",
          "name": "stderr",
          "text": [
            "\rProcessing batches:  55%|█████▍    | 443/810 [15:38:11<12:50:40, 126.00s/batch]"
          ]
        },
        {
          "output_type": "stream",
          "name": "stdout",
          "text": [
            "Current file size: 0.6943744421005249\n",
            "Done /content/drive/MyDrive/Datasets/Music-Noise/SNRdB_all-noise_features_2/SNRdB_-10-20/train/train-SNRdB_-10-20_20250319_104740.h5\n",
            "Free disk space: 153.16 GB\n",
            "Creating HDF5 file....\n"
          ]
        },
        {
          "output_type": "stream",
          "name": "stderr",
          "text": [
            "\rProcessing batches:  55%|█████▍    | 444/810 [15:40:10<12:36:08, 123.96s/batch]"
          ]
        },
        {
          "output_type": "stream",
          "name": "stdout",
          "text": [
            "Current file size: 0.6943744421005249\n",
            "Done /content/drive/MyDrive/Datasets/Music-Noise/SNRdB_all-noise_features_2/SNRdB_-10-20/train/train-SNRdB_-10-20_20250319_104947.h5\n",
            "Free disk space: 153.13 GB\n",
            "Creating HDF5 file....\n"
          ]
        },
        {
          "output_type": "stream",
          "name": "stderr",
          "text": [
            "\rProcessing batches:  55%|█████▍    | 445/810 [15:42:08<12:22:19, 122.03s/batch]"
          ]
        },
        {
          "output_type": "stream",
          "name": "stdout",
          "text": [
            "Current file size: 0.6943744421005249\n",
            "Done /content/drive/MyDrive/Datasets/Music-Noise/SNRdB_all-noise_features_2/SNRdB_-10-20/train/train-SNRdB_-10-20_20250319_105141.h5\n",
            "Free disk space: 153.11 GB\n",
            "Creating HDF5 file....\n",
            "Current file size: 0.6943744421005249\n",
            "Done /content/drive/MyDrive/Datasets/Music-Noise/SNRdB_all-noise_features_2/SNRdB_-10-20/train/train-SNRdB_-10-20_20250319_105339.h5\n"
          ]
        },
        {
          "output_type": "stream",
          "name": "stderr",
          "text": [
            "\rProcessing batches:  55%|█████▌    | 446/810 [15:44:06<12:13:26, 120.90s/batch]"
          ]
        },
        {
          "output_type": "stream",
          "name": "stdout",
          "text": [
            "Free disk space: 153.09 GB\n",
            "Creating HDF5 file....\n"
          ]
        },
        {
          "output_type": "stream",
          "name": "stderr",
          "text": [
            "\rProcessing batches:  55%|█████▌    | 447/810 [15:46:16<12:27:36, 123.57s/batch]"
          ]
        },
        {
          "output_type": "stream",
          "name": "stdout",
          "text": [
            "Current file size: 0.6943744421005249\n",
            "Done /content/drive/MyDrive/Datasets/Music-Noise/SNRdB_all-noise_features_2/SNRdB_-10-20/train/train-SNRdB_-10-20_20250319_105543.h5\n",
            "Free disk space: 153.16 GB\n",
            "Creating HDF5 file....\n"
          ]
        },
        {
          "output_type": "stream",
          "name": "stderr",
          "text": [
            "\rProcessing batches:  55%|█████▌    | 448/810 [15:48:14<12:15:45, 121.95s/batch]"
          ]
        },
        {
          "output_type": "stream",
          "name": "stdout",
          "text": [
            "Current file size: 0.6943744421005249\n",
            "Done /content/drive/MyDrive/Datasets/Music-Noise/SNRdB_all-noise_features_2/SNRdB_-10-20/train/train-SNRdB_-10-20_20250319_105750.h5\n",
            "Free disk space: 153.12 GB\n",
            "Creating HDF5 file....\n"
          ]
        },
        {
          "output_type": "stream",
          "name": "stderr",
          "text": [
            "\rProcessing batches:  55%|█████▌    | 449/810 [15:50:22<12:23:55, 123.64s/batch]"
          ]
        },
        {
          "output_type": "stream",
          "name": "stdout",
          "text": [
            "Current file size: 0.6943744421005249\n",
            "Done /content/drive/MyDrive/Datasets/Music-Noise/SNRdB_all-noise_features_2/SNRdB_-10-20/train/train-SNRdB_-10-20_20250319_105952.h5\n",
            "Free disk space: 153.18 GB\n",
            "Creating HDF5 file....\n",
            "Current file size: 0.6943744421005249\n",
            "Done /content/drive/MyDrive/Datasets/Music-Noise/SNRdB_all-noise_features_2/SNRdB_-10-20/train/train-SNRdB_-10-20_20250319_110200.h5\n"
          ]
        },
        {
          "output_type": "stream",
          "name": "stderr",
          "text": [
            "\rProcessing batches:  56%|█████▌    | 450/810 [15:52:30<12:30:02, 125.01s/batch]"
          ]
        },
        {
          "output_type": "stream",
          "name": "stdout",
          "text": [
            "Free disk space: 153.16 GB\n",
            "Creating HDF5 file....\n"
          ]
        },
        {
          "output_type": "stream",
          "name": "stderr",
          "text": [
            "\rProcessing batches:  56%|█████▌    | 451/810 [15:54:33<12:24:32, 124.44s/batch]"
          ]
        },
        {
          "output_type": "stream",
          "name": "stdout",
          "text": [
            "Current file size: 0.6943744421005249\n",
            "Done /content/drive/MyDrive/Datasets/Music-Noise/SNRdB_all-noise_features_2/SNRdB_-10-20/train/train-SNRdB_-10-20_20250319_110401.h5\n",
            "Free disk space: 153.12 GB\n",
            "Creating HDF5 file....\n"
          ]
        },
        {
          "output_type": "stream",
          "name": "stderr",
          "text": [
            "\rProcessing batches:  56%|█████▌    | 452/810 [15:56:36<12:19:08, 123.88s/batch]"
          ]
        },
        {
          "output_type": "stream",
          "name": "stdout",
          "text": [
            "Current file size: 0.6943744421005249\n",
            "Done /content/drive/MyDrive/Datasets/Music-Noise/SNRdB_all-noise_features_2/SNRdB_-10-20/train/train-SNRdB_-10-20_20250319_110604.h5\n",
            "Free disk space: 153.11 GB\n",
            "Creating HDF5 file....\n",
            "Current file size: 0.6943744421005249\n",
            "Done /content/drive/MyDrive/Datasets/Music-Noise/SNRdB_all-noise_features_2/SNRdB_-10-20/train/train-SNRdB_-10-20_20250319_110815.h5\n"
          ]
        },
        {
          "output_type": "stream",
          "name": "stderr",
          "text": [
            "\rProcessing batches:  56%|█████▌    | 453/810 [15:58:45<12:26:33, 125.47s/batch]"
          ]
        },
        {
          "output_type": "stream",
          "name": "stdout",
          "text": [
            "Free disk space: 153.15 GB\n",
            "Creating HDF5 file....\n"
          ]
        },
        {
          "output_type": "stream",
          "name": "stderr",
          "text": [
            "\rProcessing batches:  56%|█████▌    | 454/810 [16:00:51<12:25:59, 125.73s/batch]"
          ]
        },
        {
          "output_type": "stream",
          "name": "stdout",
          "text": [
            "Current file size: 0.6943744421005249\n",
            "Done /content/drive/MyDrive/Datasets/Music-Noise/SNRdB_all-noise_features_2/SNRdB_-10-20/train/train-SNRdB_-10-20_20250319_111028.h5\n",
            "Free disk space: 153.12 GB\n",
            "Creating HDF5 file....\n"
          ]
        },
        {
          "output_type": "stream",
          "name": "stderr",
          "text": [
            "\rProcessing batches:  56%|█████▌    | 455/810 [16:03:03<12:35:21, 127.67s/batch]"
          ]
        },
        {
          "output_type": "stream",
          "name": "stdout",
          "text": [
            "Current file size: 0.6943744421005249\n",
            "Done /content/drive/MyDrive/Datasets/Music-Noise/SNRdB_all-noise_features_2/SNRdB_-10-20/train/train-SNRdB_-10-20_20250319_111233.h5\n",
            "Free disk space: 153.08 GB\n",
            "Creating HDF5 file....\n"
          ]
        },
        {
          "output_type": "stream",
          "name": "stderr",
          "text": [
            "\rProcessing batches:  56%|█████▋    | 456/810 [16:05:15<12:39:41, 128.76s/batch]"
          ]
        },
        {
          "output_type": "stream",
          "name": "stdout",
          "text": [
            "Current file size: 0.6943744421005249\n",
            "Done /content/drive/MyDrive/Datasets/Music-Noise/SNRdB_all-noise_features_2/SNRdB_-10-20/train/train-SNRdB_-10-20_20250319_111446.h5\n",
            "Free disk space: 153.19 GB\n",
            "Creating HDF5 file....\n"
          ]
        },
        {
          "output_type": "stream",
          "name": "stderr",
          "text": [
            "\rProcessing batches:  56%|█████▋    | 457/810 [16:07:19<12:30:26, 127.55s/batch]"
          ]
        },
        {
          "output_type": "stream",
          "name": "stdout",
          "text": [
            "Current file size: 0.6943744421005249\n",
            "Done /content/drive/MyDrive/Datasets/Music-Noise/SNRdB_all-noise_features_2/SNRdB_-10-20/train/train-SNRdB_-10-20_20250319_111651.h5\n",
            "Free disk space: 153.23 GB\n",
            "Creating HDF5 file....\n",
            "Current file size: 0.6943744421005249\n",
            "Done /content/drive/MyDrive/Datasets/Music-Noise/SNRdB_all-noise_features_2/SNRdB_-10-20/train/train-SNRdB_-10-20_20250319_111903.h5\n"
          ]
        },
        {
          "output_type": "stream",
          "name": "stderr",
          "text": [
            "\rProcessing batches:  57%|█████▋    | 458/810 [16:09:31<12:35:06, 128.71s/batch]"
          ]
        },
        {
          "output_type": "stream",
          "name": "stdout",
          "text": [
            "Free disk space: 153.23 GB\n",
            "Creating HDF5 file....\n"
          ]
        },
        {
          "output_type": "stream",
          "name": "stderr",
          "text": [
            "\rProcessing batches:  57%|█████▋    | 459/810 [16:11:45<12:43:09, 130.46s/batch]"
          ]
        },
        {
          "output_type": "stream",
          "name": "stdout",
          "text": [
            "Current file size: 0.6943744421005249\n",
            "Done /content/drive/MyDrive/Datasets/Music-Noise/SNRdB_all-noise_features_2/SNRdB_-10-20/train/train-SNRdB_-10-20_20250319_112115.h5\n",
            "Free disk space: 153.22 GB\n",
            "Creating HDF5 file....\n"
          ]
        },
        {
          "output_type": "stream",
          "name": "stderr",
          "text": [
            "\rProcessing batches:  57%|█████▋    | 460/810 [16:13:46<12:24:00, 127.55s/batch]"
          ]
        },
        {
          "output_type": "stream",
          "name": "stdout",
          "text": [
            "Current file size: 0.6943744421005249\n",
            "Done /content/drive/MyDrive/Datasets/Music-Noise/SNRdB_all-noise_features_2/SNRdB_-10-20/train/train-SNRdB_-10-20_20250319_112319.h5\n",
            "Free disk space: 153.18 GB\n",
            "Creating HDF5 file....\n"
          ]
        },
        {
          "output_type": "stream",
          "name": "stderr",
          "text": [
            "\rProcessing batches:  57%|█████▋    | 461/810 [16:16:04<12:40:42, 130.78s/batch]"
          ]
        },
        {
          "output_type": "stream",
          "name": "stdout",
          "text": [
            "Current file size: 0.6943744421005249\n",
            "Done /content/drive/MyDrive/Datasets/Music-Noise/SNRdB_all-noise_features_2/SNRdB_-10-20/train/train-SNRdB_-10-20_20250319_112533.h5\n",
            "Free disk space: 153.21 GB\n",
            "Creating HDF5 file....\n"
          ]
        },
        {
          "output_type": "stream",
          "name": "stderr",
          "text": [
            "\rProcessing batches:  57%|█████▋    | 462/810 [16:18:13<12:34:06, 130.02s/batch]"
          ]
        },
        {
          "output_type": "stream",
          "name": "stdout",
          "text": [
            "Current file size: 0.6943744421005249\n",
            "Done /content/drive/MyDrive/Datasets/Music-Noise/SNRdB_all-noise_features_2/SNRdB_-10-20/train/train-SNRdB_-10-20_20250319_112742.h5\n",
            "Free disk space: 153.20 GB\n",
            "Creating HDF5 file....\n"
          ]
        },
        {
          "output_type": "stream",
          "name": "stderr",
          "text": [
            "\rProcessing batches:  57%|█████▋    | 463/810 [16:20:19<12:25:25, 128.89s/batch]"
          ]
        },
        {
          "output_type": "stream",
          "name": "stdout",
          "text": [
            "Current file size: 0.6943744421005249\n",
            "Done /content/drive/MyDrive/Datasets/Music-Noise/SNRdB_all-noise_features_2/SNRdB_-10-20/train/train-SNRdB_-10-20_20250319_112951.h5\n",
            "Free disk space: 153.21 GB\n",
            "Creating HDF5 file....\n"
          ]
        },
        {
          "output_type": "stream",
          "name": "stderr",
          "text": [
            "\rProcessing batches:  57%|█████▋    | 464/810 [16:22:21<12:12:16, 126.98s/batch]"
          ]
        },
        {
          "output_type": "stream",
          "name": "stdout",
          "text": [
            "Current file size: 0.6943744421005249\n",
            "Done /content/drive/MyDrive/Datasets/Music-Noise/SNRdB_all-noise_features_2/SNRdB_-10-20/train/train-SNRdB_-10-20_20250319_113154.h5\n",
            "Free disk space: 153.18 GB\n",
            "Creating HDF5 file....\n",
            "Current file size: 0.6943744421005249\n",
            "Done /content/drive/MyDrive/Datasets/Music-Noise/SNRdB_all-noise_features_2/SNRdB_-10-20/train/train-SNRdB_-10-20_20250319_113352.h5\n"
          ]
        },
        {
          "output_type": "stream",
          "name": "stderr",
          "text": [
            "\rProcessing batches:  57%|█████▋    | 465/810 [16:24:18<11:51:31, 123.74s/batch]"
          ]
        },
        {
          "output_type": "stream",
          "name": "stdout",
          "text": [
            "Free disk space: 153.17 GB\n",
            "Creating HDF5 file....\n"
          ]
        },
        {
          "output_type": "stream",
          "name": "stderr",
          "text": [
            "\rProcessing batches:  58%|█████▊    | 466/810 [16:26:28<12:01:29, 125.84s/batch]"
          ]
        },
        {
          "output_type": "stream",
          "name": "stdout",
          "text": [
            "Current file size: 0.6943744421005249\n",
            "Done /content/drive/MyDrive/Datasets/Music-Noise/SNRdB_all-noise_features_2/SNRdB_-10-20/train/train-SNRdB_-10-20_20250319_113603.h5\n",
            "Free disk space: 153.14 GB\n",
            "Creating HDF5 file....\n"
          ]
        },
        {
          "output_type": "stream",
          "name": "stderr",
          "text": [
            "\rProcessing batches:  58%|█████▊    | 467/810 [16:28:32<11:55:12, 125.11s/batch]"
          ]
        },
        {
          "output_type": "stream",
          "name": "stdout",
          "text": [
            "Current file size: 0.6943744421005249\n",
            "Done /content/drive/MyDrive/Datasets/Music-Noise/SNRdB_all-noise_features_2/SNRdB_-10-20/train/train-SNRdB_-10-20_20250319_113801.h5\n",
            "Free disk space: 153.12 GB\n",
            "Creating HDF5 file....\n"
          ]
        },
        {
          "output_type": "stream",
          "name": "stderr",
          "text": [
            "\rProcessing batches:  58%|█████▊    | 468/810 [16:30:30<11:42:10, 123.19s/batch]"
          ]
        },
        {
          "output_type": "stream",
          "name": "stdout",
          "text": [
            "Current file size: 0.6943744421005249\n",
            "Done /content/drive/MyDrive/Datasets/Music-Noise/SNRdB_all-noise_features_2/SNRdB_-10-20/train/train-SNRdB_-10-20_20250319_114002.h5\n",
            "Free disk space: 153.13 GB\n",
            "Creating HDF5 file....\n"
          ]
        },
        {
          "output_type": "stream",
          "name": "stderr",
          "text": [
            "\rProcessing batches:  58%|█████▊    | 469/810 [16:32:26<11:26:32, 120.80s/batch]"
          ]
        },
        {
          "output_type": "stream",
          "name": "stdout",
          "text": [
            "Current file size: 0.6943744421005249\n",
            "Done /content/drive/MyDrive/Datasets/Music-Noise/SNRdB_all-noise_features_2/SNRdB_-10-20/train/train-SNRdB_-10-20_20250319_114203.h5\n",
            "Free disk space: 153.16 GB\n",
            "Creating HDF5 file....\n"
          ]
        },
        {
          "output_type": "stream",
          "name": "stderr",
          "text": [
            "\rProcessing batches:  58%|█████▊    | 470/810 [16:34:23<11:18:29, 119.73s/batch]"
          ]
        },
        {
          "output_type": "stream",
          "name": "stdout",
          "text": [
            "Current file size: 0.6943744421005249\n",
            "Done /content/drive/MyDrive/Datasets/Music-Noise/SNRdB_all-noise_features_2/SNRdB_-10-20/train/train-SNRdB_-10-20_20250319_114355.h5\n",
            "Free disk space: 153.15 GB\n",
            "Creating HDF5 file....\n"
          ]
        },
        {
          "output_type": "stream",
          "name": "stderr",
          "text": [
            "\rProcessing batches:  58%|█████▊    | 471/810 [16:36:33<11:33:23, 122.72s/batch]"
          ]
        },
        {
          "output_type": "stream",
          "name": "stdout",
          "text": [
            "Current file size: 0.6943744421005249\n",
            "Done /content/drive/MyDrive/Datasets/Music-Noise/SNRdB_all-noise_features_2/SNRdB_-10-20/train/train-SNRdB_-10-20_20250319_114603.h5\n",
            "Free disk space: 153.21 GB\n",
            "Creating HDF5 file....\n"
          ]
        },
        {
          "output_type": "stream",
          "name": "stderr",
          "text": [
            "\rProcessing batches:  58%|█████▊    | 472/810 [16:38:34<11:28:24, 122.20s/batch]"
          ]
        },
        {
          "output_type": "stream",
          "name": "stdout",
          "text": [
            "Current file size: 0.6943744421005249\n",
            "Done /content/drive/MyDrive/Datasets/Music-Noise/SNRdB_all-noise_features_2/SNRdB_-10-20/train/train-SNRdB_-10-20_20250319_114808.h5\n",
            "Free disk space: 153.19 GB\n",
            "Creating HDF5 file....\n"
          ]
        },
        {
          "output_type": "stream",
          "name": "stderr",
          "text": [
            "\rProcessing batches:  58%|█████▊    | 473/810 [16:40:27<11:10:48, 119.43s/batch]"
          ]
        },
        {
          "output_type": "stream",
          "name": "stdout",
          "text": [
            "Current file size: 0.6943744421005249\n",
            "Done /content/drive/MyDrive/Datasets/Music-Noise/SNRdB_all-noise_features_2/SNRdB_-10-20/train/train-SNRdB_-10-20_20250319_115004.h5\n",
            "Free disk space: 153.18 GB\n",
            "Creating HDF5 file....\n",
            "Current file size: 0.6943744421005249\n",
            "Done /content/drive/MyDrive/Datasets/Music-Noise/SNRdB_all-noise_features_2/SNRdB_-10-20/train/train-SNRdB_-10-20_20250319_115205.h5\n"
          ]
        },
        {
          "output_type": "stream",
          "name": "stderr",
          "text": [
            "\rProcessing batches:  59%|█████▊    | 474/810 [16:42:40<11:31:53, 123.55s/batch]"
          ]
        },
        {
          "output_type": "stream",
          "name": "stdout",
          "text": [
            "Free disk space: 153.21 GB\n",
            "Creating HDF5 file....\n"
          ]
        },
        {
          "output_type": "stream",
          "name": "stderr",
          "text": [
            "\rProcessing batches:  59%|█████▊    | 475/810 [16:44:42<11:27:47, 123.19s/batch]"
          ]
        },
        {
          "output_type": "stream",
          "name": "stdout",
          "text": [
            "Current file size: 0.6943744421005249\n",
            "Done /content/drive/MyDrive/Datasets/Music-Noise/SNRdB_all-noise_features_2/SNRdB_-10-20/train/train-SNRdB_-10-20_20250319_115419.h5\n",
            "Free disk space: 153.20 GB\n",
            "Creating HDF5 file....\n"
          ]
        },
        {
          "output_type": "stream",
          "name": "stderr",
          "text": [
            "\rProcessing batches:  59%|█████▉    | 476/810 [16:46:48<11:30:11, 123.99s/batch]"
          ]
        },
        {
          "output_type": "stream",
          "name": "stdout",
          "text": [
            "Current file size: 0.6943744421005249\n",
            "Done /content/drive/MyDrive/Datasets/Music-Noise/SNRdB_all-noise_features_2/SNRdB_-10-20/train/train-SNRdB_-10-20_20250319_115619.h5\n",
            "Free disk space: 153.17 GB\n",
            "Creating HDF5 file....\n"
          ]
        },
        {
          "output_type": "stream",
          "name": "stderr",
          "text": [
            "\rProcessing batches:  59%|█████▉    | 477/810 [16:48:50<11:24:56, 123.41s/batch]"
          ]
        },
        {
          "output_type": "stream",
          "name": "stdout",
          "text": [
            "Current file size: 0.6943744421005249\n",
            "Done /content/drive/MyDrive/Datasets/Music-Noise/SNRdB_all-noise_features_2/SNRdB_-10-20/train/train-SNRdB_-10-20_20250319_115821.h5\n",
            "Free disk space: 153.17 GB\n",
            "Creating HDF5 file....\n"
          ]
        },
        {
          "output_type": "stream",
          "name": "stderr",
          "text": [
            "\rProcessing batches:  59%|█████▉    | 478/810 [16:50:57<11:28:35, 124.44s/batch]"
          ]
        },
        {
          "output_type": "stream",
          "name": "stdout",
          "text": [
            "Current file size: 0.6943744421005249\n",
            "Done /content/drive/MyDrive/Datasets/Music-Noise/SNRdB_all-noise_features_2/SNRdB_-10-20/train/train-SNRdB_-10-20_20250319_120029.h5\n",
            "Free disk space: 153.19 GB\n",
            "Creating HDF5 file....\n"
          ]
        },
        {
          "output_type": "stream",
          "name": "stderr",
          "text": [
            "\rProcessing batches:  59%|█████▉    | 479/810 [16:52:58<11:21:12, 123.48s/batch]"
          ]
        },
        {
          "output_type": "stream",
          "name": "stdout",
          "text": [
            "Current file size: 0.6943744421005249\n",
            "Done /content/drive/MyDrive/Datasets/Music-Noise/SNRdB_all-noise_features_2/SNRdB_-10-20/train/train-SNRdB_-10-20_20250319_120233.h5\n",
            "Free disk space: 153.19 GB\n",
            "Creating HDF5 file....\n",
            "Current file size: 0.6943744421005249\n",
            "Done /content/drive/MyDrive/Datasets/Music-Noise/SNRdB_all-noise_features_2/SNRdB_-10-20/train/train-SNRdB_-10-20_20250319_120438.h5\n"
          ]
        },
        {
          "output_type": "stream",
          "name": "stderr",
          "text": [
            "\rProcessing batches:  59%|█████▉    | 480/810 [16:55:04<11:22:29, 124.09s/batch]"
          ]
        },
        {
          "output_type": "stream",
          "name": "stdout",
          "text": [
            "Free disk space: 153.16 GB\n",
            "Creating HDF5 file....\n"
          ]
        },
        {
          "output_type": "stream",
          "name": "stderr",
          "text": [
            "\rProcessing batches:  59%|█████▉    | 481/810 [16:57:28<11:54:21, 130.28s/batch]"
          ]
        },
        {
          "output_type": "stream",
          "name": "stdout",
          "text": [
            "Current file size: 0.6943744421005249\n",
            "Done /content/drive/MyDrive/Datasets/Music-Noise/SNRdB_all-noise_features_2/SNRdB_-10-20/train/train-SNRdB_-10-20_20250319_120657.h5\n",
            "Free disk space: 153.16 GB\n",
            "Creating HDF5 file....\n"
          ]
        },
        {
          "output_type": "stream",
          "name": "stderr",
          "text": [
            "\rProcessing batches:  60%|█████▉    | 482/810 [16:59:40<11:55:20, 130.86s/batch]"
          ]
        },
        {
          "output_type": "stream",
          "name": "stdout",
          "text": [
            "Current file size: 0.6943744421005249\n",
            "Done /content/drive/MyDrive/Datasets/Music-Noise/SNRdB_all-noise_features_2/SNRdB_-10-20/train/train-SNRdB_-10-20_20250319_120909.h5\n",
            "Free disk space: 153.13 GB\n",
            "Creating HDF5 file....\n",
            "Current file size: 0.6943744421005249\n",
            "Done /content/drive/MyDrive/Datasets/Music-Noise/SNRdB_all-noise_features_2/SNRdB_-10-20/train/train-SNRdB_-10-20_20250319_121122.h5\n"
          ]
        },
        {
          "output_type": "stream",
          "name": "stderr",
          "text": [
            "\rProcessing batches:  60%|█████▉    | 483/810 [17:01:48<11:48:19, 129.97s/batch]"
          ]
        },
        {
          "output_type": "stream",
          "name": "stdout",
          "text": [
            "Free disk space: 153.10 GB\n",
            "Creating HDF5 file....\n"
          ]
        },
        {
          "output_type": "stream",
          "name": "stderr",
          "text": [
            "\rProcessing batches:  60%|█████▉    | 484/810 [17:03:53<11:37:30, 128.38s/batch]"
          ]
        },
        {
          "output_type": "stream",
          "name": "stdout",
          "text": [
            "Current file size: 0.6943744421005249\n",
            "Done /content/drive/MyDrive/Datasets/Music-Noise/SNRdB_all-noise_features_2/SNRdB_-10-20/train/train-SNRdB_-10-20_20250319_121326.h5\n",
            "Free disk space: 153.05 GB\n",
            "Creating HDF5 file....\n"
          ]
        },
        {
          "output_type": "stream",
          "name": "stderr",
          "text": [
            "\rProcessing batches:  60%|█████▉    | 485/810 [17:05:59<11:32:10, 127.79s/batch]"
          ]
        },
        {
          "output_type": "stream",
          "name": "stdout",
          "text": [
            "Current file size: 0.6943744421005249\n",
            "Done /content/drive/MyDrive/Datasets/Music-Noise/SNRdB_all-noise_features_2/SNRdB_-10-20/train/train-SNRdB_-10-20_20250319_121533.h5\n",
            "Free disk space: 153.08 GB\n",
            "Creating HDF5 file....\n"
          ]
        },
        {
          "output_type": "stream",
          "name": "stderr",
          "text": [
            "\rProcessing batches:  60%|██████    | 486/810 [17:08:11<11:35:44, 128.84s/batch]"
          ]
        },
        {
          "output_type": "stream",
          "name": "stdout",
          "text": [
            "Current file size: 0.6943744421005249\n",
            "Done /content/drive/MyDrive/Datasets/Music-Noise/SNRdB_all-noise_features_2/SNRdB_-10-20/train/train-SNRdB_-10-20_20250319_121743.h5\n",
            "Free disk space: 153.09 GB\n",
            "Creating HDF5 file....\n"
          ]
        },
        {
          "output_type": "stream",
          "name": "stderr",
          "text": [
            "\rProcessing batches:  60%|██████    | 487/810 [17:10:26<11:44:17, 130.83s/batch]"
          ]
        },
        {
          "output_type": "stream",
          "name": "stdout",
          "text": [
            "Current file size: 0.6943744421005249\n",
            "Done /content/drive/MyDrive/Datasets/Music-Noise/SNRdB_all-noise_features_2/SNRdB_-10-20/train/train-SNRdB_-10-20_20250319_121955.h5\n",
            "Free disk space: 153.06 GB\n",
            "Creating HDF5 file....\n"
          ]
        },
        {
          "output_type": "stream",
          "name": "stderr",
          "text": [
            "\rProcessing batches:  60%|██████    | 488/810 [17:12:37<11:41:25, 130.70s/batch]"
          ]
        },
        {
          "output_type": "stream",
          "name": "stdout",
          "text": [
            "Current file size: 0.6943744421005249\n",
            "Done /content/drive/MyDrive/Datasets/Music-Noise/SNRdB_all-noise_features_2/SNRdB_-10-20/train/train-SNRdB_-10-20_20250319_122201.h5\n",
            "Free disk space: 153.16 GB\n",
            "Creating HDF5 file....\n",
            "Current file size: 0.6943744421005249\n",
            "Done /content/drive/MyDrive/Datasets/Music-Noise/SNRdB_all-noise_features_2/SNRdB_-10-20/train/train-SNRdB_-10-20_20250319_122407.h5\n"
          ]
        },
        {
          "output_type": "stream",
          "name": "stderr",
          "text": [
            "\rProcessing batches:  60%|██████    | 489/810 [17:14:37<11:22:29, 127.57s/batch]"
          ]
        },
        {
          "output_type": "stream",
          "name": "stdout",
          "text": [
            "Free disk space: 153.12 GB\n",
            "Creating HDF5 file....\n"
          ]
        },
        {
          "output_type": "stream",
          "name": "stderr",
          "text": [
            "\rProcessing batches:  60%|██████    | 490/810 [17:16:43<11:17:40, 127.06s/batch]"
          ]
        },
        {
          "output_type": "stream",
          "name": "stdout",
          "text": [
            "Current file size: 0.6943744421005249\n",
            "Done /content/drive/MyDrive/Datasets/Music-Noise/SNRdB_all-noise_features_2/SNRdB_-10-20/train/train-SNRdB_-10-20_20250319_122616.h5\n",
            "Free disk space: 153.10 GB\n",
            "Creating HDF5 file....\n"
          ]
        },
        {
          "output_type": "stream",
          "name": "stderr",
          "text": [
            "\rProcessing batches:  61%|██████    | 491/810 [17:18:44<11:05:52, 125.24s/batch]"
          ]
        },
        {
          "output_type": "stream",
          "name": "stdout",
          "text": [
            "Current file size: 0.6943744421005249\n",
            "Done /content/drive/MyDrive/Datasets/Music-Noise/SNRdB_all-noise_features_2/SNRdB_-10-20/train/train-SNRdB_-10-20_20250319_122811.h5\n",
            "Free disk space: 153.13 GB\n",
            "Creating HDF5 file....\n"
          ]
        },
        {
          "output_type": "stream",
          "name": "stderr",
          "text": [
            "\rProcessing batches:  61%|██████    | 492/810 [17:20:42<10:53:26, 123.29s/batch]"
          ]
        },
        {
          "output_type": "stream",
          "name": "stdout",
          "text": [
            "Current file size: 0.6943744421005249\n",
            "Done /content/drive/MyDrive/Datasets/Music-Noise/SNRdB_all-noise_features_2/SNRdB_-10-20/train/train-SNRdB_-10-20_20250319_123019.h5\n",
            "Free disk space: 153.15 GB\n",
            "Creating HDF5 file....\n"
          ]
        },
        {
          "output_type": "stream",
          "name": "stderr",
          "text": [
            "\rProcessing batches:  61%|██████    | 493/810 [17:22:46<10:51:24, 123.29s/batch]"
          ]
        },
        {
          "output_type": "stream",
          "name": "stdout",
          "text": [
            "Current file size: 0.6943744421005249\n",
            "Done /content/drive/MyDrive/Datasets/Music-Noise/SNRdB_all-noise_features_2/SNRdB_-10-20/train/train-SNRdB_-10-20_20250319_123218.h5\n",
            "Free disk space: 153.13 GB\n",
            "Creating HDF5 file....\n",
            "Current file size: 0.6943744421005249\n",
            "Done /content/drive/MyDrive/Datasets/Music-Noise/SNRdB_all-noise_features_2/SNRdB_-10-20/train/train-SNRdB_-10-20_20250319_123415.h5\n"
          ]
        },
        {
          "output_type": "stream",
          "name": "stderr",
          "text": [
            "\rProcessing batches:  61%|██████    | 494/810 [17:24:44<10:40:59, 121.71s/batch]"
          ]
        },
        {
          "output_type": "stream",
          "name": "stdout",
          "text": [
            "Free disk space: 153.14 GB\n",
            "Creating HDF5 file....\n"
          ]
        },
        {
          "output_type": "stream",
          "name": "stderr",
          "text": [
            "\rProcessing batches:  61%|██████    | 495/810 [17:26:48<10:43:14, 122.52s/batch]"
          ]
        },
        {
          "output_type": "stream",
          "name": "stdout",
          "text": [
            "Current file size: 0.6943744421005249\n",
            "Done /content/drive/MyDrive/Datasets/Music-Noise/SNRdB_all-noise_features_2/SNRdB_-10-20/train/train-SNRdB_-10-20_20250319_123618.h5\n",
            "Free disk space: 153.20 GB\n",
            "Creating HDF5 file....\n"
          ]
        },
        {
          "output_type": "stream",
          "name": "stderr",
          "text": [
            "\rProcessing batches:  61%|██████    | 496/810 [17:28:48<10:36:52, 121.70s/batch]"
          ]
        },
        {
          "output_type": "stream",
          "name": "stdout",
          "text": [
            "Current file size: 0.6943744421005249\n",
            "Done /content/drive/MyDrive/Datasets/Music-Noise/SNRdB_all-noise_features_2/SNRdB_-10-20/train/train-SNRdB_-10-20_20250319_123821.h5\n",
            "Free disk space: 153.18 GB\n",
            "Creating HDF5 file....\n"
          ]
        },
        {
          "output_type": "stream",
          "name": "stderr",
          "text": [
            "\rProcessing batches:  61%|██████▏   | 497/810 [17:30:49<10:33:39, 121.47s/batch]"
          ]
        },
        {
          "output_type": "stream",
          "name": "stdout",
          "text": [
            "Current file size: 0.6943744421005249\n",
            "Done /content/drive/MyDrive/Datasets/Music-Noise/SNRdB_all-noise_features_2/SNRdB_-10-20/train/train-SNRdB_-10-20_20250319_124022.h5\n",
            "Free disk space: 153.13 GB\n",
            "Creating HDF5 file....\n"
          ]
        },
        {
          "output_type": "stream",
          "name": "stderr",
          "text": [
            "\rProcessing batches:  61%|██████▏   | 498/810 [17:33:04<10:52:49, 125.54s/batch]"
          ]
        },
        {
          "output_type": "stream",
          "name": "stdout",
          "text": [
            "Current file size: 0.6943744421005249\n",
            "Done /content/drive/MyDrive/Datasets/Music-Noise/SNRdB_all-noise_features_2/SNRdB_-10-20/train/train-SNRdB_-10-20_20250319_124235.h5\n",
            "Free disk space: 153.10 GB\n",
            "Creating HDF5 file....\n"
          ]
        },
        {
          "output_type": "stream",
          "name": "stderr",
          "text": [
            "\rProcessing batches:  62%|██████▏   | 499/810 [17:35:05<10:43:40, 124.18s/batch]"
          ]
        },
        {
          "output_type": "stream",
          "name": "stdout",
          "text": [
            "Current file size: 0.6943744421005249\n",
            "Done /content/drive/MyDrive/Datasets/Music-Noise/SNRdB_all-noise_features_2/SNRdB_-10-20/train/train-SNRdB_-10-20_20250319_124434.h5\n",
            "Free disk space: 153.14 GB\n",
            "Creating HDF5 file....\n"
          ]
        },
        {
          "output_type": "stream",
          "name": "stderr",
          "text": [
            "\rProcessing batches:  62%|██████▏   | 500/810 [17:37:10<10:42:31, 124.36s/batch]"
          ]
        },
        {
          "output_type": "stream",
          "name": "stdout",
          "text": [
            "Current file size: 0.6943744421005249\n",
            "Done /content/drive/MyDrive/Datasets/Music-Noise/SNRdB_all-noise_features_2/SNRdB_-10-20/train/train-SNRdB_-10-20_20250319_124641.h5\n",
            "Free disk space: 153.13 GB\n",
            "Creating HDF5 file....\n",
            "File maximum samples file......\n"
          ]
        },
        {
          "output_type": "stream",
          "name": "stderr",
          "text": [
            "\rProcessing batches:  62%|██████▏   | 500/810 [17:39:38<10:56:58, 127.16s/batch]\n"
          ]
        },
        {
          "output_type": "stream",
          "name": "stdout",
          "text": [
            "Processing complete. HDF5 file saved and closed.\n",
            "Dataset saved to /content/drive/MyDrive/Datasets/Music-Noise/SNRdB_all-noise_features_2/SNRdB_-10-20/train/train-SNRdB_-10-20.h5\n",
            "Processing testing dataset....\n",
            "Gathering wav files....\n",
            "Error accessing directory: [Errno 5] Input/output error: '/content/drive/MyDrive/Datasets/Music/Additional_Music/splits_v2/test-2s-44100'\n",
            "Error accessing directory: [Errno 5] Input/output error: '/content/drive/MyDrive/Datasets/Music/Additional_Music/splits_v2/test-2s-44100'\n",
            "Files processed:  76612\n",
            "Gathering noise files....\n",
            "Files processed:  2956\n",
            "Checkpoint file path: /content/drive/MyDrive/Datasets/Music-Noise/SNRdB_all-noise_features_2/SNRdB_-10-20/test-SNRdB_-10-20-checkpoint.txt\n",
            "Error reading file: [Errno 2] No such file or directory: '/content/drive/MyDrive/Datasets/Music-Noise/SNRdB_all-noise_features_2/SNRdB_-10-20/test-SNRdB_-10-20-checkpoint.txt'\n",
            "Resuming from batch index: 0\n"
          ]
        },
        {
          "output_type": "stream",
          "name": "stderr",
          "text": [
            "\rProcessing batches:   0%|          | 0/384 [00:00<?, ?batch/s]"
          ]
        },
        {
          "output_type": "stream",
          "name": "stdout",
          "text": [
            "Creating HDF5 file....\n"
          ]
        },
        {
          "output_type": "stream",
          "name": "stderr",
          "text": [
            "\rProcessing batches:   0%|          | 1/384 [04:23<28:03:02, 263.66s/batch]"
          ]
        },
        {
          "output_type": "stream",
          "name": "stdout",
          "text": [
            "Current file size: 0.6943744421005249\n",
            "Done /content/drive/MyDrive/Datasets/Music-Noise/SNRdB_all-noise_features_2/SNRdB_-10-20/test/test-SNRdB_-10-20_20250319_125917.h5\n",
            "Free disk space: 153.05 GB\n",
            "Creating HDF5 file....\n",
            "Current file size: 0.6943744421005249\n",
            "Done /content/drive/MyDrive/Datasets/Music-Noise/SNRdB_all-noise_features_2/SNRdB_-10-20/test/test-SNRdB_-10-20_20250319_130328.h5\n"
          ]
        },
        {
          "output_type": "stream",
          "name": "stderr",
          "text": [
            "\rProcessing batches:   1%|          | 2/384 [08:47<28:00:10, 263.90s/batch]"
          ]
        },
        {
          "output_type": "stream",
          "name": "stdout",
          "text": [
            "Free disk space: 153.05 GB\n",
            "Creating HDF5 file....\n",
            "Current file size: 0.6943744421005249\n",
            "Done /content/drive/MyDrive/Datasets/Music-Noise/SNRdB_all-noise_features_2/SNRdB_-10-20/test/test-SNRdB_-10-20_20250319_130751.h5\n"
          ]
        },
        {
          "output_type": "stream",
          "name": "stderr",
          "text": [
            "\rProcessing batches:   1%|          | 3/384 [12:53<27:02:24, 255.50s/batch]"
          ]
        },
        {
          "output_type": "stream",
          "name": "stdout",
          "text": [
            "Free disk space: 153.06 GB\n",
            "Creating HDF5 file....\n",
            "Current file size: 0.6943744421005249\n",
            "Done /content/drive/MyDrive/Datasets/Music-Noise/SNRdB_all-noise_features_2/SNRdB_-10-20/test/test-SNRdB_-10-20_20250319_131159.h5\n"
          ]
        },
        {
          "output_type": "stream",
          "name": "stderr",
          "text": [
            "\rProcessing batches:   1%|          | 4/384 [17:20<27:27:08, 260.07s/batch]"
          ]
        },
        {
          "output_type": "stream",
          "name": "stdout",
          "text": [
            "Free disk space: 152.99 GB\n",
            "Creating HDF5 file....\n",
            "Current file size: 0.6943744421005249\n",
            "Done /content/drive/MyDrive/Datasets/Music-Noise/SNRdB_all-noise_features_2/SNRdB_-10-20/test/test-SNRdB_-10-20_20250319_131625.h5\n"
          ]
        },
        {
          "output_type": "stream",
          "name": "stderr",
          "text": [
            "\rProcessing batches:   1%|▏         | 5/384 [21:29<26:57:03, 256.00s/batch]"
          ]
        },
        {
          "output_type": "stream",
          "name": "stdout",
          "text": [
            "Free disk space: 152.95 GB\n",
            "Creating HDF5 file....\n"
          ]
        },
        {
          "output_type": "stream",
          "name": "stderr",
          "text": [
            "\rProcessing batches:   2%|▏         | 6/384 [26:21<28:11:40, 268.52s/batch]"
          ]
        },
        {
          "output_type": "stream",
          "name": "stdout",
          "text": [
            "Current file size: 0.6943744421005249\n",
            "Done /content/drive/MyDrive/Datasets/Music-Noise/SNRdB_all-noise_features_2/SNRdB_-10-20/test/test-SNRdB_-10-20_20250319_132120.h5\n",
            "Free disk space: 152.65 GB\n",
            "Creating HDF5 file....\n"
          ]
        },
        {
          "output_type": "stream",
          "name": "stderr",
          "text": [
            "\rProcessing batches:   2%|▏         | 7/384 [28:09<22:37:18, 216.02s/batch]"
          ]
        },
        {
          "output_type": "stream",
          "name": "stdout",
          "text": [
            "Current file size: 0.6943744421005249\n",
            "Done /content/drive/MyDrive/Datasets/Music-Noise/SNRdB_all-noise_features_2/SNRdB_-10-20/test/test-SNRdB_-10-20_20250319_132313.h5\n",
            "Free disk space: 152.64 GB\n",
            "Creating HDF5 file....\n"
          ]
        },
        {
          "output_type": "stream",
          "name": "stderr",
          "text": [
            "\rProcessing batches:   2%|▏         | 8/384 [29:57<18:58:09, 181.62s/batch]"
          ]
        },
        {
          "output_type": "stream",
          "name": "stdout",
          "text": [
            "Current file size: 0.6943744421005249\n",
            "Done /content/drive/MyDrive/Datasets/Music-Noise/SNRdB_all-noise_features_2/SNRdB_-10-20/test/test-SNRdB_-10-20_20250319_132458.h5\n",
            "Free disk space: 152.70 GB\n",
            "Creating HDF5 file....\n"
          ]
        },
        {
          "output_type": "stream",
          "name": "stderr",
          "text": [
            "\rProcessing batches:   2%|▏         | 9/384 [31:46<16:33:18, 158.93s/batch]"
          ]
        },
        {
          "output_type": "stream",
          "name": "stdout",
          "text": [
            "Current file size: 0.6943744421005249\n",
            "Done /content/drive/MyDrive/Datasets/Music-Noise/SNRdB_all-noise_features_2/SNRdB_-10-20/test/test-SNRdB_-10-20_20250319_132651.h5\n",
            "Free disk space: 152.73 GB\n",
            "Creating HDF5 file....\n"
          ]
        },
        {
          "output_type": "stream",
          "name": "stderr",
          "text": [
            "\rProcessing batches:   3%|▎         | 10/384 [33:41<15:04:51, 145.16s/batch]"
          ]
        },
        {
          "output_type": "stream",
          "name": "stdout",
          "text": [
            "Current file size: 0.6943744421005249\n",
            "Done /content/drive/MyDrive/Datasets/Music-Noise/SNRdB_all-noise_features_2/SNRdB_-10-20/test/test-SNRdB_-10-20_20250319_132837.h5\n",
            "Free disk space: 152.75 GB\n",
            "Creating HDF5 file....\n"
          ]
        },
        {
          "output_type": "stream",
          "name": "stderr",
          "text": [
            "\rProcessing batches:   3%|▎         | 11/384 [35:24<13:42:54, 132.37s/batch]"
          ]
        },
        {
          "output_type": "stream",
          "name": "stdout",
          "text": [
            "Current file size: 0.6943744421005249\n",
            "Done /content/drive/MyDrive/Datasets/Music-Noise/SNRdB_all-noise_features_2/SNRdB_-10-20/test/test-SNRdB_-10-20_20250319_133029.h5\n",
            "Free disk space: 152.72 GB\n",
            "Creating HDF5 file....\n"
          ]
        },
        {
          "output_type": "stream",
          "name": "stderr",
          "text": [
            "\rProcessing batches:   3%|▎         | 12/384 [37:10<12:50:18, 124.24s/batch]"
          ]
        },
        {
          "output_type": "stream",
          "name": "stdout",
          "text": [
            "Current file size: 0.6943744421005249\n",
            "Done /content/drive/MyDrive/Datasets/Music-Noise/SNRdB_all-noise_features_2/SNRdB_-10-20/test/test-SNRdB_-10-20_20250319_133213.h5\n",
            "Free disk space: 152.69 GB\n",
            "Creating HDF5 file....\n"
          ]
        },
        {
          "output_type": "stream",
          "name": "stderr",
          "text": [
            "\rProcessing batches:   3%|▎         | 13/384 [39:04<12:29:12, 121.17s/batch]"
          ]
        },
        {
          "output_type": "stream",
          "name": "stdout",
          "text": [
            "Current file size: 0.6943744421005249\n",
            "Done /content/drive/MyDrive/Datasets/Music-Noise/SNRdB_all-noise_features_2/SNRdB_-10-20/test/test-SNRdB_-10-20_20250319_133409.h5\n",
            "Free disk space: 152.72 GB\n",
            "Creating HDF5 file....\n"
          ]
        },
        {
          "output_type": "stream",
          "name": "stderr",
          "text": [
            "\rProcessing batches:   4%|▎         | 14/384 [40:52<12:02:53, 117.23s/batch]"
          ]
        },
        {
          "output_type": "stream",
          "name": "stdout",
          "text": [
            "Current file size: 0.6943744421005249\n",
            "Done /content/drive/MyDrive/Datasets/Music-Noise/SNRdB_all-noise_features_2/SNRdB_-10-20/test/test-SNRdB_-10-20_20250319_133552.h5\n",
            "Free disk space: 152.73 GB\n",
            "Creating HDF5 file....\n",
            "Current file size: 0.6943744421005249\n",
            "Done /content/drive/MyDrive/Datasets/Music-Noise/SNRdB_all-noise_features_2/SNRdB_-10-20/test/test-SNRdB_-10-20_20250319_133738.h5\n"
          ]
        },
        {
          "output_type": "stream",
          "name": "stderr",
          "text": [
            "\rProcessing batches:   4%|▍         | 15/384 [42:36<11:36:47, 113.30s/batch]"
          ]
        },
        {
          "output_type": "stream",
          "name": "stdout",
          "text": [
            "Free disk space: 152.72 GB\n",
            "Creating HDF5 file....\n"
          ]
        },
        {
          "output_type": "stream",
          "name": "stderr",
          "text": [
            "\rProcessing batches:   4%|▍         | 16/384 [44:18<11:13:02, 109.73s/batch]"
          ]
        },
        {
          "output_type": "stream",
          "name": "stdout",
          "text": [
            "Current file size: 0.6943744421005249\n",
            "Done /content/drive/MyDrive/Datasets/Music-Noise/SNRdB_all-noise_features_2/SNRdB_-10-20/test/test-SNRdB_-10-20_20250319_133922.h5\n",
            "Free disk space: 152.73 GB\n",
            "Creating HDF5 file....\n"
          ]
        },
        {
          "output_type": "stream",
          "name": "stderr",
          "text": [
            "\rProcessing batches:   4%|▍         | 17/384 [46:05<11:06:56, 109.04s/batch]"
          ]
        },
        {
          "output_type": "stream",
          "name": "stdout",
          "text": [
            "Current file size: 0.6943744421005249\n",
            "Done /content/drive/MyDrive/Datasets/Music-Noise/SNRdB_all-noise_features_2/SNRdB_-10-20/test/test-SNRdB_-10-20_20250319_134107.h5\n",
            "Free disk space: 152.73 GB\n",
            "Creating HDF5 file....\n"
          ]
        },
        {
          "output_type": "stream",
          "name": "stderr",
          "text": [
            "\rProcessing batches:   5%|▍         | 18/384 [47:49<10:56:46, 107.67s/batch]"
          ]
        },
        {
          "output_type": "stream",
          "name": "stdout",
          "text": [
            "Current file size: 0.6943744421005249\n",
            "Done /content/drive/MyDrive/Datasets/Music-Noise/SNRdB_all-noise_features_2/SNRdB_-10-20/test/test-SNRdB_-10-20_20250319_134251.h5\n",
            "Free disk space: 152.76 GB\n",
            "Creating HDF5 file....\n"
          ]
        },
        {
          "output_type": "stream",
          "name": "stderr",
          "text": [
            "\rProcessing batches:   5%|▍         | 19/384 [49:41<11:01:55, 108.81s/batch]"
          ]
        },
        {
          "output_type": "stream",
          "name": "stdout",
          "text": [
            "Current file size: 0.6943744421005249\n",
            "Done /content/drive/MyDrive/Datasets/Music-Noise/SNRdB_all-noise_features_2/SNRdB_-10-20/test/test-SNRdB_-10-20_20250319_134442.h5\n",
            "Free disk space: 152.74 GB\n",
            "Creating HDF5 file....\n"
          ]
        },
        {
          "output_type": "stream",
          "name": "stderr",
          "text": [
            "\rProcessing batches:   5%|▌         | 20/384 [51:18<10:39:20, 105.39s/batch]"
          ]
        },
        {
          "output_type": "stream",
          "name": "stdout",
          "text": [
            "Current file size: 0.6943744421005249\n",
            "Done /content/drive/MyDrive/Datasets/Music-Noise/SNRdB_all-noise_features_2/SNRdB_-10-20/test/test-SNRdB_-10-20_20250319_134626.h5\n",
            "Free disk space: 152.80 GB\n",
            "Creating HDF5 file....\n"
          ]
        },
        {
          "output_type": "stream",
          "name": "stderr",
          "text": [
            "\rProcessing batches:   5%|▌         | 21/384 [53:11<10:50:04, 107.45s/batch]"
          ]
        },
        {
          "output_type": "stream",
          "name": "stdout",
          "text": [
            "Current file size: 0.6943744421005249\n",
            "Done /content/drive/MyDrive/Datasets/Music-Noise/SNRdB_all-noise_features_2/SNRdB_-10-20/test/test-SNRdB_-10-20_20250319_134812.h5\n",
            "Free disk space: 152.85 GB\n",
            "Creating HDF5 file....\n"
          ]
        },
        {
          "output_type": "stream",
          "name": "stderr",
          "text": [
            "\rProcessing batches:   6%|▌         | 22/384 [54:49<10:31:45, 104.71s/batch]"
          ]
        },
        {
          "output_type": "stream",
          "name": "stdout",
          "text": [
            "Current file size: 0.6943744421005249\n",
            "Done /content/drive/MyDrive/Datasets/Music-Noise/SNRdB_all-noise_features_2/SNRdB_-10-20/test/test-SNRdB_-10-20_20250319_134956.h5\n",
            "Free disk space: 152.87 GB\n",
            "Creating HDF5 file....\n"
          ]
        },
        {
          "output_type": "stream",
          "name": "stderr",
          "text": [
            "\rProcessing batches:   6%|▌         | 23/384 [56:29<10:22:05, 103.39s/batch]"
          ]
        },
        {
          "output_type": "stream",
          "name": "stdout",
          "text": [
            "Current file size: 0.6943744421005249\n",
            "Done /content/drive/MyDrive/Datasets/Music-Noise/SNRdB_all-noise_features_2/SNRdB_-10-20/test/test-SNRdB_-10-20_20250319_135133.h5\n",
            "Free disk space: 152.85 GB\n",
            "Creating HDF5 file....\n"
          ]
        },
        {
          "output_type": "stream",
          "name": "stderr",
          "text": [
            "\rProcessing batches:   6%|▋         | 24/384 [58:08<10:12:00, 102.00s/batch]"
          ]
        },
        {
          "output_type": "stream",
          "name": "stdout",
          "text": [
            "Current file size: 0.6943744421005249\n",
            "Done /content/drive/MyDrive/Datasets/Music-Noise/SNRdB_all-noise_features_2/SNRdB_-10-20/test/test-SNRdB_-10-20_20250319_135316.h5\n",
            "Free disk space: 152.86 GB\n",
            "Creating HDF5 file....\n",
            "Current file size: 0.6943744421005249\n",
            "Done /content/drive/MyDrive/Datasets/Music-Noise/SNRdB_all-noise_features_2/SNRdB_-10-20/test/test-SNRdB_-10-20_20250319_135454.h5\n"
          ]
        },
        {
          "output_type": "stream",
          "name": "stderr",
          "text": [
            "\rProcessing batches:   7%|▋         | 25/384 [59:50<10:10:18, 102.00s/batch]"
          ]
        },
        {
          "output_type": "stream",
          "name": "stdout",
          "text": [
            "Free disk space: 152.83 GB\n",
            "Creating HDF5 file....\n"
          ]
        },
        {
          "output_type": "stream",
          "name": "stderr",
          "text": [
            "\rProcessing batches:   7%|▋         | 26/384 [1:01:38<10:18:34, 103.67s/batch]"
          ]
        },
        {
          "output_type": "stream",
          "name": "stdout",
          "text": [
            "Current file size: 0.6943744421005249\n",
            "Done /content/drive/MyDrive/Datasets/Music-Noise/SNRdB_all-noise_features_2/SNRdB_-10-20/test/test-SNRdB_-10-20_20250319_135637.h5\n",
            "Free disk space: 152.85 GB\n",
            "Creating HDF5 file....\n"
          ]
        },
        {
          "output_type": "stream",
          "name": "stderr",
          "text": [
            "\rProcessing batches:   7%|▋         | 27/384 [1:03:41<10:51:52, 109.56s/batch]"
          ]
        },
        {
          "output_type": "stream",
          "name": "stdout",
          "text": [
            "Current file size: 0.6943744421005249\n",
            "Done /content/drive/MyDrive/Datasets/Music-Noise/SNRdB_all-noise_features_2/SNRdB_-10-20/test/test-SNRdB_-10-20_20250319_135841.h5\n",
            "Free disk space: 152.90 GB\n",
            "Creating HDF5 file....\n"
          ]
        },
        {
          "output_type": "stream",
          "name": "stderr",
          "text": [
            "\rProcessing batches:   7%|▋         | 28/384 [1:05:26<10:41:28, 108.11s/batch]"
          ]
        },
        {
          "output_type": "stream",
          "name": "stdout",
          "text": [
            "Current file size: 0.6943744421005249\n",
            "Done /content/drive/MyDrive/Datasets/Music-Noise/SNRdB_all-noise_features_2/SNRdB_-10-20/test/test-SNRdB_-10-20_20250319_140028.h5\n",
            "Free disk space: 152.89 GB\n",
            "Creating HDF5 file....\n"
          ]
        },
        {
          "output_type": "stream",
          "name": "stderr",
          "text": [
            "\rProcessing batches:   8%|▊         | 29/384 [1:07:10<10:33:47, 107.12s/batch]"
          ]
        },
        {
          "output_type": "stream",
          "name": "stdout",
          "text": [
            "Current file size: 0.6943744421005249\n",
            "Done /content/drive/MyDrive/Datasets/Music-Noise/SNRdB_all-noise_features_2/SNRdB_-10-20/test/test-SNRdB_-10-20_20250319_140214.h5\n",
            "Free disk space: 152.91 GB\n",
            "Creating HDF5 file....\n"
          ]
        },
        {
          "output_type": "stream",
          "name": "stderr",
          "text": [
            "\rProcessing batches:   8%|▊         | 30/384 [1:08:56<10:29:25, 106.68s/batch]"
          ]
        },
        {
          "output_type": "stream",
          "name": "stdout",
          "text": [
            "Current file size: 0.6943744421005249\n",
            "Done /content/drive/MyDrive/Datasets/Music-Noise/SNRdB_all-noise_features_2/SNRdB_-10-20/test/test-SNRdB_-10-20_20250319_140400.h5\n",
            "Free disk space: 152.92 GB\n",
            "Creating HDF5 file....\n"
          ]
        },
        {
          "output_type": "stream",
          "name": "stderr",
          "text": [
            "\rProcessing batches:   8%|▊         | 31/384 [1:10:43<10:27:40, 106.69s/batch]"
          ]
        },
        {
          "output_type": "stream",
          "name": "stdout",
          "text": [
            "Current file size: 0.6943744421005249\n",
            "Done /content/drive/MyDrive/Datasets/Music-Noise/SNRdB_all-noise_features_2/SNRdB_-10-20/test/test-SNRdB_-10-20_20250319_140547.h5\n",
            "Free disk space: 152.93 GB\n",
            "Creating HDF5 file....\n"
          ]
        },
        {
          "output_type": "stream",
          "name": "stderr",
          "text": [
            "\rProcessing batches:   8%|▊         | 32/384 [1:12:32<10:30:09, 107.41s/batch]"
          ]
        },
        {
          "output_type": "stream",
          "name": "stdout",
          "text": [
            "Current file size: 0.6943744421005249\n",
            "Done /content/drive/MyDrive/Datasets/Music-Noise/SNRdB_all-noise_features_2/SNRdB_-10-20/test/test-SNRdB_-10-20_20250319_140733.h5\n",
            "Free disk space: 153.04 GB\n",
            "Creating HDF5 file....\n"
          ]
        },
        {
          "output_type": "stream",
          "name": "stderr",
          "text": [
            "\rProcessing batches:   9%|▊         | 33/384 [1:14:20<10:30:26, 107.77s/batch]"
          ]
        },
        {
          "output_type": "stream",
          "name": "stdout",
          "text": [
            "Current file size: 0.6943744421005249\n",
            "Done /content/drive/MyDrive/Datasets/Music-Noise/SNRdB_all-noise_features_2/SNRdB_-10-20/test/test-SNRdB_-10-20_20250319_140919.h5\n",
            "Free disk space: 153.07 GB\n",
            "Creating HDF5 file....\n"
          ]
        },
        {
          "output_type": "stream",
          "name": "stderr",
          "text": [
            "\rProcessing batches:   9%|▉         | 34/384 [1:15:57<10:09:40, 104.52s/batch]"
          ]
        },
        {
          "output_type": "stream",
          "name": "stdout",
          "text": [
            "Current file size: 0.6943744421005249\n",
            "Done /content/drive/MyDrive/Datasets/Music-Noise/SNRdB_all-noise_features_2/SNRdB_-10-20/test/test-SNRdB_-10-20_20250319_141108.h5\n",
            "Free disk space: 153.04 GB\n",
            "Creating HDF5 file....\n"
          ]
        },
        {
          "output_type": "stream",
          "name": "stderr",
          "text": [
            "\rProcessing batches:   9%|▉         | 35/384 [1:17:39<10:02:37, 103.60s/batch]"
          ]
        },
        {
          "output_type": "stream",
          "name": "stdout",
          "text": [
            "Current file size: 0.6943744421005249\n",
            "Done /content/drive/MyDrive/Datasets/Music-Noise/SNRdB_all-noise_features_2/SNRdB_-10-20/test/test-SNRdB_-10-20_20250319_141244.h5\n",
            "Free disk space: 153.04 GB\n",
            "Creating HDF5 file....\n"
          ]
        },
        {
          "output_type": "stream",
          "name": "stderr",
          "text": [
            "\rProcessing batches:   9%|▉         | 36/384 [1:19:25<10:04:35, 104.24s/batch]"
          ]
        },
        {
          "output_type": "stream",
          "name": "stdout",
          "text": [
            "Current file size: 0.6943744421005249\n",
            "Done /content/drive/MyDrive/Datasets/Music-Noise/SNRdB_all-noise_features_2/SNRdB_-10-20/test/test-SNRdB_-10-20_20250319_141426.h5\n",
            "Free disk space: 153.04 GB\n",
            "Creating HDF5 file....\n"
          ]
        },
        {
          "output_type": "stream",
          "name": "stderr",
          "text": [
            "\rProcessing batches:  10%|▉         | 37/384 [1:21:12<10:07:50, 105.10s/batch]"
          ]
        },
        {
          "output_type": "stream",
          "name": "stdout",
          "text": [
            "Current file size: 0.6943744421005249\n",
            "Done /content/drive/MyDrive/Datasets/Music-Noise/SNRdB_all-noise_features_2/SNRdB_-10-20/test/test-SNRdB_-10-20_20250319_141617.h5\n",
            "Free disk space: 153.08 GB\n",
            "Creating HDF5 file....\n"
          ]
        },
        {
          "output_type": "stream",
          "name": "stderr",
          "text": [
            "\rProcessing batches:  10%|▉         | 38/384 [1:23:06<10:21:27, 107.77s/batch]"
          ]
        },
        {
          "output_type": "stream",
          "name": "stdout",
          "text": [
            "Current file size: 0.6943744421005249\n",
            "Done /content/drive/MyDrive/Datasets/Music-Noise/SNRdB_all-noise_features_2/SNRdB_-10-20/test/test-SNRdB_-10-20_20250319_141808.h5\n",
            "Free disk space: 153.10 GB\n",
            "Creating HDF5 file....\n"
          ]
        },
        {
          "output_type": "stream",
          "name": "stderr",
          "text": [
            "\rProcessing batches:  10%|█         | 39/384 [1:25:00<10:31:03, 109.75s/batch]"
          ]
        },
        {
          "output_type": "stream",
          "name": "stdout",
          "text": [
            "Current file size: 0.6943744421005249\n",
            "Done /content/drive/MyDrive/Datasets/Music-Noise/SNRdB_all-noise_features_2/SNRdB_-10-20/test/test-SNRdB_-10-20_20250319_141959.h5\n",
            "Free disk space: 153.16 GB\n",
            "Creating HDF5 file....\n"
          ]
        },
        {
          "output_type": "stream",
          "name": "stderr",
          "text": [
            "\rProcessing batches:  10%|█         | 40/384 [1:26:46<10:23:26, 108.74s/batch]"
          ]
        },
        {
          "output_type": "stream",
          "name": "stdout",
          "text": [
            "Current file size: 0.6943744421005249\n",
            "Done /content/drive/MyDrive/Datasets/Music-Noise/SNRdB_all-noise_features_2/SNRdB_-10-20/test/test-SNRdB_-10-20_20250319_142146.h5\n",
            "Free disk space: 153.12 GB\n",
            "Creating HDF5 file....\n"
          ]
        },
        {
          "output_type": "stream",
          "name": "stderr",
          "text": [
            "\rProcessing batches:  11%|█         | 41/384 [1:28:29<10:11:49, 107.02s/batch]"
          ]
        },
        {
          "output_type": "stream",
          "name": "stdout",
          "text": [
            "Current file size: 0.6943744421005249\n",
            "Done /content/drive/MyDrive/Datasets/Music-Noise/SNRdB_all-noise_features_2/SNRdB_-10-20/test/test-SNRdB_-10-20_20250319_142336.h5\n",
            "Free disk space: 153.20 GB\n",
            "Creating HDF5 file....\n"
          ]
        },
        {
          "output_type": "stream",
          "name": "stderr",
          "text": [
            "\rProcessing batches:  11%|█         | 42/384 [1:30:14<10:05:39, 106.25s/batch]"
          ]
        },
        {
          "output_type": "stream",
          "name": "stdout",
          "text": [
            "Current file size: 0.6943744421005249\n",
            "Done /content/drive/MyDrive/Datasets/Music-Noise/SNRdB_all-noise_features_2/SNRdB_-10-20/test/test-SNRdB_-10-20_20250319_142520.h5\n",
            "Free disk space: 153.22 GB\n",
            "Creating HDF5 file....\n"
          ]
        },
        {
          "output_type": "stream",
          "name": "stderr",
          "text": [
            "\rProcessing batches:  11%|█         | 43/384 [1:32:04<10:10:22, 107.40s/batch]"
          ]
        },
        {
          "output_type": "stream",
          "name": "stdout",
          "text": [
            "Current file size: 0.6943744421005249\n",
            "Done /content/drive/MyDrive/Datasets/Music-Noise/SNRdB_all-noise_features_2/SNRdB_-10-20/test/test-SNRdB_-10-20_20250319_142705.h5\n",
            "Free disk space: 152.61 GB\n",
            "Creating HDF5 file....\n"
          ]
        },
        {
          "output_type": "stream",
          "name": "stderr",
          "text": [
            "\rProcessing batches:  11%|█▏        | 44/384 [1:33:52<10:10:24, 107.72s/batch]"
          ]
        },
        {
          "output_type": "stream",
          "name": "stdout",
          "text": [
            "Current file size: 0.6943744421005249\n",
            "Done /content/drive/MyDrive/Datasets/Music-Noise/SNRdB_all-noise_features_2/SNRdB_-10-20/test/test-SNRdB_-10-20_20250319_142859.h5\n",
            "Free disk space: 152.61 GB\n",
            "Creating HDF5 file....\n"
          ]
        },
        {
          "output_type": "stream",
          "name": "stderr",
          "text": [
            "\rProcessing batches:  12%|█▏        | 45/384 [1:35:31<9:52:21, 104.84s/batch] "
          ]
        },
        {
          "output_type": "stream",
          "name": "stdout",
          "text": [
            "Current file size: 0.6943744421005249\n",
            "Done /content/drive/MyDrive/Datasets/Music-Noise/SNRdB_all-noise_features_2/SNRdB_-10-20/test/test-SNRdB_-10-20_20250319_143037.h5\n",
            "Free disk space: 153.29 GB\n",
            "Creating HDF5 file....\n"
          ]
        },
        {
          "output_type": "stream",
          "name": "stderr",
          "text": [
            "\rProcessing batches:  12%|█▏        | 46/384 [1:37:18<9:54:49, 105.59s/batch]"
          ]
        },
        {
          "output_type": "stream",
          "name": "stdout",
          "text": [
            "Current file size: 0.6943744421005249\n",
            "Done /content/drive/MyDrive/Datasets/Music-Noise/SNRdB_all-noise_features_2/SNRdB_-10-20/test/test-SNRdB_-10-20_20250319_143219.h5\n",
            "Free disk space: 152.60 GB\n",
            "Creating HDF5 file....\n"
          ]
        },
        {
          "output_type": "stream",
          "name": "stderr",
          "text": [
            "\rProcessing batches:  12%|█▏        | 47/384 [1:39:04<9:53:11, 105.61s/batch]"
          ]
        },
        {
          "output_type": "stream",
          "name": "stdout",
          "text": [
            "Current file size: 0.6943744421005249\n",
            "Done /content/drive/MyDrive/Datasets/Music-Noise/SNRdB_all-noise_features_2/SNRdB_-10-20/test/test-SNRdB_-10-20_20250319_143407.h5\n",
            "Free disk space: 152.60 GB\n",
            "Creating HDF5 file....\n"
          ]
        },
        {
          "output_type": "stream",
          "name": "stderr",
          "text": [
            "\rProcessing batches:  12%|█▎        | 48/384 [1:40:55<10:00:30, 107.23s/batch]"
          ]
        },
        {
          "output_type": "stream",
          "name": "stdout",
          "text": [
            "Current file size: 0.6943744421005249\n",
            "Done /content/drive/MyDrive/Datasets/Music-Noise/SNRdB_all-noise_features_2/SNRdB_-10-20/test/test-SNRdB_-10-20_20250319_143550.h5\n",
            "Free disk space: 152.74 GB\n",
            "Creating HDF5 file....\n"
          ]
        },
        {
          "output_type": "stream",
          "name": "stderr",
          "text": [
            "\rProcessing batches:  13%|█▎        | 49/384 [1:42:37<9:51:09, 105.88s/batch] "
          ]
        },
        {
          "output_type": "stream",
          "name": "stdout",
          "text": [
            "Current file size: 0.6943744421005249\n",
            "Done /content/drive/MyDrive/Datasets/Music-Noise/SNRdB_all-noise_features_2/SNRdB_-10-20/test/test-SNRdB_-10-20_20250319_143745.h5\n",
            "Free disk space: 152.74 GB\n",
            "Creating HDF5 file....\n"
          ]
        },
        {
          "output_type": "stream",
          "name": "stderr",
          "text": [
            "\rProcessing batches:  13%|█▎        | 50/384 [1:44:50<10:33:24, 113.79s/batch]"
          ]
        },
        {
          "output_type": "stream",
          "name": "stdout",
          "text": [
            "Current file size: 0.6943744421005249\n",
            "Done /content/drive/MyDrive/Datasets/Music-Noise/SNRdB_all-noise_features_2/SNRdB_-10-20/test/test-SNRdB_-10-20_20250319_143926.h5\n",
            "Free disk space: 152.74 GB\n",
            "Creating HDF5 file....\n"
          ]
        },
        {
          "output_type": "stream",
          "name": "stderr",
          "text": [
            "\rProcessing batches:  13%|█▎        | 51/384 [1:46:38<10:22:19, 112.13s/batch]"
          ]
        },
        {
          "output_type": "stream",
          "name": "stdout",
          "text": [
            "Current file size: 0.6943744421005249\n",
            "Done /content/drive/MyDrive/Datasets/Music-Noise/SNRdB_all-noise_features_2/SNRdB_-10-20/test/test-SNRdB_-10-20_20250319_144137.h5\n",
            "Free disk space: 152.72 GB\n",
            "Creating HDF5 file....\n"
          ]
        },
        {
          "output_type": "stream",
          "name": "stderr",
          "text": [
            "\rProcessing batches:  14%|█▎        | 52/384 [1:48:19<10:02:36, 108.90s/batch]"
          ]
        },
        {
          "output_type": "stream",
          "name": "stdout",
          "text": [
            "Current file size: 0.6943744421005249\n",
            "Done /content/drive/MyDrive/Datasets/Music-Noise/SNRdB_all-noise_features_2/SNRdB_-10-20/test/test-SNRdB_-10-20_20250319_144324.h5\n",
            "Free disk space: 152.70 GB\n",
            "Creating HDF5 file....\n"
          ]
        },
        {
          "output_type": "stream",
          "name": "stderr",
          "text": [
            "\rProcessing batches:  14%|█▍        | 53/384 [1:50:02<9:51:14, 107.17s/batch] "
          ]
        },
        {
          "output_type": "stream",
          "name": "stdout",
          "text": [
            "Current file size: 0.6943744421005249\n",
            "Done /content/drive/MyDrive/Datasets/Music-Noise/SNRdB_all-noise_features_2/SNRdB_-10-20/test/test-SNRdB_-10-20_20250319_144509.h5\n",
            "Free disk space: 152.74 GB\n",
            "Creating HDF5 file....\n",
            "Current file size: 0.6943744421005249\n",
            "Done /content/drive/MyDrive/Datasets/Music-Noise/SNRdB_all-noise_features_2/SNRdB_-10-20/test/test-SNRdB_-10-20_20250319_144650.h5\n"
          ]
        },
        {
          "output_type": "stream",
          "name": "stderr",
          "text": [
            "\rProcessing batches:  14%|█▍        | 54/384 [1:51:52<9:53:20, 107.88s/batch]"
          ]
        },
        {
          "output_type": "stream",
          "name": "stdout",
          "text": [
            "Free disk space: 152.71 GB\n",
            "Creating HDF5 file....\n"
          ]
        },
        {
          "output_type": "stream",
          "name": "stderr",
          "text": [
            "\rProcessing batches:  14%|█▍        | 55/384 [1:53:46<10:01:14, 109.65s/batch]"
          ]
        },
        {
          "output_type": "stream",
          "name": "stdout",
          "text": [
            "Current file size: 0.6943744421005249\n",
            "Done /content/drive/MyDrive/Datasets/Music-Noise/SNRdB_all-noise_features_2/SNRdB_-10-20/test/test-SNRdB_-10-20_20250319_144843.h5\n",
            "Free disk space: 152.69 GB\n",
            "Creating HDF5 file....\n",
            "Current file size: 0.6943744421005249\n",
            "Done /content/drive/MyDrive/Datasets/Music-Noise/SNRdB_all-noise_features_2/SNRdB_-10-20/test/test-SNRdB_-10-20_20250319_145032.h5\n"
          ]
        },
        {
          "output_type": "stream",
          "name": "stderr",
          "text": [
            "\rProcessing batches:  15%|█▍        | 56/384 [1:55:26<9:44:38, 106.95s/batch] "
          ]
        },
        {
          "output_type": "stream",
          "name": "stdout",
          "text": [
            "Free disk space: 152.67 GB\n",
            "Creating HDF5 file....\n"
          ]
        },
        {
          "output_type": "stream",
          "name": "stderr",
          "text": [
            "\rProcessing batches:  15%|█▍        | 57/384 [1:57:05<9:29:31, 104.50s/batch]"
          ]
        },
        {
          "output_type": "stream",
          "name": "stdout",
          "text": [
            "Current file size: 0.6943744421005249\n",
            "Done /content/drive/MyDrive/Datasets/Music-Noise/SNRdB_all-noise_features_2/SNRdB_-10-20/test/test-SNRdB_-10-20_20250319_145212.h5\n",
            "Free disk space: 152.63 GB\n",
            "Creating HDF5 file....\n"
          ]
        },
        {
          "output_type": "stream",
          "name": "stderr",
          "text": [
            "\rProcessing batches:  15%|█▌        | 58/384 [1:58:49<9:27:11, 104.39s/batch]"
          ]
        },
        {
          "output_type": "stream",
          "name": "stdout",
          "text": [
            "Current file size: 0.6943744421005249\n",
            "Done /content/drive/MyDrive/Datasets/Music-Noise/SNRdB_all-noise_features_2/SNRdB_-10-20/test/test-SNRdB_-10-20_20250319_145352.h5\n",
            "Free disk space: 152.69 GB\n",
            "Creating HDF5 file....\n"
          ]
        },
        {
          "output_type": "stream",
          "name": "stderr",
          "text": [
            "\rProcessing batches:  15%|█▌        | 59/384 [2:00:31<9:21:06, 103.59s/batch]"
          ]
        },
        {
          "output_type": "stream",
          "name": "stdout",
          "text": [
            "Current file size: 0.6943744421005249\n",
            "Done /content/drive/MyDrive/Datasets/Music-Noise/SNRdB_all-noise_features_2/SNRdB_-10-20/test/test-SNRdB_-10-20_20250319_145538.h5\n",
            "Free disk space: 152.73 GB\n",
            "Creating HDF5 file....\n",
            "Current file size: 0.6943744421005249\n",
            "Done /content/drive/MyDrive/Datasets/Music-Noise/SNRdB_all-noise_features_2/SNRdB_-10-20/test/test-SNRdB_-10-20_20250319_145723.h5\n"
          ]
        },
        {
          "output_type": "stream",
          "name": "stderr",
          "text": [
            "\rProcessing batches:  16%|█▌        | 60/384 [2:02:20<9:28:48, 105.33s/batch]"
          ]
        },
        {
          "output_type": "stream",
          "name": "stdout",
          "text": [
            "Free disk space: 152.71 GB\n",
            "Creating HDF5 file....\n"
          ]
        },
        {
          "output_type": "stream",
          "name": "stderr",
          "text": [
            "\rProcessing batches:  16%|█▌        | 61/384 [2:04:10<9:33:36, 106.55s/batch]"
          ]
        },
        {
          "output_type": "stream",
          "name": "stdout",
          "text": [
            "Current file size: 0.6943744421005249\n",
            "Done /content/drive/MyDrive/Datasets/Music-Noise/SNRdB_all-noise_features_2/SNRdB_-10-20/test/test-SNRdB_-10-20_20250319_145915.h5\n",
            "Free disk space: 152.69 GB\n",
            "Creating HDF5 file....\n"
          ]
        },
        {
          "output_type": "stream",
          "name": "stderr",
          "text": [
            "\rProcessing batches:  16%|█▌        | 62/384 [2:05:54<9:28:20, 105.90s/batch]"
          ]
        },
        {
          "output_type": "stream",
          "name": "stdout",
          "text": [
            "Current file size: 0.6943744421005249\n",
            "Done /content/drive/MyDrive/Datasets/Music-Noise/SNRdB_all-noise_features_2/SNRdB_-10-20/test/test-SNRdB_-10-20_20250319_150056.h5\n",
            "Free disk space: 152.69 GB\n",
            "Creating HDF5 file....\n"
          ]
        },
        {
          "output_type": "stream",
          "name": "stderr",
          "text": [
            "\rProcessing batches:  16%|█▋        | 63/384 [2:07:38<9:23:39, 105.36s/batch]"
          ]
        },
        {
          "output_type": "stream",
          "name": "stdout",
          "text": [
            "Current file size: 0.6943744421005249\n",
            "Done /content/drive/MyDrive/Datasets/Music-Noise/SNRdB_all-noise_features_2/SNRdB_-10-20/test/test-SNRdB_-10-20_20250319_150242.h5\n",
            "Free disk space: 152.67 GB\n",
            "Creating HDF5 file....\n",
            "Current file size: 0.6943744421005249\n",
            "Done /content/drive/MyDrive/Datasets/Music-Noise/SNRdB_all-noise_features_2/SNRdB_-10-20/test/test-SNRdB_-10-20_20250319_150430.h5\n"
          ]
        },
        {
          "output_type": "stream",
          "name": "stderr",
          "text": [
            "\rProcessing batches:  17%|█▋        | 64/384 [2:09:25<9:23:28, 105.65s/batch]"
          ]
        },
        {
          "output_type": "stream",
          "name": "stdout",
          "text": [
            "Free disk space: 152.71 GB\n",
            "Creating HDF5 file....\n"
          ]
        },
        {
          "output_type": "stream",
          "name": "stderr",
          "text": [
            "\rProcessing batches:  17%|█▋        | 65/384 [2:11:14<9:28:30, 106.93s/batch]"
          ]
        },
        {
          "output_type": "stream",
          "name": "stdout",
          "text": [
            "Current file size: 0.6943744421005249\n",
            "Done /content/drive/MyDrive/Datasets/Music-Noise/SNRdB_all-noise_features_2/SNRdB_-10-20/test/test-SNRdB_-10-20_20250319_150618.h5\n",
            "Free disk space: 152.72 GB\n",
            "Creating HDF5 file....\n"
          ]
        },
        {
          "output_type": "stream",
          "name": "stderr",
          "text": [
            "\rProcessing batches:  17%|█▋        | 66/384 [2:13:05<9:32:50, 108.08s/batch]"
          ]
        },
        {
          "output_type": "stream",
          "name": "stdout",
          "text": [
            "Current file size: 0.6943744421005249\n",
            "Done /content/drive/MyDrive/Datasets/Music-Noise/SNRdB_all-noise_features_2/SNRdB_-10-20/test/test-SNRdB_-10-20_20250319_150802.h5\n",
            "Free disk space: 152.73 GB\n",
            "Creating HDF5 file....\n",
            "Current file size: 0.6943744421005249\n",
            "Done /content/drive/MyDrive/Datasets/Music-Noise/SNRdB_all-noise_features_2/SNRdB_-10-20/test/test-SNRdB_-10-20_20250319_150951.h5\n"
          ]
        },
        {
          "output_type": "stream",
          "name": "stderr",
          "text": [
            "\rProcessing batches:  17%|█▋        | 67/384 [2:14:48<9:22:04, 106.39s/batch]"
          ]
        },
        {
          "output_type": "stream",
          "name": "stdout",
          "text": [
            "Free disk space: 152.78 GB\n",
            "Creating HDF5 file....\n"
          ]
        },
        {
          "output_type": "stream",
          "name": "stderr",
          "text": [
            "\rProcessing batches:  18%|█▊        | 68/384 [2:16:30<9:13:41, 105.13s/batch]"
          ]
        },
        {
          "output_type": "stream",
          "name": "stdout",
          "text": [
            "Current file size: 0.6943744421005249\n",
            "Done /content/drive/MyDrive/Datasets/Music-Noise/SNRdB_all-noise_features_2/SNRdB_-10-20/test/test-SNRdB_-10-20_20250319_151137.h5\n",
            "Free disk space: 152.81 GB\n",
            "Creating HDF5 file....\n"
          ]
        },
        {
          "output_type": "stream",
          "name": "stderr",
          "text": [
            "\rProcessing batches:  18%|█▊        | 69/384 [2:18:20<9:19:43, 106.61s/batch]"
          ]
        },
        {
          "output_type": "stream",
          "name": "stdout",
          "text": [
            "Current file size: 0.6943744421005249\n",
            "Done /content/drive/MyDrive/Datasets/Music-Noise/SNRdB_all-noise_features_2/SNRdB_-10-20/test/test-SNRdB_-10-20_20250319_151325.h5\n",
            "Free disk space: 152.79 GB\n",
            "Creating HDF5 file....\n"
          ]
        },
        {
          "output_type": "stream",
          "name": "stderr",
          "text": [
            "\rProcessing batches:  18%|█▊        | 70/384 [2:20:12<9:25:58, 108.15s/batch]"
          ]
        },
        {
          "output_type": "stream",
          "name": "stdout",
          "text": [
            "Current file size: 0.6943744421005249\n",
            "Done /content/drive/MyDrive/Datasets/Music-Noise/SNRdB_all-noise_features_2/SNRdB_-10-20/test/test-SNRdB_-10-20_20250319_151511.h5\n",
            "Free disk space: 152.81 GB\n",
            "Creating HDF5 file....\n"
          ]
        },
        {
          "output_type": "stream",
          "name": "stderr",
          "text": [
            "\rProcessing batches:  18%|█▊        | 71/384 [2:22:01<9:25:39, 108.43s/batch]"
          ]
        },
        {
          "output_type": "stream",
          "name": "stdout",
          "text": [
            "Current file size: 0.6943744421005249\n",
            "Done /content/drive/MyDrive/Datasets/Music-Noise/SNRdB_all-noise_features_2/SNRdB_-10-20/test/test-SNRdB_-10-20_20250319_151703.h5\n",
            "Free disk space: 152.79 GB\n",
            "Creating HDF5 file....\n"
          ]
        },
        {
          "output_type": "stream",
          "name": "stderr",
          "text": [
            "\rProcessing batches:  19%|█▉        | 72/384 [2:23:48<9:22:35, 108.19s/batch]"
          ]
        },
        {
          "output_type": "stream",
          "name": "stdout",
          "text": [
            "Current file size: 0.6943744421005249\n",
            "Done /content/drive/MyDrive/Datasets/Music-Noise/SNRdB_all-noise_features_2/SNRdB_-10-20/test/test-SNRdB_-10-20_20250319_151853.h5\n",
            "Free disk space: 152.78 GB\n",
            "Creating HDF5 file....\n"
          ]
        },
        {
          "output_type": "stream",
          "name": "stderr",
          "text": [
            "\rProcessing batches:  19%|█▉        | 73/384 [2:25:45<9:33:13, 110.59s/batch]"
          ]
        },
        {
          "output_type": "stream",
          "name": "stdout",
          "text": [
            "Current file size: 0.6943744421005249\n",
            "Done /content/drive/MyDrive/Datasets/Music-Noise/SNRdB_all-noise_features_2/SNRdB_-10-20/test/test-SNRdB_-10-20_20250319_152039.h5\n",
            "Free disk space: 152.74 GB\n",
            "Creating HDF5 file....\n"
          ]
        },
        {
          "output_type": "stream",
          "name": "stderr",
          "text": [
            "\rProcessing batches:  19%|█▉        | 74/384 [2:27:27<9:18:38, 108.12s/batch]"
          ]
        },
        {
          "output_type": "stream",
          "name": "stdout",
          "text": [
            "Current file size: 0.6943744421005249\n",
            "Done /content/drive/MyDrive/Datasets/Music-Noise/SNRdB_all-noise_features_2/SNRdB_-10-20/test/test-SNRdB_-10-20_20250319_152233.h5\n",
            "Free disk space: 152.74 GB\n",
            "Creating HDF5 file....\n"
          ]
        },
        {
          "output_type": "stream",
          "name": "stderr",
          "text": [
            "\rProcessing batches:  20%|█▉        | 75/384 [2:29:14<9:14:35, 107.69s/batch]"
          ]
        },
        {
          "output_type": "stream",
          "name": "stdout",
          "text": [
            "Current file size: 0.6943744421005249\n",
            "Done /content/drive/MyDrive/Datasets/Music-Noise/SNRdB_all-noise_features_2/SNRdB_-10-20/test/test-SNRdB_-10-20_20250319_152418.h5\n",
            "Free disk space: 152.75 GB\n",
            "Creating HDF5 file....\n"
          ]
        },
        {
          "output_type": "stream",
          "name": "stderr",
          "text": [
            "\rProcessing batches:  20%|█▉        | 76/384 [2:31:05<9:17:51, 108.67s/batch]"
          ]
        },
        {
          "output_type": "stream",
          "name": "stdout",
          "text": [
            "Current file size: 0.6943744421005249\n",
            "Done /content/drive/MyDrive/Datasets/Music-Noise/SNRdB_all-noise_features_2/SNRdB_-10-20/test/test-SNRdB_-10-20_20250319_152604.h5\n",
            "Free disk space: 152.74 GB\n",
            "Creating HDF5 file....\n"
          ]
        },
        {
          "output_type": "stream",
          "name": "stderr",
          "text": [
            "\rProcessing batches:  20%|██        | 77/384 [2:33:00<9:25:53, 110.60s/batch]"
          ]
        },
        {
          "output_type": "stream",
          "name": "stdout",
          "text": [
            "Current file size: 0.6943744421005249\n",
            "Done /content/drive/MyDrive/Datasets/Music-Noise/SNRdB_all-noise_features_2/SNRdB_-10-20/test/test-SNRdB_-10-20_20250319_152800.h5\n",
            "Free disk space: 152.73 GB\n",
            "Creating HDF5 file....\n"
          ]
        },
        {
          "output_type": "stream",
          "name": "stderr",
          "text": [
            "\rProcessing batches:  20%|██        | 78/384 [2:34:53<9:28:03, 111.39s/batch]"
          ]
        },
        {
          "output_type": "stream",
          "name": "stdout",
          "text": [
            "Current file size: 0.6943744421005249\n",
            "Done /content/drive/MyDrive/Datasets/Music-Noise/SNRdB_all-noise_features_2/SNRdB_-10-20/test/test-SNRdB_-10-20_20250319_153000.h5\n",
            "Free disk space: 152.70 GB\n",
            "Creating HDF5 file....\n"
          ]
        },
        {
          "output_type": "stream",
          "name": "stderr",
          "text": [
            "\rProcessing batches:  21%|██        | 79/384 [2:36:47<9:30:59, 112.33s/batch]"
          ]
        },
        {
          "output_type": "stream",
          "name": "stdout",
          "text": [
            "Current file size: 0.6943744421005249\n",
            "Done /content/drive/MyDrive/Datasets/Music-Noise/SNRdB_all-noise_features_2/SNRdB_-10-20/test/test-SNRdB_-10-20_20250319_153145.h5\n",
            "Free disk space: 152.68 GB\n",
            "Creating HDF5 file....\n"
          ]
        },
        {
          "output_type": "stream",
          "name": "stderr",
          "text": [
            "\rProcessing batches:  21%|██        | 80/384 [2:38:38<9:26:26, 111.80s/batch]"
          ]
        },
        {
          "output_type": "stream",
          "name": "stdout",
          "text": [
            "Current file size: 0.6943744421005249\n",
            "Done /content/drive/MyDrive/Datasets/Music-Noise/SNRdB_all-noise_features_2/SNRdB_-10-20/test/test-SNRdB_-10-20_20250319_153341.h5\n",
            "Free disk space: 152.68 GB\n",
            "Creating HDF5 file....\n"
          ]
        },
        {
          "output_type": "stream",
          "name": "stderr",
          "text": [
            "\rProcessing batches:  21%|██        | 81/384 [2:40:27<9:20:41, 111.03s/batch]"
          ]
        },
        {
          "output_type": "stream",
          "name": "stdout",
          "text": [
            "Current file size: 0.6943744421005249\n",
            "Done /content/drive/MyDrive/Datasets/Music-Noise/SNRdB_all-noise_features_2/SNRdB_-10-20/test/test-SNRdB_-10-20_20250319_153529.h5\n",
            "Free disk space: 152.68 GB\n",
            "Creating HDF5 file....\n"
          ]
        },
        {
          "output_type": "stream",
          "name": "stderr",
          "text": [
            "\rProcessing batches:  21%|██▏       | 82/384 [2:42:10<9:06:19, 108.54s/batch]"
          ]
        },
        {
          "output_type": "stream",
          "name": "stdout",
          "text": [
            "Current file size: 0.6943744421005249\n",
            "Done /content/drive/MyDrive/Datasets/Music-Noise/SNRdB_all-noise_features_2/SNRdB_-10-20/test/test-SNRdB_-10-20_20250319_153717.h5\n",
            "Free disk space: 152.66 GB\n",
            "Creating HDF5 file....\n"
          ]
        },
        {
          "output_type": "stream",
          "name": "stderr",
          "text": [
            "\rProcessing batches:  22%|██▏       | 83/384 [2:43:52<8:55:01, 106.65s/batch]"
          ]
        },
        {
          "output_type": "stream",
          "name": "stdout",
          "text": [
            "Current file size: 0.6943744421005249\n",
            "Done /content/drive/MyDrive/Datasets/Music-Noise/SNRdB_all-noise_features_2/SNRdB_-10-20/test/test-SNRdB_-10-20_20250319_153859.h5\n",
            "Free disk space: 152.64 GB\n",
            "Creating HDF5 file....\n"
          ]
        },
        {
          "output_type": "stream",
          "name": "stderr",
          "text": [
            "\rProcessing batches:  22%|██▏       | 84/384 [2:45:33<8:45:04, 105.02s/batch]"
          ]
        },
        {
          "output_type": "stream",
          "name": "stdout",
          "text": [
            "Current file size: 0.6943744421005249\n",
            "Done /content/drive/MyDrive/Datasets/Music-Noise/SNRdB_all-noise_features_2/SNRdB_-10-20/test/test-SNRdB_-10-20_20250319_154040.h5\n",
            "Free disk space: 152.65 GB\n",
            "Creating HDF5 file....\n",
            "Current file size: 0.6943744421005249\n",
            "Done /content/drive/MyDrive/Datasets/Music-Noise/SNRdB_all-noise_features_2/SNRdB_-10-20/test/test-SNRdB_-10-20_20250319_154222.h5\n"
          ]
        },
        {
          "output_type": "stream",
          "name": "stderr",
          "text": [
            "\rProcessing batches:  22%|██▏       | 85/384 [2:47:18<8:42:11, 104.79s/batch]"
          ]
        },
        {
          "output_type": "stream",
          "name": "stdout",
          "text": [
            "Free disk space: 152.73 GB\n",
            "Creating HDF5 file....\n",
            "Current file size: 0.6943744421005249\n",
            "Done /content/drive/MyDrive/Datasets/Music-Noise/SNRdB_all-noise_features_2/SNRdB_-10-20/test/test-SNRdB_-10-20_20250319_154405.h5\n"
          ]
        },
        {
          "output_type": "stream",
          "name": "stderr",
          "text": [
            "\rProcessing batches:  22%|██▏       | 86/384 [2:49:04<8:42:24, 105.18s/batch]"
          ]
        },
        {
          "output_type": "stream",
          "name": "stdout",
          "text": [
            "Free disk space: 152.75 GB\n",
            "Creating HDF5 file....\n"
          ]
        },
        {
          "output_type": "stream",
          "name": "stderr",
          "text": [
            "\rProcessing batches:  23%|██▎       | 87/384 [2:50:49<8:40:41, 105.19s/batch]"
          ]
        },
        {
          "output_type": "stream",
          "name": "stdout",
          "text": [
            "Current file size: 0.6943744421005249\n",
            "Done /content/drive/MyDrive/Datasets/Music-Noise/SNRdB_all-noise_features_2/SNRdB_-10-20/test/test-SNRdB_-10-20_20250319_154553.h5\n",
            "Free disk space: 152.79 GB\n",
            "Creating HDF5 file....\n"
          ]
        },
        {
          "output_type": "stream",
          "name": "stderr",
          "text": [
            "\rProcessing batches:  23%|██▎       | 88/384 [2:52:40<8:47:08, 106.85s/batch]"
          ]
        },
        {
          "output_type": "stream",
          "name": "stdout",
          "text": [
            "Current file size: 0.6943744421005249\n",
            "Done /content/drive/MyDrive/Datasets/Music-Noise/SNRdB_all-noise_features_2/SNRdB_-10-20/test/test-SNRdB_-10-20_20250319_154743.h5\n",
            "Free disk space: 152.79 GB\n",
            "Creating HDF5 file....\n"
          ]
        },
        {
          "output_type": "stream",
          "name": "stderr",
          "text": [
            "\rProcessing batches:  23%|██▎       | 89/384 [2:54:30<8:50:12, 107.84s/batch]"
          ]
        },
        {
          "output_type": "stream",
          "name": "stdout",
          "text": [
            "Current file size: 0.6943744421005249\n",
            "Done /content/drive/MyDrive/Datasets/Music-Noise/SNRdB_all-noise_features_2/SNRdB_-10-20/test/test-SNRdB_-10-20_20250319_154935.h5\n",
            "Free disk space: 152.76 GB\n",
            "Creating HDF5 file....\n",
            "Current file size: 0.6943744421005249\n",
            "Done /content/drive/MyDrive/Datasets/Music-Noise/SNRdB_all-noise_features_2/SNRdB_-10-20/test/test-SNRdB_-10-20_20250319_155117.h5\n",
            "Free disk space: 152.76 GB\n"
          ]
        },
        {
          "output_type": "stream",
          "name": "stderr",
          "text": [
            "\rProcessing batches:  23%|██▎       | 90/384 [2:56:17<8:47:39, 107.69s/batch]"
          ]
        },
        {
          "output_type": "stream",
          "name": "stdout",
          "text": [
            "Creating HDF5 file....\n"
          ]
        },
        {
          "output_type": "stream",
          "name": "stderr",
          "text": [
            "\rProcessing batches:  24%|██▎       | 91/384 [2:58:03<8:42:56, 107.09s/batch]"
          ]
        },
        {
          "output_type": "stream",
          "name": "stdout",
          "text": [
            "Current file size: 0.6943744421005249\n",
            "Done /content/drive/MyDrive/Datasets/Music-Noise/SNRdB_all-noise_features_2/SNRdB_-10-20/test/test-SNRdB_-10-20_20250319_155306.h5\n",
            "Free disk space: 152.78 GB\n",
            "Creating HDF5 file....\n"
          ]
        },
        {
          "output_type": "stream",
          "name": "stderr",
          "text": [
            "\rProcessing batches:  24%|██▍       | 92/384 [2:59:49<8:39:21, 106.72s/batch]"
          ]
        },
        {
          "output_type": "stream",
          "name": "stdout",
          "text": [
            "Current file size: 0.6943744421005249\n",
            "Done /content/drive/MyDrive/Datasets/Music-Noise/SNRdB_all-noise_features_2/SNRdB_-10-20/test/test-SNRdB_-10-20_20250319_155452.h5\n",
            "Free disk space: 152.75 GB\n",
            "Creating HDF5 file....\n"
          ]
        },
        {
          "output_type": "stream",
          "name": "stderr",
          "text": [
            "\rProcessing batches:  24%|██▍       | 93/384 [3:01:39<8:42:49, 107.80s/batch]"
          ]
        },
        {
          "output_type": "stream",
          "name": "stdout",
          "text": [
            "Current file size: 0.6943744421005249\n",
            "Done /content/drive/MyDrive/Datasets/Music-Noise/SNRdB_all-noise_features_2/SNRdB_-10-20/test/test-SNRdB_-10-20_20250319_155640.h5\n",
            "Free disk space: 152.78 GB\n",
            "Creating HDF5 file....\n"
          ]
        },
        {
          "output_type": "stream",
          "name": "stderr",
          "text": [
            "\rProcessing batches:  24%|██▍       | 94/384 [3:03:23<8:35:28, 106.65s/batch]"
          ]
        },
        {
          "output_type": "stream",
          "name": "stdout",
          "text": [
            "Current file size: 0.6943744421005249\n",
            "Done /content/drive/MyDrive/Datasets/Music-Noise/SNRdB_all-noise_features_2/SNRdB_-10-20/test/test-SNRdB_-10-20_20250319_155826.h5\n",
            "Free disk space: 152.75 GB\n",
            "Creating HDF5 file....\n"
          ]
        },
        {
          "output_type": "stream",
          "name": "stderr",
          "text": [
            "\rProcessing batches:  25%|██▍       | 95/384 [3:05:14<8:40:41, 108.10s/batch]"
          ]
        },
        {
          "output_type": "stream",
          "name": "stdout",
          "text": [
            "Current file size: 0.6943744421005249\n",
            "Done /content/drive/MyDrive/Datasets/Music-Noise/SNRdB_all-noise_features_2/SNRdB_-10-20/test/test-SNRdB_-10-20_20250319_160016.h5\n",
            "Free disk space: 152.72 GB\n",
            "Creating HDF5 file....\n"
          ]
        },
        {
          "output_type": "stream",
          "name": "stderr",
          "text": [
            "\rProcessing batches:  25%|██▌       | 96/384 [3:07:04<8:41:36, 108.67s/batch]"
          ]
        },
        {
          "output_type": "stream",
          "name": "stdout",
          "text": [
            "Current file size: 0.6943744421005249\n",
            "Done /content/drive/MyDrive/Datasets/Music-Noise/SNRdB_all-noise_features_2/SNRdB_-10-20/test/test-SNRdB_-10-20_20250319_160205.h5\n",
            "Free disk space: 152.71 GB\n",
            "Creating HDF5 file....\n",
            "Current file size: 0.6943744421005249\n",
            "Done /content/drive/MyDrive/Datasets/Music-Noise/SNRdB_all-noise_features_2/SNRdB_-10-20/test/test-SNRdB_-10-20_20250319_160352.h5\n"
          ]
        },
        {
          "output_type": "stream",
          "name": "stderr",
          "text": [
            "\rProcessing batches:  25%|██▌       | 97/384 [3:08:47<8:31:41, 106.97s/batch]"
          ]
        },
        {
          "output_type": "stream",
          "name": "stdout",
          "text": [
            "Free disk space: 152.69 GB\n",
            "Creating HDF5 file....\n"
          ]
        },
        {
          "output_type": "stream",
          "name": "stderr",
          "text": [
            "\rProcessing batches:  26%|██▌       | 98/384 [3:10:25<8:16:59, 104.26s/batch]"
          ]
        },
        {
          "output_type": "stream",
          "name": "stdout",
          "text": [
            "Current file size: 0.6943744421005249\n",
            "Done /content/drive/MyDrive/Datasets/Music-Noise/SNRdB_all-noise_features_2/SNRdB_-10-20/test/test-SNRdB_-10-20_20250319_160535.h5\n",
            "Free disk space: 152.71 GB\n",
            "Creating HDF5 file....\n"
          ]
        },
        {
          "output_type": "stream",
          "name": "stderr",
          "text": [
            "\rProcessing batches:  26%|██▌       | 99/384 [3:12:08<8:12:06, 103.60s/batch]"
          ]
        },
        {
          "output_type": "stream",
          "name": "stdout",
          "text": [
            "Current file size: 0.6943744421005249\n",
            "Done /content/drive/MyDrive/Datasets/Music-Noise/SNRdB_all-noise_features_2/SNRdB_-10-20/test/test-SNRdB_-10-20_20250319_160713.h5\n",
            "Free disk space: 152.68 GB\n",
            "Creating HDF5 file....\n",
            "Current file size: 0.6943744421005249\n",
            "Done /content/drive/MyDrive/Datasets/Music-Noise/SNRdB_all-noise_features_2/SNRdB_-10-20/test/test-SNRdB_-10-20_20250319_160856.h5\n"
          ]
        },
        {
          "output_type": "stream",
          "name": "stderr",
          "text": [
            "\rProcessing batches:  26%|██▌       | 100/384 [3:13:55<8:16:29, 104.89s/batch]"
          ]
        },
        {
          "output_type": "stream",
          "name": "stdout",
          "text": [
            "Free disk space: 152.65 GB\n",
            "Creating HDF5 file....\n"
          ]
        },
        {
          "output_type": "stream",
          "name": "stderr",
          "text": [
            "\rProcessing batches:  26%|██▋       | 101/384 [3:15:43<8:18:12, 105.63s/batch]"
          ]
        },
        {
          "output_type": "stream",
          "name": "stdout",
          "text": [
            "Current file size: 0.6943744421005249\n",
            "Done /content/drive/MyDrive/Datasets/Music-Noise/SNRdB_all-noise_features_2/SNRdB_-10-20/test/test-SNRdB_-10-20_20250319_161044.h5\n",
            "Free disk space: 152.69 GB\n",
            "Creating HDF5 file....\n"
          ]
        },
        {
          "output_type": "stream",
          "name": "stderr",
          "text": [
            "\rProcessing batches:  27%|██▋       | 102/384 [3:17:32<8:21:40, 106.74s/batch]"
          ]
        },
        {
          "output_type": "stream",
          "name": "stdout",
          "text": [
            "Current file size: 0.6943744421005249\n",
            "Done /content/drive/MyDrive/Datasets/Music-Noise/SNRdB_all-noise_features_2/SNRdB_-10-20/test/test-SNRdB_-10-20_20250319_161232.h5\n",
            "Free disk space: 152.72 GB\n",
            "Creating HDF5 file....\n"
          ]
        },
        {
          "output_type": "stream",
          "name": "stderr",
          "text": [
            "\rProcessing batches:  27%|██▋       | 103/384 [3:19:18<8:19:15, 106.60s/batch]"
          ]
        },
        {
          "output_type": "stream",
          "name": "stdout",
          "text": [
            "Current file size: 0.6943744421005249\n",
            "Done /content/drive/MyDrive/Datasets/Music-Noise/SNRdB_all-noise_features_2/SNRdB_-10-20/test/test-SNRdB_-10-20_20250319_161419.h5\n",
            "Free disk space: 152.75 GB\n",
            "Creating HDF5 file....\n"
          ]
        },
        {
          "output_type": "stream",
          "name": "stderr",
          "text": [
            "\rProcessing batches:  27%|██▋       | 104/384 [3:21:00<8:09:53, 104.98s/batch]"
          ]
        },
        {
          "output_type": "stream",
          "name": "stdout",
          "text": [
            "Current file size: 0.6943744421005249\n",
            "Done /content/drive/MyDrive/Datasets/Music-Noise/SNRdB_all-noise_features_2/SNRdB_-10-20/test/test-SNRdB_-10-20_20250319_161603.h5\n",
            "Free disk space: 152.76 GB\n",
            "Creating HDF5 file....\n"
          ]
        },
        {
          "output_type": "stream",
          "name": "stderr",
          "text": [
            "\rProcessing batches:  27%|██▋       | 105/384 [3:22:33<7:52:23, 101.59s/batch]"
          ]
        },
        {
          "output_type": "stream",
          "name": "stdout",
          "text": [
            "Current file size: 0.6943744421005249\n",
            "Done /content/drive/MyDrive/Datasets/Music-Noise/SNRdB_all-noise_features_2/SNRdB_-10-20/test/test-SNRdB_-10-20_20250319_161743.h5\n",
            "Free disk space: 152.73 GB\n",
            "Creating HDF5 file....\n"
          ]
        },
        {
          "output_type": "stream",
          "name": "stderr",
          "text": [
            "\rProcessing batches:  28%|██▊       | 106/384 [3:24:21<7:59:54, 103.58s/batch]"
          ]
        },
        {
          "output_type": "stream",
          "name": "stdout",
          "text": [
            "Current file size: 0.6943744421005249\n",
            "Done /content/drive/MyDrive/Datasets/Music-Noise/SNRdB_all-noise_features_2/SNRdB_-10-20/test/test-SNRdB_-10-20_20250319_161921.h5\n",
            "Free disk space: 152.77 GB\n",
            "Creating HDF5 file....\n"
          ]
        },
        {
          "output_type": "stream",
          "name": "stderr",
          "text": [
            "\rProcessing batches:  28%|██▊       | 107/384 [3:26:12<8:07:30, 105.60s/batch]"
          ]
        },
        {
          "output_type": "stream",
          "name": "stdout",
          "text": [
            "Current file size: 0.6943744421005249\n",
            "Done /content/drive/MyDrive/Datasets/Music-Noise/SNRdB_all-noise_features_2/SNRdB_-10-20/test/test-SNRdB_-10-20_20250319_162112.h5\n",
            "Free disk space: 152.74 GB\n",
            "Creating HDF5 file....\n"
          ]
        },
        {
          "output_type": "stream",
          "name": "stderr",
          "text": [
            "\rProcessing batches:  28%|██▊       | 108/384 [3:27:56<8:04:32, 105.34s/batch]"
          ]
        },
        {
          "output_type": "stream",
          "name": "stdout",
          "text": [
            "Current file size: 0.6943744421005249\n",
            "Done /content/drive/MyDrive/Datasets/Music-Noise/SNRdB_all-noise_features_2/SNRdB_-10-20/test/test-SNRdB_-10-20_20250319_162302.h5\n",
            "Free disk space: 152.74 GB\n",
            "Creating HDF5 file....\n"
          ]
        },
        {
          "output_type": "stream",
          "name": "stderr",
          "text": [
            "\rProcessing batches:  28%|██▊       | 109/384 [3:29:34<7:52:42, 103.14s/batch]"
          ]
        },
        {
          "output_type": "stream",
          "name": "stdout",
          "text": [
            "Current file size: 0.6943744421005249\n",
            "Done /content/drive/MyDrive/Datasets/Music-Noise/SNRdB_all-noise_features_2/SNRdB_-10-20/test/test-SNRdB_-10-20_20250319_162443.h5\n",
            "Free disk space: 152.74 GB\n",
            "Creating HDF5 file....\n"
          ]
        },
        {
          "output_type": "stream",
          "name": "stderr",
          "text": [
            "\rProcessing batches:  29%|██▊       | 110/384 [3:31:20<7:53:48, 103.75s/batch]"
          ]
        },
        {
          "output_type": "stream",
          "name": "stdout",
          "text": [
            "Current file size: 0.6943744421005249\n",
            "Done /content/drive/MyDrive/Datasets/Music-Noise/SNRdB_all-noise_features_2/SNRdB_-10-20/test/test-SNRdB_-10-20_20250319_162621.h5\n",
            "Free disk space: 152.74 GB\n",
            "Creating HDF5 file....\n"
          ]
        },
        {
          "output_type": "stream",
          "name": "stderr",
          "text": [
            "\rProcessing batches:  29%|██▉       | 111/384 [3:33:10<8:01:40, 105.86s/batch]"
          ]
        },
        {
          "output_type": "stream",
          "name": "stdout",
          "text": [
            "Current file size: 0.6943744421005249\n",
            "Done /content/drive/MyDrive/Datasets/Music-Noise/SNRdB_all-noise_features_2/SNRdB_-10-20/test/test-SNRdB_-10-20_20250319_162810.h5\n",
            "Free disk space: 152.73 GB\n",
            "Creating HDF5 file....\n"
          ]
        },
        {
          "output_type": "stream",
          "name": "stderr",
          "text": [
            "\rProcessing batches:  29%|██▉       | 112/384 [3:34:53<7:55:51, 104.97s/batch]"
          ]
        },
        {
          "output_type": "stream",
          "name": "stdout",
          "text": [
            "Current file size: 0.6943744421005249\n",
            "Done /content/drive/MyDrive/Datasets/Music-Noise/SNRdB_all-noise_features_2/SNRdB_-10-20/test/test-SNRdB_-10-20_20250319_163000.h5\n",
            "Free disk space: 152.73 GB\n",
            "Creating HDF5 file....\n"
          ]
        },
        {
          "output_type": "stream",
          "name": "stderr",
          "text": [
            "\rProcessing batches:  29%|██▉       | 113/384 [3:36:42<7:58:40, 105.98s/batch]"
          ]
        },
        {
          "output_type": "stream",
          "name": "stdout",
          "text": [
            "Current file size: 0.6943744421005249\n",
            "Done /content/drive/MyDrive/Datasets/Music-Noise/SNRdB_all-noise_features_2/SNRdB_-10-20/test/test-SNRdB_-10-20_20250319_163143.h5\n",
            "Free disk space: 152.71 GB\n",
            "Creating HDF5 file....\n"
          ]
        },
        {
          "output_type": "stream",
          "name": "stderr",
          "text": [
            "\rProcessing batches:  30%|██▉       | 114/384 [3:38:22<7:48:40, 104.15s/batch]"
          ]
        },
        {
          "output_type": "stream",
          "name": "stdout",
          "text": [
            "Current file size: 0.6943744421005249\n",
            "Done /content/drive/MyDrive/Datasets/Music-Noise/SNRdB_all-noise_features_2/SNRdB_-10-20/test/test-SNRdB_-10-20_20250319_163327.h5\n",
            "Free disk space: 152.67 GB\n",
            "Creating HDF5 file....\n",
            "Current file size: 0.6943744421005249\n",
            "Done /content/drive/MyDrive/Datasets/Music-Noise/SNRdB_all-noise_features_2/SNRdB_-10-20/test/test-SNRdB_-10-20_20250319_163508.h5\n"
          ]
        },
        {
          "output_type": "stream",
          "name": "stderr",
          "text": [
            "\rProcessing batches:  30%|██▉       | 115/384 [3:40:07<7:48:43, 104.55s/batch]"
          ]
        },
        {
          "output_type": "stream",
          "name": "stdout",
          "text": [
            "Free disk space: 152.64 GB\n",
            "Creating HDF5 file....\n"
          ]
        },
        {
          "output_type": "stream",
          "name": "stderr",
          "text": [
            "\rProcessing batches:  30%|███       | 116/384 [3:41:52<7:47:38, 104.70s/batch]"
          ]
        },
        {
          "output_type": "stream",
          "name": "stdout",
          "text": [
            "Current file size: 0.6943744421005249\n",
            "Done /content/drive/MyDrive/Datasets/Music-Noise/SNRdB_all-noise_features_2/SNRdB_-10-20/test/test-SNRdB_-10-20_20250319_163652.h5\n",
            "Free disk space: 152.61 GB\n",
            "Creating HDF5 file....\n"
          ]
        },
        {
          "output_type": "stream",
          "name": "stderr",
          "text": [
            "\rProcessing batches:  30%|███       | 117/384 [3:43:32<7:39:35, 103.28s/batch]"
          ]
        },
        {
          "output_type": "stream",
          "name": "stdout",
          "text": [
            "Current file size: 0.6943744421005249\n",
            "Done /content/drive/MyDrive/Datasets/Music-Noise/SNRdB_all-noise_features_2/SNRdB_-10-20/test/test-SNRdB_-10-20_20250319_163838.h5\n",
            "Free disk space: 152.67 GB\n",
            "Creating HDF5 file....\n"
          ]
        },
        {
          "output_type": "stream",
          "name": "stderr",
          "text": [
            "\rProcessing batches:  31%|███       | 118/384 [3:45:16<7:39:13, 103.58s/batch]"
          ]
        },
        {
          "output_type": "stream",
          "name": "stdout",
          "text": [
            "Current file size: 0.6943744421005249\n",
            "Done /content/drive/MyDrive/Datasets/Music-Noise/SNRdB_all-noise_features_2/SNRdB_-10-20/test/test-SNRdB_-10-20_20250319_164020.h5\n",
            "Free disk space: 152.75 GB\n",
            "Creating HDF5 file....\n"
          ]
        },
        {
          "output_type": "stream",
          "name": "stderr",
          "text": [
            "\rProcessing batches:  31%|███       | 119/384 [3:47:10<7:50:18, 106.48s/batch]"
          ]
        },
        {
          "output_type": "stream",
          "name": "stdout",
          "text": [
            "Current file size: 0.6943744421005249\n",
            "Done /content/drive/MyDrive/Datasets/Music-Noise/SNRdB_all-noise_features_2/SNRdB_-10-20/test/test-SNRdB_-10-20_20250319_164213.h5\n",
            "Free disk space: 152.71 GB\n",
            "Creating HDF5 file....\n"
          ]
        },
        {
          "output_type": "stream",
          "name": "stderr",
          "text": [
            "\rProcessing batches:  31%|███▏      | 120/384 [3:48:58<7:51:03, 107.06s/batch]"
          ]
        },
        {
          "output_type": "stream",
          "name": "stdout",
          "text": [
            "Current file size: 0.6943744421005249\n",
            "Done /content/drive/MyDrive/Datasets/Music-Noise/SNRdB_all-noise_features_2/SNRdB_-10-20/test/test-SNRdB_-10-20_20250319_164403.h5\n",
            "Free disk space: 152.69 GB\n",
            "Creating HDF5 file....\n"
          ]
        },
        {
          "output_type": "stream",
          "name": "stderr",
          "text": [
            "\rProcessing batches:  32%|███▏      | 121/384 [3:50:46<7:50:47, 107.40s/batch]"
          ]
        },
        {
          "output_type": "stream",
          "name": "stdout",
          "text": [
            "Current file size: 0.6943744421005249\n",
            "Done /content/drive/MyDrive/Datasets/Music-Noise/SNRdB_all-noise_features_2/SNRdB_-10-20/test/test-SNRdB_-10-20_20250319_164545.h5\n",
            "Free disk space: 152.66 GB\n",
            "Creating HDF5 file....\n"
          ]
        },
        {
          "output_type": "stream",
          "name": "stderr",
          "text": [
            "\rProcessing batches:  32%|███▏      | 122/384 [3:52:32<7:46:22, 106.80s/batch]"
          ]
        },
        {
          "output_type": "stream",
          "name": "stdout",
          "text": [
            "Current file size: 0.6943744421005249\n",
            "Done /content/drive/MyDrive/Datasets/Music-Noise/SNRdB_all-noise_features_2/SNRdB_-10-20/test/test-SNRdB_-10-20_20250319_164734.h5\n",
            "Free disk space: 152.63 GB\n",
            "Creating HDF5 file....\n"
          ]
        },
        {
          "output_type": "stream",
          "name": "stderr",
          "text": [
            "\rProcessing batches:  32%|███▏      | 123/384 [3:54:14<7:38:48, 105.47s/batch]"
          ]
        },
        {
          "output_type": "stream",
          "name": "stdout",
          "text": [
            "Current file size: 0.6943744421005249\n",
            "Done /content/drive/MyDrive/Datasets/Music-Noise/SNRdB_all-noise_features_2/SNRdB_-10-20/test/test-SNRdB_-10-20_20250319_164916.h5\n",
            "Free disk space: 152.63 GB\n",
            "Creating HDF5 file....\n"
          ]
        },
        {
          "output_type": "stream",
          "name": "stderr",
          "text": [
            "\rProcessing batches:  32%|███▏      | 124/384 [3:56:07<7:47:06, 107.79s/batch]"
          ]
        },
        {
          "output_type": "stream",
          "name": "stdout",
          "text": [
            "Current file size: 0.6943744421005249\n",
            "Done /content/drive/MyDrive/Datasets/Music-Noise/SNRdB_all-noise_features_2/SNRdB_-10-20/test/test-SNRdB_-10-20_20250319_165109.h5\n",
            "Free disk space: 152.60 GB\n",
            "Creating HDF5 file....\n"
          ]
        },
        {
          "output_type": "stream",
          "name": "stderr",
          "text": [
            "\rProcessing batches:  33%|███▎      | 125/384 [3:57:47<7:35:13, 105.46s/batch]"
          ]
        },
        {
          "output_type": "stream",
          "name": "stdout",
          "text": [
            "Current file size: 0.6943744421005249\n",
            "Done /content/drive/MyDrive/Datasets/Music-Noise/SNRdB_all-noise_features_2/SNRdB_-10-20/test/test-SNRdB_-10-20_20250319_165254.h5\n",
            "Free disk space: 152.59 GB\n",
            "Creating HDF5 file....\n"
          ]
        },
        {
          "output_type": "stream",
          "name": "stderr",
          "text": [
            "\rProcessing batches:  33%|███▎      | 126/384 [3:59:35<7:37:03, 106.29s/batch]"
          ]
        },
        {
          "output_type": "stream",
          "name": "stdout",
          "text": [
            "Current file size: 0.6943744421005249\n",
            "Done /content/drive/MyDrive/Datasets/Music-Noise/SNRdB_all-noise_features_2/SNRdB_-10-20/test/test-SNRdB_-10-20_20250319_165438.h5\n",
            "Free disk space: 152.63 GB\n",
            "Creating HDF5 file....\n"
          ]
        },
        {
          "output_type": "stream",
          "name": "stderr",
          "text": [
            "\rProcessing batches:  33%|███▎      | 127/384 [4:01:26<7:40:45, 107.57s/batch]"
          ]
        },
        {
          "output_type": "stream",
          "name": "stdout",
          "text": [
            "Current file size: 0.6943744421005249\n",
            "Done /content/drive/MyDrive/Datasets/Music-Noise/SNRdB_all-noise_features_2/SNRdB_-10-20/test/test-SNRdB_-10-20_20250319_165623.h5\n",
            "Free disk space: 152.64 GB\n",
            "Creating HDF5 file....\n"
          ]
        },
        {
          "output_type": "stream",
          "name": "stderr",
          "text": [
            "\rProcessing batches:  33%|███▎      | 128/384 [4:03:13<7:37:53, 107.32s/batch]"
          ]
        },
        {
          "output_type": "stream",
          "name": "stdout",
          "text": [
            "Current file size: 0.6943744421005249\n",
            "Done /content/drive/MyDrive/Datasets/Music-Noise/SNRdB_all-noise_features_2/SNRdB_-10-20/test/test-SNRdB_-10-20_20250319_165814.h5\n",
            "Free disk space: 152.61 GB\n",
            "Creating HDF5 file....\n"
          ]
        },
        {
          "output_type": "stream",
          "name": "stderr",
          "text": [
            "\rProcessing batches:  34%|███▎      | 129/384 [4:05:08<7:46:11, 109.69s/batch]"
          ]
        },
        {
          "output_type": "stream",
          "name": "stdout",
          "text": [
            "Current file size: 0.6943744421005249\n",
            "Done /content/drive/MyDrive/Datasets/Music-Noise/SNRdB_all-noise_features_2/SNRdB_-10-20/test/test-SNRdB_-10-20_20250319_170012.h5\n",
            "Free disk space: 152.67 GB\n",
            "Creating HDF5 file....\n",
            "Current file size: 0.6943744421005249\n",
            "Done /content/drive/MyDrive/Datasets/Music-Noise/SNRdB_all-noise_features_2/SNRdB_-10-20/test/test-SNRdB_-10-20_20250319_170157.h5\n"
          ]
        },
        {
          "output_type": "stream",
          "name": "stderr",
          "text": [
            "\rProcessing batches:  34%|███▍      | 130/384 [4:06:57<7:43:21, 109.45s/batch]"
          ]
        },
        {
          "output_type": "stream",
          "name": "stdout",
          "text": [
            "Free disk space: 152.71 GB\n",
            "Creating HDF5 file....\n"
          ]
        },
        {
          "output_type": "stream",
          "name": "stderr",
          "text": [
            "\rProcessing batches:  34%|███▍      | 131/384 [4:08:39<7:32:10, 107.24s/batch]"
          ]
        },
        {
          "output_type": "stream",
          "name": "stdout",
          "text": [
            "Current file size: 0.6943744421005249\n",
            "Done /content/drive/MyDrive/Datasets/Music-Noise/SNRdB_all-noise_features_2/SNRdB_-10-20/test/test-SNRdB_-10-20_20250319_170346.h5\n",
            "Free disk space: 152.70 GB\n",
            "Creating HDF5 file....\n"
          ]
        },
        {
          "output_type": "stream",
          "name": "stderr",
          "text": [
            "\rProcessing batches:  34%|███▍      | 132/384 [4:10:23<7:26:15, 106.25s/batch]"
          ]
        },
        {
          "output_type": "stream",
          "name": "stdout",
          "text": [
            "Current file size: 0.6943744421005249\n",
            "Done /content/drive/MyDrive/Datasets/Music-Noise/SNRdB_all-noise_features_2/SNRdB_-10-20/test/test-SNRdB_-10-20_20250319_170527.h5\n",
            "Free disk space: 152.70 GB\n",
            "Creating HDF5 file....\n",
            "Current file size: 0.6943744421005249\n",
            "Done /content/drive/MyDrive/Datasets/Music-Noise/SNRdB_all-noise_features_2/SNRdB_-10-20/test/test-SNRdB_-10-20_20250319_170711.h5\n"
          ]
        },
        {
          "output_type": "stream",
          "name": "stderr",
          "text": [
            "\rProcessing batches:  35%|███▍      | 133/384 [4:12:10<7:25:25, 106.47s/batch]"
          ]
        },
        {
          "output_type": "stream",
          "name": "stdout",
          "text": [
            "Free disk space: 152.71 GB\n",
            "Creating HDF5 file....\n"
          ]
        },
        {
          "output_type": "stream",
          "name": "stderr",
          "text": [
            "\rProcessing batches:  35%|███▍      | 134/384 [4:13:55<7:21:49, 106.04s/batch]"
          ]
        },
        {
          "output_type": "stream",
          "name": "stdout",
          "text": [
            "Current file size: 0.6943744421005249\n",
            "Done /content/drive/MyDrive/Datasets/Music-Noise/SNRdB_all-noise_features_2/SNRdB_-10-20/test/test-SNRdB_-10-20_20250319_170859.h5\n",
            "Free disk space: 152.70 GB\n",
            "Creating HDF5 file....\n"
          ]
        },
        {
          "output_type": "stream",
          "name": "stderr",
          "text": [
            "\rProcessing batches:  35%|███▌      | 135/384 [4:15:39<7:17:55, 105.52s/batch]"
          ]
        },
        {
          "output_type": "stream",
          "name": "stdout",
          "text": [
            "Current file size: 0.6943744421005249\n",
            "Done /content/drive/MyDrive/Datasets/Music-Noise/SNRdB_all-noise_features_2/SNRdB_-10-20/test/test-SNRdB_-10-20_20250319_171045.h5\n",
            "Free disk space: 152.67 GB\n",
            "Creating HDF5 file....\n"
          ]
        },
        {
          "output_type": "stream",
          "name": "stderr",
          "text": [
            "\rProcessing batches:  35%|███▌      | 136/384 [4:17:22<7:13:11, 104.80s/batch]"
          ]
        },
        {
          "output_type": "stream",
          "name": "stdout",
          "text": [
            "Current file size: 0.6943744421005249\n",
            "Done /content/drive/MyDrive/Datasets/Music-Noise/SNRdB_all-noise_features_2/SNRdB_-10-20/test/test-SNRdB_-10-20_20250319_171225.h5\n",
            "Free disk space: 152.68 GB\n",
            "Creating HDF5 file....\n"
          ]
        },
        {
          "output_type": "stream",
          "name": "stderr",
          "text": [
            "\rProcessing batches:  36%|███▌      | 137/384 [4:19:00<7:03:00, 102.75s/batch]"
          ]
        },
        {
          "output_type": "stream",
          "name": "stdout",
          "text": [
            "Current file size: 0.6943744421005249\n",
            "Done /content/drive/MyDrive/Datasets/Music-Noise/SNRdB_all-noise_features_2/SNRdB_-10-20/test/test-SNRdB_-10-20_20250319_171408.h5\n",
            "Free disk space: 152.67 GB\n",
            "Creating HDF5 file....\n"
          ]
        },
        {
          "output_type": "stream",
          "name": "stderr",
          "text": [
            "\rProcessing batches:  36%|███▌      | 138/384 [4:20:41<6:59:06, 102.22s/batch]"
          ]
        },
        {
          "output_type": "stream",
          "name": "stdout",
          "text": [
            "Current file size: 0.6943744421005249\n",
            "Done /content/drive/MyDrive/Datasets/Music-Noise/SNRdB_all-noise_features_2/SNRdB_-10-20/test/test-SNRdB_-10-20_20250319_171549.h5\n",
            "Free disk space: 152.65 GB\n",
            "Creating HDF5 file....\n"
          ]
        },
        {
          "output_type": "stream",
          "name": "stderr",
          "text": [
            "\rProcessing batches:  36%|███▌      | 139/384 [4:22:36<7:12:52, 106.01s/batch]"
          ]
        },
        {
          "output_type": "stream",
          "name": "stdout",
          "text": [
            "Current file size: 0.6943744421005249\n",
            "Done /content/drive/MyDrive/Datasets/Music-Noise/SNRdB_all-noise_features_2/SNRdB_-10-20/test/test-SNRdB_-10-20_20250319_171731.h5\n",
            "Free disk space: 152.73 GB\n",
            "Creating HDF5 file....\n"
          ]
        },
        {
          "output_type": "stream",
          "name": "stderr",
          "text": [
            "\rProcessing batches:  36%|███▋      | 140/384 [4:24:24<7:13:33, 106.61s/batch]"
          ]
        },
        {
          "output_type": "stream",
          "name": "stdout",
          "text": [
            "Current file size: 0.6943744421005249\n",
            "Done /content/drive/MyDrive/Datasets/Music-Noise/SNRdB_all-noise_features_2/SNRdB_-10-20/test/test-SNRdB_-10-20_20250319_171921.h5\n",
            "Free disk space: 152.71 GB\n",
            "Creating HDF5 file....\n"
          ]
        },
        {
          "output_type": "stream",
          "name": "stderr",
          "text": [
            "\rProcessing batches:  37%|███▋      | 141/384 [4:26:09<7:09:35, 106.07s/batch]"
          ]
        },
        {
          "output_type": "stream",
          "name": "stdout",
          "text": [
            "Current file size: 0.6943744421005249\n",
            "Done /content/drive/MyDrive/Datasets/Music-Noise/SNRdB_all-noise_features_2/SNRdB_-10-20/test/test-SNRdB_-10-20_20250319_172115.h5\n",
            "Free disk space: 152.69 GB\n",
            "Creating HDF5 file....\n"
          ]
        },
        {
          "output_type": "stream",
          "name": "stderr",
          "text": [
            "\rProcessing batches:  37%|███▋      | 142/384 [4:28:00<7:13:34, 107.50s/batch]"
          ]
        },
        {
          "output_type": "stream",
          "name": "stdout",
          "text": [
            "Current file size: 0.6943744421005249\n",
            "Done /content/drive/MyDrive/Datasets/Music-Noise/SNRdB_all-noise_features_2/SNRdB_-10-20/test/test-SNRdB_-10-20_20250319_172258.h5\n",
            "Free disk space: 152.73 GB\n",
            "Creating HDF5 file....\n"
          ]
        },
        {
          "output_type": "stream",
          "name": "stderr",
          "text": [
            "\rProcessing batches:  37%|███▋      | 143/384 [4:29:36<6:58:38, 104.23s/batch]"
          ]
        },
        {
          "output_type": "stream",
          "name": "stdout",
          "text": [
            "Current file size: 0.6943744421005249\n",
            "Done /content/drive/MyDrive/Datasets/Music-Noise/SNRdB_all-noise_features_2/SNRdB_-10-20/test/test-SNRdB_-10-20_20250319_172444.h5\n",
            "Free disk space: 152.71 GB\n",
            "Creating HDF5 file....\n"
          ]
        },
        {
          "output_type": "stream",
          "name": "stderr",
          "text": [
            "\rProcessing batches:  38%|███▊      | 144/384 [4:31:21<6:57:41, 104.42s/batch]"
          ]
        },
        {
          "output_type": "stream",
          "name": "stdout",
          "text": [
            "Current file size: 0.6943744421005249\n",
            "Done /content/drive/MyDrive/Datasets/Music-Noise/SNRdB_all-noise_features_2/SNRdB_-10-20/test/test-SNRdB_-10-20_20250319_172623.h5\n",
            "Free disk space: 152.71 GB\n",
            "Creating HDF5 file....\n"
          ]
        },
        {
          "output_type": "stream",
          "name": "stderr",
          "text": [
            "\rProcessing batches:  38%|███▊      | 145/384 [4:33:03<6:52:29, 103.56s/batch]"
          ]
        },
        {
          "output_type": "stream",
          "name": "stdout",
          "text": [
            "Current file size: 0.6943744421005249\n",
            "Done /content/drive/MyDrive/Datasets/Music-Noise/SNRdB_all-noise_features_2/SNRdB_-10-20/test/test-SNRdB_-10-20_20250319_172809.h5\n",
            "Free disk space: 152.73 GB\n",
            "Creating HDF5 file....\n",
            "Current file size: 0.6943744421005249\n",
            "Done /content/drive/MyDrive/Datasets/Music-Noise/SNRdB_all-noise_features_2/SNRdB_-10-20/test/test-SNRdB_-10-20_20250319_172946.h5\n"
          ]
        },
        {
          "output_type": "stream",
          "name": "stderr",
          "text": [
            "\rProcessing batches:  38%|███▊      | 146/384 [4:34:39<6:41:48, 101.29s/batch]"
          ]
        },
        {
          "output_type": "stream",
          "name": "stdout",
          "text": [
            "Free disk space: 152.69 GB\n",
            "Creating HDF5 file....\n"
          ]
        },
        {
          "output_type": "stream",
          "name": "stderr",
          "text": [
            "\rProcessing batches:  38%|███▊      | 147/384 [4:36:25<6:45:55, 102.76s/batch]"
          ]
        },
        {
          "output_type": "stream",
          "name": "stdout",
          "text": [
            "Current file size: 0.6943744421005249\n",
            "Done /content/drive/MyDrive/Datasets/Music-Noise/SNRdB_all-noise_features_2/SNRdB_-10-20/test/test-SNRdB_-10-20_20250319_173130.h5\n",
            "Free disk space: 152.66 GB\n",
            "Creating HDF5 file....\n"
          ]
        },
        {
          "output_type": "stream",
          "name": "stderr",
          "text": [
            "\rProcessing batches:  39%|███▊      | 148/384 [4:38:12<6:48:59, 103.98s/batch]"
          ]
        },
        {
          "output_type": "stream",
          "name": "stdout",
          "text": [
            "Current file size: 0.6943744421005249\n",
            "Done /content/drive/MyDrive/Datasets/Music-Noise/SNRdB_all-noise_features_2/SNRdB_-10-20/test/test-SNRdB_-10-20_20250319_173314.h5\n",
            "Free disk space: 152.67 GB\n",
            "Creating HDF5 file....\n",
            "Current file size: 0.6943744421005249\n",
            "Done /content/drive/MyDrive/Datasets/Music-Noise/SNRdB_all-noise_features_2/SNRdB_-10-20/test/test-SNRdB_-10-20_20250319_173458.h5\n"
          ]
        },
        {
          "output_type": "stream",
          "name": "stderr",
          "text": [
            "\rProcessing batches:  39%|███▉      | 149/384 [4:40:02<6:55:00, 105.96s/batch]"
          ]
        },
        {
          "output_type": "stream",
          "name": "stdout",
          "text": [
            "Free disk space: 152.74 GB\n",
            "Creating HDF5 file....\n"
          ]
        },
        {
          "output_type": "stream",
          "name": "stderr",
          "text": [
            "\rProcessing batches:  39%|███▉      | 150/384 [4:41:46<6:50:38, 105.29s/batch]"
          ]
        },
        {
          "output_type": "stream",
          "name": "stdout",
          "text": [
            "Current file size: 0.6943744421005249\n",
            "Done /content/drive/MyDrive/Datasets/Music-Noise/SNRdB_all-noise_features_2/SNRdB_-10-20/test/test-SNRdB_-10-20_20250319_173650.h5\n",
            "Free disk space: 152.71 GB\n",
            "Creating HDF5 file....\n"
          ]
        },
        {
          "output_type": "stream",
          "name": "stderr",
          "text": [
            "\rProcessing batches:  39%|███▉      | 151/384 [4:43:40<6:58:39, 107.81s/batch]"
          ]
        },
        {
          "output_type": "stream",
          "name": "stdout",
          "text": [
            "Current file size: 0.6943744421005249\n",
            "Done /content/drive/MyDrive/Datasets/Music-Noise/SNRdB_all-noise_features_2/SNRdB_-10-20/test/test-SNRdB_-10-20_20250319_173836.h5\n",
            "Free disk space: 152.71 GB\n",
            "Creating HDF5 file....\n"
          ]
        },
        {
          "output_type": "stream",
          "name": "stderr",
          "text": [
            "\rProcessing batches:  40%|███▉      | 152/384 [4:45:18<6:46:12, 105.05s/batch]"
          ]
        },
        {
          "output_type": "stream",
          "name": "stdout",
          "text": [
            "Current file size: 0.6943744421005249\n",
            "Done /content/drive/MyDrive/Datasets/Music-Noise/SNRdB_all-noise_features_2/SNRdB_-10-20/test/test-SNRdB_-10-20_20250319_174026.h5\n",
            "Free disk space: 152.69 GB\n",
            "Creating HDF5 file....\n"
          ]
        },
        {
          "output_type": "stream",
          "name": "stderr",
          "text": [
            "\rProcessing batches:  40%|███▉      | 153/384 [4:47:17<7:00:00, 109.09s/batch]"
          ]
        },
        {
          "output_type": "stream",
          "name": "stdout",
          "text": [
            "Current file size: 0.6943744421005249\n",
            "Done /content/drive/MyDrive/Datasets/Music-Noise/SNRdB_all-noise_features_2/SNRdB_-10-20/test/test-SNRdB_-10-20_20250319_174217.h5\n",
            "Free disk space: 152.66 GB\n",
            "Creating HDF5 file....\n"
          ]
        },
        {
          "output_type": "stream",
          "name": "stderr",
          "text": [
            "\rProcessing batches:  40%|████      | 154/384 [4:49:05<6:57:11, 108.83s/batch]"
          ]
        },
        {
          "output_type": "stream",
          "name": "stdout",
          "text": [
            "Current file size: 0.6943744421005249\n",
            "Done /content/drive/MyDrive/Datasets/Music-Noise/SNRdB_all-noise_features_2/SNRdB_-10-20/test/test-SNRdB_-10-20_20250319_174401.h5\n",
            "Free disk space: 152.64 GB\n",
            "Creating HDF5 file....\n",
            "Current file size: 0.6943744421005249\n",
            "Done /content/drive/MyDrive/Datasets/Music-Noise/SNRdB_all-noise_features_2/SNRdB_-10-20/test/test-SNRdB_-10-20_20250319_174550.h5\n"
          ]
        },
        {
          "output_type": "stream",
          "name": "stderr",
          "text": [
            "\rProcessing batches:  40%|████      | 155/384 [4:50:45<6:44:44, 106.05s/batch]"
          ]
        },
        {
          "output_type": "stream",
          "name": "stdout",
          "text": [
            "Free disk space: 152.62 GB\n",
            "Creating HDF5 file....\n"
          ]
        },
        {
          "output_type": "stream",
          "name": "stderr",
          "text": [
            "\rProcessing batches:  41%|████      | 156/384 [4:52:25<6:36:19, 104.30s/batch]"
          ]
        },
        {
          "output_type": "stream",
          "name": "stdout",
          "text": [
            "Current file size: 0.6943744421005249\n",
            "Done /content/drive/MyDrive/Datasets/Music-Noise/SNRdB_all-noise_features_2/SNRdB_-10-20/test/test-SNRdB_-10-20_20250319_174730.h5\n",
            "Free disk space: 152.64 GB\n",
            "Creating HDF5 file....\n"
          ]
        },
        {
          "output_type": "stream",
          "name": "stderr",
          "text": [
            "\rProcessing batches:  41%|████      | 157/384 [4:54:07<6:31:56, 103.60s/batch]"
          ]
        },
        {
          "output_type": "stream",
          "name": "stdout",
          "text": [
            "Current file size: 0.6943744421005249\n",
            "Done /content/drive/MyDrive/Datasets/Music-Noise/SNRdB_all-noise_features_2/SNRdB_-10-20/test/test-SNRdB_-10-20_20250319_174910.h5\n",
            "Free disk space: 152.68 GB\n",
            "Creating HDF5 file....\n"
          ]
        },
        {
          "output_type": "stream",
          "name": "stderr",
          "text": [
            "\rProcessing batches:  41%|████      | 158/384 [4:55:55<6:35:15, 104.94s/batch]"
          ]
        },
        {
          "output_type": "stream",
          "name": "stdout",
          "text": [
            "Current file size: 0.6943744421005249\n",
            "Done /content/drive/MyDrive/Datasets/Music-Noise/SNRdB_all-noise_features_2/SNRdB_-10-20/test/test-SNRdB_-10-20_20250319_175101.h5\n",
            "Free disk space: 152.68 GB\n",
            "Creating HDF5 file....\n"
          ]
        },
        {
          "output_type": "stream",
          "name": "stderr",
          "text": [
            "\rProcessing batches:  41%|████▏     | 159/384 [4:57:43<6:36:53, 105.84s/batch]"
          ]
        },
        {
          "output_type": "stream",
          "name": "stdout",
          "text": [
            "Current file size: 0.6943744421005249\n",
            "Done /content/drive/MyDrive/Datasets/Music-Noise/SNRdB_all-noise_features_2/SNRdB_-10-20/test/test-SNRdB_-10-20_20250319_175246.h5\n",
            "Free disk space: 152.67 GB\n",
            "Creating HDF5 file....\n"
          ]
        },
        {
          "output_type": "stream",
          "name": "stderr",
          "text": [
            "\rProcessing batches:  42%|████▏     | 160/384 [4:59:24<6:30:16, 104.54s/batch]"
          ]
        },
        {
          "output_type": "stream",
          "name": "stdout",
          "text": [
            "Current file size: 0.6943744421005249\n",
            "Done /content/drive/MyDrive/Datasets/Music-Noise/SNRdB_all-noise_features_2/SNRdB_-10-20/test/test-SNRdB_-10-20_20250319_175429.h5\n",
            "Free disk space: 152.67 GB\n",
            "Creating HDF5 file....\n"
          ]
        },
        {
          "output_type": "stream",
          "name": "stderr",
          "text": [
            "\rProcessing batches:  42%|████▏     | 161/384 [5:01:08<6:27:11, 104.18s/batch]"
          ]
        },
        {
          "output_type": "stream",
          "name": "stdout",
          "text": [
            "Current file size: 0.6943744421005249\n",
            "Done /content/drive/MyDrive/Datasets/Music-Noise/SNRdB_all-noise_features_2/SNRdB_-10-20/test/test-SNRdB_-10-20_20250319_175612.h5\n",
            "Free disk space: 152.71 GB\n",
            "Creating HDF5 file....\n"
          ]
        },
        {
          "output_type": "stream",
          "name": "stderr",
          "text": [
            "\rProcessing batches:  42%|████▏     | 162/384 [5:02:53<6:26:21, 104.42s/batch]"
          ]
        },
        {
          "output_type": "stream",
          "name": "stdout",
          "text": [
            "Current file size: 0.6943744421005249\n",
            "Done /content/drive/MyDrive/Datasets/Music-Noise/SNRdB_all-noise_features_2/SNRdB_-10-20/test/test-SNRdB_-10-20_20250319_175759.h5\n",
            "Free disk space: 152.72 GB\n",
            "Creating HDF5 file....\n"
          ]
        },
        {
          "output_type": "stream",
          "name": "stderr",
          "text": [
            "\rProcessing batches:  42%|████▏     | 163/384 [5:04:36<6:22:55, 103.96s/batch]"
          ]
        },
        {
          "output_type": "stream",
          "name": "stdout",
          "text": [
            "Current file size: 0.6943744421005249\n",
            "Done /content/drive/MyDrive/Datasets/Music-Noise/SNRdB_all-noise_features_2/SNRdB_-10-20/test/test-SNRdB_-10-20_20250319_175937.h5\n",
            "Free disk space: 152.68 GB\n",
            "Creating HDF5 file....\n"
          ]
        },
        {
          "output_type": "stream",
          "name": "stderr",
          "text": [
            "\rProcessing batches:  43%|████▎     | 164/384 [5:06:24<6:25:41, 105.19s/batch]"
          ]
        },
        {
          "output_type": "stream",
          "name": "stdout",
          "text": [
            "Current file size: 0.6943744421005249\n",
            "Done /content/drive/MyDrive/Datasets/Music-Noise/SNRdB_all-noise_features_2/SNRdB_-10-20/test/test-SNRdB_-10-20_20250319_180128.h5\n",
            "Free disk space: 152.67 GB\n",
            "Creating HDF5 file....\n",
            "Current file size: 0.6943744421005249\n",
            "Done /content/drive/MyDrive/Datasets/Music-Noise/SNRdB_all-noise_features_2/SNRdB_-10-20/test/test-SNRdB_-10-20_20250319_180314.h5\n"
          ]
        },
        {
          "output_type": "stream",
          "name": "stderr",
          "text": [
            "\rProcessing batches:  43%|████▎     | 165/384 [5:08:09<6:23:50, 105.16s/batch]"
          ]
        },
        {
          "output_type": "stream",
          "name": "stdout",
          "text": [
            "Free disk space: 152.73 GB\n",
            "Creating HDF5 file....\n"
          ]
        },
        {
          "output_type": "stream",
          "name": "stderr",
          "text": [
            "\rProcessing batches:  43%|████▎     | 166/384 [5:10:01<6:30:03, 107.35s/batch]"
          ]
        },
        {
          "output_type": "stream",
          "name": "stdout",
          "text": [
            "Current file size: 0.6943744421005249\n",
            "Done /content/drive/MyDrive/Datasets/Music-Noise/SNRdB_all-noise_features_2/SNRdB_-10-20/test/test-SNRdB_-10-20_20250319_180457.h5\n",
            "Free disk space: 152.71 GB\n",
            "Creating HDF5 file....\n"
          ]
        },
        {
          "output_type": "stream",
          "name": "stderr",
          "text": [
            "\rProcessing batches:  43%|████▎     | 167/384 [5:11:38<6:16:42, 104.16s/batch]"
          ]
        },
        {
          "output_type": "stream",
          "name": "stdout",
          "text": [
            "Current file size: 0.6943744421005249\n",
            "Done /content/drive/MyDrive/Datasets/Music-Noise/SNRdB_all-noise_features_2/SNRdB_-10-20/test/test-SNRdB_-10-20_20250319_180647.h5\n",
            "Free disk space: 152.68 GB\n",
            "Creating HDF5 file....\n"
          ]
        },
        {
          "output_type": "stream",
          "name": "stderr",
          "text": [
            "\rProcessing batches:  44%|████▍     | 168/384 [5:13:22<6:15:13, 104.23s/batch]"
          ]
        },
        {
          "output_type": "stream",
          "name": "stdout",
          "text": [
            "Current file size: 0.6943744421005249\n",
            "Done /content/drive/MyDrive/Datasets/Music-Noise/SNRdB_all-noise_features_2/SNRdB_-10-20/test/test-SNRdB_-10-20_20250319_180826.h5\n",
            "Free disk space: 152.64 GB\n",
            "Creating HDF5 file....\n"
          ]
        },
        {
          "output_type": "stream",
          "name": "stderr",
          "text": [
            "\rProcessing batches:  44%|████▍     | 169/384 [5:15:15<6:22:25, 106.72s/batch]"
          ]
        },
        {
          "output_type": "stream",
          "name": "stdout",
          "text": [
            "Current file size: 0.6943744421005249\n",
            "Done /content/drive/MyDrive/Datasets/Music-Noise/SNRdB_all-noise_features_2/SNRdB_-10-20/test/test-SNRdB_-10-20_20250319_181012.h5\n",
            "Free disk space: 152.63 GB\n",
            "Creating HDF5 file....\n"
          ]
        },
        {
          "output_type": "stream",
          "name": "stderr",
          "text": [
            "\rProcessing batches:  44%|████▍     | 170/384 [5:17:00<6:18:30, 106.12s/batch]"
          ]
        },
        {
          "output_type": "stream",
          "name": "stdout",
          "text": [
            "Current file size: 0.6943744421005249\n",
            "Done /content/drive/MyDrive/Datasets/Music-Noise/SNRdB_all-noise_features_2/SNRdB_-10-20/test/test-SNRdB_-10-20_20250319_181205.h5\n",
            "Free disk space: 152.62 GB\n",
            "Creating HDF5 file....\n"
          ]
        },
        {
          "output_type": "stream",
          "name": "stderr",
          "text": [
            "\rProcessing batches:  45%|████▍     | 171/384 [5:18:53<6:24:30, 108.31s/batch]"
          ]
        },
        {
          "output_type": "stream",
          "name": "stdout",
          "text": [
            "Current file size: 0.6943744421005249\n",
            "Done /content/drive/MyDrive/Datasets/Music-Noise/SNRdB_all-noise_features_2/SNRdB_-10-20/test/test-SNRdB_-10-20_20250319_181354.h5\n",
            "Free disk space: 152.67 GB\n",
            "Creating HDF5 file....\n",
            "Current file size: 0.6943744421005249\n",
            "Done /content/drive/MyDrive/Datasets/Music-Noise/SNRdB_all-noise_features_2/SNRdB_-10-20/test/test-SNRdB_-10-20_20250319_181541.h5\n",
            "Free disk space: 152.71 GB\n"
          ]
        },
        {
          "output_type": "stream",
          "name": "stderr",
          "text": [
            "\rProcessing batches:  45%|████▍     | 172/384 [5:20:42<6:23:10, 108.44s/batch]"
          ]
        },
        {
          "output_type": "stream",
          "name": "stdout",
          "text": [
            "Creating HDF5 file....\n"
          ]
        },
        {
          "output_type": "stream",
          "name": "stderr",
          "text": [
            "\rProcessing batches:  45%|████▌     | 173/384 [5:22:29<6:20:09, 108.10s/batch]"
          ]
        },
        {
          "output_type": "stream",
          "name": "stdout",
          "text": [
            "Current file size: 0.6943744421005249\n",
            "Done /content/drive/MyDrive/Datasets/Music-Noise/SNRdB_all-noise_features_2/SNRdB_-10-20/test/test-SNRdB_-10-20_20250319_181732.h5\n",
            "Free disk space: 152.70 GB\n",
            "Creating HDF5 file....\n"
          ]
        },
        {
          "output_type": "stream",
          "name": "stderr",
          "text": [
            "\rProcessing batches:  45%|████▌     | 174/384 [5:24:12<6:12:43, 106.49s/batch]"
          ]
        },
        {
          "output_type": "stream",
          "name": "stdout",
          "text": [
            "Current file size: 0.6943744421005249\n",
            "Done /content/drive/MyDrive/Datasets/Music-Noise/SNRdB_all-noise_features_2/SNRdB_-10-20/test/test-SNRdB_-10-20_20250319_181915.h5\n",
            "Free disk space: 152.69 GB\n",
            "Creating HDF5 file....\n"
          ]
        },
        {
          "output_type": "stream",
          "name": "stderr",
          "text": [
            "\rProcessing batches:  46%|████▌     | 175/384 [5:25:53<6:05:18, 104.87s/batch]"
          ]
        },
        {
          "output_type": "stream",
          "name": "stdout",
          "text": [
            "Current file size: 0.6943744421005249\n",
            "Done /content/drive/MyDrive/Datasets/Music-Noise/SNRdB_all-noise_features_2/SNRdB_-10-20/test/test-SNRdB_-10-20_20250319_182058.h5\n",
            "Free disk space: 152.70 GB\n",
            "Creating HDF5 file....\n"
          ]
        },
        {
          "output_type": "stream",
          "name": "stderr",
          "text": [
            "\rProcessing batches:  46%|████▌     | 176/384 [5:27:50<6:16:26, 108.59s/batch]"
          ]
        },
        {
          "output_type": "stream",
          "name": "stdout",
          "text": [
            "Current file size: 0.6943744421005249\n",
            "Done /content/drive/MyDrive/Datasets/Music-Noise/SNRdB_all-noise_features_2/SNRdB_-10-20/test/test-SNRdB_-10-20_20250319_182254.h5\n",
            "Free disk space: 152.78 GB\n",
            "Creating HDF5 file....\n",
            "Current file size: 0.6943744421005249\n",
            "Done /content/drive/MyDrive/Datasets/Music-Noise/SNRdB_all-noise_features_2/SNRdB_-10-20/test/test-SNRdB_-10-20_20250319_182441.h5\n"
          ]
        },
        {
          "output_type": "stream",
          "name": "stderr",
          "text": [
            "\rProcessing batches:  46%|████▌     | 177/384 [5:29:35<6:10:34, 107.41s/batch]"
          ]
        },
        {
          "output_type": "stream",
          "name": "stdout",
          "text": [
            "Free disk space: 152.76 GB\n",
            "Creating HDF5 file....\n"
          ]
        },
        {
          "output_type": "stream",
          "name": "stderr",
          "text": [
            "\rProcessing batches:  46%|████▋     | 178/384 [5:31:19<6:05:46, 106.54s/batch]"
          ]
        },
        {
          "output_type": "stream",
          "name": "stdout",
          "text": [
            "Current file size: 0.6943744421005249\n",
            "Done /content/drive/MyDrive/Datasets/Music-Noise/SNRdB_all-noise_features_2/SNRdB_-10-20/test/test-SNRdB_-10-20_20250319_182622.h5\n",
            "Free disk space: 152.77 GB\n",
            "Creating HDF5 file....\n",
            "Current file size: 0.6943744421005249\n",
            "Done /content/drive/MyDrive/Datasets/Music-Noise/SNRdB_all-noise_features_2/SNRdB_-10-20/test/test-SNRdB_-10-20_20250319_182804.h5\n"
          ]
        },
        {
          "output_type": "stream",
          "name": "stderr",
          "text": [
            "\rProcessing batches:  47%|████▋     | 179/384 [5:32:57<5:55:22, 104.01s/batch]"
          ]
        },
        {
          "output_type": "stream",
          "name": "stdout",
          "text": [
            "Free disk space: 152.73 GB\n",
            "Creating HDF5 file....\n"
          ]
        },
        {
          "output_type": "stream",
          "name": "stderr",
          "text": [
            "\rProcessing batches:  47%|████▋     | 180/384 [5:34:40<5:52:14, 103.60s/batch]"
          ]
        },
        {
          "output_type": "stream",
          "name": "stdout",
          "text": [
            "Current file size: 0.6943744421005249\n",
            "Done /content/drive/MyDrive/Datasets/Music-Noise/SNRdB_all-noise_features_2/SNRdB_-10-20/test/test-SNRdB_-10-20_20250319_182943.h5\n",
            "Free disk space: 152.70 GB\n",
            "Creating HDF5 file....\n"
          ]
        },
        {
          "output_type": "stream",
          "name": "stderr",
          "text": [
            "\rProcessing batches:  47%|████▋     | 181/384 [5:36:25<5:51:57, 104.03s/batch]"
          ]
        },
        {
          "output_type": "stream",
          "name": "stdout",
          "text": [
            "Current file size: 0.6943744421005249\n",
            "Done /content/drive/MyDrive/Datasets/Music-Noise/SNRdB_all-noise_features_2/SNRdB_-10-20/test/test-SNRdB_-10-20_20250319_183133.h5\n",
            "Free disk space: 152.69 GB\n",
            "Creating HDF5 file....\n"
          ]
        },
        {
          "output_type": "stream",
          "name": "stderr",
          "text": [
            "\rProcessing batches:  47%|████▋     | 182/384 [5:38:08<5:48:42, 103.57s/batch]"
          ]
        },
        {
          "output_type": "stream",
          "name": "stdout",
          "text": [
            "Current file size: 0.6943744421005249\n",
            "Done /content/drive/MyDrive/Datasets/Music-Noise/SNRdB_all-noise_features_2/SNRdB_-10-20/test/test-SNRdB_-10-20_20250319_183310.h5\n",
            "Free disk space: 152.66 GB\n",
            "Creating HDF5 file....\n"
          ]
        },
        {
          "output_type": "stream",
          "name": "stderr",
          "text": [
            "\rProcessing batches:  48%|████▊     | 183/384 [5:39:50<5:46:10, 103.34s/batch]"
          ]
        },
        {
          "output_type": "stream",
          "name": "stdout",
          "text": [
            "Current file size: 0.6943744421005249\n",
            "Done /content/drive/MyDrive/Datasets/Music-Noise/SNRdB_all-noise_features_2/SNRdB_-10-20/test/test-SNRdB_-10-20_20250319_183453.h5\n",
            "Free disk space: 152.64 GB\n",
            "Creating HDF5 file....\n"
          ]
        },
        {
          "output_type": "stream",
          "name": "stderr",
          "text": [
            "\rProcessing batches:  48%|████▊     | 184/384 [5:41:34<5:44:12, 103.26s/batch]"
          ]
        },
        {
          "output_type": "stream",
          "name": "stdout",
          "text": [
            "Current file size: 0.6943744421005249\n",
            "Done /content/drive/MyDrive/Datasets/Music-Noise/SNRdB_all-noise_features_2/SNRdB_-10-20/test/test-SNRdB_-10-20_20250319_183640.h5\n",
            "Free disk space: 152.61 GB\n",
            "Creating HDF5 file....\n"
          ]
        },
        {
          "output_type": "stream",
          "name": "stderr",
          "text": [
            "\rProcessing batches:  48%|████▊     | 185/384 [5:43:22<5:48:09, 104.97s/batch]"
          ]
        },
        {
          "output_type": "stream",
          "name": "stdout",
          "text": [
            "Current file size: 0.6943744421005249\n",
            "Done /content/drive/MyDrive/Datasets/Music-Noise/SNRdB_all-noise_features_2/SNRdB_-10-20/test/test-SNRdB_-10-20_20250319_183819.h5\n",
            "Free disk space: 152.62 GB\n",
            "Creating HDF5 file....\n"
          ]
        },
        {
          "output_type": "stream",
          "name": "stderr",
          "text": [
            "\rProcessing batches:  48%|████▊     | 186/384 [5:45:05<5:43:45, 104.17s/batch]"
          ]
        },
        {
          "output_type": "stream",
          "name": "stdout",
          "text": [
            "Current file size: 0.6943744421005249\n",
            "Done /content/drive/MyDrive/Datasets/Music-Noise/SNRdB_all-noise_features_2/SNRdB_-10-20/test/test-SNRdB_-10-20_20250319_184010.h5\n",
            "Free disk space: 152.58 GB\n",
            "Creating HDF5 file....\n"
          ]
        },
        {
          "output_type": "stream",
          "name": "stderr",
          "text": [
            "\rProcessing batches:  49%|████▊     | 187/384 [5:46:53<5:46:01, 105.39s/batch]"
          ]
        },
        {
          "output_type": "stream",
          "name": "stdout",
          "text": [
            "Current file size: 0.6943744421005249\n",
            "Done /content/drive/MyDrive/Datasets/Music-Noise/SNRdB_all-noise_features_2/SNRdB_-10-20/test/test-SNRdB_-10-20_20250319_184156.h5\n",
            "Free disk space: 152.59 GB\n",
            "Creating HDF5 file....\n"
          ]
        },
        {
          "output_type": "stream",
          "name": "stderr",
          "text": [
            "\rProcessing batches:  49%|████▉     | 188/384 [5:48:34<5:39:37, 103.97s/batch]"
          ]
        },
        {
          "output_type": "stream",
          "name": "stdout",
          "text": [
            "Current file size: 0.6943744421005249\n",
            "Done /content/drive/MyDrive/Datasets/Music-Noise/SNRdB_all-noise_features_2/SNRdB_-10-20/test/test-SNRdB_-10-20_20250319_184341.h5\n",
            "Free disk space: 152.58 GB\n",
            "Creating HDF5 file....\n"
          ]
        },
        {
          "output_type": "stream",
          "name": "stderr",
          "text": [
            "\rProcessing batches:  49%|████▉     | 189/384 [5:50:16<5:36:05, 103.41s/batch]"
          ]
        },
        {
          "output_type": "stream",
          "name": "stdout",
          "text": [
            "Current file size: 0.6943744421005249\n",
            "Done /content/drive/MyDrive/Datasets/Music-Noise/SNRdB_all-noise_features_2/SNRdB_-10-20/test/test-SNRdB_-10-20_20250319_184518.h5\n",
            "Free disk space: 152.65 GB\n",
            "Creating HDF5 file....\n"
          ]
        },
        {
          "output_type": "stream",
          "name": "stderr",
          "text": [
            "\rProcessing batches:  49%|████▉     | 190/384 [5:52:01<5:35:55, 103.89s/batch]"
          ]
        },
        {
          "output_type": "stream",
          "name": "stdout",
          "text": [
            "Current file size: 0.6943744421005249\n",
            "Done /content/drive/MyDrive/Datasets/Music-Noise/SNRdB_all-noise_features_2/SNRdB_-10-20/test/test-SNRdB_-10-20_20250319_184702.h5\n",
            "Free disk space: 152.66 GB\n",
            "Creating HDF5 file....\n"
          ]
        },
        {
          "output_type": "stream",
          "name": "stderr",
          "text": [
            "\rProcessing batches:  50%|████▉     | 191/384 [5:53:50<5:39:08, 105.43s/batch]"
          ]
        },
        {
          "output_type": "stream",
          "name": "stdout",
          "text": [
            "Current file size: 0.6943744421005249\n",
            "Done /content/drive/MyDrive/Datasets/Music-Noise/SNRdB_all-noise_features_2/SNRdB_-10-20/test/test-SNRdB_-10-20_20250319_184851.h5\n",
            "Free disk space: 152.69 GB\n",
            "Creating HDF5 file....\n"
          ]
        },
        {
          "output_type": "stream",
          "name": "stderr",
          "text": [
            "\rProcessing batches:  50%|█████     | 192/384 [5:55:36<5:38:19, 105.73s/batch]"
          ]
        },
        {
          "output_type": "stream",
          "name": "stdout",
          "text": [
            "Current file size: 0.6943744421005249\n",
            "Done /content/drive/MyDrive/Datasets/Music-Noise/SNRdB_all-noise_features_2/SNRdB_-10-20/test/test-SNRdB_-10-20_20250319_185035.h5\n",
            "Free disk space: 152.71 GB\n",
            "Creating HDF5 file....\n"
          ]
        },
        {
          "output_type": "stream",
          "name": "stderr",
          "text": [
            "\rProcessing batches:  50%|█████     | 193/384 [5:57:25<5:39:24, 106.62s/batch]"
          ]
        },
        {
          "output_type": "stream",
          "name": "stdout",
          "text": [
            "Current file size: 0.6943744421005249\n",
            "Done /content/drive/MyDrive/Datasets/Music-Noise/SNRdB_all-noise_features_2/SNRdB_-10-20/test/test-SNRdB_-10-20_20250319_185231.h5\n",
            "Free disk space: 152.77 GB\n",
            "Creating HDF5 file....\n"
          ]
        },
        {
          "output_type": "stream",
          "name": "stderr",
          "text": [
            "\rProcessing batches:  51%|█████     | 194/384 [5:59:14<5:39:55, 107.34s/batch]"
          ]
        },
        {
          "output_type": "stream",
          "name": "stdout",
          "text": [
            "Current file size: 0.6943744421005249\n",
            "Done /content/drive/MyDrive/Datasets/Music-Noise/SNRdB_all-noise_features_2/SNRdB_-10-20/test/test-SNRdB_-10-20_20250319_185412.h5\n",
            "Free disk space: 152.76 GB\n",
            "Creating HDF5 file....\n"
          ]
        },
        {
          "output_type": "stream",
          "name": "stderr",
          "text": [
            "\rProcessing batches:  51%|█████     | 195/384 [6:01:00<5:37:21, 107.10s/batch]"
          ]
        },
        {
          "output_type": "stream",
          "name": "stdout",
          "text": [
            "Current file size: 0.6943744421005249\n",
            "Done /content/drive/MyDrive/Datasets/Music-Noise/SNRdB_all-noise_features_2/SNRdB_-10-20/test/test-SNRdB_-10-20_20250319_185602.h5\n",
            "Free disk space: 152.74 GB\n"
          ]
        }
      ]
    },
    {
      "cell_type": "markdown",
      "metadata": {
        "id": "94FmdzEmqaTE"
      },
      "source": [
        "---"
      ]
    },
    {
      "cell_type": "markdown",
      "metadata": {
        "id": "0nQ8wGyTqaTE"
      },
      "source": []
    }
  ],
  "metadata": {
    "kernelspec": {
      "display_name": "Python 3",
      "name": "python3"
    },
    "language_info": {
      "codemirror_mode": {
        "name": "ipython",
        "version": 3
      },
      "file_extension": ".py",
      "mimetype": "text/x-python",
      "name": "python",
      "nbconvert_exporter": "python",
      "pygments_lexer": "ipython3",
      "version": "3.11.3"
    },
    "colab": {
      "provenance": []
    }
  },
  "nbformat": 4,
  "nbformat_minor": 0
}